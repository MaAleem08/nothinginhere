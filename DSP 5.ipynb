{
 "cells": [
  {
   "cell_type": "code",
   "execution_count": 2,
   "id": "1e1f8ae0",
   "metadata": {},
   "outputs": [
    {
     "data": {
      "text/html": [
       "<div>\n",
       "<style scoped>\n",
       "    .dataframe tbody tr th:only-of-type {\n",
       "        vertical-align: middle;\n",
       "    }\n",
       "\n",
       "    .dataframe tbody tr th {\n",
       "        vertical-align: top;\n",
       "    }\n",
       "\n",
       "    .dataframe thead th {\n",
       "        text-align: right;\n",
       "    }\n",
       "</style>\n",
       "<table border=\"1\" class=\"dataframe\">\n",
       "  <thead>\n",
       "    <tr style=\"text-align: right;\">\n",
       "      <th></th>\n",
       "      <th>CRIM</th>\n",
       "      <th>ZN</th>\n",
       "      <th>INDUS</th>\n",
       "      <th>CHAS</th>\n",
       "      <th>NX</th>\n",
       "      <th>RM</th>\n",
       "      <th>AGE</th>\n",
       "      <th>DIS</th>\n",
       "      <th>RAD</th>\n",
       "      <th>TAX</th>\n",
       "      <th>PTRATIO</th>\n",
       "      <th>B</th>\n",
       "      <th>LSTAT</th>\n",
       "      <th>MEDV</th>\n",
       "    </tr>\n",
       "  </thead>\n",
       "  <tbody>\n",
       "    <tr>\n",
       "      <th>0</th>\n",
       "      <td>0.00632</td>\n",
       "      <td>18.0</td>\n",
       "      <td>2.31</td>\n",
       "      <td>0</td>\n",
       "      <td>0.538</td>\n",
       "      <td>6.575</td>\n",
       "      <td>65.2</td>\n",
       "      <td>4.0900</td>\n",
       "      <td>1</td>\n",
       "      <td>296</td>\n",
       "      <td>15.3</td>\n",
       "      <td>396.90</td>\n",
       "      <td>4.98</td>\n",
       "      <td>24.0</td>\n",
       "    </tr>\n",
       "    <tr>\n",
       "      <th>1</th>\n",
       "      <td>0.02731</td>\n",
       "      <td>0.0</td>\n",
       "      <td>7.07</td>\n",
       "      <td>0</td>\n",
       "      <td>0.469</td>\n",
       "      <td>6.421</td>\n",
       "      <td>78.9</td>\n",
       "      <td>4.9671</td>\n",
       "      <td>2</td>\n",
       "      <td>242</td>\n",
       "      <td>17.8</td>\n",
       "      <td>396.90</td>\n",
       "      <td>9.14</td>\n",
       "      <td>21.6</td>\n",
       "    </tr>\n",
       "    <tr>\n",
       "      <th>2</th>\n",
       "      <td>0.02729</td>\n",
       "      <td>0.0</td>\n",
       "      <td>7.07</td>\n",
       "      <td>0</td>\n",
       "      <td>0.469</td>\n",
       "      <td>7.185</td>\n",
       "      <td>61.1</td>\n",
       "      <td>4.9671</td>\n",
       "      <td>2</td>\n",
       "      <td>242</td>\n",
       "      <td>17.8</td>\n",
       "      <td>392.83</td>\n",
       "      <td>4.03</td>\n",
       "      <td>34.7</td>\n",
       "    </tr>\n",
       "    <tr>\n",
       "      <th>3</th>\n",
       "      <td>0.03237</td>\n",
       "      <td>0.0</td>\n",
       "      <td>2.18</td>\n",
       "      <td>0</td>\n",
       "      <td>0.458</td>\n",
       "      <td>6.998</td>\n",
       "      <td>45.8</td>\n",
       "      <td>6.0622</td>\n",
       "      <td>3</td>\n",
       "      <td>222</td>\n",
       "      <td>18.7</td>\n",
       "      <td>394.63</td>\n",
       "      <td>2.94</td>\n",
       "      <td>33.4</td>\n",
       "    </tr>\n",
       "    <tr>\n",
       "      <th>4</th>\n",
       "      <td>0.06905</td>\n",
       "      <td>0.0</td>\n",
       "      <td>2.18</td>\n",
       "      <td>0</td>\n",
       "      <td>0.458</td>\n",
       "      <td>7.147</td>\n",
       "      <td>54.2</td>\n",
       "      <td>6.0622</td>\n",
       "      <td>3</td>\n",
       "      <td>222</td>\n",
       "      <td>18.7</td>\n",
       "      <td>396.90</td>\n",
       "      <td>5.33</td>\n",
       "      <td>36.2</td>\n",
       "    </tr>\n",
       "  </tbody>\n",
       "</table>\n",
       "</div>"
      ],
      "text/plain": [
       "      CRIM    ZN  INDUS  CHAS     NX     RM   AGE     DIS  RAD  TAX  PTRATIO  \\\n",
       "0  0.00632  18.0   2.31     0  0.538  6.575  65.2  4.0900    1  296     15.3   \n",
       "1  0.02731   0.0   7.07     0  0.469  6.421  78.9  4.9671    2  242     17.8   \n",
       "2  0.02729   0.0   7.07     0  0.469  7.185  61.1  4.9671    2  242     17.8   \n",
       "3  0.03237   0.0   2.18     0  0.458  6.998  45.8  6.0622    3  222     18.7   \n",
       "4  0.06905   0.0   2.18     0  0.458  7.147  54.2  6.0622    3  222     18.7   \n",
       "\n",
       "        B  LSTAT  MEDV  \n",
       "0  396.90   4.98  24.0  \n",
       "1  396.90   9.14  21.6  \n",
       "2  392.83   4.03  34.7  \n",
       "3  394.63   2.94  33.4  \n",
       "4  396.90   5.33  36.2  "
      ]
     },
     "execution_count": 2,
     "metadata": {},
     "output_type": "execute_result"
    }
   ],
   "source": [
    "# importing the file\n",
    "import pandas as pd\n",
    "\n",
    "df_ = pd.read_csv(\"boston.csv\")\n",
    "df_.head(5)"
   ]
  },
  {
   "cell_type": "code",
   "execution_count": 3,
   "id": "f8d02033",
   "metadata": {
    "collapsed": true
   },
   "outputs": [
    {
     "name": "stdout",
     "output_type": "stream",
     "text": [
      "[[6.3200e-03 1.8000e+01 2.3100e+00 ... 1.5300e+01 3.9690e+02 4.9800e+00]\n",
      " [2.7310e-02 0.0000e+00 7.0700e+00 ... 1.7800e+01 3.9690e+02 9.1400e+00]\n",
      " [2.7290e-02 0.0000e+00 7.0700e+00 ... 1.7800e+01 3.9283e+02 4.0300e+00]\n",
      " ...\n",
      " [6.0760e-02 0.0000e+00 1.1930e+01 ... 2.1000e+01 3.9690e+02 5.6400e+00]\n",
      " [1.0959e-01 0.0000e+00 1.1930e+01 ... 2.1000e+01 3.9345e+02 6.4800e+00]\n",
      " [4.7410e-02 0.0000e+00 1.1930e+01 ... 2.1000e+01 3.9690e+02 7.8800e+00]]\n",
      "[24.  21.6 34.7 33.4 36.2 28.7 22.9 27.1 16.5 18.9 15.  18.9 21.7 20.4\n",
      " 18.2 19.9 23.1 17.5 20.2 18.2 13.6 19.6 15.2 14.5 15.6 13.9 16.6 14.8\n",
      " 18.4 21.  12.7 14.5 13.2 13.1 13.5 18.9 20.  21.  24.7 30.8 34.9 26.6\n",
      " 25.3 24.7 21.2 19.3 20.  16.6 14.4 19.4 19.7 20.5 25.  23.4 18.9 35.4\n",
      " 24.7 31.6 23.3 19.6 18.7 16.  22.2 25.  33.  23.5 19.4 22.  17.4 20.9\n",
      " 24.2 21.7 22.8 23.4 24.1 21.4 20.  20.8 21.2 20.3 28.  23.9 24.8 22.9\n",
      " 23.9 26.6 22.5 22.2 23.6 28.7 22.6 22.  22.9 25.  20.6 28.4 21.4 38.7\n",
      " 43.8 33.2 27.5 26.5 18.6 19.3 20.1 19.5 19.5 20.4 19.8 19.4 21.7 22.8\n",
      " 18.8 18.7 18.5 18.3 21.2 19.2 20.4 19.3 22.  20.3 20.5 17.3 18.8 21.4\n",
      " 15.7 16.2 18.  14.3 19.2 19.6 23.  18.4 15.6 18.1 17.4 17.1 13.3 17.8\n",
      " 14.  14.4 13.4 15.6 11.8 13.8 15.6 14.6 17.8 15.4 21.5 19.6 15.3 19.4\n",
      " 17.  15.6 13.1 41.3 24.3 23.3 27.  50.  50.  50.  22.7 25.  50.  23.8\n",
      " 23.8 22.3 17.4 19.1 23.1 23.6 22.6 29.4 23.2 24.6 29.9 37.2 39.8 36.2\n",
      " 37.9 32.5 26.4 29.6 50.  32.  29.8 34.9 37.  30.5 36.4 31.1 29.1 50.\n",
      " 33.3 30.3 34.6 34.9 32.9 24.1 42.3 48.5 50.  22.6 24.4 22.5 24.4 20.\n",
      " 21.7 19.3 22.4 28.1 23.7 25.  23.3 28.7 21.5 23.  26.7 21.7 27.5 30.1\n",
      " 44.8 50.  37.6 31.6 46.7 31.5 24.3 31.7 41.7 48.3 29.  24.  25.1 31.5\n",
      " 23.7 23.3 22.  20.1 22.2 23.7 17.6 18.5 24.3 20.5 24.5 26.2 24.4 24.8\n",
      " 29.6 42.8 21.9 20.9 44.  50.  36.  30.1 33.8 43.1 48.8 31.  36.5 22.8\n",
      " 30.7 50.  43.5 20.7 21.1 25.2 24.4 35.2 32.4 32.  33.2 33.1 29.1 35.1\n",
      " 45.4 35.4 46.  50.  32.2 22.  20.1 23.2 22.3 24.8 28.5 37.3 27.9 23.9\n",
      " 21.7 28.6 27.1 20.3 22.5 29.  24.8 22.  26.4 33.1 36.1 28.4 33.4 28.2\n",
      " 22.8 20.3 16.1 22.1 19.4 21.6 23.8 16.2 17.8 19.8 23.1 21.  23.8 23.1\n",
      " 20.4 18.5 25.  24.6 23.  22.2 19.3 22.6 19.8 17.1 19.4 22.2 20.7 21.1\n",
      " 19.5 18.5 20.6 19.  18.7 32.7 16.5 23.9 31.2 17.5 17.2 23.1 24.5 26.6\n",
      " 22.9 24.1 18.6 30.1 18.2 20.6 17.8 21.7 22.7 22.6 25.  19.9 20.8 16.8\n",
      " 21.9 27.5 21.9 23.1 50.  50.  50.  50.  50.  13.8 13.8 15.  13.9 13.3\n",
      " 13.1 10.2 10.4 10.9 11.3 12.3  8.8  7.2 10.5  7.4 10.2 11.5 15.1 23.2\n",
      "  9.7 13.8 12.7 13.1 12.5  8.5  5.   6.3  5.6  7.2 12.1  8.3  8.5  5.\n",
      " 11.9 27.9 17.2 27.5 15.  17.2 17.9 16.3  7.   7.2  7.5 10.4  8.8  8.4\n",
      " 16.7 14.2 20.8 13.4 11.7  8.3 10.2 10.9 11.   9.5 14.5 14.1 16.1 14.3\n",
      " 11.7 13.4  9.6  8.7  8.4 12.8 10.5 17.1 18.4 15.4 10.8 11.8 14.9 12.6\n",
      " 14.1 13.  13.4 15.2 16.1 17.8 14.9 14.1 12.7 13.5 14.9 20.  16.4 17.7\n",
      " 19.5 20.2 21.4 19.9 19.  19.1 19.1 20.1 19.9 19.6 23.2 29.8 13.8 13.3\n",
      " 16.7 12.  14.6 21.4 23.  23.7 25.  21.8 20.6 21.2 19.1 20.6 15.2  7.\n",
      "  8.1 13.6 20.1 21.8 24.5 23.1 19.7 18.3 21.2 17.5 16.8 22.4 20.6 23.9\n",
      " 22.  11.9]\n"
     ]
    }
   ],
   "source": [
    "# creating two sets of data x , y \n",
    "# we used ' .values ' because sklearn doesnt woork with dataframes , so we turned dataframe to array\n",
    "x = df_.drop(\"MEDV\",axis=1).values\n",
    "y = df_[\"MEDV\"].values\n",
    "print(x)\n",
    "print(y)"
   ]
  },
  {
   "cell_type": "code",
   "execution_count": 4,
   "id": "6e36e442",
   "metadata": {},
   "outputs": [],
   "source": [
    "from sklearn.model_selection import train_test_split as tts\n",
    "\n",
    "# train data and test data\n",
    "\n",
    "x_train,x_test,y_train,y_test = tts(x,y,test_size = 0.3,random_state = 3)"
   ]
  },
  {
   "cell_type": "code",
   "execution_count": 5,
   "id": "402b52a2",
   "metadata": {},
   "outputs": [
    {
     "name": "stdout",
     "output_type": "stream",
     "text": [
      "(354, 13)\n",
      "(354,)\n",
      "(152, 13)\n",
      "(152,)\n"
     ]
    }
   ],
   "source": [
    "print(x_train.shape)\n",
    "print(y_train.shape)\n",
    "print(x_test.shape)\n",
    "print(y_test.shape)"
   ]
  },
  {
   "cell_type": "code",
   "execution_count": 6,
   "id": "1d10758b",
   "metadata": {},
   "outputs": [
    {
     "data": {
      "text/plain": [
       "array([38.01528515, 19.33275099, 23.42815334, 32.45798656, 24.88381158,\n",
       "       23.05871157, 19.92072666,  6.04534385, 20.98855587, 17.59511583,\n",
       "       12.23335034, 32.4672859 , 36.29698894, 30.70130549,  6.84957368,\n",
       "       10.86025291, 23.50492483, 15.09167866, 12.90084747, 29.54045973,\n",
       "       27.67059179, 36.04108386, 27.14556882, 23.40188801, 13.92689893,\n",
       "       24.85961767, 20.82589624, 17.80154922, 19.95946937, 24.19978769,\n",
       "       14.94714158, 34.11652732, 22.16730968, 19.14532281, 18.60598488,\n",
       "       17.77100438, 22.04566941, 32.75402644, 16.46191962, 22.21145662,\n",
       "       17.24126301, 10.4605279 , 25.07955816, 17.8958002 , 25.39844642,\n",
       "       26.00687176, 26.2086724 , 17.47724343, 28.35025849, 20.65564879,\n",
       "       23.78906008, 20.24903174, 38.14875113, 18.31290641, 24.95664125,\n",
       "       10.57573588, 36.40017019, 16.27237297, 31.29406913, 20.1514513 ,\n",
       "       24.05647151, 23.00571838, 32.38752186, 33.5869344 , 20.91776625,\n",
       "       25.53685926, 34.17118495, 24.08201497, 28.45266299, 29.68885967,\n",
       "       24.16492049, 27.2521617 , 20.53125301, 31.14868787, 11.61889758,\n",
       "       23.05830343, 25.66526017, 26.11982905, 23.44752037, 20.29570676,\n",
       "       27.23161651, 20.33821099,  8.14338639, 19.92556494, 26.72344541,\n",
       "       14.039287  , 26.61488979, 14.97453712, 21.46598069, 25.54665708,\n",
       "       20.26054866, 20.74238767, 21.71628679, 39.42281387, 30.37744749,\n",
       "       15.95216731, 42.39360141, 15.94847885, 23.50429817, 35.14640481,\n",
       "       23.78928185, 23.42051928, 14.97201267, 23.44685262, 33.71310113,\n",
       "       11.52746212, 20.873818  ,  9.51642191, 21.23604095, 35.3571045 ,\n",
       "       19.08810923, 18.65250276, 15.767495  , 25.54387054, 25.14894667,\n",
       "       19.68365666, 32.58818258, 29.42792809, 19.1842195 , 28.39404714,\n",
       "       13.50592767,  6.71131308, 20.00313658, 21.71264196, 14.15925417,\n",
       "       18.70300791, 19.17728487, 31.7379664 , 12.69389786, 22.34029704,\n",
       "       26.19007706, 39.62443587, 18.24913238, 30.7884208 , 21.68458052,\n",
       "       16.26632548, 25.27475389,  9.03722443, 18.646262  , 28.53183674,\n",
       "        8.65830028, 29.11760766, 25.60560863, 21.7291522 ,  0.11937487,\n",
       "       40.73780923, 17.86675536, 24.20503183, 18.88804892, 18.80700405,\n",
       "       14.12421179, 26.37049459])"
      ]
     },
     "execution_count": 6,
     "metadata": {},
     "output_type": "execute_result"
    }
   ],
   "source": [
    "# building a linear regressioion model\n",
    "\n",
    "from sklearn.linear_model import LinearRegression as lr_\n",
    "\n",
    "linreg = lr_()\n",
    "\n",
    "linreg.fit(x_train,y_train)\n",
    "\n",
    "y_pred = linreg.predict(x_test)\n",
    "\n",
    "y_pred"
   ]
  },
  {
   "cell_type": "code",
   "execution_count": 7,
   "id": "f5074f60",
   "metadata": {},
   "outputs": [
    {
     "data": {
      "text/plain": [
       "0.714789526557686"
      ]
     },
     "execution_count": 7,
     "metadata": {},
     "output_type": "execute_result"
    }
   ],
   "source": [
    "# this show the percentage of accuracy of model\n",
    "linreg.score(x_test,y_test)"
   ]
  },
  {
   "cell_type": "code",
   "execution_count": 8,
   "id": "2eab3a32",
   "metadata": {},
   "outputs": [
    {
     "data": {
      "text/plain": [
       "22.43193607073744"
      ]
     },
     "execution_count": 8,
     "metadata": {},
     "output_type": "execute_result"
    }
   ],
   "source": [
    "# finding how much the 29 percent differ from original\n",
    "# mse (mean squared error)\n",
    "from sklearn.metrics import mean_squared_error\n",
    "\n",
    "mse = mean_squared_error(y_test,y_pred)\n",
    "mse"
   ]
  },
  {
   "cell_type": "code",
   "execution_count": 9,
   "id": "4660a750",
   "metadata": {},
   "outputs": [
    {
     "data": {
      "text/plain": [
       "4.736236488050131"
      ]
     },
     "execution_count": 9,
     "metadata": {},
     "output_type": "execute_result"
    }
   ],
   "source": [
    "# calculating root mean square\n",
    "from math import sqrt\n",
    "rmse = sqrt(mse)\n",
    "rmse  # the rms value sows how much predicted value differs from the actual"
   ]
  },
  {
   "cell_type": "code",
   "execution_count": 13,
   "id": "ecdb39c4",
   "metadata": {},
   "outputs": [
    {
     "data": {
      "image/png": "[encoded data removed]",
      "text/plain": [
       "<Figure size 640x480 with 1 Axes>"
      ]
     },
     "metadata": {},
     "output_type": "display_data"
    }
   ],
   "source": [
    "import numpy as np\n",
    "import matplotlib.pyplot as plt\n",
    "\n",
    "plt.scatter(y_test,y_pred,color='b')\n",
    "\n",
    "n = np.polyfit(y_test,y_pred,1)\n",
    "p = np.poly1d(n)\n",
    "\n",
    "plt.plot(y_test,p(y_test),'r')\n",
    "\n",
    "plt.show()"
   ]
  },
  {
   "cell_type": "code",
   "execution_count": 14,
   "id": "9ee045bc",
   "metadata": {},
   "outputs": [
    {
     "data": {
      "text/plain": [
       "poly1d([0.73531189, 6.22444761])"
      ]
     },
     "execution_count": 14,
     "metadata": {},
     "output_type": "execute_result"
    }
   ],
   "source": [
    "p"
   ]
  },
  {
   "cell_type": "markdown",
   "id": "0355195e",
   "metadata": {},
   "source": [
    "# Logistics regression"
   ]
  },
  {
   "cell_type": "code",
   "execution_count": 15,
   "id": "aa7db51d",
   "metadata": {
    "scrolled": true
   },
   "outputs": [
    {
     "data": {
      "text/html": [
       "<div>\n",
       "<style scoped>\n",
       "    .dataframe tbody tr th:only-of-type {\n",
       "        vertical-align: middle;\n",
       "    }\n",
       "\n",
       "    .dataframe tbody tr th {\n",
       "        vertical-align: top;\n",
       "    }\n",
       "\n",
       "    .dataframe thead th {\n",
       "        text-align: right;\n",
       "    }\n",
       "</style>\n",
       "<table border=\"1\" class=\"dataframe\">\n",
       "  <thead>\n",
       "    <tr style=\"text-align: right;\">\n",
       "      <th></th>\n",
       "      <th>Pregnancies</th>\n",
       "      <th>Glucose</th>\n",
       "      <th>BloodPressure</th>\n",
       "      <th>SkinThickness</th>\n",
       "      <th>Insulin</th>\n",
       "      <th>BMI</th>\n",
       "      <th>DiabetesPedigreeFunction</th>\n",
       "      <th>Age</th>\n",
       "      <th>Outcome</th>\n",
       "    </tr>\n",
       "  </thead>\n",
       "  <tbody>\n",
       "    <tr>\n",
       "      <th>0</th>\n",
       "      <td>6</td>\n",
       "      <td>148</td>\n",
       "      <td>72</td>\n",
       "      <td>35</td>\n",
       "      <td>0</td>\n",
       "      <td>33.6</td>\n",
       "      <td>0.627</td>\n",
       "      <td>50</td>\n",
       "      <td>1</td>\n",
       "    </tr>\n",
       "    <tr>\n",
       "      <th>1</th>\n",
       "      <td>1</td>\n",
       "      <td>85</td>\n",
       "      <td>66</td>\n",
       "      <td>29</td>\n",
       "      <td>0</td>\n",
       "      <td>26.6</td>\n",
       "      <td>0.351</td>\n",
       "      <td>31</td>\n",
       "      <td>0</td>\n",
       "    </tr>\n",
       "  </tbody>\n",
       "</table>\n",
       "</div>"
      ],
      "text/plain": [
       "   Pregnancies  Glucose  BloodPressure  SkinThickness  Insulin   BMI  \\\n",
       "0            6      148             72             35        0  33.6   \n",
       "1            1       85             66             29        0  26.6   \n",
       "\n",
       "   DiabetesPedigreeFunction  Age  Outcome  \n",
       "0                     0.627   50        1  \n",
       "1                     0.351   31        0  "
      ]
     },
     "execution_count": 15,
     "metadata": {},
     "output_type": "execute_result"
    }
   ],
   "source": [
    "import pandas as pd\n",
    "\n",
    "df = pd.read_csv('pima-indians-diabetes.csv')\n",
    "df.head(2)"
   ]
  },
  {
   "cell_type": "code",
   "execution_count": 92,
   "id": "404aa9c8",
   "metadata": {},
   "outputs": [
    {
     "data": {
      "text/plain": [
       "0      1\n",
       "1      0\n",
       "2      1\n",
       "3      0\n",
       "4      1\n",
       "      ..\n",
       "763    0\n",
       "764    0\n",
       "765    0\n",
       "766    1\n",
       "767    0\n",
       "Name: Outcome, Length: 768, dtype: int64"
      ]
     },
     "execution_count": 92,
     "metadata": {},
     "output_type": "execute_result"
    }
   ],
   "source": [
    "df.Outcome"
   ]
  },
  {
   "cell_type": "code",
   "execution_count": 97,
   "id": "0a433c2d",
   "metadata": {
    "scrolled": false
   },
   "outputs": [
    {
     "name": "stdout",
     "output_type": "stream",
     "text": [
      "[[100  19]\n",
      " [ 36  37]]\n",
      "              precision    recall  f1-score   support\n",
      "\n",
      "           0       0.74      0.84      0.78       119\n",
      "           1       0.66      0.51      0.57        73\n",
      "\n",
      "    accuracy                           0.71       192\n",
      "   macro avg       0.70      0.67      0.68       192\n",
      "weighted avg       0.71      0.71      0.70       192\n",
      "\n",
      "0.7135416666666666\n"
     ]
    },
    {
     "name": "stderr",
     "output_type": "stream",
     "text": [
      "C:\\ProgramData\\Anaconda3\\lib\\site-packages\\sklearn\\linear_model\\_logistic.py:814: ConvergenceWarning: lbfgs failed to converge (status=1):\n",
      "STOP: TOTAL NO. of ITERATIONS REACHED LIMIT.\n",
      "\n",
      "Increase the number of iterations (max_iter) or scale the data as shown in:\n",
      "    https://scikit-learn.org/stable/modules/preprocessing.html\n",
      "Please also refer to the documentation for alternative solver options:\n",
      "    https://scikit-learn.org/stable/modules/linear_model.html#logistic-regression\n",
      "  n_iter_i = _check_optimize_result(\n"
     ]
    }
   ],
   "source": [
    "x = df.drop('Outcome',axis = 1).values\n",
    "#  or deselect the columns that do not have any effect on the analysis ( skin thickness , diabetic pedegreee function)\n",
    "\n",
    "y = df['Outcome'].values\n",
    "\n",
    "# split data into train and test\n",
    "from sklearn.model_selection import train_test_split\n",
    "x_train,x_test,y_train,y_test = train_test_split(x,y,test_size=0.25,random_state=40)\n",
    "\n",
    "\n",
    "from sklearn.linear_model import LogisticRegression\n",
    "\n",
    "logreg = LogisticRegression(random_state = 1354)\n",
    "\n",
    "logreg.fit(x_train,y_train)\n",
    "\n",
    "y_pred = logreg.predict(x_test)\n",
    "\n",
    "# checking the accuray using confusion matrix and classification report\n",
    "from sklearn.metrics import confusion_matrix , classification_report ,accuracy_score\n",
    "\n",
    "cm = confusion_matrix(y_test , y_pred)\n",
    "\n",
    "cr = classification_report(y_test, y_pred)\n",
    "\n",
    "acc = accuracy_score(y_test, y_pred)\n",
    "\n",
    "print(cm)\n",
    "print(cr)\n",
    "print(acc)"
   ]
  },
  {
   "cell_type": "code",
   "execution_count": 102,
   "id": "50ad0436",
   "metadata": {},
   "outputs": [
    {
     "name": "stdout",
     "output_type": "stream",
     "text": [
      "0.7395833333333334\n"
     ]
    }
   ],
   "source": [
    "from sklearn.tree import DecisionTreeClassifier\n",
    "\n",
    "dtree = DecisionTreeClassifier(random_state = 12345)\n",
    "dtree.fit(x_train  , y_train)\n",
    "\n",
    "y_pred = dtree.predict(x_test)\n",
    "\n",
    "accuracy = accuracy_score(y_test, y_pred)\n",
    "\n",
    "print(accuracy)"
   ]
  },
  {
   "cell_type": "code",
   "execution_count": 107,
   "id": "b756f446",
   "metadata": {},
   "outputs": [
    {
     "name": "stdout",
     "output_type": "stream",
     "text": [
      "train accuracy  100.0 \n",
      "\n",
      "test accuracy 76.04166666666666\n"
     ]
    }
   ],
   "source": [
    "from sklearn.ensemble import RandomForestClassifier\n",
    "\n",
    "# calling model\n",
    "rf_model = RandomForestClassifier(random_state = 12345)\n",
    "\n",
    "#fiting the model with train data\n",
    "rf_model.fit(x_train , y_train)\n",
    "\n",
    "# predicting on train data\n",
    "y_pred_train = rf_model.predict(x_train)\n",
    "\n",
    "# predicting on test data\n",
    "y_pred_test = rf_model.predict(x_test)\n",
    "\n",
    "# finding acuracy on predictions made on train and test data\n",
    "acc_train = accuracy_score(y_train, y_pred_train)\n",
    "acc_test = accuracy_score(y_test,y_pred_test)\n",
    "\n",
    "# printing accuracy of train and test data\n",
    "print('train accuracy ',acc_train*100,'\\n')\n",
    "print('test accuracy',acc_test*100)"
   ]
  },
  {
   "cell_type": "code",
   "execution_count": null,
   "id": "56cfdbff",
   "metadata": {},
   "outputs": [],
   "source": []
  },
  {
   "cell_type": "code",
   "execution_count": null,
   "id": "ee7e9568",
   "metadata": {},
   "outputs": [],
   "source": []
  },
  {
   "cell_type": "markdown",
   "id": "31d1b9f0",
   "metadata": {},
   "source": [
    "# KNN (k nearest neighbour)"
   ]
  },
  {
   "cell_type": "code",
   "execution_count": 5,
   "id": "9177a0bf",
   "metadata": {},
   "outputs": [],
   "source": [
    "from sklearn import datasets\n",
    "import numpy as np\n",
    "import pandas as pd"
   ]
  },
  {
   "cell_type": "code",
   "execution_count": 6,
   "id": "497fd677",
   "metadata": {},
   "outputs": [],
   "source": [
    "iris = datasets.load_iris()"
   ]
  },
  {
   "cell_type": "code",
   "execution_count": 7,
   "id": "4e18ab83",
   "metadata": {},
   "outputs": [
    {
     "data": {
      "text/plain": [
       "sklearn.utils.Bunch"
      ]
     },
     "execution_count": 7,
     "metadata": {},
     "output_type": "execute_result"
    }
   ],
   "source": [
    "type(iris)"
   ]
  },
  {
   "cell_type": "code",
   "execution_count": 8,
   "id": "26dd4ebc",
   "metadata": {},
   "outputs": [
    {
     "name": "stdout",
     "output_type": "stream",
     "text": [
      "dict_keys(['data', 'target', 'frame', 'target_names', 'DESCR', 'feature_names', 'filename', 'data_module'])\n"
     ]
    }
   ],
   "source": [
    "# bunch refers to dictionary\n",
    "print(iris.keys())"
   ]
  },
  {
   "cell_type": "code",
   "execution_count": 9,
   "id": "84bf8bfb",
   "metadata": {},
   "outputs": [
    {
     "data": {
      "text/plain": [
       "numpy.ndarray"
      ]
     },
     "execution_count": 9,
     "metadata": {},
     "output_type": "execute_result"
    }
   ],
   "source": [
    "type(iris.data)"
   ]
  },
  {
   "cell_type": "code",
   "execution_count": 10,
   "id": "1124cbf5",
   "metadata": {},
   "outputs": [
    {
     "data": {
      "text/plain": [
       "array([[5.1, 3.5, 1.4, 0.2],\n",
       "       [4.9, 3. , 1.4, 0.2],\n",
       "       [4.7, 3.2, 1.3, 0.2],\n",
       "       [4.6, 3.1, 1.5, 0.2],\n",
       "       [5. , 3.6, 1.4, 0.2],\n",
       "       [5.4, 3.9, 1.7, 0.4],\n",
       "       [4.6, 3.4, 1.4, 0.3],\n",
       "       [5. , 3.4, 1.5, 0.2],\n",
       "       [4.4, 2.9, 1.4, 0.2],\n",
       "       [4.9, 3.1, 1.5, 0.1],\n",
       "       [5.4, 3.7, 1.5, 0.2],\n",
       "       [4.8, 3.4, 1.6, 0.2],\n",
       "       [4.8, 3. , 1.4, 0.1],\n",
       "       [4.3, 3. , 1.1, 0.1],\n",
       "       [5.8, 4. , 1.2, 0.2],\n",
       "       [5.7, 4.4, 1.5, 0.4],\n",
       "       [5.4, 3.9, 1.3, 0.4],\n",
       "       [5.1, 3.5, 1.4, 0.3],\n",
       "       [5.7, 3.8, 1.7, 0.3],\n",
       "       [5.1, 3.8, 1.5, 0.3],\n",
       "       [5.4, 3.4, 1.7, 0.2],\n",
       "       [5.1, 3.7, 1.5, 0.4],\n",
       "       [4.6, 3.6, 1. , 0.2],\n",
       "       [5.1, 3.3, 1.7, 0.5],\n",
       "       [4.8, 3.4, 1.9, 0.2],\n",
       "       [5. , 3. , 1.6, 0.2],\n",
       "       [5. , 3.4, 1.6, 0.4],\n",
       "       [5.2, 3.5, 1.5, 0.2],\n",
       "       [5.2, 3.4, 1.4, 0.2],\n",
       "       [4.7, 3.2, 1.6, 0.2],\n",
       "       [4.8, 3.1, 1.6, 0.2],\n",
       "       [5.4, 3.4, 1.5, 0.4],\n",
       "       [5.2, 4.1, 1.5, 0.1],\n",
       "       [5.5, 4.2, 1.4, 0.2],\n",
       "       [4.9, 3.1, 1.5, 0.2],\n",
       "       [5. , 3.2, 1.2, 0.2],\n",
       "       [5.5, 3.5, 1.3, 0.2],\n",
       "       [4.9, 3.6, 1.4, 0.1],\n",
       "       [4.4, 3. , 1.3, 0.2],\n",
       "       [5.1, 3.4, 1.5, 0.2],\n",
       "       [5. , 3.5, 1.3, 0.3],\n",
       "       [4.5, 2.3, 1.3, 0.3],\n",
       "       [4.4, 3.2, 1.3, 0.2],\n",
       "       [5. , 3.5, 1.6, 0.6],\n",
       "       [5.1, 3.8, 1.9, 0.4],\n",
       "       [4.8, 3. , 1.4, 0.3],\n",
       "       [5.1, 3.8, 1.6, 0.2],\n",
       "       [4.6, 3.2, 1.4, 0.2],\n",
       "       [5.3, 3.7, 1.5, 0.2],\n",
       "       [5. , 3.3, 1.4, 0.2],\n",
       "       [7. , 3.2, 4.7, 1.4],\n",
       "       [6.4, 3.2, 4.5, 1.5],\n",
       "       [6.9, 3.1, 4.9, 1.5],\n",
       "       [5.5, 2.3, 4. , 1.3],\n",
       "       [6.5, 2.8, 4.6, 1.5],\n",
       "       [5.7, 2.8, 4.5, 1.3],\n",
       "       [6.3, 3.3, 4.7, 1.6],\n",
       "       [4.9, 2.4, 3.3, 1. ],\n",
       "       [6.6, 2.9, 4.6, 1.3],\n",
       "       [5.2, 2.7, 3.9, 1.4],\n",
       "       [5. , 2. , 3.5, 1. ],\n",
       "       [5.9, 3. , 4.2, 1.5],\n",
       "       [6. , 2.2, 4. , 1. ],\n",
       "       [6.1, 2.9, 4.7, 1.4],\n",
       "       [5.6, 2.9, 3.6, 1.3],\n",
       "       [6.7, 3.1, 4.4, 1.4],\n",
       "       [5.6, 3. , 4.5, 1.5],\n",
       "       [5.8, 2.7, 4.1, 1. ],\n",
       "       [6.2, 2.2, 4.5, 1.5],\n",
       "       [5.6, 2.5, 3.9, 1.1],\n",
       "       [5.9, 3.2, 4.8, 1.8],\n",
       "       [6.1, 2.8, 4. , 1.3],\n",
       "       [6.3, 2.5, 4.9, 1.5],\n",
       "       [6.1, 2.8, 4.7, 1.2],\n",
       "       [6.4, 2.9, 4.3, 1.3],\n",
       "       [6.6, 3. , 4.4, 1.4],\n",
       "       [6.8, 2.8, 4.8, 1.4],\n",
       "       [6.7, 3. , 5. , 1.7],\n",
       "       [6. , 2.9, 4.5, 1.5],\n",
       "       [5.7, 2.6, 3.5, 1. ],\n",
       "       [5.5, 2.4, 3.8, 1.1],\n",
       "       [5.5, 2.4, 3.7, 1. ],\n",
       "       [5.8, 2.7, 3.9, 1.2],\n",
       "       [6. , 2.7, 5.1, 1.6],\n",
       "       [5.4, 3. , 4.5, 1.5],\n",
       "       [6. , 3.4, 4.5, 1.6],\n",
       "       [6.7, 3.1, 4.7, 1.5],\n",
       "       [6.3, 2.3, 4.4, 1.3],\n",
       "       [5.6, 3. , 4.1, 1.3],\n",
       "       [5.5, 2.5, 4. , 1.3],\n",
       "       [5.5, 2.6, 4.4, 1.2],\n",
       "       [6.1, 3. , 4.6, 1.4],\n",
       "       [5.8, 2.6, 4. , 1.2],\n",
       "       [5. , 2.3, 3.3, 1. ],\n",
       "       [5.6, 2.7, 4.2, 1.3],\n",
       "       [5.7, 3. , 4.2, 1.2],\n",
       "       [5.7, 2.9, 4.2, 1.3],\n",
       "       [6.2, 2.9, 4.3, 1.3],\n",
       "       [5.1, 2.5, 3. , 1.1],\n",
       "       [5.7, 2.8, 4.1, 1.3],\n",
       "       [6.3, 3.3, 6. , 2.5],\n",
       "       [5.8, 2.7, 5.1, 1.9],\n",
       "       [7.1, 3. , 5.9, 2.1],\n",
       "       [6.3, 2.9, 5.6, 1.8],\n",
       "       [6.5, 3. , 5.8, 2.2],\n",
       "       [7.6, 3. , 6.6, 2.1],\n",
       "       [4.9, 2.5, 4.5, 1.7],\n",
       "       [7.3, 2.9, 6.3, 1.8],\n",
       "       [6.7, 2.5, 5.8, 1.8],\n",
       "       [7.2, 3.6, 6.1, 2.5],\n",
       "       [6.5, 3.2, 5.1, 2. ],\n",
       "       [6.4, 2.7, 5.3, 1.9],\n",
       "       [6.8, 3. , 5.5, 2.1],\n",
       "       [5.7, 2.5, 5. , 2. ],\n",
       "       [5.8, 2.8, 5.1, 2.4],\n",
       "       [6.4, 3.2, 5.3, 2.3],\n",
       "       [6.5, 3. , 5.5, 1.8],\n",
       "       [7.7, 3.8, 6.7, 2.2],\n",
       "       [7.7, 2.6, 6.9, 2.3],\n",
       "       [6. , 2.2, 5. , 1.5],\n",
       "       [6.9, 3.2, 5.7, 2.3],\n",
       "       [5.6, 2.8, 4.9, 2. ],\n",
       "       [7.7, 2.8, 6.7, 2. ],\n",
       "       [6.3, 2.7, 4.9, 1.8],\n",
       "       [6.7, 3.3, 5.7, 2.1],\n",
       "       [7.2, 3.2, 6. , 1.8],\n",
       "       [6.2, 2.8, 4.8, 1.8],\n",
       "       [6.1, 3. , 4.9, 1.8],\n",
       "       [6.4, 2.8, 5.6, 2.1],\n",
       "       [7.2, 3. , 5.8, 1.6],\n",
       "       [7.4, 2.8, 6.1, 1.9],\n",
       "       [7.9, 3.8, 6.4, 2. ],\n",
       "       [6.4, 2.8, 5.6, 2.2],\n",
       "       [6.3, 2.8, 5.1, 1.5],\n",
       "       [6.1, 2.6, 5.6, 1.4],\n",
       "       [7.7, 3. , 6.1, 2.3],\n",
       "       [6.3, 3.4, 5.6, 2.4],\n",
       "       [6.4, 3.1, 5.5, 1.8],\n",
       "       [6. , 3. , 4.8, 1.8],\n",
       "       [6.9, 3.1, 5.4, 2.1],\n",
       "       [6.7, 3.1, 5.6, 2.4],\n",
       "       [6.9, 3.1, 5.1, 2.3],\n",
       "       [5.8, 2.7, 5.1, 1.9],\n",
       "       [6.8, 3.2, 5.9, 2.3],\n",
       "       [6.7, 3.3, 5.7, 2.5],\n",
       "       [6.7, 3. , 5.2, 2.3],\n",
       "       [6.3, 2.5, 5. , 1.9],\n",
       "       [6.5, 3. , 5.2, 2. ],\n",
       "       [6.2, 3.4, 5.4, 2.3],\n",
       "       [5.9, 3. , 5.1, 1.8]])"
      ]
     },
     "execution_count": 10,
     "metadata": {},
     "output_type": "execute_result"
    }
   ],
   "source": [
    "iris.data"
   ]
  },
  {
   "cell_type": "code",
   "execution_count": 11,
   "id": "f597f9a8",
   "metadata": {},
   "outputs": [
    {
     "data": {
      "text/plain": [
       "array([0, 0, 0, 0, 0, 0, 0, 0, 0, 0, 0, 0, 0, 0, 0, 0, 0, 0, 0, 0, 0, 0,\n",
       "       0, 0, 0, 0, 0, 0, 0, 0, 0, 0, 0, 0, 0, 0, 0, 0, 0, 0, 0, 0, 0, 0,\n",
       "       0, 0, 0, 0, 0, 0, 1, 1, 1, 1, 1, 1, 1, 1, 1, 1, 1, 1, 1, 1, 1, 1,\n",
       "       1, 1, 1, 1, 1, 1, 1, 1, 1, 1, 1, 1, 1, 1, 1, 1, 1, 1, 1, 1, 1, 1,\n",
       "       1, 1, 1, 1, 1, 1, 1, 1, 1, 1, 1, 1, 2, 2, 2, 2, 2, 2, 2, 2, 2, 2,\n",
       "       2, 2, 2, 2, 2, 2, 2, 2, 2, 2, 2, 2, 2, 2, 2, 2, 2, 2, 2, 2, 2, 2,\n",
       "       2, 2, 2, 2, 2, 2, 2, 2, 2, 2, 2, 2, 2, 2, 2, 2, 2, 2])"
      ]
     },
     "execution_count": 11,
     "metadata": {},
     "output_type": "execute_result"
    }
   ],
   "source": [
    "iris.target"
   ]
  },
  {
   "cell_type": "code",
   "execution_count": 12,
   "id": "65231167",
   "metadata": {},
   "outputs": [
    {
     "data": {
      "text/plain": [
       "array(['setosa', 'versicolor', 'virginica'], dtype='<U10')"
      ]
     },
     "execution_count": 12,
     "metadata": {},
     "output_type": "execute_result"
    }
   ],
   "source": [
    "iris.target_names"
   ]
  },
  {
   "cell_type": "code",
   "execution_count": 13,
   "id": "ec20a748",
   "metadata": {},
   "outputs": [
    {
     "data": {
      "text/plain": [
       "['sepal length (cm)',\n",
       " 'sepal width (cm)',\n",
       " 'petal length (cm)',\n",
       " 'petal width (cm)']"
      ]
     },
     "execution_count": 13,
     "metadata": {},
     "output_type": "execute_result"
    }
   ],
   "source": [
    "iris.feature_names"
   ]
  },
  {
   "cell_type": "code",
   "execution_count": 14,
   "id": "417f746f",
   "metadata": {},
   "outputs": [
    {
     "data": {
      "text/plain": [
       "'.. _iris_dataset:\\n\\nIris plants dataset\\n--------------------\\n\\n**Data Set Characteristics:**\\n\\n    :Number of Instances: 150 (50 in each of three classes)\\n    :Number of Attributes: 4 numeric, predictive attributes and the class\\n    :Attribute Information:\\n        - sepal length in cm\\n        - sepal width in cm\\n        - petal length in cm\\n        - petal width in cm\\n        - class:\\n                - Iris-Setosa\\n                - Iris-Versicolour\\n                - Iris-Virginica\\n                \\n    :Summary Statistics:\\n\\n    ============== ==== ==== ======= ===== ====================\\n                    Min  Max   Mean    SD   Class Correlation\\n    ============== ==== ==== ======= ===== ====================\\n    sepal length:   4.3  7.9   5.84   0.83    0.7826\\n    sepal width:    2.0  4.4   3.05   0.43   -0.4194\\n    petal length:   1.0  6.9   3.76   1.76    0.9490  (high!)\\n    petal width:    0.1  2.5   1.20   0.76    0.9565  (high!)\\n    ============== ==== ==== ======= ===== ====================\\n\\n    :Missing Attribute Values: None\\n    :Class Distribution: 33.3% for each of 3 classes.\\n    :Creator: R.A. Fisher\\n    :Donor: Michael Marshall (MARSHALL%PLU@io.arc.nasa.gov)\\n    :Date: July, 1988\\n\\nThe famous Iris database, first used by Sir R.A. Fisher. The dataset is taken\\nfrom Fisher\\'s paper. Note that it\\'s the same as in R, but not as in the UCI\\nMachine Learning Repository, which has two wrong data points.\\n\\nThis is perhaps the best known database to be found in the\\npattern recognition literature.  Fisher\\'s paper is a classic in the field and\\nis referenced frequently to this day.  (See Duda & Hart, for example.)  The\\ndata set contains 3 classes of 50 instances each, where each class refers to a\\ntype of iris plant.  One class is linearly separable from the other 2; the\\nlatter are NOT linearly separable from each other.\\n\\n.. topic:: References\\n\\n   - Fisher, R.A. \"The use of multiple measurements in taxonomic problems\"\\n     Annual Eugenics, 7, Part II, 179-188 (1936); also in \"Contributions to\\n     Mathematical Statistics\" (John Wiley, NY, 1950).\\n   - Duda, R.O., & Hart, P.E. (1973) Pattern Classification and Scene Analysis.\\n     (Q327.D83) John Wiley & Sons.  ISBN 0-471-22361-1.  See page 218.\\n   - Dasarathy, B.V. (1980) \"Nosing Around the Neighborhood: A New System\\n     Structure and Classification Rule for Recognition in Partially Exposed\\n     Environments\".  IEEE Transactions on Pattern Analysis and Machine\\n     Intelligence, Vol. PAMI-2, No. 1, 67-71.\\n   - Gates, G.W. (1972) \"The Reduced Nearest Neighbor Rule\".  IEEE Transactions\\n     on Information Theory, May 1972, 431-433.\\n   - See also: 1988 MLC Proceedings, 54-64.  Cheeseman et al\"s AUTOCLASS II\\n     conceptual clustering system finds 3 classes in the data.\\n   - Many, many more ...'"
      ]
     },
     "execution_count": 14,
     "metadata": {},
     "output_type": "execute_result"
    }
   ],
   "source": [
    "iris.DESCR"
   ]
  },
  {
   "cell_type": "code",
   "execution_count": 15,
   "id": "2aa298ba",
   "metadata": {},
   "outputs": [
    {
     "data": {
      "text/plain": [
       "array([[5.1, 3.5, 1.4, 0.2],\n",
       "       [4.9, 3. , 1.4, 0.2],\n",
       "       [4.7, 3.2, 1.3, 0.2],\n",
       "       [4.6, 3.1, 1.5, 0.2],\n",
       "       [5. , 3.6, 1.4, 0.2],\n",
       "       [5.4, 3.9, 1.7, 0.4],\n",
       "       [4.6, 3.4, 1.4, 0.3],\n",
       "       [5. , 3.4, 1.5, 0.2],\n",
       "       [4.4, 2.9, 1.4, 0.2],\n",
       "       [4.9, 3.1, 1.5, 0.1],\n",
       "       [5.4, 3.7, 1.5, 0.2],\n",
       "       [4.8, 3.4, 1.6, 0.2],\n",
       "       [4.8, 3. , 1.4, 0.1],\n",
       "       [4.3, 3. , 1.1, 0.1],\n",
       "       [5.8, 4. , 1.2, 0.2],\n",
       "       [5.7, 4.4, 1.5, 0.4],\n",
       "       [5.4, 3.9, 1.3, 0.4],\n",
       "       [5.1, 3.5, 1.4, 0.3],\n",
       "       [5.7, 3.8, 1.7, 0.3],\n",
       "       [5.1, 3.8, 1.5, 0.3],\n",
       "       [5.4, 3.4, 1.7, 0.2],\n",
       "       [5.1, 3.7, 1.5, 0.4],\n",
       "       [4.6, 3.6, 1. , 0.2],\n",
       "       [5.1, 3.3, 1.7, 0.5],\n",
       "       [4.8, 3.4, 1.9, 0.2],\n",
       "       [5. , 3. , 1.6, 0.2],\n",
       "       [5. , 3.4, 1.6, 0.4],\n",
       "       [5.2, 3.5, 1.5, 0.2],\n",
       "       [5.2, 3.4, 1.4, 0.2],\n",
       "       [4.7, 3.2, 1.6, 0.2],\n",
       "       [4.8, 3.1, 1.6, 0.2],\n",
       "       [5.4, 3.4, 1.5, 0.4],\n",
       "       [5.2, 4.1, 1.5, 0.1],\n",
       "       [5.5, 4.2, 1.4, 0.2],\n",
       "       [4.9, 3.1, 1.5, 0.2],\n",
       "       [5. , 3.2, 1.2, 0.2],\n",
       "       [5.5, 3.5, 1.3, 0.2],\n",
       "       [4.9, 3.6, 1.4, 0.1],\n",
       "       [4.4, 3. , 1.3, 0.2],\n",
       "       [5.1, 3.4, 1.5, 0.2],\n",
       "       [5. , 3.5, 1.3, 0.3],\n",
       "       [4.5, 2.3, 1.3, 0.3],\n",
       "       [4.4, 3.2, 1.3, 0.2],\n",
       "       [5. , 3.5, 1.6, 0.6],\n",
       "       [5.1, 3.8, 1.9, 0.4],\n",
       "       [4.8, 3. , 1.4, 0.3],\n",
       "       [5.1, 3.8, 1.6, 0.2],\n",
       "       [4.6, 3.2, 1.4, 0.2],\n",
       "       [5.3, 3.7, 1.5, 0.2],\n",
       "       [5. , 3.3, 1.4, 0.2],\n",
       "       [7. , 3.2, 4.7, 1.4],\n",
       "       [6.4, 3.2, 4.5, 1.5],\n",
       "       [6.9, 3.1, 4.9, 1.5],\n",
       "       [5.5, 2.3, 4. , 1.3],\n",
       "       [6.5, 2.8, 4.6, 1.5],\n",
       "       [5.7, 2.8, 4.5, 1.3],\n",
       "       [6.3, 3.3, 4.7, 1.6],\n",
       "       [4.9, 2.4, 3.3, 1. ],\n",
       "       [6.6, 2.9, 4.6, 1.3],\n",
       "       [5.2, 2.7, 3.9, 1.4],\n",
       "       [5. , 2. , 3.5, 1. ],\n",
       "       [5.9, 3. , 4.2, 1.5],\n",
       "       [6. , 2.2, 4. , 1. ],\n",
       "       [6.1, 2.9, 4.7, 1.4],\n",
       "       [5.6, 2.9, 3.6, 1.3],\n",
       "       [6.7, 3.1, 4.4, 1.4],\n",
       "       [5.6, 3. , 4.5, 1.5],\n",
       "       [5.8, 2.7, 4.1, 1. ],\n",
       "       [6.2, 2.2, 4.5, 1.5],\n",
       "       [5.6, 2.5, 3.9, 1.1],\n",
       "       [5.9, 3.2, 4.8, 1.8],\n",
       "       [6.1, 2.8, 4. , 1.3],\n",
       "       [6.3, 2.5, 4.9, 1.5],\n",
       "       [6.1, 2.8, 4.7, 1.2],\n",
       "       [6.4, 2.9, 4.3, 1.3],\n",
       "       [6.6, 3. , 4.4, 1.4],\n",
       "       [6.8, 2.8, 4.8, 1.4],\n",
       "       [6.7, 3. , 5. , 1.7],\n",
       "       [6. , 2.9, 4.5, 1.5],\n",
       "       [5.7, 2.6, 3.5, 1. ],\n",
       "       [5.5, 2.4, 3.8, 1.1],\n",
       "       [5.5, 2.4, 3.7, 1. ],\n",
       "       [5.8, 2.7, 3.9, 1.2],\n",
       "       [6. , 2.7, 5.1, 1.6],\n",
       "       [5.4, 3. , 4.5, 1.5],\n",
       "       [6. , 3.4, 4.5, 1.6],\n",
       "       [6.7, 3.1, 4.7, 1.5],\n",
       "       [6.3, 2.3, 4.4, 1.3],\n",
       "       [5.6, 3. , 4.1, 1.3],\n",
       "       [5.5, 2.5, 4. , 1.3],\n",
       "       [5.5, 2.6, 4.4, 1.2],\n",
       "       [6.1, 3. , 4.6, 1.4],\n",
       "       [5.8, 2.6, 4. , 1.2],\n",
       "       [5. , 2.3, 3.3, 1. ],\n",
       "       [5.6, 2.7, 4.2, 1.3],\n",
       "       [5.7, 3. , 4.2, 1.2],\n",
       "       [5.7, 2.9, 4.2, 1.3],\n",
       "       [6.2, 2.9, 4.3, 1.3],\n",
       "       [5.1, 2.5, 3. , 1.1],\n",
       "       [5.7, 2.8, 4.1, 1.3],\n",
       "       [6.3, 3.3, 6. , 2.5],\n",
       "       [5.8, 2.7, 5.1, 1.9],\n",
       "       [7.1, 3. , 5.9, 2.1],\n",
       "       [6.3, 2.9, 5.6, 1.8],\n",
       "       [6.5, 3. , 5.8, 2.2],\n",
       "       [7.6, 3. , 6.6, 2.1],\n",
       "       [4.9, 2.5, 4.5, 1.7],\n",
       "       [7.3, 2.9, 6.3, 1.8],\n",
       "       [6.7, 2.5, 5.8, 1.8],\n",
       "       [7.2, 3.6, 6.1, 2.5],\n",
       "       [6.5, 3.2, 5.1, 2. ],\n",
       "       [6.4, 2.7, 5.3, 1.9],\n",
       "       [6.8, 3. , 5.5, 2.1],\n",
       "       [5.7, 2.5, 5. , 2. ],\n",
       "       [5.8, 2.8, 5.1, 2.4],\n",
       "       [6.4, 3.2, 5.3, 2.3],\n",
       "       [6.5, 3. , 5.5, 1.8],\n",
       "       [7.7, 3.8, 6.7, 2.2],\n",
       "       [7.7, 2.6, 6.9, 2.3],\n",
       "       [6. , 2.2, 5. , 1.5],\n",
       "       [6.9, 3.2, 5.7, 2.3],\n",
       "       [5.6, 2.8, 4.9, 2. ],\n",
       "       [7.7, 2.8, 6.7, 2. ],\n",
       "       [6.3, 2.7, 4.9, 1.8],\n",
       "       [6.7, 3.3, 5.7, 2.1],\n",
       "       [7.2, 3.2, 6. , 1.8],\n",
       "       [6.2, 2.8, 4.8, 1.8],\n",
       "       [6.1, 3. , 4.9, 1.8],\n",
       "       [6.4, 2.8, 5.6, 2.1],\n",
       "       [7.2, 3. , 5.8, 1.6],\n",
       "       [7.4, 2.8, 6.1, 1.9],\n",
       "       [7.9, 3.8, 6.4, 2. ],\n",
       "       [6.4, 2.8, 5.6, 2.2],\n",
       "       [6.3, 2.8, 5.1, 1.5],\n",
       "       [6.1, 2.6, 5.6, 1.4],\n",
       "       [7.7, 3. , 6.1, 2.3],\n",
       "       [6.3, 3.4, 5.6, 2.4],\n",
       "       [6.4, 3.1, 5.5, 1.8],\n",
       "       [6. , 3. , 4.8, 1.8],\n",
       "       [6.9, 3.1, 5.4, 2.1],\n",
       "       [6.7, 3.1, 5.6, 2.4],\n",
       "       [6.9, 3.1, 5.1, 2.3],\n",
       "       [5.8, 2.7, 5.1, 1.9],\n",
       "       [6.8, 3.2, 5.9, 2.3],\n",
       "       [6.7, 3.3, 5.7, 2.5],\n",
       "       [6.7, 3. , 5.2, 2.3],\n",
       "       [6.3, 2.5, 5. , 1.9],\n",
       "       [6.5, 3. , 5.2, 2. ],\n",
       "       [6.2, 3.4, 5.4, 2.3],\n",
       "       [5.9, 3. , 5.1, 1.8]])"
      ]
     },
     "execution_count": 15,
     "metadata": {},
     "output_type": "execute_result"
    }
   ],
   "source": [
    "iris.data"
   ]
  },
  {
   "cell_type": "code",
   "execution_count": 16,
   "id": "509024fb",
   "metadata": {},
   "outputs": [],
   "source": [
    "x = iris.data\n",
    "\n",
    "y = iris.target"
   ]
  },
  {
   "cell_type": "code",
   "execution_count": 17,
   "id": "835dc5f5",
   "metadata": {},
   "outputs": [],
   "source": [
    "from sklearn.model_selection import train_test_split\n",
    "x_train,x_test,y_train,y_test = train_test_split(x,y,test_size = 0.40)"
   ]
  },
  {
   "cell_type": "code",
   "execution_count": 18,
   "id": "286baa3f",
   "metadata": {},
   "outputs": [
    {
     "name": "stderr",
     "output_type": "stream",
     "text": [
      "C:\\ProgramData\\Anaconda3\\lib\\site-packages\\sklearn\\neighbors\\_classification.py:228: FutureWarning: Unlike other reduction functions (e.g. `skew`, `kurtosis`), the default behavior of `mode` typically preserves the axis it acts along. In SciPy 1.11.0, this behavior will change: the default value of `keepdims` will become False, the `axis` over which the statistic is taken will be eliminated, and the value None will no longer be accepted. Set `keepdims` to True or False to avoid this warning.\n",
      "  mode, _ = stats.mode(_y[neigh_ind, k], axis=1)\n"
     ]
    },
    {
     "data": {
      "text/plain": [
       "(60,)"
      ]
     },
     "execution_count": 18,
     "metadata": {},
     "output_type": "execute_result"
    }
   ],
   "source": [
    "from sklearn.neighbors import KNeighborsClassifier\n",
    "\n",
    "knn = KNeighborsClassifier(n_neighbors = 8)\n",
    "\n",
    "knn.fit(x_train,y_train)\n",
    "\n",
    "y_pred = knn.predict(x_test)\n",
    "\n",
    "y_pred.shape\n"
   ]
  },
  {
   "cell_type": "code",
   "execution_count": 19,
   "id": "9ce688b8",
   "metadata": {},
   "outputs": [
    {
     "name": "stderr",
     "output_type": "stream",
     "text": [
      "C:\\ProgramData\\Anaconda3\\lib\\site-packages\\sklearn\\neighbors\\_classification.py:228: FutureWarning: Unlike other reduction functions (e.g. `skew`, `kurtosis`), the default behavior of `mode` typically preserves the axis it acts along. In SciPy 1.11.0, this behavior will change: the default value of `keepdims` will become False, the `axis` over which the statistic is taken will be eliminated, and the value None will no longer be accepted. Set `keepdims` to True or False to avoid this warning.\n",
      "  mode, _ = stats.mode(_y[neigh_ind, k], axis=1)\n"
     ]
    },
    {
     "data": {
      "text/plain": [
       "1.0"
      ]
     },
     "execution_count": 19,
     "metadata": {},
     "output_type": "execute_result"
    }
   ],
   "source": [
    "knn.score(x_test,y_test)"
   ]
  },
  {
   "cell_type": "code",
   "execution_count": 20,
   "id": "4aaaf0bb",
   "metadata": {},
   "outputs": [
    {
     "name": "stdout",
     "output_type": "stream",
     "text": [
      "[[21  0  0]\n",
      " [ 0 21  0]\n",
      " [ 0  0 18]]\n",
      "              precision    recall  f1-score   support\n",
      "\n",
      "           0       1.00      1.00      1.00        21\n",
      "           1       1.00      1.00      1.00        21\n",
      "           2       1.00      1.00      1.00        18\n",
      "\n",
      "    accuracy                           1.00        60\n",
      "   macro avg       1.00      1.00      1.00        60\n",
      "weighted avg       1.00      1.00      1.00        60\n",
      "\n"
     ]
    }
   ],
   "source": [
    "from sklearn.metrics import confusion_matrix,classification_report\n",
    "\n",
    "cm = confusion_matrix(y_test , y_pred)\n",
    "\n",
    "cr = classification_report(y_test , y_pred)\n",
    "\n",
    "print(cm)\n",
    "print(cr)"
   ]
  },
  {
   "cell_type": "markdown",
   "id": "6539feb4",
   "metadata": {},
   "source": [
    "# clustering or kmeans"
   ]
  },
  {
   "cell_type": "code",
   "execution_count": 21,
   "id": "dc051f67",
   "metadata": {},
   "outputs": [
    {
     "data": {
      "text/html": [
       "<div>\n",
       "<style scoped>\n",
       "    .dataframe tbody tr th:only-of-type {\n",
       "        vertical-align: middle;\n",
       "    }\n",
       "\n",
       "    .dataframe tbody tr th {\n",
       "        vertical-align: top;\n",
       "    }\n",
       "\n",
       "    .dataframe thead th {\n",
       "        text-align: right;\n",
       "    }\n",
       "</style>\n",
       "<table border=\"1\" class=\"dataframe\">\n",
       "  <thead>\n",
       "    <tr style=\"text-align: right;\">\n",
       "      <th></th>\n",
       "      <th>x_new</th>\n",
       "      <th>y_new</th>\n",
       "    </tr>\n",
       "  </thead>\n",
       "  <tbody>\n",
       "    <tr>\n",
       "      <th>0</th>\n",
       "      <td>80.1</td>\n",
       "      <td>96.5</td>\n",
       "    </tr>\n",
       "    <tr>\n",
       "      <th>1</th>\n",
       "      <td>93.1</td>\n",
       "      <td>72.9</td>\n",
       "    </tr>\n",
       "    <tr>\n",
       "      <th>2</th>\n",
       "      <td>12.5</td>\n",
       "      <td>84.6</td>\n",
       "    </tr>\n",
       "    <tr>\n",
       "      <th>3</th>\n",
       "      <td>94.6</td>\n",
       "      <td>75.4</td>\n",
       "    </tr>\n",
       "    <tr>\n",
       "      <th>4</th>\n",
       "      <td>81.4</td>\n",
       "      <td>93.4</td>\n",
       "    </tr>\n",
       "    <tr>\n",
       "      <th>5</th>\n",
       "      <td>78.3</td>\n",
       "      <td>86.4</td>\n",
       "    </tr>\n",
       "    <tr>\n",
       "      <th>6</th>\n",
       "      <td>91.5</td>\n",
       "      <td>81.7</td>\n",
       "    </tr>\n",
       "    <tr>\n",
       "      <th>7</th>\n",
       "      <td>88.8</td>\n",
       "      <td>76.9</td>\n",
       "    </tr>\n",
       "    <tr>\n",
       "      <th>8</th>\n",
       "      <td>97.3</td>\n",
       "      <td>99.5</td>\n",
       "    </tr>\n",
       "    <tr>\n",
       "      <th>9</th>\n",
       "      <td>72.9</td>\n",
       "      <td>82.6</td>\n",
       "    </tr>\n",
       "  </tbody>\n",
       "</table>\n",
       "</div>"
      ],
      "text/plain": [
       "   x_new  y_new\n",
       "0   80.1   96.5\n",
       "1   93.1   72.9\n",
       "2   12.5   84.6\n",
       "3   94.6   75.4\n",
       "4   81.4   93.4\n",
       "5   78.3   86.4\n",
       "6   91.5   81.7\n",
       "7   88.8   76.9\n",
       "8   97.3   99.5\n",
       "9   72.9   82.6"
      ]
     },
     "execution_count": 21,
     "metadata": {},
     "output_type": "execute_result"
    }
   ],
   "source": [
    "import numpy as np\n",
    "import pandas as pd\n",
    "\n",
    "x_cordinates = [80.1,93.1,12.5,94.6,81.4,78.3,91.5,88.8,97.3,72.9]\n",
    "y_cordinates = [96.5,72.9,84.6,75.4,93.4,86.4,81.7,76.9,99.5,82.6]\n",
    "\n",
    "df= pd.DataFrame({'x_new':x_cordinates,'y_new':y_cordinates})\n",
    "\n",
    "df"
   ]
  },
  {
   "cell_type": "code",
   "execution_count": 22,
   "id": "1e8caee4",
   "metadata": {},
   "outputs": [
    {
     "name": "stdout",
     "output_type": "stream",
     "text": [
      "[0 2 1 2 0 0 2 2 0 0]\n"
     ]
    }
   ],
   "source": [
    "from sklearn.cluster import KMeans\n",
    "\n",
    "model = KMeans(n_clusters = 3)\n",
    "\n",
    "model.fit(df)\n",
    "\n",
    "label_ = model.predict(df)\n",
    "\n",
    "print(label_)"
   ]
  },
  {
   "cell_type": "code",
   "execution_count": 23,
   "id": "75e60b21",
   "metadata": {},
   "outputs": [
    {
     "data": {
      "text/plain": [
       "array([[82.   , 91.68 ],\n",
       "       [12.5  , 84.6  ],\n",
       "       [92.   , 76.725]])"
      ]
     },
     "execution_count": 23,
     "metadata": {},
     "output_type": "execute_result"
    }
   ],
   "source": [
    "model.cluster_centers_"
   ]
  },
  {
   "cell_type": "code",
   "execution_count": 24,
   "id": "225d256a",
   "metadata": {},
   "outputs": [
    {
     "data": {
      "text/plain": [
       "2"
      ]
     },
     "execution_count": 24,
     "metadata": {},
     "output_type": "execute_result"
    }
   ],
   "source": [
    "model.n_iter_"
   ]
  },
  {
   "cell_type": "code",
   "execution_count": 25,
   "id": "784a4da0",
   "metadata": {},
   "outputs": [
    {
     "name": "stdout",
     "output_type": "stream",
     "text": [
      "   new_x  new_y\n",
      "0   84.6   97.3\n",
      "1   76.2   89.1\n"
     ]
    }
   ],
   "source": [
    "new_x= [84.6,76.2]\n",
    "new_y = [97.3,89.1]\n",
    "\n",
    "new_df = pd.DataFrame({'new_x':new_x,'new_y':new_y})\n",
    "print(new_df)"
   ]
  },
  {
   "cell_type": "code",
   "execution_count": 26,
   "id": "0eee4231",
   "metadata": {},
   "outputs": [
    {
     "name": "stdout",
     "output_type": "stream",
     "text": [
      "[0 0]\n"
     ]
    },
    {
     "name": "stderr",
     "output_type": "stream",
     "text": [
      "C:\\ProgramData\\Anaconda3\\lib\\site-packages\\sklearn\\base.py:493: FutureWarning: The feature names should match those that were passed during fit. Starting version 1.2, an error will be raised.\n",
      "Feature names unseen at fit time:\n",
      "- new_x\n",
      "- new_y\n",
      "Feature names seen at fit time, yet now missing:\n",
      "- x_new\n",
      "- y_new\n",
      "\n",
      "  warnings.warn(message, FutureWarning)\n"
     ]
    }
   ],
   "source": [
    "new_label_ = model.predict(new_df)\n",
    "print(new_label_)"
   ]
  },
  {
   "cell_type": "code",
   "execution_count": 58,
   "id": "65a08d62",
   "metadata": {},
   "outputs": [],
   "source": [
    "#  KMeans(nc_clusters = 3 , init = 'random' , n_init = 10 , n_clusters , max_iter = 100 , random_state)"
   ]
  },
  {
   "cell_type": "markdown",
   "id": "f805b4f4",
   "metadata": {},
   "source": [
    "###  PCA principle compnent analysis"
   ]
  },
  {
   "cell_type": "code",
   "execution_count": 38,
   "id": "28fc07ff",
   "metadata": {},
   "outputs": [
    {
     "data": {
      "text/html": [
       "<div>\n",
       "<style scoped>\n",
       "    .dataframe tbody tr th:only-of-type {\n",
       "        vertical-align: middle;\n",
       "    }\n",
       "\n",
       "    .dataframe tbody tr th {\n",
       "        vertical-align: top;\n",
       "    }\n",
       "\n",
       "    .dataframe thead th {\n",
       "        text-align: right;\n",
       "    }\n",
       "</style>\n",
       "<table border=\"1\" class=\"dataframe\">\n",
       "  <thead>\n",
       "    <tr style=\"text-align: right;\">\n",
       "      <th></th>\n",
       "      <th>3.312</th>\n",
       "      <th>5.763</th>\n",
       "    </tr>\n",
       "  </thead>\n",
       "  <tbody>\n",
       "    <tr>\n",
       "      <th>0</th>\n",
       "      <td>3.333</td>\n",
       "      <td>5.554</td>\n",
       "    </tr>\n",
       "    <tr>\n",
       "      <th>1</th>\n",
       "      <td>3.337</td>\n",
       "      <td>5.291</td>\n",
       "    </tr>\n",
       "    <tr>\n",
       "      <th>2</th>\n",
       "      <td>3.379</td>\n",
       "      <td>5.324</td>\n",
       "    </tr>\n",
       "    <tr>\n",
       "      <th>3</th>\n",
       "      <td>3.562</td>\n",
       "      <td>5.658</td>\n",
       "    </tr>\n",
       "    <tr>\n",
       "      <th>4</th>\n",
       "      <td>3.312</td>\n",
       "      <td>5.386</td>\n",
       "    </tr>\n",
       "    <tr>\n",
       "      <th>...</th>\n",
       "      <td>...</td>\n",
       "      <td>...</td>\n",
       "    </tr>\n",
       "    <tr>\n",
       "      <th>204</th>\n",
       "      <td>2.981</td>\n",
       "      <td>5.137</td>\n",
       "    </tr>\n",
       "    <tr>\n",
       "      <th>205</th>\n",
       "      <td>2.795</td>\n",
       "      <td>5.140</td>\n",
       "    </tr>\n",
       "    <tr>\n",
       "      <th>206</th>\n",
       "      <td>3.232</td>\n",
       "      <td>5.236</td>\n",
       "    </tr>\n",
       "    <tr>\n",
       "      <th>207</th>\n",
       "      <td>2.836</td>\n",
       "      <td>5.175</td>\n",
       "    </tr>\n",
       "    <tr>\n",
       "      <th>208</th>\n",
       "      <td>2.974</td>\n",
       "      <td>5.243</td>\n",
       "    </tr>\n",
       "  </tbody>\n",
       "</table>\n",
       "<p>209 rows × 2 columns</p>\n",
       "</div>"
      ],
      "text/plain": [
       "     3.312  5.763\n",
       "0    3.333  5.554\n",
       "1    3.337  5.291\n",
       "2    3.379  5.324\n",
       "3    3.562  5.658\n",
       "4    3.312  5.386\n",
       "..     ...    ...\n",
       "204  2.981  5.137\n",
       "205  2.795  5.140\n",
       "206  3.232  5.236\n",
       "207  2.836  5.175\n",
       "208  2.974  5.243\n",
       "\n",
       "[209 rows x 2 columns]"
      ]
     },
     "execution_count": 38,
     "metadata": {},
     "output_type": "execute_result"
    }
   ],
   "source": [
    "import pandas as pd\n",
    "df = pd.read_csv(\"seed.csv\")\n",
    "df"
   ]
  },
  {
   "cell_type": "code",
   "execution_count": 39,
   "id": "acb0c1df",
   "metadata": {},
   "outputs": [],
   "source": [
    "df =  df.values"
   ]
  },
  {
   "cell_type": "code",
   "execution_count": 40,
   "id": "e8e2605d",
   "metadata": {},
   "outputs": [],
   "source": [
    "# 0th index : width of grain\n",
    "# 1st index col : length of grain\n",
    "\n",
    "width = df[:,0]\n",
    "length = df[:,1]"
   ]
  },
  {
   "cell_type": "code",
   "execution_count": 41,
   "id": "1e997775",
   "metadata": {},
   "outputs": [
    {
     "data": {
      "image/png": "[encoded data removed]",
      "text/plain": [
       "<Figure size 432x288 with 1 Axes>"
      ]
     },
     "metadata": {
      "needs_background": "light"
     },
     "output_type": "display_data"
    },
    {
     "name": "stdout",
     "output_type": "stream",
     "text": [
      "0.8604405325922294\n"
     ]
    }
   ],
   "source": [
    "import matplotlib.pyplot as plt\n",
    "plt.scatter(width,length)\n",
    "plt.axis('equal')\n",
    "plt.show()\n",
    "\n",
    "# pearson correleation\n",
    "\n",
    "from scipy.stats import pearsonr\n",
    "correleation , pvalue = pearsonr(width,length)\n",
    "\n",
    "# displa the correleation\n",
    "print(correleation)"
   ]
  },
  {
   "cell_type": "code",
   "execution_count": 45,
   "id": "8bbafd49",
   "metadata": {},
   "outputs": [
    {
     "data": {
      "text/plain": [
       "array([[-9.11059830e-03, -1.04639628e-01],\n",
       "       [-2.08816317e-01, -2.75819726e-01],\n",
       "       [-1.56591897e-01, -2.87027310e-01],\n",
       "       [ 2.17243309e-01, -2.14279533e-01],\n",
       "       [-1.51735198e-01, -1.95871331e-01],\n",
       "       [-4.94882561e-02, -4.19766821e-02],\n",
       "       [-1.31978985e-01, -1.66448686e-01],\n",
       "       [ 4.59021201e-01,  1.12794542e-01],\n",
       "       [ 3.54617413e-01, -2.59889181e-02],\n",
       "       [ 5.57735747e-02,  6.76132216e-02],\n",
       "       [-1.82692925e-01, -7.72685523e-02],\n",
       "       [-1.83202223e-01, -7.50912567e-02],\n",
       "       [-1.79924538e-01, -1.64546062e-02],\n",
       "       [-2.04462846e-01,  1.77633927e-02],\n",
       "       [-1.65229509e-01, -2.34392800e-01],\n",
       "       [-3.11692213e-01, -4.21135073e-01],\n",
       "       [ 8.58160693e-02, -2.61097059e-01],\n",
       "       [-1.92501377e-01, -4.29997619e-01],\n",
       "       [-4.42888449e-01, -9.58774093e-02],\n",
       "       [-5.95208462e-02,  1.18722873e-01],\n",
       "       [-1.40722994e-01,  5.22995324e-04],\n",
       "       [ 1.51326161e-01, -1.97548433e-01],\n",
       "       [-6.12786036e-01, -9.01494088e-02],\n",
       "       [ 1.15370510e-01,  1.13244410e-01],\n",
       "       [ 2.61704452e-01,  6.01392306e-03],\n",
       "       [-3.27618631e-01,  2.98320538e-02],\n",
       "       [-3.72361104e-01,  8.36661610e-02],\n",
       "       [-9.06963180e-02, -2.68143725e-02],\n",
       "       [-2.09634582e-01,  7.71793261e-02],\n",
       "       [-3.14842257e-01,  1.06765559e-01],\n",
       "       [ 1.71297084e-01, -4.11068540e-03],\n",
       "       [ 2.22867722e-02,  1.12598042e-01],\n",
       "       [-1.02239388e-01,  5.59126336e-02],\n",
       "       [ 1.09204781e-01,  1.95819216e-04],\n",
       "       [ 2.07248581e-01, -1.22463927e-01],\n",
       "       [ 2.83805704e-01, -3.15298473e-02],\n",
       "       [ 4.28400079e-01, -1.96118628e-01],\n",
       "       [ 4.05703681e-02, -4.83581225e-03],\n",
       "       [-1.52224047e-01, -1.78073549e-01],\n",
       "       [-2.80671224e-01, -1.00186949e-01],\n",
       "       [-2.77085692e-01, -9.98075315e-02],\n",
       "       [-4.13410528e-01, -2.69022008e-01],\n",
       "       [ 2.79563579e-01,  5.33642302e-02],\n",
       "       [ 9.25698547e-02, -1.87868742e-01],\n",
       "       [-2.59776760e-01, -8.15209008e-02],\n",
       "       [ 1.42291718e-01, -5.68239547e-02],\n",
       "       [ 3.13181807e-02, -1.28251358e-01],\n",
       "       [-4.28776102e-02, -7.80917670e-02],\n",
       "       [ 3.83143134e-02,  3.22978681e-02],\n",
       "       [-2.42596488e-02, -3.79125247e-02],\n",
       "       [ 1.47733440e-01, -1.05613171e-01],\n",
       "       [-2.59113528e-02,  1.67460969e-01],\n",
       "       [-1.33213409e-01, -3.35446746e-02],\n",
       "       [-5.91582720e-03,  1.84079602e-01],\n",
       "       [ 2.73695250e-02,  8.30148436e-02],\n",
       "       [-1.08650498e-01, -2.44581788e-01],\n",
       "       [-8.93554963e-02, -2.74055555e-01],\n",
       "       [ 1.28917063e-01, -1.01747430e-01],\n",
       "       [-5.05281409e-01, -1.25628350e-01],\n",
       "       [-7.37739699e-01, -8.21755777e-02],\n",
       "       [-8.00723751e-01, -1.72231167e-01],\n",
       "       [-5.62721497e-01, -1.86370727e-01],\n",
       "       [-2.99494791e-01, -4.00652789e-03],\n",
       "       [-4.29903435e-01, -5.51786450e-02],\n",
       "       [-4.65054080e-01, -2.05320019e-01],\n",
       "       [-4.20646197e-02,  5.39133050e-02],\n",
       "       [-7.86685539e-02,  6.51004407e-02],\n",
       "       [-1.12626792e-01,  4.33786066e-02],\n",
       "       [-4.06586292e-01,  1.51442532e-01],\n",
       "       [ 6.26512404e-01,  1.27171499e-01],\n",
       "       [ 4.28867360e-01,  6.30276274e-02],\n",
       "       [ 4.83795787e-01, -3.43523906e-02],\n",
       "       [ 8.33913984e-01, -1.80260744e-01],\n",
       "       [ 4.44757831e-01,  7.36338956e-02],\n",
       "       [ 3.44861997e-01,  5.30226752e-02],\n",
       "       [ 4.27851799e-01,  1.67507140e-01],\n",
       "       [ 1.08661925e+00,  1.80600791e-01],\n",
       "       [ 8.71709206e-01,  2.29536182e-01],\n",
       "       [ 3.67459287e-01, -9.46335556e-02],\n",
       "       [ 3.23407113e-01, -2.51729214e-03],\n",
       "       [ 6.73433293e-01, -2.18717833e-01],\n",
       "       [ 8.92474910e-01, -4.57705295e-02],\n",
       "       [ 9.09807326e-01,  8.82615091e-02],\n",
       "       [ 9.14500437e-01,  5.44536002e-02],\n",
       "       [ 6.70195385e-01,  4.64510114e-02],\n",
       "       [ 6.73976298e-01, -9.73394775e-02],\n",
       "       [ 9.71505832e-01,  2.72169895e-01],\n",
       "       [ 1.22198492e+00,  8.34187230e-03],\n",
       "       [ 1.12675153e+00, -6.95079860e-02],\n",
       "       [ 1.06962120e+00,  2.04181849e-01],\n",
       "       [ 7.62107163e-01, -6.57016747e-02],\n",
       "       [ 7.73177678e-01,  7.74291875e-02],\n",
       "       [ 6.99191646e-01, -2.01210485e-01],\n",
       "       [ 9.43237733e-01,  4.89229598e-01],\n",
       "       [ 5.23881891e-01,  1.69301984e-01],\n",
       "       [ 9.01026574e-01,  3.15526174e-02],\n",
       "       [ 8.19176939e-01,  2.99001000e-01],\n",
       "       [ 6.56717367e-01,  2.15989629e-01],\n",
       "       [ 7.26664964e-01,  5.04742717e-02],\n",
       "       [ 2.39737236e-01, -1.47473671e-01],\n",
       "       [ 4.80036442e-01, -1.67505939e-01],\n",
       "       [ 7.78093807e-01, -1.77242820e-01],\n",
       "       [ 8.40106231e-01,  1.48658176e-01],\n",
       "       [ 7.94349317e-01,  1.44072732e-02],\n",
       "       [ 6.51892460e-01, -1.44300143e-01],\n",
       "       [ 7.53117772e-01, -8.61758252e-02],\n",
       "       [ 5.12671272e-01,  1.69526418e-02],\n",
       "       [ 1.12785080e+00,  2.81183890e-01],\n",
       "       [ 6.69515310e-01,  1.59790981e-02],\n",
       "       [ 6.94860538e-01, -8.64836726e-02],\n",
       "       [ 8.59657959e-01,  2.18759612e-02],\n",
       "       [ 8.38319697e-01, -1.40190934e-01],\n",
       "       [ 7.91303755e-01,  3.52812894e-02],\n",
       "       [ 1.18744885e+00,  3.42505548e-02],\n",
       "       [ 9.00540760e-01,  1.49475321e-01],\n",
       "       [ 7.33608061e-01, -2.20717161e-01],\n",
       "       [ 8.30392832e-01, -3.36537819e-02],\n",
       "       [ 7.87147579e-01, -9.78229018e-03],\n",
       "       [ 1.04796487e+00,  9.25619441e-02],\n",
       "       [ 9.78186133e-01, -1.01962934e-01],\n",
       "       [ 5.26275016e-01,  4.12618615e-02],\n",
       "       [ 1.85369228e-01, -1.32197333e-02],\n",
       "       [ 5.98468443e-01, -1.69197420e-01],\n",
       "       [ 3.15456332e-03, -4.18218271e-01],\n",
       "       [ 7.61854592e-01, -1.60832827e-01],\n",
       "       [ 7.19896800e-01,  1.61875313e-01],\n",
       "       [ 5.44008417e-01, -1.05235669e-01],\n",
       "       [ 1.00965507e+00,  1.69946437e-01],\n",
       "       [ 4.01342920e-01, -2.27708344e-01],\n",
       "       [ 5.87472533e-01, -1.57531659e-01],\n",
       "       [ 7.59109688e-01, -1.05901365e-01],\n",
       "       [ 2.03132182e-01,  1.56277988e-01],\n",
       "       [ 2.54314524e-01,  3.36795869e-02],\n",
       "       [ 2.09558792e-01, -2.04214708e-02],\n",
       "       [ 1.60434044e-02, -2.55372093e-01],\n",
       "       [ 5.99445022e-01,  8.77715401e-02],\n",
       "       [ 2.07168702e-01,  2.07743574e-01],\n",
       "       [ 1.74646339e-01,  1.09197666e-01],\n",
       "       [ 3.24295828e-01, -8.28012007e-03],\n",
       "       [-2.88854815e-01,  1.03658652e-01],\n",
       "       [-1.85294690e-01,  8.70063114e-02],\n",
       "       [-3.01552430e-01, -1.09178317e-02],\n",
       "       [-4.96839177e-01, -3.40929543e-02],\n",
       "       [-5.49067752e-01,  1.69554231e-01],\n",
       "       [-6.33510843e-01,  2.16398275e-01],\n",
       "       [-6.92270184e-01,  1.25953044e-01],\n",
       "       [-4.63769654e-01, -6.60829230e-03],\n",
       "       [-4.08045651e-01,  1.12521198e-01],\n",
       "       [-6.29214562e-01,  2.70680334e-01],\n",
       "       [-5.48021519e-01,  8.85054467e-02],\n",
       "       [-4.79722591e-01,  2.28488504e-01],\n",
       "       [-4.40982258e-01,  1.86569694e-01],\n",
       "       [-6.75050235e-01,  1.74072410e-01],\n",
       "       [-6.70028828e-01,  9.76277536e-02],\n",
       "       [-6.63483682e-01,  2.07090812e-01],\n",
       "       [-7.03771237e-01, -5.26435006e-02],\n",
       "       [-5.07996760e-01,  2.45298363e-01],\n",
       "       [-5.12368765e-01,  3.28784204e-01],\n",
       "       [-6.09170950e-01,  2.26225260e-01],\n",
       "       [-3.78510539e-01,  1.78677657e-01],\n",
       "       [-5.00288760e-01,  1.67185709e-01],\n",
       "       [-5.40471037e-01,  8.56787487e-02],\n",
       "       [-4.12372604e-01,  3.48084094e-02],\n",
       "       [-7.71226501e-01, -3.71907574e-02],\n",
       "       [-6.04975793e-01, -9.01596330e-02],\n",
       "       [-4.68521076e-01,  8.04630807e-02],\n",
       "       [-4.31504017e-01,  1.89246063e-01],\n",
       "       [-7.24868272e-01,  1.65175036e-01],\n",
       "       [-7.60965943e-01,  7.40599547e-02],\n",
       "       [-5.89185649e-01,  2.35033650e-01],\n",
       "       [-6.18655261e-01,  2.32990474e-02],\n",
       "       [-7.31823507e-01,  3.58667819e-02],\n",
       "       [-6.94908691e-01,  6.65473349e-02],\n",
       "       [-6.63682098e-01,  2.51135796e-01],\n",
       "       [-7.77040451e-01, -7.71306872e-02],\n",
       "       [-6.90332201e-01,  1.39266354e-01],\n",
       "       [-7.65327723e-01,  1.65356038e-01],\n",
       "       [-6.64266000e-01,  9.85164685e-02],\n",
       "       [-4.41853559e-01,  1.07828086e-01],\n",
       "       [-7.22615252e-01,  2.79164342e-02],\n",
       "       [-4.55651564e-01, -6.48757498e-02],\n",
       "       [-5.21606573e-01,  2.07392998e-02],\n",
       "       [-6.60833832e-01, -1.82577590e-02],\n",
       "       [-2.50712763e-01,  9.37498725e-02],\n",
       "       [-5.71466627e-01,  2.73165477e-01],\n",
       "       [-5.11920813e-01,  2.79745450e-01],\n",
       "       [-7.88071188e-01,  1.03543945e-01],\n",
       "       [-6.93982114e-01, -8.09944302e-03],\n",
       "       [-8.61835320e-01, -1.03395304e-01],\n",
       "       [-7.93526168e-01,  4.43979971e-02],\n",
       "       [-7.03310026e-01,  6.25291083e-03],\n",
       "       [-5.76541070e-01, -8.21305261e-02],\n",
       "       [-7.46080808e-01,  1.96955979e-01],\n",
       "       [-4.82497048e-01, -3.25752855e-02],\n",
       "       [-4.44429601e-01, -1.97280688e-01],\n",
       "       [-4.41230675e-01, -1.01001059e-01],\n",
       "       [-3.20101857e-01, -9.65502951e-02],\n",
       "       [-3.89588242e-01,  1.27861474e-01],\n",
       "       [-4.92801538e-01, -2.75191891e-01],\n",
       "       [-4.86622551e-01, -5.42081361e-02],\n",
       "       [-5.74031324e-01, -3.16697577e-01],\n",
       "       [-7.62537768e-01, -5.07740525e-02],\n",
       "       [-4.49112488e-01, -1.55662536e-01],\n",
       "       [-5.16694598e-01, -4.14931073e-02],\n",
       "       [-5.54798788e-01, -1.00468278e-01],\n",
       "       [-6.71378754e-01,  4.44941701e-02],\n",
       "       [-3.18228254e-01, -2.30223365e-01],\n",
       "       [-6.18255395e-01,  3.53340009e-02],\n",
       "       [-4.77752815e-01, -2.73319795e-02]])"
      ]
     },
     "execution_count": 45,
     "metadata": {},
     "output_type": "execute_result"
    }
   ],
   "source": [
    "# dcorreleate the green measurement with PCA\n",
    "# import PCA\n",
    "from sklearn.decomposition import PCA\n",
    "\n",
    "# create the PCA instance\n",
    "model = PCA()\n",
    "\n",
    "# apply he fit and transform method\n",
    "pca_features = model.fit_transform(df)\n",
    "\n",
    "pca_features"
   ]
  },
  {
   "cell_type": "code",
   "execution_count": 44,
   "id": "0d83cbff",
   "metadata": {},
   "outputs": [
    {
     "data": {
      "image/png": "[encoded data removed]",
      "text/plain": [
       "<Figure size 432x288 with 1 Axes>"
      ]
     },
     "metadata": {
      "needs_background": "light"
     },
     "output_type": "display_data"
    },
    {
     "name": "stdout",
     "output_type": "stream",
     "text": [
      "-1.0408340855860843e-16\n"
     ]
    }
   ],
   "source": [
    "# assigning the 0th column of pca_features to ' xs'\n",
    "xs = pca_features[:,0]\n",
    "\n",
    "# assigning the 1st column of pca_features to ' ys'\n",
    "ys = pca_features[:,1]\n",
    "\n",
    "plt.scatter(xs,ys)\n",
    "plt.axis('equal')\n",
    "plt.show()\n",
    "\n",
    "# finding the correleation\n",
    "correleation , pvalue = pearsonr(xs,ys)\n",
    "\n",
    "# display the correleation\n",
    "print(correleation)"
   ]
  },
  {
   "cell_type": "code",
   "execution_count": null,
   "id": "c8427818",
   "metadata": {},
   "outputs": [],
   "source": [
    "\n",
    "\n"
   ]
  },
  {
   "cell_type": "code",
   "execution_count": null,
   "id": "7dbc8567",
   "metadata": {},
   "outputs": [],
   "source": []
  }
 ],
 "metadata": {
  "kernelspec": {
   "display_name": "Python 3 (ipykernel)",
   "language": "python",
   "name": "python3"
  },
  "language_info": {
   "codemirror_mode": {
    "name": "ipython",
    "version": 3
   },
   "file_extension": ".py",
   "mimetype": "text/x-python",
   "name": "python",
   "nbconvert_exporter": "python",
   "pygments_lexer": "ipython3",
   "version": "3.11.4"
  }
 },
 "nbformat": 4,
 "nbformat_minor": 5
}
