{
 "cells": [
  {
   "cell_type": "code",
   "execution_count": 2,
   "id": "d8b05ed7",
   "metadata": {},
   "outputs": [
    {
     "name": "stdout",
     "output_type": "stream",
     "text": [
      "both conditions are true\n"
     ]
    }
   ],
   "source": [
    "a,b,c = 20 , 15,54\n",
    "\n",
    "if a>b and a<c :\n",
    "    print('both conditions are true')"
   ]
  },
  {
   "cell_type": "code",
   "execution_count": 3,
   "id": "32449ef5",
   "metadata": {},
   "outputs": [
    {
     "name": "stdout",
     "output_type": "stream",
     "text": [
      "A is not the smallest\n"
     ]
    }
   ],
   "source": [
    "a,b,c = 20 , 15,54\n",
    "\n",
    "if a>b or a>c :\n",
    "    print('A is not the smallest')"
   ]
  },
  {
   "cell_type": "code",
   "execution_count": 4,
   "id": "2ee874b2",
   "metadata": {},
   "outputs": [
    {
     "name": "stdout",
     "output_type": "stream",
     "text": [
      " a is greater than b\n"
     ]
    }
   ],
   "source": [
    "# short hand , only if one statement is to be exceuted\n",
    "if a>b : print(' a is greater than b')"
   ]
  },
  {
   "cell_type": "code",
   "execution_count": 5,
   "id": "b34e5f6c",
   "metadata": {},
   "outputs": [
    {
     "name": "stdout",
     "output_type": "stream",
     "text": [
      "b is greater\n"
     ]
    }
   ],
   "source": [
    "a = 2\n",
    "b = 3\n",
    "\n",
    "print('A is greater') if a>b else print('b is greater')"
   ]
  },
  {
   "cell_type": "code",
   "execution_count": 15,
   "id": "2688fa3d",
   "metadata": {},
   "outputs": [
    {
     "name": "stdout",
     "output_type": "stream",
     "text": [
      "A is greater than B and c\n"
     ]
    }
   ],
   "source": [
    "a,b,c = 5,1,3\n",
    "\n",
    "if a>b :\n",
    "    if a>c :\n",
    "        print('A is greater than B and c')\n",
    "    else :\n",
    "        print('A is only greater than B and less than c')\n",
    "else :\n",
    "    print('A is less than B and c')"
   ]
  },
  {
   "cell_type": "code",
   "execution_count": 16,
   "id": "dfb1a322",
   "metadata": {},
   "outputs": [],
   "source": [
    "a,b = 4,6\n",
    "\n",
    "if b>a:\n",
    "    pass"
   ]
  },
  {
   "cell_type": "code",
   "execution_count": 31,
   "id": "88a3b756",
   "metadata": {},
   "outputs": [
    {
     "name": "stdout",
     "output_type": "stream",
     "text": [
      "0\n",
      "1\n",
      "2\n",
      "3\n",
      "4\n",
      "5\n",
      "6\n",
      "7\n",
      "8\n"
     ]
    }
   ],
   "source": [
    "# while loop\n",
    "\n",
    "numbers = [1,2,3,4,5,6,7,8,9]\n",
    "i = 0\n",
    "while (i < len(numbers)):\n",
    "    print(i)\n",
    "    i+=1"
   ]
  },
  {
   "cell_type": "code",
   "execution_count": 33,
   "id": "41ae9435",
   "metadata": {},
   "outputs": [
    {
     "name": "stdout",
     "output_type": "stream",
     "text": [
      "0\n",
      "2\n",
      "4\n",
      "6\n",
      "8\n"
     ]
    }
   ],
   "source": [
    "# while loop\n",
    "\n",
    "numbers = [1,2,3,4,5,6,7,8,9]\n",
    "i = 0\n",
    "while (i < len(numbers)):\n",
    "    print(i)\n",
    "    i+=2"
   ]
  },
  {
   "cell_type": "code",
   "execution_count": 49,
   "id": "4e6cd893",
   "metadata": {},
   "outputs": [
    {
     "name": "stdout",
     "output_type": "stream",
     "text": [
      "[3, 5, 7, 9, 11, 13, 15, 17, 19]\n"
     ]
    }
   ],
   "source": [
    "numbers = [1,2,3,4,5,6,7,8,9]\n",
    "sum = []\n",
    "i = 0\n",
    "while (i < len(numbers)):\n",
    "    k = numbers[i]+numbers[i]+1\n",
    "    sum.append(k)\n",
    "    i+=1\n",
    "print(sum)\n",
    "    "
   ]
  },
  {
   "cell_type": "code",
   "execution_count": 50,
   "id": "9bd2a1be",
   "metadata": {},
   "outputs": [
    {
     "name": "stdout",
     "output_type": "stream",
     "text": [
      "3\n",
      "5\n",
      "7\n",
      "9\n",
      "11\n",
      "13\n",
      "15\n",
      "17\n",
      "19\n"
     ]
    }
   ],
   "source": [
    "numbers = [1,2,3,4,5,6,7,8,9]\n",
    "sum = []\n",
    "i = 0\n",
    "while (i < len(numbers)):\n",
    "    sum = numbers[i]+numbers[i]+1\n",
    "    print(sum)\n",
    "    i+=1"
   ]
  },
  {
   "cell_type": "code",
   "execution_count": 2,
   "id": "3e137eaf",
   "metadata": {},
   "outputs": [
    {
     "name": "stdout",
     "output_type": "stream",
     "text": [
      "0\n",
      "1\n",
      "1\n",
      "2\n",
      "3\n",
      "5\n",
      "8\n"
     ]
    }
   ],
   "source": [
    "a,b = 0,1\n",
    "\n",
    "while a<10 :\n",
    "    print(a)\n",
    "    a,b = b,a+b"
   ]
  },
  {
   "cell_type": "code",
   "execution_count": 4,
   "id": "95ca2f48",
   "metadata": {},
   "outputs": [
    {
     "name": "stdout",
     "output_type": "stream",
     "text": [
      "Rank is 5\n",
      "Rank is 6\n",
      "Rank is 7\n",
      "Rank is 8\n",
      "Rank is 9\n",
      "Rank is 10\n",
      "Rank is 11\n"
     ]
    }
   ],
   "source": [
    "rank = 5\n",
    "while rank != 12 :\n",
    "    print('Rank is' , rank)\n",
    "    rank+=1"
   ]
  },
  {
   "cell_type": "code",
   "execution_count": 6,
   "id": "3a7f21ad",
   "metadata": {},
   "outputs": [
    {
     "name": "stdout",
     "output_type": "stream",
     "text": [
      "3\n",
      "4\n",
      "5\n",
      "6\n",
      "7\n",
      "8\n",
      "9\n",
      "10\n",
      "11\n"
     ]
    }
   ],
   "source": [
    "# for loop\n",
    "\n",
    "numbers = [1,2,3,4,5,6,7,8,9]\n",
    "\n",
    "for i in numbers :\n",
    "    print(i+2)"
   ]
  },
  {
   "cell_type": "code",
   "execution_count": 7,
   "id": "0430a4d5",
   "metadata": {},
   "outputs": [
    {
     "name": "stdout",
     "output_type": "stream",
     "text": [
      "0\n",
      "1\n",
      "2\n",
      "3\n",
      "4\n"
     ]
    }
   ],
   "source": [
    "for i in range(5):\n",
    "    print(i)"
   ]
  },
  {
   "cell_type": "code",
   "execution_count": 8,
   "id": "21b0a19c",
   "metadata": {},
   "outputs": [
    {
     "name": "stdout",
     "output_type": "stream",
     "text": [
      "2\n",
      "5\n",
      "8\n",
      "11\n",
      "14\n",
      "17\n"
     ]
    }
   ],
   "source": [
    "for i in range(2,20,3):\n",
    "    print(i)"
   ]
  },
  {
   "cell_type": "code",
   "execution_count": 9,
   "id": "fe7a723a",
   "metadata": {},
   "outputs": [
    {
     "name": "stdout",
     "output_type": "stream",
     "text": [
      "banana\n",
      "Apple\n",
      "orange\n"
     ]
    }
   ],
   "source": [
    "fruits = ['banana' , 'Apple' , 'orange']\n",
    "\n",
    "for i in fruits :\n",
    "    print(i)"
   ]
  },
  {
   "cell_type": "code",
   "execution_count": 14,
   "id": "a9ffebae",
   "metadata": {},
   "outputs": [
    {
     "name": "stdout",
     "output_type": "stream",
     "text": [
      "0\n",
      "1\n",
      "2\n"
     ]
    }
   ],
   "source": [
    "fruits = ['banana' , 'Apple' , 'orange']\n",
    "\n",
    "for i in range(len(fruits)) :\n",
    "    print(i)"
   ]
  },
  {
   "cell_type": "code",
   "execution_count": 15,
   "id": "e20eff74",
   "metadata": {},
   "outputs": [
    {
     "name": "stdout",
     "output_type": "stream",
     "text": [
      "A\n",
      "p\n",
      "p\n",
      "l\n",
      "e\n"
     ]
    }
   ],
   "source": [
    "s = 'Apple'\n",
    "\n",
    "for i in s :\n",
    "    print(i)"
   ]
  },
  {
   "cell_type": "code",
   "execution_count": 19,
   "id": "79966092",
   "metadata": {},
   "outputs": [
    {
     "name": "stdout",
     "output_type": "stream",
     "text": [
      "banana\n",
      "Apple\n"
     ]
    }
   ],
   "source": [
    "fruits = ['banana' , 'Apple' , 'orange']\n",
    "\n",
    "for i in fruits :\n",
    "    print(i)\n",
    "    if i == 'Apple':\n",
    "        break"
   ]
  },
  {
   "cell_type": "code",
   "execution_count": 20,
   "id": "4e78de2d",
   "metadata": {},
   "outputs": [
    {
     "name": "stdout",
     "output_type": "stream",
     "text": [
      "banana\n",
      "orange\n"
     ]
    }
   ],
   "source": [
    "fruits = ['banana' , 'Apple' , 'orange']\n",
    "\n",
    "for i in fruits :\n",
    "    if i == 'Apple':\n",
    "        continue\n",
    "    print(i)"
   ]
  },
  {
   "cell_type": "code",
   "execution_count": 21,
   "id": "e4b07b67",
   "metadata": {},
   "outputs": [
    {
     "name": "stdout",
     "output_type": "stream",
     "text": [
      "0\n",
      "1\n",
      "2\n",
      "3\n",
      "4\n",
      "finished\n"
     ]
    }
   ],
   "source": [
    "for x in range(5) :\n",
    "    print(x)\n",
    "else :\n",
    "    print('finished')"
   ]
  },
  {
   "cell_type": "code",
   "execution_count": 24,
   "id": "9df6368a",
   "metadata": {},
   "outputs": [
    {
     "name": "stdout",
     "output_type": "stream",
     "text": [
      "zespri kiwi\n",
      "zespri apple\n",
      "zespri  orange\n",
      "gala kiwi\n",
      "gala apple\n",
      "gala  orange\n",
      "malta kiwi\n",
      "malta apple\n",
      "malta  orange\n"
     ]
    }
   ],
   "source": [
    "brand = ['zespri','gala','malta']\n",
    "fruit = ['kiwi' , 'apple', ' orange']\n",
    "\n",
    "for i in brand:\n",
    "    for x in fruit :\n",
    "        print(i,x)def ="
   ]
  },
  {
   "cell_type": "code",
   "execution_count": 33,
   "id": "e640f12d",
   "metadata": {},
   "outputs": [
    {
     "name": "stdout",
     "output_type": "stream",
     "text": [
      "zespri kiwi\n",
      "gala apple\n",
      "malta  orange\n"
     ]
    }
   ],
   "source": [
    "brand = ['zespri','gala','malta']\n",
    "fruit = ['kiwi' , 'apple', ' orange']\n",
    "\n",
    "for i in range(len(brand)):\n",
    "        print(brand[i],fruit[i])\n",
    "        "
   ]
  },
  {
   "cell_type": "markdown",
   "id": "b09157d7",
   "metadata": {},
   "source": [
    " ### functions"
   ]
  },
  {
   "cell_type": "code",
   "execution_count": 38,
   "id": "a2dad38c",
   "metadata": {},
   "outputs": [
    {
     "name": "stdout",
     "output_type": "stream",
     "text": [
      "hello world\n"
     ]
    }
   ],
   "source": [
    "def greet():\n",
    "    print('hello world')\n",
    "    \n",
    "greet()"
   ]
  },
  {
   "cell_type": "code",
   "execution_count": 41,
   "id": "efe58025",
   "metadata": {},
   "outputs": [
    {
     "name": "stdout",
     "output_type": "stream",
     "text": [
      "12\n"
     ]
    }
   ],
   "source": [
    "def jodo(x,y):\n",
    "    print(x*y)\n",
    "    \n",
    "jodo(3,4)"
   ]
  },
  {
   "cell_type": "code",
   "execution_count": 42,
   "id": "9c11aa51",
   "metadata": {},
   "outputs": [
    {
     "name": "stdout",
     "output_type": "stream",
     "text": [
      "world  hello\n"
     ]
    }
   ],
   "source": [
    "def greet(x,y):\n",
    "    print(x+ '  ' +y )\n",
    "\n",
    "greet('world','hello')"
   ]
  },
  {
   "cell_type": "code",
   "execution_count": 43,
   "id": "20fd4ec1",
   "metadata": {},
   "outputs": [
    {
     "name": "stdout",
     "output_type": "stream",
     "text": [
      "hello  world\n"
     ]
    }
   ],
   "source": [
    "def greet(x,y):\n",
    "    print(x+ '  ' +y )\n",
    "\n",
    "greet(y = 'world',x = 'hello')"
   ]
  },
  {
   "cell_type": "code",
   "execution_count": 46,
   "id": "0decd367",
   "metadata": {},
   "outputs": [
    {
     "name": "stdout",
     "output_type": "stream",
     "text": [
      "write your Name :Ma Aleem\n",
      "welcome to the jupyter    Ma Aleem\n"
     ]
    }
   ],
   "source": [
    "def greet():\n",
    "    str = input('write your Name :')\n",
    "    print('welcome to the jupyter','  ',str)\n",
    "\n",
    "greet()"
   ]
  },
  {
   "cell_type": "code",
   "execution_count": 1,
   "id": "3faad71a",
   "metadata": {},
   "outputs": [],
   "source": [
    "### guess the number game\n",
    "\n",
    "def gtn():\n",
    "    print('you have got four chances to guess the number \\nits between 1 & 10')\n",
    "    for i in range (4) :\n",
    "        numb = int(input())\n",
    "        if numb == 7 :\n",
    "            print('correctly guessed')\n",
    "            break\n",
    "        elif numb > 7 and numb < 10:\n",
    "            print('\\nyou have guessed a bigger number , try smaller')\n",
    "        elif numb <5 :\n",
    "            print('\\nyou have guessed a way smaller number\\n')\n",
    "        elif numb >5 and numb < 7:\n",
    "            print('\\nyour guesss is close but gues a little bigger number\\n')\n",
    "        else :\n",
    "            'try a number between 1 and 10'\n",
    "        print(' \\nyou now have only  ', 4-(i+1) , ' chances left')"
   ]
  },
  {
   "cell_type": "code",
   "execution_count": null,
   "id": "9c12e273",
   "metadata": {},
   "outputs": [
    {
     "name": "stdout",
     "output_type": "stream",
     "text": [
      "you have got four chances to guess the number \n",
      "its between 1 & 10\n",
      "5\n",
      " \n",
      "you now have only   3  chances left\n",
      "3\n",
      "\n",
      "you have guessed a way smaller number\n",
      "\n",
      " \n",
      "you now have only   2  chances left\n",
      "5\n",
      " \n",
      "you now have only   1  chances left\n"
     ]
    }
   ],
   "source": [
    "gtn()"
   ]
  },
  {
   "cell_type": "code",
   "execution_count": null,
   "id": "c01179ef",
   "metadata": {},
   "outputs": [],
   "source": [
    "def greet():\n",
    "    print('welcome to the jupyter','  ',str)\n",
    "\n",
    "str = input('write your Name :')\n",
    "\n",
    "greet()"
   ]
  },
  {
   "cell_type": "code",
   "execution_count": 49,
   "id": "a2c1ed8f",
   "metadata": {},
   "outputs": [
    {
     "name": "stdout",
     "output_type": "stream",
     "text": [
      "['mi', 'smasung', 'nokia', 'mi', 'smasung', 'nokia', 'mi', 'smasung', 'nokia']\n"
     ]
    }
   ],
   "source": [
    "phones = ['mi','smasung','nokia']\n",
    "\n",
    "def baarbaar(x):\n",
    "    print(x*3)\n",
    "\n",
    "baarbaar(phones)"
   ]
  },
  {
   "cell_type": "code",
   "execution_count": 56,
   "id": "d3e38fdd",
   "metadata": {},
   "outputs": [
    {
     "name": "stdout",
     "output_type": "stream",
     "text": [
      "carcarcar\n",
      "busbusbus\n",
      "bikebikebike\n"
     ]
    }
   ],
   "source": [
    "list = ['car','bus','bike']\n",
    "\n",
    "def asd(x):\n",
    "    print(x*3)\n",
    "\n",
    "def zxc(x,y):\n",
    "    for i in y:\n",
    "        x(i)\n",
    "\n",
    "zxc(asd,list)"
   ]
  },
  {
   "cell_type": "code",
   "execution_count": 67,
   "id": "b087cc3d",
   "metadata": {},
   "outputs": [
    {
     "name": "stdout",
     "output_type": "stream",
     "text": [
      "32\n"
     ]
    }
   ],
   "source": [
    "ans = lambda z:z*4\n",
    "\n",
    "print(ans(8))"
   ]
  },
  {
   "cell_type": "code",
   "execution_count": 68,
   "id": "898b1442",
   "metadata": {},
   "outputs": [
    {
     "name": "stdout",
     "output_type": "stream",
     "text": [
      "24\n"
     ]
    }
   ],
   "source": [
    "ans = lambda x,y,z:x*y*z\n",
    "\n",
    "print(ans(2,3,4))"
   ]
  },
  {
   "cell_type": "code",
   "execution_count": 69,
   "id": "a6e5e2a1",
   "metadata": {},
   "outputs": [
    {
     "data": {
      "text/plain": [
       "42"
      ]
     },
     "execution_count": 69,
     "metadata": {},
     "output_type": "execute_result"
    }
   ],
   "source": [
    "def return_42():\n",
    "    return 42\n",
    "return_42()"
   ]
  },
  {
   "cell_type": "markdown",
   "id": "1242ef25",
   "metadata": {},
   "source": [
    " # scipy ( scientifc python )\n"
   ]
  },
  {
   "cell_type": "code",
   "execution_count": 75,
   "id": "e3dc746e",
   "metadata": {},
   "outputs": [
    {
     "name": "stdout",
     "output_type": "stream",
     "text": [
      "  (1, 2)\t1\n",
      "  (2, 0)\t1\n",
      "  (2, 2)\t2\n"
     ]
    }
   ],
   "source": [
    "# working with sparse matrix\n",
    "import numpy as np\n",
    "from scipy.sparse import csr_matrix\n",
    "\n",
    "arr = np.array([[0,0,0],[0,0,1],[1,0,2]])\n",
    "\n",
    "print(csr_matrix(arr))"
   ]
  },
  {
   "cell_type": "code",
   "execution_count": 76,
   "id": "d8c87d0c",
   "metadata": {},
   "outputs": [
    {
     "name": "stdout",
     "output_type": "stream",
     "text": [
      "[1 1 2]\n"
     ]
    }
   ],
   "source": [
    "import numpy as np\n",
    "from scipy.sparse import csr_matrix\n",
    "\n",
    "arr = np.array([[0,0,0],[0,0,1],[1,0,2]])\n",
    "\n",
    "print(csr_matrix(arr).data)"
   ]
  },
  {
   "cell_type": "code",
   "execution_count": 77,
   "id": "2cf3b4de",
   "metadata": {},
   "outputs": [
    {
     "name": "stdout",
     "output_type": "stream",
     "text": [
      "3\n"
     ]
    }
   ],
   "source": [
    "import numpy as np\n",
    "from scipy.sparse import csr_matrix\n",
    "\n",
    "arr = np.array([[0,0,0],[0,0,1],[1,0,2]])\n",
    "\n",
    "print(csr_matrix(arr).count_nonzero())   #counts number of nonzero items"
   ]
  },
  {
   "cell_type": "code",
   "execution_count": 2,
   "id": "b28218cb",
   "metadata": {},
   "outputs": [
    {
     "data": {
      "text/plain": [
       "array([[2.],\n",
       "       [3.]])"
      ]
     },
     "execution_count": 2,
     "metadata": {},
     "output_type": "execute_result"
    }
   ],
   "source": [
    "import numpy as np\n",
    "from scipy.linalg import solve\n",
    "\n",
    "A = np.array([[3,2],[2,-1]])\n",
    "B = np.array([12,1]).reshape((2,1))\n",
    "X = solve(A,B)\n",
    "\n",
    "X"
   ]
  },
  {
   "cell_type": "code",
   "execution_count": 14,
   "id": "43bbd5f6",
   "metadata": {},
   "outputs": [
    {
     "name": "stdout",
     "output_type": "stream",
     "text": [
      "     fun: -0.41741118113173226\n",
      " message: '\\nOptimization terminated successfully;\\nThe returned value satisfies the termination criteria\\n(using xtol = 1.48e-08 )'\n",
      "    nfev: 15\n",
      "     nit: 11\n",
      " success: True\n",
      "       x: 0.6299605279579121\n"
     ]
    }
   ],
   "source": [
    "# finding minimal point for a linear equation\n",
    "from scipy.optimize import minimize_scalar\n",
    "\n",
    "def obj(x):\n",
    "    return(3*x**4 - 3*x + 1)\n",
    "minimal_point = minimize_scalar(obj)\n",
    "print(minimal_point)"
   ]
  },
  {
   "cell_type": "code",
   "execution_count": null,
   "id": "f0176426",
   "metadata": {},
   "outputs": [],
   "source": []
  },
  {
   "cell_type": "code",
   "execution_count": null,
   "id": "25e1e527",
   "metadata": {},
   "outputs": [],
   "source": []
  },
  {
   "cell_type": "code",
   "execution_count": 56,
   "id": "4b9a458f",
   "metadata": {},
   "outputs": [],
   "source": [
    "def ifelse(x,y):\n",
    "    if x > y :\n",
    "        print('x is bigger')\n",
    "    elif x < y:\n",
    "        print('y is bbigger')\n",
    "    else :\n",
    "        print()"
   ]
  },
  {
   "cell_type": "code",
   "execution_count": 57,
   "id": "bb7ca500",
   "metadata": {},
   "outputs": [
    {
     "name": "stdout",
     "output_type": "stream",
     "text": [
      "y is bbigger\n"
     ]
    }
   ],
   "source": [
    "ifelse(3,4)"
   ]
  },
  {
   "cell_type": "code",
   "execution_count": null,
   "id": "3c7eb2d4",
   "metadata": {},
   "outputs": [],
   "source": []
  }
 ],
 "metadata": {
  "kernelspec": {
   "display_name": "Python 3 (ipykernel)",
   "language": "python",
   "name": "python3"
  },
  "language_info": {
   "codemirror_mode": {
    "name": "ipython",
    "version": 3
   },
   "file_extension": ".py",
   "mimetype": "text/x-python",
   "name": "python",
   "nbconvert_exporter": "python",
   "pygments_lexer": "ipython3",
   "version": "3.11.4"
  }
 },
 "nbformat": 4,
 "nbformat_minor": 5
}
