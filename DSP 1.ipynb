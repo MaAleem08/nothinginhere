{
 "cells": [
  {
   "cell_type": "markdown",
   "id": "63e18ebe",
   "metadata": {},
   "source": [
    "# Ma Aleem's Jupyter hands-on"
   ]
  },
  {
   "cell_type": "code",
   "execution_count": 4,
   "id": "5c9440d1",
   "metadata": {},
   "outputs": [
    {
     "name": "stdout",
     "output_type": "stream",
     "text": [
      "hello world\n"
     ]
    }
   ],
   "source": [
    "print('hello world')"
   ]
  },
  {
   "cell_type": "code",
   "execution_count": 5,
   "id": "4bd09162",
   "metadata": {},
   "outputs": [
    {
     "data": {
      "text/plain": [
       "int"
      ]
     },
     "execution_count": 5,
     "metadata": {},
     "output_type": "execute_result"
    }
   ],
   "source": [
    "x= 3\n",
    "type(x)"
   ]
  },
  {
   "cell_type": "code",
   "execution_count": 6,
   "id": "fe34342d",
   "metadata": {},
   "outputs": [
    {
     "data": {
      "text/plain": [
       "float"
      ]
     },
     "execution_count": 6,
     "metadata": {},
     "output_type": "execute_result"
    }
   ],
   "source": [
    "y = 2.1\n",
    "type(y)"
   ]
  },
  {
   "cell_type": "code",
   "execution_count": null,
   "id": "1e2b711e",
   "metadata": {},
   "outputs": [],
   "source": [
    "a =3\n",
    "b = 5\n",
    "c = 9"
   ]
  },
  {
   "cell_type": "code",
   "execution_count": 1,
   "id": "8f6aa9fc",
   "metadata": {},
   "outputs": [
    {
     "data": {
      "text/plain": [
       "11"
      ]
     },
     "execution_count": 1,
     "metadata": {},
     "output_type": "execute_result"
    }
   ],
   "source": [
    "a,b,c = (3+3),5,(9/2)\n",
    "a+b"
   ]
  },
  {
   "cell_type": "code",
   "execution_count": 2,
   "id": "5562355a",
   "metadata": {},
   "outputs": [
    {
     "data": {
      "text/plain": [
       "27.0"
      ]
     },
     "execution_count": 2,
     "metadata": {},
     "output_type": "execute_result"
    }
   ],
   "source": [
    "a*c"
   ]
  },
  {
   "cell_type": "code",
   "execution_count": 6,
   "id": "e50933b3",
   "metadata": {},
   "outputs": [],
   "source": [
    "x = 7\n",
    "x = x+90"
   ]
  },
  {
   "cell_type": "code",
   "execution_count": 7,
   "id": "ddd134eb",
   "metadata": {},
   "outputs": [
    {
     "data": {
      "text/plain": [
       "97"
      ]
     },
     "execution_count": 7,
     "metadata": {},
     "output_type": "execute_result"
    }
   ],
   "source": [
    "x"
   ]
  },
  {
   "cell_type": "code",
   "execution_count": 8,
   "id": "02cecf54",
   "metadata": {},
   "outputs": [],
   "source": [
    "x = 7\n",
    "x += 90"
   ]
  },
  {
   "cell_type": "code",
   "execution_count": 9,
   "id": "ee1cd5ca",
   "metadata": {},
   "outputs": [
    {
     "data": {
      "text/plain": [
       "97"
      ]
     },
     "execution_count": 9,
     "metadata": {},
     "output_type": "execute_result"
    }
   ],
   "source": [
    "x"
   ]
  },
  {
   "cell_type": "code",
   "execution_count": 10,
   "id": "656315cc",
   "metadata": {},
   "outputs": [
    {
     "data": {
      "text/plain": [
       "'test'"
      ]
     },
     "execution_count": 10,
     "metadata": {},
     "output_type": "execute_result"
    }
   ],
   "source": [
    "z = 'test'\n",
    "z"
   ]
  },
  {
   "cell_type": "code",
   "execution_count": 11,
   "id": "7832ea45",
   "metadata": {},
   "outputs": [
    {
     "data": {
      "text/plain": [
       "(str, 'test')"
      ]
     },
     "execution_count": 11,
     "metadata": {},
     "output_type": "execute_result"
    }
   ],
   "source": [
    "type(z),z"
   ]
  },
  {
   "cell_type": "code",
   "execution_count": 12,
   "id": "533ffaa6",
   "metadata": {},
   "outputs": [
    {
     "name": "stdout",
     "output_type": "stream",
     "text": [
      "9\n"
     ]
    }
   ],
   "source": [
    "a = 9\n",
    "print(a)"
   ]
  },
  {
   "cell_type": "code",
   "execution_count": 13,
   "id": "63cc80d6",
   "metadata": {},
   "outputs": [
    {
     "data": {
      "text/plain": [
       "9"
      ]
     },
     "execution_count": 13,
     "metadata": {},
     "output_type": "execute_result"
    }
   ],
   "source": [
    "a"
   ]
  },
  {
   "cell_type": "code",
   "execution_count": 13,
   "id": "677aca46",
   "metadata": {},
   "outputs": [
    {
     "data": {
      "text/plain": [
       "2.3333333333333335"
      ]
     },
     "execution_count": 13,
     "metadata": {},
     "output_type": "execute_result"
    }
   ],
   "source": [
    "a = 7/3\n",
    "a"
   ]
  },
  {
   "cell_type": "code",
   "execution_count": 14,
   "id": "d833439e",
   "metadata": {},
   "outputs": [
    {
     "data": {
      "text/plain": [
       "3"
      ]
     },
     "execution_count": 14,
     "metadata": {},
     "output_type": "execute_result"
    }
   ],
   "source": [
    "b = 7//2\n",
    "b"
   ]
  },
  {
   "cell_type": "code",
   "execution_count": 15,
   "id": "3941d4b2",
   "metadata": {},
   "outputs": [
    {
     "name": "stdout",
     "output_type": "stream",
     "text": [
      "maAleem\n"
     ]
    }
   ],
   "source": [
    "first_string = 'maAleem'\n",
    "print(first_string)"
   ]
  },
  {
   "cell_type": "code",
   "execution_count": 16,
   "id": "d608e521",
   "metadata": {},
   "outputs": [
    {
     "data": {
      "text/plain": [
       "True"
      ]
     },
     "execution_count": 16,
     "metadata": {},
     "output_type": "execute_result"
    }
   ],
   "source": [
    "nums = None\n",
    "nums is None # ' is ' used to check if it is correct value"
   ]
  },
  {
   "cell_type": "code",
   "execution_count": 17,
   "id": "5ef2b7ee",
   "metadata": {},
   "outputs": [
    {
     "data": {
      "text/plain": [
       "NoneType"
      ]
     },
     "execution_count": 17,
     "metadata": {},
     "output_type": "execute_result"
    }
   ],
   "source": [
    "type(nums)"
   ]
  },
  {
   "cell_type": "code",
   "execution_count": 18,
   "id": "1611d3c2",
   "metadata": {},
   "outputs": [
    {
     "data": {
      "text/plain": [
       "True"
      ]
     },
     "execution_count": 18,
     "metadata": {},
     "output_type": "execute_result"
    }
   ],
   "source": [
    "a = 9\n",
    "a  == 9"
   ]
  },
  {
   "cell_type": "code",
   "execution_count": 19,
   "id": "29f302cc",
   "metadata": {},
   "outputs": [],
   "source": [
    "import warnings\n",
    "warnings.filterwarnings(\"ignore\")"
   ]
  },
  {
   "cell_type": "code",
   "execution_count": 20,
   "id": "6415cef0",
   "metadata": {},
   "outputs": [
    {
     "data": {
      "text/plain": [
       "True"
      ]
     },
     "execution_count": 20,
     "metadata": {},
     "output_type": "execute_result"
    }
   ],
   "source": [
    "a is 9"
   ]
  },
  {
   "cell_type": "code",
   "execution_count": 21,
   "id": "6939f01f",
   "metadata": {},
   "outputs": [
    {
     "data": {
      "text/plain": [
       "False"
      ]
     },
     "execution_count": 21,
     "metadata": {},
     "output_type": "execute_result"
    }
   ],
   "source": [
    "a is not 9"
   ]
  },
  {
   "cell_type": "code",
   "execution_count": 28,
   "id": "f9eeb02d",
   "metadata": {},
   "outputs": [],
   "source": [
    "z = 5.999999"
   ]
  },
  {
   "cell_type": "code",
   "execution_count": 29,
   "id": "bb6817fe",
   "metadata": {},
   "outputs": [
    {
     "data": {
      "text/plain": [
       "5"
      ]
     },
     "execution_count": 29,
     "metadata": {},
     "output_type": "execute_result"
    }
   ],
   "source": [
    "int(z)"
   ]
  },
  {
   "cell_type": "code",
   "execution_count": 30,
   "id": "c95761bf",
   "metadata": {},
   "outputs": [
    {
     "data": {
      "text/plain": [
       "5.999999"
      ]
     },
     "execution_count": 30,
     "metadata": {},
     "output_type": "execute_result"
    }
   ],
   "source": [
    "float(z)"
   ]
  },
  {
   "cell_type": "code",
   "execution_count": null,
   "id": "e696c268",
   "metadata": {},
   "outputs": [],
   "source": []
  },
  {
   "cell_type": "code",
   "execution_count": 31,
   "id": "159675ad",
   "metadata": {},
   "outputs": [
    {
     "data": {
      "text/plain": [
       "'Hello'"
      ]
     },
     "execution_count": 31,
     "metadata": {},
     "output_type": "execute_result"
    }
   ],
   "source": [
    "\"Hello\""
   ]
  },
  {
   "cell_type": "code",
   "execution_count": 35,
   "id": "467e970b",
   "metadata": {},
   "outputs": [
    {
     "data": {
      "text/plain": [
       "(['MaAleem', 1234, 85.7, 'test'],\n",
       " [2164, 65, 'ioefhhbe'],\n",
       " 4651,\n",
       " {'name': ['Ma', 'Aleem']})"
      ]
     },
     "execution_count": 35,
     "metadata": {},
     "output_type": "execute_result"
    }
   ],
   "source": [
    "fst_tup = ( ['MaAleem',1234,85.7, \"test\"] , [2164,65,\"ioefhhbe\"] , 4651 , {\"name\":[\"Ma\",\"Aleem\"]} )  # tuple are immutable\n",
    "fst_tup"
   ]
  },
  {
   "cell_type": "code",
   "execution_count": 36,
   "id": "d7f648bd",
   "metadata": {},
   "outputs": [
    {
     "name": "stdout",
     "output_type": "stream",
     "text": [
      "(['MaAleem', 1234, 85.7, 'test'], [2164, 65, 'ioefhhbe'], 4651, {'name': ['Ma', 'Aleem']})\n"
     ]
    }
   ],
   "source": [
    "print(fst_tup)"
   ]
  },
  {
   "cell_type": "code",
   "execution_count": 37,
   "id": "0286c466",
   "metadata": {},
   "outputs": [
    {
     "data": {
      "text/plain": [
       "4651"
      ]
     },
     "execution_count": 37,
     "metadata": {},
     "output_type": "execute_result"
    }
   ],
   "source": [
    "fst_tup[2]"
   ]
  },
  {
   "cell_type": "code",
   "execution_count": 38,
   "id": "1d1eead7",
   "metadata": {},
   "outputs": [
    {
     "data": {
      "text/plain": [
       "{'name': ['Ma', 'Aleem']}"
      ]
     },
     "execution_count": 38,
     "metadata": {},
     "output_type": "execute_result"
    }
   ],
   "source": [
    "fst_tup[3]"
   ]
  },
  {
   "cell_type": "code",
   "execution_count": 39,
   "id": "3c5ee873",
   "metadata": {},
   "outputs": [
    {
     "data": {
      "text/plain": [
       "{'name': ['Ma', 'Aleem']}"
      ]
     },
     "execution_count": 39,
     "metadata": {},
     "output_type": "execute_result"
    }
   ],
   "source": [
    "fst_tup[-1]"
   ]
  },
  {
   "cell_type": "code",
   "execution_count": 40,
   "id": "d0f4625e",
   "metadata": {},
   "outputs": [
    {
     "data": {
      "text/plain": [
       "['MaAleem', 1234, 85.7, 'test']"
      ]
     },
     "execution_count": 40,
     "metadata": {},
     "output_type": "execute_result"
    }
   ],
   "source": [
    "fst_tup[-4]"
   ]
  },
  {
   "cell_type": "code",
   "execution_count": 41,
   "id": "018605d8",
   "metadata": {},
   "outputs": [
    {
     "ename": "TypeError",
     "evalue": "'tuple' object does not support item assignment",
     "output_type": "error",
     "traceback": [
      "\u001b[1;31m---------------------------------------------------------------------------\u001b[0m",
      "\u001b[1;31mTypeError\u001b[0m                                 Traceback (most recent call last)",
      "Cell \u001b[1;32mIn[41], line 1\u001b[0m\n\u001b[1;32m----> 1\u001b[0m fst_tup[\u001b[38;5;241m1\u001b[39m] \u001b[38;5;241m=\u001b[39m \u001b[38;5;241m3\u001b[39m\n",
      "\u001b[1;31mTypeError\u001b[0m: 'tuple' object does not support item assignment"
     ]
    }
   ],
   "source": [
    "fst_tup[1] = 3"
   ]
  },
  {
   "cell_type": "code",
   "execution_count": 42,
   "id": "e2d131f8",
   "metadata": {},
   "outputs": [],
   "source": [
    "lst = ['MaAleem',12,45.2,{\"name\":[\"Ma\",\"Aleem\"]} , (2,6,7,4)]"
   ]
  },
  {
   "cell_type": "code",
   "execution_count": 43,
   "id": "e81b64f7",
   "metadata": {},
   "outputs": [
    {
     "data": {
      "text/plain": [
       "['MaAleem', 12, 45.2, {'name': ['Ma', 'Aleem']}, (2, 6, 7, 4)]"
      ]
     },
     "execution_count": 43,
     "metadata": {},
     "output_type": "execute_result"
    }
   ],
   "source": [
    "lst"
   ]
  },
  {
   "cell_type": "code",
   "execution_count": 44,
   "id": "f5eda12c",
   "metadata": {},
   "outputs": [],
   "source": [
    "lst.append('lenovo')"
   ]
  },
  {
   "cell_type": "code",
   "execution_count": 45,
   "id": "d0934dc2",
   "metadata": {},
   "outputs": [
    {
     "data": {
      "text/plain": [
       "['MaAleem', 12, 45.2, {'name': ['Ma', 'Aleem']}, (2, 6, 7, 4), 'lenovo']"
      ]
     },
     "execution_count": 45,
     "metadata": {},
     "output_type": "execute_result"
    }
   ],
   "source": [
    "lst"
   ]
  },
  {
   "cell_type": "code",
   "execution_count": 46,
   "id": "41be420a",
   "metadata": {},
   "outputs": [
    {
     "data": {
      "text/plain": [
       "45.2"
      ]
     },
     "execution_count": 46,
     "metadata": {},
     "output_type": "execute_result"
    }
   ],
   "source": [
    "lst[2]"
   ]
  },
  {
   "cell_type": "code",
   "execution_count": 47,
   "id": "0863ea1b",
   "metadata": {},
   "outputs": [
    {
     "data": {
      "text/plain": [
       "(2, 6, 7, 4)"
      ]
     },
     "execution_count": 47,
     "metadata": {},
     "output_type": "execute_result"
    }
   ],
   "source": [
    "lst[4]"
   ]
  },
  {
   "cell_type": "code",
   "execution_count": 48,
   "id": "5cb66baa",
   "metadata": {},
   "outputs": [
    {
     "data": {
      "text/plain": [
       "7"
      ]
     },
     "execution_count": 48,
     "metadata": {},
     "output_type": "execute_result"
    }
   ],
   "source": [
    "lst[4][2]"
   ]
  },
  {
   "cell_type": "code",
   "execution_count": 49,
   "id": "1b193bd2",
   "metadata": {},
   "outputs": [
    {
     "ename": "TypeError",
     "evalue": "'tuple' object does not support item assignment",
     "output_type": "error",
     "traceback": [
      "\u001b[1;31m---------------------------------------------------------------------------\u001b[0m",
      "\u001b[1;31mTypeError\u001b[0m                                 Traceback (most recent call last)",
      "Cell \u001b[1;32mIn[49], line 1\u001b[0m\n\u001b[1;32m----> 1\u001b[0m lst[\u001b[38;5;241m4\u001b[39m][\u001b[38;5;241m2\u001b[39m] \u001b[38;5;241m=\u001b[39m \u001b[38;5;124m'\u001b[39m\u001b[38;5;124masd\u001b[39m\u001b[38;5;124m'\u001b[39m\n",
      "\u001b[1;31mTypeError\u001b[0m: 'tuple' object does not support item assignment"
     ]
    }
   ],
   "source": [
    "lst[4][2] = 'asd'"
   ]
  },
  {
   "cell_type": "code",
   "execution_count": 50,
   "id": "a50395aa",
   "metadata": {},
   "outputs": [],
   "source": [
    "lst[4] = 'asd'"
   ]
  },
  {
   "cell_type": "code",
   "execution_count": 51,
   "id": "9147aa8d",
   "metadata": {},
   "outputs": [
    {
     "data": {
      "text/plain": [
       "['MaAleem', 12, 45.2, {'name': ['Ma', 'Aleem']}, 'asd', 'lenovo']"
      ]
     },
     "execution_count": 51,
     "metadata": {},
     "output_type": "execute_result"
    }
   ],
   "source": [
    "lst"
   ]
  },
  {
   "cell_type": "code",
   "execution_count": 52,
   "id": "212a5c55",
   "metadata": {},
   "outputs": [
    {
     "data": {
      "text/plain": [
       "[12, 45.2]"
      ]
     },
     "execution_count": 52,
     "metadata": {},
     "output_type": "execute_result"
    }
   ],
   "source": [
    "lst[1:3]"
   ]
  },
  {
   "cell_type": "code",
   "execution_count": 53,
   "id": "ad6e8ae7",
   "metadata": {},
   "outputs": [
    {
     "data": {
      "text/plain": [
       "['lenovo', 'asd', {'name': ['Ma', 'Aleem']}, 45.2, 12, 'MaAleem']"
      ]
     },
     "execution_count": 53,
     "metadata": {},
     "output_type": "execute_result"
    }
   ],
   "source": [
    "lst[::-1]"
   ]
  },
  {
   "cell_type": "code",
   "execution_count": 54,
   "id": "7044ee79",
   "metadata": {},
   "outputs": [
    {
     "data": {
      "text/plain": [
       "['MaAleem', 12, 45.2, {'name': ['Ma', 'Aleem']}, 'asd', 'lenovo']"
      ]
     },
     "execution_count": 54,
     "metadata": {},
     "output_type": "execute_result"
    }
   ],
   "source": [
    "lst"
   ]
  },
  {
   "cell_type": "code",
   "execution_count": 55,
   "id": "2c15c5d1",
   "metadata": {},
   "outputs": [],
   "source": [
    "lst = lst[::-1]"
   ]
  },
  {
   "cell_type": "code",
   "execution_count": 56,
   "id": "d99ed98e",
   "metadata": {},
   "outputs": [
    {
     "data": {
      "text/plain": [
       "['lenovo', 'asd', {'name': ['Ma', 'Aleem']}, 45.2, 12, 'MaAleem']"
      ]
     },
     "execution_count": 56,
     "metadata": {},
     "output_type": "execute_result"
    }
   ],
   "source": [
    "lst"
   ]
  },
  {
   "cell_type": "code",
   "execution_count": 57,
   "id": "1b22ffdb",
   "metadata": {},
   "outputs": [],
   "source": [
    "lst = lst[::-1]"
   ]
  },
  {
   "cell_type": "code",
   "execution_count": 58,
   "id": "7a367898",
   "metadata": {},
   "outputs": [
    {
     "data": {
      "text/plain": [
       "['MaAleem', 12, 45.2, {'name': ['Ma', 'Aleem']}, 'asd', 'lenovo']"
      ]
     },
     "execution_count": 58,
     "metadata": {},
     "output_type": "execute_result"
    }
   ],
   "source": [
    "lst"
   ]
  },
  {
   "cell_type": "code",
   "execution_count": 59,
   "id": "b6a9391b",
   "metadata": {},
   "outputs": [
    {
     "data": {
      "text/plain": [
       "({'name': ['Ma', 'Aleem']},\n",
       " 4651,\n",
       " [2164, 65, 'ioefhhbe'],\n",
       " ['MaAleem', 1234, 85.7, 'test'])"
      ]
     },
     "execution_count": 59,
     "metadata": {},
     "output_type": "execute_result"
    }
   ],
   "source": [
    "fst_tup[::-1]"
   ]
  },
  {
   "cell_type": "code",
   "execution_count": 60,
   "id": "74159472",
   "metadata": {},
   "outputs": [],
   "source": [
    "lst.append(\"wifi\")"
   ]
  },
  {
   "cell_type": "code",
   "execution_count": 61,
   "id": "911998ac",
   "metadata": {},
   "outputs": [
    {
     "data": {
      "text/plain": [
       "['MaAleem', 12, 45.2, {'name': ['Ma', 'Aleem']}, 'asd', 'lenovo', 'wifi']"
      ]
     },
     "execution_count": 61,
     "metadata": {},
     "output_type": "execute_result"
    }
   ],
   "source": [
    "lst"
   ]
  },
  {
   "cell_type": "code",
   "execution_count": 62,
   "id": "e471341b",
   "metadata": {},
   "outputs": [
    {
     "name": "stdout",
     "output_type": "stream",
     "text": [
      "['MaAleem', 'Xiaomi', 12, 45.2, {'name': ['Ma', 'Aleem']}, 'asd', 'lenovo', 'wifi']\n"
     ]
    }
   ],
   "source": [
    "lst.insert(1,'Xiaomi') # using'insert' an element a any place in the set\n",
    "print(lst)"
   ]
  },
  {
   "cell_type": "code",
   "execution_count": 63,
   "id": "bd4bc910",
   "metadata": {},
   "outputs": [
    {
     "name": "stdout",
     "output_type": "stream",
     "text": [
      "['MaAleem', 'Xiaomi', 45.2, {'name': ['Ma', 'Aleem']}, 'asd', 'lenovo', 'wifi']\n"
     ]
    }
   ],
   "source": [
    "del lst[2]  # to delete  an elment from list\n",
    "print(lst)"
   ]
  },
  {
   "cell_type": "code",
   "execution_count": 64,
   "id": "1fbe9a87",
   "metadata": {},
   "outputs": [],
   "source": [
    "lst.reverse()"
   ]
  },
  {
   "cell_type": "code",
   "execution_count": 65,
   "id": "08ae16be",
   "metadata": {},
   "outputs": [
    {
     "data": {
      "text/plain": [
       "['wifi', 'lenovo', 'asd', {'name': ['Ma', 'Aleem']}, 45.2, 'Xiaomi', 'MaAleem']"
      ]
     },
     "execution_count": 65,
     "metadata": {},
     "output_type": "execute_result"
    }
   ],
   "source": [
    "lst"
   ]
  },
  {
   "cell_type": "code",
   "execution_count": 66,
   "id": "757d2bf6",
   "metadata": {},
   "outputs": [
    {
     "data": {
      "text/plain": [
       "['wifi', 'lenovo', 'asd', {'name': ['Ma', 'Aleem']}, 45.2, 'Xiaomi', 'MaAleem']"
      ]
     },
     "execution_count": 66,
     "metadata": {},
     "output_type": "execute_result"
    }
   ],
   "source": [
    "la = lst.copy()\n",
    "la"
   ]
  },
  {
   "cell_type": "code",
   "execution_count": 67,
   "id": "92495a79",
   "metadata": {},
   "outputs": [],
   "source": [
    "la.clear()"
   ]
  },
  {
   "cell_type": "code",
   "execution_count": 68,
   "id": "af9fedcc",
   "metadata": {
    "scrolled": true
   },
   "outputs": [
    {
     "data": {
      "text/plain": [
       "[]"
      ]
     },
     "execution_count": 68,
     "metadata": {},
     "output_type": "execute_result"
    }
   ],
   "source": [
    "la"
   ]
  },
  {
   "cell_type": "code",
   "execution_count": 69,
   "id": "e98f3def",
   "metadata": {},
   "outputs": [
    {
     "data": {
      "text/plain": [
       "['wifi', 'lenovo', 'asd', {'name': ['Ma', 'Aleem']}, 45.2, 'Xiaomi', 'MaAleem']"
      ]
     },
     "execution_count": 69,
     "metadata": {},
     "output_type": "execute_result"
    }
   ],
   "source": [
    "lst"
   ]
  },
  {
   "cell_type": "code",
   "execution_count": 70,
   "id": "41235505",
   "metadata": {},
   "outputs": [
    {
     "data": {
      "text/plain": [
       "'MaAleem'"
      ]
     },
     "execution_count": 70,
     "metadata": {},
     "output_type": "execute_result"
    }
   ],
   "source": [
    "lst.pop()"
   ]
  },
  {
   "cell_type": "code",
   "execution_count": 71,
   "id": "6df4558e",
   "metadata": {},
   "outputs": [
    {
     "data": {
      "text/plain": [
       "['wifi', 'lenovo', 'asd', {'name': ['Ma', 'Aleem']}, 45.2, 'Xiaomi']"
      ]
     },
     "execution_count": 71,
     "metadata": {},
     "output_type": "execute_result"
    }
   ],
   "source": [
    "lst"
   ]
  },
  {
   "cell_type": "code",
   "execution_count": 72,
   "id": "355f7dde",
   "metadata": {},
   "outputs": [
    {
     "ename": "ValueError",
     "evalue": "list.remove(x): x not in list",
     "output_type": "error",
     "traceback": [
      "\u001b[1;31m---------------------------------------------------------------------------\u001b[0m",
      "\u001b[1;31mValueError\u001b[0m                                Traceback (most recent call last)",
      "Cell \u001b[1;32mIn[72], line 1\u001b[0m\n\u001b[1;32m----> 1\u001b[0m lst\u001b[38;5;241m.\u001b[39mremove(\u001b[38;5;241m12\u001b[39m)\n",
      "\u001b[1;31mValueError\u001b[0m: list.remove(x): x not in list"
     ]
    }
   ],
   "source": [
    "lst.remove(12)"
   ]
  },
  {
   "cell_type": "code",
   "execution_count": 73,
   "id": "c719be0f",
   "metadata": {},
   "outputs": [
    {
     "data": {
      "text/plain": [
       "['wifi', 'lenovo', 'asd', {'name': ['Ma', 'Aleem']}, 45.2, 'Xiaomi']"
      ]
     },
     "execution_count": 73,
     "metadata": {},
     "output_type": "execute_result"
    }
   ],
   "source": [
    "lst"
   ]
  },
  {
   "cell_type": "code",
   "execution_count": null,
   "id": "c4e72fa4",
   "metadata": {},
   "outputs": [],
   "source": []
  },
  {
   "cell_type": "code",
   "execution_count": 74,
   "id": "93ec4a69",
   "metadata": {},
   "outputs": [],
   "source": [
    "dct = {'name':'maAleem','age':23,'phone':'Xiaomi','contact':7330207185}"
   ]
  },
  {
   "cell_type": "code",
   "execution_count": 75,
   "id": "41eb63e1",
   "metadata": {},
   "outputs": [
    {
     "name": "stdout",
     "output_type": "stream",
     "text": [
      "{'name': 'maAleem', 'age': 23, 'phone': 'Xiaomi', 'contact': 7330207185}\n"
     ]
    }
   ],
   "source": [
    "print(dct)"
   ]
  },
  {
   "cell_type": "code",
   "execution_count": 76,
   "id": "f550c788",
   "metadata": {},
   "outputs": [
    {
     "data": {
      "text/plain": [
       "dict_keys(['name', 'age', 'phone', 'contact'])"
      ]
     },
     "execution_count": 76,
     "metadata": {},
     "output_type": "execute_result"
    }
   ],
   "source": [
    "dct.keys()"
   ]
  },
  {
   "cell_type": "code",
   "execution_count": 77,
   "id": "3ad5359d",
   "metadata": {},
   "outputs": [
    {
     "data": {
      "text/plain": [
       "dict_values(['maAleem', 23, 'Xiaomi', 7330207185])"
      ]
     },
     "execution_count": 77,
     "metadata": {},
     "output_type": "execute_result"
    }
   ],
   "source": [
    "dct.values()"
   ]
  },
  {
   "cell_type": "code",
   "execution_count": 78,
   "id": "a97c6c7b",
   "metadata": {},
   "outputs": [
    {
     "name": "stdout",
     "output_type": "stream",
     "text": [
      "{'name': 'maAleem', 'age': 23, 'phone': 'Xiaomi', 'contact': 7330207185, 'address': 'hyderabad'}\n"
     ]
    }
   ],
   "source": [
    "dct.update({'address':'hyderabad'})\n",
    "print(dct)"
   ]
  },
  {
   "cell_type": "code",
   "execution_count": 79,
   "id": "abc9e01f",
   "metadata": {},
   "outputs": [
    {
     "name": "stdout",
     "output_type": "stream",
     "text": [
      "name  :  maAleem\n",
      "\n",
      "\n",
      "age  :  23\n",
      "\n",
      "\n",
      "phone  :  Xiaomi\n",
      "\n",
      "\n",
      "contact  :  7330207185\n",
      "\n",
      "\n",
      "address  :  hyderabad\n",
      "\n",
      "\n"
     ]
    }
   ],
   "source": [
    "for i,j in dct.items():\n",
    "    print(i,\" : \",j)\n",
    "    print(\"\\n\")"
   ]
  },
  {
   "cell_type": "code",
   "execution_count": null,
   "id": "51890f38",
   "metadata": {},
   "outputs": [],
   "source": []
  },
  {
   "cell_type": "code",
   "execution_count": 80,
   "id": "36999d65",
   "metadata": {},
   "outputs": [
    {
     "data": {
      "text/plain": [
       "'asdasd'"
      ]
     },
     "execution_count": 80,
     "metadata": {},
     "output_type": "execute_result"
    }
   ],
   "source": [
    "\"asd\"    'asd'"
   ]
  },
  {
   "cell_type": "code",
   "execution_count": 81,
   "id": "9c547dab",
   "metadata": {},
   "outputs": [
    {
     "name": "stdout",
     "output_type": "stream",
     "text": [
      "MaAleem's phone is cool\n"
     ]
    }
   ],
   "source": [
    "zar = \"MaAleem's phone is cool\"\n",
    "print(zar)"
   ]
  },
  {
   "cell_type": "code",
   "execution_count": 82,
   "id": "3d74169f",
   "metadata": {},
   "outputs": [
    {
     "name": "stdout",
     "output_type": "stream",
     "text": [
      "MaAleem's phone is cool\n"
     ]
    }
   ],
   "source": [
    "zar = 'MaAleem\\'s phone is cool'\n",
    "print(zar)"
   ]
  },
  {
   "cell_type": "code",
   "execution_count": 83,
   "id": "ba794cf5",
   "metadata": {},
   "outputs": [
    {
     "name": "stdout",
     "output_type": "stream",
     "text": [
      "MaAleem\n",
      "s phone is cool\n"
     ]
    }
   ],
   "source": [
    "zad= \"MaAleem\\ns phone is cool\"\n",
    "print(zad)"
   ]
  },
  {
   "cell_type": "code",
   "execution_count": 84,
   "id": "559267a3",
   "metadata": {},
   "outputs": [
    {
     "name": "stdout",
     "output_type": "stream",
     "text": [
      "\n",
      "Hi this is MaAleem .\n",
      "i live in hyderabad.\n",
      "i own a pulsar 150 .\n",
      "\n"
     ]
    }
   ],
   "source": [
    "print(\"\"\"\n",
    "Hi this is MaAleem .\n",
    "i live in hyderabad.\n",
    "i own a pulsar 150 .\n",
    "\"\"\")"
   ]
  },
  {
   "cell_type": "code",
   "execution_count": 85,
   "id": "7b447528",
   "metadata": {},
   "outputs": [
    {
     "name": "stdout",
     "output_type": "stream",
     "text": [
      "Hi there iam MaAleem and iam a Student\n"
     ]
    }
   ],
   "source": [
    "z = 'MaAleem'\n",
    "y = 'Student'\n",
    "print(f\"Hi there iam {z} and iam a {y}\")   # f means formatting , when ever we do this type of thing we use f ."
   ]
  },
  {
   "cell_type": "code",
   "execution_count": 86,
   "id": "9eb891a9",
   "metadata": {},
   "outputs": [
    {
     "name": "stdout",
     "output_type": "stream",
     "text": [
      "Hi there iam MaAleem and iam a Student\n"
     ]
    }
   ],
   "source": [
    "print(\"Hi there iam {} and iam a {}\".format(z,y))"
   ]
  },
  {
   "cell_type": "code",
   "execution_count": 87,
   "id": "adb7a99b",
   "metadata": {},
   "outputs": [
    {
     "name": "stdout",
     "output_type": "stream",
     "text": [
      "\"First , solve the problem . Then write the code .\" - john johnson said\n"
     ]
    }
   ],
   "source": [
    "print('\"First , solve the problem . Then write the code .\" - john johnson said')"
   ]
  },
  {
   "cell_type": "code",
   "execution_count": 88,
   "id": "f548798b",
   "metadata": {},
   "outputs": [
    {
     "name": "stdout",
     "output_type": "stream",
     "text": [
      "\"first, solve the problem . then, write the code.\"-john johnson\n"
     ]
    }
   ],
   "source": [
    "print(\"\\\"first, solve the problem . then, write the code.\\\"-john johnson\")"
   ]
  },
  {
   "cell_type": "code",
   "execution_count": 89,
   "id": "556736dd",
   "metadata": {},
   "outputs": [
    {
     "name": "stdout",
     "output_type": "stream",
     "text": [
      "\\nhiuvb\n"
     ]
    }
   ],
   "source": [
    "print(\"\\\\nhiuvb\")"
   ]
  },
  {
   "cell_type": "code",
   "execution_count": null,
   "id": "0a11975d",
   "metadata": {},
   "outputs": [],
   "source": []
  },
  {
   "cell_type": "code",
   "execution_count": null,
   "id": "562c0ee5",
   "metadata": {},
   "outputs": [],
   "source": []
  },
  {
   "cell_type": "code",
   "execution_count": 90,
   "id": "bfa7af37",
   "metadata": {},
   "outputs": [
    {
     "name": "stdout",
     "output_type": "stream",
     "text": [
      "\"first\"\n"
     ]
    }
   ],
   "source": [
    "print(\"\\\"first\\\"\")"
   ]
  },
  {
   "cell_type": "code",
   "execution_count": 91,
   "id": "a831b9e4",
   "metadata": {},
   "outputs": [
    {
     "name": "stdout",
     "output_type": "stream",
     "text": [
      "first\n"
     ]
    }
   ],
   "source": [
    "print(\"first\")"
   ]
  },
  {
   "cell_type": "code",
   "execution_count": 92,
   "id": "8e10d025",
   "metadata": {},
   "outputs": [
    {
     "name": "stdout",
     "output_type": "stream",
     "text": [
      "\n",
      "     hi\n",
      "   iam MaAleem\n",
      " this is quite interesting\n",
      "\n"
     ]
    }
   ],
   "source": [
    "print(\"\"\"\n",
    "     hi\n",
    "   iam MaAleem\n",
    " this is quite interesting\n",
    "\"\"\")"
   ]
  },
  {
   "cell_type": "code",
   "execution_count": 93,
   "id": "1bf73a15",
   "metadata": {},
   "outputs": [
    {
     "name": "stdout",
     "output_type": "stream",
     "text": [
      "    |------|\n",
      "  |----------|\n",
      " |-------------|\n"
     ]
    }
   ],
   "source": [
    "print(\"    |------|\\n  |----------|\\n |-------------|\")"
   ]
  },
  {
   "cell_type": "code",
   "execution_count": 94,
   "id": "3c1420d6",
   "metadata": {},
   "outputs": [
    {
     "name": "stdout",
     "output_type": "stream",
     "text": [
      "    @----@\n",
      "   @------@\n",
      "  @--------@\n",
      " @----------@\n"
     ]
    }
   ],
   "source": [
    "print(\"    @----@\\n   @------@\\n  @--------@\\n @----------@\")"
   ]
  },
  {
   "cell_type": "code",
   "execution_count": 99,
   "id": "fd6a7686",
   "metadata": {},
   "outputs": [
    {
     "name": "stdout",
     "output_type": "stream",
     "text": [
      "__@@@@__ __@@@@@@@@__ __@@@@@@@@@@@@@__\n"
     ]
    }
   ],
   "source": [
    "x=\"__@@@@__\"\n",
    "y=\"__@@@@@@@@__\"\n",
    "z=\"__@@@@@@@@@@@@@__\"\n",
    "print(x,y,z) "
   ]
  },
  {
   "cell_type": "code",
   "execution_count": 100,
   "id": "c400932b",
   "metadata": {},
   "outputs": [
    {
     "name": "stdout",
     "output_type": "stream",
     "text": [
      "__@@@@__ \n",
      " __@@@@@@@@__ \n",
      " __@@@@@@@@@@@@@__\n"
     ]
    }
   ],
   "source": [
    "x=\"__@@@@__\"\n",
    "y=\"__@@@@@@@@__\"\n",
    "z=\"__@@@@@@@@@@@@@__\"\n",
    "print(x,'\\n',y,'\\n',z) "
   ]
  },
  {
   "cell_type": "code",
   "execution_count": 101,
   "id": "5a993f08",
   "metadata": {},
   "outputs": [
    {
     "name": "stdout",
     "output_type": "stream",
     "text": [
      "__@@@@__ \n",
      "__@@@@@@@@__ \n",
      "__@@@@@@@@@@@@@__\n"
     ]
    }
   ],
   "source": [
    "x=\"__@@@@__\"\n",
    "y=\"\\n__@@@@@@@@__\"\n",
    "z=\"\\n__@@@@@@@@@@@@@__\"\n",
    "print(x,y,z) "
   ]
  },
  {
   "cell_type": "code",
   "execution_count": 102,
   "id": "15e7e398",
   "metadata": {},
   "outputs": [
    {
     "name": "stdout",
     "output_type": "stream",
     "text": [
      "Ma       Aleem\n"
     ]
    }
   ],
   "source": [
    "print(\"Ma       Aleem\")"
   ]
  },
  {
   "cell_type": "code",
   "execution_count": 103,
   "id": "ef926e5b",
   "metadata": {},
   "outputs": [
    {
     "name": "stdout",
     "output_type": "stream",
     "text": [
      "Ma\tAleem\n"
     ]
    }
   ],
   "source": [
    "print(\"Ma\\tAleem\")"
   ]
  },
  {
   "cell_type": "code",
   "execution_count": 104,
   "id": "d7a31745",
   "metadata": {},
   "outputs": [
    {
     "name": "stdout",
     "output_type": "stream",
     "text": [
      "basket ball\n",
      "basket ball\n"
     ]
    }
   ],
   "source": [
    "print(\"basket\"+\" ball\")\n",
    "print(\"basket\" + \" \" + \"ball\")"
   ]
  },
  {
   "cell_type": "code",
   "execution_count": 105,
   "id": "97b66685",
   "metadata": {},
   "outputs": [
    {
     "data": {
      "text/plain": [
       "str"
      ]
     },
     "execution_count": 105,
     "metadata": {},
     "output_type": "execute_result"
    }
   ],
   "source": [
    "type(\"3\")"
   ]
  },
  {
   "cell_type": "code",
   "execution_count": 106,
   "id": "cf2a3193",
   "metadata": {},
   "outputs": [
    {
     "data": {
      "text/plain": [
       "int"
      ]
     },
     "execution_count": 106,
     "metadata": {},
     "output_type": "execute_result"
    }
   ],
   "source": [
    "type(3)"
   ]
  },
  {
   "cell_type": "code",
   "execution_count": 107,
   "id": "aa81af60",
   "metadata": {},
   "outputs": [
    {
     "data": {
      "text/plain": [
       "str"
      ]
     },
     "execution_count": 107,
     "metadata": {},
     "output_type": "execute_result"
    }
   ],
   "source": [
    "type(\"cookie\")"
   ]
  },
  {
   "cell_type": "code",
   "execution_count": 110,
   "id": "dffaf1dd",
   "metadata": {},
   "outputs": [
    {
     "ename": "TypeError",
     "evalue": "unsupported operand type(s) for +: 'int' and 'str'",
     "output_type": "error",
     "traceback": [
      "\u001b[1;31m---------------------------------------------------------------------------\u001b[0m",
      "\u001b[1;31mTypeError\u001b[0m                                 Traceback (most recent call last)",
      "Cell \u001b[1;32mIn[110], line 1\u001b[0m\n\u001b[1;32m----> 1\u001b[0m \u001b[38;5;28mprint\u001b[39m( \u001b[38;5;241m3\u001b[39m \u001b[38;5;241m+\u001b[39m \u001b[38;5;124m\"\u001b[39m\u001b[38;5;124mcookies\u001b[39m\u001b[38;5;124m\"\u001b[39m)\n",
      "\u001b[1;31mTypeError\u001b[0m: unsupported operand type(s) for +: 'int' and 'str'"
     ]
    }
   ],
   "source": [
    "print( 3 + \"cookies\")   # doesnt work"
   ]
  },
  {
   "cell_type": "code",
   "execution_count": 111,
   "id": "79fb463a",
   "metadata": {},
   "outputs": [
    {
     "name": "stdout",
     "output_type": "stream",
     "text": [
      "3 cookies\n"
     ]
    }
   ],
   "source": [
    "print(\"3\" + \" \" + \"cookies\")"
   ]
  },
  {
   "cell_type": "code",
   "execution_count": 112,
   "id": "2edaa87c",
   "metadata": {},
   "outputs": [
    {
     "name": "stdout",
     "output_type": "stream",
     "text": [
      "baloonbaloonbaloon\n"
     ]
    }
   ],
   "source": [
    "print(3 * \"baloon\")"
   ]
  },
  {
   "cell_type": "code",
   "execution_count": 113,
   "id": "66020a97",
   "metadata": {},
   "outputs": [
    {
     "name": "stdout",
     "output_type": "stream",
     "text": [
      "Ma aleem\n",
      "Ma Aleem\n",
      "MA ALEEM\n"
     ]
    }
   ],
   "source": [
    "na = \"ma aleem\"  #  changing the case of lettrs\n",
    "print(na.capitalize())\n",
    "print(na.title())\n",
    "print(na.upper())"
   ]
  },
  {
   "cell_type": "code",
   "execution_count": 114,
   "id": "27be813a",
   "metadata": {},
   "outputs": [
    {
     "name": "stdout",
     "output_type": "stream",
     "text": [
      "Ma aleem\n",
      "Ma Aleem\n",
      "ma aleem\n"
     ]
    }
   ],
   "source": [
    "str1 = \"MA ALEEM\"   # changing to lower case\n",
    "print(str1.capitalize())\n",
    "print(str1.title())\n",
    "print(str1.lower())"
   ]
  },
  {
   "cell_type": "code",
   "execution_count": 115,
   "id": "0ad831c6",
   "metadata": {},
   "outputs": [
    {
     "name": "stdout",
     "output_type": "stream",
     "text": [
      "MA ALp\n"
     ]
    }
   ],
   "source": [
    "print(str1.replace('EEM','p'))    # replacing an element"
   ]
  },
  {
   "cell_type": "code",
   "execution_count": 116,
   "id": "5fa9dbad",
   "metadata": {},
   "outputs": [
    {
     "data": {
      "text/plain": [
       "8"
      ]
     },
     "execution_count": 116,
     "metadata": {},
     "output_type": "execute_result"
    }
   ],
   "source": [
    "len(str1)    # says the lentgh"
   ]
  },
  {
   "cell_type": "code",
   "execution_count": 117,
   "id": "c30a2562",
   "metadata": {},
   "outputs": [
    {
     "name": "stdout",
     "output_type": "stream",
     "text": [
      "MA ALEEM\n"
     ]
    }
   ],
   "source": [
    "print(str1)"
   ]
  },
  {
   "cell_type": "code",
   "execution_count": 118,
   "id": "b5dc53f9",
   "metadata": {},
   "outputs": [
    {
     "data": {
      "text/plain": [
       "0"
      ]
     },
     "execution_count": 118,
     "metadata": {},
     "output_type": "execute_result"
    }
   ],
   "source": [
    "str1.count('a')    # counts the number of times a letter has appeared"
   ]
  },
  {
   "cell_type": "code",
   "execution_count": 119,
   "id": "cac218d3",
   "metadata": {},
   "outputs": [
    {
     "data": {
      "text/plain": [
       "2"
      ]
     },
     "execution_count": 119,
     "metadata": {},
     "output_type": "execute_result"
    }
   ],
   "source": [
    "str1.count(\"A\")"
   ]
  },
  {
   "cell_type": "code",
   "execution_count": 125,
   "id": "19141ef0",
   "metadata": {},
   "outputs": [],
   "source": [
    "str2 = \"Happy learning\"  # slicing and indexing\n",
    "# index numbers start from 0"
   ]
  },
  {
   "cell_type": "code",
   "execution_count": 127,
   "id": "4023dc58",
   "metadata": {},
   "outputs": [
    {
     "name": "stdout",
     "output_type": "stream",
     "text": [
      "4\n",
      "10\n"
     ]
    },
    {
     "ename": "ValueError",
     "evalue": "substring not found",
     "output_type": "error",
     "traceback": [
      "\u001b[1;31m---------------------------------------------------------------------------\u001b[0m",
      "\u001b[1;31mValueError\u001b[0m                                Traceback (most recent call last)",
      "Cell \u001b[1;32mIn[127], line 3\u001b[0m\n\u001b[0;32m      1\u001b[0m \u001b[38;5;28mprint\u001b[39m(str2\u001b[38;5;241m.\u001b[39mindex(\u001b[38;5;124m'\u001b[39m\u001b[38;5;124my\u001b[39m\u001b[38;5;124m'\u001b[39m))\n\u001b[0;32m      2\u001b[0m \u001b[38;5;28mprint\u001b[39m(str2\u001b[38;5;241m.\u001b[39mindex(\u001b[38;5;124m'\u001b[39m\u001b[38;5;124mn\u001b[39m\u001b[38;5;124m'\u001b[39m))\n\u001b[1;32m----> 3\u001b[0m \u001b[38;5;28mprint\u001b[39m(str2\u001b[38;5;241m.\u001b[39mindex(\u001b[38;5;124m'\u001b[39m\u001b[38;5;124mz\u001b[39m\u001b[38;5;124m'\u001b[39m))\n",
      "\u001b[1;31mValueError\u001b[0m: substring not found"
     ]
    }
   ],
   "source": [
    "print(str2.index('y'))\n",
    "print(str2.index('n'))\n",
    "print(str2.index('z'))"
   ]
  },
  {
   "cell_type": "code",
   "execution_count": 128,
   "id": "2b198387",
   "metadata": {},
   "outputs": [
    {
     "ename": "ValueError",
     "evalue": "substring not found",
     "output_type": "error",
     "traceback": [
      "\u001b[1;31m---------------------------------------------------------------------------\u001b[0m",
      "\u001b[1;31mValueError\u001b[0m                                Traceback (most recent call last)",
      "Cell \u001b[1;32mIn[128], line 1\u001b[0m\n\u001b[1;32m----> 1\u001b[0m \u001b[38;5;28mprint\u001b[39m(str2\u001b[38;5;241m.\u001b[39mindex(\u001b[38;5;124m'\u001b[39m\u001b[38;5;124mz\u001b[39m\u001b[38;5;124m'\u001b[39m))\n",
      "\u001b[1;31mValueError\u001b[0m: substring not found"
     ]
    }
   ],
   "source": [
    "print(str2.index('z'))    # str2 doesnt havve 'Z'"
   ]
  },
  {
   "cell_type": "code",
   "execution_count": 130,
   "id": "c9f68350",
   "metadata": {
    "scrolled": true
   },
   "outputs": [
    {
     "name": "stdout",
     "output_type": "stream",
     "text": [
      "-1\n"
     ]
    }
   ],
   "source": [
    "print(str2.find('u'))"
   ]
  },
  {
   "cell_type": "code",
   "execution_count": 4,
   "id": "69ea39fc",
   "metadata": {},
   "outputs": [
    {
     "name": "stdout",
     "output_type": "stream",
     "text": [
      "-1\n"
     ]
    }
   ],
   "source": [
    "print(str2.find('z'))      # the diff between find and index is find  will give -1 to those elemenst that are not present in string"
   ]
  },
  {
   "cell_type": "code",
   "execution_count": null,
   "id": "90710263",
   "metadata": {},
   "outputs": [],
   "source": [
    "print(str2.find('H'))"
   ]
  },
  {
   "cell_type": "code",
   "execution_count": 205,
   "id": "02d9124a",
   "metadata": {},
   "outputs": [
    {
     "data": {
      "text/plain": [
       "1"
      ]
     },
     "execution_count": 205,
     "metadata": {},
     "output_type": "execute_result"
    }
   ],
   "source": [
    "a = \"lenovo\"\n",
    "a.find(\"e\")"
   ]
  },
  {
   "cell_type": "code",
   "execution_count": 206,
   "id": "63383380",
   "metadata": {},
   "outputs": [
    {
     "data": {
      "text/plain": [
       "1"
      ]
     },
     "execution_count": 206,
     "metadata": {},
     "output_type": "execute_result"
    }
   ],
   "source": [
    "\"lenovo\".find(\"e\")"
   ]
  },
  {
   "cell_type": "code",
   "execution_count": 133,
   "id": "f5f8774a",
   "metadata": {},
   "outputs": [
    {
     "data": {
      "text/plain": [
       "1"
      ]
     },
     "execution_count": 133,
     "metadata": {},
     "output_type": "execute_result"
    }
   ],
   "source": [
    "'foo fww foo baz bat foo'.find('o')"
   ]
  },
  {
   "cell_type": "code",
   "execution_count": 134,
   "id": "d217162e",
   "metadata": {},
   "outputs": [
    {
     "data": {
      "text/plain": [
       "0"
      ]
     },
     "execution_count": 134,
     "metadata": {},
     "output_type": "execute_result"
    }
   ],
   "source": [
    "'maaleem'.find('m')  # it considers only the first occurence"
   ]
  },
  {
   "cell_type": "code",
   "execution_count": 135,
   "id": "d5fa7a20",
   "metadata": {},
   "outputs": [
    {
     "data": {
      "text/plain": [
       "8"
      ]
     },
     "execution_count": 135,
     "metadata": {},
     "output_type": "execute_result"
    }
   ],
   "source": [
    "'sultanululoom'.rfind('u')   # rfind gives the lates occurance"
   ]
  },
  {
   "cell_type": "code",
   "execution_count": 136,
   "id": "03485afc",
   "metadata": {},
   "outputs": [
    {
     "data": {
      "text/plain": [
       "'FOO asd 12R PHone'"
      ]
     },
     "execution_count": 136,
     "metadata": {},
     "output_type": "execute_result"
    }
   ],
   "source": [
    "'foo ASD 12r phONE'.swapcase()    # changes the case of letters"
   ]
  },
  {
   "cell_type": "code",
   "execution_count": 137,
   "id": "ae906356",
   "metadata": {},
   "outputs": [
    {
     "data": {
      "text/plain": [
       "True"
      ]
     },
     "execution_count": 137,
     "metadata": {},
     "output_type": "execute_result"
    }
   ],
   "source": [
    "'MaAleem'.endswith('eem')"
   ]
  },
  {
   "cell_type": "code",
   "execution_count": 138,
   "id": "9035d5ee",
   "metadata": {},
   "outputs": [
    {
     "data": {
      "text/plain": [
       "True"
      ]
     },
     "execution_count": 138,
     "metadata": {},
     "output_type": "execute_result"
    }
   ],
   "source": [
    "'MaAleem'.endswith('em')"
   ]
  },
  {
   "cell_type": "code",
   "execution_count": 141,
   "id": "29e3d8a6",
   "metadata": {},
   "outputs": [
    {
     "data": {
      "text/plain": [
       "False"
      ]
     },
     "execution_count": 141,
     "metadata": {},
     "output_type": "execute_result"
    }
   ],
   "source": [
    "'MaAleem'.endswith('me')"
   ]
  },
  {
   "cell_type": "code",
   "execution_count": 146,
   "id": "daf2c759",
   "metadata": {},
   "outputs": [
    {
     "data": {
      "text/plain": [
       "True"
      ]
     },
     "execution_count": 146,
     "metadata": {},
     "output_type": "execute_result"
    }
   ],
   "source": [
    "'MaAleem'.lower().endswith('al',0,4)    # the parameters 0,4 means we are considerig the string from index 0 to index  4"
   ]
  },
  {
   "cell_type": "code",
   "execution_count": 148,
   "id": "5fe15d93",
   "metadata": {},
   "outputs": [
    {
     "data": {
      "text/plain": [
       "True"
      ]
     },
     "execution_count": 148,
     "metadata": {},
     "output_type": "execute_result"
    }
   ],
   "source": [
    "'MaAleem'.startswith('Ma')"
   ]
  },
  {
   "cell_type": "code",
   "execution_count": 155,
   "id": "61ec8078",
   "metadata": {},
   "outputs": [
    {
     "data": {
      "text/plain": [
       "False"
      ]
     },
     "execution_count": 155,
     "metadata": {},
     "output_type": "execute_result"
    }
   ],
   "source": [
    "'MaAleem'.startswith('Al',3,-1)    # only one input means that we are considering from index 2 to last"
   ]
  },
  {
   "cell_type": "code",
   "execution_count": 164,
   "id": "06de9c34",
   "metadata": {},
   "outputs": [
    {
     "data": {
      "text/plain": [
       "'www.MaAleemnotes.com'"
      ]
     },
     "execution_count": 164,
     "metadata": {},
     "output_type": "execute_result"
    }
   ],
   "source": [
    "'www.MaAleemnotes.com'.lstrip('www.')"
   ]
  },
  {
   "cell_type": "code",
   "execution_count": 168,
   "id": "0cee6a33",
   "metadata": {},
   "outputs": [
    {
     "data": {
      "text/plain": [
       "'www.MaAleemnotes.com       '"
      ]
     },
     "execution_count": 168,
     "metadata": {},
     "output_type": "execute_result"
    }
   ],
   "source": [
    "'           www.MaAleemnotes.com       '.lstrip()\n",
    "#  lstrip removes spaces from left side"
   ]
  },
  {
   "cell_type": "code",
   "execution_count": 169,
   "id": "51e1902e",
   "metadata": {},
   "outputs": [
    {
     "data": {
      "text/plain": [
       "'                www.MaAleemnotes.com'"
      ]
     },
     "execution_count": 169,
     "metadata": {},
     "output_type": "execute_result"
    }
   ],
   "source": [
    "'                www.MaAleemnotes.com          '.rstrip()\n",
    "# rstrip removees sapces from right side"
   ]
  },
  {
   "cell_type": "code",
   "execution_count": 170,
   "id": "9b31a2fe",
   "metadata": {},
   "outputs": [
    {
     "data": {
      "text/plain": [
       "'www.MaAleemnotes.com'"
      ]
     },
     "execution_count": 170,
     "metadata": {},
     "output_type": "execute_result"
    }
   ],
   "source": [
    "'                www.MaAleemnotes.com          '.strip()\n",
    "# removes spaces from both ends"
   ]
  },
  {
   "cell_type": "code",
   "execution_count": 244,
   "id": "41fa3bb7",
   "metadata": {},
   "outputs": [
    {
     "data": {
      "text/plain": [
       "['www', 'MaAleem.com']"
      ]
     },
     "execution_count": 244,
     "metadata": {},
     "output_type": "execute_result"
    }
   ],
   "source": [
    "'www.MaAleem.com'.split('.',maxsplit=1)"
   ]
  },
  {
   "cell_type": "code",
   "execution_count": 173,
   "id": "f0e97bb4",
   "metadata": {},
   "outputs": [
    {
     "data": {
      "text/plain": [
       "['www', 'MaAleem', 'com.ui']"
      ]
     },
     "execution_count": 173,
     "metadata": {},
     "output_type": "execute_result"
    }
   ],
   "source": [
    "'www.MaAleem.com.ui'.split('.',maxsplit=2)"
   ]
  },
  {
   "cell_type": "code",
   "execution_count": 174,
   "id": "e9526b89",
   "metadata": {},
   "outputs": [
    {
     "data": {
      "text/plain": [
       "['www', 'MaAleem', 'com', 'ui']"
      ]
     },
     "execution_count": 174,
     "metadata": {},
     "output_type": "execute_result"
    }
   ],
   "source": [
    "'www.MaAleem.com.ui'.split('.',maxsplit=3)"
   ]
  },
  {
   "cell_type": "code",
   "execution_count": 175,
   "id": "7496c2c1",
   "metadata": {},
   "outputs": [
    {
     "data": {
      "text/plain": [
       "['www.MaAl', 'em.com']"
      ]
     },
     "execution_count": 175,
     "metadata": {},
     "output_type": "execute_result"
    }
   ],
   "source": [
    "'www.MaAleem.com'.split('e',maxsplit=1)"
   ]
  },
  {
   "cell_type": "code",
   "execution_count": 176,
   "id": "981298ed",
   "metadata": {},
   "outputs": [
    {
     "data": {
      "text/plain": [
       "['www.MaAl', '', 'm.com', 'ph']"
      ]
     },
     "execution_count": 176,
     "metadata": {},
     "output_type": "execute_result"
    }
   ],
   "source": [
    "'www.MaAleem.comeph'.split('e',maxsplit=3)"
   ]
  },
  {
   "cell_type": "code",
   "execution_count": 177,
   "id": "b6e85db8",
   "metadata": {},
   "outputs": [
    {
     "data": {
      "text/plain": [
       "['www.MaAleem', 'com']"
      ]
     },
     "execution_count": 177,
     "metadata": {},
     "output_type": "execute_result"
    }
   ],
   "source": [
    "'www.MaAleem.com'.rsplit('.',maxsplit=1)"
   ]
  },
  {
   "cell_type": "code",
   "execution_count": 178,
   "id": "d5220bee",
   "metadata": {},
   "outputs": [
    {
     "data": {
      "text/plain": [
       "['www', 'MaAleem', 'com']"
      ]
     },
     "execution_count": 178,
     "metadata": {},
     "output_type": "execute_result"
    }
   ],
   "source": [
    "'www.MaAleem.com'.rsplit('.',maxsplit=2)"
   ]
  },
  {
   "cell_type": "code",
   "execution_count": 254,
   "id": "e34de78b",
   "metadata": {},
   "outputs": [
    {
     "data": {
      "text/plain": [
       "['www', 'MaAleem', 'com']"
      ]
     },
     "execution_count": 254,
     "metadata": {},
     "output_type": "execute_result"
    }
   ],
   "source": [
    "'www.MaAleem.com'.rsplit('.')   #  if max split is not given then there is nno difference between split and rsplit\n",
    "                                   # lsplit doesnt exist"
   ]
  },
  {
   "cell_type": "code",
   "execution_count": 182,
   "id": "b8f0483c",
   "metadata": {},
   "outputs": [
    {
     "name": "stdout",
     "output_type": "stream",
     "text": [
      "Happy \n"
     ]
    }
   ],
   "source": [
    "# slicing\n",
    "str3 = \"Happy Learning\"\n",
    "print(str3[0:6])"
   ]
  },
  {
   "cell_type": "code",
   "execution_count": 183,
   "id": "00a8fe24",
   "metadata": {},
   "outputs": [
    {
     "name": "stdout",
     "output_type": "stream",
     "text": [
      " Learning\n"
     ]
    }
   ],
   "source": [
    "print(str3[5:15])"
   ]
  },
  {
   "cell_type": "code",
   "execution_count": 186,
   "id": "5ca53960",
   "metadata": {},
   "outputs": [
    {
     "name": "stdout",
     "output_type": "stream",
     "text": [
      "Happy Lea\n"
     ]
    }
   ],
   "source": [
    "print(str3[:9])"
   ]
  },
  {
   "cell_type": "code",
   "execution_count": 187,
   "id": "73ee33d6",
   "metadata": {},
   "outputs": [
    {
     "name": "stdout",
     "output_type": "stream",
     "text": [
      "rning\n"
     ]
    }
   ],
   "source": [
    "print(str3[9:])"
   ]
  },
  {
   "cell_type": "code",
   "execution_count": 188,
   "id": "acc69d7e",
   "metadata": {},
   "outputs": [
    {
     "name": "stdout",
     "output_type": "stream",
     "text": [
      "HpyL\n"
     ]
    }
   ],
   "source": [
    "print(str3[:8:2])   #  '2' indiacates leaving one element"
   ]
  },
  {
   "cell_type": "code",
   "execution_count": 195,
   "id": "05b0ae2b",
   "metadata": {},
   "outputs": [
    {
     "name": "stdout",
     "output_type": "stream",
     "text": [
      "gninraeL yppaH\n"
     ]
    }
   ],
   "source": [
    "print(str3[::-1])   # start to emmd leaving one element"
   ]
  },
  {
   "cell_type": "code",
   "execution_count": 196,
   "id": "6536c6bf",
   "metadata": {},
   "outputs": [
    {
     "name": "stdout",
     "output_type": "stream",
     "text": [
      "gire pa\n"
     ]
    }
   ],
   "source": [
    "print(str3[::-2])   # start to emmd leaving one element"
   ]
  },
  {
   "cell_type": "code",
   "execution_count": 197,
   "id": "d20ecab7",
   "metadata": {},
   "outputs": [
    {
     "name": "stdout",
     "output_type": "stream",
     "text": [
      "gneya\n"
     ]
    }
   ],
   "source": [
    "print(str3[::-3])   # start to emmd leaving one element"
   ]
  },
  {
   "cell_type": "code",
   "execution_count": 212,
   "id": "51903538",
   "metadata": {},
   "outputs": [
    {
     "data": {
      "text/plain": [
       "7"
      ]
     },
     "execution_count": 212,
     "metadata": {},
     "output_type": "execute_result"
    }
   ],
   "source": [
    "int(len(a)/2)"
   ]
  },
  {
   "cell_type": "code",
   "execution_count": 214,
   "id": "28ff1cae",
   "metadata": {},
   "outputs": [
    {
     "name": "stdout",
     "output_type": "stream",
     "text": [
      "happy learning\n",
      "earning\n"
     ]
    }
   ],
   "source": [
    "a = \"happy learning\"\n",
    "print(a)\n",
    "print(str3[int(len(a)/2):])\n",
    "# len(\"happy learning\")"
   ]
  },
  {
   "cell_type": "code",
   "execution_count": 215,
   "id": "9c62e175",
   "metadata": {},
   "outputs": [
    {
     "name": "stdout",
     "output_type": "stream",
     "text": [
      "happy learning\n",
      "\n"
     ]
    }
   ],
   "source": [
    "print(\"happy learning\")\n",
    "print(str3[-1:-15])    # starting from right"
   ]
  },
  {
   "cell_type": "code",
   "execution_count": 216,
   "id": "042fdcef",
   "metadata": {},
   "outputs": [
    {
     "name": "stdout",
     "output_type": "stream",
     "text": [
      "gninraeL yppaH\n"
     ]
    }
   ],
   "source": [
    "print(str3[::-1])    # reversing a string or anything"
   ]
  },
  {
   "cell_type": "code",
   "execution_count": 217,
   "id": "2163b5b5",
   "metadata": {},
   "outputs": [
    {
     "name": "stdout",
     "output_type": "stream",
     "text": [
      "This is MaAleem\n"
     ]
    }
   ],
   "source": [
    "print('This is MaAleem')"
   ]
  },
  {
   "cell_type": "code",
   "execution_count": 222,
   "id": "4e1c9f3c",
   "metadata": {},
   "outputs": [
    {
     "name": "stdout",
     "output_type": "stream",
     "text": [
      "This is MaAleem\n"
     ]
    }
   ],
   "source": [
    "a = 'MaAleem'\n",
    "print(f'This is {a}')"
   ]
  },
  {
   "cell_type": "code",
   "execution_count": 226,
   "id": "f0f0475b",
   "metadata": {},
   "outputs": [
    {
     "name": "stdout",
     "output_type": "stream",
     "text": [
      "This is MaAleem\n"
     ]
    }
   ],
   "source": [
    "print('This is {}'.format('MaAleem'))"
   ]
  },
  {
   "cell_type": "code",
   "execution_count": 227,
   "id": "ff378673",
   "metadata": {},
   "outputs": [
    {
     "name": "stdout",
     "output_type": "stream",
     "text": [
      "This is 981\n"
     ]
    }
   ],
   "source": [
    "print('This is {}'.format(981))"
   ]
  },
  {
   "cell_type": "code",
   "execution_count": 224,
   "id": "89812d08",
   "metadata": {},
   "outputs": [
    {
     "name": "stdout",
     "output_type": "stream",
     "text": [
      "This is MaAleem\n"
     ]
    }
   ],
   "source": [
    "print('This is %s' %('MaAleem'))\n",
    "#  %s and rename it  at the end of sentence"
   ]
  },
  {
   "cell_type": "code",
   "execution_count": 286,
   "id": "58f57005",
   "metadata": {},
   "outputs": [
    {
     "name": "stdout",
     "output_type": "stream",
     "text": [
      "MaAleem contact numm is 7330\n"
     ]
    }
   ],
   "source": [
    "name = 'MaAleem'\n",
    "numm = 7330\n",
    "print('%s contact numm is %g' %(name,numm) )"
   ]
  },
  {
   "cell_type": "code",
   "execution_count": 287,
   "id": "2bd189ae",
   "metadata": {},
   "outputs": [
    {
     "name": "stdout",
     "output_type": "stream",
     "text": [
      "MaAleem contact numm is 7330.000000\n"
     ]
    }
   ],
   "source": [
    "name = 'MaAleem'\n",
    "numm = 7330\n",
    "print('%s contact numm is %f' %(name,numm) )\n",
    "\n",
    "#  here instead of %g we used %f and w e get answer as 7330.000\n",
    "# %s is used for string and %g or %f for int or float"
   ]
  },
  {
   "cell_type": "code",
   "execution_count": 288,
   "id": "b318bf39",
   "metadata": {},
   "outputs": [
    {
     "name": "stdout",
     "output_type": "stream",
     "text": [
      "the value of pi is 3.1416\n"
     ]
    }
   ],
   "source": [
    "#   pi = 3.141592\n",
    "print('the value of pi is %.4f' %(3.141592))\n",
    "# .4f  means we want deciamls till 4 values"
   ]
  },
  {
   "cell_type": "code",
   "execution_count": 289,
   "id": "94626ec1",
   "metadata": {},
   "outputs": [
    {
     "name": "stdout",
     "output_type": "stream",
     "text": [
      "the value of pi is 3.142\n"
     ]
    }
   ],
   "source": [
    "#   pi = 3.141592\n",
    "print('the value of pi is %.3f' %(3.141592))"
   ]
  },
  {
   "cell_type": "code",
   "execution_count": 290,
   "id": "3d83e7fd",
   "metadata": {},
   "outputs": [
    {
     "name": "stdout",
     "output_type": "stream",
     "text": [
      "we all are good\n"
     ]
    }
   ],
   "source": [
    "print('we all are %s' %('good'))"
   ]
  },
  {
   "cell_type": "code",
   "execution_count": 291,
   "id": "316eaa24",
   "metadata": {},
   "outputs": [
    {
     "name": "stdout",
     "output_type": "stream",
     "text": [
      "we guys all are good enough\n"
     ]
    }
   ],
   "source": [
    "#  functional way\n",
    "print('we {} all are {} {}'.format('guys', 'good','enough'))"
   ]
  },
  {
   "cell_type": "code",
   "execution_count": null,
   "id": "e6e6ddc4",
   "metadata": {},
   "outputs": [],
   "source": [
    "print('we {b} are {a}' .format(a = 'good',b = 'guys'))\n",
    "\n",
    "#  we can placwe any element any where if we mention it by a,b,c"
   ]
  },
  {
   "cell_type": "code",
   "execution_count": null,
   "id": "fd2429ca",
   "metadata": {},
   "outputs": [],
   "source": [
    "print('hey , my first name is {} and last name is {}' .format('Ma','Aleem'))"
   ]
  },
  {
   "cell_type": "code",
   "execution_count": 292,
   "id": "df288c71",
   "metadata": {},
   "outputs": [
    {
     "name": "stdout",
     "output_type": "stream",
     "text": [
      "my name is MaAleem and the subject is Maths\n"
     ]
    }
   ],
   "source": [
    "a = 'MaAleem'\n",
    "b = 'Maths'\n",
    "print(f'my name is {a} and the subject is {b}')\n",
    "# use f before invesred commas to replace a and b"
   ]
  },
  {
   "cell_type": "code",
   "execution_count": 293,
   "id": "c8ba6a53",
   "metadata": {},
   "outputs": [
    {
     "name": "stdout",
     "output_type": "stream",
     "text": [
      "after spending 256.35 , i was left with 1743.65\n"
     ]
    }
   ],
   "source": [
    "balance = 2000\n",
    "spent = 256.35\n",
    "remaining = balance - spent\n",
    "\n",
    "# after spending 265.35 , i was left with 1743.65\n",
    "\n",
    "print('after spending {} , i was left with {}'.format(spent,remaining))"
   ]
  },
  {
   "cell_type": "code",
   "execution_count": 299,
   "id": "8c568d7f",
   "metadata": {},
   "outputs": [
    {
     "name": "stdout",
     "output_type": "stream",
     "text": [
      "after spending 256.35 i was left with 1,743.650\n"
     ]
    }
   ],
   "source": [
    "print(f'after spending {spent} i was left with {remaining:,.3f}')\n",
    "\n",
    "# we write remaining:,.1f to menntion how many deciamls we want"
   ]
  },
  {
   "cell_type": "code",
   "execution_count": 309,
   "id": "33eed5a9",
   "metadata": {},
   "outputs": [
    {
     "name": "stdout",
     "output_type": "stream",
     "text": [
      " the value of n is 1,234,567,890\n"
     ]
    }
   ],
   "source": [
    "n = 1234567890\n",
    "print(f' the value of n is {n:,}')"
   ]
  },
  {
   "cell_type": "code",
   "execution_count": 310,
   "id": "e69d217e",
   "metadata": {},
   "outputs": [
    {
     "name": "stdout",
     "output_type": "stream",
     "text": [
      "over 90.0% of pyhtonists say python rocks\n"
     ]
    }
   ],
   "source": [
    "ratio = 0.9\n",
    "print(f'over {ratio:.1%} of pyhtonists say python rocks')"
   ]
  },
  {
   "cell_type": "code",
   "execution_count": 312,
   "id": "de42521b",
   "metadata": {},
   "outputs": [
    {
     "name": "stdout",
     "output_type": "stream",
     "text": [
      "1 \n",
      " 2 \n",
      " 3\n"
     ]
    }
   ],
   "source": [
    "x,y,z = 1,2,3\n",
    "print(x,\"\\n\",y,\"\\n\",z)"
   ]
  },
  {
   "cell_type": "code",
   "execution_count": 313,
   "id": "51afc201",
   "metadata": {},
   "outputs": [
    {
     "name": "stdout",
     "output_type": "stream",
     "text": [
      "1\n",
      "2\n",
      "3\n"
     ]
    }
   ],
   "source": [
    "x,y,z = 1,2,3\n",
    "print(x,y,z , sep=\"\\n\")"
   ]
  },
  {
   "cell_type": "code",
   "execution_count": 322,
   "id": "440c9b9f",
   "metadata": {},
   "outputs": [
    {
     "name": "stdout",
     "output_type": "stream",
     "text": [
      "1\t5\t1\n"
     ]
    }
   ],
   "source": [
    "x,y,z = 1,5,1\n",
    "print(x,y,z , sep=\"\\t\")"
   ]
  },
  {
   "cell_type": "code",
   "execution_count": 323,
   "id": "0f5a4d90",
   "metadata": {},
   "outputs": [
    {
     "name": "stdout",
     "output_type": "stream",
     "text": [
      "140711724356392\n"
     ]
    }
   ],
   "source": [
    "print(id(x))"
   ]
  },
  {
   "cell_type": "code",
   "execution_count": 324,
   "id": "049f37fb",
   "metadata": {},
   "outputs": [
    {
     "name": "stdout",
     "output_type": "stream",
     "text": [
      "140711724356520\n"
     ]
    }
   ],
   "source": [
    "print(id(y))"
   ]
  },
  {
   "cell_type": "code",
   "execution_count": 325,
   "id": "200a87b1",
   "metadata": {},
   "outputs": [
    {
     "name": "stdout",
     "output_type": "stream",
     "text": [
      "140711724356392\n"
     ]
    }
   ],
   "source": [
    "print(id(z))"
   ]
  },
  {
   "cell_type": "code",
   "execution_count": 326,
   "id": "e32dc376",
   "metadata": {},
   "outputs": [
    {
     "name": "stdout",
     "output_type": "stream",
     "text": [
      "140711724356392 140711724356520 140711724356392\n"
     ]
    }
   ],
   "source": [
    "print(id(x), id(y), id(z))"
   ]
  },
  {
   "cell_type": "code",
   "execution_count": null,
   "id": "643eb3a1",
   "metadata": {},
   "outputs": [],
   "source": [
    "# lists []\n",
    "# tuple ()\n",
    "# dictionary {}"
   ]
  },
  {
   "cell_type": "code",
   "execution_count": 10,
   "id": "8779e356",
   "metadata": {},
   "outputs": [
    {
     "data": {
      "text/plain": [
       "False"
      ]
     },
     "execution_count": 10,
     "metadata": {},
     "output_type": "execute_result"
    }
   ],
   "source": [
    "x = ['apple','banana']\n",
    "y = ['banana','apple']\n",
    "x==y  # the order of elements in lists must be same"
   ]
  },
  {
   "cell_type": "code",
   "execution_count": 24,
   "id": "ef5893ff",
   "metadata": {},
   "outputs": [
    {
     "data": {
      "text/plain": [
       "[]"
      ]
     },
     "execution_count": 24,
     "metadata": {},
     "output_type": "execute_result"
    }
   ],
   "source": [
    "deserts = []\n",
    "deserts"
   ]
  },
  {
   "cell_type": "code",
   "execution_count": 25,
   "id": "56dc366c",
   "metadata": {},
   "outputs": [],
   "source": [
    "a = 3"
   ]
  },
  {
   "cell_type": "code",
   "execution_count": 26,
   "id": "aa616703",
   "metadata": {},
   "outputs": [],
   "source": [
    "a = a + 2"
   ]
  },
  {
   "cell_type": "code",
   "execution_count": 27,
   "id": "a77f24aa",
   "metadata": {},
   "outputs": [
    {
     "data": {
      "text/plain": [
       "5"
      ]
     },
     "execution_count": 27,
     "metadata": {},
     "output_type": "execute_result"
    }
   ],
   "source": [
    "a"
   ]
  },
  {
   "cell_type": "code",
   "execution_count": 28,
   "id": "7674d7f8",
   "metadata": {},
   "outputs": [],
   "source": [
    "a =3"
   ]
  },
  {
   "cell_type": "code",
   "execution_count": 29,
   "id": "45adb22e",
   "metadata": {},
   "outputs": [],
   "source": [
    "a += 2"
   ]
  },
  {
   "cell_type": "code",
   "execution_count": 30,
   "id": "4c37cbd1",
   "metadata": {},
   "outputs": [
    {
     "data": {
      "text/plain": [
       "5"
      ]
     },
     "execution_count": 30,
     "metadata": {},
     "output_type": "execute_result"
    }
   ],
   "source": [
    "a"
   ]
  },
  {
   "cell_type": "code",
   "execution_count": 31,
   "id": "8c499bce",
   "metadata": {},
   "outputs": [],
   "source": [
    "ders = []"
   ]
  },
  {
   "cell_type": "code",
   "execution_count": 32,
   "id": "f4aaf25e",
   "metadata": {},
   "outputs": [],
   "source": [
    "ders = ders + [\"meetha\"]"
   ]
  },
  {
   "cell_type": "code",
   "execution_count": 33,
   "id": "37ccb301",
   "metadata": {},
   "outputs": [
    {
     "data": {
      "text/plain": [
       "['meetha']"
      ]
     },
     "execution_count": 33,
     "metadata": {},
     "output_type": "execute_result"
    }
   ],
   "source": [
    "ders"
   ]
  },
  {
   "cell_type": "code",
   "execution_count": 34,
   "id": "882eb0c8",
   "metadata": {},
   "outputs": [
    {
     "data": {
      "text/plain": [
       "['meetha']"
      ]
     },
     "execution_count": 34,
     "metadata": {},
     "output_type": "execute_result"
    }
   ],
   "source": [
    "deserts += ['meetha']\n",
    "deserts"
   ]
  },
  {
   "cell_type": "code",
   "execution_count": 35,
   "id": "8c34df9d",
   "metadata": {},
   "outputs": [
    {
     "data": {
      "text/plain": [
       "['meetha', 'ras', 'al', 'gul']"
      ]
     },
     "execution_count": 35,
     "metadata": {},
     "output_type": "execute_result"
    }
   ],
   "source": [
    "deserts += ['ras','al','gul']\n",
    "deserts"
   ]
  },
  {
   "cell_type": "code",
   "execution_count": 36,
   "id": "c3227e6a",
   "metadata": {},
   "outputs": [
    {
     "data": {
      "text/plain": [
       "True"
      ]
     },
     "execution_count": 36,
     "metadata": {},
     "output_type": "execute_result"
    }
   ],
   "source": [
    "'gul' in deserts"
   ]
  },
  {
   "cell_type": "code",
   "execution_count": 37,
   "id": "20d34efb",
   "metadata": {},
   "outputs": [
    {
     "data": {
      "text/plain": [
       "False"
      ]
     },
     "execution_count": 37,
     "metadata": {},
     "output_type": "execute_result"
    }
   ],
   "source": [
    "'man' in  deserts"
   ]
  },
  {
   "cell_type": "code",
   "execution_count": 18,
   "id": "7caeb83f",
   "metadata": {},
   "outputs": [
    {
     "data": {
      "text/plain": [
       "True"
      ]
     },
     "execution_count": 18,
     "metadata": {},
     "output_type": "execute_result"
    }
   ],
   "source": [
    "'man' not in deserts"
   ]
  },
  {
   "cell_type": "code",
   "execution_count": null,
   "id": "a7ee7be2",
   "metadata": {},
   "outputs": [],
   "source": []
  },
  {
   "cell_type": "code",
   "execution_count": 27,
   "id": "25c377d7",
   "metadata": {},
   "outputs": [],
   "source": [
    "fst = [1,2,3,4,5,6,7]"
   ]
  },
  {
   "cell_type": "code",
   "execution_count": 28,
   "id": "6f736cd5",
   "metadata": {},
   "outputs": [
    {
     "data": {
      "text/plain": [
       "2"
      ]
     },
     "execution_count": 28,
     "metadata": {},
     "output_type": "execute_result"
    }
   ],
   "source": [
    "fst[1]"
   ]
  },
  {
   "cell_type": "code",
   "execution_count": 31,
   "id": "44811e26",
   "metadata": {},
   "outputs": [
    {
     "data": {
      "text/plain": [
       "[1, 9, 3, 4, 5, 6, 7]"
      ]
     },
     "execution_count": 31,
     "metadata": {},
     "output_type": "execute_result"
    }
   ],
   "source": [
    "# update lists or replace a value\n",
    "fst[1] = 9\n",
    "fst"
   ]
  },
  {
   "cell_type": "code",
   "execution_count": 33,
   "id": "09bc94aa",
   "metadata": {},
   "outputs": [
    {
     "data": {
      "text/plain": [
       "[1, 3, 4, 5, 6, 7]"
      ]
     },
     "execution_count": 33,
     "metadata": {},
     "output_type": "execute_result"
    }
   ],
   "source": [
    "del fst[1]\n",
    "fst"
   ]
  },
  {
   "cell_type": "code",
   "execution_count": 34,
   "id": "187d7eec",
   "metadata": {},
   "outputs": [
    {
     "data": {
      "text/plain": [
       "[1, 3, 4, 6, 7]"
      ]
     },
     "execution_count": 34,
     "metadata": {},
     "output_type": "execute_result"
    }
   ],
   "source": [
    "# delete an element\n",
    "del(fst[3])\n",
    "fst"
   ]
  },
  {
   "cell_type": "code",
   "execution_count": 35,
   "id": "8843e622",
   "metadata": {},
   "outputs": [
    {
     "name": "stdout",
     "output_type": "stream",
     "text": [
      "7\n"
     ]
    }
   ],
   "source": [
    "print(fst.pop())  # the last number is removed"
   ]
  },
  {
   "cell_type": "code",
   "execution_count": 36,
   "id": "13c12336",
   "metadata": {},
   "outputs": [
    {
     "data": {
      "text/plain": [
       "[1, 3, 4, 6]"
      ]
     },
     "execution_count": 36,
     "metadata": {},
     "output_type": "execute_result"
    }
   ],
   "source": [
    "fst"
   ]
  },
  {
   "cell_type": "code",
   "execution_count": 40,
   "id": "16e2a2e3",
   "metadata": {},
   "outputs": [],
   "source": [
    "fst = [1,2,3,4,5,6,7,'a','b']"
   ]
  },
  {
   "cell_type": "code",
   "execution_count": 41,
   "id": "2264b6bd",
   "metadata": {},
   "outputs": [
    {
     "name": "stdout",
     "output_type": "stream",
     "text": [
      "4\n"
     ]
    }
   ],
   "source": [
    "print(fst.pop(3))"
   ]
  },
  {
   "cell_type": "code",
   "execution_count": 42,
   "id": "6d351932",
   "metadata": {},
   "outputs": [
    {
     "data": {
      "text/plain": [
       "[1, 2, 3, 5, 6, 7, 'a', 'b']"
      ]
     },
     "execution_count": 42,
     "metadata": {},
     "output_type": "execute_result"
    }
   ],
   "source": [
    "fst"
   ]
  },
  {
   "cell_type": "code",
   "execution_count": 43,
   "id": "7f7043f2",
   "metadata": {},
   "outputs": [],
   "source": [
    "fst.remove('a')  # remove is used for removing element using names"
   ]
  },
  {
   "cell_type": "code",
   "execution_count": 45,
   "id": "1d1fafec",
   "metadata": {},
   "outputs": [
    {
     "data": {
      "text/plain": [
       "[1, 2, 3, 5, 6, 7, 'b']"
      ]
     },
     "execution_count": 45,
     "metadata": {},
     "output_type": "execute_result"
    }
   ],
   "source": [
    "fst"
   ]
  },
  {
   "cell_type": "code",
   "execution_count": null,
   "id": "bc6997e1",
   "metadata": {},
   "outputs": [],
   "source": [
    "# pop , del - we mention index number\n",
    "# remove -  we mention item name , if the item to be removed is a number then donot put it in quotes"
   ]
  },
  {
   "cell_type": "code",
   "execution_count": null,
   "id": "cddbf66e",
   "metadata": {},
   "outputs": [],
   "source": [
    "fst.remove(2)\n",
    "fst"
   ]
  },
  {
   "cell_type": "code",
   "execution_count": 48,
   "id": "cf3f0456",
   "metadata": {},
   "outputs": [
    {
     "data": {
      "text/plain": [
       "[1, 2, 3, 5, 6, 7, 'b', 'mi', 'mi']"
      ]
     },
     "execution_count": 48,
     "metadata": {},
     "output_type": "execute_result"
    }
   ],
   "source": [
    "# add item at the end of lists\n",
    "fst.append('mi')\n",
    "fst"
   ]
  },
  {
   "cell_type": "code",
   "execution_count": 49,
   "id": "2a8b0b2a",
   "metadata": {},
   "outputs": [
    {
     "data": {
      "text/plain": [
       "[1, 2, 3, 5, 6, 7, 'b', 'mi', 'mi', 99]"
      ]
     },
     "execution_count": 49,
     "metadata": {},
     "output_type": "execute_result"
    }
   ],
   "source": [
    "fst.append(99)  # for appennding number no need of quotes\n",
    "fst"
   ]
  },
  {
   "cell_type": "code",
   "execution_count": 50,
   "id": "80a6fa92",
   "metadata": {},
   "outputs": [
    {
     "data": {
      "text/plain": [
       "['a', 'b', 'c', 'd', 'e']"
      ]
     },
     "execution_count": 50,
     "metadata": {},
     "output_type": "execute_result"
    }
   ],
   "source": [
    "alph = ['a','b','c','d'] # append takes only one arguement at a time\n",
    "alph.append('e')\n",
    "alph"
   ]
  },
  {
   "cell_type": "code",
   "execution_count": 51,
   "id": "df8e3c28",
   "metadata": {},
   "outputs": [
    {
     "data": {
      "text/plain": [
       "['a', 'b', 'c', 'd', 'e', 'f', 'g', 'i']"
      ]
     },
     "execution_count": 51,
     "metadata": {},
     "output_type": "execute_result"
    }
   ],
   "source": [
    "alph.extend(['f','g','i'])   # when using extend declare the elements in []\n",
    "alph     # extend is used to inssert multile elements"
   ]
  },
  {
   "cell_type": "code",
   "execution_count": 53,
   "id": "aefcea8d",
   "metadata": {},
   "outputs": [
    {
     "data": {
      "text/plain": [
       "[6, 7, 'ma', 8, 1]"
      ]
     },
     "execution_count": 53,
     "metadata": {},
     "output_type": "execute_result"
    }
   ],
   "source": [
    "numb = [6,7,8,1]\n",
    "numb.insert(2,'ma')   # inserts item at specific position\n",
    "numb"
   ]
  },
  {
   "cell_type": "code",
   "execution_count": 60,
   "id": "c9d5ad8c",
   "metadata": {},
   "outputs": [
    {
     "data": {
      "text/plain": [
       "[2, 4, 5, 7, 8, 9]"
      ]
     },
     "execution_count": 60,
     "metadata": {},
     "output_type": "execute_result"
    }
   ],
   "source": [
    "bam = [8,7,4,9,2,5]\n",
    "sorted(bam)  "
   ]
  },
  {
   "cell_type": "code",
   "execution_count": 57,
   "id": "c749cecb",
   "metadata": {},
   "outputs": [
    {
     "data": {
      "text/plain": [
       "[9, 8, 7, 5, 4, 2]"
      ]
     },
     "execution_count": 57,
     "metadata": {},
     "output_type": "execute_result"
    }
   ],
   "source": [
    "bam = [8,7,4,9,2,5]\n",
    "sorted(bam,reverse=True)   # can calso use ::-1"
   ]
  },
  {
   "cell_type": "code",
   "execution_count": 58,
   "id": "4e5a30ef",
   "metadata": {},
   "outputs": [
    {
     "data": {
      "text/plain": [
       "[4, 8, 3, 1, 7, 2, 6]"
      ]
     },
     "execution_count": 58,
     "metadata": {},
     "output_type": "execute_result"
    }
   ],
   "source": [
    "dam = [6,2,7,1,3,8,4]\n",
    "dam[::-1]"
   ]
  },
  {
   "cell_type": "code",
   "execution_count": 42,
   "id": "dbfff8a8",
   "metadata": {},
   "outputs": [
    {
     "name": "stdout",
     "output_type": "stream",
     "text": [
      "{'age': 19, 'weight': 55}\n"
     ]
    }
   ],
   "source": [
    "dict1 = {'age':19 , 'weight':55}\n",
    "print(dict1)"
   ]
  },
  {
   "cell_type": "code",
   "execution_count": 43,
   "id": "0944c3a9",
   "metadata": {},
   "outputs": [
    {
     "name": "stdout",
     "output_type": "stream",
     "text": [
      "55\n"
     ]
    }
   ],
   "source": [
    "print(dict1['weight'])"
   ]
  },
  {
   "cell_type": "code",
   "execution_count": 44,
   "id": "ec320c10",
   "metadata": {},
   "outputs": [
    {
     "name": "stdout",
     "output_type": "stream",
     "text": [
      "c\n"
     ]
    }
   ],
   "source": [
    "dict2 = {1:'a',2:'b',3:'c'}\n",
    "print(dict2[3])"
   ]
  },
  {
   "cell_type": "code",
   "execution_count": 65,
   "id": "24829e17",
   "metadata": {},
   "outputs": [
    {
     "name": "stdout",
     "output_type": "stream",
     "text": [
      "{1: 'd', 2: 'b', 3: 'c'}\n"
     ]
    }
   ],
   "source": [
    "dict2 = {1:'a',2:'b',3:'c',1:'d'}   # here the first value for 1 is replace by 2nd value of 1\n",
    "print(dict2)"
   ]
  },
  {
   "cell_type": "code",
   "execution_count": 66,
   "id": "e78e28c2",
   "metadata": {},
   "outputs": [
    {
     "name": "stdout",
     "output_type": "stream",
     "text": [
      "{1: 'd', 2: 'b'}\n"
     ]
    }
   ],
   "source": [
    "del(dict2[3])  # here 3 represents the key not the index position\n",
    "print(dict2)"
   ]
  },
  {
   "cell_type": "code",
   "execution_count": null,
   "id": "6c3a6ca4",
   "metadata": {},
   "outputs": [],
   "source": [
    "print(len(dict1))"
   ]
  },
  {
   "cell_type": "code",
   "execution_count": 67,
   "id": "e31985ec",
   "metadata": {},
   "outputs": [
    {
     "name": "stdout",
     "output_type": "stream",
     "text": [
      "{1: 'pyh', 2: 'andr'}\n"
     ]
    }
   ],
   "source": [
    "dict1 = {1:'pyh',2:'andr'}\n",
    "print(dict1)"
   ]
  },
  {
   "cell_type": "code",
   "execution_count": 68,
   "id": "d6d92221",
   "metadata": {},
   "outputs": [
    {
     "name": "stdout",
     "output_type": "stream",
     "text": [
      "dict_keys([1, 2])\n"
     ]
    }
   ],
   "source": [
    "print(dict1.keys())  # only displays the keys not values"
   ]
  },
  {
   "cell_type": "code",
   "execution_count": 74,
   "id": "79b6327c",
   "metadata": {},
   "outputs": [
    {
     "name": "stdout",
     "output_type": "stream",
     "text": [
      "{1: 'ma', 2: 'aleem', 3: 'hyd'}\n"
     ]
    }
   ],
   "source": [
    "dict4 = {1:'ma',2:'aleem'}\n",
    "dict4.update({3:'hyd'})\n",
    "print(dict4)"
   ]
  },
  {
   "cell_type": "code",
   "execution_count": 75,
   "id": "a51380ce",
   "metadata": {},
   "outputs": [
    {
     "data": {
      "text/plain": [
       "{1: 'ma', 2: 'aleem', 3: 'tel'}"
      ]
     },
     "execution_count": 75,
     "metadata": {},
     "output_type": "execute_result"
    }
   ],
   "source": [
    "dict4.update({3:'tel'})\n",
    "dict4"
   ]
  },
  {
   "cell_type": "code",
   "execution_count": 76,
   "id": "90d1adb8",
   "metadata": {},
   "outputs": [
    {
     "name": "stdout",
     "output_type": "stream",
     "text": [
      "{1: 'ma', 3: 'tel'}\n"
     ]
    }
   ],
   "source": [
    "dict4.pop(2)\n",
    "print(dict4)"
   ]
  },
  {
   "cell_type": "code",
   "execution_count": 77,
   "id": "bcdfdff0",
   "metadata": {},
   "outputs": [
    {
     "name": "stdout",
     "output_type": "stream",
     "text": [
      "{1: 'ma'}\n"
     ]
    }
   ],
   "source": [
    "dict4.popitem()   # popitem rermoves the last item\n",
    "print(dict4)"
   ]
  },
  {
   "cell_type": "code",
   "execution_count": 78,
   "id": "ed951d3c",
   "metadata": {},
   "outputs": [
    {
     "name": "stdout",
     "output_type": "stream",
     "text": [
      "{}\n"
     ]
    }
   ],
   "source": [
    "dict4.clear()   # empty the dictionary\n",
    "print(dict4)"
   ]
  },
  {
   "cell_type": "code",
   "execution_count": 79,
   "id": "5faf66bc",
   "metadata": {},
   "outputs": [
    {
     "name": "stdout",
     "output_type": "stream",
     "text": [
      "{'age': 19, 'weight': 55}\n"
     ]
    }
   ],
   "source": [
    "# copying a dictionary\n",
    "dict1 = {'age':19 , 'weight':55}\n",
    "print(dict1)"
   ]
  },
  {
   "cell_type": "code",
   "execution_count": 51,
   "id": "d6ef1d20",
   "metadata": {},
   "outputs": [
    {
     "name": "stdout",
     "output_type": "stream",
     "text": [
      "{'age': 19, 'weight': 55}\n"
     ]
    }
   ],
   "source": [
    "dict2 = dict1.copy()\n",
    "print(dict2)"
   ]
  },
  {
   "cell_type": "code",
   "execution_count": 80,
   "id": "4230e4d9",
   "metadata": {},
   "outputs": [
    {
     "name": "stdout",
     "output_type": "stream",
     "text": [
      "19\n"
     ]
    }
   ],
   "source": [
    "print(dict1.setdefault('age',23)) # replacing an item from dictionary"
   ]
  },
  {
   "cell_type": "code",
   "execution_count": 81,
   "id": "c0269092",
   "metadata": {},
   "outputs": [
    {
     "name": "stdout",
     "output_type": "stream",
     "text": [
      "hyderabad\n"
     ]
    }
   ],
   "source": [
    " print(dict1.setdefault('place','hyderabad'))   # adding something in dictionnary"
   ]
  },
  {
   "cell_type": "code",
   "execution_count": 82,
   "id": "2facd7e1",
   "metadata": {},
   "outputs": [
    {
     "name": "stdout",
     "output_type": "stream",
     "text": [
      "{'age': 19, 'weight': 55, 'place': 'hyderabad'}\n"
     ]
    }
   ],
   "source": [
    "print(dict1)"
   ]
  },
  {
   "cell_type": "code",
   "execution_count": 84,
   "id": "fac917a3",
   "metadata": {},
   "outputs": [
    {
     "name": "stdout",
     "output_type": "stream",
     "text": [
      "{'orange', 'banana', 'apple'}\n"
     ]
    }
   ],
   "source": [
    "# sets\n",
    "basket = {'apple','banana','orange','banana','orange'}\n",
    "print(basket)"
   ]
  },
  {
   "cell_type": "code",
   "execution_count": 85,
   "id": "8c0b8280",
   "metadata": {},
   "outputs": [
    {
     "data": {
      "text/plain": [
       "True"
      ]
     },
     "execution_count": 85,
     "metadata": {},
     "output_type": "execute_result"
    }
   ],
   "source": [
    "'orange' in basket"
   ]
  },
  {
   "cell_type": "code",
   "execution_count": 90,
   "id": "b6a82cc2",
   "metadata": {},
   "outputs": [
    {
     "data": {
      "text/plain": [
       "{'a', 'e', 'l', 'p'}"
      ]
     },
     "execution_count": 90,
     "metadata": {},
     "output_type": "execute_result"
    }
   ],
   "source": [
    "basket = set({'apple','banana','orange','banana','orange'})\n",
    "basket"
   ]
  },
  {
   "cell_type": "code",
   "execution_count": 88,
   "id": "fbb34d9a",
   "metadata": {},
   "outputs": [
    {
     "data": {
      "text/plain": [
       "True"
      ]
     },
     "execution_count": 88,
     "metadata": {},
     "output_type": "execute_result"
    }
   ],
   "source": [
    "'orange' in basket"
   ]
  },
  {
   "cell_type": "code",
   "execution_count": 92,
   "id": "1f3f8894",
   "metadata": {},
   "outputs": [
    {
     "name": "stdout",
     "output_type": "stream",
     "text": [
      "{'k', 'r', 'a', 'd', 'b'}\n"
     ]
    }
   ],
   "source": [
    "a = set('abrakadabra')    # creating this way will accept only one arguement \n",
    "print(a)"
   ]
  },
  {
   "cell_type": "code",
   "execution_count": 93,
   "id": "da4b287e",
   "metadata": {},
   "outputs": [
    {
     "name": "stdout",
     "output_type": "stream",
     "text": [
      "{'b', 'm', 'o'}\n"
     ]
    }
   ],
   "source": [
    "b = set('bbboooooommmm')\n",
    "print(b)"
   ]
  },
  {
   "cell_type": "code",
   "execution_count": 94,
   "id": "a6cb07aa",
   "metadata": {},
   "outputs": [
    {
     "name": "stdout",
     "output_type": "stream",
     "text": [
      "3\n"
     ]
    }
   ],
   "source": [
    "print(len(b))"
   ]
  },
  {
   "cell_type": "code",
   "execution_count": 95,
   "id": "72ea48a1",
   "metadata": {},
   "outputs": [
    {
     "data": {
      "text/plain": [
       "set"
      ]
     },
     "execution_count": 95,
     "metadata": {},
     "output_type": "execute_result"
    }
   ],
   "source": [
    "type(b)"
   ]
  },
  {
   "cell_type": "code",
   "execution_count": 96,
   "id": "95f8515e",
   "metadata": {},
   "outputs": [
    {
     "name": "stdout",
     "output_type": "stream",
     "text": [
      "{'b', 'dddooo', 'm', 'o'}\n"
     ]
    }
   ],
   "source": [
    "b.add('dddooo')\n",
    "print(b)"
   ]
  },
  {
   "cell_type": "code",
   "execution_count": 99,
   "id": "b2ef79d0",
   "metadata": {},
   "outputs": [
    {
     "name": "stdout",
     "output_type": "stream",
     "text": [
      "{'asdg', 'hkjklk'}\n"
     ]
    }
   ],
   "source": [
    "c = {'asdg','hkjklk'}\n",
    "print(c)"
   ]
  },
  {
   "cell_type": "code",
   "execution_count": 100,
   "id": "955aaa83",
   "metadata": {},
   "outputs": [
    {
     "name": "stdout",
     "output_type": "stream",
     "text": [
      "{'o', 'm', 'dddooo', 'asdg', 'b', 'hkjklk'}\n"
     ]
    }
   ],
   "source": [
    "c.update(b)\n",
    "print(c)"
   ]
  },
  {
   "cell_type": "code",
   "execution_count": 101,
   "id": "9684aad1",
   "metadata": {},
   "outputs": [
    {
     "name": "stdout",
     "output_type": "stream",
     "text": [
      "{'o', 'm', 'dddooo', 'b', 'hkjklk'}\n"
     ]
    }
   ],
   "source": [
    "c.remove('asdg')\n",
    "print(c)"
   ]
  },
  {
   "cell_type": "code",
   "execution_count": 102,
   "id": "54804bf6",
   "metadata": {},
   "outputs": [
    {
     "name": "stdout",
     "output_type": "stream",
     "text": [
      "{'o', 'm', 'b', 'hkjklk'}\n"
     ]
    }
   ],
   "source": [
    "c.discard('dddooo')\n",
    "print(c)"
   ]
  },
  {
   "cell_type": "code",
   "execution_count": 103,
   "id": "cf2aa88c",
   "metadata": {},
   "outputs": [
    {
     "name": "stdout",
     "output_type": "stream",
     "text": [
      "{'m', 'b', 'hkjklk'}\n"
     ]
    }
   ],
   "source": [
    "c.pop()\n",
    "print(c)"
   ]
  },
  {
   "cell_type": "code",
   "execution_count": 104,
   "id": "2c0f5ba2",
   "metadata": {},
   "outputs": [
    {
     "ename": "NameError",
     "evalue": "name 'c' is not defined",
     "output_type": "error",
     "traceback": [
      "\u001b[1;31m---------------------------------------------------------------------------\u001b[0m",
      "\u001b[1;31mNameError\u001b[0m                                 Traceback (most recent call last)",
      "Cell \u001b[1;32mIn[104], line 2\u001b[0m\n\u001b[0;32m      1\u001b[0m \u001b[38;5;28;01mdel\u001b[39;00m c\n\u001b[1;32m----> 2\u001b[0m \u001b[38;5;28mprint\u001b[39m(c)\n",
      "\u001b[1;31mNameError\u001b[0m: name 'c' is not defined"
     ]
    }
   ],
   "source": [
    "del c\n",
    "print(c)  # now set c is erased and doesnt exist"
   ]
  },
  {
   "cell_type": "code",
   "execution_count": 105,
   "id": "069d5c6a",
   "metadata": {},
   "outputs": [
    {
     "name": "stdout",
     "output_type": "stream",
     "text": [
      "{1, 2, 3, 4, 5, 6}\n"
     ]
    }
   ],
   "source": [
    "set1 = {1,2,3}\n",
    "set2 = {4,5,6}\n",
    "\n",
    "set3 = set.union(set1,set2)\n",
    "print(set3)"
   ]
  },
  {
   "cell_type": "code",
   "execution_count": 109,
   "id": "689235a9",
   "metadata": {},
   "outputs": [
    {
     "name": "stdout",
     "output_type": "stream",
     "text": [
      "{3}\n"
     ]
    }
   ],
   "source": [
    "set1 = {1,2,3}\n",
    "set2 = {4,3,6}\n",
    "\n",
    "set1.intersection_update(set2)\n",
    "print(set1)"
   ]
  },
  {
   "cell_type": "code",
   "execution_count": 110,
   "id": "427eb985",
   "metadata": {},
   "outputs": [
    {
     "name": "stdout",
     "output_type": "stream",
     "text": [
      "{3}\n"
     ]
    }
   ],
   "source": [
    "print(set1)"
   ]
  },
  {
   "cell_type": "code",
   "execution_count": 111,
   "id": "b63636a5",
   "metadata": {},
   "outputs": [
    {
     "name": "stdout",
     "output_type": "stream",
     "text": [
      "{3}\n"
     ]
    }
   ],
   "source": [
    "set1 = {1,2,3}\n",
    "set2 = {4,3,6}\n",
    "\n",
    "set3 = set1.intersection(set2)\n",
    "print(set3)"
   ]
  },
  {
   "cell_type": "code",
   "execution_count": 112,
   "id": "9d2fb7c8",
   "metadata": {},
   "outputs": [
    {
     "name": "stdout",
     "output_type": "stream",
     "text": [
      "{1, 2, 3}\n"
     ]
    }
   ],
   "source": [
    "print(set1)"
   ]
  },
  {
   "cell_type": "code",
   "execution_count": 113,
   "id": "91bb9338",
   "metadata": {},
   "outputs": [
    {
     "name": "stdout",
     "output_type": "stream",
     "text": [
      "{1, 2, 4, 6}\n"
     ]
    }
   ],
   "source": [
    "set1 = {1,2,3}     # keeps only thosse elemnets that are notpresent in bot sets , opposite to intesrection\n",
    "set2 = {4,3,6}\n",
    "\n",
    "set3 = set1.symmetric_difference(set2)\n",
    "print(set3)"
   ]
  },
  {
   "cell_type": "markdown",
   "id": "a55ee33d",
   "metadata": {},
   "source": [
    "# NUMPY"
   ]
  },
  {
   "cell_type": "code",
   "execution_count": 38,
   "id": "66fa1ba5",
   "metadata": {},
   "outputs": [],
   "source": [
    "import numpy as np    # when asked in interview what is np in numpy then reply ' context ' or pd in pandas as ' context'  or ' context manager'"
   ]
  },
  {
   "cell_type": "code",
   "execution_count": 117,
   "id": "3dbe4453",
   "metadata": {},
   "outputs": [
    {
     "name": "stdout",
     "output_type": "stream",
     "text": [
      "[1 2 3 4 5 6]\n"
     ]
    }
   ],
   "source": [
    "a  = np.array([1,2,3,4,5,6])\n",
    "print(a)"
   ]
  },
  {
   "cell_type": "code",
   "execution_count": 120,
   "id": "c325df05",
   "metadata": {},
   "outputs": [
    {
     "data": {
      "text/plain": [
       "1"
      ]
     },
     "execution_count": 120,
     "metadata": {},
     "output_type": "execute_result"
    }
   ],
   "source": [
    "a.ndim"
   ]
  },
  {
   "cell_type": "code",
   "execution_count": 118,
   "id": "70942211",
   "metadata": {},
   "outputs": [
    {
     "data": {
      "text/plain": [
       "numpy.ndarray"
      ]
     },
     "execution_count": 118,
     "metadata": {},
     "output_type": "execute_result"
    }
   ],
   "source": [
    "type(a)"
   ]
  },
  {
   "cell_type": "code",
   "execution_count": 121,
   "id": "0e7e703a",
   "metadata": {},
   "outputs": [
    {
     "name": "stdout",
     "output_type": "stream",
     "text": [
      "[[1 2 3]\n",
      " [4 5 6]]\n"
     ]
    }
   ],
   "source": [
    "b= np.array([[1,2,3],[4,5,6]])\n",
    "print(b)"
   ]
  },
  {
   "cell_type": "code",
   "execution_count": 124,
   "id": "1e072d14",
   "metadata": {},
   "outputs": [
    {
     "data": {
      "text/plain": [
       "numpy.ndarray"
      ]
     },
     "execution_count": 124,
     "metadata": {},
     "output_type": "execute_result"
    }
   ],
   "source": [
    "type(b)"
   ]
  },
  {
   "cell_type": "code",
   "execution_count": 125,
   "id": "531359bf",
   "metadata": {},
   "outputs": [
    {
     "data": {
      "text/plain": [
       "2"
      ]
     },
     "execution_count": 125,
     "metadata": {},
     "output_type": "execute_result"
    }
   ],
   "source": [
    "b.ndim"
   ]
  },
  {
   "cell_type": "code",
   "execution_count": 126,
   "id": "234c827e",
   "metadata": {},
   "outputs": [
    {
     "data": {
      "text/plain": [
       "array([0., 0.])"
      ]
     },
     "execution_count": 126,
     "metadata": {},
     "output_type": "execute_result"
    }
   ],
   "source": [
    "# create an array of zeroes\n",
    "np.zeros(2)"
   ]
  },
  {
   "cell_type": "code",
   "execution_count": 147,
   "id": "0493d36f",
   "metadata": {},
   "outputs": [
    {
     "data": {
      "text/plain": [
       "array([[0., 0., 0.],\n",
       "       [0., 0., 0.],\n",
       "       [0., 0., 0.],\n",
       "       [0., 0., 0.],\n",
       "       [0., 0., 0.],\n",
       "       [0., 0., 0.]])"
      ]
     },
     "execution_count": 147,
     "metadata": {},
     "output_type": "execute_result"
    }
   ],
   "source": [
    "np.zeros([6,3])"
   ]
  },
  {
   "cell_type": "code",
   "execution_count": 133,
   "id": "c181b4c2",
   "metadata": {},
   "outputs": [
    {
     "data": {
      "text/plain": [
       "array([1., 1., 1.])"
      ]
     },
     "execution_count": 133,
     "metadata": {},
     "output_type": "execute_result"
    }
   ],
   "source": [
    "np.ones(3)   # when giving 2 arguements [] brackets must be used"
   ]
  },
  {
   "cell_type": "code",
   "execution_count": 134,
   "id": "d1ed5c63",
   "metadata": {
    "scrolled": true
   },
   "outputs": [
    {
     "data": {
      "text/plain": [
       "array([[1., 1.],\n",
       "       [1., 1.],\n",
       "       [1., 1.],\n",
       "       [1., 1.],\n",
       "       [1., 1.]])"
      ]
     },
     "execution_count": 134,
     "metadata": {},
     "output_type": "execute_result"
    }
   ],
   "source": [
    "np.ones([5,2])"
   ]
  },
  {
   "cell_type": "code",
   "execution_count": 148,
   "id": "8e4acf53",
   "metadata": {},
   "outputs": [
    {
     "data": {
      "text/plain": [
       "array([[4.67296746e-307, 1.69121096e-306, 1.33511290e-306],\n",
       "       [6.23058368e-307, 2.22526399e-307, 6.23053614e-307],\n",
       "       [7.56592338e-307, 9.34588061e-307, 3.62651150e-317]])"
      ]
     },
     "execution_count": 148,
     "metadata": {},
     "output_type": "execute_result"
    }
   ],
   "source": [
    "np.empty([3,3])  # thoughit shoe values but still  the array is empty , it sjust the representation"
   ]
  },
  {
   "cell_type": "code",
   "execution_count": 154,
   "id": "09e6f5d5",
   "metadata": {},
   "outputs": [
    {
     "data": {
      "text/plain": [
       "array([0, 1, 2, 3, 4, 5, 6, 7, 8, 9])"
      ]
     },
     "execution_count": 154,
     "metadata": {},
     "output_type": "execute_result"
    }
   ],
   "source": [
    "np.arange(10)  # genrating numbers specified"
   ]
  },
  {
   "cell_type": "code",
   "execution_count": 155,
   "id": "90abffe5",
   "metadata": {},
   "outputs": [
    {
     "data": {
      "text/plain": [
       "array([0, 1, 2, 3, 4])"
      ]
     },
     "execution_count": 155,
     "metadata": {},
     "output_type": "execute_result"
    }
   ],
   "source": [
    "np.arange(5)"
   ]
  },
  {
   "cell_type": "code",
   "execution_count": 156,
   "id": "7fea5e81",
   "metadata": {},
   "outputs": [
    {
     "data": {
      "text/plain": [
       "array([4, 5, 6, 7, 8])"
      ]
     },
     "execution_count": 156,
     "metadata": {},
     "output_type": "execute_result"
    }
   ],
   "source": [
    "np.arange(4,9)      # starting from 4"
   ]
  },
  {
   "cell_type": "code",
   "execution_count": 157,
   "id": "113bfd87",
   "metadata": {},
   "outputs": [
    {
     "data": {
      "text/plain": [
       "array([ 4,  7, 10, 13, 16])"
      ]
     },
     "execution_count": 157,
     "metadata": {},
     "output_type": "execute_result"
    }
   ],
   "source": [
    "np.arange(4,18,3)    # starting from 4 and jumping three numbers till 18"
   ]
  },
  {
   "cell_type": "code",
   "execution_count": 159,
   "id": "d052fd13",
   "metadata": {},
   "outputs": [
    {
     "data": {
      "text/plain": [
       "array([ 0.        ,  1.66666667,  3.33333333,  5.        ,  6.66666667,\n",
       "        8.33333333, 10.        ])"
      ]
     },
     "execution_count": 159,
     "metadata": {},
     "output_type": "execute_result"
    }
   ],
   "source": [
    "np.linspace(0,10,7)   # the last arguement 5 specifies number of  elements we want"
   ]
  },
  {
   "cell_type": "code",
   "execution_count": 50,
   "id": "abe49493",
   "metadata": {},
   "outputs": [
    {
     "data": {
      "text/plain": [
       "array([1, 2, 3, 4, 5, 6])"
      ]
     },
     "execution_count": 50,
     "metadata": {},
     "output_type": "execute_result"
    }
   ],
   "source": [
    "# concatenation\n",
    "a = np.array([1,2,3])\n",
    "b = np.array([4,5,6])\n",
    "\n",
    "np.concatenate((a,b))"
   ]
  },
  {
   "cell_type": "code",
   "execution_count": 53,
   "id": "adaf07f1",
   "metadata": {},
   "outputs": [
    {
     "data": {
      "text/plain": [
       "array([[1, 2, 5],\n",
       "       [3, 4, 6]])"
      ]
     },
     "execution_count": 53,
     "metadata": {},
     "output_type": "execute_result"
    }
   ],
   "source": [
    "c= np.array([[1,2],[3,4]])\n",
    "d = np.array([[5],[6]])     # when concatinating a 1d array with 2d array we need to add one more set of square brackets to 1d array\n",
    "\n",
    "np.concatenate((c,d),axis=1)"
   ]
  },
  {
   "cell_type": "code",
   "execution_count": 55,
   "id": "c6378c69",
   "metadata": {},
   "outputs": [
    {
     "ename": "ValueError",
     "evalue": "all the input array dimensions except for the concatenation axis must match exactly, but along dimension 1, the array at index 0 has size 2 and the array at index 1 has size 1",
     "output_type": "error",
     "traceback": [
      "\u001b[1;31m---------------------------------------------------------------------------\u001b[0m",
      "\u001b[1;31mValueError\u001b[0m                                Traceback (most recent call last)",
      "Cell \u001b[1;32mIn[55], line 1\u001b[0m\n\u001b[1;32m----> 1\u001b[0m np\u001b[38;5;241m.\u001b[39mconcatenate((c,d),axis\u001b[38;5;241m=\u001b[39m\u001b[38;5;241m0\u001b[39m)\n",
      "File \u001b[1;32m<__array_function__ internals>:200\u001b[0m, in \u001b[0;36mconcatenate\u001b[1;34m(*args, **kwargs)\u001b[0m\n",
      "\u001b[1;31mValueError\u001b[0m: all the input array dimensions except for the concatenation axis must match exactly, but along dimension 1, the array at index 0 has size 2 and the array at index 1 has size 1"
     ]
    }
   ],
   "source": [
    "np.concatenate((c,d),axis=0)    # axis 0 is vertical axis"
   ]
  },
  {
   "cell_type": "code",
   "execution_count": 54,
   "id": "8e2d8537",
   "metadata": {},
   "outputs": [
    {
     "data": {
      "text/plain": [
       "array([[1, 2, 5],\n",
       "       [3, 4, 6]])"
      ]
     },
     "execution_count": 54,
     "metadata": {},
     "output_type": "execute_result"
    }
   ],
   "source": [
    "np.concatenate((c,d),axis=1)   # axis 1 is horizonatal axis , for axes 1 both the arrays must be same dimensions"
   ]
  },
  {
   "cell_type": "code",
   "execution_count": 58,
   "id": "d931c426",
   "metadata": {},
   "outputs": [
    {
     "name": "stdout",
     "output_type": "stream",
     "text": [
      "[array([1, 2]), array([3, 4]), array([5, 6])]\n"
     ]
    }
   ],
   "source": [
    "# splitting using _split\n",
    "arr = np.array([1,2,3,4,5,6])\n",
    "newarr = np.array_split(arr,3)\n",
    "print(newarr)"
   ]
  },
  {
   "cell_type": "code",
   "execution_count": 59,
   "id": "89aaf00b",
   "metadata": {},
   "outputs": [
    {
     "name": "stdout",
     "output_type": "stream",
     "text": [
      "[1 2]\n",
      "[3 4]\n",
      "[5 6]\n"
     ]
    }
   ],
   "source": [
    "# in above line we can observe that the result is in the form of a list and the arrays are npt seperate so we can have three differnt array sby calling the list with their index numbers\n",
    "print(newarr[0])\n",
    "print(newarr[1])\n",
    "print(newarr[2])"
   ]
  },
  {
   "cell_type": "code",
   "execution_count": 61,
   "id": "e027b486",
   "metadata": {},
   "outputs": [
    {
     "name": "stdout",
     "output_type": "stream",
     "text": [
      "[array([1]), array([2]), array([3]), array([4]), array([5]), array([6]), array([], dtype=int32), array([], dtype=int32), array([], dtype=int32), array([], dtype=int32), array([], dtype=int32), array([], dtype=int32), array([], dtype=int32), array([], dtype=int32), array([], dtype=int32), array([], dtype=int32), array([], dtype=int32), array([], dtype=int32), array([], dtype=int32), array([], dtype=int32)]\n"
     ]
    }
   ],
   "source": [
    "arr = np.array([1,2,3,4,5,6])\n",
    "newarr = np.array_split(arr,20)\n",
    "print(newarr)"
   ]
  },
  {
   "cell_type": "code",
   "execution_count": 173,
   "id": "c7f952d9",
   "metadata": {},
   "outputs": [],
   "source": [
    "# splitting using .spilt , this doesnt adjust as in line 119"
   ]
  },
  {
   "cell_type": "code",
   "execution_count": 174,
   "id": "e0a4ec38",
   "metadata": {},
   "outputs": [
    {
     "name": "stdout",
     "output_type": "stream",
     "text": [
      "[array([[1, 2],\n",
      "       [3, 4]]), array([[5, 6],\n",
      "       [7, 8]]), array([[ 9, 10],\n",
      "       [11, 12]])]\n"
     ]
    }
   ],
   "source": [
    "arr = np.array([[1,2],[3,4],[5,6],[7,8],[9,10],[11,12]])\n",
    "newarr = np.array_split(arr,3)\n",
    "print(newarr)"
   ]
  },
  {
   "cell_type": "code",
   "execution_count": null,
   "id": "b3c79162",
   "metadata": {},
   "outputs": [],
   "source": [
    "arr = np.array([[1,2],[3,4],[5,6],[7,8],[9,10],[11,12]])\n",
    "arr"
   ]
  },
  {
   "cell_type": "code",
   "execution_count": 175,
   "id": "26ed1885",
   "metadata": {},
   "outputs": [
    {
     "data": {
      "text/plain": [
       "[array([[ 1],\n",
       "        [ 3],\n",
       "        [ 5],\n",
       "        [ 7],\n",
       "        [ 9],\n",
       "        [11]]),\n",
       " array([[ 2],\n",
       "        [ 4],\n",
       "        [ 6],\n",
       "        [ 8],\n",
       "        [10],\n",
       "        [12]]),\n",
       " array([], shape=(6, 0), dtype=int32)]"
      ]
     },
     "execution_count": 175,
     "metadata": {},
     "output_type": "execute_result"
    }
   ],
   "source": [
    "newarr = np.array_split(arr,3,axis=1)\n",
    "newarr"
   ]
  },
  {
   "cell_type": "code",
   "execution_count": 176,
   "id": "d4983965",
   "metadata": {},
   "outputs": [
    {
     "data": {
      "text/plain": [
       "[array([[1, 2],\n",
       "        [3, 4]]),\n",
       " array([[5, 6]]),\n",
       " array([[7, 8]]),\n",
       " array([[ 9, 10]]),\n",
       " array([[11, 12]])]"
      ]
     },
     "execution_count": 176,
     "metadata": {},
     "output_type": "execute_result"
    }
   ],
   "source": [
    "arr5 = np.array_split(arr,5,axis=0)\n",
    "arr5"
   ]
  },
  {
   "cell_type": "code",
   "execution_count": 177,
   "id": "d78c6dab",
   "metadata": {},
   "outputs": [
    {
     "name": "stdout",
     "output_type": "stream",
     "text": [
      "[array([[1, 2],\n",
      "       [3, 4]]), array([[5, 6],\n",
      "       [7, 8]]), array([[ 9, 10],\n",
      "       [11, 12]])]\n"
     ]
    }
   ],
   "source": [
    "arr = np.array([[1,2],[3,4],[5,6],[7,8],[9,10],[11,12]])\n",
    "newarr = np.array_split(arr,3,axis=0)\n",
    "print(newarr)"
   ]
  },
  {
   "cell_type": "code",
   "execution_count": 178,
   "id": "e103dea3",
   "metadata": {},
   "outputs": [
    {
     "data": {
      "text/plain": [
       "array([[ 1,  2,  3],\n",
       "       [ 4,  5,  6],\n",
       "       [ 7,  8,  9],\n",
       "       [10, 11, 12],\n",
       "       [13, 14, 15],\n",
       "       [16, 17, 18]])"
      ]
     },
     "execution_count": 178,
     "metadata": {},
     "output_type": "execute_result"
    }
   ],
   "source": [
    "# split array into threee 2d arrays along rows\n",
    "arr = np.array([[1,2,3],[4,5,6],[7,8,9],[10,11,12],[13,14,15],[16,17,18]])\n",
    "arr"
   ]
  },
  {
   "cell_type": "code",
   "execution_count": 179,
   "id": "b76961f3",
   "metadata": {},
   "outputs": [
    {
     "data": {
      "text/plain": [
       "[array([[1, 2, 3],\n",
       "        [4, 5, 6]]),\n",
       " array([[ 7,  8,  9],\n",
       "        [10, 11, 12]]),\n",
       " array([[13, 14, 15],\n",
       "        [16, 17, 18]])]"
      ]
     },
     "execution_count": 179,
     "metadata": {},
     "output_type": "execute_result"
    }
   ],
   "source": [
    "arr1 = np.array_split(arr,3,axis=0)\n",
    "arr1"
   ]
  },
  {
   "cell_type": "code",
   "execution_count": 180,
   "id": "3b4ba912",
   "metadata": {},
   "outputs": [
    {
     "data": {
      "text/plain": [
       "[array([[ 1],\n",
       "        [ 4],\n",
       "        [ 7],\n",
       "        [10],\n",
       "        [13],\n",
       "        [16]]),\n",
       " array([[ 2],\n",
       "        [ 5],\n",
       "        [ 8],\n",
       "        [11],\n",
       "        [14],\n",
       "        [17]]),\n",
       " array([[ 3],\n",
       "        [ 6],\n",
       "        [ 9],\n",
       "        [12],\n",
       "        [15],\n",
       "        [18]])]"
      ]
     },
     "execution_count": 180,
     "metadata": {},
     "output_type": "execute_result"
    }
   ],
   "source": [
    "arr2 = np.array_split(arr,3,axis=1)\n",
    "arr2"
   ]
  },
  {
   "cell_type": "code",
   "execution_count": 181,
   "id": "fc3ff953",
   "metadata": {},
   "outputs": [
    {
     "data": {
      "text/plain": [
       "[array([[ 1,  2],\n",
       "        [ 4,  5],\n",
       "        [ 7,  8],\n",
       "        [10, 11],\n",
       "        [13, 14],\n",
       "        [16, 17]]),\n",
       " array([[ 3],\n",
       "        [ 6],\n",
       "        [ 9],\n",
       "        [12],\n",
       "        [15],\n",
       "        [18]])]"
      ]
     },
     "execution_count": 181,
     "metadata": {},
     "output_type": "execute_result"
    }
   ],
   "source": [
    "arr2 = np.array_split(arr,2,axis=1)\n",
    "arr2"
   ]
  },
  {
   "cell_type": "code",
   "execution_count": 182,
   "id": "ee6e58c2",
   "metadata": {
    "scrolled": true
   },
   "outputs": [
    {
     "data": {
      "text/plain": [
       "[array([[ 1,  2],\n",
       "        [ 4,  5],\n",
       "        [ 7,  8],\n",
       "        [10, 11],\n",
       "        [13, 14],\n",
       "        [16, 17]]),\n",
       " array([[ 3],\n",
       "        [ 6],\n",
       "        [ 9],\n",
       "        [12],\n",
       "        [15],\n",
       "        [18]])]"
      ]
     },
     "execution_count": 182,
     "metadata": {},
     "output_type": "execute_result"
    }
   ],
   "source": [
    "arr3 = np.array_split(arr,2,axis=1)\n",
    "arr3"
   ]
  },
  {
   "cell_type": "code",
   "execution_count": 2,
   "id": "e967faa5",
   "metadata": {},
   "outputs": [
    {
     "data": {
      "text/plain": [
       "array([1, 2, 3, 4, 5, 7, 9])"
      ]
     },
     "execution_count": 2,
     "metadata": {},
     "output_type": "execute_result"
    }
   ],
   "source": [
    "import numpy as np\n",
    "arr = np.array([2,9,7,1,3,4,5])\n",
    "z = np.sort(arr)    # ascending order\n",
    "z"
   ]
  },
  {
   "cell_type": "code",
   "execution_count": 187,
   "id": "62ed05b3",
   "metadata": {},
   "outputs": [
    {
     "data": {
      "text/plain": [
       "array([9, 7, 5, 4, 3, 2, 1])"
      ]
     },
     "execution_count": 187,
     "metadata": {},
     "output_type": "execute_result"
    }
   ],
   "source": [
    "# des\n",
    "z[::-1]"
   ]
  },
  {
   "cell_type": "code",
   "execution_count": null,
   "id": "95023e11",
   "metadata": {},
   "outputs": [],
   "source": [
    "# where    , searching speific values and knowing their index numbers\n",
    "arr = np.array([2,9,1,3,46,78,15])\n",
    "x = np.where(arr==46)\n",
    "print(x)"
   ]
  },
  {
   "cell_type": "code",
   "execution_count": null,
   "id": "f27f58b9",
   "metadata": {},
   "outputs": [],
   "source": [
    "# where , knowing values that are divisible by 2 ro even numbers\n",
    "arr = np.array([2,3,4,5,6,7,8,9])\n",
    "print(np.where(arr%2==0))"
   ]
  },
  {
   "cell_type": "code",
   "execution_count": null,
   "id": "be834052",
   "metadata": {},
   "outputs": [],
   "source": [
    "#where , finding odd numbers\n",
    "print(np.where(arr%2==1))"
   ]
  },
  {
   "cell_type": "code",
   "execution_count": null,
   "id": "3d9f09cb",
   "metadata": {},
   "outputs": [],
   "source": [
    "# dimension , shape , size of array"
   ]
  },
  {
   "cell_type": "code",
   "execution_count": null,
   "id": "13a63c7f",
   "metadata": {},
   "outputs": [],
   "source": [
    "arr = np.array([[1,2,3],[4,5,6]])\n",
    "print(arr)"
   ]
  },
  {
   "cell_type": "code",
   "execution_count": null,
   "id": "c8b47203",
   "metadata": {},
   "outputs": [],
   "source": [
    "arr.ndim    # dimension"
   ]
  },
  {
   "cell_type": "code",
   "execution_count": null,
   "id": "9c78153a",
   "metadata": {},
   "outputs": [],
   "source": [
    "arr.size    # size"
   ]
  },
  {
   "cell_type": "code",
   "execution_count": null,
   "id": "7d01fea0",
   "metadata": {},
   "outputs": [],
   "source": [
    "arr.shape"
   ]
  },
  {
   "cell_type": "code",
   "execution_count": null,
   "id": "2e779cf9",
   "metadata": {},
   "outputs": [],
   "source": [
    "# reshaping the array\n",
    "a = np.arange(8)\n",
    "print(a)"
   ]
  },
  {
   "cell_type": "code",
   "execution_count": null,
   "id": "785ca527",
   "metadata": {},
   "outputs": [],
   "source": [
    "a.reshape(2,4)"
   ]
  },
  {
   "cell_type": "code",
   "execution_count": null,
   "id": "ff2349f2",
   "metadata": {},
   "outputs": [],
   "source": [
    "a.reshape(4,2)"
   ]
  },
  {
   "cell_type": "code",
   "execution_count": null,
   "id": "4be2a8ff",
   "metadata": {},
   "outputs": [],
   "source": [
    "# 1d to 2d\n",
    "a = np.array([1,2,3,4,5,6,7,8])\n",
    "a"
   ]
  },
  {
   "cell_type": "code",
   "execution_count": null,
   "id": "d54715e5",
   "metadata": {},
   "outputs": [],
   "source": [
    "a.reshape(4,2)"
   ]
  },
  {
   "cell_type": "code",
   "execution_count": null,
   "id": "6b06a752",
   "metadata": {},
   "outputs": [],
   "source": [
    "# 1d to 3d\n",
    "a = np.array([1,2,3,4,5,6,7,8,11,12,13,14])\n",
    "a.reshape(2,3,2)"
   ]
  },
  {
   "cell_type": "code",
   "execution_count": null,
   "id": "1dfe8b4e",
   "metadata": {},
   "outputs": [],
   "source": [
    "# 1d to 3d\n",
    "a = np.array([1,2,3,4,5,6,7,8,11,12,13,14])\n",
    "a.reshape(3,2,2)    # 3 outer dimensions with 2 rows 2 columns\n"
   ]
  },
  {
   "cell_type": "code",
   "execution_count": null,
   "id": "f3aef7fd",
   "metadata": {},
   "outputs": [],
   "source": [
    "a = np.arange(72)\n",
    "a.reshape(4,3,2,3)     # 4d , 4 ddims , each dim has 3 outer compartemnts , each comp with 2 roes and 3 columns"
   ]
  },
  {
   "cell_type": "code",
   "execution_count": null,
   "id": "8dbea1cc",
   "metadata": {},
   "outputs": [],
   "source": [
    "# calling an element from array\n",
    "a = np.array([[5,9,7,5],[6,3,7,1]])\n",
    "a"
   ]
  },
  {
   "cell_type": "code",
   "execution_count": null,
   "id": "a76f587e",
   "metadata": {},
   "outputs": [],
   "source": [
    "a[1,2]"
   ]
  },
  {
   "cell_type": "code",
   "execution_count": null,
   "id": "c61ea969",
   "metadata": {},
   "outputs": [],
   "source": [
    "print(a[a<5])  # pritns only those lements f array that are less than 5"
   ]
  },
  {
   "cell_type": "code",
   "execution_count": null,
   "id": "a0439b5e",
   "metadata": {},
   "outputs": [],
   "source": [
    "print(a[a%2==0])"
   ]
  },
  {
   "cell_type": "code",
   "execution_count": null,
   "id": "1d1b9387",
   "metadata": {},
   "outputs": [],
   "source": [
    "print(a[(a>2)&(a<8)])"
   ]
  },
  {
   "cell_type": "code",
   "execution_count": null,
   "id": "b387b104",
   "metadata": {},
   "outputs": [],
   "source": [
    "# simple operators\n",
    "a = np.array([1,2])"
   ]
  },
  {
   "cell_type": "code",
   "execution_count": null,
   "id": "da834268",
   "metadata": {},
   "outputs": [],
   "source": [
    "ones = np.ones(2,dtype=int)\n",
    "ones"
   ]
  },
  {
   "cell_type": "code",
   "execution_count": null,
   "id": "2c498dee",
   "metadata": {},
   "outputs": [],
   "source": [
    "a+ones"
   ]
  },
  {
   "cell_type": "code",
   "execution_count": null,
   "id": "a72d3424",
   "metadata": {},
   "outputs": [],
   "source": [
    "a = np.array([[1,2],[3,4]])\n",
    "a"
   ]
  },
  {
   "cell_type": "code",
   "execution_count": null,
   "id": "8537f8bb",
   "metadata": {},
   "outputs": [],
   "source": [
    "ones = np.ones(2,dtype=int)\n",
    "ones"
   ]
  },
  {
   "cell_type": "code",
   "execution_count": null,
   "id": "baa8db9a",
   "metadata": {},
   "outputs": [],
   "source": [
    "a+ones"
   ]
  },
  {
   "cell_type": "code",
   "execution_count": null,
   "id": "d7c6733e",
   "metadata": {},
   "outputs": [],
   "source": [
    "b = np.array([7,8])"
   ]
  },
  {
   "cell_type": "code",
   "execution_count": null,
   "id": "1990932d",
   "metadata": {},
   "outputs": [],
   "source": [
    "a+b"
   ]
  },
  {
   "cell_type": "code",
   "execution_count": null,
   "id": "be674a07",
   "metadata": {},
   "outputs": [],
   "source": [
    "a = np.array([[1,5],[9,7]])"
   ]
  },
  {
   "cell_type": "code",
   "execution_count": null,
   "id": "0bed195f",
   "metadata": {},
   "outputs": [],
   "source": [
    "a.sum()"
   ]
  },
  {
   "cell_type": "code",
   "execution_count": null,
   "id": "a88b98f1",
   "metadata": {},
   "outputs": [],
   "source": [
    "a.max()"
   ]
  },
  {
   "cell_type": "code",
   "execution_count": null,
   "id": "b6abbec5",
   "metadata": {},
   "outputs": [],
   "source": [
    "a.min()"
   ]
  },
  {
   "cell_type": "code",
   "execution_count": null,
   "id": "d9e3df84",
   "metadata": {},
   "outputs": [],
   "source": [
    "# universal function = np.array([10,11,12,13,4])"
   ]
  },
  {
   "cell_type": "code",
   "execution_count": null,
   "id": "631866d7",
   "metadata": {},
   "outputs": [],
   "source": [
    "a = np.array([2,4,6])\n",
    "b = np.array([1,3,5])"
   ]
  },
  {
   "cell_type": "code",
   "execution_count": null,
   "id": "f9998356",
   "metadata": {},
   "outputs": [],
   "source": [
    "np.add(a,b)"
   ]
  },
  {
   "cell_type": "code",
   "execution_count": null,
   "id": "798eccfe",
   "metadata": {},
   "outputs": [],
   "source": [
    "np.subtract(a,b)"
   ]
  },
  {
   "cell_type": "code",
   "execution_count": null,
   "id": "fa3602c4",
   "metadata": {},
   "outputs": [],
   "source": [
    "np.multiply(a,b)"
   ]
  },
  {
   "cell_type": "code",
   "execution_count": null,
   "id": "089d9e06",
   "metadata": {},
   "outputs": [],
   "source": [
    "np.divide(a,b)"
   ]
  },
  {
   "cell_type": "code",
   "execution_count": null,
   "id": "e15fbb58",
   "metadata": {},
   "outputs": [],
   "source": [
    "np.power(a,b)"
   ]
  },
  {
   "cell_type": "code",
   "execution_count": null,
   "id": "09bdc507",
   "metadata": {},
   "outputs": [],
   "source": [
    "np.mod(a,b)      # remainders , mod or remainder both cn be used"
   ]
  },
  {
   "cell_type": "code",
   "execution_count": null,
   "id": "f409e923",
   "metadata": {},
   "outputs": [],
   "source": [
    "np.divmod(a,b)    #tis gives remainnders and quotions"
   ]
  },
  {
   "cell_type": "code",
   "execution_count": null,
   "id": "b4743c02",
   "metadata": {},
   "outputs": [],
   "source": [
    "a = np.array([-5,9,3,-4,7,1,6,-8])\n",
    "np.absolute(a)       # removes ' - '"
   ]
  },
  {
   "cell_type": "code",
   "execution_count": null,
   "id": "d89c6445",
   "metadata": {},
   "outputs": [],
   "source": [
    "# rounding functions\n",
    "arr = np.trunc([3.1666,3.66667])      # trunc remooves decimals\n",
    "print(arr)"
   ]
  },
  {
   "cell_type": "code",
   "execution_count": null,
   "id": "846e84cc",
   "metadata": {},
   "outputs": [],
   "source": [
    "arr = np.around([8.16454,6.68512],3)    # here 3 means what number of values we want after decimal\n",
    "print(arr)"
   ]
  },
  {
   "cell_type": "code",
   "execution_count": 63,
   "id": "d0df1f84",
   "metadata": {},
   "outputs": [
    {
     "name": "stdout",
     "output_type": "stream",
     "text": [
      "[5. 9.]\n"
     ]
    }
   ],
   "source": [
    "a = np.floor([5.216815,9.1686456])\n",
    "print(a)"
   ]
  },
  {
   "cell_type": "code",
   "execution_count": 62,
   "id": "99fb3fcf",
   "metadata": {},
   "outputs": [
    {
     "data": {
      "text/plain": [
       "array([-3.,  4.])"
      ]
     },
     "execution_count": 62,
     "metadata": {},
     "output_type": "execute_result"
    }
   ],
   "source": [
    "a = np.ceil([-3.667,3.667])\n",
    "a"
   ]
  },
  {
   "cell_type": "code",
   "execution_count": 65,
   "id": "5d57f784",
   "metadata": {},
   "outputs": [
    {
     "data": {
      "text/plain": [
       "array([[1, 4],\n",
       "       [2, 5],\n",
       "       [3, 6]])"
      ]
     },
     "execution_count": 65,
     "metadata": {},
     "output_type": "execute_result"
    }
   ],
   "source": [
    "a = np.array([[1,2,3],[4,5,6]])\n",
    "a.transpose()      # rwo will beocme ecolumna nd column becommes row"
   ]
  },
  {
   "cell_type": "code",
   "execution_count": null,
   "id": "b18a30f5",
   "metadata": {},
   "outputs": [],
   "source": [
    "import numpy as np"
   ]
  },
  {
   "cell_type": "code",
   "execution_count": null,
   "id": "415fc229",
   "metadata": {},
   "outputs": [],
   "source": [
    "a = np.array([1,2,3,4])\n",
    "b = np.array([5,6,7,8])\n",
    "\n",
    "c = np.prod([a,b],axis=1)    # axis 1 if we want to multiplt aal elemnts in row\n",
    "                             # axis 0 for column\n",
    "print(c)"
   ]
  },
  {
   "cell_type": "code",
   "execution_count": null,
   "id": "d41843cb",
   "metadata": {},
   "outputs": [],
   "source": [
    "d = np.prod([a,b],axis=0)\n",
    "d"
   ]
  },
  {
   "cell_type": "code",
   "execution_count": null,
   "id": "6ed5827c",
   "metadata": {},
   "outputs": [],
   "source": [
    "a = np.array([[1,2,3],[4,5,6],[7,8,9]])\n",
    "a.max()"
   ]
  },
  {
   "cell_type": "code",
   "execution_count": null,
   "id": "292ea8ea",
   "metadata": {},
   "outputs": [],
   "source": [
    "a.min()"
   ]
  },
  {
   "cell_type": "code",
   "execution_count": null,
   "id": "1c9ee597",
   "metadata": {},
   "outputs": [],
   "source": [
    "a.max(axis=1)"
   ]
  },
  {
   "cell_type": "code",
   "execution_count": null,
   "id": "d9ee5672",
   "metadata": {},
   "outputs": [],
   "source": [
    "a.max(axis=0)"
   ]
  },
  {
   "cell_type": "code",
   "execution_count": null,
   "id": "c9ef593e",
   "metadata": {},
   "outputs": [],
   "source": [
    "a = np.array([11,15,94,33,11,94,66,28,66,68,15])\n",
    "np.unique(a)    # givews the unique values"
   ]
  },
  {
   "cell_type": "code",
   "execution_count": null,
   "id": "2b1c677f",
   "metadata": {},
   "outputs": [],
   "source": [
    "a = np.array([84,6,91,3,5,7])\n",
    "np.flip(a)    # revreses the array"
   ]
  },
  {
   "cell_type": "code",
   "execution_count": null,
   "id": "415ad5b8",
   "metadata": {},
   "outputs": [],
   "source": [
    "a = np.array([[5,9,3,1],[6,8,7,2]])\n",
    "np.flip(a,axis=0)     # axis 0 for flipping the array column wise"
   ]
  },
  {
   "cell_type": "code",
   "execution_count": null,
   "id": "36512669",
   "metadata": {},
   "outputs": [],
   "source": [
    "a[1] = np.flip(a[1])    # we only flipped the 2nd row , keeping the first row same\n",
    "a"
   ]
  },
  {
   "cell_type": "code",
   "execution_count": null,
   "id": "fee73290",
   "metadata": {},
   "outputs": [],
   "source": [
    "a[:,1] = np.flip(a[:,1])  # we flipped only the 2nd column , :, means we are considerig all rows \n",
    "a"
   ]
  },
  {
   "cell_type": "code",
   "execution_count": null,
   "id": "b8bc72e9",
   "metadata": {},
   "outputs": [],
   "source": [
    "# shallow vs deep copy"
   ]
  },
  {
   "cell_type": "code",
   "execution_count": 10,
   "id": "f729c7ae",
   "metadata": {},
   "outputs": [],
   "source": [
    "import copy"
   ]
  },
  {
   "cell_type": "code",
   "execution_count": 11,
   "id": "774bdba0",
   "metadata": {},
   "outputs": [],
   "source": [
    "a = [[1,2,3],[4,5,6],[7,8,9]]    # lists of lists\n",
    "b = copy.copy(a)"
   ]
  },
  {
   "cell_type": "code",
   "execution_count": 12,
   "id": "414e0426",
   "metadata": {},
   "outputs": [
    {
     "data": {
      "text/plain": [
       "[[1, 2, 3], [4, 5, 6], [7, 8, 9]]"
      ]
     },
     "execution_count": 12,
     "metadata": {},
     "output_type": "execute_result"
    }
   ],
   "source": [
    "b"
   ]
  },
  {
   "cell_type": "code",
   "execution_count": 13,
   "id": "44632a32",
   "metadata": {},
   "outputs": [
    {
     "name": "stdout",
     "output_type": "stream",
     "text": [
      "[[1, 2, 3], [4, 5, 6], [7, 8, 9]]\n"
     ]
    }
   ],
   "source": [
    "print(a)"
   ]
  },
  {
   "cell_type": "code",
   "execution_count": 14,
   "id": "23c82879",
   "metadata": {},
   "outputs": [
    {
     "name": "stdout",
     "output_type": "stream",
     "text": [
      "3083867175424\n",
      "3083866420160\n"
     ]
    }
   ],
   "source": [
    "print(id(a))\n",
    "print(id(b))"
   ]
  },
  {
   "cell_type": "code",
   "execution_count": 15,
   "id": "0f4c793a",
   "metadata": {},
   "outputs": [],
   "source": [
    "b.append([10,11,12])"
   ]
  },
  {
   "cell_type": "code",
   "execution_count": 16,
   "id": "14b9ad89",
   "metadata": {},
   "outputs": [
    {
     "data": {
      "text/plain": [
       "[[1, 2, 3], [4, 5, 6], [7, 8, 9]]"
      ]
     },
     "execution_count": 16,
     "metadata": {},
     "output_type": "execute_result"
    }
   ],
   "source": [
    "a"
   ]
  },
  {
   "cell_type": "code",
   "execution_count": 17,
   "id": "2b845095",
   "metadata": {},
   "outputs": [
    {
     "data": {
      "text/plain": [
       "[[1, 2, 3], [4, 5, 6], [7, 8, 9], [10, 11, 12]]"
      ]
     },
     "execution_count": 17,
     "metadata": {},
     "output_type": "execute_result"
    }
   ],
   "source": [
    "b"
   ]
  },
  {
   "cell_type": "code",
   "execution_count": 18,
   "id": "403647f7",
   "metadata": {},
   "outputs": [
    {
     "name": "stdout",
     "output_type": "stream",
     "text": [
      "[[4, 2, 3], [4, 5, 6], [7, 8, 9]]\n",
      "[[4, 2, 3], [4, 5, 6], [7, 8, 9], [10, 11, 12]]\n"
     ]
    }
   ],
   "source": [
    "b[0][0] = 4\n",
    "print(a)\n",
    "print(b)"
   ]
  },
  {
   "cell_type": "code",
   "execution_count": null,
   "id": "06c0d60c",
   "metadata": {},
   "outputs": [],
   "source": [
    "# deep copy   , ay changes in the set will not affect other , though booth dep ad shallow copy have diffenrent id\n",
    "a  = [[1,2,3],[4,5,6]]\n",
    "b = copy.deepcopy(a)\n",
    "b"
   ]
  },
  {
   "cell_type": "code",
   "execution_count": null,
   "id": "cce16ce6",
   "metadata": {},
   "outputs": [],
   "source": [
    "print(id(a))\n",
    "print(id(b))"
   ]
  },
  {
   "cell_type": "code",
   "execution_count": null,
   "id": "9ca1c505",
   "metadata": {},
   "outputs": [],
   "source": [
    "b.append([7,8,9])\n",
    "print(a)\n",
    "print(b)"
   ]
  },
  {
   "cell_type": "code",
   "execution_count": null,
   "id": "4905e56b",
   "metadata": {},
   "outputs": [],
   "source": [
    "b[1][2] = 987987\n",
    "print(a)\n",
    "print(b)"
   ]
  },
  {
   "cell_type": "code",
   "execution_count": null,
   "id": "777fa7c2",
   "metadata": {},
   "outputs": [],
   "source": [
    "# copy and view\n",
    "# view , any change in original will make a change in view\n",
    "# copy , any change in orginal will not affect the object"
   ]
  },
  {
   "cell_type": "code",
   "execution_count": null,
   "id": "16793cdb",
   "metadata": {},
   "outputs": [],
   "source": [
    "a = np.array([1,2,3,4])\n",
    "b =  a.copy()\n",
    "c = a.view()\n",
    "\n",
    "print(a)\n",
    "print(b)\n",
    "print(c)"
   ]
  },
  {
   "cell_type": "code",
   "execution_count": null,
   "id": "f81587ef",
   "metadata": {},
   "outputs": [],
   "source": [
    "# pandas\n",
    "\n",
    "# Tabular data : data frames\n",
    "# rows and columns : column and row lables\n",
    "# before you feed data to a model , the data has to be prepared for the purpose of analysis\n",
    "# 1)building the prediction models 2) statistical analysis or visualisation : exploratory data analysis\n",
    "# data preprocessing or data wrangling"
   ]
  },
  {
   "cell_type": "code",
   "execution_count": null,
   "id": "2ff79b6d",
   "metadata": {},
   "outputs": [],
   "source": [
    "import  pandas as pd"
   ]
  },
  {
   "cell_type": "code",
   "execution_count": null,
   "id": "dd6a3f19",
   "metadata": {},
   "outputs": [],
   "source": [
    "# panda series  : sigle colum in a table \n",
    "# panda dataframes"
   ]
  },
  {
   "cell_type": "code",
   "execution_count": null,
   "id": "af432913",
   "metadata": {},
   "outputs": [],
   "source": [
    "a = [1,9,4]     # remebering capital 'S' in Series\n",
    "b = pd.Series(a)\n",
    "print(b)    # here we observe that index (0,1,2) are assigned by default"
   ]
  },
  {
   "cell_type": "code",
   "execution_count": null,
   "id": "7ea75145",
   "metadata": {},
   "outputs": [],
   "source": [
    "print(b[1])"
   ]
  },
  {
   "cell_type": "code",
   "execution_count": null,
   "id": "3c158658",
   "metadata": {},
   "outputs": [],
   "source": [
    "a = [4,5,6,7]\n",
    "b =pd.Series(a,index = ['w','x','y','z'])\n",
    "print(b)"
   ]
  },
  {
   "cell_type": "code",
   "execution_count": null,
   "id": "c76312f3",
   "metadata": {},
   "outputs": [],
   "source": [
    "print(b['z'])   #  calling element"
   ]
  },
  {
   "cell_type": "code",
   "execution_count": null,
   "id": "21473215",
   "metadata": {},
   "outputs": [],
   "source": [
    "# key/value object as series\n",
    "calories = {'day1':45,'day2':67,'day3':91}\n",
    "cal = pd.Series(calories)\n",
    "print(cal)"
   ]
  },
  {
   "cell_type": "code",
   "execution_count": null,
   "id": "5ec16424",
   "metadata": {},
   "outputs": [],
   "source": [
    "calories = {'day1':45,'day2':67,'day3':91}\n",
    "cal = pd.Series(calories,index=['day2','day3'])    # calling only day 1 and day 2 in th cal\n",
    "print(cal)"
   ]
  },
  {
   "cell_type": "code",
   "execution_count": null,
   "id": "7f62558d",
   "metadata": {},
   "outputs": [],
   "source": [
    "# data frames : 2D"
   ]
  },
  {
   "cell_type": "code",
   "execution_count": null,
   "id": "fafccf0c",
   "metadata": {},
   "outputs": [],
   "source": [
    "data = {\n",
    "    'calories' : [420,982,648],\n",
    "    'duration' : [6,8,3]\n",
    "}\n",
    "df = pd.DataFrame(data,index =['day1','day2','day3'])\n",
    "print(df)"
   ]
  },
  {
   "cell_type": "code",
   "execution_count": null,
   "id": "9e31d2e4",
   "metadata": {},
   "outputs": [],
   "source": [
    "calories = {'day1':[45,94,61]}\n",
    "cal = pd.DataFrame(calories)\n",
    "print(cal)"
   ]
  },
  {
   "cell_type": "code",
   "execution_count": null,
   "id": "18512ee1",
   "metadata": {},
   "outputs": [],
   "source": [
    "import pandas as pd\n",
    "titanic = pd.read_csv('titanic.csv')\n",
    "titanic"
   ]
  },
  {
   "cell_type": "code",
   "execution_count": null,
   "id": "fc222aca",
   "metadata": {},
   "outputs": [],
   "source": [
    "titanic.head(10)   # if () left blank then first 5 are displayed"
   ]
  },
  {
   "cell_type": "code",
   "execution_count": null,
   "id": "9ad439d3",
   "metadata": {},
   "outputs": [],
   "source": [
    "titanic .tail(10)    # last 10 or can be left blank for last 5"
   ]
  },
  {
   "cell_type": "code",
   "execution_count": null,
   "id": "e1aa93e9",
   "metadata": {},
   "outputs": [],
   "source": [
    "titanic.to_excel('titanicnew .xlsx',sheet_name='passengers',index=False)\n",
    "#conerting csv  to excel"
   ]
  },
  {
   "cell_type": "code",
   "execution_count": null,
   "id": "94025467",
   "metadata": {},
   "outputs": [],
   "source": [
    "titanic.info()      # summary of datset , especially to know if there are any missing values"
   ]
  },
  {
   "cell_type": "code",
   "execution_count": null,
   "id": "f2191eba",
   "metadata": {},
   "outputs": [],
   "source": [
    "# selection of columns , weused double brackets to get a dataframe \n",
    "ages = titanic[['age','sex']]\n",
    "ages.head()"
   ]
  },
  {
   "cell_type": "code",
   "execution_count": null,
   "id": "75c0e726",
   "metadata": {},
   "outputs": [],
   "source": [
    "type(ages)"
   ]
  },
  {
   "cell_type": "code",
   "execution_count": null,
   "id": "c7cc7e27",
   "metadata": {},
   "outputs": [],
   "source": [
    "ages.shape"
   ]
  },
  {
   "cell_type": "code",
   "execution_count": null,
   "id": "0c8ce5b5",
   "metadata": {},
   "outputs": [],
   "source": [
    "#  fetching the age vlues > than 35\n",
    "above_35 = titanic[titanic['age']>35]\n",
    "above_35"
   ]
  },
  {
   "cell_type": "code",
   "execution_count": null,
   "id": "b2f8029a",
   "metadata": {},
   "outputs": [],
   "source": [
    "# isin\n",
    "# fetching passengers in class 2 and 3\n",
    "fetch = titanic[titanic['pclass'].isin([2,3])]\n",
    "fetch"
   ]
  },
  {
   "cell_type": "code",
   "execution_count": null,
   "id": "e2b0370e",
   "metadata": {},
   "outputs": [],
   "source": [
    "# row filtering , NaN\n",
    "# fech passanger data which doesnt have any missing ages , or the age data is available\n",
    "age_nan = titanic[titanic[\"age\"].notna()]\n",
    "age_nan"
   ]
  },
  {
   "cell_type": "code",
   "execution_count": null,
   "id": "f1767c2d",
   "metadata": {},
   "outputs": [],
   "source": [
    "# fetching coumns and rows at a time \n",
    "# fetching details on basis of index positon : \" iloc\"\n",
    "#fetch rows and column on the basis of lables : rows and columns  : \" loc \" "
   ]
  },
  {
   "cell_type": "code",
   "execution_count": null,
   "id": "cab428f0",
   "metadata": {},
   "outputs": [],
   "source": [
    "import pandas as pd\n",
    "brics = pd.read_csv('brics.csv',index_col=0)    # index_col = 0 , for no index column\n",
    "brics"
   ]
  },
  {
   "cell_type": "code",
   "execution_count": null,
   "id": "445efd86",
   "metadata": {},
   "outputs": [],
   "source": [
    "brics = pd.read_csv('brics.csv')\n",
    "brics"
   ]
  },
  {
   "cell_type": "code",
   "execution_count": null,
   "id": "f75210a2",
   "metadata": {},
   "outputs": [],
   "source": [
    "country = brics[['country']]\n",
    "country"
   ]
  },
  {
   "cell_type": "code",
   "execution_count": null,
   "id": "0190e26f",
   "metadata": {},
   "outputs": [],
   "source": [
    "type(country)"
   ]
  },
  {
   "cell_type": "code",
   "execution_count": null,
   "id": "0781daf5",
   "metadata": {},
   "outputs": [],
   "source": [
    "brics[1:4]"
   ]
  },
  {
   "cell_type": "code",
   "execution_count": null,
   "id": "39cb3b30",
   "metadata": {},
   "outputs": [],
   "source": [
    "brics"
   ]
  },
  {
   "cell_type": "code",
   "execution_count": null,
   "id": "7de582a9",
   "metadata": {},
   "outputs": [],
   "source": [
    "brics[1:4]"
   ]
  },
  {
   "cell_type": "code",
   "execution_count": null,
   "id": "ae4a6bc7",
   "metadata": {},
   "outputs": [],
   "source": [
    "brics.loc[[\"RU\",\"IN\"]]"
   ]
  },
  {
   "cell_type": "code",
   "execution_count": null,
   "id": "a5dfa347",
   "metadata": {},
   "outputs": [],
   "source": [
    "# calling both cls and rows at a time\n",
    "brics.loc[[\"RU\",\"IN\",\"CH\"],[\"country\",\"capital\"]]"
   ]
  },
  {
   "cell_type": "code",
   "execution_count": null,
   "id": "56648889",
   "metadata": {},
   "outputs": [],
   "source": [
    "brics.loc[:,[\"country\",\"capital\"]]   # : means we want all the rows"
   ]
  },
  {
   "cell_type": "code",
   "execution_count": null,
   "id": "d349a99e",
   "metadata": {},
   "outputs": [],
   "source": [
    "brics.loc[[\"RU\",\"CH\"],:]    # : considering all columns"
   ]
  },
  {
   "cell_type": "code",
   "execution_count": null,
   "id": "e541a8f0",
   "metadata": {},
   "outputs": [],
   "source": [
    "brics"
   ]
  },
  {
   "cell_type": "code",
   "execution_count": null,
   "id": "a716f8ea",
   "metadata": {},
   "outputs": [],
   "source": [
    "# iloc\n",
    "brics.iloc[[1]]"
   ]
  },
  {
   "cell_type": "code",
   "execution_count": null,
   "id": "e88591fb",
   "metadata": {},
   "outputs": [],
   "source": [
    "brics.iloc[:,[2]]"
   ]
  },
  {
   "cell_type": "code",
   "execution_count": null,
   "id": "ff72b496",
   "metadata": {},
   "outputs": [],
   "source": [
    "# diffenrece b/w loc and iloc is , in loc we use names of rows or clomns\n",
    "# and in iloc we use the index numbbers for rows and columns"
   ]
  },
  {
   "cell_type": "code",
   "execution_count": null,
   "id": "8658a7f2",
   "metadata": {},
   "outputs": [],
   "source": [
    "brics"
   ]
  },
  {
   "cell_type": "code",
   "execution_count": 88,
   "id": "c271735e",
   "metadata": {},
   "outputs": [
    {
     "name": "stdout",
     "output_type": "stream",
     "text": [
      "Code\n",
      "BR    False\n",
      "RU    False\n",
      "IN    False\n",
      "CH    False\n",
      "SA    False\n",
      "dtype: bool\n"
     ]
    }
   ],
   "source": [
    "# to check duplicacy\n",
    "print(brics.duplicated())\n",
    "\n",
    "# brics.drop_duplicates(inplace=True)  # remove duplicates\n"
   ]
  },
  {
   "cell_type": "code",
   "execution_count": 16,
   "id": "d683041f",
   "metadata": {},
   "outputs": [
    {
     "data": {
      "text/html": [
       "<div>\n",
       "<style scoped>\n",
       "    .dataframe tbody tr th:only-of-type {\n",
       "        vertical-align: middle;\n",
       "    }\n",
       "\n",
       "    .dataframe tbody tr th {\n",
       "        vertical-align: top;\n",
       "    }\n",
       "\n",
       "    .dataframe thead th {\n",
       "        text-align: right;\n",
       "    }\n",
       "</style>\n",
       "<table border=\"1\" class=\"dataframe\">\n",
       "  <thead>\n",
       "    <tr style=\"text-align: right;\">\n",
       "      <th></th>\n",
       "      <th>country</th>\n",
       "      <th>capital</th>\n",
       "      <th>area</th>\n",
       "      <th>population</th>\n",
       "    </tr>\n",
       "    <tr>\n",
       "      <th>Code</th>\n",
       "      <th></th>\n",
       "      <th></th>\n",
       "      <th></th>\n",
       "      <th></th>\n",
       "    </tr>\n",
       "  </thead>\n",
       "  <tbody>\n",
       "    <tr>\n",
       "      <th>BR</th>\n",
       "      <td>Brazil</td>\n",
       "      <td>Brasilia</td>\n",
       "      <td>8.516</td>\n",
       "      <td>200.40</td>\n",
       "    </tr>\n",
       "    <tr>\n",
       "      <th>RU</th>\n",
       "      <td>Russia</td>\n",
       "      <td>Moscow</td>\n",
       "      <td>17.100</td>\n",
       "      <td>143.50</td>\n",
       "    </tr>\n",
       "    <tr>\n",
       "      <th>IN</th>\n",
       "      <td>India</td>\n",
       "      <td>New Delhi</td>\n",
       "      <td>3.286</td>\n",
       "      <td>1252.00</td>\n",
       "    </tr>\n",
       "    <tr>\n",
       "      <th>CH</th>\n",
       "      <td>China</td>\n",
       "      <td>Beijing</td>\n",
       "      <td>9.597</td>\n",
       "      <td>1357.00</td>\n",
       "    </tr>\n",
       "    <tr>\n",
       "      <th>SA</th>\n",
       "      <td>South Africa</td>\n",
       "      <td>Pretoria</td>\n",
       "      <td>1.221</td>\n",
       "      <td>52.98</td>\n",
       "    </tr>\n",
       "  </tbody>\n",
       "</table>\n",
       "</div>"
      ],
      "text/plain": [
       "           country    capital    area  population\n",
       "Code                                             \n",
       "BR          Brazil   Brasilia   8.516      200.40\n",
       "RU          Russia     Moscow  17.100      143.50\n",
       "IN           India  New Delhi   3.286     1252.00\n",
       "CH           China    Beijing   9.597     1357.00\n",
       "SA    South Africa   Pretoria   1.221       52.98"
      ]
     },
     "execution_count": 16,
     "metadata": {},
     "output_type": "execute_result"
    }
   ],
   "source": [
    "import pandas as pd\n",
    "brics = pd.read_csv(\"brics.csv\",index_col = 0)\n",
    "brics"
   ]
  },
  {
   "cell_type": "code",
   "execution_count": 8,
   "id": "f37d4f84",
   "metadata": {},
   "outputs": [],
   "source": [
    "# changing a value from the table , \"Ru\" row , cloumn \"country\"\n",
    "brics.loc[\"RU\",\"country\"] = \"Malaysia\""
   ]
  },
  {
   "cell_type": "code",
   "execution_count": 12,
   "id": "b1c120e0",
   "metadata": {},
   "outputs": [],
   "source": [
    "brics.iloc[[0,1,2],[0,1,2]] = \"pak\"  # here \" code \" is the index not a colunmn so the index 0 for column is \"country\""
   ]
  },
  {
   "cell_type": "code",
   "execution_count": 13,
   "id": "cee5ee74",
   "metadata": {},
   "outputs": [
    {
     "data": {
      "text/html": [
       "<div>\n",
       "<style scoped>\n",
       "    .dataframe tbody tr th:only-of-type {\n",
       "        vertical-align: middle;\n",
       "    }\n",
       "\n",
       "    .dataframe tbody tr th {\n",
       "        vertical-align: top;\n",
       "    }\n",
       "\n",
       "    .dataframe thead th {\n",
       "        text-align: right;\n",
       "    }\n",
       "</style>\n",
       "<table border=\"1\" class=\"dataframe\">\n",
       "  <thead>\n",
       "    <tr style=\"text-align: right;\">\n",
       "      <th></th>\n",
       "      <th>country</th>\n",
       "      <th>capital</th>\n",
       "      <th>area</th>\n",
       "      <th>population</th>\n",
       "    </tr>\n",
       "    <tr>\n",
       "      <th>Code</th>\n",
       "      <th></th>\n",
       "      <th></th>\n",
       "      <th></th>\n",
       "      <th></th>\n",
       "    </tr>\n",
       "  </thead>\n",
       "  <tbody>\n",
       "    <tr>\n",
       "      <th>BR</th>\n",
       "      <td>pak</td>\n",
       "      <td>pak</td>\n",
       "      <td>pak</td>\n",
       "      <td>200.40</td>\n",
       "    </tr>\n",
       "    <tr>\n",
       "      <th>RU</th>\n",
       "      <td>pak</td>\n",
       "      <td>pak</td>\n",
       "      <td>pak</td>\n",
       "      <td>143.50</td>\n",
       "    </tr>\n",
       "    <tr>\n",
       "      <th>IN</th>\n",
       "      <td>pak</td>\n",
       "      <td>pak</td>\n",
       "      <td>pak</td>\n",
       "      <td>1252.00</td>\n",
       "    </tr>\n",
       "    <tr>\n",
       "      <th>CH</th>\n",
       "      <td>China</td>\n",
       "      <td>Beijing</td>\n",
       "      <td>9.597</td>\n",
       "      <td>1357.00</td>\n",
       "    </tr>\n",
       "    <tr>\n",
       "      <th>SA</th>\n",
       "      <td>South Africa</td>\n",
       "      <td>Pretoria</td>\n",
       "      <td>1.221</td>\n",
       "      <td>52.98</td>\n",
       "    </tr>\n",
       "  </tbody>\n",
       "</table>\n",
       "</div>"
      ],
      "text/plain": [
       "           country   capital   area  population\n",
       "Code                                           \n",
       "BR             pak       pak    pak      200.40\n",
       "RU             pak       pak    pak      143.50\n",
       "IN             pak       pak    pak     1252.00\n",
       "CH           China   Beijing  9.597     1357.00\n",
       "SA    South Africa  Pretoria  1.221       52.98"
      ]
     },
     "execution_count": 13,
     "metadata": {},
     "output_type": "execute_result"
    }
   ],
   "source": [
    "brics"
   ]
  },
  {
   "cell_type": "code",
   "execution_count": 14,
   "id": "5e92f2af",
   "metadata": {},
   "outputs": [
    {
     "data": {
      "text/html": [
       "<div>\n",
       "<style scoped>\n",
       "    .dataframe tbody tr th:only-of-type {\n",
       "        vertical-align: middle;\n",
       "    }\n",
       "\n",
       "    .dataframe tbody tr th {\n",
       "        vertical-align: top;\n",
       "    }\n",
       "\n",
       "    .dataframe thead th {\n",
       "        text-align: right;\n",
       "    }\n",
       "</style>\n",
       "<table border=\"1\" class=\"dataframe\">\n",
       "  <thead>\n",
       "    <tr style=\"text-align: right;\">\n",
       "      <th></th>\n",
       "      <th>capital</th>\n",
       "      <th>area</th>\n",
       "      <th>population</th>\n",
       "    </tr>\n",
       "    <tr>\n",
       "      <th>Code</th>\n",
       "      <th></th>\n",
       "      <th></th>\n",
       "      <th></th>\n",
       "    </tr>\n",
       "  </thead>\n",
       "  <tbody>\n",
       "    <tr>\n",
       "      <th>BR</th>\n",
       "      <td>pak</td>\n",
       "      <td>pak</td>\n",
       "      <td>200.40</td>\n",
       "    </tr>\n",
       "    <tr>\n",
       "      <th>RU</th>\n",
       "      <td>pak</td>\n",
       "      <td>pak</td>\n",
       "      <td>143.50</td>\n",
       "    </tr>\n",
       "    <tr>\n",
       "      <th>IN</th>\n",
       "      <td>pak</td>\n",
       "      <td>pak</td>\n",
       "      <td>1252.00</td>\n",
       "    </tr>\n",
       "    <tr>\n",
       "      <th>CH</th>\n",
       "      <td>Beijing</td>\n",
       "      <td>9.597</td>\n",
       "      <td>1357.00</td>\n",
       "    </tr>\n",
       "    <tr>\n",
       "      <th>SA</th>\n",
       "      <td>Pretoria</td>\n",
       "      <td>1.221</td>\n",
       "      <td>52.98</td>\n",
       "    </tr>\n",
       "  </tbody>\n",
       "</table>\n",
       "</div>"
      ],
      "text/plain": [
       "       capital   area  population\n",
       "Code                             \n",
       "BR         pak    pak      200.40\n",
       "RU         pak    pak      143.50\n",
       "IN         pak    pak     1252.00\n",
       "CH     Beijing  9.597     1357.00\n",
       "SA    Pretoria  1.221       52.98"
      ]
     },
     "execution_count": 14,
     "metadata": {},
     "output_type": "execute_result"
    }
   ],
   "source": [
    "brics.iloc[:,[1,2,3]]"
   ]
  },
  {
   "cell_type": "code",
   "execution_count": null,
   "id": "9e426d50",
   "metadata": {},
   "outputs": [],
   "source": [
    "# creating a new column from existing column"
   ]
  },
  {
   "cell_type": "code",
   "execution_count": 17,
   "id": "eeb9ecba",
   "metadata": {},
   "outputs": [
    {
     "data": {
      "text/html": [
       "<div>\n",
       "<style scoped>\n",
       "    .dataframe tbody tr th:only-of-type {\n",
       "        vertical-align: middle;\n",
       "    }\n",
       "\n",
       "    .dataframe tbody tr th {\n",
       "        vertical-align: top;\n",
       "    }\n",
       "\n",
       "    .dataframe thead th {\n",
       "        text-align: right;\n",
       "    }\n",
       "</style>\n",
       "<table border=\"1\" class=\"dataframe\">\n",
       "  <thead>\n",
       "    <tr style=\"text-align: right;\">\n",
       "      <th></th>\n",
       "      <th>country</th>\n",
       "      <th>capital</th>\n",
       "      <th>area</th>\n",
       "      <th>population</th>\n",
       "      <th>divid</th>\n",
       "    </tr>\n",
       "    <tr>\n",
       "      <th>Code</th>\n",
       "      <th></th>\n",
       "      <th></th>\n",
       "      <th></th>\n",
       "      <th></th>\n",
       "      <th></th>\n",
       "    </tr>\n",
       "  </thead>\n",
       "  <tbody>\n",
       "    <tr>\n",
       "      <th>BR</th>\n",
       "      <td>Brazil</td>\n",
       "      <td>Brasilia</td>\n",
       "      <td>8.516</td>\n",
       "      <td>200.40</td>\n",
       "      <td>4.2580</td>\n",
       "    </tr>\n",
       "    <tr>\n",
       "      <th>RU</th>\n",
       "      <td>Russia</td>\n",
       "      <td>Moscow</td>\n",
       "      <td>17.100</td>\n",
       "      <td>143.50</td>\n",
       "      <td>8.5500</td>\n",
       "    </tr>\n",
       "    <tr>\n",
       "      <th>IN</th>\n",
       "      <td>India</td>\n",
       "      <td>New Delhi</td>\n",
       "      <td>3.286</td>\n",
       "      <td>1252.00</td>\n",
       "      <td>1.6430</td>\n",
       "    </tr>\n",
       "    <tr>\n",
       "      <th>CH</th>\n",
       "      <td>China</td>\n",
       "      <td>Beijing</td>\n",
       "      <td>9.597</td>\n",
       "      <td>1357.00</td>\n",
       "      <td>4.7985</td>\n",
       "    </tr>\n",
       "    <tr>\n",
       "      <th>SA</th>\n",
       "      <td>South Africa</td>\n",
       "      <td>Pretoria</td>\n",
       "      <td>1.221</td>\n",
       "      <td>52.98</td>\n",
       "      <td>0.6105</td>\n",
       "    </tr>\n",
       "  </tbody>\n",
       "</table>\n",
       "</div>"
      ],
      "text/plain": [
       "           country    capital    area  population   divid\n",
       "Code                                                     \n",
       "BR          Brazil   Brasilia   8.516      200.40  4.2580\n",
       "RU          Russia     Moscow  17.100      143.50  8.5500\n",
       "IN           India  New Delhi   3.286     1252.00  1.6430\n",
       "CH           China    Beijing   9.597     1357.00  4.7985\n",
       "SA    South Africa   Pretoria   1.221       52.98  0.6105"
      ]
     },
     "execution_count": 17,
     "metadata": {},
     "output_type": "execute_result"
    }
   ],
   "source": [
    "# creating a new column with extisting ones\n",
    "brics[\"divid\"] = brics[\"area\"]/2\n",
    "brics"
   ]
  },
  {
   "cell_type": "code",
   "execution_count": 64,
   "id": "3f5e5d66",
   "metadata": {},
   "outputs": [
    {
     "data": {
      "text/html": [
       "<div>\n",
       "<style scoped>\n",
       "    .dataframe tbody tr th:only-of-type {\n",
       "        vertical-align: middle;\n",
       "    }\n",
       "\n",
       "    .dataframe tbody tr th {\n",
       "        vertical-align: top;\n",
       "    }\n",
       "\n",
       "    .dataframe thead th {\n",
       "        text-align: right;\n",
       "    }\n",
       "</style>\n",
       "<table border=\"1\" class=\"dataframe\">\n",
       "  <thead>\n",
       "    <tr style=\"text-align: right;\">\n",
       "      <th></th>\n",
       "      <th>country</th>\n",
       "      <th>capital</th>\n",
       "      <th>area</th>\n",
       "      <th>population</th>\n",
       "    </tr>\n",
       "    <tr>\n",
       "      <th>Code</th>\n",
       "      <th></th>\n",
       "      <th></th>\n",
       "      <th></th>\n",
       "      <th></th>\n",
       "    </tr>\n",
       "  </thead>\n",
       "  <tbody>\n",
       "    <tr>\n",
       "      <th>BR</th>\n",
       "      <td>Brazil</td>\n",
       "      <td>Brasilia</td>\n",
       "      <td>8.516</td>\n",
       "      <td>200.40</td>\n",
       "    </tr>\n",
       "    <tr>\n",
       "      <th>RU</th>\n",
       "      <td>Russia</td>\n",
       "      <td>Moscow</td>\n",
       "      <td>17.100</td>\n",
       "      <td>143.50</td>\n",
       "    </tr>\n",
       "    <tr>\n",
       "      <th>IN</th>\n",
       "      <td>India</td>\n",
       "      <td>New Delhi</td>\n",
       "      <td>3.286</td>\n",
       "      <td>1252.00</td>\n",
       "    </tr>\n",
       "    <tr>\n",
       "      <th>CH</th>\n",
       "      <td>China</td>\n",
       "      <td>Beijing</td>\n",
       "      <td>9.597</td>\n",
       "      <td>1357.00</td>\n",
       "    </tr>\n",
       "    <tr>\n",
       "      <th>SA</th>\n",
       "      <td>South Africa</td>\n",
       "      <td>Pretoria</td>\n",
       "      <td>1.221</td>\n",
       "      <td>52.98</td>\n",
       "    </tr>\n",
       "  </tbody>\n",
       "</table>\n",
       "</div>"
      ],
      "text/plain": [
       "           country    capital    area  population\n",
       "Code                                             \n",
       "BR          Brazil   Brasilia   8.516      200.40\n",
       "RU          Russia     Moscow  17.100      143.50\n",
       "IN           India  New Delhi   3.286     1252.00\n",
       "CH           China    Beijing   9.597     1357.00\n",
       "SA    South Africa   Pretoria   1.221       52.98"
      ]
     },
     "execution_count": 64,
     "metadata": {},
     "output_type": "execute_result"
    }
   ],
   "source": [
    "# renaminng of columns\n",
    "import pandas as pd\n",
    "brics = pd.read_csv(\"brics.csv\",index_col = 0)\n",
    "brics"
   ]
  },
  {
   "cell_type": "code",
   "execution_count": 19,
   "id": "b8cfb30f",
   "metadata": {},
   "outputs": [
    {
     "data": {
      "text/html": [
       "<div>\n",
       "<style scoped>\n",
       "    .dataframe tbody tr th:only-of-type {\n",
       "        vertical-align: middle;\n",
       "    }\n",
       "\n",
       "    .dataframe tbody tr th {\n",
       "        vertical-align: top;\n",
       "    }\n",
       "\n",
       "    .dataframe thead th {\n",
       "        text-align: right;\n",
       "    }\n",
       "</style>\n",
       "<table border=\"1\" class=\"dataframe\">\n",
       "  <thead>\n",
       "    <tr style=\"text-align: right;\">\n",
       "      <th></th>\n",
       "      <th>country</th>\n",
       "      <th>capital</th>\n",
       "      <th>size</th>\n",
       "      <th>popul</th>\n",
       "      <th>divid</th>\n",
       "    </tr>\n",
       "    <tr>\n",
       "      <th>Code</th>\n",
       "      <th></th>\n",
       "      <th></th>\n",
       "      <th></th>\n",
       "      <th></th>\n",
       "      <th></th>\n",
       "    </tr>\n",
       "  </thead>\n",
       "  <tbody>\n",
       "    <tr>\n",
       "      <th>BR</th>\n",
       "      <td>Brazil</td>\n",
       "      <td>Brasilia</td>\n",
       "      <td>8.516</td>\n",
       "      <td>200.40</td>\n",
       "      <td>4.2580</td>\n",
       "    </tr>\n",
       "    <tr>\n",
       "      <th>RU</th>\n",
       "      <td>Russia</td>\n",
       "      <td>Moscow</td>\n",
       "      <td>17.100</td>\n",
       "      <td>143.50</td>\n",
       "      <td>8.5500</td>\n",
       "    </tr>\n",
       "    <tr>\n",
       "      <th>IN</th>\n",
       "      <td>India</td>\n",
       "      <td>New Delhi</td>\n",
       "      <td>3.286</td>\n",
       "      <td>1252.00</td>\n",
       "      <td>1.6430</td>\n",
       "    </tr>\n",
       "    <tr>\n",
       "      <th>CH</th>\n",
       "      <td>China</td>\n",
       "      <td>Beijing</td>\n",
       "      <td>9.597</td>\n",
       "      <td>1357.00</td>\n",
       "      <td>4.7985</td>\n",
       "    </tr>\n",
       "    <tr>\n",
       "      <th>SA</th>\n",
       "      <td>South Africa</td>\n",
       "      <td>Pretoria</td>\n",
       "      <td>1.221</td>\n",
       "      <td>52.98</td>\n",
       "      <td>0.6105</td>\n",
       "    </tr>\n",
       "  </tbody>\n",
       "</table>\n",
       "</div>"
      ],
      "text/plain": [
       "           country    capital    size    popul   divid\n",
       "Code                                                  \n",
       "BR          Brazil   Brasilia   8.516   200.40  4.2580\n",
       "RU          Russia     Moscow  17.100   143.50  8.5500\n",
       "IN           India  New Delhi   3.286  1252.00  1.6430\n",
       "CH           China    Beijing   9.597  1357.00  4.7985\n",
       "SA    South Africa   Pretoria   1.221    52.98  0.6105"
      ]
     },
     "execution_count": 19,
     "metadata": {},
     "output_type": "execute_result"
    }
   ],
   "source": [
    "brics = brics.rename(columns = {\"area\":\"size\",\"population\":\"popul\"})\n",
    "brics     # or ca also give this cahnge to a new object , so that original data reamins unchaged"
   ]
  },
  {
   "cell_type": "code",
   "execution_count": 78,
   "id": "814c8430",
   "metadata": {},
   "outputs": [
    {
     "data": {
      "text/html": [
       "<div>\n",
       "<style scoped>\n",
       "    .dataframe tbody tr th:only-of-type {\n",
       "        vertical-align: middle;\n",
       "    }\n",
       "\n",
       "    .dataframe tbody tr th {\n",
       "        vertical-align: top;\n",
       "    }\n",
       "\n",
       "    .dataframe thead th {\n",
       "        text-align: right;\n",
       "    }\n",
       "</style>\n",
       "<table border=\"1\" class=\"dataframe\">\n",
       "  <thead>\n",
       "    <tr style=\"text-align: right;\">\n",
       "      <th></th>\n",
       "      <th>country</th>\n",
       "      <th>capital</th>\n",
       "      <th>size</th>\n",
       "      <th>popul</th>\n",
       "    </tr>\n",
       "    <tr>\n",
       "      <th>Code</th>\n",
       "      <th></th>\n",
       "      <th></th>\n",
       "      <th></th>\n",
       "      <th></th>\n",
       "    </tr>\n",
       "  </thead>\n",
       "  <tbody>\n",
       "    <tr>\n",
       "      <th>RU</th>\n",
       "      <td>Russia</td>\n",
       "      <td>Moscow</td>\n",
       "      <td>17.100</td>\n",
       "      <td>143.5</td>\n",
       "    </tr>\n",
       "    <tr>\n",
       "      <th>IN</th>\n",
       "      <td>India</td>\n",
       "      <td>New Delhi</td>\n",
       "      <td>3.286</td>\n",
       "      <td>1252.0</td>\n",
       "    </tr>\n",
       "    <tr>\n",
       "      <th>CH</th>\n",
       "      <td>China</td>\n",
       "      <td>Beijing</td>\n",
       "      <td>9.597</td>\n",
       "      <td>1357.0</td>\n",
       "    </tr>\n",
       "  </tbody>\n",
       "</table>\n",
       "</div>"
      ],
      "text/plain": [
       "     country    capital    size   popul\n",
       "Code                                   \n",
       "RU    Russia     Moscow  17.100   143.5\n",
       "IN     India  New Delhi   3.286  1252.0\n",
       "CH     China    Beijing   9.597  1357.0"
      ]
     },
     "execution_count": 78,
     "metadata": {},
     "output_type": "execute_result"
    }
   ],
   "source": [
    "brics[1:4]"
   ]
  },
  {
   "cell_type": "code",
   "execution_count": 20,
   "id": "fb9a1fff",
   "metadata": {},
   "outputs": [
    {
     "data": {
      "text/html": [
       "<div>\n",
       "<style scoped>\n",
       "    .dataframe tbody tr th:only-of-type {\n",
       "        vertical-align: middle;\n",
       "    }\n",
       "\n",
       "    .dataframe tbody tr th {\n",
       "        vertical-align: top;\n",
       "    }\n",
       "\n",
       "    .dataframe thead th {\n",
       "        text-align: right;\n",
       "    }\n",
       "</style>\n",
       "<table border=\"1\" class=\"dataframe\">\n",
       "  <thead>\n",
       "    <tr style=\"text-align: right;\">\n",
       "      <th></th>\n",
       "      <th>COUNTRY</th>\n",
       "      <th>CAPITAL</th>\n",
       "      <th>SIZE</th>\n",
       "      <th>POPUL</th>\n",
       "      <th>DIVID</th>\n",
       "    </tr>\n",
       "    <tr>\n",
       "      <th>Code</th>\n",
       "      <th></th>\n",
       "      <th></th>\n",
       "      <th></th>\n",
       "      <th></th>\n",
       "      <th></th>\n",
       "    </tr>\n",
       "  </thead>\n",
       "  <tbody>\n",
       "    <tr>\n",
       "      <th>BR</th>\n",
       "      <td>Brazil</td>\n",
       "      <td>Brasilia</td>\n",
       "      <td>8.516</td>\n",
       "      <td>200.40</td>\n",
       "      <td>4.2580</td>\n",
       "    </tr>\n",
       "    <tr>\n",
       "      <th>RU</th>\n",
       "      <td>Russia</td>\n",
       "      <td>Moscow</td>\n",
       "      <td>17.100</td>\n",
       "      <td>143.50</td>\n",
       "      <td>8.5500</td>\n",
       "    </tr>\n",
       "    <tr>\n",
       "      <th>IN</th>\n",
       "      <td>India</td>\n",
       "      <td>New Delhi</td>\n",
       "      <td>3.286</td>\n",
       "      <td>1252.00</td>\n",
       "      <td>1.6430</td>\n",
       "    </tr>\n",
       "    <tr>\n",
       "      <th>CH</th>\n",
       "      <td>China</td>\n",
       "      <td>Beijing</td>\n",
       "      <td>9.597</td>\n",
       "      <td>1357.00</td>\n",
       "      <td>4.7985</td>\n",
       "    </tr>\n",
       "    <tr>\n",
       "      <th>SA</th>\n",
       "      <td>South Africa</td>\n",
       "      <td>Pretoria</td>\n",
       "      <td>1.221</td>\n",
       "      <td>52.98</td>\n",
       "      <td>0.6105</td>\n",
       "    </tr>\n",
       "  </tbody>\n",
       "</table>\n",
       "</div>"
      ],
      "text/plain": [
       "           COUNTRY    CAPITAL    SIZE    POPUL   DIVID\n",
       "Code                                                  \n",
       "BR          Brazil   Brasilia   8.516   200.40  4.2580\n",
       "RU          Russia     Moscow  17.100   143.50  8.5500\n",
       "IN           India  New Delhi   3.286  1252.00  1.6430\n",
       "CH           China    Beijing   9.597  1357.00  4.7985\n",
       "SA    South Africa   Pretoria   1.221    52.98  0.6105"
      ]
     },
     "execution_count": 20,
     "metadata": {},
     "output_type": "execute_result"
    }
   ],
   "source": [
    "brics.rename(columns = str.upper)"
   ]
  },
  {
   "cell_type": "code",
   "execution_count": 22,
   "id": "3dfafb22",
   "metadata": {},
   "outputs": [
    {
     "data": {
      "text/plain": [
       "age     29.881138\n",
       "fare    33.295479\n",
       "dtype: float64"
      ]
     },
     "execution_count": 22,
     "metadata": {},
     "output_type": "execute_result"
    }
   ],
   "source": [
    " # summmary statistics\n",
    "titanic = pd.read_csv(\"titanic.csv\")\n",
    "titanic[[\"age\",\"fare\"]].mean()"
   ]
  },
  {
   "cell_type": "code",
   "execution_count": 101,
   "id": "3799bc55",
   "metadata": {},
   "outputs": [
    {
     "data": {
      "text/plain": [
       "age     28.0000\n",
       "fare    14.4542\n",
       "dtype: float64"
      ]
     },
     "execution_count": 101,
     "metadata": {},
     "output_type": "execute_result"
    }
   ],
   "source": [
    "titanic[[\"age\",\"fare\"]].median()"
   ]
  },
  {
   "cell_type": "code",
   "execution_count": 103,
   "id": "ba73d354",
   "metadata": {},
   "outputs": [
    {
     "data": {
      "text/html": [
       "<div>\n",
       "<style scoped>\n",
       "    .dataframe tbody tr th:only-of-type {\n",
       "        vertical-align: middle;\n",
       "    }\n",
       "\n",
       "    .dataframe tbody tr th {\n",
       "        vertical-align: top;\n",
       "    }\n",
       "\n",
       "    .dataframe thead th {\n",
       "        text-align: right;\n",
       "    }\n",
       "</style>\n",
       "<table border=\"1\" class=\"dataframe\">\n",
       "  <thead>\n",
       "    <tr style=\"text-align: right;\">\n",
       "      <th></th>\n",
       "      <th>age</th>\n",
       "      <th>fare</th>\n",
       "    </tr>\n",
       "  </thead>\n",
       "  <tbody>\n",
       "    <tr>\n",
       "      <th>count</th>\n",
       "      <td>1046.000000</td>\n",
       "      <td>1308.000000</td>\n",
       "    </tr>\n",
       "    <tr>\n",
       "      <th>mean</th>\n",
       "      <td>29.881138</td>\n",
       "      <td>33.295479</td>\n",
       "    </tr>\n",
       "    <tr>\n",
       "      <th>std</th>\n",
       "      <td>14.413493</td>\n",
       "      <td>51.758668</td>\n",
       "    </tr>\n",
       "    <tr>\n",
       "      <th>min</th>\n",
       "      <td>0.170000</td>\n",
       "      <td>0.000000</td>\n",
       "    </tr>\n",
       "    <tr>\n",
       "      <th>25%</th>\n",
       "      <td>21.000000</td>\n",
       "      <td>7.895800</td>\n",
       "    </tr>\n",
       "    <tr>\n",
       "      <th>50%</th>\n",
       "      <td>28.000000</td>\n",
       "      <td>14.454200</td>\n",
       "    </tr>\n",
       "    <tr>\n",
       "      <th>75%</th>\n",
       "      <td>39.000000</td>\n",
       "      <td>31.275000</td>\n",
       "    </tr>\n",
       "    <tr>\n",
       "      <th>max</th>\n",
       "      <td>80.000000</td>\n",
       "      <td>512.329200</td>\n",
       "    </tr>\n",
       "  </tbody>\n",
       "</table>\n",
       "</div>"
      ],
      "text/plain": [
       "               age         fare\n",
       "count  1046.000000  1308.000000\n",
       "mean     29.881138    33.295479\n",
       "std      14.413493    51.758668\n",
       "min       0.170000     0.000000\n",
       "25%      21.000000     7.895800\n",
       "50%      28.000000    14.454200\n",
       "75%      39.000000    31.275000\n",
       "max      80.000000   512.329200"
      ]
     },
     "execution_count": 103,
     "metadata": {},
     "output_type": "execute_result"
    }
   ],
   "source": [
    "titanic[[\"age\",\"fare\"]].describe()   # gives all metrics mean median modea quartile...."
   ]
  },
  {
   "cell_type": "code",
   "execution_count": 108,
   "id": "9a2e691c",
   "metadata": {},
   "outputs": [
    {
     "data": {
      "text/html": [
       "<div>\n",
       "<style scoped>\n",
       "    .dataframe tbody tr th:only-of-type {\n",
       "        vertical-align: middle;\n",
       "    }\n",
       "\n",
       "    .dataframe tbody tr th {\n",
       "        vertical-align: top;\n",
       "    }\n",
       "\n",
       "    .dataframe thead th {\n",
       "        text-align: right;\n",
       "    }\n",
       "</style>\n",
       "<table border=\"1\" class=\"dataframe\">\n",
       "  <thead>\n",
       "    <tr style=\"text-align: right;\">\n",
       "      <th></th>\n",
       "      <th>age</th>\n",
       "      <th>fare</th>\n",
       "    </tr>\n",
       "  </thead>\n",
       "  <tbody>\n",
       "    <tr>\n",
       "      <th>min</th>\n",
       "      <td>0.170000</td>\n",
       "      <td>0.000000</td>\n",
       "    </tr>\n",
       "    <tr>\n",
       "      <th>max</th>\n",
       "      <td>80.000000</td>\n",
       "      <td>512.329200</td>\n",
       "    </tr>\n",
       "    <tr>\n",
       "      <th>mean</th>\n",
       "      <td>29.881138</td>\n",
       "      <td>33.295479</td>\n",
       "    </tr>\n",
       "    <tr>\n",
       "      <th>median</th>\n",
       "      <td>28.000000</td>\n",
       "      <td>NaN</td>\n",
       "    </tr>\n",
       "  </tbody>\n",
       "</table>\n",
       "</div>"
      ],
      "text/plain": [
       "              age        fare\n",
       "min      0.170000    0.000000\n",
       "max     80.000000  512.329200\n",
       "mean    29.881138   33.295479\n",
       "median  28.000000         NaN"
      ]
     },
     "execution_count": 108,
     "metadata": {},
     "output_type": "execute_result"
    }
   ],
   "source": [
    "# make combination of mean median min max\n",
    "# for  age and fare\n",
    "titanic.agg({\"age\":[\"min\",\"max\",\"mean\",\"median\"],\"fare\":[\"min\",\"max\",\"mean\"]})"
   ]
  },
  {
   "cell_type": "code",
   "execution_count": 27,
   "id": "2c86ea77",
   "metadata": {},
   "outputs": [
    {
     "data": {
      "text/html": [
       "<div>\n",
       "<style scoped>\n",
       "    .dataframe tbody tr th:only-of-type {\n",
       "        vertical-align: middle;\n",
       "    }\n",
       "\n",
       "    .dataframe tbody tr th {\n",
       "        vertical-align: top;\n",
       "    }\n",
       "\n",
       "    .dataframe thead th {\n",
       "        text-align: right;\n",
       "    }\n",
       "</style>\n",
       "<table border=\"1\" class=\"dataframe\">\n",
       "  <thead>\n",
       "    <tr style=\"text-align: right;\">\n",
       "      <th></th>\n",
       "      <th></th>\n",
       "      <th>age</th>\n",
       "      <th>fare</th>\n",
       "    </tr>\n",
       "    <tr>\n",
       "      <th>pclass</th>\n",
       "      <th>sex</th>\n",
       "      <th></th>\n",
       "      <th></th>\n",
       "    </tr>\n",
       "  </thead>\n",
       "  <tbody>\n",
       "    <tr>\n",
       "      <th rowspan=\"2\" valign=\"top\">1</th>\n",
       "      <th>female</th>\n",
       "      <td>37.037594</td>\n",
       "      <td>109.412385</td>\n",
       "    </tr>\n",
       "    <tr>\n",
       "      <th>male</th>\n",
       "      <td>41.029272</td>\n",
       "      <td>69.888385</td>\n",
       "    </tr>\n",
       "    <tr>\n",
       "      <th rowspan=\"2\" valign=\"top\">2</th>\n",
       "      <th>female</th>\n",
       "      <td>27.499223</td>\n",
       "      <td>23.234827</td>\n",
       "    </tr>\n",
       "    <tr>\n",
       "      <th>male</th>\n",
       "      <td>30.815380</td>\n",
       "      <td>19.904946</td>\n",
       "    </tr>\n",
       "    <tr>\n",
       "      <th rowspan=\"2\" valign=\"top\">3</th>\n",
       "      <th>female</th>\n",
       "      <td>22.185329</td>\n",
       "      <td>15.324250</td>\n",
       "    </tr>\n",
       "    <tr>\n",
       "      <th>male</th>\n",
       "      <td>25.962264</td>\n",
       "      <td>12.415462</td>\n",
       "    </tr>\n",
       "  </tbody>\n",
       "</table>\n",
       "</div>"
      ],
      "text/plain": [
       "                     age        fare\n",
       "pclass sex                          \n",
       "1      female  37.037594  109.412385\n",
       "       male    41.029272   69.888385\n",
       "2      female  27.499223   23.234827\n",
       "       male    30.815380   19.904946\n",
       "3      female  22.185329   15.324250\n",
       "       male    25.962264   12.415462"
      ]
     },
     "execution_count": 27,
     "metadata": {},
     "output_type": "execute_result"
    }
   ],
   "source": [
    "# average age for male vs female titanic passengers\n",
    "# titanic.groupby(\"sex\")[[\"age\"]].mean()\n",
    "\n",
    "titanic.groupby([\"pclass\",\"sex\"])[[\"age\",\"fare\"]].mean()"
   ]
  },
  {
   "cell_type": "code",
   "execution_count": 114,
   "id": "d4745005",
   "metadata": {},
   "outputs": [
    {
     "data": {
      "text/html": [
       "<div>\n",
       "<style scoped>\n",
       "    .dataframe tbody tr th:only-of-type {\n",
       "        vertical-align: middle;\n",
       "    }\n",
       "\n",
       "    .dataframe tbody tr th {\n",
       "        vertical-align: top;\n",
       "    }\n",
       "\n",
       "    .dataframe thead th {\n",
       "        text-align: right;\n",
       "    }\n",
       "</style>\n",
       "<table border=\"1\" class=\"dataframe\">\n",
       "  <thead>\n",
       "    <tr style=\"text-align: right;\">\n",
       "      <th></th>\n",
       "      <th>age</th>\n",
       "    </tr>\n",
       "    <tr>\n",
       "      <th>sex</th>\n",
       "      <th></th>\n",
       "    </tr>\n",
       "  </thead>\n",
       "  <tbody>\n",
       "    <tr>\n",
       "      <th>female</th>\n",
       "      <td>28.687088</td>\n",
       "    </tr>\n",
       "    <tr>\n",
       "      <th>male</th>\n",
       "      <td>30.585228</td>\n",
       "    </tr>\n",
       "  </tbody>\n",
       "</table>\n",
       "</div>"
      ],
      "text/plain": [
       "              age\n",
       "sex              \n",
       "female  28.687088\n",
       "male    30.585228"
      ]
     },
     "execution_count": 114,
     "metadata": {},
     "output_type": "execute_result"
    }
   ],
   "source": [
    "titanic[[\"age\",\"sex\"]].groupby(\"sex\").mean()"
   ]
  },
  {
   "cell_type": "code",
   "execution_count": 123,
   "id": "cc238bf8",
   "metadata": {},
   "outputs": [
    {
     "data": {
      "text/html": [
       "<div>\n",
       "<style scoped>\n",
       "    .dataframe tbody tr th:only-of-type {\n",
       "        vertical-align: middle;\n",
       "    }\n",
       "\n",
       "    .dataframe tbody tr th {\n",
       "        vertical-align: top;\n",
       "    }\n",
       "\n",
       "    .dataframe thead th {\n",
       "        text-align: right;\n",
       "    }\n",
       "</style>\n",
       "<table border=\"1\" class=\"dataframe\">\n",
       "  <thead>\n",
       "    <tr style=\"text-align: right;\">\n",
       "      <th></th>\n",
       "      <th></th>\n",
       "      <th>fare</th>\n",
       "    </tr>\n",
       "    <tr>\n",
       "      <th>sex</th>\n",
       "      <th>pclass</th>\n",
       "      <th></th>\n",
       "    </tr>\n",
       "  </thead>\n",
       "  <tbody>\n",
       "    <tr>\n",
       "      <th rowspan=\"3\" valign=\"top\">female</th>\n",
       "      <th>1</th>\n",
       "      <td>109.412385</td>\n",
       "    </tr>\n",
       "    <tr>\n",
       "      <th>2</th>\n",
       "      <td>23.234827</td>\n",
       "    </tr>\n",
       "    <tr>\n",
       "      <th>3</th>\n",
       "      <td>15.324250</td>\n",
       "    </tr>\n",
       "    <tr>\n",
       "      <th rowspan=\"3\" valign=\"top\">male</th>\n",
       "      <th>1</th>\n",
       "      <td>69.888385</td>\n",
       "    </tr>\n",
       "    <tr>\n",
       "      <th>2</th>\n",
       "      <td>19.904946</td>\n",
       "    </tr>\n",
       "    <tr>\n",
       "      <th>3</th>\n",
       "      <td>12.415462</td>\n",
       "    </tr>\n",
       "  </tbody>\n",
       "</table>\n",
       "</div>"
      ],
      "text/plain": [
       "                     fare\n",
       "sex    pclass            \n",
       "female 1       109.412385\n",
       "       2        23.234827\n",
       "       3        15.324250\n",
       "male   1        69.888385\n",
       "       2        19.904946\n",
       "       3        12.415462"
      ]
     },
     "execution_count": 123,
     "metadata": {},
     "output_type": "execute_result"
    }
   ],
   "source": [
    "# grouping multiple columnns\n",
    "# what is the ticket fare price for each sex and cabin class combination ?\n",
    "\n",
    "titanic.groupby([\"sex\",\"pclass\"])[[\"fare\"]].mean()"
   ]
  },
  {
   "cell_type": "code",
   "execution_count": 131,
   "id": "ef08d3ef",
   "metadata": {},
   "outputs": [
    {
     "data": {
      "text/html": [
       "<div>\n",
       "<style scoped>\n",
       "    .dataframe tbody tr th:only-of-type {\n",
       "        vertical-align: middle;\n",
       "    }\n",
       "\n",
       "    .dataframe tbody tr th {\n",
       "        vertical-align: top;\n",
       "    }\n",
       "\n",
       "    .dataframe thead th {\n",
       "        text-align: right;\n",
       "    }\n",
       "</style>\n",
       "<table border=\"1\" class=\"dataframe\">\n",
       "  <thead>\n",
       "    <tr style=\"text-align: right;\">\n",
       "      <th></th>\n",
       "      <th></th>\n",
       "      <th>fare</th>\n",
       "    </tr>\n",
       "    <tr>\n",
       "      <th>sex</th>\n",
       "      <th>pclass</th>\n",
       "      <th></th>\n",
       "    </tr>\n",
       "  </thead>\n",
       "  <tbody>\n",
       "    <tr>\n",
       "      <th rowspan=\"3\" valign=\"top\">female</th>\n",
       "      <th>1</th>\n",
       "      <td>109.412385</td>\n",
       "    </tr>\n",
       "    <tr>\n",
       "      <th>2</th>\n",
       "      <td>23.234827</td>\n",
       "    </tr>\n",
       "    <tr>\n",
       "      <th>3</th>\n",
       "      <td>15.324250</td>\n",
       "    </tr>\n",
       "    <tr>\n",
       "      <th rowspan=\"3\" valign=\"top\">male</th>\n",
       "      <th>1</th>\n",
       "      <td>69.888385</td>\n",
       "    </tr>\n",
       "    <tr>\n",
       "      <th>2</th>\n",
       "      <td>19.904946</td>\n",
       "    </tr>\n",
       "    <tr>\n",
       "      <th>3</th>\n",
       "      <td>12.415462</td>\n",
       "    </tr>\n",
       "  </tbody>\n",
       "</table>\n",
       "</div>"
      ],
      "text/plain": [
       "                     fare\n",
       "sex    pclass            \n",
       "female 1       109.412385\n",
       "       2        23.234827\n",
       "       3        15.324250\n",
       "male   1        69.888385\n",
       "       2        19.904946\n",
       "       3        12.415462"
      ]
     },
     "execution_count": 131,
     "metadata": {},
     "output_type": "execute_result"
    }
   ],
   "source": [
    "titanic[[\"sex\",\"pclass\",\"fare\"]].groupby([\"sex\",\"pclass\"]).mean()"
   ]
  },
  {
   "cell_type": "code",
   "execution_count": 135,
   "id": "415a83a7",
   "metadata": {},
   "outputs": [
    {
     "data": {
      "text/html": [
       "<div>\n",
       "<style scoped>\n",
       "    .dataframe tbody tr th:only-of-type {\n",
       "        vertical-align: middle;\n",
       "    }\n",
       "\n",
       "    .dataframe tbody tr th {\n",
       "        vertical-align: top;\n",
       "    }\n",
       "\n",
       "    .dataframe thead th {\n",
       "        text-align: right;\n",
       "    }\n",
       "</style>\n",
       "<table border=\"1\" class=\"dataframe\">\n",
       "  <thead>\n",
       "    <tr style=\"text-align: right;\">\n",
       "      <th></th>\n",
       "      <th>fare</th>\n",
       "      <th>age</th>\n",
       "    </tr>\n",
       "    <tr>\n",
       "      <th>sex</th>\n",
       "      <th></th>\n",
       "      <th></th>\n",
       "    </tr>\n",
       "  </thead>\n",
       "  <tbody>\n",
       "    <tr>\n",
       "      <th>female</th>\n",
       "      <td>46.198097</td>\n",
       "      <td>28.687088</td>\n",
       "    </tr>\n",
       "    <tr>\n",
       "      <th>male</th>\n",
       "      <td>26.154601</td>\n",
       "      <td>30.585228</td>\n",
       "    </tr>\n",
       "  </tbody>\n",
       "</table>\n",
       "</div>"
      ],
      "text/plain": [
       "             fare        age\n",
       "sex                         \n",
       "female  46.198097  28.687088\n",
       "male    26.154601  30.585228"
      ]
     },
     "execution_count": 135,
     "metadata": {},
     "output_type": "execute_result"
    }
   ],
   "source": [
    "# average age foe fare foe each of male and female\n",
    "\n",
    "titanic.groupby([\"sex\"])[[\"fare\",\"age\"]].mean()"
   ]
  },
  {
   "cell_type": "code",
   "execution_count": 136,
   "id": "f6af6ac0",
   "metadata": {},
   "outputs": [
    {
     "data": {
      "text/html": [
       "<div>\n",
       "<style scoped>\n",
       "    .dataframe tbody tr th:only-of-type {\n",
       "        vertical-align: middle;\n",
       "    }\n",
       "\n",
       "    .dataframe tbody tr th {\n",
       "        vertical-align: top;\n",
       "    }\n",
       "\n",
       "    .dataframe thead th {\n",
       "        text-align: right;\n",
       "    }\n",
       "</style>\n",
       "<table border=\"1\" class=\"dataframe\">\n",
       "  <thead>\n",
       "    <tr style=\"text-align: right;\">\n",
       "      <th></th>\n",
       "      <th></th>\n",
       "      <th>fare</th>\n",
       "      <th>age</th>\n",
       "    </tr>\n",
       "    <tr>\n",
       "      <th>sex</th>\n",
       "      <th>pclass</th>\n",
       "      <th></th>\n",
       "      <th></th>\n",
       "    </tr>\n",
       "  </thead>\n",
       "  <tbody>\n",
       "    <tr>\n",
       "      <th rowspan=\"3\" valign=\"top\">female</th>\n",
       "      <th>1</th>\n",
       "      <td>109.412385</td>\n",
       "      <td>37.037594</td>\n",
       "    </tr>\n",
       "    <tr>\n",
       "      <th>2</th>\n",
       "      <td>23.234827</td>\n",
       "      <td>27.499223</td>\n",
       "    </tr>\n",
       "    <tr>\n",
       "      <th>3</th>\n",
       "      <td>15.324250</td>\n",
       "      <td>22.185329</td>\n",
       "    </tr>\n",
       "    <tr>\n",
       "      <th rowspan=\"3\" valign=\"top\">male</th>\n",
       "      <th>1</th>\n",
       "      <td>69.888385</td>\n",
       "      <td>41.029272</td>\n",
       "    </tr>\n",
       "    <tr>\n",
       "      <th>2</th>\n",
       "      <td>19.904946</td>\n",
       "      <td>30.815380</td>\n",
       "    </tr>\n",
       "    <tr>\n",
       "      <th>3</th>\n",
       "      <td>12.415462</td>\n",
       "      <td>25.962264</td>\n",
       "    </tr>\n",
       "  </tbody>\n",
       "</table>\n",
       "</div>"
      ],
      "text/plain": [
       "                     fare        age\n",
       "sex    pclass                       \n",
       "female 1       109.412385  37.037594\n",
       "       2        23.234827  27.499223\n",
       "       3        15.324250  22.185329\n",
       "male   1        69.888385  41.029272\n",
       "       2        19.904946  30.815380\n",
       "       3        12.415462  25.962264"
      ]
     },
     "execution_count": 136,
     "metadata": {},
     "output_type": "execute_result"
    }
   ],
   "source": [
    "titanic.groupby([\"sex\",\"pclass\"])[[\"fare\",\"age\"]].mean()"
   ]
  },
  {
   "cell_type": "code",
   "execution_count": 142,
   "id": "12334918",
   "metadata": {},
   "outputs": [
    {
     "data": {
      "text/plain": [
       "pclass\n",
       "3         709\n",
       "1         323\n",
       "2         277\n",
       "dtype: int64"
      ]
     },
     "execution_count": 142,
     "metadata": {},
     "output_type": "execute_result"
    }
   ],
   "source": [
    "# what is the total numner of passengers in each of the cain class , caniclass 1,2,3\n",
    "\n",
    "titanic[[\"pclass\"]].value_counts()"
   ]
  },
  {
   "cell_type": "code",
   "execution_count": 143,
   "id": "8fd2ed7b",
   "metadata": {},
   "outputs": [
    {
     "data": {
      "text/plain": [
       "sex   \n",
       "male      843\n",
       "female    466\n",
       "dtype: int64"
      ]
     },
     "execution_count": 143,
     "metadata": {},
     "output_type": "execute_result"
    }
   ],
   "source": [
    "titanic[[\"sex\"]].value_counts()"
   ]
  },
  {
   "cell_type": "code",
   "execution_count": 144,
   "id": "c8ee545a",
   "metadata": {},
   "outputs": [
    {
     "data": {
      "text/html": [
       "<div>\n",
       "<style scoped>\n",
       "    .dataframe tbody tr th:only-of-type {\n",
       "        vertical-align: middle;\n",
       "    }\n",
       "\n",
       "    .dataframe tbody tr th {\n",
       "        vertical-align: top;\n",
       "    }\n",
       "\n",
       "    .dataframe thead th {\n",
       "        text-align: right;\n",
       "    }\n",
       "</style>\n",
       "<table border=\"1\" class=\"dataframe\">\n",
       "  <thead>\n",
       "    <tr style=\"text-align: right;\">\n",
       "      <th></th>\n",
       "      <th></th>\n",
       "      <th>sex</th>\n",
       "      <th>pclass</th>\n",
       "    </tr>\n",
       "    <tr>\n",
       "      <th>sex</th>\n",
       "      <th>pclass</th>\n",
       "      <th></th>\n",
       "      <th></th>\n",
       "    </tr>\n",
       "  </thead>\n",
       "  <tbody>\n",
       "    <tr>\n",
       "      <th rowspan=\"3\" valign=\"top\">female</th>\n",
       "      <th>1</th>\n",
       "      <td>144</td>\n",
       "      <td>144</td>\n",
       "    </tr>\n",
       "    <tr>\n",
       "      <th>2</th>\n",
       "      <td>106</td>\n",
       "      <td>106</td>\n",
       "    </tr>\n",
       "    <tr>\n",
       "      <th>3</th>\n",
       "      <td>216</td>\n",
       "      <td>216</td>\n",
       "    </tr>\n",
       "    <tr>\n",
       "      <th rowspan=\"3\" valign=\"top\">male</th>\n",
       "      <th>1</th>\n",
       "      <td>179</td>\n",
       "      <td>179</td>\n",
       "    </tr>\n",
       "    <tr>\n",
       "      <th>2</th>\n",
       "      <td>171</td>\n",
       "      <td>171</td>\n",
       "    </tr>\n",
       "    <tr>\n",
       "      <th>3</th>\n",
       "      <td>493</td>\n",
       "      <td>493</td>\n",
       "    </tr>\n",
       "  </tbody>\n",
       "</table>\n",
       "</div>"
      ],
      "text/plain": [
       "               sex  pclass\n",
       "sex    pclass             \n",
       "female 1       144     144\n",
       "       2       106     106\n",
       "       3       216     216\n",
       "male   1       179     179\n",
       "       2       171     171\n",
       "       3       493     493"
      ]
     },
     "execution_count": 144,
     "metadata": {},
     "output_type": "execute_result"
    }
   ],
   "source": [
    "# doing it in combination\n",
    "\n",
    "titanic.groupby([\"sex\",\"pclass\"])[[\"sex\",\"pclass\"]].count()"
   ]
  },
  {
   "cell_type": "code",
   "execution_count": 145,
   "id": "35cf77fd",
   "metadata": {},
   "outputs": [
    {
     "data": {
      "text/html": [
       "<div>\n",
       "<style scoped>\n",
       "    .dataframe tbody tr th:only-of-type {\n",
       "        vertical-align: middle;\n",
       "    }\n",
       "\n",
       "    .dataframe tbody tr th {\n",
       "        vertical-align: top;\n",
       "    }\n",
       "\n",
       "    .dataframe thead th {\n",
       "        text-align: right;\n",
       "    }\n",
       "</style>\n",
       "<table border=\"1\" class=\"dataframe\">\n",
       "  <thead>\n",
       "    <tr style=\"text-align: right;\">\n",
       "      <th></th>\n",
       "      <th>pclass</th>\n",
       "      <th>survived</th>\n",
       "      <th>name</th>\n",
       "      <th>sex</th>\n",
       "      <th>age</th>\n",
       "      <th>sibsp</th>\n",
       "      <th>parch</th>\n",
       "      <th>ticket</th>\n",
       "      <th>fare</th>\n",
       "      <th>cabin</th>\n",
       "      <th>embarked</th>\n",
       "      <th>boat</th>\n",
       "      <th>body</th>\n",
       "      <th>home.dest</th>\n",
       "    </tr>\n",
       "  </thead>\n",
       "  <tbody>\n",
       "    <tr>\n",
       "      <th>763</th>\n",
       "      <td>3</td>\n",
       "      <td>1</td>\n",
       "      <td>Dean, Miss. Elizabeth Gladys \"Millvina\"</td>\n",
       "      <td>female</td>\n",
       "      <td>0.17</td>\n",
       "      <td>1</td>\n",
       "      <td>2</td>\n",
       "      <td>C.A. 2315</td>\n",
       "      <td>20.5750</td>\n",
       "      <td>NaN</td>\n",
       "      <td>S</td>\n",
       "      <td>10</td>\n",
       "      <td>NaN</td>\n",
       "      <td>Devon, England Wichita, KS</td>\n",
       "    </tr>\n",
       "    <tr>\n",
       "      <th>747</th>\n",
       "      <td>3</td>\n",
       "      <td>0</td>\n",
       "      <td>Danbom, Master. Gilbert Sigvard Emanuel</td>\n",
       "      <td>male</td>\n",
       "      <td>0.33</td>\n",
       "      <td>0</td>\n",
       "      <td>2</td>\n",
       "      <td>347080</td>\n",
       "      <td>14.4000</td>\n",
       "      <td>NaN</td>\n",
       "      <td>S</td>\n",
       "      <td>NaN</td>\n",
       "      <td>NaN</td>\n",
       "      <td>Stanton, IA</td>\n",
       "    </tr>\n",
       "    <tr>\n",
       "      <th>1240</th>\n",
       "      <td>3</td>\n",
       "      <td>1</td>\n",
       "      <td>Thomas, Master. Assad Alexander</td>\n",
       "      <td>male</td>\n",
       "      <td>0.42</td>\n",
       "      <td>0</td>\n",
       "      <td>1</td>\n",
       "      <td>2625</td>\n",
       "      <td>8.5167</td>\n",
       "      <td>NaN</td>\n",
       "      <td>C</td>\n",
       "      <td>16</td>\n",
       "      <td>NaN</td>\n",
       "      <td>NaN</td>\n",
       "    </tr>\n",
       "    <tr>\n",
       "      <th>427</th>\n",
       "      <td>2</td>\n",
       "      <td>1</td>\n",
       "      <td>Hamalainen, Master. Viljo</td>\n",
       "      <td>male</td>\n",
       "      <td>0.67</td>\n",
       "      <td>1</td>\n",
       "      <td>1</td>\n",
       "      <td>250649</td>\n",
       "      <td>14.5000</td>\n",
       "      <td>NaN</td>\n",
       "      <td>S</td>\n",
       "      <td>4</td>\n",
       "      <td>NaN</td>\n",
       "      <td>Detroit, MI</td>\n",
       "    </tr>\n",
       "    <tr>\n",
       "      <th>1111</th>\n",
       "      <td>3</td>\n",
       "      <td>0</td>\n",
       "      <td>Peacock, Master. Alfred Edward</td>\n",
       "      <td>male</td>\n",
       "      <td>0.75</td>\n",
       "      <td>1</td>\n",
       "      <td>1</td>\n",
       "      <td>SOTON/O.Q. 3101315</td>\n",
       "      <td>13.7750</td>\n",
       "      <td>NaN</td>\n",
       "      <td>S</td>\n",
       "      <td>NaN</td>\n",
       "      <td>NaN</td>\n",
       "      <td>NaN</td>\n",
       "    </tr>\n",
       "  </tbody>\n",
       "</table>\n",
       "</div>"
      ],
      "text/plain": [
       "      pclass  survived                                     name     sex   age  \\\n",
       "763        3         1  Dean, Miss. Elizabeth Gladys \"Millvina\"  female  0.17   \n",
       "747        3         0  Danbom, Master. Gilbert Sigvard Emanuel    male  0.33   \n",
       "1240       3         1          Thomas, Master. Assad Alexander    male  0.42   \n",
       "427        2         1                Hamalainen, Master. Viljo    male  0.67   \n",
       "1111       3         0           Peacock, Master. Alfred Edward    male  0.75   \n",
       "\n",
       "      sibsp  parch              ticket     fare cabin embarked boat  body  \\\n",
       "763       1      2           C.A. 2315  20.5750   NaN        S   10   NaN   \n",
       "747       0      2              347080  14.4000   NaN        S  NaN   NaN   \n",
       "1240      0      1                2625   8.5167   NaN        C   16   NaN   \n",
       "427       1      1              250649  14.5000   NaN        S    4   NaN   \n",
       "1111      1      1  SOTON/O.Q. 3101315  13.7750   NaN        S  NaN   NaN   \n",
       "\n",
       "                       home.dest  \n",
       "763   Devon, England Wichita, KS  \n",
       "747                  Stanton, IA  \n",
       "1240                         NaN  \n",
       "427                  Detroit, MI  \n",
       "1111                         NaN  "
      ]
     },
     "execution_count": 145,
     "metadata": {},
     "output_type": "execute_result"
    }
   ],
   "source": [
    "# sort the data , here doing on basis of age\n",
    "\n",
    "titanic.sort_values(by=\"age\").head()"
   ]
  },
  {
   "cell_type": "code",
   "execution_count": 149,
   "id": "da468ac1",
   "metadata": {},
   "outputs": [
    {
     "data": {
      "text/html": [
       "<div>\n",
       "<style scoped>\n",
       "    .dataframe tbody tr th:only-of-type {\n",
       "        vertical-align: middle;\n",
       "    }\n",
       "\n",
       "    .dataframe tbody tr th {\n",
       "        vertical-align: top;\n",
       "    }\n",
       "\n",
       "    .dataframe thead th {\n",
       "        text-align: right;\n",
       "    }\n",
       "</style>\n",
       "<table border=\"1\" class=\"dataframe\">\n",
       "  <thead>\n",
       "    <tr style=\"text-align: right;\">\n",
       "      <th></th>\n",
       "      <th>pclass</th>\n",
       "      <th>survived</th>\n",
       "      <th>name</th>\n",
       "      <th>sex</th>\n",
       "      <th>age</th>\n",
       "      <th>sibsp</th>\n",
       "      <th>parch</th>\n",
       "      <th>ticket</th>\n",
       "      <th>fare</th>\n",
       "      <th>cabin</th>\n",
       "      <th>embarked</th>\n",
       "      <th>boat</th>\n",
       "      <th>body</th>\n",
       "      <th>home.dest</th>\n",
       "    </tr>\n",
       "  </thead>\n",
       "  <tbody>\n",
       "    <tr>\n",
       "      <th>14</th>\n",
       "      <td>1</td>\n",
       "      <td>1</td>\n",
       "      <td>Barkworth, Mr. Algernon Henry Wilson</td>\n",
       "      <td>male</td>\n",
       "      <td>80.0</td>\n",
       "      <td>0</td>\n",
       "      <td>0</td>\n",
       "      <td>27042</td>\n",
       "      <td>30.0000</td>\n",
       "      <td>A23</td>\n",
       "      <td>S</td>\n",
       "      <td>B</td>\n",
       "      <td>NaN</td>\n",
       "      <td>Hessle, Yorks</td>\n",
       "    </tr>\n",
       "    <tr>\n",
       "      <th>61</th>\n",
       "      <td>1</td>\n",
       "      <td>1</td>\n",
       "      <td>Cavendish, Mrs. Tyrell William (Julia Florence...</td>\n",
       "      <td>female</td>\n",
       "      <td>76.0</td>\n",
       "      <td>1</td>\n",
       "      <td>0</td>\n",
       "      <td>19877</td>\n",
       "      <td>78.8500</td>\n",
       "      <td>C46</td>\n",
       "      <td>S</td>\n",
       "      <td>6</td>\n",
       "      <td>NaN</td>\n",
       "      <td>Little Onn Hall, Staffs</td>\n",
       "    </tr>\n",
       "    <tr>\n",
       "      <th>1235</th>\n",
       "      <td>3</td>\n",
       "      <td>0</td>\n",
       "      <td>Svensson, Mr. Johan</td>\n",
       "      <td>male</td>\n",
       "      <td>74.0</td>\n",
       "      <td>0</td>\n",
       "      <td>0</td>\n",
       "      <td>347060</td>\n",
       "      <td>7.7750</td>\n",
       "      <td>NaN</td>\n",
       "      <td>S</td>\n",
       "      <td>NaN</td>\n",
       "      <td>NaN</td>\n",
       "      <td>NaN</td>\n",
       "    </tr>\n",
       "    <tr>\n",
       "      <th>135</th>\n",
       "      <td>1</td>\n",
       "      <td>0</td>\n",
       "      <td>Goldschmidt, Mr. George B</td>\n",
       "      <td>male</td>\n",
       "      <td>71.0</td>\n",
       "      <td>0</td>\n",
       "      <td>0</td>\n",
       "      <td>PC 17754</td>\n",
       "      <td>34.6542</td>\n",
       "      <td>A5</td>\n",
       "      <td>C</td>\n",
       "      <td>NaN</td>\n",
       "      <td>NaN</td>\n",
       "      <td>New York, NY</td>\n",
       "    </tr>\n",
       "    <tr>\n",
       "      <th>9</th>\n",
       "      <td>1</td>\n",
       "      <td>0</td>\n",
       "      <td>Artagaveytia, Mr. Ramon</td>\n",
       "      <td>male</td>\n",
       "      <td>71.0</td>\n",
       "      <td>0</td>\n",
       "      <td>0</td>\n",
       "      <td>PC 17609</td>\n",
       "      <td>49.5042</td>\n",
       "      <td>NaN</td>\n",
       "      <td>C</td>\n",
       "      <td>NaN</td>\n",
       "      <td>22.0</td>\n",
       "      <td>Montevideo, Uruguay</td>\n",
       "    </tr>\n",
       "  </tbody>\n",
       "</table>\n",
       "</div>"
      ],
      "text/plain": [
       "      pclass  survived                                               name  \\\n",
       "14         1         1               Barkworth, Mr. Algernon Henry Wilson   \n",
       "61         1         1  Cavendish, Mrs. Tyrell William (Julia Florence...   \n",
       "1235       3         0                                Svensson, Mr. Johan   \n",
       "135        1         0                          Goldschmidt, Mr. George B   \n",
       "9          1         0                            Artagaveytia, Mr. Ramon   \n",
       "\n",
       "         sex   age  sibsp  parch    ticket     fare cabin embarked boat  body  \\\n",
       "14      male  80.0      0      0     27042  30.0000   A23        S    B   NaN   \n",
       "61    female  76.0      1      0     19877  78.8500   C46        S    6   NaN   \n",
       "1235    male  74.0      0      0    347060   7.7750   NaN        S  NaN   NaN   \n",
       "135     male  71.0      0      0  PC 17754  34.6542    A5        C  NaN   NaN   \n",
       "9       male  71.0      0      0  PC 17609  49.5042   NaN        C  NaN  22.0   \n",
       "\n",
       "                    home.dest  \n",
       "14              Hessle, Yorks  \n",
       "61    Little Onn Hall, Staffs  \n",
       "1235                      NaN  \n",
       "135              New York, NY  \n",
       "9         Montevideo, Uruguay  "
      ]
     },
     "execution_count": 149,
     "metadata": {},
     "output_type": "execute_result"
    }
   ],
   "source": [
    "# for decending\n",
    "\n",
    "titanic.sort_valsues(by = \"age\",ascending = False).head()"
   ]
  },
  {
   "cell_type": "code",
   "execution_count": 153,
   "id": "0e0083ca",
   "metadata": {},
   "outputs": [
    {
     "data": {
      "text/html": [
       "<div>\n",
       "<style scoped>\n",
       "    .dataframe tbody tr th:only-of-type {\n",
       "        vertical-align: middle;\n",
       "    }\n",
       "\n",
       "    .dataframe tbody tr th {\n",
       "        vertical-align: top;\n",
       "    }\n",
       "\n",
       "    .dataframe thead th {\n",
       "        text-align: right;\n",
       "    }\n",
       "</style>\n",
       "<table border=\"1\" class=\"dataframe\">\n",
       "  <thead>\n",
       "    <tr style=\"text-align: right;\">\n",
       "      <th></th>\n",
       "      <th>pclass</th>\n",
       "      <th>survived</th>\n",
       "      <th>name</th>\n",
       "      <th>sex</th>\n",
       "      <th>age</th>\n",
       "      <th>sibsp</th>\n",
       "      <th>parch</th>\n",
       "      <th>ticket</th>\n",
       "      <th>fare</th>\n",
       "      <th>cabin</th>\n",
       "      <th>embarked</th>\n",
       "      <th>boat</th>\n",
       "      <th>body</th>\n",
       "      <th>home.dest</th>\n",
       "    </tr>\n",
       "  </thead>\n",
       "  <tbody>\n",
       "    <tr>\n",
       "      <th>763</th>\n",
       "      <td>3</td>\n",
       "      <td>1</td>\n",
       "      <td>Dean, Miss. Elizabeth Gladys \"Millvina\"</td>\n",
       "      <td>female</td>\n",
       "      <td>0.17</td>\n",
       "      <td>1</td>\n",
       "      <td>2</td>\n",
       "      <td>C.A. 2315</td>\n",
       "      <td>20.5750</td>\n",
       "      <td>NaN</td>\n",
       "      <td>S</td>\n",
       "      <td>10</td>\n",
       "      <td>NaN</td>\n",
       "      <td>Devon, England Wichita, KS</td>\n",
       "    </tr>\n",
       "    <tr>\n",
       "      <th>747</th>\n",
       "      <td>3</td>\n",
       "      <td>0</td>\n",
       "      <td>Danbom, Master. Gilbert Sigvard Emanuel</td>\n",
       "      <td>male</td>\n",
       "      <td>0.33</td>\n",
       "      <td>0</td>\n",
       "      <td>2</td>\n",
       "      <td>347080</td>\n",
       "      <td>14.4000</td>\n",
       "      <td>NaN</td>\n",
       "      <td>S</td>\n",
       "      <td>NaN</td>\n",
       "      <td>NaN</td>\n",
       "      <td>Stanton, IA</td>\n",
       "    </tr>\n",
       "    <tr>\n",
       "      <th>1240</th>\n",
       "      <td>3</td>\n",
       "      <td>1</td>\n",
       "      <td>Thomas, Master. Assad Alexander</td>\n",
       "      <td>male</td>\n",
       "      <td>0.42</td>\n",
       "      <td>0</td>\n",
       "      <td>1</td>\n",
       "      <td>2625</td>\n",
       "      <td>8.5167</td>\n",
       "      <td>NaN</td>\n",
       "      <td>C</td>\n",
       "      <td>16</td>\n",
       "      <td>NaN</td>\n",
       "      <td>NaN</td>\n",
       "    </tr>\n",
       "    <tr>\n",
       "      <th>427</th>\n",
       "      <td>2</td>\n",
       "      <td>1</td>\n",
       "      <td>Hamalainen, Master. Viljo</td>\n",
       "      <td>male</td>\n",
       "      <td>0.67</td>\n",
       "      <td>1</td>\n",
       "      <td>1</td>\n",
       "      <td>250649</td>\n",
       "      <td>14.5000</td>\n",
       "      <td>NaN</td>\n",
       "      <td>S</td>\n",
       "      <td>4</td>\n",
       "      <td>NaN</td>\n",
       "      <td>Detroit, MI</td>\n",
       "    </tr>\n",
       "    <tr>\n",
       "      <th>657</th>\n",
       "      <td>3</td>\n",
       "      <td>1</td>\n",
       "      <td>Baclini, Miss. Eugenie</td>\n",
       "      <td>female</td>\n",
       "      <td>0.75</td>\n",
       "      <td>2</td>\n",
       "      <td>1</td>\n",
       "      <td>2666</td>\n",
       "      <td>19.2583</td>\n",
       "      <td>NaN</td>\n",
       "      <td>C</td>\n",
       "      <td>C</td>\n",
       "      <td>NaN</td>\n",
       "      <td>Syria New York, NY</td>\n",
       "    </tr>\n",
       "  </tbody>\n",
       "</table>\n",
       "</div>"
      ],
      "text/plain": [
       "      pclass  survived                                     name     sex   age  \\\n",
       "763        3         1  Dean, Miss. Elizabeth Gladys \"Millvina\"  female  0.17   \n",
       "747        3         0  Danbom, Master. Gilbert Sigvard Emanuel    male  0.33   \n",
       "1240       3         1          Thomas, Master. Assad Alexander    male  0.42   \n",
       "427        2         1                Hamalainen, Master. Viljo    male  0.67   \n",
       "657        3         1                   Baclini, Miss. Eugenie  female  0.75   \n",
       "\n",
       "      sibsp  parch     ticket     fare cabin embarked boat  body  \\\n",
       "763       1      2  C.A. 2315  20.5750   NaN        S   10   NaN   \n",
       "747       0      2     347080  14.4000   NaN        S  NaN   NaN   \n",
       "1240      0      1       2625   8.5167   NaN        C   16   NaN   \n",
       "427       1      1     250649  14.5000   NaN        S    4   NaN   \n",
       "657       2      1       2666  19.2583   NaN        C    C   NaN   \n",
       "\n",
       "                       home.dest  \n",
       "763   Devon, England Wichita, KS  \n",
       "747                  Stanton, IA  \n",
       "1240                         NaN  \n",
       "427                  Detroit, MI  \n",
       "657           Syria New York, NY  "
      ]
     },
     "execution_count": 153,
     "metadata": {},
     "output_type": "execute_result"
    }
   ],
   "source": [
    "# sorting based on two arguements\n",
    "titanic.sort_values(by =[\"age\",\"pclass\"]).head()"
   ]
  },
  {
   "cell_type": "markdown",
   "id": "ba5446da",
   "metadata": {},
   "source": [
    "# missing value imputation\n",
    "1. drop all records where mising value is present, loss of records happen ( upto 5-10% loss of record is accepted , but more is 10 % is not accepted )\n",
    "2. impute them or replace them with some mean or median or mode"
   ]
  },
  {
   "cell_type": "code",
   "execution_count": 8,
   "id": "e48f7356",
   "metadata": {},
   "outputs": [
    {
     "data": {
      "text/html": [
       "<div>\n",
       "<style scoped>\n",
       "    .dataframe tbody tr th:only-of-type {\n",
       "        vertical-align: middle;\n",
       "    }\n",
       "\n",
       "    .dataframe tbody tr th {\n",
       "        vertical-align: top;\n",
       "    }\n",
       "\n",
       "    .dataframe thead th {\n",
       "        text-align: right;\n",
       "    }\n",
       "</style>\n",
       "<table border=\"1\" class=\"dataframe\">\n",
       "  <thead>\n",
       "    <tr style=\"text-align: right;\">\n",
       "      <th></th>\n",
       "      <th>mon</th>\n",
       "      <th>dom</th>\n",
       "      <th>dow</th>\n",
       "      <th>carrier</th>\n",
       "      <th>flight</th>\n",
       "      <th>org</th>\n",
       "      <th>mile</th>\n",
       "      <th>depart</th>\n",
       "      <th>duration</th>\n",
       "      <th>delay</th>\n",
       "    </tr>\n",
       "  </thead>\n",
       "  <tbody>\n",
       "    <tr>\n",
       "      <th>0</th>\n",
       "      <td>11</td>\n",
       "      <td>20</td>\n",
       "      <td>6</td>\n",
       "      <td>US</td>\n",
       "      <td>19</td>\n",
       "      <td>JFK</td>\n",
       "      <td>2153</td>\n",
       "      <td>9.48</td>\n",
       "      <td>351</td>\n",
       "      <td>NaN</td>\n",
       "    </tr>\n",
       "    <tr>\n",
       "      <th>1</th>\n",
       "      <td>0</td>\n",
       "      <td>22</td>\n",
       "      <td>2</td>\n",
       "      <td>UA</td>\n",
       "      <td>1107</td>\n",
       "      <td>ORD</td>\n",
       "      <td>316</td>\n",
       "      <td>16.33</td>\n",
       "      <td>82</td>\n",
       "      <td>30.0</td>\n",
       "    </tr>\n",
       "    <tr>\n",
       "      <th>2</th>\n",
       "      <td>2</td>\n",
       "      <td>20</td>\n",
       "      <td>4</td>\n",
       "      <td>UA</td>\n",
       "      <td>226</td>\n",
       "      <td>SFO</td>\n",
       "      <td>337</td>\n",
       "      <td>6.17</td>\n",
       "      <td>82</td>\n",
       "      <td>-8.0</td>\n",
       "    </tr>\n",
       "    <tr>\n",
       "      <th>3</th>\n",
       "      <td>9</td>\n",
       "      <td>13</td>\n",
       "      <td>1</td>\n",
       "      <td>AA</td>\n",
       "      <td>419</td>\n",
       "      <td>ORD</td>\n",
       "      <td>1236</td>\n",
       "      <td>10.33</td>\n",
       "      <td>195</td>\n",
       "      <td>-5.0</td>\n",
       "    </tr>\n",
       "    <tr>\n",
       "      <th>4</th>\n",
       "      <td>4</td>\n",
       "      <td>2</td>\n",
       "      <td>5</td>\n",
       "      <td>AA</td>\n",
       "      <td>325</td>\n",
       "      <td>ORD</td>\n",
       "      <td>258</td>\n",
       "      <td>8.92</td>\n",
       "      <td>65</td>\n",
       "      <td>NaN</td>\n",
       "    </tr>\n",
       "    <tr>\n",
       "      <th>...</th>\n",
       "      <td>...</td>\n",
       "      <td>...</td>\n",
       "      <td>...</td>\n",
       "      <td>...</td>\n",
       "      <td>...</td>\n",
       "      <td>...</td>\n",
       "      <td>...</td>\n",
       "      <td>...</td>\n",
       "      <td>...</td>\n",
       "      <td>...</td>\n",
       "    </tr>\n",
       "    <tr>\n",
       "      <th>49995</th>\n",
       "      <td>9</td>\n",
       "      <td>8</td>\n",
       "      <td>3</td>\n",
       "      <td>OO</td>\n",
       "      <td>6529</td>\n",
       "      <td>ORD</td>\n",
       "      <td>109</td>\n",
       "      <td>13.08</td>\n",
       "      <td>55</td>\n",
       "      <td>40.0</td>\n",
       "    </tr>\n",
       "    <tr>\n",
       "      <th>49996</th>\n",
       "      <td>1</td>\n",
       "      <td>27</td>\n",
       "      <td>3</td>\n",
       "      <td>AA</td>\n",
       "      <td>194</td>\n",
       "      <td>SFO</td>\n",
       "      <td>2704</td>\n",
       "      <td>14.42</td>\n",
       "      <td>325</td>\n",
       "      <td>24.0</td>\n",
       "    </tr>\n",
       "    <tr>\n",
       "      <th>49997</th>\n",
       "      <td>10</td>\n",
       "      <td>21</td>\n",
       "      <td>5</td>\n",
       "      <td>UA</td>\n",
       "      <td>520</td>\n",
       "      <td>ORD</td>\n",
       "      <td>783</td>\n",
       "      <td>8.23</td>\n",
       "      <td>124</td>\n",
       "      <td>-13.0</td>\n",
       "    </tr>\n",
       "    <tr>\n",
       "      <th>49998</th>\n",
       "      <td>3</td>\n",
       "      <td>20</td>\n",
       "      <td>0</td>\n",
       "      <td>UA</td>\n",
       "      <td>835</td>\n",
       "      <td>LGA</td>\n",
       "      <td>733</td>\n",
       "      <td>8.00</td>\n",
       "      <td>150</td>\n",
       "      <td>25.0</td>\n",
       "    </tr>\n",
       "    <tr>\n",
       "      <th>49999</th>\n",
       "      <td>1</td>\n",
       "      <td>17</td>\n",
       "      <td>0</td>\n",
       "      <td>UA</td>\n",
       "      <td>766</td>\n",
       "      <td>ORD</td>\n",
       "      <td>622</td>\n",
       "      <td>21.00</td>\n",
       "      <td>103</td>\n",
       "      <td>19.0</td>\n",
       "    </tr>\n",
       "  </tbody>\n",
       "</table>\n",
       "<p>50000 rows × 10 columns</p>\n",
       "</div>"
      ],
      "text/plain": [
       "       mon  dom  dow carrier  flight  org  mile  depart  duration  delay\n",
       "0       11   20    6      US      19  JFK  2153    9.48       351    NaN\n",
       "1        0   22    2      UA    1107  ORD   316   16.33        82   30.0\n",
       "2        2   20    4      UA     226  SFO   337    6.17        82   -8.0\n",
       "3        9   13    1      AA     419  ORD  1236   10.33       195   -5.0\n",
       "4        4    2    5      AA     325  ORD   258    8.92        65    NaN\n",
       "...    ...  ...  ...     ...     ...  ...   ...     ...       ...    ...\n",
       "49995    9    8    3      OO    6529  ORD   109   13.08        55   40.0\n",
       "49996    1   27    3      AA     194  SFO  2704   14.42       325   24.0\n",
       "49997   10   21    5      UA     520  ORD   783    8.23       124  -13.0\n",
       "49998    3   20    0      UA     835  LGA   733    8.00       150   25.0\n",
       "49999    1   17    0      UA     766  ORD   622   21.00       103   19.0\n",
       "\n",
       "[50000 rows x 10 columns]"
      ]
     },
     "execution_count": 8,
     "metadata": {},
     "output_type": "execute_result"
    }
   ],
   "source": [
    "import pandas as pd\n",
    "df = pd.read_csv(\"flights.csv\")\n",
    "df"
   ]
  },
  {
   "cell_type": "code",
   "execution_count": 9,
   "id": "c1013ac3",
   "metadata": {
    "scrolled": true
   },
   "outputs": [
    {
     "name": "stdout",
     "output_type": "stream",
     "text": [
      "<class 'pandas.core.frame.DataFrame'>\n",
      "RangeIndex: 50000 entries, 0 to 49999\n",
      "Data columns (total 10 columns):\n",
      " #   Column    Non-Null Count  Dtype  \n",
      "---  ------    --------------  -----  \n",
      " 0   mon       50000 non-null  int64  \n",
      " 1   dom       50000 non-null  int64  \n",
      " 2   dow       50000 non-null  int64  \n",
      " 3   carrier   50000 non-null  object \n",
      " 4   flight    50000 non-null  int64  \n",
      " 5   org       50000 non-null  object \n",
      " 6   mile      50000 non-null  int64  \n",
      " 7   depart    50000 non-null  float64\n",
      " 8   duration  50000 non-null  int64  \n",
      " 9   delay     47022 non-null  float64\n",
      "dtypes: float64(2), int64(6), object(2)\n",
      "memory usage: 3.8+ MB\n"
     ]
    }
   ],
   "source": [
    "df.info()"
   ]
  },
  {
   "cell_type": "code",
   "execution_count": 10,
   "id": "a9b40c50",
   "metadata": {},
   "outputs": [
    {
     "data": {
      "text/plain": [
       "mon         False\n",
       "dom         False\n",
       "dow         False\n",
       "carrier     False\n",
       "flight      False\n",
       "org         False\n",
       "mile        False\n",
       "depart      False\n",
       "duration    False\n",
       "delay        True\n",
       "dtype: bool"
      ]
     },
     "execution_count": 10,
     "metadata": {},
     "output_type": "execute_result"
    }
   ],
   "source": [
    "df.isna().any()    # it prints true if any column has missing values"
   ]
  },
  {
   "cell_type": "code",
   "execution_count": 11,
   "id": "07f53a06",
   "metadata": {},
   "outputs": [
    {
     "data": {
      "text/html": [
       "<div>\n",
       "<style scoped>\n",
       "    .dataframe tbody tr th:only-of-type {\n",
       "        vertical-align: middle;\n",
       "    }\n",
       "\n",
       "    .dataframe tbody tr th {\n",
       "        vertical-align: top;\n",
       "    }\n",
       "\n",
       "    .dataframe thead th {\n",
       "        text-align: right;\n",
       "    }\n",
       "</style>\n",
       "<table border=\"1\" class=\"dataframe\">\n",
       "  <thead>\n",
       "    <tr style=\"text-align: right;\">\n",
       "      <th></th>\n",
       "      <th>mon</th>\n",
       "      <th>dom</th>\n",
       "      <th>dow</th>\n",
       "      <th>mile</th>\n",
       "      <th>depart</th>\n",
       "      <th>duration</th>\n",
       "      <th>delay</th>\n",
       "    </tr>\n",
       "  </thead>\n",
       "  <tbody>\n",
       "    <tr>\n",
       "      <th>0</th>\n",
       "      <td>11</td>\n",
       "      <td>20</td>\n",
       "      <td>6</td>\n",
       "      <td>2153</td>\n",
       "      <td>9.48</td>\n",
       "      <td>351</td>\n",
       "      <td>NaN</td>\n",
       "    </tr>\n",
       "    <tr>\n",
       "      <th>1</th>\n",
       "      <td>0</td>\n",
       "      <td>22</td>\n",
       "      <td>2</td>\n",
       "      <td>316</td>\n",
       "      <td>16.33</td>\n",
       "      <td>82</td>\n",
       "      <td>30.0</td>\n",
       "    </tr>\n",
       "    <tr>\n",
       "      <th>2</th>\n",
       "      <td>2</td>\n",
       "      <td>20</td>\n",
       "      <td>4</td>\n",
       "      <td>337</td>\n",
       "      <td>6.17</td>\n",
       "      <td>82</td>\n",
       "      <td>-8.0</td>\n",
       "    </tr>\n",
       "    <tr>\n",
       "      <th>3</th>\n",
       "      <td>9</td>\n",
       "      <td>13</td>\n",
       "      <td>1</td>\n",
       "      <td>1236</td>\n",
       "      <td>10.33</td>\n",
       "      <td>195</td>\n",
       "      <td>-5.0</td>\n",
       "    </tr>\n",
       "    <tr>\n",
       "      <th>4</th>\n",
       "      <td>4</td>\n",
       "      <td>2</td>\n",
       "      <td>5</td>\n",
       "      <td>258</td>\n",
       "      <td>8.92</td>\n",
       "      <td>65</td>\n",
       "      <td>NaN</td>\n",
       "    </tr>\n",
       "  </tbody>\n",
       "</table>\n",
       "</div>"
      ],
      "text/plain": [
       "   mon  dom  dow  mile  depart  duration  delay\n",
       "0   11   20    6  2153    9.48       351    NaN\n",
       "1    0   22    2   316   16.33        82   30.0\n",
       "2    2   20    4   337    6.17        82   -8.0\n",
       "3    9   13    1  1236   10.33       195   -5.0\n",
       "4    4    2    5   258    8.92        65    NaN"
      ]
     },
     "execution_count": 11,
     "metadata": {},
     "output_type": "execute_result"
    }
   ],
   "source": [
    "#drop columns \n",
    "df = df.drop(columns = [\"flight\",\"carrier\",\"org\"])\n",
    "df.head()"
   ]
  },
  {
   "cell_type": "code",
   "execution_count": 12,
   "id": "dfa13f39",
   "metadata": {},
   "outputs": [
    {
     "data": {
      "text/html": [
       "<div>\n",
       "<style scoped>\n",
       "    .dataframe tbody tr th:only-of-type {\n",
       "        vertical-align: middle;\n",
       "    }\n",
       "\n",
       "    .dataframe tbody tr th {\n",
       "        vertical-align: top;\n",
       "    }\n",
       "\n",
       "    .dataframe thead th {\n",
       "        text-align: right;\n",
       "    }\n",
       "</style>\n",
       "<table border=\"1\" class=\"dataframe\">\n",
       "  <thead>\n",
       "    <tr style=\"text-align: right;\">\n",
       "      <th></th>\n",
       "      <th>mon</th>\n",
       "      <th>dom</th>\n",
       "      <th>dow</th>\n",
       "      <th>mile</th>\n",
       "      <th>depart</th>\n",
       "      <th>duration</th>\n",
       "      <th>delay</th>\n",
       "    </tr>\n",
       "  </thead>\n",
       "  <tbody>\n",
       "    <tr>\n",
       "      <th>0</th>\n",
       "      <td>11</td>\n",
       "      <td>20</td>\n",
       "      <td>6</td>\n",
       "      <td>2153</td>\n",
       "      <td>9.48</td>\n",
       "      <td>351</td>\n",
       "      <td>NaN</td>\n",
       "    </tr>\n",
       "    <tr>\n",
       "      <th>1</th>\n",
       "      <td>0</td>\n",
       "      <td>22</td>\n",
       "      <td>2</td>\n",
       "      <td>316</td>\n",
       "      <td>16.33</td>\n",
       "      <td>82</td>\n",
       "      <td>30.0</td>\n",
       "    </tr>\n",
       "    <tr>\n",
       "      <th>2</th>\n",
       "      <td>2</td>\n",
       "      <td>20</td>\n",
       "      <td>4</td>\n",
       "      <td>337</td>\n",
       "      <td>6.17</td>\n",
       "      <td>82</td>\n",
       "      <td>-8.0</td>\n",
       "    </tr>\n",
       "    <tr>\n",
       "      <th>3</th>\n",
       "      <td>9</td>\n",
       "      <td>13</td>\n",
       "      <td>1</td>\n",
       "      <td>1236</td>\n",
       "      <td>10.33</td>\n",
       "      <td>195</td>\n",
       "      <td>-5.0</td>\n",
       "    </tr>\n",
       "    <tr>\n",
       "      <th>4</th>\n",
       "      <td>4</td>\n",
       "      <td>2</td>\n",
       "      <td>5</td>\n",
       "      <td>258</td>\n",
       "      <td>8.92</td>\n",
       "      <td>65</td>\n",
       "      <td>NaN</td>\n",
       "    </tr>\n",
       "    <tr>\n",
       "      <th>5</th>\n",
       "      <td>5</td>\n",
       "      <td>2</td>\n",
       "      <td>1</td>\n",
       "      <td>550</td>\n",
       "      <td>7.98</td>\n",
       "      <td>102</td>\n",
       "      <td>2.0</td>\n",
       "    </tr>\n",
       "    <tr>\n",
       "      <th>6</th>\n",
       "      <td>7</td>\n",
       "      <td>2</td>\n",
       "      <td>6</td>\n",
       "      <td>733</td>\n",
       "      <td>10.83</td>\n",
       "      <td>135</td>\n",
       "      <td>54.0</td>\n",
       "    </tr>\n",
       "    <tr>\n",
       "      <th>7</th>\n",
       "      <td>1</td>\n",
       "      <td>16</td>\n",
       "      <td>6</td>\n",
       "      <td>1440</td>\n",
       "      <td>8.00</td>\n",
       "      <td>232</td>\n",
       "      <td>-7.0</td>\n",
       "    </tr>\n",
       "    <tr>\n",
       "      <th>8</th>\n",
       "      <td>1</td>\n",
       "      <td>22</td>\n",
       "      <td>5</td>\n",
       "      <td>1829</td>\n",
       "      <td>7.98</td>\n",
       "      <td>250</td>\n",
       "      <td>-13.0</td>\n",
       "    </tr>\n",
       "    <tr>\n",
       "      <th>9</th>\n",
       "      <td>11</td>\n",
       "      <td>8</td>\n",
       "      <td>1</td>\n",
       "      <td>158</td>\n",
       "      <td>7.77</td>\n",
       "      <td>60</td>\n",
       "      <td>88.0</td>\n",
       "    </tr>\n",
       "    <tr>\n",
       "      <th>10</th>\n",
       "      <td>4</td>\n",
       "      <td>26</td>\n",
       "      <td>1</td>\n",
       "      <td>1464</td>\n",
       "      <td>13.25</td>\n",
       "      <td>210</td>\n",
       "      <td>-10.0</td>\n",
       "    </tr>\n",
       "    <tr>\n",
       "      <th>11</th>\n",
       "      <td>4</td>\n",
       "      <td>25</td>\n",
       "      <td>0</td>\n",
       "      <td>978</td>\n",
       "      <td>13.75</td>\n",
       "      <td>160</td>\n",
       "      <td>31.0</td>\n",
       "    </tr>\n",
       "    <tr>\n",
       "      <th>12</th>\n",
       "      <td>8</td>\n",
       "      <td>30</td>\n",
       "      <td>2</td>\n",
       "      <td>719</td>\n",
       "      <td>13.28</td>\n",
       "      <td>151</td>\n",
       "      <td>16.0</td>\n",
       "    </tr>\n",
       "    <tr>\n",
       "      <th>13</th>\n",
       "      <td>3</td>\n",
       "      <td>16</td>\n",
       "      <td>3</td>\n",
       "      <td>1745</td>\n",
       "      <td>9.00</td>\n",
       "      <td>264</td>\n",
       "      <td>3.0</td>\n",
       "    </tr>\n",
       "    <tr>\n",
       "      <th>14</th>\n",
       "      <td>0</td>\n",
       "      <td>3</td>\n",
       "      <td>4</td>\n",
       "      <td>1097</td>\n",
       "      <td>17.08</td>\n",
       "      <td>190</td>\n",
       "      <td>32.0</td>\n",
       "    </tr>\n",
       "    <tr>\n",
       "      <th>15</th>\n",
       "      <td>5</td>\n",
       "      <td>9</td>\n",
       "      <td>1</td>\n",
       "      <td>967</td>\n",
       "      <td>12.70</td>\n",
       "      <td>158</td>\n",
       "      <td>20.0</td>\n",
       "    </tr>\n",
       "    <tr>\n",
       "      <th>16</th>\n",
       "      <td>3</td>\n",
       "      <td>10</td>\n",
       "      <td>4</td>\n",
       "      <td>1735</td>\n",
       "      <td>17.58</td>\n",
       "      <td>265</td>\n",
       "      <td>155.0</td>\n",
       "    </tr>\n",
       "    <tr>\n",
       "      <th>17</th>\n",
       "      <td>11</td>\n",
       "      <td>15</td>\n",
       "      <td>1</td>\n",
       "      <td>802</td>\n",
       "      <td>6.75</td>\n",
       "      <td>160</td>\n",
       "      <td>23.0</td>\n",
       "    </tr>\n",
       "    <tr>\n",
       "      <th>18</th>\n",
       "      <td>8</td>\n",
       "      <td>18</td>\n",
       "      <td>4</td>\n",
       "      <td>948</td>\n",
       "      <td>6.33</td>\n",
       "      <td>160</td>\n",
       "      <td>17.0</td>\n",
       "    </tr>\n",
       "    <tr>\n",
       "      <th>19</th>\n",
       "      <td>2</td>\n",
       "      <td>14</td>\n",
       "      <td>5</td>\n",
       "      <td>944</td>\n",
       "      <td>6.17</td>\n",
       "      <td>166</td>\n",
       "      <td>0.0</td>\n",
       "    </tr>\n",
       "  </tbody>\n",
       "</table>\n",
       "</div>"
      ],
      "text/plain": [
       "    mon  dom  dow  mile  depart  duration  delay\n",
       "0    11   20    6  2153    9.48       351    NaN\n",
       "1     0   22    2   316   16.33        82   30.0\n",
       "2     2   20    4   337    6.17        82   -8.0\n",
       "3     9   13    1  1236   10.33       195   -5.0\n",
       "4     4    2    5   258    8.92        65    NaN\n",
       "5     5    2    1   550    7.98       102    2.0\n",
       "6     7    2    6   733   10.83       135   54.0\n",
       "7     1   16    6  1440    8.00       232   -7.0\n",
       "8     1   22    5  1829    7.98       250  -13.0\n",
       "9    11    8    1   158    7.77        60   88.0\n",
       "10    4   26    1  1464   13.25       210  -10.0\n",
       "11    4   25    0   978   13.75       160   31.0\n",
       "12    8   30    2   719   13.28       151   16.0\n",
       "13    3   16    3  1745    9.00       264    3.0\n",
       "14    0    3    4  1097   17.08       190   32.0\n",
       "15    5    9    1   967   12.70       158   20.0\n",
       "16    3   10    4  1735   17.58       265  155.0\n",
       "17   11   15    1   802    6.75       160   23.0\n",
       "18    8   18    4   948    6.33       160   17.0\n",
       "19    2   14    5   944    6.17       166    0.0"
      ]
     },
     "execution_count": 12,
     "metadata": {},
     "output_type": "execute_result"
    }
   ],
   "source": [
    "df.head(20)"
   ]
  },
  {
   "cell_type": "code",
   "execution_count": 13,
   "id": "8921f082",
   "metadata": {},
   "outputs": [
    {
     "data": {
      "text/html": [
       "<div>\n",
       "<style scoped>\n",
       "    .dataframe tbody tr th:only-of-type {\n",
       "        vertical-align: middle;\n",
       "    }\n",
       "\n",
       "    .dataframe tbody tr th {\n",
       "        vertical-align: top;\n",
       "    }\n",
       "\n",
       "    .dataframe thead th {\n",
       "        text-align: right;\n",
       "    }\n",
       "</style>\n",
       "<table border=\"1\" class=\"dataframe\">\n",
       "  <thead>\n",
       "    <tr style=\"text-align: right;\">\n",
       "      <th></th>\n",
       "      <th>mon</th>\n",
       "      <th>dom</th>\n",
       "      <th>dow</th>\n",
       "      <th>mile</th>\n",
       "      <th>depart</th>\n",
       "      <th>duration</th>\n",
       "      <th>delay</th>\n",
       "    </tr>\n",
       "  </thead>\n",
       "  <tbody>\n",
       "    <tr>\n",
       "      <th>0</th>\n",
       "      <td>11</td>\n",
       "      <td>20</td>\n",
       "      <td>6.0</td>\n",
       "      <td>2153</td>\n",
       "      <td>9.48</td>\n",
       "      <td>351</td>\n",
       "      <td>NaN</td>\n",
       "    </tr>\n",
       "    <tr>\n",
       "      <th>1</th>\n",
       "      <td>0</td>\n",
       "      <td>22</td>\n",
       "      <td>2.0</td>\n",
       "      <td>316</td>\n",
       "      <td>16.33</td>\n",
       "      <td>82</td>\n",
       "      <td>30.0</td>\n",
       "    </tr>\n",
       "    <tr>\n",
       "      <th>2</th>\n",
       "      <td>2</td>\n",
       "      <td>20</td>\n",
       "      <td>4.0</td>\n",
       "      <td>337</td>\n",
       "      <td>6.17</td>\n",
       "      <td>82</td>\n",
       "      <td>-8.0</td>\n",
       "    </tr>\n",
       "    <tr>\n",
       "      <th>3</th>\n",
       "      <td>9</td>\n",
       "      <td>13</td>\n",
       "      <td>1.0</td>\n",
       "      <td>1236</td>\n",
       "      <td>10.33</td>\n",
       "      <td>195</td>\n",
       "      <td>-5.0</td>\n",
       "    </tr>\n",
       "    <tr>\n",
       "      <th>4</th>\n",
       "      <td>4</td>\n",
       "      <td>2</td>\n",
       "      <td>5.0</td>\n",
       "      <td>258</td>\n",
       "      <td>8.92</td>\n",
       "      <td>65</td>\n",
       "      <td>NaN</td>\n",
       "    </tr>\n",
       "    <tr>\n",
       "      <th>5</th>\n",
       "      <td>5</td>\n",
       "      <td>2</td>\n",
       "      <td>1.0</td>\n",
       "      <td>550</td>\n",
       "      <td>7.98</td>\n",
       "      <td>102</td>\n",
       "      <td>2.0</td>\n",
       "    </tr>\n",
       "    <tr>\n",
       "      <th>6</th>\n",
       "      <td>7</td>\n",
       "      <td>2</td>\n",
       "      <td>6.0</td>\n",
       "      <td>733</td>\n",
       "      <td>10.83</td>\n",
       "      <td>135</td>\n",
       "      <td>54.0</td>\n",
       "    </tr>\n",
       "    <tr>\n",
       "      <th>7</th>\n",
       "      <td>1</td>\n",
       "      <td>16</td>\n",
       "      <td>6.0</td>\n",
       "      <td>1440</td>\n",
       "      <td>8.00</td>\n",
       "      <td>232</td>\n",
       "      <td>-7.0</td>\n",
       "    </tr>\n",
       "    <tr>\n",
       "      <th>8</th>\n",
       "      <td>1</td>\n",
       "      <td>22</td>\n",
       "      <td>5.0</td>\n",
       "      <td>1829</td>\n",
       "      <td>7.98</td>\n",
       "      <td>250</td>\n",
       "      <td>-13.0</td>\n",
       "    </tr>\n",
       "    <tr>\n",
       "      <th>9</th>\n",
       "      <td>11</td>\n",
       "      <td>8</td>\n",
       "      <td>1.0</td>\n",
       "      <td>158</td>\n",
       "      <td>7.77</td>\n",
       "      <td>60</td>\n",
       "      <td>88.0</td>\n",
       "    </tr>\n",
       "    <tr>\n",
       "      <th>10</th>\n",
       "      <td>4</td>\n",
       "      <td>26</td>\n",
       "      <td>1.0</td>\n",
       "      <td>1464</td>\n",
       "      <td>13.25</td>\n",
       "      <td>210</td>\n",
       "      <td>-10.0</td>\n",
       "    </tr>\n",
       "    <tr>\n",
       "      <th>11</th>\n",
       "      <td>4</td>\n",
       "      <td>25</td>\n",
       "      <td>NaN</td>\n",
       "      <td>978</td>\n",
       "      <td>13.75</td>\n",
       "      <td>160</td>\n",
       "      <td>31.0</td>\n",
       "    </tr>\n",
       "    <tr>\n",
       "      <th>12</th>\n",
       "      <td>8</td>\n",
       "      <td>30</td>\n",
       "      <td>2.0</td>\n",
       "      <td>719</td>\n",
       "      <td>13.28</td>\n",
       "      <td>151</td>\n",
       "      <td>16.0</td>\n",
       "    </tr>\n",
       "    <tr>\n",
       "      <th>13</th>\n",
       "      <td>3</td>\n",
       "      <td>16</td>\n",
       "      <td>3.0</td>\n",
       "      <td>1745</td>\n",
       "      <td>9.00</td>\n",
       "      <td>264</td>\n",
       "      <td>3.0</td>\n",
       "    </tr>\n",
       "    <tr>\n",
       "      <th>14</th>\n",
       "      <td>0</td>\n",
       "      <td>3</td>\n",
       "      <td>4.0</td>\n",
       "      <td>1097</td>\n",
       "      <td>17.08</td>\n",
       "      <td>190</td>\n",
       "      <td>32.0</td>\n",
       "    </tr>\n",
       "    <tr>\n",
       "      <th>15</th>\n",
       "      <td>5</td>\n",
       "      <td>9</td>\n",
       "      <td>1.0</td>\n",
       "      <td>967</td>\n",
       "      <td>12.70</td>\n",
       "      <td>158</td>\n",
       "      <td>20.0</td>\n",
       "    </tr>\n",
       "    <tr>\n",
       "      <th>16</th>\n",
       "      <td>3</td>\n",
       "      <td>10</td>\n",
       "      <td>4.0</td>\n",
       "      <td>1735</td>\n",
       "      <td>17.58</td>\n",
       "      <td>265</td>\n",
       "      <td>155.0</td>\n",
       "    </tr>\n",
       "    <tr>\n",
       "      <th>17</th>\n",
       "      <td>11</td>\n",
       "      <td>15</td>\n",
       "      <td>1.0</td>\n",
       "      <td>802</td>\n",
       "      <td>6.75</td>\n",
       "      <td>160</td>\n",
       "      <td>23.0</td>\n",
       "    </tr>\n",
       "    <tr>\n",
       "      <th>18</th>\n",
       "      <td>8</td>\n",
       "      <td>18</td>\n",
       "      <td>4.0</td>\n",
       "      <td>948</td>\n",
       "      <td>6.33</td>\n",
       "      <td>160</td>\n",
       "      <td>17.0</td>\n",
       "    </tr>\n",
       "    <tr>\n",
       "      <th>19</th>\n",
       "      <td>2</td>\n",
       "      <td>14</td>\n",
       "      <td>5.0</td>\n",
       "      <td>944</td>\n",
       "      <td>6.17</td>\n",
       "      <td>166</td>\n",
       "      <td>0.0</td>\n",
       "    </tr>\n",
       "  </tbody>\n",
       "</table>\n",
       "</div>"
      ],
      "text/plain": [
       "    mon  dom  dow  mile  depart  duration  delay\n",
       "0    11   20  6.0  2153    9.48       351    NaN\n",
       "1     0   22  2.0   316   16.33        82   30.0\n",
       "2     2   20  4.0   337    6.17        82   -8.0\n",
       "3     9   13  1.0  1236   10.33       195   -5.0\n",
       "4     4    2  5.0   258    8.92        65    NaN\n",
       "5     5    2  1.0   550    7.98       102    2.0\n",
       "6     7    2  6.0   733   10.83       135   54.0\n",
       "7     1   16  6.0  1440    8.00       232   -7.0\n",
       "8     1   22  5.0  1829    7.98       250  -13.0\n",
       "9    11    8  1.0   158    7.77        60   88.0\n",
       "10    4   26  1.0  1464   13.25       210  -10.0\n",
       "11    4   25  NaN   978   13.75       160   31.0\n",
       "12    8   30  2.0   719   13.28       151   16.0\n",
       "13    3   16  3.0  1745    9.00       264    3.0\n",
       "14    0    3  4.0  1097   17.08       190   32.0\n",
       "15    5    9  1.0   967   12.70       158   20.0\n",
       "16    3   10  4.0  1735   17.58       265  155.0\n",
       "17   11   15  1.0   802    6.75       160   23.0\n",
       "18    8   18  4.0   948    6.33       160   17.0\n",
       "19    2   14  5.0   944    6.17       166    0.0"
      ]
     },
     "execution_count": 13,
     "metadata": {},
     "output_type": "execute_result"
    }
   ],
   "source": [
    "# replacing 'zero( 0 )' with 'NaN'\n",
    "import numpy as np\n",
    "df.dow.replace(0,np.nan,inplace= True)\n",
    "df.head(20)"
   ]
  },
  {
   "cell_type": "code",
   "execution_count": 14,
   "id": "63cc6b06",
   "metadata": {},
   "outputs": [
    {
     "data": {
      "text/html": [
       "<div>\n",
       "<style scoped>\n",
       "    .dataframe tbody tr th:only-of-type {\n",
       "        vertical-align: middle;\n",
       "    }\n",
       "\n",
       "    .dataframe tbody tr th {\n",
       "        vertical-align: top;\n",
       "    }\n",
       "\n",
       "    .dataframe thead th {\n",
       "        text-align: right;\n",
       "    }\n",
       "</style>\n",
       "<table border=\"1\" class=\"dataframe\">\n",
       "  <thead>\n",
       "    <tr style=\"text-align: right;\">\n",
       "      <th></th>\n",
       "      <th>mon</th>\n",
       "      <th>dom</th>\n",
       "      <th>dow</th>\n",
       "      <th>mile</th>\n",
       "      <th>depart</th>\n",
       "      <th>duration</th>\n",
       "      <th>delay</th>\n",
       "    </tr>\n",
       "  </thead>\n",
       "  <tbody>\n",
       "    <tr>\n",
       "      <th>0</th>\n",
       "      <td>11.0</td>\n",
       "      <td>20</td>\n",
       "      <td>6.0</td>\n",
       "      <td>2153</td>\n",
       "      <td>9.48</td>\n",
       "      <td>351</td>\n",
       "      <td>NaN</td>\n",
       "    </tr>\n",
       "    <tr>\n",
       "      <th>1</th>\n",
       "      <td>NaN</td>\n",
       "      <td>22</td>\n",
       "      <td>2.0</td>\n",
       "      <td>316</td>\n",
       "      <td>16.33</td>\n",
       "      <td>82</td>\n",
       "      <td>30.0</td>\n",
       "    </tr>\n",
       "    <tr>\n",
       "      <th>2</th>\n",
       "      <td>2.0</td>\n",
       "      <td>20</td>\n",
       "      <td>4.0</td>\n",
       "      <td>337</td>\n",
       "      <td>6.17</td>\n",
       "      <td>82</td>\n",
       "      <td>-8.0</td>\n",
       "    </tr>\n",
       "    <tr>\n",
       "      <th>3</th>\n",
       "      <td>9.0</td>\n",
       "      <td>13</td>\n",
       "      <td>1.0</td>\n",
       "      <td>1236</td>\n",
       "      <td>10.33</td>\n",
       "      <td>195</td>\n",
       "      <td>-5.0</td>\n",
       "    </tr>\n",
       "    <tr>\n",
       "      <th>4</th>\n",
       "      <td>4.0</td>\n",
       "      <td>2</td>\n",
       "      <td>5.0</td>\n",
       "      <td>258</td>\n",
       "      <td>8.92</td>\n",
       "      <td>65</td>\n",
       "      <td>NaN</td>\n",
       "    </tr>\n",
       "    <tr>\n",
       "      <th>5</th>\n",
       "      <td>5.0</td>\n",
       "      <td>2</td>\n",
       "      <td>1.0</td>\n",
       "      <td>550</td>\n",
       "      <td>7.98</td>\n",
       "      <td>102</td>\n",
       "      <td>2.0</td>\n",
       "    </tr>\n",
       "    <tr>\n",
       "      <th>6</th>\n",
       "      <td>7.0</td>\n",
       "      <td>2</td>\n",
       "      <td>6.0</td>\n",
       "      <td>733</td>\n",
       "      <td>10.83</td>\n",
       "      <td>135</td>\n",
       "      <td>54.0</td>\n",
       "    </tr>\n",
       "    <tr>\n",
       "      <th>7</th>\n",
       "      <td>1.0</td>\n",
       "      <td>16</td>\n",
       "      <td>6.0</td>\n",
       "      <td>1440</td>\n",
       "      <td>8.00</td>\n",
       "      <td>232</td>\n",
       "      <td>-7.0</td>\n",
       "    </tr>\n",
       "    <tr>\n",
       "      <th>8</th>\n",
       "      <td>1.0</td>\n",
       "      <td>22</td>\n",
       "      <td>5.0</td>\n",
       "      <td>1829</td>\n",
       "      <td>7.98</td>\n",
       "      <td>250</td>\n",
       "      <td>-13.0</td>\n",
       "    </tr>\n",
       "    <tr>\n",
       "      <th>9</th>\n",
       "      <td>11.0</td>\n",
       "      <td>8</td>\n",
       "      <td>1.0</td>\n",
       "      <td>158</td>\n",
       "      <td>7.77</td>\n",
       "      <td>60</td>\n",
       "      <td>88.0</td>\n",
       "    </tr>\n",
       "    <tr>\n",
       "      <th>10</th>\n",
       "      <td>4.0</td>\n",
       "      <td>26</td>\n",
       "      <td>1.0</td>\n",
       "      <td>1464</td>\n",
       "      <td>13.25</td>\n",
       "      <td>210</td>\n",
       "      <td>-10.0</td>\n",
       "    </tr>\n",
       "    <tr>\n",
       "      <th>11</th>\n",
       "      <td>4.0</td>\n",
       "      <td>25</td>\n",
       "      <td>NaN</td>\n",
       "      <td>978</td>\n",
       "      <td>13.75</td>\n",
       "      <td>160</td>\n",
       "      <td>31.0</td>\n",
       "    </tr>\n",
       "    <tr>\n",
       "      <th>12</th>\n",
       "      <td>8.0</td>\n",
       "      <td>30</td>\n",
       "      <td>2.0</td>\n",
       "      <td>719</td>\n",
       "      <td>13.28</td>\n",
       "      <td>151</td>\n",
       "      <td>16.0</td>\n",
       "    </tr>\n",
       "    <tr>\n",
       "      <th>13</th>\n",
       "      <td>3.0</td>\n",
       "      <td>16</td>\n",
       "      <td>3.0</td>\n",
       "      <td>1745</td>\n",
       "      <td>9.00</td>\n",
       "      <td>264</td>\n",
       "      <td>3.0</td>\n",
       "    </tr>\n",
       "    <tr>\n",
       "      <th>14</th>\n",
       "      <td>NaN</td>\n",
       "      <td>3</td>\n",
       "      <td>4.0</td>\n",
       "      <td>1097</td>\n",
       "      <td>17.08</td>\n",
       "      <td>190</td>\n",
       "      <td>32.0</td>\n",
       "    </tr>\n",
       "    <tr>\n",
       "      <th>15</th>\n",
       "      <td>5.0</td>\n",
       "      <td>9</td>\n",
       "      <td>1.0</td>\n",
       "      <td>967</td>\n",
       "      <td>12.70</td>\n",
       "      <td>158</td>\n",
       "      <td>20.0</td>\n",
       "    </tr>\n",
       "    <tr>\n",
       "      <th>16</th>\n",
       "      <td>3.0</td>\n",
       "      <td>10</td>\n",
       "      <td>4.0</td>\n",
       "      <td>1735</td>\n",
       "      <td>17.58</td>\n",
       "      <td>265</td>\n",
       "      <td>155.0</td>\n",
       "    </tr>\n",
       "    <tr>\n",
       "      <th>17</th>\n",
       "      <td>11.0</td>\n",
       "      <td>15</td>\n",
       "      <td>1.0</td>\n",
       "      <td>802</td>\n",
       "      <td>6.75</td>\n",
       "      <td>160</td>\n",
       "      <td>23.0</td>\n",
       "    </tr>\n",
       "    <tr>\n",
       "      <th>18</th>\n",
       "      <td>8.0</td>\n",
       "      <td>18</td>\n",
       "      <td>4.0</td>\n",
       "      <td>948</td>\n",
       "      <td>6.33</td>\n",
       "      <td>160</td>\n",
       "      <td>17.0</td>\n",
       "    </tr>\n",
       "    <tr>\n",
       "      <th>19</th>\n",
       "      <td>2.0</td>\n",
       "      <td>14</td>\n",
       "      <td>5.0</td>\n",
       "      <td>944</td>\n",
       "      <td>6.17</td>\n",
       "      <td>166</td>\n",
       "      <td>0.0</td>\n",
       "    </tr>\n",
       "  </tbody>\n",
       "</table>\n",
       "</div>"
      ],
      "text/plain": [
       "     mon  dom  dow  mile  depart  duration  delay\n",
       "0   11.0   20  6.0  2153    9.48       351    NaN\n",
       "1    NaN   22  2.0   316   16.33        82   30.0\n",
       "2    2.0   20  4.0   337    6.17        82   -8.0\n",
       "3    9.0   13  1.0  1236   10.33       195   -5.0\n",
       "4    4.0    2  5.0   258    8.92        65    NaN\n",
       "5    5.0    2  1.0   550    7.98       102    2.0\n",
       "6    7.0    2  6.0   733   10.83       135   54.0\n",
       "7    1.0   16  6.0  1440    8.00       232   -7.0\n",
       "8    1.0   22  5.0  1829    7.98       250  -13.0\n",
       "9   11.0    8  1.0   158    7.77        60   88.0\n",
       "10   4.0   26  1.0  1464   13.25       210  -10.0\n",
       "11   4.0   25  NaN   978   13.75       160   31.0\n",
       "12   8.0   30  2.0   719   13.28       151   16.0\n",
       "13   3.0   16  3.0  1745    9.00       264    3.0\n",
       "14   NaN    3  4.0  1097   17.08       190   32.0\n",
       "15   5.0    9  1.0   967   12.70       158   20.0\n",
       "16   3.0   10  4.0  1735   17.58       265  155.0\n",
       "17  11.0   15  1.0   802    6.75       160   23.0\n",
       "18   8.0   18  4.0   948    6.33       160   17.0\n",
       "19   2.0   14  5.0   944    6.17       166    0.0"
      ]
     },
     "execution_count": 14,
     "metadata": {},
     "output_type": "execute_result"
    }
   ],
   "source": [
    "df.mon.replace(0np.na,n,inplace = True)\n",
    "df.head(20)"
   ]
  },
  {
   "cell_type": "code",
   "execution_count": 15,
   "id": "7d4c3263",
   "metadata": {},
   "outputs": [
    {
     "data": {
      "text/plain": [
       "(36544, 7)"
      ]
     },
     "execution_count": 15,
     "metadata": {},
     "output_type": "execute_result"
    }
   ],
   "source": [
    "#dropping all the rows where missing values are present\n",
    "# not preferrable because there is a huge amount of loss of data , but can be used in the stock market data\n",
    "df_complete = df.dropna()\n",
    "df_complete.shape"
   ]
  },
  {
   "cell_type": "code",
   "execution_count": 40,
   "id": "22932bb0",
   "metadata": {},
   "outputs": [
    {
     "data": {
      "text/html": [
       "<div>\n",
       "<style scoped>\n",
       "    .dataframe tbody tr th:only-of-type {\n",
       "        vertical-align: middle;\n",
       "    }\n",
       "\n",
       "    .dataframe tbody tr th {\n",
       "        vertical-align: top;\n",
       "    }\n",
       "\n",
       "    .dataframe thead th {\n",
       "        text-align: right;\n",
       "    }\n",
       "</style>\n",
       "<table border=\"1\" class=\"dataframe\">\n",
       "  <thead>\n",
       "    <tr style=\"text-align: right;\">\n",
       "      <th></th>\n",
       "      <th>mon</th>\n",
       "      <th>dom</th>\n",
       "      <th>dow</th>\n",
       "      <th>carrier</th>\n",
       "      <th>flight</th>\n",
       "      <th>org</th>\n",
       "      <th>mile</th>\n",
       "      <th>depart</th>\n",
       "      <th>duration</th>\n",
       "      <th>delay</th>\n",
       "    </tr>\n",
       "  </thead>\n",
       "  <tbody>\n",
       "    <tr>\n",
       "      <th>0</th>\n",
       "      <td>11</td>\n",
       "      <td>20</td>\n",
       "      <td>6</td>\n",
       "      <td>US</td>\n",
       "      <td>19</td>\n",
       "      <td>JFK</td>\n",
       "      <td>2153</td>\n",
       "      <td>9.48</td>\n",
       "      <td>351</td>\n",
       "      <td>NaN</td>\n",
       "    </tr>\n",
       "    <tr>\n",
       "      <th>1</th>\n",
       "      <td>0</td>\n",
       "      <td>22</td>\n",
       "      <td>2</td>\n",
       "      <td>UA</td>\n",
       "      <td>1107</td>\n",
       "      <td>ORD</td>\n",
       "      <td>316</td>\n",
       "      <td>16.33</td>\n",
       "      <td>82</td>\n",
       "      <td>30.0</td>\n",
       "    </tr>\n",
       "    <tr>\n",
       "      <th>2</th>\n",
       "      <td>2</td>\n",
       "      <td>20</td>\n",
       "      <td>4</td>\n",
       "      <td>UA</td>\n",
       "      <td>226</td>\n",
       "      <td>SFO</td>\n",
       "      <td>337</td>\n",
       "      <td>6.17</td>\n",
       "      <td>82</td>\n",
       "      <td>-8.0</td>\n",
       "    </tr>\n",
       "    <tr>\n",
       "      <th>3</th>\n",
       "      <td>9</td>\n",
       "      <td>13</td>\n",
       "      <td>1</td>\n",
       "      <td>AA</td>\n",
       "      <td>419</td>\n",
       "      <td>ORD</td>\n",
       "      <td>1236</td>\n",
       "      <td>10.33</td>\n",
       "      <td>195</td>\n",
       "      <td>-5.0</td>\n",
       "    </tr>\n",
       "    <tr>\n",
       "      <th>4</th>\n",
       "      <td>4</td>\n",
       "      <td>2</td>\n",
       "      <td>5</td>\n",
       "      <td>AA</td>\n",
       "      <td>325</td>\n",
       "      <td>ORD</td>\n",
       "      <td>258</td>\n",
       "      <td>8.92</td>\n",
       "      <td>65</td>\n",
       "      <td>NaN</td>\n",
       "    </tr>\n",
       "    <tr>\n",
       "      <th>...</th>\n",
       "      <td>...</td>\n",
       "      <td>...</td>\n",
       "      <td>...</td>\n",
       "      <td>...</td>\n",
       "      <td>...</td>\n",
       "      <td>...</td>\n",
       "      <td>...</td>\n",
       "      <td>...</td>\n",
       "      <td>...</td>\n",
       "      <td>...</td>\n",
       "    </tr>\n",
       "    <tr>\n",
       "      <th>49995</th>\n",
       "      <td>9</td>\n",
       "      <td>8</td>\n",
       "      <td>3</td>\n",
       "      <td>OO</td>\n",
       "      <td>6529</td>\n",
       "      <td>ORD</td>\n",
       "      <td>109</td>\n",
       "      <td>13.08</td>\n",
       "      <td>55</td>\n",
       "      <td>40.0</td>\n",
       "    </tr>\n",
       "    <tr>\n",
       "      <th>49996</th>\n",
       "      <td>1</td>\n",
       "      <td>27</td>\n",
       "      <td>3</td>\n",
       "      <td>AA</td>\n",
       "      <td>194</td>\n",
       "      <td>SFO</td>\n",
       "      <td>2704</td>\n",
       "      <td>14.42</td>\n",
       "      <td>325</td>\n",
       "      <td>24.0</td>\n",
       "    </tr>\n",
       "    <tr>\n",
       "      <th>49997</th>\n",
       "      <td>10</td>\n",
       "      <td>21</td>\n",
       "      <td>5</td>\n",
       "      <td>UA</td>\n",
       "      <td>520</td>\n",
       "      <td>ORD</td>\n",
       "      <td>783</td>\n",
       "      <td>8.23</td>\n",
       "      <td>124</td>\n",
       "      <td>-13.0</td>\n",
       "    </tr>\n",
       "    <tr>\n",
       "      <th>49998</th>\n",
       "      <td>3</td>\n",
       "      <td>20</td>\n",
       "      <td>0</td>\n",
       "      <td>UA</td>\n",
       "      <td>835</td>\n",
       "      <td>LGA</td>\n",
       "      <td>733</td>\n",
       "      <td>8.00</td>\n",
       "      <td>150</td>\n",
       "      <td>25.0</td>\n",
       "    </tr>\n",
       "    <tr>\n",
       "      <th>49999</th>\n",
       "      <td>1</td>\n",
       "      <td>17</td>\n",
       "      <td>0</td>\n",
       "      <td>UA</td>\n",
       "      <td>766</td>\n",
       "      <td>ORD</td>\n",
       "      <td>622</td>\n",
       "      <td>21.00</td>\n",
       "      <td>103</td>\n",
       "      <td>19.0</td>\n",
       "    </tr>\n",
       "  </tbody>\n",
       "</table>\n",
       "<p>50000 rows × 10 columns</p>\n",
       "</div>"
      ],
      "text/plain": [
       "       mon  dom  dow carrier  flight  org  mile  depart  duration  delay\n",
       "0       11   20    6      US      19  JFK  2153    9.48       351    NaN\n",
       "1        0   22    2      UA    1107  ORD   316   16.33        82   30.0\n",
       "2        2   20    4      UA     226  SFO   337    6.17        82   -8.0\n",
       "3        9   13    1      AA     419  ORD  1236   10.33       195   -5.0\n",
       "4        4    2    5      AA     325  ORD   258    8.92        65    NaN\n",
       "...    ...  ...  ...     ...     ...  ...   ...     ...       ...    ...\n",
       "49995    9    8    3      OO    6529  ORD   109   13.08        55   40.0\n",
       "49996    1   27    3      AA     194  SFO  2704   14.42       325   24.0\n",
       "49997   10   21    5      UA     520  ORD   783    8.23       124  -13.0\n",
       "49998    3   20    0      UA     835  LGA   733    8.00       150   25.0\n",
       "49999    1   17    0      UA     766  ORD   622   21.00       103   19.0\n",
       "\n",
       "[50000 rows x 10 columns]"
      ]
     },
     "execution_count": 40,
     "metadata": {},
     "output_type": "execute_result"
    }
   ],
   "source": [
    "df = pd.read_csv(\"flights.csv\")\n",
    "df"
   ]
  },
  {
   "cell_type": "code",
   "execution_count": 41,
   "id": "52866540",
   "metadata": {},
   "outputs": [
    {
     "name": "stdout",
     "output_type": "stream",
     "text": [
      "        mon   dom  dow    mile  depart  duration  delay\n",
      "0      11.0  20.0  6.0  2153.0    9.48     351.0   16.0\n",
      "1       0.0  22.0  2.0   316.0   16.33      82.0   30.0\n",
      "2       2.0  20.0  4.0   337.0    6.17      82.0   -8.0\n",
      "3       9.0  13.0  1.0  1236.0   10.33     195.0   -5.0\n",
      "4       4.0   2.0  5.0   258.0    8.92      65.0   16.0\n",
      "...     ...   ...  ...     ...     ...       ...    ...\n",
      "49995   9.0   8.0  3.0   109.0   13.08      55.0   40.0\n",
      "49996   1.0  27.0  3.0  2704.0   14.42     325.0   24.0\n",
      "49997  10.0  21.0  5.0   783.0    8.23     124.0  -13.0\n",
      "49998   3.0  20.0  0.0   733.0    8.00     150.0   25.0\n",
      "49999   1.0  17.0  0.0   622.0   21.00     103.0   19.0\n",
      "\n",
      "[50000 rows x 7 columns]\n"
     ]
    }
   ],
   "source": [
    "# knowing which matrix to replace with NaN\n",
    "# quantitative - mean (if data doesnt have outliers or can remove outliers and then use mean) or use median\n",
    "# categorical - mode\n",
    "# constant : situational\n",
    "\n",
    "df = df.drop(columns = [\"flight\",\"carrier\",\"org\"])   # dropping these column because median desnt apply for non numeric data and some unnecessery columns\n",
    "\n",
    "# sklearn\n",
    "\n",
    "from sklearn.impute import SimpleImputer\n",
    "\n",
    "# make a copy of my data\n",
    "df_median = df.copy(deep = True)\n",
    "\n",
    "# create a median impute object\n",
    "median_imputer = SimpleImputer(strategy = 'median')\n",
    "\n",
    "# impute median valuesin df_median\n",
    "df_median.iloc[:,:]= median_imputer.fit_transform(df_median)\n",
    "print(df_median)"
   ]
  },
  {
   "cell_type": "code",
   "execution_count": 42,
   "id": "ef74f98a",
   "metadata": {},
   "outputs": [
    {
     "name": "stdout",
     "output_type": "stream",
     "text": [
      "        mon   dom  dow    mile  depart  duration      delay\n",
      "0      11.0  20.0  6.0  2153.0    9.48     351.0  28.663796\n",
      "1       0.0  22.0  2.0   316.0   16.33      82.0  30.000000\n",
      "2       2.0  20.0  4.0   337.0    6.17      82.0  -8.000000\n",
      "3       9.0  13.0  1.0  1236.0   10.33     195.0  -5.000000\n",
      "4       4.0   2.0  5.0   258.0    8.92      65.0  28.663796\n",
      "...     ...   ...  ...     ...     ...       ...        ...\n",
      "49995   9.0   8.0  3.0   109.0   13.08      55.0  40.000000\n",
      "49996   1.0  27.0  3.0  2704.0   14.42     325.0  24.000000\n",
      "49997  10.0  21.0  5.0   783.0    8.23     124.0 -13.000000\n",
      "49998   3.0  20.0  0.0   733.0    8.00     150.0  25.000000\n",
      "49999   1.0  17.0  0.0   622.0   21.00     103.0  19.000000\n",
      "\n",
      "[50000 rows x 7 columns]\n"
     ]
    }
   ],
   "source": [
    "# replacing with mean\n",
    "\n",
    "df = pd.read_csv(\"flights.csv\")\n",
    "\n",
    "df = df.drop(columns = [\"flight\",\"carrier\",\"org\"])   # dropping these column because median desnt apply for non numeric data and some unnecessery columns\n",
    "\n",
    "# sklearn\n",
    "\n",
    "from sklearn.impute import SimpleImputer\n",
    "\n",
    "# make a copy of my data\n",
    "df_mean = df.copy(deep = True)\n",
    "\n",
    "# create a mean impute object\n",
    "mean_imputer = SimpleImputer(strategy = 'mean')\n",
    "\n",
    "# impute mean valuesin df_mean\n",
    "df_mean.iloc[:,:]= mean_imputer.fit_transform(df_mean)\n",
    "print(df_mean)"
   ]
  },
  {
   "cell_type": "code",
   "execution_count": 17,
   "id": "b8bc2eb9",
   "metadata": {},
   "outputs": [
    {
     "name": "stdout",
     "output_type": "stream",
     "text": [
      "        mon   dom  dow    mile  depart  duration  delay\n",
      "0      11.0  20.0  6.0  2153.0    9.48     351.0   -7.0\n",
      "1       0.0  22.0  2.0   316.0   16.33      82.0   30.0\n",
      "2       2.0  20.0  4.0   337.0    6.17      82.0   -8.0\n",
      "3       9.0  13.0  1.0  1236.0   10.33     195.0   -5.0\n",
      "4       4.0   2.0  5.0   258.0    8.92      65.0   -7.0\n",
      "...     ...   ...  ...     ...     ...       ...    ...\n",
      "49995   9.0   8.0  3.0   109.0   13.08      55.0   40.0\n",
      "49996   1.0  27.0  3.0  2704.0   14.42     325.0   24.0\n",
      "49997  10.0  21.0  5.0   783.0    8.23     124.0  -13.0\n",
      "49998   3.0  20.0  0.0   733.0    8.00     150.0   25.0\n",
      "49999   1.0  17.0  0.0   622.0   21.00     103.0   19.0\n",
      "\n",
      "[50000 rows x 7 columns]\n"
     ]
    },
    {
     "name": "stderr",
     "output_type": "stream",
     "text": [
      "C:\\ProgramData\\Anaconda3\\lib\\site-packages\\sklearn\\impute\\_base.py:49: FutureWarning: Unlike other reduction functions (e.g. `skew`, `kurtosis`), the default behavior of `mode` typically preserves the axis it acts along. In SciPy 1.11.0, this behavior will change: the default value of `keepdims` will become False, the `axis` over which the statistic is taken will be eliminated, and the value None will no longer be accepted. Set `keepdims` to True or False to avoid this warning.\n",
      "  mode = stats.mode(array)\n"
     ]
    }
   ],
   "source": [
    "# replacing  with mode\n",
    "df = pd.read_csv(\"flights.csv\")\n",
    "\n",
    "df = df.drop(columns = [\"flight\",\"carrier\",\"org\"])   # dropping these column because median desnt apply for non numeric data and some unnecessery columns\n",
    "\n",
    "# sklearn\n",
    "\n",
    "from sklearn.impute import SimpleImputer\n",
    "\n",
    "# make a copy of my data\n",
    "df_mode = df.copy(deep = True)\n",
    "\n",
    "# create a mode impute object\n",
    "mode_imputer = SimpleImputer(strategy = 'most_frequent')\n",
    "\n",
    "# impute mode valuesin df_mode\n",
    "df_mode.iloc[:,:]= mode_imputer.fit_transform(df_mode)\n",
    "print(df_mode)"
   ]
  },
  {
   "cell_type": "code",
   "execution_count": 45,
   "id": "0dbf0381",
   "metadata": {},
   "outputs": [
    {
     "name": "stdout",
     "output_type": "stream",
     "text": [
      "        mon   dom  dow    mile  depart  duration  delay\n",
      "0      11.0  20.0  6.0  2153.0    9.48     351.0    0.0\n",
      "1       0.0  22.0  2.0   316.0   16.33      82.0   30.0\n",
      "2       2.0  20.0  4.0   337.0    6.17      82.0   -8.0\n",
      "3       9.0  13.0  1.0  1236.0   10.33     195.0   -5.0\n",
      "4       4.0   2.0  5.0   258.0    8.92      65.0    0.0\n",
      "...     ...   ...  ...     ...     ...       ...    ...\n",
      "49995   9.0   8.0  3.0   109.0   13.08      55.0   40.0\n",
      "49996   1.0  27.0  3.0  2704.0   14.42     325.0   24.0\n",
      "49997  10.0  21.0  5.0   783.0    8.23     124.0  -13.0\n",
      "49998   3.0  20.0  0.0   733.0    8.00     150.0   25.0\n",
      "49999   1.0  17.0  0.0   622.0   21.00     103.0   19.0\n",
      "\n",
      "[50000 rows x 7 columns]\n"
     ]
    }
   ],
   "source": [
    "# replacing  with constant\n",
    "df = pd.read_csv(\"flights.csv\")\n",
    "\n",
    "df = df.drop(columns = [\"flight\",\"carrier\",\"org\"])   # dropping these column because median desnt apply for non numeric data and some unnecessery columns\n",
    "\n",
    "# sklearn\n",
    "\n",
    "from sklearn.impute import SimpleImputer\n",
    "\n",
    "# make a copy of my data\n",
    "df_constant = df.copy(deep = True)\n",
    "\n",
    "# create a mode impute object\n",
    "constant_imputer = SimpleImputer(strategy = 'constant',fill_value = 0)\n",
    "\n",
    "# impute constant valuesin df_constant\n",
    "df_constant.iloc[:,:]= constant_imputer.fit_transform(df_constant)\n",
    "print(df_constant)"
   ]
  },
  {
   "cell_type": "code",
   "execution_count": null,
   "id": "baebb2c8",
   "metadata": {},
   "outputs": [],
   "source": []
  },
  {
   "cell_type": "code",
   "execution_count": null,
   "id": "3fe6db1f",
   "metadata": {},
   "outputs": [],
   "source": []
  },
  {
   "cell_type": "code",
   "execution_count": null,
   "id": "b8873322",
   "metadata": {},
   "outputs": [],
   "source": []
  },
  {
   "cell_type": "code",
   "execution_count": null,
   "id": "5aa15aa2",
   "metadata": {},
   "outputs": [],
   "source": []
  },
  {
   "cell_type": "code",
   "execution_count": null,
   "id": "4a0d86b1",
   "metadata": {},
   "outputs": [],
   "source": []
  },
  {
   "cell_type": "code",
   "execution_count": null,
   "id": "a7902f5c",
   "metadata": {},
   "outputs": [],
   "source": []
  },
  {
   "cell_type": "code",
   "execution_count": null,
   "id": "eb2382c9",
   "metadata": {},
   "outputs": [],
   "source": []
  },
  {
   "cell_type": "code",
   "execution_count": null,
   "id": "7820c83c",
   "metadata": {},
   "outputs": [],
   "source": []
  },
  {
   "cell_type": "code",
   "execution_count": null,
   "id": "8d8bcce8",
   "metadata": {},
   "outputs": [],
   "source": []
  },
  {
   "cell_type": "code",
   "execution_count": null,
   "id": "a0601da5",
   "metadata": {},
   "outputs": [],
   "source": []
  },
  {
   "cell_type": "code",
   "execution_count": null,
   "id": "c8e58c8c",
   "metadata": {},
   "outputs": [],
   "source": []
  },
  {
   "cell_type": "code",
   "execution_count": null,
   "id": "963cf7d6",
   "metadata": {},
   "outputs": [],
   "source": []
  },
  {
   "cell_type": "code",
   "execution_count": null,
   "id": "eef68e6f",
   "metadata": {},
   "outputs": [],
   "source": []
  },
  {
   "cell_type": "code",
   "execution_count": null,
   "id": "81853a68",
   "metadata": {},
   "outputs": [],
   "source": []
  },
  {
   "cell_type": "code",
   "execution_count": null,
   "id": "51396e37",
   "metadata": {},
   "outputs": [],
   "source": []
  },
  {
   "cell_type": "code",
   "execution_count": null,
   "id": "27bce64b",
   "metadata": {},
   "outputs": [],
   "source": []
  },
  {
   "cell_type": "code",
   "execution_count": null,
   "id": "4d96f2ab",
   "metadata": {},
   "outputs": [],
   "source": []
  },
  {
   "cell_type": "code",
   "execution_count": null,
   "id": "148d20f4",
   "metadata": {},
   "outputs": [],
   "source": []
  },
  {
   "cell_type": "code",
   "execution_count": null,
   "id": "99f8f071",
   "metadata": {},
   "outputs": [],
   "source": []
  },
  {
   "cell_type": "code",
   "execution_count": null,
   "id": "7b921400",
   "metadata": {},
   "outputs": [],
   "source": []
  },
  {
   "cell_type": "code",
   "execution_count": null,
   "id": "fb4ac4ed",
   "metadata": {},
   "outputs": [],
   "source": []
  },
  {
   "cell_type": "code",
   "execution_count": null,
   "id": "eca40f9b",
   "metadata": {},
   "outputs": [],
   "source": []
  },
  {
   "cell_type": "code",
   "execution_count": null,
   "id": "ea19b633",
   "metadata": {},
   "outputs": [],
   "source": []
  },
  {
   "cell_type": "code",
   "execution_count": null,
   "id": "e1ce30e2",
   "metadata": {},
   "outputs": [],
   "source": []
  },
  {
   "cell_type": "code",
   "execution_count": null,
   "id": "ce9778b8",
   "metadata": {},
   "outputs": [],
   "source": []
  },
  {
   "cell_type": "code",
   "execution_count": null,
   "id": "320e62c2",
   "metadata": {},
   "outputs": [],
   "source": []
  },
  {
   "cell_type": "code",
   "execution_count": null,
   "id": "60b6f07e",
   "metadata": {},
   "outputs": [],
   "source": []
  },
  {
   "cell_type": "code",
   "execution_count": null,
   "id": "c692d6b4",
   "metadata": {},
   "outputs": [],
   "source": []
  },
  {
   "cell_type": "code",
   "execution_count": null,
   "id": "f8a79867",
   "metadata": {},
   "outputs": [],
   "source": []
  },
  {
   "cell_type": "code",
   "execution_count": null,
   "id": "232b09f4",
   "metadata": {},
   "outputs": [],
   "source": []
  },
  {
   "cell_type": "code",
   "execution_count": null,
   "id": "cb49b7e1",
   "metadata": {},
   "outputs": [],
   "source": []
  },
  {
   "cell_type": "code",
   "execution_count": null,
   "id": "f6612883",
   "metadata": {},
   "outputs": [],
   "source": []
  },
  {
   "cell_type": "code",
   "execution_count": null,
   "id": "4673fe27",
   "metadata": {},
   "outputs": [],
   "source": []
  },
  {
   "cell_type": "code",
   "execution_count": null,
   "id": "a966d66c",
   "metadata": {},
   "outputs": [],
   "source": []
  },
  {
   "cell_type": "code",
   "execution_count": null,
   "id": "36aeb731",
   "metadata": {},
   "outputs": [],
   "source": []
  },
  {
   "cell_type": "code",
   "execution_count": null,
   "id": "f1c1b00d",
   "metadata": {},
   "outputs": [],
   "source": []
  },
  {
   "cell_type": "code",
   "execution_count": null,
   "id": "6648fa64",
   "metadata": {},
   "outputs": [],
   "source": []
  },
  {
   "cell_type": "code",
   "execution_count": null,
   "id": "aa307fae",
   "metadata": {},
   "outputs": [],
   "source": []
  },
  {
   "cell_type": "code",
   "execution_count": null,
   "id": "13cc1e5a",
   "metadata": {},
   "outputs": [],
   "source": []
  },
  {
   "cell_type": "code",
   "execution_count": 73,
   "id": "539702ee",
   "metadata": {},
   "outputs": [],
   "source": [
    "g = [2,3,4,9,7,1,5]\n",
    "h = [2,2,1,8,3,1,6]"
   ]
  },
  {
   "cell_type": "code",
   "execution_count": 77,
   "id": "dc8693cd",
   "metadata": {},
   "outputs": [
    {
     "data": {
      "text/plain": [
       "[(2, 2), (4, 1), (1, 1)]"
      ]
     },
     "execution_count": 77,
     "metadata": {},
     "output_type": "execute_result"
    }
   ],
   "source": [
    "c = list(filter(lambda x : x[0] % x[1] ==0,zip(g,h)))\n",
    "c"
   ]
  },
  {
   "cell_type": "code",
   "execution_count": 78,
   "id": "59c952ea",
   "metadata": {},
   "outputs": [
    {
     "data": {
      "text/plain": [
       "[2, 4, 1]"
      ]
     },
     "execution_count": 78,
     "metadata": {},
     "output_type": "execute_result"
    }
   ],
   "source": [
    "[i for i,j in c]"
   ]
  },
  {
   "cell_type": "code",
   "execution_count": 88,
   "id": "9df11d88",
   "metadata": {},
   "outputs": [],
   "source": [
    "g = [2,3,4,9,7,1,5]\n",
    "h = [2,2,1,8,3,1,6]"
   ]
  },
  {
   "cell_type": "code",
   "execution_count": 89,
   "id": "159de5d1",
   "metadata": {},
   "outputs": [
    {
     "data": {
      "text/plain": [
       "[4, 5, 5, 17, 10, 2, 11]"
      ]
     },
     "execution_count": 89,
     "metadata": {},
     "output_type": "execute_result"
    }
   ],
   "source": [
    "list(map(lambda x,y : x+y , g,h))"
   ]
  },
  {
   "cell_type": "code",
   "execution_count": 91,
   "id": "9b9f0b22",
   "metadata": {},
   "outputs": [
    {
     "data": {
      "text/plain": [
       "31"
      ]
     },
     "execution_count": 91,
     "metadata": {},
     "output_type": "execute_result"
    }
   ],
   "source": [
    "reduce(lambda x,y : x+y , g)"
   ]
  },
  {
   "cell_type": "code",
   "execution_count": null,
   "id": "7f86be78",
   "metadata": {},
   "outputs": [],
   "source": []
  },
  {
   "cell_type": "code",
   "execution_count": 92,
   "id": "f319f57e",
   "metadata": {},
   "outputs": [],
   "source": [
    "g = [2,3,4,9,7,1,5]"
   ]
  },
  {
   "cell_type": "code",
   "execution_count": 106,
   "id": "7cd09956",
   "metadata": {},
   "outputs": [
    {
     "data": {
      "text/plain": [
       "[2, 3, 7, 1, 5]"
      ]
     },
     "execution_count": 106,
     "metadata": {},
     "output_type": "execute_result"
    }
   ],
   "source": [
    "list(filter(lambda x : all(x%i!=0 for i in range(2,x-1)) , g))"
   ]
  },
  {
   "cell_type": "code",
   "execution_count": 107,
   "id": "fc6bd1d0",
   "metadata": {},
   "outputs": [
    {
     "data": {
      "text/plain": [
       "[2, 3, 4, 9, 7, 1, 5]"
      ]
     },
     "execution_count": 107,
     "metadata": {},
     "output_type": "execute_result"
    }
   ],
   "source": [
    "g"
   ]
  },
  {
   "cell_type": "code",
   "execution_count": 118,
   "id": "76c354c8",
   "metadata": {},
   "outputs": [
    {
     "data": {
      "text/plain": [
       "[False, True, False, True, True, True, True]"
      ]
     },
     "execution_count": 118,
     "metadata": {},
     "output_type": "execute_result"
    }
   ],
   "source": [
    "m = list(map(lambda x : x%2 != 0 , g))\n",
    "m"
   ]
  },
  {
   "cell_type": "code",
   "execution_count": 121,
   "id": "a2b18bf0",
   "metadata": {},
   "outputs": [
    {
     "data": {
      "text/plain": [
       "[2, 4]"
      ]
     },
     "execution_count": 121,
     "metadata": {},
     "output_type": "execute_result"
    }
   ],
   "source": [
    "[i  for i,j in zip(g,m) if j == False]"
   ]
  },
  {
   "cell_type": "code",
   "execution_count": null,
   "id": "a7ba614e",
   "metadata": {},
   "outputs": [],
   "source": []
  },
  {
   "cell_type": "code",
   "execution_count": null,
   "id": "e366b617",
   "metadata": {},
   "outputs": [],
   "source": []
  },
  {
   "cell_type": "code",
   "execution_count": null,
   "id": "04591569",
   "metadata": {},
   "outputs": [],
   "source": []
  },
  {
   "cell_type": "code",
   "execution_count": null,
   "id": "caeffa1d",
   "metadata": {},
   "outputs": [],
   "source": []
  },
  {
   "cell_type": "code",
   "execution_count": null,
   "id": "c5c73b82",
   "metadata": {},
   "outputs": [],
   "source": []
  },
  {
   "cell_type": "code",
   "execution_count": null,
   "id": "c876f253",
   "metadata": {},
   "outputs": [],
   "source": []
  },
  {
   "cell_type": "code",
   "execution_count": null,
   "id": "3b9b4b60",
   "metadata": {},
   "outputs": [],
   "source": []
  },
  {
   "cell_type": "code",
   "execution_count": null,
   "id": "c71a11f7",
   "metadata": {},
   "outputs": [],
   "source": []
  },
  {
   "cell_type": "code",
   "execution_count": null,
   "id": "47a3a6e8",
   "metadata": {},
   "outputs": [],
   "source": []
  },
  {
   "cell_type": "code",
   "execution_count": null,
   "id": "f1433a80",
   "metadata": {},
   "outputs": [],
   "source": []
  },
  {
   "cell_type": "code",
   "execution_count": null,
   "id": "c4a68642",
   "metadata": {},
   "outputs": [],
   "source": []
  },
  {
   "cell_type": "code",
   "execution_count": null,
   "id": "e6b23946",
   "metadata": {},
   "outputs": [],
   "source": []
  },
  {
   "cell_type": "code",
   "execution_count": null,
   "id": "9ac53dec",
   "metadata": {},
   "outputs": [],
   "source": []
  },
  {
   "cell_type": "code",
   "execution_count": null,
   "id": "c1134007",
   "metadata": {},
   "outputs": [],
   "source": []
  },
  {
   "cell_type": "code",
   "execution_count": null,
   "id": "df286a2b",
   "metadata": {},
   "outputs": [],
   "source": []
  },
  {
   "cell_type": "code",
   "execution_count": null,
   "id": "cf7e27b5",
   "metadata": {},
   "outputs": [],
   "source": []
  },
  {
   "cell_type": "code",
   "execution_count": null,
   "id": "105bc32e",
   "metadata": {},
   "outputs": [],
   "source": []
  },
  {
   "cell_type": "code",
   "execution_count": null,
   "id": "c5362255",
   "metadata": {},
   "outputs": [],
   "source": []
  },
  {
   "cell_type": "code",
   "execution_count": null,
   "id": "13987e89",
   "metadata": {},
   "outputs": [],
   "source": []
  },
  {
   "cell_type": "code",
   "execution_count": null,
   "id": "acfb4139",
   "metadata": {},
   "outputs": [],
   "source": []
  },
  {
   "cell_type": "code",
   "execution_count": null,
   "id": "1e28492e",
   "metadata": {},
   "outputs": [],
   "source": []
  },
  {
   "cell_type": "code",
   "execution_count": null,
   "id": "d8273843",
   "metadata": {},
   "outputs": [],
   "source": []
  },
  {
   "cell_type": "code",
   "execution_count": null,
   "id": "92b64310",
   "metadata": {},
   "outputs": [],
   "source": []
  },
  {
   "cell_type": "code",
   "execution_count": null,
   "id": "fc05c44c",
   "metadata": {},
   "outputs": [],
   "source": []
  },
  {
   "cell_type": "code",
   "execution_count": null,
   "id": "42021f13",
   "metadata": {},
   "outputs": [],
   "source": []
  },
  {
   "cell_type": "code",
   "execution_count": null,
   "id": "6bdac2bc",
   "metadata": {},
   "outputs": [],
   "source": []
  },
  {
   "cell_type": "code",
   "execution_count": null,
   "id": "cc4165ab",
   "metadata": {},
   "outputs": [],
   "source": []
  },
  {
   "cell_type": "code",
   "execution_count": null,
   "id": "a615a0a6",
   "metadata": {},
   "outputs": [],
   "source": []
  },
  {
   "cell_type": "code",
   "execution_count": null,
   "id": "fe712493",
   "metadata": {},
   "outputs": [],
   "source": []
  },
  {
   "cell_type": "code",
   "execution_count": null,
   "id": "cc8aa551",
   "metadata": {},
   "outputs": [],
   "source": []
  },
  {
   "cell_type": "code",
   "execution_count": null,
   "id": "4a4ca088",
   "metadata": {},
   "outputs": [],
   "source": []
  },
  {
   "cell_type": "code",
   "execution_count": null,
   "id": "5cf56bf5",
   "metadata": {},
   "outputs": [],
   "source": []
  },
  {
   "cell_type": "code",
   "execution_count": null,
   "id": "cde405d4",
   "metadata": {},
   "outputs": [],
   "source": []
  },
  {
   "cell_type": "code",
   "execution_count": null,
   "id": "e636f6f5",
   "metadata": {},
   "outputs": [],
   "source": []
  },
  {
   "cell_type": "code",
   "execution_count": null,
   "id": "d4a52e00",
   "metadata": {},
   "outputs": [],
   "source": []
  },
  {
   "cell_type": "code",
   "execution_count": null,
   "id": "f9a9c908",
   "metadata": {},
   "outputs": [],
   "source": []
  },
  {
   "cell_type": "code",
   "execution_count": null,
   "id": "31daafd9",
   "metadata": {},
   "outputs": [],
   "source": []
  },
  {
   "cell_type": "code",
   "execution_count": null,
   "id": "d56faf33",
   "metadata": {},
   "outputs": [],
   "source": []
  },
  {
   "cell_type": "code",
   "execution_count": null,
   "id": "8b82b7a1",
   "metadata": {},
   "outputs": [],
   "source": []
  },
  {
   "cell_type": "code",
   "execution_count": null,
   "id": "1cb3c6a9",
   "metadata": {},
   "outputs": [],
   "source": []
  },
  {
   "cell_type": "code",
   "execution_count": null,
   "id": "71374450",
   "metadata": {},
   "outputs": [],
   "source": []
  },
  {
   "cell_type": "code",
   "execution_count": 197,
   "id": "2aa4d462",
   "metadata": {},
   "outputs": [],
   "source": [
    "l = \"appleballcatdogelphant\""
   ]
  },
  {
   "cell_type": "code",
   "execution_count": 198,
   "id": "24e0197e",
   "metadata": {},
   "outputs": [],
   "source": [
    "d = {}\n",
    "\n",
    "for i in l:\n",
    "    c = 0\n",
    "    for j in l:\n",
    "        if i == j:\n",
    "            c+=1\n",
    "    d[i] = c"
   ]
  },
  {
   "cell_type": "code",
   "execution_count": 199,
   "id": "fed88673",
   "metadata": {},
   "outputs": [
    {
     "name": "stdout",
     "output_type": "stream",
     "text": [
      "{'a': 4, 'p': 3, 'l': 4, 'e': 2, 'b': 1, 'c': 1, 't': 2, 'd': 1, 'o': 1, 'g': 1, 'h': 1, 'n': 1}\n"
     ]
    }
   ],
   "source": [
    "print(d)"
   ]
  },
  {
   "cell_type": "code",
   "execution_count": 203,
   "id": "9e054380",
   "metadata": {},
   "outputs": [],
   "source": [
    "class a():\n",
    "    def __init__(self,x):\n",
    "        print(x+2)\n",
    "    def __init__(self,y):\n",
    "        print(y+5)"
   ]
  },
  {
   "cell_type": "code",
   "execution_count": 204,
   "id": "bf9da007",
   "metadata": {},
   "outputs": [
    {
     "name": "stdout",
     "output_type": "stream",
     "text": [
      "10\n"
     ]
    }
   ],
   "source": [
    "c = a(5)"
   ]
  },
  {
   "cell_type": "code",
   "execution_count": null,
   "id": "b45212d4",
   "metadata": {},
   "outputs": [],
   "source": [
    "def greet()"
   ]
  }
 ],
 "metadata": {
  "kernelspec": {
   "display_name": "Python 3 (ipykernel)",
   "language": "python",
   "name": "python3"
  },
  "language_info": {
   "codemirror_mode": {
    "name": "ipython",
    "version": 3
   },
   "file_extension": ".py",
   "mimetype": "text/x-python",
   "name": "python",
   "nbconvert_exporter": "python",
   "pygments_lexer": "ipython3",
   "version": "3.11.4"
  }
 },
 "nbformat": 4,
 "nbformat_minor": 5
}
