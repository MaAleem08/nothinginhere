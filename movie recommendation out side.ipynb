{
 "cells": [
  {
   "cell_type": "code",
   "execution_count": 1,
   "id": "2a6fc5cc",
   "metadata": {},
   "outputs": [],
   "source": [
    "import pandas as pd\n",
    "import numpy as np\n",
    "import os"
   ]
  },
  {
   "cell_type": "code",
   "execution_count": 2,
   "id": "ee396041",
   "metadata": {},
   "outputs": [
    {
     "name": "stdout",
     "output_type": "stream",
     "text": [
      "C:\\Users\\Lenovo\\Downloads\\tmdb_5000_credits.csv\n"
     ]
    }
   ],
   "source": [
    "for root,dire,file in os.walk(os.getcwd()):\n",
    "    for f in file :\n",
    "        if f =='tmdb_5000_credits.csv' :\n",
    "            print(root+'\\\\'+f)"
   ]
  },
  {
   "cell_type": "code",
   "execution_count": 3,
   "id": "4b634413",
   "metadata": {},
   "outputs": [
    {
     "name": "stdout",
     "output_type": "stream",
     "text": [
      "C:\\Users\\Lenovo\\Downloads\\tmbd500\\tmdb_5000_movies.csv\n"
     ]
    }
   ],
   "source": [
    "for root,dire,file in os.walk(os.getcwd()):\n",
    "    for f in file:\n",
    "        if f=='tmdb_5000_movies.csv':\n",
    "            print(root+'\\\\'+f)"
   ]
  },
  {
   "cell_type": "code",
   "execution_count": 4,
   "id": "95cfab76",
   "metadata": {},
   "outputs": [],
   "source": [
    "df1 = pd.read_csv('C:/Users/Lenovo/Downloads/tmdb_5000_credits.csv',low_memory=False)\n",
    "df2 = pd.read_csv('C:/Users/Lenovo/Downloads/tmbd500/tmdb_5000_movies.csv',low_memory=False)"
   ]
  },
  {
   "cell_type": "code",
   "execution_count": null,
   "id": "3100e314",
   "metadata": {},
   "outputs": [],
   "source": [
    "print(df1.shape)\n",
    "print(df2.shape)"
   ]
  },
  {
   "cell_type": "code",
   "execution_count": null,
   "id": "2991cd39",
   "metadata": {},
   "outputs": [],
   "source": [
    "df1.head()"
   ]
  },
  {
   "cell_type": "code",
   "execution_count": null,
   "id": "7df9a0a5",
   "metadata": {},
   "outputs": [],
   "source": [
    "df2.head()"
   ]
  },
  {
   "cell_type": "code",
   "execution_count": 5,
   "id": "381f1c58",
   "metadata": {},
   "outputs": [],
   "source": [
    "df1.columns = ['id','tittle','cast','crew']"
   ]
  },
  {
   "cell_type": "code",
   "execution_count": 15,
   "id": "1f9e6e88",
   "metadata": {},
   "outputs": [],
   "source": [
    "df2= df2.merge(df1,on ='id')"
   ]
  },
  {
   "cell_type": "code",
   "execution_count": null,
   "id": "34874ddc",
   "metadata": {},
   "outputs": [],
   "source": [
    "df.columns"
   ]
  },
  {
   "cell_type": "code",
   "execution_count": null,
   "id": "2a81d1e8",
   "metadata": {},
   "outputs": [],
   "source": []
  },
  {
   "cell_type": "markdown",
   "id": "e2998425",
   "metadata": {},
   "source": [
    "## simple recommender"
   ]
  },
  {
   "cell_type": "code",
   "execution_count": null,
   "id": "ae6a67a3",
   "metadata": {},
   "outputs": [],
   "source": [
    "# (vc * v_ave)/(vc+mq) + (mq*c)/(vc+mq)"
   ]
  },
  {
   "cell_type": "code",
   "execution_count": null,
   "id": "18db8fd9",
   "metadata": {},
   "outputs": [],
   "source": [
    "c = df.vote_average.mean()\n",
    "mq = df.vote_count.quantile(0.9)\n",
    "mq_data = df.copy()[df['vote_count']>=mq]\n",
    "print(c,'\\n')\n",
    "print(mq,'\\n')\n",
    "mq_data.head(1)"
   ]
  },
  {
   "cell_type": "code",
   "execution_count": null,
   "id": "e1121d00",
   "metadata": {},
   "outputs": [],
   "source": [
    "def sim_rec(x , mq=mq,c=c):\n",
    "    vc = x['vote_count']\n",
    "    v_ave = x['vote_average']\n",
    "    return (vc/(vc+mq) *v_ave) + (mq/(mq+vc) *c)"
   ]
  },
  {
   "cell_type": "code",
   "execution_count": null,
   "id": "9b6d3cc4",
   "metadata": {},
   "outputs": [],
   "source": [
    "mq_data['score'] = mq_data.apply(sim_rec,axis=1)"
   ]
  },
  {
   "cell_type": "code",
   "execution_count": null,
   "id": "88384854",
   "metadata": {},
   "outputs": [],
   "source": [
    "mq_data[['original_title','vote_average','vote_count','score']].sort_values(by = 'score',ascending = False).head(10)"
   ]
  },
  {
   "cell_type": "markdown",
   "id": "f587bbae",
   "metadata": {},
   "source": [
    "## trending now"
   ]
  },
  {
   "cell_type": "code",
   "execution_count": null,
   "id": "d9f53910",
   "metadata": {
    "scrolled": true
   },
   "outputs": [],
   "source": [
    "asd = df[['original_title','popularity']].sort_values(by=['popularity'],ascending=False).head(5)\n",
    "\n",
    "import matplotlib.pyplot as plt\n",
    "plt.figure(figsize= (9,3))\n",
    "plt.barh(asd['original_title'],asd['popularity'])\n",
    "plt.gca().invert_yaxis()\n",
    "plt.xlabel(\"Popularity\")\n",
    "plt.title(\"Popular Movies\")"
   ]
  },
  {
   "cell_type": "code",
   "execution_count": null,
   "id": "35c1d785",
   "metadata": {},
   "outputs": [],
   "source": []
  },
  {
   "cell_type": "markdown",
   "id": "c44b2cf6",
   "metadata": {},
   "source": [
    "## content based recommendation"
   ]
  },
  {
   "cell_type": "code",
   "execution_count": 63,
   "id": "434da3f9",
   "metadata": {
    "scrolled": true
   },
   "outputs": [
    {
     "data": {
      "text/plain": [
       "7               Avengers: Age of Ultron\n",
       "3144                            Plastic\n",
       "1715                            Timecop\n",
       "4124                 This Thing of Ours\n",
       "3311              Thank You for Smoking\n",
       "3033                      The Corruptor\n",
       "588     Wall Street: Money Never Sleeps\n",
       "2136         Team America: World Police\n",
       "1468                       The Fountain\n",
       "1286                        Snowpiercer\n",
       "Name: tittle, dtype: object"
      ]
     },
     "execution_count": 63,
     "metadata": {},
     "output_type": "execute_result"
    }
   ],
   "source": [
    "from sklearn.feature_extraction.text import TfidfVectorizer\n",
    "tfidf = TfidfVectorizer(stop_words='english')\n",
    "df.overview = df.overview.fillna('')\n",
    "tfidf_mat = tfidf.fit_transform(df['overview'])\n",
    "\n",
    "from sklearn.metrics.pairwise import linear_kernel\n",
    "cos_sim = linear_kernel(tfidf_mat,tfidf_mat)\n",
    "\n",
    "indices= pd.Series(df.index,index = df.title).drop_duplicates()\n",
    "\n",
    "def get_recommendation(x,cos_sim = cos_sim):\n",
    "    idx = indices[x]\n",
    "    sim_scores = list(enumerate(cos_sim[idx]))\n",
    "    sim_scores = sorted(sim_scores,key = lambda x:x[1],reverse=True)[1:11]\n",
    "    ind_numbers = [i[0] for i in sim_scores]\n",
    "    return df.tittle.iloc[ind_numbers]\n",
    "\n",
    "get_recommendation('The Avengers')"
   ]
  },
  {
   "cell_type": "markdown",
   "id": "29f9e67a",
   "metadata": {},
   "source": [
    "## based on cast , director , genre"
   ]
  },
  {
   "cell_type": "code",
   "execution_count": 8,
   "id": "24ad1ec4",
   "metadata": {},
   "outputs": [],
   "source": [
    "from ast import literal_eval\n",
    "features = ['crew','cast','keywords','genres']\n",
    "for i in features:\n",
    "    df[i] = df[i].apply(literal_eval)"
   ]
  },
  {
   "cell_type": "code",
   "execution_count": 21,
   "id": "f7b0a7f8",
   "metadata": {},
   "outputs": [],
   "source": [
    "# get direcor's name , if not available then return NaN\n",
    "def director(x):\n",
    "    for i in x:\n",
    "        if i['job']=='Director':\n",
    "            return i['name']\n",
    "    return np.nan\n",
    "\n",
    "        \n",
    "def get_list(x):\n",
    "    if isinstance(x,list):\n",
    "        names =[i['name'] for i in x]\n",
    "        if len(names)>3:\n",
    "            names = names[:3]\n",
    "        return names\n",
    "    return []"
   ]
  },
  {
   "cell_type": "code",
   "execution_count": 22,
   "id": "367abce9",
   "metadata": {
    "scrolled": true
   },
   "outputs": [],
   "source": [
    "df['director'] = df['crew'].apply(director)\n",
    "features = ['cast','keywords','genres']\n",
    "for i in features:\n",
    "    df[i] = df[i].apply(get_list)"
   ]
  },
  {
   "cell_type": "code",
   "execution_count": 24,
   "id": "5c359075",
   "metadata": {},
   "outputs": [
    {
     "data": {
      "text/html": [
       "<div>\n",
       "<style scoped>\n",
       "    .dataframe tbody tr th:only-of-type {\n",
       "        vertical-align: middle;\n",
       "    }\n",
       "\n",
       "    .dataframe tbody tr th {\n",
       "        vertical-align: top;\n",
       "    }\n",
       "\n",
       "    .dataframe thead th {\n",
       "        text-align: right;\n",
       "    }\n",
       "</style>\n",
       "<table border=\"1\" class=\"dataframe\">\n",
       "  <thead>\n",
       "    <tr style=\"text-align: right;\">\n",
       "      <th></th>\n",
       "      <th>title</th>\n",
       "      <th>cast</th>\n",
       "      <th>director</th>\n",
       "      <th>keywords</th>\n",
       "      <th>genres</th>\n",
       "    </tr>\n",
       "  </thead>\n",
       "  <tbody>\n",
       "    <tr>\n",
       "      <th>0</th>\n",
       "      <td>Avatar</td>\n",
       "      <td>[Sam Worthington, Zoe Saldana, Sigourney Weaver]</td>\n",
       "      <td>James Cameron</td>\n",
       "      <td>[culture clash, future, space war]</td>\n",
       "      <td>[Action, Adventure, Fantasy]</td>\n",
       "    </tr>\n",
       "    <tr>\n",
       "      <th>1</th>\n",
       "      <td>Pirates of the Caribbean: At World's End</td>\n",
       "      <td>[Johnny Depp, Orlando Bloom, Keira Knightley]</td>\n",
       "      <td>Gore Verbinski</td>\n",
       "      <td>[ocean, drug abuse, exotic island]</td>\n",
       "      <td>[Adventure, Fantasy, Action]</td>\n",
       "    </tr>\n",
       "    <tr>\n",
       "      <th>2</th>\n",
       "      <td>Spectre</td>\n",
       "      <td>[Daniel Craig, Christoph Waltz, Léa Seydoux]</td>\n",
       "      <td>Sam Mendes</td>\n",
       "      <td>[spy, based on novel, secret agent]</td>\n",
       "      <td>[Action, Adventure, Crime]</td>\n",
       "    </tr>\n",
       "  </tbody>\n",
       "</table>\n",
       "</div>"
      ],
      "text/plain": [
       "                                      title  \\\n",
       "0                                    Avatar   \n",
       "1  Pirates of the Caribbean: At World's End   \n",
       "2                                   Spectre   \n",
       "\n",
       "                                               cast        director  \\\n",
       "0  [Sam Worthington, Zoe Saldana, Sigourney Weaver]   James Cameron   \n",
       "1     [Johnny Depp, Orlando Bloom, Keira Knightley]  Gore Verbinski   \n",
       "2      [Daniel Craig, Christoph Waltz, Léa Seydoux]      Sam Mendes   \n",
       "\n",
       "                              keywords                        genres  \n",
       "0   [culture clash, future, space war]  [Action, Adventure, Fantasy]  \n",
       "1   [ocean, drug abuse, exotic island]  [Adventure, Fantasy, Action]  \n",
       "2  [spy, based on novel, secret agent]    [Action, Adventure, Crime]  "
      ]
     },
     "execution_count": 24,
     "metadata": {},
     "output_type": "execute_result"
    }
   ],
   "source": [
    "df[['title', 'cast', 'director', 'keywords', 'genres']].head(3)"
   ]
  },
  {
   "cell_type": "code",
   "execution_count": 25,
   "id": "06eb8010",
   "metadata": {},
   "outputs": [],
   "source": [
    "def lower_(x):\n",
    "    if isinstance(x,list):\n",
    "        return [str.lower(i.replace(' ','')) for i in x]\n",
    "    else :\n",
    "        if isinstance(x,str):\n",
    "            return str.lower(x.replace(' ',''))\n",
    "        else :\n",
    "            return ''"
   ]
  },
  {
   "cell_type": "code",
   "execution_count": 26,
   "id": "999b1d7a",
   "metadata": {},
   "outputs": [],
   "source": [
    "features = ['cast', 'keywords', 'director', 'genres']\n",
    "for i in features :\n",
    "    df[i]=df[i].apply(lower_)"
   ]
  },
  {
   "cell_type": "code",
   "execution_count": 27,
   "id": "f753bdb2",
   "metadata": {},
   "outputs": [
    {
     "data": {
      "text/html": [
       "<div>\n",
       "<style scoped>\n",
       "    .dataframe tbody tr th:only-of-type {\n",
       "        vertical-align: middle;\n",
       "    }\n",
       "\n",
       "    .dataframe tbody tr th {\n",
       "        vertical-align: top;\n",
       "    }\n",
       "\n",
       "    .dataframe thead th {\n",
       "        text-align: right;\n",
       "    }\n",
       "</style>\n",
       "<table border=\"1\" class=\"dataframe\">\n",
       "  <thead>\n",
       "    <tr style=\"text-align: right;\">\n",
       "      <th></th>\n",
       "      <th>cast</th>\n",
       "      <th>keywords</th>\n",
       "      <th>director</th>\n",
       "      <th>genres</th>\n",
       "    </tr>\n",
       "  </thead>\n",
       "  <tbody>\n",
       "    <tr>\n",
       "      <th>0</th>\n",
       "      <td>[samworthington, zoesaldana, sigourneyweaver]</td>\n",
       "      <td>[cultureclash, future, spacewar]</td>\n",
       "      <td>jamescameron</td>\n",
       "      <td>[action, adventure, fantasy]</td>\n",
       "    </tr>\n",
       "    <tr>\n",
       "      <th>1</th>\n",
       "      <td>[johnnydepp, orlandobloom, keiraknightley]</td>\n",
       "      <td>[ocean, drugabuse, exoticisland]</td>\n",
       "      <td>goreverbinski</td>\n",
       "      <td>[adventure, fantasy, action]</td>\n",
       "    </tr>\n",
       "  </tbody>\n",
       "</table>\n",
       "</div>"
      ],
      "text/plain": [
       "                                            cast  \\\n",
       "0  [samworthington, zoesaldana, sigourneyweaver]   \n",
       "1     [johnnydepp, orlandobloom, keiraknightley]   \n",
       "\n",
       "                           keywords       director  \\\n",
       "0  [cultureclash, future, spacewar]   jamescameron   \n",
       "1  [ocean, drugabuse, exoticisland]  goreverbinski   \n",
       "\n",
       "                         genres  \n",
       "0  [action, adventure, fantasy]  \n",
       "1  [adventure, fantasy, action]  "
      ]
     },
     "execution_count": 27,
     "metadata": {},
     "output_type": "execute_result"
    }
   ],
   "source": [
    "df[features].head(2)"
   ]
  },
  {
   "cell_type": "code",
   "execution_count": 49,
   "id": "a43b7bad",
   "metadata": {},
   "outputs": [],
   "source": [
    "def create_soup(x):\n",
    "    return ' '.join(x['keywords'])+ ' ' + ' '.join(x['cast']) + ' ' + x['director'] + ' ' + ' '.join(x['genres'])\n",
    "\n",
    "df['soup'] = df.apply(create_soup,axis = 1)"
   ]
  },
  {
   "cell_type": "code",
   "execution_count": 50,
   "id": "68a65ab7",
   "metadata": {},
   "outputs": [
    {
     "data": {
      "text/plain": [
       "'cultureclash future spacewar samworthington zoesaldana sigourneyweaver jamescameron action adventure fantasy'"
      ]
     },
     "execution_count": 50,
     "metadata": {},
     "output_type": "execute_result"
    }
   ],
   "source": [
    "df['soup'][0]"
   ]
  },
  {
   "cell_type": "code",
   "execution_count": 57,
   "id": "2c0a1389",
   "metadata": {},
   "outputs": [],
   "source": [
    "from sklearn.feature_extraction.text import CountVectorizer\n",
    "cv = CountVectorizer(stop_words = 'english')\n",
    "c_m = cv.fit_transform(df['soup'])"
   ]
  },
  {
   "cell_type": "code",
   "execution_count": 60,
   "id": "75d60341",
   "metadata": {},
   "outputs": [],
   "source": [
    "from sklearn.metrics.pairwise import cosine_similarity\n",
    "cos_sim2 = cosine_similarity(c_m,c_m)"
   ]
  },
  {
   "cell_type": "code",
   "execution_count": 61,
   "id": "54e5f359",
   "metadata": {},
   "outputs": [],
   "source": [
    "df = df.reset_index()\n",
    "indices = pd.Series(df2.index,index=df2['title'])"
   ]
  },
  {
   "cell_type": "code",
   "execution_count": 66,
   "id": "1172f293",
   "metadata": {},
   "outputs": [
    {
     "data": {
      "text/plain": [
       "65               The Dark Knight\n",
       "119                Batman Begins\n",
       "4638    Amidst the Devil's Wings\n",
       "1196                The Prestige\n",
       "3073           Romeo Is Bleeding\n",
       "3326              Black November\n",
       "1503                      Takers\n",
       "1986                      Faster\n",
       "303                     Catwoman\n",
       "747               Gangster Squad\n",
       "Name: tittle, dtype: object"
      ]
     },
     "execution_count": 66,
     "metadata": {},
     "output_type": "execute_result"
    }
   ],
   "source": [
    "get_recommendation('The Dark Knight Rises',cos_sim2)"
   ]
  },
  {
   "cell_type": "code",
   "execution_count": null,
   "id": "cbf3b928",
   "metadata": {},
   "outputs": [],
   "source": []
  }
 ],
 "metadata": {
  "kernelspec": {
   "display_name": "Python 3 (ipykernel)",
   "language": "python",
   "name": "python3"
  },
  "language_info": {
   "codemirror_mode": {
    "name": "ipython",
    "version": 3
   },
   "file_extension": ".py",
   "mimetype": "text/x-python",
   "name": "python",
   "nbconvert_exporter": "python",
   "pygments_lexer": "ipython3",
   "version": "3.9.13"
  }
 },
 "nbformat": 4,
 "nbformat_minor": 5
}
