{
 "cells": [
  {
   "cell_type": "code",
   "execution_count": 1,
   "id": "106493c7",
   "metadata": {},
   "outputs": [],
   "source": [
    "import pandas as pd\n",
    "import numpy as np"
   ]
  },
  {
   "cell_type": "code",
   "execution_count": 2,
   "id": "bca06d9a",
   "metadata": {},
   "outputs": [],
   "source": [
    "df_bm_train = pd.read_csv(\"bigmart_train.csv\")\n",
    "df_bm_test = pd.read_csv(\"bigmart_test.csv\")"
   ]
  },
  {
   "cell_type": "code",
   "execution_count": 3,
   "id": "2ee55b93",
   "metadata": {},
   "outputs": [],
   "source": [
    "df_median_item_weights = df_bm_train.groupby([\"Item_Type\"],as_index = False).agg({\"Item_Weight\":[\"median\"]})"
   ]
  },
  {
   "cell_type": "code",
   "execution_count": 4,
   "id": "bb15d89f",
   "metadata": {},
   "outputs": [],
   "source": [
    "df_median_item_weights.columns = [\"Item_Type\",\"median_Item_Weight\"]"
   ]
  },
  {
   "cell_type": "code",
   "execution_count": 5,
   "id": "175caffb",
   "metadata": {},
   "outputs": [],
   "source": [
    "df_bm_train = pd.merge(left = df_bm_train,right = df_median_item_weights,on = [\"Item_Type\"],how =\"left\")"
   ]
  },
  {
   "cell_type": "code",
   "execution_count": 6,
   "id": "217be6f3",
   "metadata": {},
   "outputs": [],
   "source": [
    "df_bm_train['Item_Weight'] = df_bm_train.apply(lambda x : x['median_Item_Weight'] if pd.isna(x['Item_Weight']) else x['Item_Weight'],axis = 1)"
   ]
  },
  {
   "cell_type": "code",
   "execution_count": 7,
   "id": "d25a5eec",
   "metadata": {},
   "outputs": [],
   "source": [
    "df_bm_train[\"Outlet_Size\"] = df_bm_train[\"Outlet_Size\"].apply(lambda x : \"Medium\" if pd.isna(x) else x)"
   ]
  },
  {
   "cell_type": "code",
   "execution_count": 8,
   "id": "c3dd43bb",
   "metadata": {},
   "outputs": [],
   "source": [
    "df_bm_train[\"Item_Fat_Content\"] = df_bm_train[\"Item_Fat_Content\"].map({'Low Fat':\"Low Fat\",'Regular':\"Regular\",'low fat':\"Low Fat\",'LF':\"Low Fat\",'reg':\"Regular\"})"
   ]
  },
  {
   "cell_type": "code",
   "execution_count": 9,
   "id": "3a503b8f",
   "metadata": {},
   "outputs": [],
   "source": [
    "df_bm_train.drop([\"Item_Identifier\",\"Outlet_Identifier\",\"median_Item_Weight\"],axis =1 , inplace = True)"
   ]
  },
  {
   "cell_type": "code",
   "execution_count": 10,
   "id": "051848aa",
   "metadata": {},
   "outputs": [],
   "source": [
    "df_bm_train1 = pd.get_dummies(columns = [\"Item_Fat_Content\",\"Item_Type\",\"Outlet_Size\",\"Outlet_Location_Type\",\"Outlet_Type\"]\n",
    "                                         ,drop_first = True , data = df_bm_train)"
   ]
  },
  {
   "cell_type": "code",
   "execution_count": 11,
   "id": "ecb2c100",
   "metadata": {},
   "outputs": [],
   "source": [
    "df_bm_train1[\"Outlet_Age\"]= df_bm_train1[\"Outlet_Establishment_Year\"].apply(lambda x : 2022 - x)"
   ]
  },
  {
   "cell_type": "code",
   "execution_count": 12,
   "id": "1ee0c71d",
   "metadata": {},
   "outputs": [],
   "source": [
    "df_bm_train1.drop(columns = 'Outlet_Establishment_Year',inplace = True)"
   ]
  },
  {
   "cell_type": "code",
   "execution_count": 13,
   "id": "64fce57a",
   "metadata": {},
   "outputs": [],
   "source": [
    "x_train = df_bm_train1.drop([\"Item_Outlet_Sales\"],axis = 1)"
   ]
  },
  {
   "cell_type": "code",
   "execution_count": 14,
   "id": "be8f92da",
   "metadata": {},
   "outputs": [],
   "source": [
    "y = df_bm_train1[[\"Item_Outlet_Sales\"]]"
   ]
  },
  {
   "cell_type": "code",
   "execution_count": 15,
   "id": "ee452e51",
   "metadata": {},
   "outputs": [],
   "source": [
    "from sklearn.preprocessing import StandardScaler\n",
    "scaler =StandardScaler()\n",
    "x = scaler.fit_transform(x_train)"
   ]
  },
  {
   "cell_type": "code",
   "execution_count": 16,
   "id": "593f0907",
   "metadata": {},
   "outputs": [],
   "source": [
    "from sklearn.model_selection import train_test_split as tts\n",
    "xtr,xtt,ytr,ytt = tts(x,y,test_size=0.3,random_state = 123)"
   ]
  },
  {
   "cell_type": "code",
   "execution_count": 17,
   "id": "a07f58a9",
   "metadata": {},
   "outputs": [],
   "source": [
    "import pyforest\n",
    "from lazypredict.Supervised import LazyRegressor\n",
    "from pandas.plotting import scatter_matrix as smx\n",
    "\n",
    "from sklearn.linear_model import LinearRegression\n",
    "from sklearn.tree import DecisionTreeRegressor\n",
    "from sklearn.ensemble import ExtraTreesRegressor\n",
    "\n",
    "from sklearn.metrics import mean_squared_error as mse\n",
    "\n",
    "import  warnings\n",
    "warnings.filterwarnings('ignore')"
   ]
  },
  {
   "cell_type": "code",
   "execution_count": null,
   "id": "59646847",
   "metadata": {},
   "outputs": [
    {
     "name": "stderr",
     "output_type": "stream",
     "text": [
      " 74%|████████████████████████████████████████████████████████████▌                     | 31/42 [00:52<00:15,  1.43s/it]"
     ]
    }
   ],
   "source": [
    "lazy = LazyRegressor(ignore_warnings=False , custom_metric=None)\n",
    "models,predictions =  lazy.fit(xtr,xtt,ytr,ytt)"
   ]
  },
  {
   "cell_type": "code",
   "execution_count": null,
   "id": "cd9b2d4b",
   "metadata": {},
   "outputs": [],
   "source": []
  }
 ],
 "metadata": {
  "kernelspec": {
   "display_name": "Python 3 (ipykernel)",
   "language": "python",
   "name": "python3"
  },
  "language_info": {
   "codemirror_mode": {
    "name": "ipython",
    "version": 3
   },
   "file_extension": ".py",
   "mimetype": "text/x-python",
   "name": "python",
   "nbconvert_exporter": "python",
   "pygments_lexer": "ipython3",
   "version": "3.9.13"
  }
 },
 "nbformat": 4,
 "nbformat_minor": 5
}
