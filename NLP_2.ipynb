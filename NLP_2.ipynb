{
 "cells": [
  {
   "cell_type": "code",
   "execution_count": 14,
   "id": "a5ee6408",
   "metadata": {},
   "outputs": [],
   "source": [
    "import spacy"
   ]
  },
  {
   "cell_type": "code",
   "execution_count": null,
   "id": "ce6a05a7",
   "metadata": {},
   "outputs": [],
   "source": [
    "# download modium model\n",
    "# !python -m spacy download en_core_web_md\n",
    "# medium model has word vectors in it"
   ]
  },
  {
   "cell_type": "markdown",
   "id": "9be37c4f",
   "metadata": {},
   "source": [
    "# word vector"
   ]
  },
  {
   "cell_type": "markdown",
   "id": "2f72aac1",
   "metadata": {},
   "source": [
    "#### in simple words it is like converting a word into an array of numbers .\n",
    "#### like we understand teh word \"eat\" but for computer to understand we need to convert into numbe form\n",
    "####  so \"eat\" becomes something like np.arrapy([2.615,-7.316,-3.288,4.937])"
   ]
  },
  {
   "cell_type": "code",
   "execution_count": null,
   "id": "ab10ee92",
   "metadata": {},
   "outputs": [],
   "source": []
  },
  {
   "cell_type": "code",
   "execution_count": null,
   "id": "1a17142f",
   "metadata": {},
   "outputs": [],
   "source": []
  },
  {
   "cell_type": "code",
   "execution_count": 22,
   "id": "993154cf",
   "metadata": {
    "collapsed": true
   },
   "outputs": [
    {
     "data": {
      "text/plain": [
       "'Muhammad Ali (; born Cassius Marcellus Clay Jr.; January 17, 1942 â€“ June 3, 2016) was an American professional boxer and activist. Nicknamed \"the Greatest\", he is regarded as one of the most significant sports figures of the 20th century and is often regarded as the greatest heavyweight boxer of all time. He held the Ring magazine heavyweight title from 1964 to 1970. He was the undisputed champion from 1974 to 1978 and the WBA and Ring heavyweight champion from 1978 to 1979. In 1999, he was named Sportsman of the Century by Sports Illustrated and the Sports Personality of the Century by the BBC.\\nBorn and raised in Louisville, Kentucky, he began training as an amateur boxer at age 12. At 18, he won a gold medal in the light heavyweight division at the 1960 Summer Olympics and turned professional later that year. He converted to Islam after 1961. He won the world heavyweight championship, defeating Sonny Liston in a major upset on February 25, 1964, at age 22. During that year, he denounced his birth name as a \"slave name\" and formally changed his name to Muhammad Ali. In 1966, Ali refused to be drafted into the military owing to his religious beliefs and ethical opposition to the Vietnam War and was found guilty of draft evasion and stripped of his boxing titles. He stayed out of prison while appealing the decision to the Supreme Court, where his conviction was overturned in 1971. He did not fight for nearly four years and lost a period of peak performance as an athlete. Ali\\'s actions as a conscientious objector to the Vietnam War made him an icon for the larger counterculture of the 1960s generation, and he was a very high-profile figure of racial pride for African Americans during the civil rights movement and throughout his career. As a Muslim, Ali was initially affiliated with Elijah Muhammad\\'s Nation of Islam (NOI). He later disavowed the NOI, adhering to Sunni Islam.\\nHe fought in several historic boxing matches, including his highly publicized fights with Sonny Liston, Joe Frazier (including the Fight of the Century, the biggest boxing event up until then), the Thrilla in Manila, and his fight with George Foreman in The Rumble in the Jungle. Ali thrived in the spotlight at a  time when many boxers let their managers do the talking, and he became renowned for his provocative and outlandish persona. He was famous for trash-talking, often free-styled with rhyme schemes and spoken word poetry, and has been recognized as a pioneer in hip hop. He often predicted in which round he would knock out his opponent.\\nOutside boxing, Ali attained success as a spoken word artist, releasing two studio albums: I Am the Greatest! (1963) and The Adventures of Ali and His Gang vs. Mr. Tooth Decay (1976). Both albums received Grammy Award nominations. He also featured as an actor and writer, releasing two autobiographies. Ali retired from boxing in 1981 and focused on religion, philanthropy and activism. In 1984, he made public his diagnosis of Parkinson\\'s syndrome, which some reports attributed to boxing-related injuries, though he and his specialist physicians disputed this. He remained an active public figure globally, but in his later years made fewer public appearances as his condition worsened, and he was cared for by his family.\\n\\nEarly life\\nCassius Marcellus Clay Jr. ( KASH-É™ss) was born on January 17, 1942, in Louisville, Kentucky. He had one brother. He was named after his father, Cassius Marcellus Clay Sr., who had a sister and four brothers and who himself was named in honor of the 19th-century Republican politician and staunch abolitionist Cassius Marcellus Clay, also from the state of Kentucky. Clay\\'s father\\'s paternal grandparents were John Clay and Sallie Anne Clay; Clay\\'s sister Eva claimed that Sallie was a native of Madagascar. He was a descendant of slaves of the antebellum South, and was predominantly of African descent, with Irish and English family heritage. Ali\\'s maternal great-grandfather, Abe Grady, emigrated from Ennis, County Clare, Ireland. DNA testing performed in 2018 showed that, through his paternal grandmother, Ali was a descendant of the former slave Archer Alexander, who had been chosen from the building crew as the model of a freed man for the Emancipation Memorial, and was the subject of abolitionist William Greenleaf Eliot\\'s book, The Story of Archer Alexander: From Slavery to Freedom. Like Ali, Alexander fought for his freedom.His father was a sign and billboard painter, and his mother, Odessa O\\'Grady Clay (1917â€“1994), was a domestic helper. Although Cassius Sr. was a Methodist, he allowed Odessa to bring up both Cassius Jr. and his younger brother, Rudolph \"Rudy\" Clay (later renamed Rahaman Ali), as Baptists. Cassius Jr. attended Central High School in Louisville. He was dyslexic, which led to difficulties in reading and writing, at school and for much of his life.Ali grew up amid racial segregation. His mother recalled one occasion when he was denied a drink of water at a store: \"They wouldn\\'t give him one because of his color. That really affected him.\" He was also strongly affected by the 1955 murder of Emmett Till, which led to young Clay and a friend taking out their frustration by vandalizing a local rail yard. His daughter Hana later wrote that Ali once told her, \"Nothing would ever shake me up (more) than the story of Emmett Till.\"\\n\\nAmateur career\\nClay was first directed toward boxing by Louisville police officer and boxing coach Joe E. Martin, who encountered the 12-year-old fuming over a thief\\'s having taken his bicycle. He told the officer he was going to \"whup\" the thief. The officer told Clay he had better learn how to box first. Initially, Clay did not take up Martin\\'s offer, but after seeing amateur boxers on a local television boxing program called Tomorrow\\'s Champions, Clay was interested in the prospect of fighting. He then began to work with trainer Fred Stoner, whom he credits with giving him the \"real training\", eventually molding \"my style, my stamina and my system.\" For the last four years of Clay\\'s amateur career he was trained by boxing cutman Chuck Bodak.\\nClay made his amateur boxing debut in 1954 against local amateur boxer Ronnie O\\'Keefe. He won by split decision. He went on to win six Kentucky Golden Gloves titles, two national Golden Gloves titles, an Amateur Athletic Union national title, and the light heavyweight gold medal in the 1960 Summer Olympics in Rome. Clay\\'s amateur record was 100 wins with five losses. Ali said in his 1975 autobiography that shortly after his return from the Rome Olympics, he threw his gold medal into the Ohio River after he and a friend were refused service at a \"whites-only\" restaurant and fought with a white gang. The story was later disputed, and several of Ali\\'s friends, including Bundini Brown and photographer Howard Bingham, denied it. Brown told Sports Illustrated writer Mark Kram, \"Honkies sure bought into that one!\" Thomas Hauser\\'s biography of Ali stated that Ali was refused service at the diner but that he lost his medal a year after he won it. Ali received a replacement medal at the Georgia Dome during the 1996 Olympics in Atlanta, where he lit the torch to start the Games.\\n\\nProfessional career\\nEarly career\\nClay made his professional debut on October 29, 1960, winning a six-round decision over Tunney Hunsaker. From then until the end of 1963, Clay amassed a record of 19â€“0 with 15 wins by knockout. He defeated boxers including Tony Esperti, Jim Robinson, Donnie Fleeman, Alonzo Johnson, George Logan, Willi Besmanoff, LaMar Clark, Doug Jones, and Henry Cooper. Clay also beat his former trainer and veteran boxer Archie Moore in a 1962 match.These early fights were not without trials. Clay was knocked down by both Sonny Banks and Cooper. In the Cooper fight, Clay was floored by a left hook at the end of round four and was saved by the bell, going on to win in the predicted fifth round due to Cooper\\'s severely cut eye. The fight with Doug Jones on March 13, 1963, was Clay\\'s toughest fight during this stretch. The number two and three heavyweight contenders respectively, Clay and Jones fought on Jones\\' home turf at New York\\'s Madison Square Garden. Jones staggered Clay in the first round, and the unanimous decision for Clay was greeted by boos and a rain of debris thrown into the ring. Watching on closed-circuit TV, heavyweight champ Sonny Liston quipped that if he fought Clay he (Liston) might get locked up for murder. The fight was later named \"Fight of the Year\" by The Ring magazine.In each of these fights, Clay vocally belittled his opponents and vaunted his abilities. He called Jones \"an ugly little man\" and Cooper a \"bum\". He said he was embarrassed to get in the ring with Alex Miteff and claimed that Madison Square Garden was \"too small for me.\" Ali\\'s trash talk was inspired by professional wrestler \"Gorgeous George\" Wagner\\'s, after he saw George\\'s talking ability attract huge crowds to events. Ali stated in a 1969 interview with the Associated Press\\' Hubert Mizel that he met with George in Las Vegas in 1961, that George told him that talking a big game would earn paying fans who either wanted to see him win or wanted to see him lose, thus Ali transformed himself into a self-described \"big-mouth and a bragger\".In 1960, Clay left Moore\\'s camp, partially due to Clay\\'s refusal to do chores such as washing dishes and sweeping. To replace Moore, Clay hired Angelo Dundee to be his trainer. Clay had met Dundee in February 1957 during Clay\\'s amateur career. Around this time, Clay sought longtime idol Sugar Ray Robinson to be his manager, but was rebuffed.\\n\\nWorld heavyweight champion\\nFights against Liston\\nBy late 1963, Clay had become the top contender for Sonny Liston\\'s title. The fight was set for February 25, 1964, in Miami Beach. Liston was an intimidating personality, a dominating fighter with a criminal past and ties to the mob. Based on Clay\\'s uninspired performance against Jones and Cooper in his previous two fights, and Liston\\'s destruction of former heavyweight champion Floyd Patterson in two first-round knockouts, Clay was a 7â€“1 underdog. Despite this, Clay taunted Liston during the pre-fight buildup, dubbing him \"the big ugly bear\", stating \"Liston even smells like a bear\" and claiming \"After I beat him I\\'m going to donate him to the zoo.\" Clay turned the pre-fight weigh-in into a circus, shouting at Liston that \"someone is going to die at ringside tonight.\" Clay\\'s pulse rate was measured at 120, more than double his normal 54. Many of those in attendance thought Clay\\'s behavior stemmed from fear, and some commentators wondered if he would show up for the bout.\\nThe outcome of the fight was a major upset. At the opening bell, Liston rushed at Clay, seemingly angry and looking for a quick knockout. However, Clay\\'s superior speed and mobility enabled him to elude Liston, making the champion miss and look awkward. At the end of the first round, Clay opened up his attack and hit Liston repeatedly with jabs. Liston fought better in round two, but at the beginning of the third round Clay hit Liston with a combination that buckled his knees and opened a cut under his left eye. This was the first time Liston had ever been cut. At the end of round four, Clay was returning to his corner when he began experiencing blinding pain in his eyes and asked his trainer, Angelo Dundee, to cut off his gloves. Dundee refused. It has been speculated that the problem was due to ointment used to seal Liston\\'s cuts, perhaps deliberately applied by his corner to his gloves. Though unconfirmed, boxing historian Bert Sugar said that two of Liston\\'s opponents also complained about their eyes \"burning\".Despite Liston\\'s attempts to knock out a blinded Clay, Clay was able to survive the fifth round until sweat and tears rinsed the irritation from his eyes. In the sixth, Clay dominated, hitting Liston repeatedly. Liston did not answer the bell for the seventh round, and Clay was declared the winner by TKO. Liston stated that the reason he quit was an injured shoulder. Following the win, a triumphant Clay rushed to the edge of the ring and, pointing to the ringside press, shouted: \"Eat your words!\" He added, \"I am the greatest! I shook up the world. I\\'m the prettiest thing that ever lived.\"At ringside post fight, Clay appeared unconvinced that the fight was stopped due to a Liston shoulder injury, saying that the only injury Liston had was \"an open eye, a big cut eye!\" When told by Joe Louis that the injury was a \"left arm thrown out of its socket,\" Clay quipped, \"Yeah, swinging at nothing, who wouldn\\'t?\"In winning this fight at the age of 22, Clay became the youngest boxer to take the title from a reigning heavyweight champion. However, Floyd Patterson remained the youngest to win the heavyweight championship, doing so at the age 21 during an elimination bout following Rocky Marciano\\'s retirement. Mike Tyson broke both records in 1986 when he defeated Trevor Berbick to win the heavyweight title at age 20. The feat also made Clay the fastest boxer to the win championship (non-vacant) in the modern era, doing so in 20 bouts.\\nSoon after the Liston fight, Clay changed his name to Cassius X, and then later to Muhammad Ali upon converting to Islam and affiliating with the Nation of Islam. Ali then faced a rematch with Liston scheduled for May 1965 in Lewiston, Maine. It had been scheduled for Boston the previous November, but was postponed for six months due to Ali\\'s emergency surgery for a hernia three days before. The fight was controversial. Midway through the first round, Liston was knocked down by a difficult-to-see blow the press dubbed a \"phantom punch\". Referee Jersey Joe Walcott did not begin the count immediately after the knockdown, as Ali refused to retreat to a neutral corner. Liston rose after he had been down for about 20 seconds, and the fight momentarily continued. However a few seconds later Walcott, having been informed by the timekeepers that Liston had been down for a count of 10, stopped the match and declared Ali the winner by knockout. The entire fight lasted less than two minutes.It has since been speculated that Liston purposely dropped to the ground. Proposed motivations include threats on his life from the Nation of Islam, that he had bet against himself and that he \"took a dive\" to pay off debts. Slow-motion replays show that Liston was jarred by a chopping right from Ali, although it is unclear whether the blow was a genuine knockout punch.\\n\\nFight against Patterson\\nAli defended his title against former heavyweight champion Floyd Patterson on November 22, 1965. Before the match, Ali mocked Patterson, who was widely known to call him by his former name Cassius Clay, as an \"Uncle Tom\", calling him \"The Rabbit\". Although Ali clearly had the better of Patterson, who appeared injured during the fight, the match lasted 12 rounds before being called on a technical knockout. Patterson later said he had strained his sacroiliac. Ali was criticized in the sports media for appearing to have toyed with Patterson during the fight. Patterson biographer W. K. Stratton claims that the conflict between Ali and Patterson was not genuine but was staged to increase ticket sales and the closed-circuit viewing audience, with both men complicit in the theatrics. Stratton also cites an interview by Howard Cosell in which Ali explained that rather than toying with Patterson, he refrained from knocking him out after it became apparent Patterson was injured. Patterson later said that he had never been hit by punches as soft as Ali\\'s. Stratton states that Ali arranged the second fight, in 1972, with the financially struggling Patterson to help the former champion earn enough money to pay a debt to the IRS.\\n\\nMain Bout\\nAfter the Patterson fight, Ali founded his own promotion company, Main Bout. The company mainly handled Ali\\'s boxing promotions and pay-per-view closed-circuit television broadcasts. The company\\'s stockholders were mainly fellow Nation of Islam members, along with several others, including Bob Arum.Ali and then-WBA heavyweight champion boxer Ernie Terrell had agreed to meet for a bout in Chicago on March 29, 1966 (the WBA, one of two boxing associations, had stripped Ali of his title following his joining the Nation of Islam). But in February Ali was reclassified by the Louisville draft board as 1-A from 1-Y, and he indicated that he would refuse to serve, commenting to the press, \"I ain\\'t got nothing against no Viet Cong; no Viet Cong never called me nigger.\", although the second part is probably apocryphal. Amidst the media and public outcry over Ali\\'s stance, the Illinois Athletic Commission refused to sanction the fight, citing technicalities.Instead, Ali traveled to Canada and Europe and won championship bouts against George Chuvalo, Henry Cooper, Brian London, and Karl Mildenberger.\\nAli returned to the United States to fight Cleveland Williams at the Astrodome in Houston on November 14, 1966. The bout drew a record-breaking indoor crowd of 35,460 people. Williams had once been considered among the hardest punchers in the heavyweight division, but in 1964 he had been shot at point-blank range by a Texas policeman, resulting in the loss of one kidney and 3.0 metres (10 ft) of his small intestine. Ali dominated Williams, winning a third-round technical knockout in what some consider the finest performance of his career.\\nAli fought Terrell in Houston on February 6, 1967. Terrell, who was unbeaten in five years and had defeated many of the boxers Ali had faced, was billed as Ali\\'s toughest opponent since Liston; he was big, strong and had a three-inch reach advantage over Ali. During the lead up to the bout, Terrell repeatedly called Ali \"Clay\", much to Ali\\'s annoyance. The two almost came to blows over the name issue in a pre-fight interview with Howard Cosell. Ali seemed intent on humiliating Terrell. \"I want to torture him\", he said. \"A clean knockout is too good for him.\" The fight was close until the seventh round, when Ali bloodied Terrell and almost knocked him out. In the eighth round, Ali taunted Terrell, hitting him with jabs and shouting between punches, \"What\\'s my name, Uncle Tom ... what\\'s my name?\" Ali won a unanimous 15-round decision. Terrell claimed that early in the fight Ali deliberately thumbed him in the eye, forcing him to fight half-blind, and then, in a clinch, rubbed the wounded eye against the ropes. Because of Ali\\'s apparent intent to prolong the fight to inflict maximum punishment, critics described the bout as \"one of the ugliest boxing fights.\" Tex Maule later wrote: \"It was a wonderful demonstration of boxing skill and a barbarous display of cruelty.\" Ali denied the accusations of cruelty but, for Ali\\'s critics, the fight provided more evidence of his arrogance.\\nAfter Ali\\'s title defense against Zora Folley on March 22, he was stripped of his title due to his refusal to be drafted to army service. His boxing license was also suspended by the state of New York. He was convicted of draft evasion on June 20 and sentenced to five years in prison and a $10,000 fine. He paid a bond and remained free while the verdict was being appealed.\\n\\nDraft resistance\\nAli registered for conscription in the United States military on his 18th birthday and was listed as 1-A in 1962. In 1964, he was reclassified as Class 1-Y (fit for service only in times of national emergency) after he failed the U.S. Armed Forces qualifying test because his writing and spelling skills were sub-standard, due to his dyslexia. (He was quoted as saying, \"I said I was the greatest, not the smartest!\") By early 1966, the army lowered its standards to permit soldiers above the 15th percentile and Ali was again classified as 1-A. This classification meant he was now eligible for the draft and induction into the U.S. Army at a time when the U.S. was involved in the Vietnam War, a war which put him further at odds with the white establishment.When notified of this status, Ali declared that he would refuse to serve in the army and publicly considered himself a conscientious objector. Ali stated: \"War is against the teachings of the Qur\\'an. I\\'m not trying to dodge the draft. We are not supposed to take part in no wars unless declared by Allah or The Messenger. We don\\'t take part in Christian wars or wars of any unbelievers\". He also said \"We are not to be the aggressor but we will defend ourselves if attacked.\" He stated: \"Man, I ain\\'t got no quarrel with them Viet Cong.\" Ali elaborated: \"Why should they ask me to put on a uniform and go ten thousand miles from home and drop bombs and bullets on brown people in Vietnam while so-called Negro people in Louisville are treated like dogs and denied simple human rights?\" Ali antagonized the white establishment in 1966 by refusing to be drafted into the U.S. military, citing his religious beliefs and opposition to American involvement in the Vietnam War.On April 28, 1967, Ali appeared in Houston for his scheduled induction into the U.S. Armed Forces, but he refused three times to step forward when his name was called. An officer warned him that he was committing a felony punishable by five years in prison and a fine of $10,000. Once more, Ali refused to budge when his name was called, and he was arrested. Later that same day, the New York State Athletic Commission suspended his boxing license and the World Boxing Association stripped him of his title. Other boxing commissions followed suit. Ali remained unable to obtain a license to box in any state for over three years. On June 4, 1967, in a first for sports professionals, a group of high-profile African-American athletes including Jim Brown, Bill Russell, and Kareem Abdul-Jabbar, as well as one political leader, Carl Stokes, assembled at the Negro Industrial Economic Union in Cleveland for what became known as the \"Cleveland Summit\" or the \"Muhammad Ali Summit.\" The meeting was organized by Brown for his peers to question Ali about the seriousness of his convictions, and to decide whether to support him, which they ultimately did.\\nAt the trial on June 20, 1967, the jury found Ali guilty after only 21 minutes of deliberation of the criminal offense of violating the Selective Service laws by refusing to be drafted. After a Court of Appeals upheld the conviction, the case was reviewed by the U.S. Supreme Court in 1971.Ali remained free in the years between the Appellate Court decision and the Supreme Court ruling. As public opinion began turning people against the war and the Civil Rights Movement continued to gather momentum, Ali became a popular speaker at colleges and universities across the country; this itinerary was rare if not unprecedented for a prizefighter. At Howard University, for example, he gave his popular \"Black Is Best\" speech to 4,000 cheering students and community intellectuals, after he was invited to speak by sociology professor Nathan Hare on behalf of the Black Power Committee, a student protest group.On June 28, 1971, the Supreme Court of the United States in Clay v. United States overturned Ali\\'s conviction by a unanimous 8â€“0 decision (Justice Thurgood Marshall recused himself, as he had been the U.S. Solicitor General at the time of Ali\\'s conviction). The decision was not based on, nor did it address, the merits of Ali\\'s claims per se. Rather, the Court held that since the appeal board gave no reason for the denial of a conscientious objector exemption to Ali, that it was therefore impossible to determine which of the three basic tests for conscientious objector status (offered in the Justice Department\\'s brief) the appeal board relied on, and Ali\\'s conviction must be reversed.\\n\\nImpact of Ali\\'s draft refusal\\nAli\\'s example inspired many black Americans and others. However, initially when he refused induction, he became arguably the most hated man in the country and received many death threats. People who supported Ali during this time were also threatened, including sports journalist Jerry Izenberg, whose columns defended Ali\\'s decision not to serve. He wrote, \"Bomb threats emptied our office, making the staff stand out in the snow. My car windshield was smashed with a sledgehammer.\" The New York Times columnist William Rhoden wrote, \"Ali\\'s actions changed my standard of what constituted an athlete\\'s greatness. Possessing a killer jump shot or the ability to stop on a dime was no longer enough. What were you doing for the liberation of your people? What were you doing to help your country live up to the covenant of its founding principles?\"Recalling Ali\\'s anti-war position, Kareem Abdul-Jabbar said: \"I remember the teachers at my high school didn\\'t like Ali because he was so anti-establishment and he kind of thumbed his nose at authority and got away with it. The fact that he was proud to be a black man and that he had so much talent ... made some people think that he was dangerous. But for those very reasons I enjoyed him.\"Civil rights figures came to believe that Ali had an energizing effect on the freedom movement as a whole. Al Sharpton spoke of his bravery at a time when there was still widespread support for the Vietnam War:\\n\\nFor the heavyweight champion of the world, who had achieved the highest level of athletic celebrity, to put all of that on the lineâ€”the money, the ability to get endorsementsâ€”to sacrifice all of that for a cause, gave a whole sense of legitimacy to the movement and the causes with young people that nothing else could have done. Even those who were assassinated, certainly lost their lives, but they didn\\'t voluntarily do that. He knew he was going to jail and did it anyway. That\\'s another level of leadership and sacrifice.\\nAli was honored with the annual Martin Luther King Award in 1970 by civil rights leader Ralph Abernathy, who called him \"a living example of soul power, the March on Washington in two fists.\" Coretta Scott King added that Ali was \"a champion of justice and peace and unity.\"In speaking of the cost on Ali\\'s career of his refusal to be drafted, his trainer Angelo Dundee said, \"One thing must be taken into account when talking about Ali: He was robbed of his best years, his prime years.\" Ali\\'s promoter Bob Arum did not support Ali\\'s choice at the time, but in 2016 Arum stated: \"when I look back at his life, and I was blessed to call him a friend and spent a lot of time with him, it\\'s hard for me to talk about his exploits in boxing because as great as they were they paled in comparison to the impact that he had on the world. ... He did what he thought was right. And it turned out he was right, and I was wrong.\"Ali\\'s resistance to the draft was covered in the 2013 documentary The Trials of Muhammad Ali.\\n\\nNSA and FBI monitoring of Ali\\'s communications\\nIn a secret operation code-named \"Minaret\", the National Security Agency (NSA) intercepted the communications of leading Americans, including Ali, Senators Frank Church and Howard Baker, Dr. Martin Luther King Jr., prominent U.S. journalists, and others who criticized the U.S. war in Vietnam. A review by the NSA of the Minaret program concluded that it was \"disreputable if not outright illegal.\"In 1971, Ali\\'s Fight of the Century with Frazier was used by an activist group, the Citizens\\' Commission to Investigate the FBI, to pull off a burglary at an FBI office in Pennsylvania; the anticipation for the fight was unlike anything else, so they believed the security would also be focused on the fight. This raid exposed the COINTELPRO operations that included illegal spying on activists involved with the civil rights and anti-war movements. One of the COINTELPRO targets was Ali, and their activities included the FBI gaining access to his records as far back as elementary school; one such record mentioned him loving art as a child.\\n\\nExile and comeback\\nIn March 1966, Ali refused to be inducted into the armed forces. He was systematically denied a boxing license in every state and stripped of his passport. As a result, he did not fight from March 1967 to October 1970â€”from ages 25 to almost 29â€”as his case worked its way through the appeals process before his conviction was overturned in 1971.\\n\\nProtesting while exiled\\nDuring this time of inactivity, as opposition to the Vietnam War began to grow and Ali\\'s stance gained sympathy, he spoke at colleges across the nation, criticizing the Vietnam War and advocating African-American pride and racial justice. Ali based himself in Chicago. According to most close to him, his Chicago years were formative.\\nAt the time, Ali was widely condemned by the American media, with fears that his actions could potentially lead to mass civil disobedience. Despite this, Ebony magazine noted in the late 1960s that Ali\\'s popularity had increased during this time, especially among black people.\\n\\nThe Super Fight\\nWhile banned from sanctioned bouts, Ali settled a $1 million lawsuit against radio producer Murray Woroner by accepting $10,000 to appear in a privately staged fantasy fight against retired champion Rocky Marciano. In 1969 the boxers were filmed sparring for about 75 one-minute rounds; they produced several potential outcomes. A computer program purportedly determined the winner, based on data about the fighters, along with the opinions of approximately 250 boxing experts. Edited versions of the bout were shown in movie theaters in 1970. In the U.S. version Ali lost in a simulated 13th-round knockout, but in the European version Marciano lost due to cuts, also simulated.Ali suggested that prejudice determined his defeat in the U.S. version; he was reported to have jokingly said, \"That computer was made in Alabama.\"\\n\\nReturn\\nOn August 11, 1970, with his case still in appeal, Ali was granted a license to box by the City of Atlanta Athletic Commission. Leroy Johnson, Jesse Hill Jr. and Harry Pett had used their local political influence and set up the company House of Sports to organize the fight, underlining the influential power of Georgia\\'s black politics in Ali\\' s comeback. Ali\\'s first return bout was against Jerry Quarry on October 26, resulting in a win after three rounds after Quarry was cut.\\nA month earlier, a victory in federal court forced the New York State Boxing Commission to reinstate Ali\\'s license. He fought Oscar Bonavena at Madison Square Garden in December, an uninspired performance that ended in a dramatic technical knockout of Bonavena in the 15th round. The win left Ali as a top contender against heavyweight champion Joe Frazier.\\n\\nFight against Joe Frazier\\nAli and Frazier\\'s first fight, held at the Garden on March 8, 1971, was nicknamed the \"Fight of the Century\", due to the tremendous excitement surrounding a bout between two undefeated fighters, each with a legitimate claim to be heavyweight champion. Veteran US boxing writer John Condon called it \"the greatest event I\\'ve ever worked on in my life.\" The bout was broadcast to 36 countries; promoters granted 760 press passes.Adding to the atmosphere were the considerable pre-fight theatrics and name calling. Before the fight Frazier called Ali, \"Cassius Clay\", this angered Ali and he portrayed Frazier as a \"dumb tool of the white establishment.\" \"Frazier is too ugly to be champ\", Ali said. \"Frazier is too dumb to be champ.\" Ali also frequently called Frazier an \"Uncle Tom\". Dave Wolf, who worked in Frazier\\'s camp, recalled that, \"Ali was saying \\'the only people rooting for Joe Frazier are white people in suits, Alabama sheriffs, and members of the Ku Klux Klan. I\\'m fighting for the little man in the ghetto.\\' Joe was sitting there, smashing his fist into the palm of his hand, saying, \\'What the fuck does he know about the ghetto?\\'\"Ali began training at a farm near Reading, Pennsylvania, in 1971 and, finding the country setting to his liking, sought to develop a real training camp in the countryside. He found a five-acre site on a Pennsylvania country road in the village of Deer Lake, Pennsylvania. On this site, Ali carved out what was to become his training camp, where he trained for all his fights from 1972 to the end of his career in 1981.\\nThe Monday night fight lived up to its billing. In a preview of their two other fights, a crouching, bobbing and weaving Frazier constantly pressured Ali, getting hit regularly by Ali jabs and combinations, but relentlessly attacking and scoring repeatedly, especially to Ali\\'s body. The fight was even in the early rounds, but Ali was taking more punishment than ever in his career. On several occasions in the early rounds he played to the crowd and shook his head \"no\" after he was hit. In the later roundsâ€”in what was the first appearance of the \"rope-a-dope strategy\"â€”Ali leaned against the ropes and absorbed punishment from Frazier, hoping to tire him. In the 11th round, Frazier connected with a left hook that wobbled Ali, but because it appeared that Ali might be clowning as he staggered backwards across the ring, Frazier hesitated to press his advantage, fearing an Ali counter-attack. In the final round, Frazier knocked Ali down with a vicious left hook, which referee Arthur Mercante said was as hard as a man can be hit. Ali was back on his feet in three seconds. Nevertheless, Ali lost by unanimous decision, his first professional defeat.\\n\\nChamberlain challenge and Ellis fight\\nIn 1971, basketball star Wilt Chamberlain challenged Ali to a fight, and a bout was scheduled for July 26. Although the seven-foot-two-inch tall Chamberlain had formidable physical advantages over Aliâ€”weighing 60 pounds more and able to reach 14 inches furtherâ€”Ali was able to influence Chamberlain into calling off the bout by taunting him with calls of \"Timber!\" and \"The tree will fall\" during a shared interview. These statements of confidence unsettled his taller opponent, whom Los Angeles Lakers owner Jack Kent Cooke had offered a record-setting contract, conditional on Chamberlain agreeing to abandon what Cooke termed \"this boxing foolishness\", and he did exactly that. To replace Ali\\'s opponent, promoter Bob Arum quickly booked a former sparring partner of Ali\\'s, Jimmy Ellis, who was a childhood friend from Louisville, Kentucky, to fight him. Ali won the bout through a technical knockout when the referee stopped the fight in the twelfth round.\\n\\nAfter his loss\\nFights against Quarry, Patterson, Foster and Norton\\nAfter the loss to Frazier, Ali fought Jerry Quarry, had a second bout with Floyd Patterson and faced Bob Foster in 1972, winning a total of six fights that year. In 1973, Ken Norton broke Ali\\'s jaw while giving him the second loss of his career. After initially considering retirement, Ali won a controversial decision against Norton in their second bout. This led to a rematch with Joe Frazier at Madison Square Garden on January 28, 1974; Frazier had recently lost his title to George Foreman.\\n\\nSecond fight against Joe Frazier\\nAli was strong in the early rounds of the fight, and staggered Frazier in the second round. Referee Tony Perez mistakenly thought he heard the bell ending the round and stepped between the two fighters as Ali was pressing his attack, giving Frazier time to recover. However, Frazier came on in the middle rounds, snapping Ali\\'s head in round seven and driving him to the ropes at the end of round eight. The last four rounds saw round-to-round shifts in momentum between the two fighters. Throughout most of the bout, however, Ali was able to circle away from Frazier\\'s dangerous left hook and to tie Frazier up when he was cornered, the latter a tactic that Frazier\\'s camp complained of bitterly. Judges awarded Ali a unanimous decision.\\n\\nWorld heavyweight champion (second reign)\\nThe Rumble in the Jungle\\nThe defeat of Frazier set the stage for a title fight against heavyweight champion George Foreman in Kinshasa, Zaire, on October 30, 1974â€”a bout nicknamed The Rumble in the Jungle. Foreman was considered one of the hardest punchers in heavyweight history. In assessing the fight, analysts pointed out that Joe Frazier and Ken Norton, who had given Ali four tough battles and won two of them, had both been devastated by Foreman in second-round knockouts. Ali was 32 years old, and had clearly lost speed and reflexes since his twenties. Contrary to his later persona, Foreman was at the time a brooding and intimidating presence. Almost no one associated with the sport, not even Ali\\'s long-time supporter Howard Cosell, gave the former champion a chance of winning.\\nAs usual, Ali was confident and colorful before the fight. He told interviewer David Frost, \"If you think the world was surprised when Nixon resigned, wait till I whup Foreman\\'s behind!\" He told the press, \"I\\'ve done something new for this fight. I done wrestled with an alligator, I done tussled with a whale; handcuffed lightning, thrown thunder in jail; only last week, I murdered a rock, injured a stone, hospitalized a brick; I\\'m so mean I make medicine sick.\" Ali was wildly popular in Zaire, with crowds chanting \"Ali, bomaye\" (\"Ali, kill him\") wherever he went.\\nAli opened the fight moving and scoring with right crosses to Foreman\\'s head. Then, beginning in the second round, and to the consternation of his corner, Ali retreated to the ropes and invited Foreman to hit him while covering up, clinching and counter-punching, all while verbally taunting Foreman. The move, which would later become known as the \"Rope-a-dope\", so violated conventional boxing wisdomâ€”letting one of the hardest hitters in boxing strike at willâ€”that at ringside writer George Plimpton thought the fight had to be fixed. Foreman, increasingly angered, threw punches that were deflected and did not land squarely. Midway through the fight, as Foreman began tiring, Ali countered more frequently and effectively with punches and flurries, which electrified the pro-Ali crowd. In the eighth round, Ali dropped an exhausted Foreman with a combination at center ring; Foreman failed to make the count. Against the odds, and amidst pandemonium in the ring, Ali had regained the title by knockout. Reflecting on the fight, George Foreman later said: \"I thought Ali was just one more knockout victim until, about the seventh round, I hit him hard to the jaw and he held me and whispered in my ear: \\'That all you got, George?\\' I realized that this ain\\'t what I thought it was.\"\\nIt was a major upset victory, after Ali came in as a 4â€“1 underdog against the previously unbeaten, heavy-hitting Foreman. The fight became famous for Ali\\'s introduction of the rope-a-dope tactic. The fight was watched by a record estimated television audience of 1 billion viewers worldwide. It was the world\\'s most-watched live television broadcast at the time.\\n\\nFights against Wepner, Lyle and Bugner\\nAli\\'s next opponents included Chuck Wepner, Ron Lyle, and Joe Bugner. Wepner, a journeyman known as \"The Bayonne Bleeder\", stunned Ali with a knockdown in the ninth round; Ali would later say he tripped on Wepner\\'s foot. It was a bout that would inspire Sylvester Stallone to create the acclaimed film, Rocky.\\n\\nThird fight against Joe Frazier\\nAli then agreed to a third match with Joe Frazier in Manila. The bout, known as the \"Thrilla in Manila\", was held on October 1, 1975, in temperatures approaching 100 Â°F (38 Â°C). In the first rounds, Ali was aggressive, moving and exchanging blows with Frazier. However, Ali soon appeared to tire and adopted the \"rope-a-dope\" strategy, frequently resorting to clinches. During this part of the bout Ali did some effective counter-punching, but for the most part absorbed punishment from a relentlessly attacking Frazier. In the 12th round, Frazier began to tire, and Ali scored several sharp blows that closed Frazier\\'s left eye and opened a cut over his right eye. With Frazier\\'s vision now diminished, Ali dominated the 13th and 14th rounds, at times conducting what boxing historian Mike Silver called \"target practice\" on Frazier\\'s head. The fight was stopped when Frazier\\'s trainer, Eddie Futch, refused to allow Frazier to answer the bell for the 15th and final round, despite Frazier\\'s protests. Frazier\\'s eyes were both swollen shut. Ali, in his corner, winner by TKO, slumped on his stool, clearly spent.\\nAn ailing Ali said afterwards that the fight \"was the closest thing to dying that I know\", and, when later asked if he had viewed the fight on videotape, reportedly said, \"Why would I want to go back and see Hell?\" After the fight he cited Frazier as \"the greatest fighter of all times next to me.\"\\nAfter the third fight with Frazier, Ali considered retirement. He said, \"I\\'m sore all over. My arms, my face, my sides all ache. I\\'m so, so tired. There is a great possibility that I will retire. You might have seen the last of me. I want to sit back and count my money, live in my house and my farm, work for my people and concentrate on my family.\"\\n\\nLater career\\nOn February 2, 1976, Ali defeated Jean-Pierre Coopman by 5th round knockout. The WBC Heavyweight title was not on the line for this fight. On April 30, 1976, Ali would fight Jimmy Young and win a controversial unanimous decision. Howard Cosell would remark that he had \"never seen Ali so off in his timing\" and when asked on his performance against Young in the post-fight interview, Ali stated that he was \"getting old\" and that he was \"preserving his energy\" for Ken Norton. On May 24, 1976, Ali defeated Richard Dunn, winning by 5th round technical knockout. The punch used to knock Dunn out was taught to Ali by Taekwondo Grandmaster Jhoon Rhee. Rhee called that punch the \"Accupunch\"; he learned it from Bruce Lee. The Dunn fight was the last time Ali would knock an opponent out in his boxing career. \\nAli fought Ken Norton for the third time in September 1976. The bout, which was held at Yankee Stadium, resulted in Ali winning a controversial decision that ringside commentators had scored in favor of Norton. Afterwards, he announced he was retiring from boxing to practice his faith, having converted to Sunni Islam after falling out with the Nation of Islam the previous year.After returning to beat Alfredo Evangelista in May 1977, Ali struggled in his next fight against Earnie Shavers that September, getting pummeled a few times by punches to the head. Ali won the fight by another unanimous decision, but the bout caused his longtime doctor Ferdie Pacheco to quit after he was rebuffed for telling Ali he should retire. Pacheco was quoted as saying, \"the New York State Athletic Commission gave me a report that showed Ali\\'s kidneys were falling apart. I wrote to Angelo Dundee, Ali\\'s trainer, his wife and Ali himself. I got nothing back in response. That\\'s when I decided enough is enough.\"In February 1978, Ali faced Leon Spinks at the Hilton Hotel in Las Vegas. At the time, Spinks had only seven professional fights to his credit, and had recently fought a draw with journeyman Scott LeDoux. Ali sparred less than two dozen rounds in preparation for the fight, and was seriously out of shape by the opening bell. He lost the title by split decision. A rematch occurred in September at the Superdome in New Orleans, Louisiana. 70,000 people attended the bout and paid a total of $6 million admission, making it the largest live gate in boxing history at that time. Ali won a unanimous decision in an uninspiring fight, with referee Lucien Joubert scoring rounds 10-4, judge Ernie Cojoe 10-4, and judge Herman Preis 11-4. This made Ali the first heavyweight champion to win the belt three times.Following this win, on July 27, 1979, Ali announced his retirement from boxing. His retirement was short-lived, however; Ali announced his comeback to face Larry Holmes for the WBC belt in an attempt to win the heavyweight championship an unprecedented fourth time. The fight was largely motivated by Ali\\'s need for money. Boxing writer Richie Giachetti said, \"Larry didn\\'t want to fight Ali. He knew Ali had nothing left; he knew it would be a horror.\"\\nIt was around this time that Ali started struggling with vocal stutters and trembling hands. The Nevada Athletic Commission (NAC) ordered that he undergo a complete physical in Las Vegas before being allowed to fight again. Ali chose instead to check into the Mayo Clinic, who declared him fit to fight. Their opinion was accepted by the NAC on July 31, 1980, paving the way for Ali\\'s return to the ring.\\n\\nFight stoppage vs. Larry Holmes\\nOn October 2, 1980, Ali returned to the ring to fight Holmes at Caesars Palace in Las Vegas. Holmes, who fought under the nickname \"The Easton Assassin\", easily dominated Ali. After the tenth round, Angelo Dundee stepped into the ring and instructed the referee to stop the fight. It was the only time Ali ever lost by stoppage.\\nImmediately after the fight, Ali was given painkillers and antidepressants, in violation of World Boxing Council rules prohibiting the administration of any drug before the postfight urinalysis.Giachetti called the fight \"awful...the worst sports event I ever had to cover.\" Actor Sylvester Stallone was ringside for the fight and said that it was like watching an autopsy on a man who is still alive. The Holmes fight is said to have contributed to Ali\\'s Parkinson\\'s syndrome. Despite pleas to definitively retire, Ali fought one last time on December 11, 1981, in Nassau, Bahamas, against Trevor Berbick, losing a ten-round decision.\\n\\nExhibition bouts\\nAli boxed both well known boxers and celebrities from other walks of life, including Antonio Inoki, Michael Dokes, Sammy Davis Jr., Richard Pryor, Marvin Gaye, Burt Young, Lyle Alzado, Dave Semenko, and Puerto Rican comedian Jose Miguel Agrelot (with Iris Chacon acting as Agrelot\\'s corner-woman).\\n\\nAli vs Inoki\\nOn June 26, 1976, Ali participated in an exhibition bout in Tokyo against Japanese professional wrestler and martial artist Antonio Inoki. Ali was only able to land two jabs while Inoki\\'s kicks caused two blood clots and an infection that almost resulted in Ali\\'s leg being amputated, as a result of Ali\\'s team insisting on rules restricting Inoki\\'s ability to wrestle. The match was not scripted and ultimately declared a draw. After Ali\\'s death, The New York Times declared it his least memorable fight. Most boxing commentators at the time viewed the fight negatively and hoped it would be forgotten as some considered it a \"15-round farce.\" Today it is considered by some to be one of Ali\\'s most influential fights and CBS Sports said the attention the mixed-style bout received \"foretold the arrival of standardized MMA (mixed martial arts) years later.\" Ali and Inoki began a friendship after the fight.\\n\\nAli vs Alzado\\nIn 1979, Ali fought an exhibition match against NFL player Lyle Alzado. The fight went 8 rounds and was declared a draw.\\n\\nAli vs Semenko\\nAli fought NHL player, Dave Semenko in an exhibition on June 12, 1983. The match was officially a draw after going three rounds, but the Associated Press reported Ali was not seriously trying and was just toying with Semenko.\\n\\nPersonal life\\nMarriages and children\\nAli was married four times and had seven daughters and two sons. Ali was introduced to cocktail waitress Sonji Roi by Herbert Muhammad, who was to become Ali\\'s long-time manager, and asked her to marry him after their first date. They married approximately one month later on August 14, 1964. They quarreled over Sonji\\'s refusal to join the Nation Of Islam. According to Ali, \"She wouldn\\'t do what she was supposed to do. She wore lipstick; she went into bars; she dressed in clothes that were revealing and didn\\'t look right.\" The marriage was childless and they divorced on January 10, 1966. Just before the divorce was finalized, Ali sent Sonji a note: \"You traded heaven for hell, baby.\" Ali\\'s brother Rahman said that she was Ali\\'s only true love and the Nation of Islam made Ali divorce her and Ali never got over it.On August 17, 1967, Ali married Belinda Boyd. In an interview with NBC 6, Boyd recounted meeting Ali when she was 10 years old at her hometown mosque. \"He said, \\'Listen here little girl. This is my name. Imma be famous. You need to keep that \\'cause it\\'s gone be worth a lot of money,\\'\" Boyd said, mimicking Ali. \"You\\'ll never be famous with that name. And, I walked away,\" Boyd said. Born into a Chicago family that had converted to the Nation Of Islam, she later changed her name to Khalilah Ali, though she was still called Belinda by old friends and family. They had four children: author and rapper Maryum \"May May\" (born 1968); twins Jamillah and Rasheda (born 1970); and Muhammad Ali Jr. (born 1972). Rasheda married Robert Walsh and has two sons: Biaggio Ali (born 1998), who is an amateur MMA fighter, and Nico Ali (born 2000), who is a professional boxer.Ali was a resident of Cherry Hill, New Jersey in suburban Philadelphia in the early 1970s. At age 32 in 1974, Ali began an extramarital relationship with 16-year-old Wanda Bolton (who subsequently changed her name to Aaisha Ali) with whom he fathered another daughter, Khaliah (born 1974). While still married to Belinda, Ali married Aaisha in an Islamic ceremony that was not legally recognized. According to Khaliah, Aaisha and her mother lived at Ali\\'s Deer Lake training camp alongside Belinda and her children. In January 1985, Aaisha sued Ali for unpaid palimony. The case was settled when Ali agreed to set up a $200,000 trust fund for Khaliah. In 2001 Khaliah was quoted as saying she believed her father viewed her as \"a mistake\". He had another daughter, Miya (born 1972), from an extramarital relationship with Patricia Harvell.By the summer of 1977, his second marriage ended due to Ali\\'s repeated infidelity, and he had married actress and model Veronica PorchÃ©. At the time of their marriage, they had a daughter, Hana, and Veronica was pregnant with their second child. Their second daughter, Laila Ali, was born in December 1977. By 1986, Ali and PorchÃ© were divorced due to Ali\\'s continuous infidelity. PorchÃ© said of Ali\\'s infidelity, \"It was too much temptation for him, with women who threw themselves at him, It didn\\'t mean anything. He didn\\'t have affairs â€“ he had one-night stands. I knew beyond a doubt there were no feelings involved. It was so obvious, It was easy to forgive him.\"On November 19, 1986, Ali married Yolanda \"Lonnie\" Williams. Lonnie first met Ali at the age of 6 when her family moved to Louisville in 1963. In 1982, she became Ali\\'s primary caregiver and in return, he paid for her to attend graduate school at UCLA. Together they adopted a son, Asaad Amin (born 1986), when Asaad was five months old. In 1992, Lonnie incorporated Greatest of All Time, Inc. (G.O.A.T. Inc) to consolidate and license his intellectual properties for commercial purposes. She served as the vice president and treasurer until the sale of the company in 2006.Kiiursti Mensah-Ali claims she is Ali\\'s biological daughter with Barbara Mensah, with whom he allegedly had a 20-year relationship, citing photographs and a paternity test conducted in 1988. She said he accepted responsibility and took care of her, but all contacts with him were cut off after he married his fourth wife Lonnie. Kiiursti says she has a relationship with his other children. After his death she again made passionate appeals to be allowed to mourn at his funeral.In 2010, Osmon Williams came forward claiming to be Ali\\'s biological son. His mother Temica Williams (also known as Rebecca Holloway) launched a $3 million lawsuit against Ali in 1981 for sexual assault, claiming that she had started a sexual relationship with him when she was 12, and that her son Osmon (born 1977) was fathered by Ali. She further alleged that Ali had originally supported her and her son financially, but stopped doing so after four years. The case went on until 1986 and was eventually thrown out as her allegations were deemed to be barred by the statute of limitations. According to Veronica, Ali admitted to the affair with Williams, but did not believe Osmon was his son which Veronica supported by saying \"Everybody in the camp was going with that girl.\" Ali biographer and friend Thomas Hauser has said this claim was of \"questionable veracity\".Ali then lived in Scottsdale, Arizona with Lonnie. In January 2007, it was reported that they had put their home in Berrien Springs, Michigan, which they had bought in 1975, up for sale and had purchased a home in eastern Jefferson County, Kentucky for $1,875,000. Both homes were subsequently sold after Ali\\'s death with Lonnie living in their remaining home in Paradise Valley, Arizona. Lonnie converted to Islam from Catholicism in her late twenties.In a 1974 interview, Ali said, \"If they say stand and salute the flag I do that out of respect, because I\\'m in the country\". Ali would later say, \"If America was in trouble and real war came, I\\'d be on the front line if we had been attacked. But I could see that (The Vietnam War) wasn\\'t right.\" He also said, \"Black men would go over there and fight, but when they came home, they couldn\\'t even be served a hamburger.\"Ali\\'s daughter Laila was a professional boxer from 1999 until 2007, despite her father\\'s previous opposition to women\\'s boxing. In 1978, he said \"Women are not made to be hit in the breast, and face like that.\" Ali still attended a number of his daughter\\'s fights and later admitted to Laila he was wrong. Ali\\'s daughter Hana is married to Bellator middleweight fighter Kevin Casey. Hana wrote about her father, \"His love for people was extraordinary. I would get home from school to find homeless families sleeping in our guest room. He\\'d see them on the street, pile them into his Rolls-Royce and bring them home. He\\'d buy them clothes, take them to hotels and pay the bills for months in advance.\" She also said celebrities like Michael Jackson and Clint Eastwood would often visit Ali. After Ali met a lesbian couple who were fans of his in 1997, he smiled and said to his friend Hauser, \"They look like they\\'re happy together.\" Hauser wrote about the story, \"The thought that Liz and Roz (the lesbian couple he met) were happy pleased Muhammad. Ali wanted people to be happy.\"\\n\\nReligion and beliefs\\nAffiliation with the Nation of Islam\\nAli said that he first heard of the Nation of Islam when he was fighting in the Golden Gloves tournament in Chicago in 1959, and attended his first Nation of Islam meeting in 1961. He continued to attend meetings, although keeping his involvement hidden from the public. In 1962, Clay met Malcolm X, who soon became his spiritual and political mentor. By the time of the first Liston fight, Nation of Islam members, including Malcolm X, were visible in his entourage. This led to a story in The Miami Herald just before the fight disclosing that Clay had joined the Nation of Islam, which nearly caused the bout to be canceled. The article quoted Cassius Clay Sr. as saying that his son had joined the Black Muslims when he was 18.\\nIn fact, Clay was initially refused entry to the Nation of Islam (often called the Black Muslims at the time) due to his boxing career. However, after he won the championship from Liston in 1964, the Nation of Islam was more receptive and agreed to publicize his membership. Shortly afterwards on March 6, Elijah Muhammad gave a radio address that Clay would be renamed Muhammad (one who is worthy of praise) Ali (most high). Around that time Ali moved to the south side of Chicago and lived in a series of houses, always near the Nation of Islam\\'s Mosque Maryam or Elijah Muhammad\\'s residence. He stayed in Chicago for about 12 years.Only a few journalists, most notably Howard Cosell, accepted the new name at that time. Ali stated that his earlier name was a \"slave name,\" and a \"white man\\'s name\" and added that \"I didn\\'t choose it and I don\\'t want it. I am Muhammad Ali, a free name\". The person he was formerly named after was a white slave owner turned abolitionist. Ali explained in his autobiography after studying his works, \"he may have gotten rid of his slaves, but (he) held on to white supremacy.\" In truth, Cassius Clay\\'s attachment to slavery went farther than Ali knew. In spite of his abolitionist fervor, Clay owned more slaves in 1865, when the 13th Amendment to the Constitution finally forbade its practice, than he had inherited from his wealthy slave-owning father Green Clay 37 years earlier. With the Clay name coming from a family of enslavers, Ali concluded: \"Why should I keep my white slavemaster\\'s name visible and my black ancestors invisible, unknown, unhonored?\"Not afraid to antagonize the white establishment, Ali stated, \"I am America. I am the part you won\\'t recognize. But get used to me. Black, confident, cocky; my name, not yours; my religion, not yours; my goals, my own; get used to me.\" Ali\\'s friendship with Malcolm X ended as Malcolm split with the Nation of Islam a couple of weeks after Ali joined, and Ali remained with the Nation of Islam. Ali later said that turning his back on Malcolm was one of the mistakes he regretted most in his life.Aligning himself with the Nation of Islam, its leader Elijah Muhammad, and a narrative that labeled the white race as the perpetrator of genocide against African Americans made Ali a target of public condemnation. The Nation of Islam was widely viewed by whites and some African Americans as a black separatist \"hate religion\" with a propensity toward violence; Ali had few qualms about using his influential voice to speak Nation of Islam doctrine. In a press conference articulating his opposition to the Vietnam War, Ali stated, \"My enemy is the white people, not Vietcong or Chinese or Japanese.\" In relation to integration, he said: \"We who follow the teachings of Elijah Muhammad don\\'t want to be forced to integrate. Integration is wrong. We don\\'t want to live with the white man; that\\'s all.\" Further articulating his opposition to integration, he told members of the KKK at a Klan rally in 1975 that \"black people should marry their own women... blue birds are blue birds, red birds are red birds, pigeons with pigeons, eagles with eagles, God did not make no mistake\".Writer Jerry Izenberg once noted that, \"the Nation became Ali\\'s family and Elijah Muhammad became his father. But there is an irony to the fact that while the Nation branded white people as devils, Ali had more white colleagues than most African American people did at that time in America, and continued to have them throughout his career.\"\\n\\nConversion to Sunni/Sufi Islam\\nIn Hauser\\'s biography Muhammad Ali: His Life and Times, Ali says that although he is not a Christian as he thinks the idea of God having a son sounds wrong and does not make sense to him, as he believes, \"God don\\'t beget; man begets\". He still believes that even good Christians or good Jews can receive God\\'s blessing and enter heaven as he stated, \"God created all people, no matter what their religion\". He also stated, \"If you\\'re against someone because he\\'s a Muslim that\\'s wrong. If you\\'re against someone because he\\'s a Christian or a Jew, that\\'s wrong\".In a 2004 autobiography, Ali attributed his conversion to mainstream Sunni Islam to Warith Deen Muhammad, who assumed leadership of the Nation of Islam upon the death of his father Elijah Muhammad, and persuaded the Nation\\'s followers to become adherents of Sunni Islam. He said some people didn\\'t like the change and stuck to Elijah\\'s teachings, but he admired it and so left Elijah\\'s teachings and became a follower of Sunni Islam.Ali had gone on the Hajj pilgrimage to Mecca in 1972, which inspired him in a similar manner to Malcolm X, meeting people of different colors from all over the world giving him a different outlook and greater spiritual awareness. In 1977, he said that, after he retired, he would dedicate the rest of his life to getting \"ready to meet God\" by helping people, charitable causes, uniting people and helping to make peace. He went on another Hajj pilgrimage to Mecca in 1988.After the September 11 attacks in 2001, he stated that \"Islam is a religion of peace\" and \"does not promote terrorism or killing people\", and that he was \"angry that the world sees a certain group of Islam followers who caused this destruction, but they are not real Muslims. They are racist fanatics who call themselves Muslims.\" In December 2015, he stated that \"True Muslims know that the ruthless violence of so-called Islamic jihadists goes against the very tenets of our religion\", that \"We as Muslims have to stand up to those who use Islam to advance their own personal agenda\", and that \"political leaders should use their position to bring understanding about the religion of Islam, and clarify that these misguided murderers have perverted people\\'s views on what Islam really is.\"He also developed an interest in Sufism, which he referenced in his autobiography, The Soul of a Butterfly. According to Ali\\'s daughter, Hana Yasmeen Ali, who co-authored The Soul of a Butterfly with him, Ali was attracted to Sufism after reading the books of Inayat Khan, which contain Sufi teachings.Muhammad Ali received guidance from Islamic scholars such as Grand Mufti of Syria Al Marhum Al Sheikh Ahmed Kuftaro, Hisham Kabbani, Imam Zaid Shakir, Hamza Yusuf, and Timothy J. Gianotti, who was at Ali\\'s bedside during his last days and ensured that although his funeral was interfaith, it was still in accordance with Islamic rites and rituals.\\n\\nBeatles reunion plan\\nIn 1976, inventor Alan Amron and businessman Joel Sacher partnered with Ali to promote The International Committee to Reunite the Beatles. They asked fans worldwide to contribute a dollar each. Ali said the idea was not to use the proceeds for profit, but to establish an international agency to help poor children. \"This is money to help people all over the world\", he said. He added, \"I love the music. I used to train to their music.\" He said a reunion of the Beatles \"would make a lot of people happy.\" The former Beatles were indifferent to the plan, which elicited only a tepid response from the public. No reunion happened.\\n\\nEntertainment career\\nActing\\nAli had a cameo role in the 1962 film version of Requiem for a Heavyweight, and during his exile from boxing, he starred in the short-lived 1969 Broadway musical, Buck White. He also appeared in the documentary film Black Rodeo (1972) riding both a horse and a bull.\\nHis autobiography The Greatest: My Own Story, written with Richard Durham, was published in 1975. In 1977 the book was adapted into a film called The Greatest, in which Ali played himself and Ernest Borgnine played Angelo Dundee.\\nThe film Freedom Road, made in 1978, features Ali in a rare acting role as Gideon Jackson, a former slave and Union (American Civil War) soldier in 1870s Virginia, who gets elected to the U.S. Senate and battles alongside former slaves and white sharecroppers to keep the land they have tended all their lives.\\n\\nSpoken word poetry and rap music\\nAli often used rhyme schemes and spoken word poetry, both for when he was trash talking in boxing and as political poetry for his activism outside of boxing. He played a role in the shaping of the black poetic tradition, paving the way for The Last Poets in 1968, Gil Scott-Heron in 1970, and the emergence of rap music in the 1970s. According to The Guardian, \"Some have argued that\" Ali was \"the first rapper.\"In 1963, Ali released an album of spoken word music on Columbia Records titled, I Am the Greatest, and in 1964, he recorded a cover version of the rhythm and blues song \"Stand by Me\". I Am the Greatest sold 500,000 copies, and has been identified as an early example of rap music and a precursor to hip hop. It reached number 61 on the album chart and was nominated for the Grammy Award for Best Comedy Album at the 6th Annual Grammy Awards in 1964. He later received a second Grammy nomination, for \"Best Recording for Children\", with his 1976 spoken word novelty record, The Adventures of Ali and His Gang vs. Mr. Tooth Decay.Ali was an influential figure in the world of hip hop music. As a \"rhyming trickster\", he was noted for his \"funky delivery\", \"boasts\", \"comical trash talk\", and \"endless quotables.\" According to Rolling Stone, his \"freestyle skills\" and his \"rhymes, flow, and braggadocio\" would \"one day become typical of old school MCs\" like Runâ€“D.M.C. and LL Cool J, and his \"outsized ego foreshadowed the vainglorious excesses of Kanye West, while his Afrocentric consciousness and cutting honesty pointed forward to modern bards like Rakim, Nas, Jay-Z, and Kendrick Lamar.\" \"I\\'ve wrestled with alligators, I\\'ve tussled with a whale. I done handcuffed lightning and throw thunder in jail. You know I\\'m bad. Just last week, I murdered a rock, Injured a stone, Hospitalized a brick. I\\'m so mean, I make medicine sick\" \"Float like a butterfly, sting like a bee. His hands can\\'t hit what his eyes can\\'t see. Now you see me, now you don\\'t. George thinks he will, but I know he won\\'t.\" Ali spoke like no man the world had seen before. So confident in what he said; fluent, smooth, creative, and intimidating. He was a boxer and an activist, but he also had a role in influencing what now dominated pop-culture, hip-hop. In 2006, the documentary Ali Rap was produced by ESPN. Chuck D, a rapper for the band Public Enemy is the host. Other rappers narrated the documentary as well, including Doug E Fresh, Ludacris and Rakim who all spoke on Ali\\'s behalf in the film.\\nHe has been cited as an inspiration by rappers such as LL Cool J, Public Enemy\\'s Chuck D, Jay-Z, Eminem, Sean Combs, Slick Rick, Nas and MC Lyte. Ali has been referenced in a number of hip hop songs, including Migos \"Fight Night\", The Game\\'s \"Jesus Piece\", Nas\\' \"The Message\", The Sugarhill Gang\\'s \"Rapper\\'s Delight\", the Fugees\\' \"Ready or Not\", EPMD\\'s \"You\\'re a Customer\" and Will Smith\\'s \"Gettin\\' Jiggy wit It\".\\n\\nProfessional wrestling\\nAli was involved with professional wrestling at different times in his career.\\nOn June 1, 1976, as Ali was preparing for his bout with Inoki, he attended a match featuring Gorilla Monsoon. After the match was over, Ali removed his shirt and jacket and confronted professional wrestler Gorilla Monsoon in the ring after his match at a World Wide Wrestling Federation show in Philadelphia Arena. After dodging a few punches, Monsoon put Ali in an airplane spin and dumped him to the mat. Ali stumbled to the corner, where his associate Butch Lewis convinced him to walk away.On March 31, 1985, Ali was the special guest referee for the main event of the inaugural WrestleMania event.In 1995, Ali led a group of Japanese and American professional wrestlers, including his 1976 opponent Antonio Inoki and Ric Flair, on a sports diplomacy mission to North Korea. Ali was guest of honor at the record-breaking Collision in Korea, a wrestling event with the largest attendance of all time.\\n\\nTelevision appearances\\nMuhammad Ali\\'s fights were some of the world\\'s most-watched television broadcasts, setting television viewership records. His most-watched fights drew an estimated 1â€“2 billion viewers worldwide between 1974 and 1980, and were the world\\'s most-watched live television broadcasts at the time. Outside of fights, he made many other television appearances. The following table lists known viewership figures of his non-fight television appearances. For television viewership figures of his fights, see Boxing career of Muhammad Ali: Television viewership.\\n\\nArt\\nAli was also an amateur artist and made dozens of drawings and paintings in the 1970s. In 1977, Rodney Hilton Brown, who owned an art gallery in NYC, asked Ali if he was interested in painting. Ali took him up on the offer and produced several paintings for him to sell. Brown is the author of \"Muhammad Ali: The Untold Story: Painter, Poet and Prophet.\" In October 2021, 26 of his drawings and arts were placed on auction and sold for close to US$1 Million.\\n\\nLater life\\nBy the end of his boxing career Ali had absorbed an estimated 200,000 hits.In 1984, Ali was diagnosed with Parkinson\\'s syndrome, which sometimes results from head trauma from violent physical activities such as boxing. Ali still remained active during this time, later participating as a guest referee at WrestleMania I.\\n\\nPhilanthropy, humanitarianism and politics\\nAli was known for being a humanitarian and philanthropist. He focused on practicing his Islamic duty of charity and good deeds, donating millions to charity organizations and disadvantaged people of all religious backgrounds. It is estimated that Ali helped to feed more than 22 million people afflicted by hunger across the world. Early in his career, one of his main focuses was youth education. He spoke at several historically black colleges and universities about the importance of education, and became the largest single black donor to the United Negro College Fund in 1967 by way of a $10,000 donation ($78,000 in 2020 USD). In late 1966, he also pledged to donate a total of $100,000 to the UNCF (specifically promising to donate much of the proceeds of his title defense against Cleveland Williams), and paid $4,500 per closed circuit installation at six HBCUs so they could watch his fights.Ali began visiting Africa, starting in 1964 when he visited Nigeria and Ghana. In 1974, he visited a Palestinian refugee camp in Southern Lebanon, where Ali declared \"support for the Palestinian struggle to liberate their homeland.\" In 1978, following his loss to Spinks and before winning the rematch, Ali visited Bangladesh and received honorary citizenship there. The same year, he participated in The Longest Walk, a protest march in the United States in support of Native American rights, along with singer Stevie Wonder and actor Marlon Brando.In early 1980, Ali was recruited by President Jimmy Carter for a diplomatic mission to Africa, in an effort to persuade a number of African governments to join the US-led boycott of the Moscow Olympics in protest of the Soviet Invasion of Afghanistan. Having arrived in Tanzania, Ali told cameras \"Russia is invading a Muslim country, Asiatic country\", and that its probable intention to head to oil-rich Persia to take dwells and ports \"could lead to nuclear war. My purpose in coming here was to try to stop that.\" However, according to Ali biographer Thomas Hauser, \"at best, it was ill-conceived; at worst, a diplomatic disaster.\" The Tanzanian government was insulted that Carter had sent an athlete to discuss a serious political issue. One official asked whether the United States would \"send Chris Evert to negotiate with London.\" Consequently, Ali was only received by the youth and culture minister, rather than President Julius Nyerere. Ali was unable to explain why the African countries should join the US boycott when it had failed to support the African boycott of the 1976 Olympics (in protest of Apartheid in South Africa), although neither did the Soviet Union, and was unaware of the sentiment that the Soviet Union had backed some popular revolutions on the continent, although none of the countries on the itinerary were Soviet allies. The Nigerian government also rebuffed him and confirmed that they would be participating in the Moscow Games. Ali did, however, convince the government of Kenya to boycott the Soviet Olympics.On January 19, 1981, in Los Angeles, Ali talked a suicidal man down from jumping off a ninth-floor ledge, an event that made national news.\\nIn 1984, Ali announced his support for the re-election of United States President Ronald Reagan. When asked to elaborate on his endorsement of Reagan, Ali told reporters, \"He\\'s keeping God in schools and that\\'s enough.\" In 1985, he visited Israel to request the release of Muslim prisoners at Atlit detainee camp, which Israel declined.Around 1987, the California Bicentennial Foundation for the U.S. Constitution selected Ali to personify the vitality of the U.S. Constitution and Bill of Rights. Ali rode on a float at the following year\\'s Tournament of Roses Parade, launching the U.S. Constitution\\'s 200th birthday commemoration. In 1988, during the First Intifada, Ali participated in a Chicago rally in support of Palestine. The same year, he visited Sudan to raise awareness about the plight of famine victims. According to Politico, Ali supported Orrin Hatch politically. In 1989, he participated in an Indian charity event with the Muslim Educational Society in Kozhikode, Kerala, along with Bollywood actor Dilip Kumar.\\nIn 1990, Ali traveled to Iraq prior to the Gulf War, and met with Saddam Hussein in an attempt to negotiate the release of American hostages. Ali secured the release of the hostages, in exchange for promising Hussein that he would bring America \"an honest account\" of Iraq. Despite arranging the hostages release, he received criticism from President George H. W. Bush, and Joseph C. Wilson, the highest-ranking American diplomat in Baghdad.\\nAli cooperated with Thomas Hauser on a biography, Muhammad Ali: His Life and Times. The oral history was released in 1991.\\nIn 1994, Ali campaigned to the United States government to come to the aid of refugees afflicted by the Rwandan genocide, and to donate to organizations helping Rwandan refugees.In 1996, he lit the flame at the 1996 Summer Olympics in Atlanta, Georgia. It was watched by an estimated 3.5 billion viewers worldwide.On November 17, 2002, Ali went to Afghanistan as the \"U.N. Messenger of Peace.\" He was in Kabul for a three-day goodwill mission as a special guest of the UN.On September 1, 2009, Ali visited Ennis, County Clare, Ireland, the home of his great-grandfather, Abe Grady, who emigrated to the U.S. in the 1860s, eventually settling in Kentucky.On July 27, 2012, Ali was a titular bearer of the Olympic flag during the opening ceremonies of the 2012 Summer Olympics in London. He was helped to his feet by his wife Lonnie to stand before the flag due to his Parkinson\\'s syndrome rendering him unable to carry it into the stadium. The same year, he was awarded the Philadelphia Liberty Medal in recognition of his lifelong efforts in activism, philanthropy and humanitarianism.\\n\\nEarnings\\nBy 1978, Ali\\'s total fight purse earnings were estimated to be nearly $60 million (inflation-adjusted $364 million), including an estimated $47.45 million grossed between 1970 and 1978. By 1980, his total fight purse earnings were estimated to be up to $70 million (inflation-adjusted $337 million).\\nIn 1978, Ali revealed that he was \"broke\" and several news outlets reported his net worth to be an estimated $3.5 million (inflation-adjusted $16 million). The press attributed his decline in wealth to several factors, including taxes consuming at least half of his income, management taking a third of his income, his lifestyle, and spending on family, charity and religious causes.In 2006, Ali sold his name and image for $50 million, after which Forbes estimated his net worth to be $55 million in 2006. Following his death in 2016, his fortune was estimated to be between $50 million and $80 million.\\n\\nDeclining health\\nAli\\'s Parkinson\\'s syndrome led to a gradual decline in his health, though he was still active into the early 2000s, promoting his own biopic, Ali, in 2001. That year he also contributed an on-camera segment to the America: A Tribute to Heroes benefit concert.\\nIn 1998, Ali began working with actor Michael J. Fox, who has Parkinson\\'s disease, to raise awareness and fund research for a cure. They made a joint appearance before Congress to push the case in 2002. In 2000, Ali worked with the Michael J. Fox Foundation for Parkinson\\'s Research to raise awareness and encourage donations for research.In February 2013, Ali\\'s brother Rahman Ali said Muhammad could no longer speak and could be dead within days. Ali\\'s daughter May May Ali responded to the rumors, stating that she had talked to him on the phone the morning of February 3 and he was fine. On December 20, 2014, Ali was hospitalized for a mild case of pneumonia. Ali was once again hospitalized on January 15, 2015, for a urinary tract infection after being found unresponsive at a guest house in Scottsdale, Arizona. He was released the next day.\\n\\nDeath\\nAli was hospitalized in Scottsdale, Arizona, on June 2, 2016, with a respiratory illness. Though his condition was initially described as fair, it worsened, and he died the following day at the age of 74 from septic shock.\\n\\nNews coverage and tributes\\nFollowing Ali\\'s death, he was the number-one trending topic on Twitter for over 12 hours and on Facebook for several days. BET played their documentary Muhammad Ali: Made In Miami. ESPN played four hours of non-stop commercial-free coverage of Ali. News networks, such as ABC News, BBC, CNN, and Fox News, also covered him extensively.\\nHe was mourned globally, and a family spokesman said the family \"certainly believes that Muhammad was a citizen of the world ... and they know that the world grieves with him.\" Politicians such as Barack Obama, Hillary Clinton, Bill Clinton, Donald Trump, David Cameron and more paid tribute to Ali. Ali also received numerous tributes from the world of sports including Michael Jordan, Tiger Woods, Floyd Mayweather, Mike Tyson, the Miami Marlins, LeBron James, Steph Curry and more. Louisville Mayor Greg Fischer stated, \"Muhammad Ali belongs to the world. But he only has one hometown.\"The day after Ali\\'s death, the UFC paid tribute to Ali at their UFC 199 event in a lengthy video tribute package, crediting Ali for his accomplishments and inspiring multiple UFC champions.\\n\\nMemorial\\nAli\\'s funeral had been pre-planned by himself and others for several years prior to his actual death. The services began in Louisville on June 9, 2016, with an Islamic Janazah prayer service at Freedom Hall on the grounds of the Kentucky Exposition Center. The Janazah prayer was attended by Turkish President Recep Tayyip ErdoÄŸan. On June 10, 2016, the funeral procession passed through the streets of Louisville ending at Cave Hill Cemetery, where his body was interred during a private ceremony. A public memorial service for Ali at downtown Louisville\\'s KFC Yum! Center was held during the afternoon of June 10. Billy Crystal gave the eulogy. The pallbearers included Will Smith, Lennox Lewis and Mike Tyson, with honorary pallbearers including George Chuvalo, Larry Holmes and George Foreman. Ali\\'s memorial was watched by an estimated 1 billion viewers worldwide.\\nIf the measure of greatness is to gladden the heart of every human being on the face of the earth, then he truly was the greatest. In every way he was the bravest, the kindest and the most excellent of men.\\n\\nLegacy\\nAli remains the only three-time lineal heavyweight champion. He is the only boxer to be named The Ring magazine Fighter of the Year six times, and was involved in more Ring \"Fight of the Year\" bouts than any other fighter. He was one of only three boxers to be named \"Sportsman of the Year\" by Sports Illustrated. Muhammad Ali was inducted into the International Boxing Hall of Fame in its first year and held wins over seven other Hall of Fame inductees during an era that has been called the golden age of heavyweight boxing. The Associated Press ranked him as the second best boxer and best heavyweight of the 20th century. His joint records of beating 21 boxers for the world heavyweight title and winning 14 unified title bouts stood for 35 years.\\nIn 1978, three years before Ali\\'s permanent retirement, the Louisville Board of Aldermen in his hometown of Louisville, Kentucky, voted 6â€“5 to rename Walnut Street to Muhammad Ali Boulevard. This was controversial at the time, as within a week 12 of the 70 street signs were stolen. Earlier that year, a committee of the Jefferson County Public Schools (Kentucky) considered renaming Ali\\'s alma mater, Central High School, in his honor, but the motion failed to pass. In time, Muhammad Ali Boulevardâ€”and Ali himselfâ€”came to be well accepted in his hometown.Ali was named one of the 100 most influential Americans of the 20th century by Life magazine in 1990. In 1993, the Associated Press reported that Ali was tied with Babe Ruth as the most recognized athlete, out of over 800 dead or living athletes, in America. The study found that over 97% of Americans over 12 years of age identified both Ali and Ruth. He was the recipient of the 1997 Arthur Ashe Courage Award.\\nAt the end of the 20th century he was ranked at or near the top of most lists of the century\\'s greatest athletes. He was crowned Sportsman of the Century by Sports Illustrated. Named BBC\\'s Sports Personality of the Century, he received more votes than the other five candidates combined. \\nHe was also named BBC Overseas Sports Personality of the Year three times. He was named Athlete of the Century by USA Today, and ranked as the third greatest North American athlete of the 20th century by ESPN SportsCentury. Ali was named \"Kentucky Athlete of the Century\" by the Kentucky Athletic Hall of Fame in ceremonies at the Galt House East.In 1999, Time magazine named Ali one of the 100 Most Important People of the 20th Century. On January 8, 2001, Muhammad Ali was presented with the Presidential Citizens Medal by President Bill Clinton. In November 2005, he received the Presidential Medal of Freedom from President George W. Bush, followed by the Otto Hahn Peace Medal in Gold of the UN Association of Germany (DGVN) in Berlin for his work with the civil rights movement and the United Nations, which he received on December 17, 2005.\\nOn November 19, 2005, Ali and his wife Lonnie Ali opened the $60 million non-profit Muhammad Ali Center in downtown Louisville. In addition to displaying his boxing memorabilia, the center focuses on core themes of peace, social responsibility, respect, and personal growth. On June 5, 2007, he received an honorary doctorate of humanities at Princeton University\\'s 260th graduation ceremony.Ali Mall, located in Araneta Center, Quezon City, Philippines, is named after him. Construction of the mall, the first of its kind in the Philippines, began shortly after Ali\\'s victory in a match with Joe Frazier in nearby Araneta Coliseum in 1975. The mall opened in 1976 with Ali attending its opening.The 1976 Muhammad Ali vs. Antonio Inoki fight played an important role in the history of mixed martial arts. In Japan, the match inspired Inoki\\'s students Masakatsu Funaki and Minoru Suzuki to found Pancrase in 1993, which in turn inspired the foundation of Pride Fighting Championships in 1997. Pride was acquired by its rival, Ultimate Fighting Championship, in 2007.The Muhammad Ali Boxing Reform Act was introduced in 1999 and passed in 2000, to protect the rights and welfare of boxers in the United States. In May 2016, a bill was introduced to United States Congress by Markwayne Mullin, a politician and former MMA fighter, to extend the Ali Act to mixed martial arts. In June 2016, US senator Rand Paul proposed an amendment to the US draft laws named after Ali, a proposal to eliminate the Selective Service System.In 2015, Sports Illustrated renamed its Sportsman Legacy Award to the Sports Illustrated\\'s Muhammad Ali Legacy Award. The annual award was originally created in 2008 and honors former \"sports figures who embody the ideals of sportsmanship, leadership and philanthropy as vehicles for changing the world.\" Ali first appeared on the magazine\\'s cover in 1963 and went on to be featured on numerous covers during his storied career.The Society of Voice Arts and Sciences created the Muhammad Ali Voice of Humanity Honor in 2016, which is presented at its annual Voice Arts Awards. The award was created in collaboration with the Muhammad Ali Center and is presented to \"an individual whose voice, through humanitarianism, activism or personal sacrifice, has made a decidedly positive impact on our national or global condition as a society.\" Sculptor Marc Mellon created the bronze sculpture for the award, which depicts Ali mid-speech. Recipients of the honor include Dr. Henry Louis Gates, Ken Burns, Vance Jones, Lonnie Ali, Stacey Abrams, Wes Studi, and Manuela Testolini.On January 13, 2017, the Muhammad Ali Commemorative Coin Act was introduced into the 115th Congress (2017â€“2019), but was not enacted.\\n\\nIn media and popular culture\\nAs a world champion boxer, social activist, sex symbol and pop culture icon, Ali was the subject of numerous creative works including books, films, music, video games, TV shows, and other. Muhammad Ali was often dubbed the world\\'s \"most famous\" person in the media. Several of his fights were watched by an estimated 1â€“2 billion viewers between 1974 and 1980, and his lighting of the torch at the 1996 Atlanta Olympics was watched by an estimated 3.5 billion viewers.\\nAli appeared on the cover of Sports Illustrated on 38 different occasions, second only to Michael Jordan\\'s 46. He also appeared on the cover of Time Magazine 5 times, the most of any athlete. In 2015, Harris Poll found that Ali was one of the three most recognizable athletes in the United States, along with Michael Jordan and Babe Ruth.Martial artist and actor Bruce Lee was influenced by Ali, whose footwork he studied and incorporated into his own style while developing Jeet Kune Do in the 1960s.On the set of Freedom Road Ali met Canadian singer-songwriter Michel, and subsequently helped create Michel\\'s album The First Flight of the Gizzelda Dragon and an unaired television special featuring them both.Ali was the subject of the British television program This Is Your Life in 1978 when he was surprised by Eamonn Andrews. Ali was featured in Superman vs. Muhammad Ali, a 1978 DC Comics comic book pitting the champ against the superhero. In 1979, Ali guest-starred as himself in an episode of the NBC sitcom Diff\\'rent Strokes. The show\\'s title itself was inspired by the quote \"Different strokes for different folks\" popularized in 1966 by Ali, who also inspired the title of the 1967 Syl Johnson song \"Different Strokes\", one of the most sampled songs in pop music history.He also wrote several bestselling books about his career, including The Greatest: My Own Story and The Soul of a Butterfly. The Muhammad Ali effect, named after Ali, is a term that came into use in psychology in the 1980s, as he stated in The Greatest: My Own Story: \"I only said I was the greatest, not the smartest.\" According to this effect, when people are asked to rate their intelligence and moral behavior in comparison to others, people will rate themselves as more moral, but not more intelligent than others.When We Were Kings, a 1996 documentary about the Rumble in the Jungle, won the Academy Award for Best Documentary Feature. The 2001 biopic Ali garnered a Best Actor Oscar nomination for Will Smith for his portrayal of Ali. Prior to making the film, Smith rejected the role until Ali requested that he accept it. Smith said the first thing Ali told him was: \"Man, you\\'re almost pretty enough to play me.\"In 2002, Ali was honored with a star on the Hollywood Walk of Fame for his contributions to the entertainment industry. His star is the only one to be mounted on a vertical surface, out of deference to his request that the name Muhammadâ€”a name he shares with the Islamic prophetâ€”not be walked upon.His 1966 fight against George Chuvalo was the subject of Joseph Blasioli\\'s 2003 documentary film The Last Round: Chuvalo vs. Ali.The Trials of Muhammad Ali, a documentary directed by Bill Siegel that focuses on Ali\\'s refusal of the draft during the Vietnam War, opened in Manhattan on August 23, 2013. A 2013 made-for-TV movie titled Muhammad Ali\\'s Greatest Fight dramatized the same aspect of Ali\\'s life.\\nAntoine Fuqua\\'s documentary What\\'s My Name: Muhammad Ali was released in 2019.\\nDocumentary filmmaker Ken Burns created the four-part documentary film Muhammad Ali, spanning over eight hours on Ali\\'s life. Burns worked on the film from early 2016 and it was released in September 2021 on PBS. Dave Zirin, who watched an 8-hour rough cut of this documentary, called it \"utterly outstanding\" and said \"the footage they found will blow minds\".\\n\\nProfessional boxing record\\nDiscography\\nI Am the Greatest (1963)\\nThe Adventures of Ali and His Gang vs. Mr. Tooth Decay (1976)\\n\\nSee also\\nList of heavyweight boxing champions\\nList of WBA world champions\\nList of WBC world champions\\nList of The Ring world champions\\nList of undisputed boxing champions\\nConverts to Islam\\nNotable boxing families\\nList of people from the Louisville metropolitan area\\nList of North American Muslims\\nAfrican-American Muslims\\n1981 MAPS Wells Fargo embezzlement scandal\\n\\nNotes\\nReferences\\nFurther reading\\nHauser, Thomas (2004). Muhammad Ali: His Life and Times. London: Robson Books. ISBN 978-1-86105-738-9. OCLC 56645513.\\n\\nOnline\\nMuhammad Ali: American boxer, in EncyclopÃ¦dia Britannica Online, by Thomas Hauser, Adam Augustyn, Piyush Bhathya, Yamini Chauhan, John M. Cunningham, Richard Pallardy, Michael Ray, Emily Rodriguez, Surabhi Sinha, Amy Tikkanen, Grace Young and The Editors of Encyclopaedia Britannica\\n\\nExternal links\\n\\nOfficial website (archived)\\nBoxing record for Muhammad Ali from BoxRec (registration required) \\nMuhammad Ali at IMDb \\nWilliam Addams Reitwiesner Genealogical Services: Ancestry of Muhammad Ali\\nFBI Records: The Vault â€“ Muhammad Ali at the FBI\\nCassius Clay Guilty (1967), Texas Archive of the Moving Image\\nMuhammad Ali at the USOPC Hall of Fame\\nMuhammad Ali at Olympics.com \\nMuhammad Ali at Olympedia Photo essays\\n\\n\"Cassius Clay: Before He Was Ali\". Life. Archived from the original on October 21, 2009.\\nBerman, Eliza; Ronk, Liz (June 4, 2016). \"Muhammad Ali\\'s Life in Photos; From his time in the ring to his more playful side\". Life. time.com. Archived from the original on June 4, 2016.'"
      ]
     },
     "execution_count": 22,
     "metadata": {},
     "output_type": "execute_result"
    }
   ],
   "source": [
    "with open('muhammad ali','r') as f:\n",
    "    text_ = f.read()\n",
    "text_"
   ]
  },
  {
   "cell_type": "code",
   "execution_count": 30,
   "id": "77a00826",
   "metadata": {},
   "outputs": [
    {
     "data": {
      "text/plain": [
       "'M'"
      ]
     },
     "execution_count": 30,
     "metadata": {},
     "output_type": "execute_result"
    }
   ],
   "source": [
    "text_[0]"
   ]
  },
  {
   "cell_type": "code",
   "execution_count": 31,
   "id": "004a3935",
   "metadata": {
    "collapsed": true
   },
   "outputs": [
    {
     "data": {
      "text/plain": [
       "Muhammad Ali (; born Cassius Marcellus Clay Jr.; January 17, 1942 â€“ June 3, 2016) was an American professional boxer and activist. Nicknamed \"the Greatest\", he is regarded as one of the most significant sports figures of the 20th century and is often regarded as the greatest heavyweight boxer of all time. He held the Ring magazine heavyweight title from 1964 to 1970. He was the undisputed champion from 1974 to 1978 and the WBA and Ring heavyweight champion from 1978 to 1979. In 1999, he was named Sportsman of the Century by Sports Illustrated and the Sports Personality of the Century by the BBC.\n",
       "Born and raised in Louisville, Kentucky, he began training as an amateur boxer at age 12. At 18, he won a gold medal in the light heavyweight division at the 1960 Summer Olympics and turned professional later that year. He converted to Islam after 1961. He won the world heavyweight championship, defeating Sonny Liston in a major upset on February 25, 1964, at age 22. During that year, he denounced his birth name as a \"slave name\" and formally changed his name to Muhammad Ali. In 1966, Ali refused to be drafted into the military owing to his religious beliefs and ethical opposition to the Vietnam War and was found guilty of draft evasion and stripped of his boxing titles. He stayed out of prison while appealing the decision to the Supreme Court, where his conviction was overturned in 1971. He did not fight for nearly four years and lost a period of peak performance as an athlete. Ali's actions as a conscientious objector to the Vietnam War made him an icon for the larger counterculture of the 1960s generation, and he was a very high-profile figure of racial pride for African Americans during the civil rights movement and throughout his career. As a Muslim, Ali was initially affiliated with Elijah Muhammad's Nation of Islam (NOI). He later disavowed the NOI, adhering to Sunni Islam.\n",
       "He fought in several historic boxing matches, including his highly publicized fights with Sonny Liston, Joe Frazier (including the Fight of the Century, the biggest boxing event up until then), the Thrilla in Manila, and his fight with George Foreman in The Rumble in the Jungle. Ali thrived in the spotlight at a  time when many boxers let their managers do the talking, and he became renowned for his provocative and outlandish persona. He was famous for trash-talking, often free-styled with rhyme schemes and spoken word poetry, and has been recognized as a pioneer in hip hop. He often predicted in which round he would knock out his opponent.\n",
       "Outside boxing, Ali attained success as a spoken word artist, releasing two studio albums: I Am the Greatest! (1963) and The Adventures of Ali and His Gang vs. Mr. Tooth Decay (1976). Both albums received Grammy Award nominations. He also featured as an actor and writer, releasing two autobiographies. Ali retired from boxing in 1981 and focused on religion, philanthropy and activism. In 1984, he made public his diagnosis of Parkinson's syndrome, which some reports attributed to boxing-related injuries, though he and his specialist physicians disputed this. He remained an active public figure globally, but in his later years made fewer public appearances as his condition worsened, and he was cared for by his family.\n",
       "\n",
       "Early life\n",
       "Cassius Marcellus Clay Jr. ( KASH-É™ss) was born on January 17, 1942, in Louisville, Kentucky. He had one brother. He was named after his father, Cassius Marcellus Clay Sr., who had a sister and four brothers and who himself was named in honor of the 19th-century Republican politician and staunch abolitionist Cassius Marcellus Clay, also from the state of Kentucky. Clay's father's paternal grandparents were John Clay and Sallie Anne Clay; Clay's sister Eva claimed that Sallie was a native of Madagascar. He was a descendant of slaves of the antebellum South, and was predominantly of African descent, with Irish and English family heritage. Ali's maternal great-grandfather, Abe Grady, emigrated from Ennis, County Clare, Ireland. DNA testing performed in 2018 showed that, through his paternal grandmother, Ali was a descendant of the former slave Archer Alexander, who had been chosen from the building crew as the model of a freed man for the Emancipation Memorial, and was the subject of abolitionist William Greenleaf Eliot's book, The Story of Archer Alexander: From Slavery to Freedom. Like Ali, Alexander fought for his freedom.His father was a sign and billboard painter, and his mother, Odessa O'Grady Clay (1917â€“1994), was a domestic helper. Although Cassius Sr. was a Methodist, he allowed Odessa to bring up both Cassius Jr. and his younger brother, Rudolph \"Rudy\" Clay (later renamed Rahaman Ali), as Baptists. Cassius Jr. attended Central High School in Louisville. He was dyslexic, which led to difficulties in reading and writing, at school and for much of his life.Ali grew up amid racial segregation. His mother recalled one occasion when he was denied a drink of water at a store: \"They wouldn't give him one because of his color. That really affected him.\" He was also strongly affected by the 1955 murder of Emmett Till, which led to young Clay and a friend taking out their frustration by vandalizing a local rail yard. His daughter Hana later wrote that Ali once told her, \"Nothing would ever shake me up (more) than the story of Emmett Till.\"\n",
       "\n",
       "Amateur career\n",
       "Clay was first directed toward boxing by Louisville police officer and boxing coach Joe E. Martin, who encountered the 12-year-old fuming over a thief's having taken his bicycle. He told the officer he was going to \"whup\" the thief. The officer told Clay he had better learn how to box first. Initially, Clay did not take up Martin's offer, but after seeing amateur boxers on a local television boxing program called Tomorrow's Champions, Clay was interested in the prospect of fighting. He then began to work with trainer Fred Stoner, whom he credits with giving him the \"real training\", eventually molding \"my style, my stamina and my system.\" For the last four years of Clay's amateur career he was trained by boxing cutman Chuck Bodak.\n",
       "Clay made his amateur boxing debut in 1954 against local amateur boxer Ronnie O'Keefe. He won by split decision. He went on to win six Kentucky Golden Gloves titles, two national Golden Gloves titles, an Amateur Athletic Union national title, and the light heavyweight gold medal in the 1960 Summer Olympics in Rome. Clay's amateur record was 100 wins with five losses. Ali said in his 1975 autobiography that shortly after his return from the Rome Olympics, he threw his gold medal into the Ohio River after he and a friend were refused service at a \"whites-only\" restaurant and fought with a white gang. The story was later disputed, and several of Ali's friends, including Bundini Brown and photographer Howard Bingham, denied it. Brown told Sports Illustrated writer Mark Kram, \"Honkies sure bought into that one!\" Thomas Hauser's biography of Ali stated that Ali was refused service at the diner but that he lost his medal a year after he won it. Ali received a replacement medal at the Georgia Dome during the 1996 Olympics in Atlanta, where he lit the torch to start the Games.\n",
       "\n",
       "Professional career\n",
       "Early career\n",
       "Clay made his professional debut on October 29, 1960, winning a six-round decision over Tunney Hunsaker. From then until the end of 1963, Clay amassed a record of 19â€“0 with 15 wins by knockout. He defeated boxers including Tony Esperti, Jim Robinson, Donnie Fleeman, Alonzo Johnson, George Logan, Willi Besmanoff, LaMar Clark, Doug Jones, and Henry Cooper. Clay also beat his former trainer and veteran boxer Archie Moore in a 1962 match.These early fights were not without trials. Clay was knocked down by both Sonny Banks and Cooper. In the Cooper fight, Clay was floored by a left hook at the end of round four and was saved by the bell, going on to win in the predicted fifth round due to Cooper's severely cut eye. The fight with Doug Jones on March 13, 1963, was Clay's toughest fight during this stretch. The number two and three heavyweight contenders respectively, Clay and Jones fought on Jones' home turf at New York's Madison Square Garden. Jones staggered Clay in the first round, and the unanimous decision for Clay was greeted by boos and a rain of debris thrown into the ring. Watching on closed-circuit TV, heavyweight champ Sonny Liston quipped that if he fought Clay he (Liston) might get locked up for murder. The fight was later named \"Fight of the Year\" by The Ring magazine.In each of these fights, Clay vocally belittled his opponents and vaunted his abilities. He called Jones \"an ugly little man\" and Cooper a \"bum\". He said he was embarrassed to get in the ring with Alex Miteff and claimed that Madison Square Garden was \"too small for me.\" Ali's trash talk was inspired by professional wrestler \"Gorgeous George\" Wagner's, after he saw George's talking ability attract huge crowds to events. Ali stated in a 1969 interview with the Associated Press' Hubert Mizel that he met with George in Las Vegas in 1961, that George told him that talking a big game would earn paying fans who either wanted to see him win or wanted to see him lose, thus Ali transformed himself into a self-described \"big-mouth and a bragger\".In 1960, Clay left Moore's camp, partially due to Clay's refusal to do chores such as washing dishes and sweeping. To replace Moore, Clay hired Angelo Dundee to be his trainer. Clay had met Dundee in February 1957 during Clay's amateur career. Around this time, Clay sought longtime idol Sugar Ray Robinson to be his manager, but was rebuffed.\n",
       "\n",
       "World heavyweight champion\n",
       "Fights against Liston\n",
       "By late 1963, Clay had become the top contender for Sonny Liston's title. The fight was set for February 25, 1964, in Miami Beach. Liston was an intimidating personality, a dominating fighter with a criminal past and ties to the mob. Based on Clay's uninspired performance against Jones and Cooper in his previous two fights, and Liston's destruction of former heavyweight champion Floyd Patterson in two first-round knockouts, Clay was a 7â€“1 underdog. Despite this, Clay taunted Liston during the pre-fight buildup, dubbing him \"the big ugly bear\", stating \"Liston even smells like a bear\" and claiming \"After I beat him I'm going to donate him to the zoo.\" Clay turned the pre-fight weigh-in into a circus, shouting at Liston that \"someone is going to die at ringside tonight.\" Clay's pulse rate was measured at 120, more than double his normal 54. Many of those in attendance thought Clay's behavior stemmed from fear, and some commentators wondered if he would show up for the bout.\n",
       "The outcome of the fight was a major upset. At the opening bell, Liston rushed at Clay, seemingly angry and looking for a quick knockout. However, Clay's superior speed and mobility enabled him to elude Liston, making the champion miss and look awkward. At the end of the first round, Clay opened up his attack and hit Liston repeatedly with jabs. Liston fought better in round two, but at the beginning of the third round Clay hit Liston with a combination that buckled his knees and opened a cut under his left eye. This was the first time Liston had ever been cut. At the end of round four, Clay was returning to his corner when he began experiencing blinding pain in his eyes and asked his trainer, Angelo Dundee, to cut off his gloves. Dundee refused. It has been speculated that the problem was due to ointment used to seal Liston's cuts, perhaps deliberately applied by his corner to his gloves. Though unconfirmed, boxing historian Bert Sugar said that two of Liston's opponents also complained about their eyes \"burning\".Despite Liston's attempts to knock out a blinded Clay, Clay was able to survive the fifth round until sweat and tears rinsed the irritation from his eyes. In the sixth, Clay dominated, hitting Liston repeatedly. Liston did not answer the bell for the seventh round, and Clay was declared the winner by TKO. Liston stated that the reason he quit was an injured shoulder. Following the win, a triumphant Clay rushed to the edge of the ring and, pointing to the ringside press, shouted: \"Eat your words!\" He added, \"I am the greatest! I shook up the world. I'm the prettiest thing that ever lived.\"At ringside post fight, Clay appeared unconvinced that the fight was stopped due to a Liston shoulder injury, saying that the only injury Liston had was \"an open eye, a big cut eye!\" When told by Joe Louis that the injury was a \"left arm thrown out of its socket,\" Clay quipped, \"Yeah, swinging at nothing, who wouldn't?\"In winning this fight at the age of 22, Clay became the youngest boxer to take the title from a reigning heavyweight champion. However, Floyd Patterson remained the youngest to win the heavyweight championship, doing so at the age 21 during an elimination bout following Rocky Marciano's retirement. Mike Tyson broke both records in 1986 when he defeated Trevor Berbick to win the heavyweight title at age 20. The feat also made Clay the fastest boxer to the win championship (non-vacant) in the modern era, doing so in 20 bouts.\n",
       "Soon after the Liston fight, Clay changed his name to Cassius X, and then later to Muhammad Ali upon converting to Islam and affiliating with the Nation of Islam. Ali then faced a rematch with Liston scheduled for May 1965 in Lewiston, Maine. It had been scheduled for Boston the previous November, but was postponed for six months due to Ali's emergency surgery for a hernia three days before. The fight was controversial. Midway through the first round, Liston was knocked down by a difficult-to-see blow the press dubbed a \"phantom punch\". Referee Jersey Joe Walcott did not begin the count immediately after the knockdown, as Ali refused to retreat to a neutral corner. Liston rose after he had been down for about 20 seconds, and the fight momentarily continued. However a few seconds later Walcott, having been informed by the timekeepers that Liston had been down for a count of 10, stopped the match and declared Ali the winner by knockout. The entire fight lasted less than two minutes.It has since been speculated that Liston purposely dropped to the ground. Proposed motivations include threats on his life from the Nation of Islam, that he had bet against himself and that he \"took a dive\" to pay off debts. Slow-motion replays show that Liston was jarred by a chopping right from Ali, although it is unclear whether the blow was a genuine knockout punch.\n",
       "\n",
       "Fight against Patterson\n",
       "Ali defended his title against former heavyweight champion Floyd Patterson on November 22, 1965. Before the match, Ali mocked Patterson, who was widely known to call him by his former name Cassius Clay, as an \"Uncle Tom\", calling him \"The Rabbit\". Although Ali clearly had the better of Patterson, who appeared injured during the fight, the match lasted 12 rounds before being called on a technical knockout. Patterson later said he had strained his sacroiliac. Ali was criticized in the sports media for appearing to have toyed with Patterson during the fight. Patterson biographer W. K. Stratton claims that the conflict between Ali and Patterson was not genuine but was staged to increase ticket sales and the closed-circuit viewing audience, with both men complicit in the theatrics. Stratton also cites an interview by Howard Cosell in which Ali explained that rather than toying with Patterson, he refrained from knocking him out after it became apparent Patterson was injured. Patterson later said that he had never been hit by punches as soft as Ali's. Stratton states that Ali arranged the second fight, in 1972, with the financially struggling Patterson to help the former champion earn enough money to pay a debt to the IRS.\n",
       "\n",
       "Main Bout\n",
       "After the Patterson fight, Ali founded his own promotion company, Main Bout. The company mainly handled Ali's boxing promotions and pay-per-view closed-circuit television broadcasts. The company's stockholders were mainly fellow Nation of Islam members, along with several others, including Bob Arum.Ali and then-WBA heavyweight champion boxer Ernie Terrell had agreed to meet for a bout in Chicago on March 29, 1966 (the WBA, one of two boxing associations, had stripped Ali of his title following his joining the Nation of Islam). But in February Ali was reclassified by the Louisville draft board as 1-A from 1-Y, and he indicated that he would refuse to serve, commenting to the press, \"I ain't got nothing against no Viet Cong; no Viet Cong never called me nigger.\", although the second part is probably apocryphal. Amidst the media and public outcry over Ali's stance, the Illinois Athletic Commission refused to sanction the fight, citing technicalities.Instead, Ali traveled to Canada and Europe and won championship bouts against George Chuvalo, Henry Cooper, Brian London, and Karl Mildenberger.\n",
       "Ali returned to the United States to fight Cleveland Williams at the Astrodome in Houston on November 14, 1966. The bout drew a record-breaking indoor crowd of 35,460 people. Williams had once been considered among the hardest punchers in the heavyweight division, but in 1964 he had been shot at point-blank range by a Texas policeman, resulting in the loss of one kidney and 3.0 metres (10 ft) of his small intestine. Ali dominated Williams, winning a third-round technical knockout in what some consider the finest performance of his career.\n",
       "Ali fought Terrell in Houston on February 6, 1967. Terrell, who was unbeaten in five years and had defeated many of the boxers Ali had faced, was billed as Ali's toughest opponent since Liston; he was big, strong and had a three-inch reach advantage over Ali. During the lead up to the bout, Terrell repeatedly called Ali \"Clay\", much to Ali's annoyance. The two almost came to blows over the name issue in a pre-fight interview with Howard Cosell. Ali seemed intent on humiliating Terrell. \"I want to torture him\", he said. \"A clean knockout is too good for him.\" The fight was close until the seventh round, when Ali bloodied Terrell and almost knocked him out. In the eighth round, Ali taunted Terrell, hitting him with jabs and shouting between punches, \"What's my name, Uncle Tom ... what's my name?\" Ali won a unanimous 15-round decision. Terrell claimed that early in the fight Ali deliberately thumbed him in the eye, forcing him to fight half-blind, and then, in a clinch, rubbed the wounded eye against the ropes. Because of Ali's apparent intent to prolong the fight to inflict maximum punishment, critics described the bout as \"one of the ugliest boxing fights.\" Tex Maule later wrote: \"It was a wonderful demonstration of boxing skill and a barbarous display of cruelty.\" Ali denied the accusations of cruelty but, for Ali's critics, the fight provided more evidence of his arrogance.\n",
       "After Ali's title defense against Zora Folley on March 22, he was stripped of his title due to his refusal to be drafted to army service. His boxing license was also suspended by the state of New York. He was convicted of draft evasion on June 20 and sentenced to five years in prison and a $10,000 fine. He paid a bond and remained free while the verdict was being appealed.\n",
       "\n",
       "Draft resistance\n",
       "Ali registered for conscription in the United States military on his 18th birthday and was listed as 1-A in 1962. In 1964, he was reclassified as Class 1-Y (fit for service only in times of national emergency) after he failed the U.S. Armed Forces qualifying test because his writing and spelling skills were sub-standard, due to his dyslexia. (He was quoted as saying, \"I said I was the greatest, not the smartest!\") By early 1966, the army lowered its standards to permit soldiers above the 15th percentile and Ali was again classified as 1-A. This classification meant he was now eligible for the draft and induction into the U.S. Army at a time when the U.S. was involved in the Vietnam War, a war which put him further at odds with the white establishment.When notified of this status, Ali declared that he would refuse to serve in the army and publicly considered himself a conscientious objector. Ali stated: \"War is against the teachings of the Qur'an. I'm not trying to dodge the draft. We are not supposed to take part in no wars unless declared by Allah or The Messenger. We don't take part in Christian wars or wars of any unbelievers\". He also said \"We are not to be the aggressor but we will defend ourselves if attacked.\" He stated: \"Man, I ain't got no quarrel with them Viet Cong.\" Ali elaborated: \"Why should they ask me to put on a uniform and go ten thousand miles from home and drop bombs and bullets on brown people in Vietnam while so-called Negro people in Louisville are treated like dogs and denied simple human rights?\" Ali antagonized the white establishment in 1966 by refusing to be drafted into the U.S. military, citing his religious beliefs and opposition to American involvement in the Vietnam War.On April 28, 1967, Ali appeared in Houston for his scheduled induction into the U.S. Armed Forces, but he refused three times to step forward when his name was called. An officer warned him that he was committing a felony punishable by five years in prison and a fine of $10,000. Once more, Ali refused to budge when his name was called, and he was arrested. Later that same day, the New York State Athletic Commission suspended his boxing license and the World Boxing Association stripped him of his title. Other boxing commissions followed suit. Ali remained unable to obtain a license to box in any state for over three years. On June 4, 1967, in a first for sports professionals, a group of high-profile African-American athletes including Jim Brown, Bill Russell, and Kareem Abdul-Jabbar, as well as one political leader, Carl Stokes, assembled at the Negro Industrial Economic Union in Cleveland for what became known as the \"Cleveland Summit\" or the \"Muhammad Ali Summit.\" The meeting was organized by Brown for his peers to question Ali about the seriousness of his convictions, and to decide whether to support him, which they ultimately did.\n",
       "At the trial on June 20, 1967, the jury found Ali guilty after only 21 minutes of deliberation of the criminal offense of violating the Selective Service laws by refusing to be drafted. After a Court of Appeals upheld the conviction, the case was reviewed by the U.S. Supreme Court in 1971.Ali remained free in the years between the Appellate Court decision and the Supreme Court ruling. As public opinion began turning people against the war and the Civil Rights Movement continued to gather momentum, Ali became a popular speaker at colleges and universities across the country; this itinerary was rare if not unprecedented for a prizefighter. At Howard University, for example, he gave his popular \"Black Is Best\" speech to 4,000 cheering students and community intellectuals, after he was invited to speak by sociology professor Nathan Hare on behalf of the Black Power Committee, a student protest group.On June 28, 1971, the Supreme Court of the United States in Clay v. United States overturned Ali's conviction by a unanimous 8â€“0 decision (Justice Thurgood Marshall recused himself, as he had been the U.S. Solicitor General at the time of Ali's conviction). The decision was not based on, nor did it address, the merits of Ali's claims per se. Rather, the Court held that since the appeal board gave no reason for the denial of a conscientious objector exemption to Ali, that it was therefore impossible to determine which of the three basic tests for conscientious objector status (offered in the Justice Department's brief) the appeal board relied on, and Ali's conviction must be reversed.\n",
       "\n",
       "Impact of Ali's draft refusal\n",
       "Ali's example inspired many black Americans and others. However, initially when he refused induction, he became arguably the most hated man in the country and received many death threats. People who supported Ali during this time were also threatened, including sports journalist Jerry Izenberg, whose columns defended Ali's decision not to serve. He wrote, \"Bomb threats emptied our office, making the staff stand out in the snow. My car windshield was smashed with a sledgehammer.\" The New York Times columnist William Rhoden wrote, \"Ali's actions changed my standard of what constituted an athlete's greatness. Possessing a killer jump shot or the ability to stop on a dime was no longer enough. What were you doing for the liberation of your people? What were you doing to help your country live up to the covenant of its founding principles?\"Recalling Ali's anti-war position, Kareem Abdul-Jabbar said: \"I remember the teachers at my high school didn't like Ali because he was so anti-establishment and he kind of thumbed his nose at authority and got away with it. The fact that he was proud to be a black man and that he had so much talent ... made some people think that he was dangerous. But for those very reasons I enjoyed him.\"Civil rights figures came to believe that Ali had an energizing effect on the freedom movement as a whole. Al Sharpton spoke of his bravery at a time when there was still widespread support for the Vietnam War:\n",
       "\n",
       "For the heavyweight champion of the world, who had achieved the highest level of athletic celebrity, to put all of that on the lineâ€”the money, the ability to get endorsementsâ€”to sacrifice all of that for a cause, gave a whole sense of legitimacy to the movement and the causes with young people that nothing else could have done. Even those who were assassinated, certainly lost their lives, but they didn't voluntarily do that. He knew he was going to jail and did it anyway. That's another level of leadership and sacrifice.\n",
       "Ali was honored with the annual Martin Luther King Award in 1970 by civil rights leader Ralph Abernathy, who called him \"a living example of soul power, the March on Washington in two fists.\" Coretta Scott King added that Ali was \"a champion of justice and peace and unity.\"In speaking of the cost on Ali's career of his refusal to be drafted, his trainer Angelo Dundee said, \"One thing must be taken into account when talking about Ali: He was robbed of his best years, his prime years.\" Ali's promoter Bob Arum did not support Ali's choice at the time, but in 2016 Arum stated: \"when I look back at his life, and I was blessed to call him a friend and spent a lot of time with him, it's hard for me to talk about his exploits in boxing because as great as they were they paled in comparison to the impact that he had on the world. ... He did what he thought was right. And it turned out he was right, and I was wrong.\"Ali's resistance to the draft was covered in the 2013 documentary The Trials of Muhammad Ali.\n",
       "\n",
       "NSA and FBI monitoring of Ali's communications\n",
       "In a secret operation code-named \"Minaret\", the National Security Agency (NSA) intercepted the communications of leading Americans, including Ali, Senators Frank Church and Howard Baker, Dr. Martin Luther King Jr., prominent U.S. journalists, and others who criticized the U.S. war in Vietnam. A review by the NSA of the Minaret program concluded that it was \"disreputable if not outright illegal.\"In 1971, Ali's Fight of the Century with Frazier was used by an activist group, the Citizens' Commission to Investigate the FBI, to pull off a burglary at an FBI office in Pennsylvania; the anticipation for the fight was unlike anything else, so they believed the security would also be focused on the fight. This raid exposed the COINTELPRO operations that included illegal spying on activists involved with the civil rights and anti-war movements. One of the COINTELPRO targets was Ali, and their activities included the FBI gaining access to his records as far back as elementary school; one such record mentioned him loving art as a child.\n",
       "\n",
       "Exile and comeback\n",
       "In March 1966, Ali refused to be inducted into the armed forces. He was systematically denied a boxing license in every state and stripped of his passport. As a result, he did not fight from March 1967 to October 1970â€”from ages 25 to almost 29â€”as his case worked its way through the appeals process before his conviction was overturned in 1971.\n",
       "\n",
       "Protesting while exiled\n",
       "During this time of inactivity, as opposition to the Vietnam War began to grow and Ali's stance gained sympathy, he spoke at colleges across the nation, criticizing the Vietnam War and advocating African-American pride and racial justice. Ali based himself in Chicago. According to most close to him, his Chicago years were formative.\n",
       "At the time, Ali was widely condemned by the American media, with fears that his actions could potentially lead to mass civil disobedience. Despite this, Ebony magazine noted in the late 1960s that Ali's popularity had increased during this time, especially among black people.\n",
       "\n",
       "The Super Fight\n",
       "While banned from sanctioned bouts, Ali settled a $1 million lawsuit against radio producer Murray Woroner by accepting $10,000 to appear in a privately staged fantasy fight against retired champion Rocky Marciano. In 1969 the boxers were filmed sparring for about 75 one-minute rounds; they produced several potential outcomes. A computer program purportedly determined the winner, based on data about the fighters, along with the opinions of approximately 250 boxing experts. Edited versions of the bout were shown in movie theaters in 1970. In the U.S. version Ali lost in a simulated 13th-round knockout, but in the European version Marciano lost due to cuts, also simulated.Ali suggested that prejudice determined his defeat in the U.S. version; he was reported to have jokingly said, \"That computer was made in Alabama.\"\n",
       "\n",
       "Return\n",
       "On August 11, 1970, with his case still in appeal, Ali was granted a license to box by the City of Atlanta Athletic Commission. Leroy Johnson, Jesse Hill Jr. and Harry Pett had used their local political influence and set up the company House of Sports to organize the fight, underlining the influential power of Georgia's black politics in Ali' s comeback. Ali's first return bout was against Jerry Quarry on October 26, resulting in a win after three rounds after Quarry was cut.\n",
       "A month earlier, a victory in federal court forced the New York State Boxing Commission to reinstate Ali's license. He fought Oscar Bonavena at Madison Square Garden in December, an uninspired performance that ended in a dramatic technical knockout of Bonavena in the 15th round. The win left Ali as a top contender against heavyweight champion Joe Frazier.\n",
       "\n",
       "Fight against Joe Frazier\n",
       "Ali and Frazier's first fight, held at the Garden on March 8, 1971, was nicknamed the \"Fight of the Century\", due to the tremendous excitement surrounding a bout between two undefeated fighters, each with a legitimate claim to be heavyweight champion. Veteran US boxing writer John Condon called it \"the greatest event I've ever worked on in my life.\" The bout was broadcast to 36 countries; promoters granted 760 press passes.Adding to the atmosphere were the considerable pre-fight theatrics and name calling. Before the fight Frazier called Ali, \"Cassius Clay\", this angered Ali and he portrayed Frazier as a \"dumb tool of the white establishment.\" \"Frazier is too ugly to be champ\", Ali said. \"Frazier is too dumb to be champ.\" Ali also frequently called Frazier an \"Uncle Tom\". Dave Wolf, who worked in Frazier's camp, recalled that, \"Ali was saying 'the only people rooting for Joe Frazier are white people in suits, Alabama sheriffs, and members of the Ku Klux Klan. I'm fighting for the little man in the ghetto.' Joe was sitting there, smashing his fist into the palm of his hand, saying, 'What the fuck does he know about the ghetto?'\"Ali began training at a farm near Reading, Pennsylvania, in 1971 and, finding the country setting to his liking, sought to develop a real training camp in the countryside. He found a five-acre site on a Pennsylvania country road in the village of Deer Lake, Pennsylvania. On this site, Ali carved out what was to become his training camp, where he trained for all his fights from 1972 to the end of his career in 1981.\n",
       "The Monday night fight lived up to its billing. In a preview of their two other fights, a crouching, bobbing and weaving Frazier constantly pressured Ali, getting hit regularly by Ali jabs and combinations, but relentlessly attacking and scoring repeatedly, especially to Ali's body. The fight was even in the early rounds, but Ali was taking more punishment than ever in his career. On several occasions in the early rounds he played to the crowd and shook his head \"no\" after he was hit. In the later roundsâ€”in what was the first appearance of the \"rope-a-dope strategy\"â€”Ali leaned against the ropes and absorbed punishment from Frazier, hoping to tire him. In the 11th round, Frazier connected with a left hook that wobbled Ali, but because it appeared that Ali might be clowning as he staggered backwards across the ring, Frazier hesitated to press his advantage, fearing an Ali counter-attack. In the final round, Frazier knocked Ali down with a vicious left hook, which referee Arthur Mercante said was as hard as a man can be hit. Ali was back on his feet in three seconds. Nevertheless, Ali lost by unanimous decision, his first professional defeat.\n",
       "\n",
       "Chamberlain challenge and Ellis fight\n",
       "In 1971, basketball star Wilt Chamberlain challenged Ali to a fight, and a bout was scheduled for July 26. Although the seven-foot-two-inch tall Chamberlain had formidable physical advantages over Aliâ€”weighing 60 pounds more and able to reach 14 inches furtherâ€”Ali was able to influence Chamberlain into calling off the bout by taunting him with calls of \"Timber!\" and \"The tree will fall\" during a shared interview. These statements of confidence unsettled his taller opponent, whom Los Angeles Lakers owner Jack Kent Cooke had offered a record-setting contract, conditional on Chamberlain agreeing to abandon what Cooke termed \"this boxing foolishness\", and he did exactly that. To replace Ali's opponent, promoter Bob Arum quickly booked a former sparring partner of Ali's, Jimmy Ellis, who was a childhood friend from Louisville, Kentucky, to fight him. Ali won the bout through a technical knockout when the referee stopped the fight in the twelfth round.\n",
       "\n",
       "After his loss\n",
       "Fights against Quarry, Patterson, Foster and Norton\n",
       "After the loss to Frazier, Ali fought Jerry Quarry, had a second bout with Floyd Patterson and faced Bob Foster in 1972, winning a total of six fights that year. In 1973, Ken Norton broke Ali's jaw while giving him the second loss of his career. After initially considering retirement, Ali won a controversial decision against Norton in their second bout. This led to a rematch with Joe Frazier at Madison Square Garden on January 28, 1974; Frazier had recently lost his title to George Foreman.\n",
       "\n",
       "Second fight against Joe Frazier\n",
       "Ali was strong in the early rounds of the fight, and staggered Frazier in the second round. Referee Tony Perez mistakenly thought he heard the bell ending the round and stepped between the two fighters as Ali was pressing his attack, giving Frazier time to recover. However, Frazier came on in the middle rounds, snapping Ali's head in round seven and driving him to the ropes at the end of round eight. The last four rounds saw round-to-round shifts in momentum between the two fighters. Throughout most of the bout, however, Ali was able to circle away from Frazier's dangerous left hook and to tie Frazier up when he was cornered, the latter a tactic that Frazier's camp complained of bitterly. Judges awarded Ali a unanimous decision.\n",
       "\n",
       "World heavyweight champion (second reign)\n",
       "The Rumble in the Jungle\n",
       "The defeat of Frazier set the stage for a title fight against heavyweight champion George Foreman in Kinshasa, Zaire, on October 30, 1974â€”a bout nicknamed The Rumble in the Jungle. Foreman was considered one of the hardest punchers in heavyweight history. In assessing the fight, analysts pointed out that Joe Frazier and Ken Norton, who had given Ali four tough battles and won two of them, had both been devastated by Foreman in second-round knockouts. Ali was 32 years old, and had clearly lost speed and reflexes since his twenties. Contrary to his later persona, Foreman was at the time a brooding and intimidating presence. Almost no one associated with the sport, not even Ali's long-time supporter Howard Cosell, gave the former champion a chance of winning.\n",
       "As usual, Ali was confident and colorful before the fight. He told interviewer David Frost, \"If you think the world was surprised when Nixon resigned, wait till I whup Foreman's behind!\" He told the press, \"I've done something new for this fight. I done wrestled with an alligator, I done tussled with a whale; handcuffed lightning, thrown thunder in jail; only last week, I murdered a rock, injured a stone, hospitalized a brick; I'm so mean I make medicine sick.\" Ali was wildly popular in Zaire, with crowds chanting \"Ali, bomaye\" (\"Ali, kill him\") wherever he went.\n",
       "Ali opened the fight moving and scoring with right crosses to Foreman's head. Then, beginning in the second round, and to the consternation of his corner, Ali retreated to the ropes and invited Foreman to hit him while covering up, clinching and counter-punching, all while verbally taunting Foreman. The move, which would later become known as the \"Rope-a-dope\", so violated conventional boxing wisdomâ€”letting one of the hardest hitters in boxing strike at willâ€”that at ringside writer George Plimpton thought the fight had to be fixed. Foreman, increasingly angered, threw punches that were deflected and did not land squarely. Midway through the fight, as Foreman began tiring, Ali countered more frequently and effectively with punches and flurries, which electrified the pro-Ali crowd. In the eighth round, Ali dropped an exhausted Foreman with a combination at center ring; Foreman failed to make the count. Against the odds, and amidst pandemonium in the ring, Ali had regained the title by knockout. Reflecting on the fight, George Foreman later said: \"I thought Ali was just one more knockout victim until, about the seventh round, I hit him hard to the jaw and he held me and whispered in my ear: 'That all you got, George?' I realized that this ain't what I thought it was.\"\n",
       "It was a major upset victory, after Ali came in as a 4â€“1 underdog against the previously unbeaten, heavy-hitting Foreman. The fight became famous for Ali's introduction of the rope-a-dope tactic. The fight was watched by a record estimated television audience of 1 billion viewers worldwide. It was the world's most-watched live television broadcast at the time.\n",
       "\n",
       "Fights against Wepner, Lyle and Bugner\n",
       "Ali's next opponents included Chuck Wepner, Ron Lyle, and Joe Bugner. Wepner, a journeyman known as \"The Bayonne Bleeder\", stunned Ali with a knockdown in the ninth round; Ali would later say he tripped on Wepner's foot. It was a bout that would inspire Sylvester Stallone to create the acclaimed film, Rocky.\n",
       "\n",
       "Third fight against Joe Frazier\n",
       "Ali then agreed to a third match with Joe Frazier in Manila. The bout, known as the \"Thrilla in Manila\", was held on October 1, 1975, in temperatures approaching 100 Â°F (38 Â°C). In the first rounds, Ali was aggressive, moving and exchanging blows with Frazier. However, Ali soon appeared to tire and adopted the \"rope-a-dope\" strategy, frequently resorting to clinches. During this part of the bout Ali did some effective counter-punching, but for the most part absorbed punishment from a relentlessly attacking Frazier. In the 12th round, Frazier began to tire, and Ali scored several sharp blows that closed Frazier's left eye and opened a cut over his right eye. With Frazier's vision now diminished, Ali dominated the 13th and 14th rounds, at times conducting what boxing historian Mike Silver called \"target practice\" on Frazier's head. The fight was stopped when Frazier's trainer, Eddie Futch, refused to allow Frazier to answer the bell for the 15th and final round, despite Frazier's protests. Frazier's eyes were both swollen shut. Ali, in his corner, winner by TKO, slumped on his stool, clearly spent.\n",
       "An ailing Ali said afterwards that the fight \"was the closest thing to dying that I know\", and, when later asked if he had viewed the fight on videotape, reportedly said, \"Why would I want to go back and see Hell?\" After the fight he cited Frazier as \"the greatest fighter of all times next to me.\"\n",
       "After the third fight with Frazier, Ali considered retirement. He said, \"I'm sore all over. My arms, my face, my sides all ache. I'm so, so tired. There is a great possibility that I will retire. You might have seen the last of me. I want to sit back and count my money, live in my house and my farm, work for my people and concentrate on my family.\"\n",
       "\n",
       "Later career\n",
       "On February 2, 1976, Ali defeated Jean-Pierre Coopman by 5th round knockout. The WBC Heavyweight title was not on the line for this fight. On April 30, 1976, Ali would fight Jimmy Young and win a controversial unanimous decision. Howard Cosell would remark that he had \"never seen Ali so off in his timing\" and when asked on his performance against Young in the post-fight interview, Ali stated that he was \"getting old\" and that he was \"preserving his energy\" for Ken Norton. On May 24, 1976, Ali defeated Richard Dunn, winning by 5th round technical knockout. The punch used to knock Dunn out was taught to Ali by Taekwondo Grandmaster Jhoon Rhee. Rhee called that punch the \"Accupunch\"; he learned it from Bruce Lee. The Dunn fight was the last time Ali would knock an opponent out in his boxing career. \n",
       "Ali fought Ken Norton for the third time in September 1976. The bout, which was held at Yankee Stadium, resulted in Ali winning a controversial decision that ringside commentators had scored in favor of Norton. Afterwards, he announced he was retiring from boxing to practice his faith, having converted to Sunni Islam after falling out with the Nation of Islam the previous year.After returning to beat Alfredo Evangelista in May 1977, Ali struggled in his next fight against Earnie Shavers that September, getting pummeled a few times by punches to the head. Ali won the fight by another unanimous decision, but the bout caused his longtime doctor Ferdie Pacheco to quit after he was rebuffed for telling Ali he should retire. Pacheco was quoted as saying, \"the New York State Athletic Commission gave me a report that showed Ali's kidneys were falling apart. I wrote to Angelo Dundee, Ali's trainer, his wife and Ali himself. I got nothing back in response. That's when I decided enough is enough.\"In February 1978, Ali faced Leon Spinks at the Hilton Hotel in Las Vegas. At the time, Spinks had only seven professional fights to his credit, and had recently fought a draw with journeyman Scott LeDoux. Ali sparred less than two dozen rounds in preparation for the fight, and was seriously out of shape by the opening bell. He lost the title by split decision. A rematch occurred in September at the Superdome in New Orleans, Louisiana. 70,000 people attended the bout and paid a total of $6 million admission, making it the largest live gate in boxing history at that time. Ali won a unanimous decision in an uninspiring fight, with referee Lucien Joubert scoring rounds 10-4, judge Ernie Cojoe 10-4, and judge Herman Preis 11-4. This made Ali the first heavyweight champion to win the belt three times.Following this win, on July 27, 1979, Ali announced his retirement from boxing. His retirement was short-lived, however; Ali announced his comeback to face Larry Holmes for the WBC belt in an attempt to win the heavyweight championship an unprecedented fourth time. The fight was largely motivated by Ali's need for money. Boxing writer Richie Giachetti said, \"Larry didn't want to fight Ali. He knew Ali had nothing left; he knew it would be a horror.\"\n",
       "It was around this time that Ali started struggling with vocal stutters and trembling hands. The Nevada Athletic Commission (NAC) ordered that he undergo a complete physical in Las Vegas before being allowed to fight again. Ali chose instead to check into the Mayo Clinic, who declared him fit to fight. Their opinion was accepted by the NAC on July 31, 1980, paving the way for Ali's return to the ring.\n",
       "\n",
       "Fight stoppage vs. Larry Holmes\n",
       "On October 2, 1980, Ali returned to the ring to fight Holmes at Caesars Palace in Las Vegas. Holmes, who fought under the nickname \"The Easton Assassin\", easily dominated Ali. After the tenth round, Angelo Dundee stepped into the ring and instructed the referee to stop the fight. It was the only time Ali ever lost by stoppage.\n",
       "Immediately after the fight, Ali was given painkillers and antidepressants, in violation of World Boxing Council rules prohibiting the administration of any drug before the postfight urinalysis.Giachetti called the fight \"awful...the worst sports event I ever had to cover.\" Actor Sylvester Stallone was ringside for the fight and said that it was like watching an autopsy on a man who is still alive. The Holmes fight is said to have contributed to Ali's Parkinson's syndrome. Despite pleas to definitively retire, Ali fought one last time on December 11, 1981, in Nassau, Bahamas, against Trevor Berbick, losing a ten-round decision.\n",
       "\n",
       "Exhibition bouts\n",
       "Ali boxed both well known boxers and celebrities from other walks of life, including Antonio Inoki, Michael Dokes, Sammy Davis Jr., Richard Pryor, Marvin Gaye, Burt Young, Lyle Alzado, Dave Semenko, and Puerto Rican comedian Jose Miguel Agrelot (with Iris Chacon acting as Agrelot's corner-woman).\n",
       "\n",
       "Ali vs Inoki\n",
       "On June 26, 1976, Ali participated in an exhibition bout in Tokyo against Japanese professional wrestler and martial artist Antonio Inoki. Ali was only able to land two jabs while Inoki's kicks caused two blood clots and an infection that almost resulted in Ali's leg being amputated, as a result of Ali's team insisting on rules restricting Inoki's ability to wrestle. The match was not scripted and ultimately declared a draw. After Ali's death, The New York Times declared it his least memorable fight. Most boxing commentators at the time viewed the fight negatively and hoped it would be forgotten as some considered it a \"15-round farce.\" Today it is considered by some to be one of Ali's most influential fights and CBS Sports said the attention the mixed-style bout received \"foretold the arrival of standardized MMA (mixed martial arts) years later.\" Ali and Inoki began a friendship after the fight.\n",
       "\n",
       "Ali vs Alzado\n",
       "In 1979, Ali fought an exhibition match against NFL player Lyle Alzado. The fight went 8 rounds and was declared a draw.\n",
       "\n",
       "Ali vs Semenko\n",
       "Ali fought NHL player, Dave Semenko in an exhibition on June 12, 1983. The match was officially a draw after going three rounds, but the Associated Press reported Ali was not seriously trying and was just toying with Semenko.\n",
       "\n",
       "Personal life\n",
       "Marriages and children\n",
       "Ali was married four times and had seven daughters and two sons. Ali was introduced to cocktail waitress Sonji Roi by Herbert Muhammad, who was to become Ali's long-time manager, and asked her to marry him after their first date. They married approximately one month later on August 14, 1964. They quarreled over Sonji's refusal to join the Nation Of Islam. According to Ali, \"She wouldn't do what she was supposed to do. She wore lipstick; she went into bars; she dressed in clothes that were revealing and didn't look right.\" The marriage was childless and they divorced on January 10, 1966. Just before the divorce was finalized, Ali sent Sonji a note: \"You traded heaven for hell, baby.\" Ali's brother Rahman said that she was Ali's only true love and the Nation of Islam made Ali divorce her and Ali never got over it.On August 17, 1967, Ali married Belinda Boyd. In an interview with NBC 6, Boyd recounted meeting Ali when she was 10 years old at her hometown mosque. \"He said, 'Listen here little girl. This is my name. Imma be famous. You need to keep that 'cause it's gone be worth a lot of money,'\" Boyd said, mimicking Ali. \"You'll never be famous with that name. And, I walked away,\" Boyd said. Born into a Chicago family that had converted to the Nation Of Islam, she later changed her name to Khalilah Ali, though she was still called Belinda by old friends and family. They had four children: author and rapper Maryum \"May May\" (born 1968); twins Jamillah and Rasheda (born 1970); and Muhammad Ali Jr. (born 1972). Rasheda married Robert Walsh and has two sons: Biaggio Ali (born 1998), who is an amateur MMA fighter, and Nico Ali (born 2000), who is a professional boxer.Ali was a resident of Cherry Hill, New Jersey in suburban Philadelphia in the early 1970s. At age 32 in 1974, Ali began an extramarital relationship with 16-year-old Wanda Bolton (who subsequently changed her name to Aaisha Ali) with whom he fathered another daughter, Khaliah (born 1974). While still married to Belinda, Ali married Aaisha in an Islamic ceremony that was not legally recognized. According to Khaliah, Aaisha and her mother lived at Ali's Deer Lake training camp alongside Belinda and her children. In January 1985, Aaisha sued Ali for unpaid palimony. The case was settled when Ali agreed to set up a $200,000 trust fund for Khaliah. In 2001 Khaliah was quoted as saying she believed her father viewed her as \"a mistake\". He had another daughter, Miya (born 1972), from an extramarital relationship with Patricia Harvell.By the summer of 1977, his second marriage ended due to Ali's repeated infidelity, and he had married actress and model Veronica PorchÃ©. At the time of their marriage, they had a daughter, Hana, and Veronica was pregnant with their second child. Their second daughter, Laila Ali, was born in December 1977. By 1986, Ali and PorchÃ© were divorced due to Ali's continuous infidelity. PorchÃ© said of Ali's infidelity, \"It was too much temptation for him, with women who threw themselves at him, It didn't mean anything. He didn't have affairs â€“ he had one-night stands. I knew beyond a doubt there were no feelings involved. It was so obvious, It was easy to forgive him.\"On November 19, 1986, Ali married Yolanda \"Lonnie\" Williams. Lonnie first met Ali at the age of 6 when her family moved to Louisville in 1963. In 1982, she became Ali's primary caregiver and in return, he paid for her to attend graduate school at UCLA. Together they adopted a son, Asaad Amin (born 1986), when Asaad was five months old. In 1992, Lonnie incorporated Greatest of All Time, Inc. (G.O.A.T. Inc) to consolidate and license his intellectual properties for commercial purposes. She served as the vice president and treasurer until the sale of the company in 2006.Kiiursti Mensah-Ali claims she is Ali's biological daughter with Barbara Mensah, with whom he allegedly had a 20-year relationship, citing photographs and a paternity test conducted in 1988. She said he accepted responsibility and took care of her, but all contacts with him were cut off after he married his fourth wife Lonnie. Kiiursti says she has a relationship with his other children. After his death she again made passionate appeals to be allowed to mourn at his funeral.In 2010, Osmon Williams came forward claiming to be Ali's biological son. His mother Temica Williams (also known as Rebecca Holloway) launched a $3 million lawsuit against Ali in 1981 for sexual assault, claiming that she had started a sexual relationship with him when she was 12, and that her son Osmon (born 1977) was fathered by Ali. She further alleged that Ali had originally supported her and her son financially, but stopped doing so after four years. The case went on until 1986 and was eventually thrown out as her allegations were deemed to be barred by the statute of limitations. According to Veronica, Ali admitted to the affair with Williams, but did not believe Osmon was his son which Veronica supported by saying \"Everybody in the camp was going with that girl.\" Ali biographer and friend Thomas Hauser has said this claim was of \"questionable veracity\".Ali then lived in Scottsdale, Arizona with Lonnie. In January 2007, it was reported that they had put their home in Berrien Springs, Michigan, which they had bought in 1975, up for sale and had purchased a home in eastern Jefferson County, Kentucky for $1,875,000. Both homes were subsequently sold after Ali's death with Lonnie living in their remaining home in Paradise Valley, Arizona. Lonnie converted to Islam from Catholicism in her late twenties.In a 1974 interview, Ali said, \"If they say stand and salute the flag I do that out of respect, because I'm in the country\". Ali would later say, \"If America was in trouble and real war came, I'd be on the front line if we had been attacked. But I could see that (The Vietnam War) wasn't right.\" He also said, \"Black men would go over there and fight, but when they came home, they couldn't even be served a hamburger.\"Ali's daughter Laila was a professional boxer from 1999 until 2007, despite her father's previous opposition to women's boxing. In 1978, he said \"Women are not made to be hit in the breast, and face like that.\" Ali still attended a number of his daughter's fights and later admitted to Laila he was wrong. Ali's daughter Hana is married to Bellator middleweight fighter Kevin Casey. Hana wrote about her father, \"His love for people was extraordinary. I would get home from school to find homeless families sleeping in our guest room. He'd see them on the street, pile them into his Rolls-Royce and bring them home. He'd buy them clothes, take them to hotels and pay the bills for months in advance.\" She also said celebrities like Michael Jackson and Clint Eastwood would often visit Ali. After Ali met a lesbian couple who were fans of his in 1997, he smiled and said to his friend Hauser, \"They look like they're happy together.\" Hauser wrote about the story, \"The thought that Liz and Roz (the lesbian couple he met) were happy pleased Muhammad. Ali wanted people to be happy.\"\n",
       "\n",
       "Religion and beliefs\n",
       "Affiliation with the Nation of Islam\n",
       "Ali said that he first heard of the Nation of Islam when he was fighting in the Golden Gloves tournament in Chicago in 1959, and attended his first Nation of Islam meeting in 1961. He continued to attend meetings, although keeping his involvement hidden from the public. In 1962, Clay met Malcolm X, who soon became his spiritual and political mentor. By the time of the first Liston fight, Nation of Islam members, including Malcolm X, were visible in his entourage. This led to a story in The Miami Herald just before the fight disclosing that Clay had joined the Nation of Islam, which nearly caused the bout to be canceled. The article quoted Cassius Clay Sr. as saying that his son had joined the Black Muslims when he was 18.\n",
       "In fact, Clay was initially refused entry to the Nation of Islam (often called the Black Muslims at the time) due to his boxing career. However, after he won the championship from Liston in 1964, the Nation of Islam was more receptive and agreed to publicize his membership. Shortly afterwards on March 6, Elijah Muhammad gave a radio address that Clay would be renamed Muhammad (one who is worthy of praise) Ali (most high). Around that time Ali moved to the south side of Chicago and lived in a series of houses, always near the Nation of Islam's Mosque Maryam or Elijah Muhammad's residence. He stayed in Chicago for about 12 years.Only a few journalists, most notably Howard Cosell, accepted the new name at that time. Ali stated that his earlier name was a \"slave name,\" and a \"white man's name\" and added that \"I didn't choose it and I don't want it. I am Muhammad Ali, a free name\". The person he was formerly named after was a white slave owner turned abolitionist. Ali explained in his autobiography after studying his works, \"he may have gotten rid of his slaves, but (he) held on to white supremacy.\" In truth, Cassius Clay's attachment to slavery went farther than Ali knew. In spite of his abolitionist fervor, Clay owned more slaves in 1865, when the 13th Amendment to the Constitution finally forbade its practice, than he had inherited from his wealthy slave-owning father Green Clay 37 years earlier. With the Clay name coming from a family of enslavers, Ali concluded: \"Why should I keep my white slavemaster's name visible and my black ancestors invisible, unknown, unhonored?\"Not afraid to antagonize the white establishment, Ali stated, \"I am America. I am the part you won't recognize. But get used to me. Black, confident, cocky; my name, not yours; my religion, not yours; my goals, my own; get used to me.\" Ali's friendship with Malcolm X ended as Malcolm split with the Nation of Islam a couple of weeks after Ali joined, and Ali remained with the Nation of Islam. Ali later said that turning his back on Malcolm was one of the mistakes he regretted most in his life.Aligning himself with the Nation of Islam, its leader Elijah Muhammad, and a narrative that labeled the white race as the perpetrator of genocide against African Americans made Ali a target of public condemnation. The Nation of Islam was widely viewed by whites and some African Americans as a black separatist \"hate religion\" with a propensity toward violence; Ali had few qualms about using his influential voice to speak Nation of Islam doctrine. In a press conference articulating his opposition to the Vietnam War, Ali stated, \"My enemy is the white people, not Vietcong or Chinese or Japanese.\" In relation to integration, he said: \"We who follow the teachings of Elijah Muhammad don't want to be forced to integrate. Integration is wrong. We don't want to live with the white man; that's all.\" Further articulating his opposition to integration, he told members of the KKK at a Klan rally in 1975 that \"black people should marry their own women... blue birds are blue birds, red birds are red birds, pigeons with pigeons, eagles with eagles, God did not make no mistake\".Writer Jerry Izenberg once noted that, \"the Nation became Ali's family and Elijah Muhammad became his father. But there is an irony to the fact that while the Nation branded white people as devils, Ali had more white colleagues than most African American people did at that time in America, and continued to have them throughout his career.\"\n",
       "\n",
       "Conversion to Sunni/Sufi Islam\n",
       "In Hauser's biography Muhammad Ali: His Life and Times, Ali says that although he is not a Christian as he thinks the idea of God having a son sounds wrong and does not make sense to him, as he believes, \"God don't beget; man begets\". He still believes that even good Christians or good Jews can receive God's blessing and enter heaven as he stated, \"God created all people, no matter what their religion\". He also stated, \"If you're against someone because he's a Muslim that's wrong. If you're against someone because he's a Christian or a Jew, that's wrong\".In a 2004 autobiography, Ali attributed his conversion to mainstream Sunni Islam to Warith Deen Muhammad, who assumed leadership of the Nation of Islam upon the death of his father Elijah Muhammad, and persuaded the Nation's followers to become adherents of Sunni Islam. He said some people didn't like the change and stuck to Elijah's teachings, but he admired it and so left Elijah's teachings and became a follower of Sunni Islam.Ali had gone on the Hajj pilgrimage to Mecca in 1972, which inspired him in a similar manner to Malcolm X, meeting people of different colors from all over the world giving him a different outlook and greater spiritual awareness. In 1977, he said that, after he retired, he would dedicate the rest of his life to getting \"ready to meet God\" by helping people, charitable causes, uniting people and helping to make peace. He went on another Hajj pilgrimage to Mecca in 1988.After the September 11 attacks in 2001, he stated that \"Islam is a religion of peace\" and \"does not promote terrorism or killing people\", and that he was \"angry that the world sees a certain group of Islam followers who caused this destruction, but they are not real Muslims. They are racist fanatics who call themselves Muslims.\" In December 2015, he stated that \"True Muslims know that the ruthless violence of so-called Islamic jihadists goes against the very tenets of our religion\", that \"We as Muslims have to stand up to those who use Islam to advance their own personal agenda\", and that \"political leaders should use their position to bring understanding about the religion of Islam, and clarify that these misguided murderers have perverted people's views on what Islam really is.\"He also developed an interest in Sufism, which he referenced in his autobiography, The Soul of a Butterfly. According to Ali's daughter, Hana Yasmeen Ali, who co-authored The Soul of a Butterfly with him, Ali was attracted to Sufism after reading the books of Inayat Khan, which contain Sufi teachings.Muhammad Ali received guidance from Islamic scholars such as Grand Mufti of Syria Al Marhum Al Sheikh Ahmed Kuftaro, Hisham Kabbani, Imam Zaid Shakir, Hamza Yusuf, and Timothy J. Gianotti, who was at Ali's bedside during his last days and ensured that although his funeral was interfaith, it was still in accordance with Islamic rites and rituals.\n",
       "\n",
       "Beatles reunion plan\n",
       "In 1976, inventor Alan Amron and businessman Joel Sacher partnered with Ali to promote The International Committee to Reunite the Beatles. They asked fans worldwide to contribute a dollar each. Ali said the idea was not to use the proceeds for profit, but to establish an international agency to help poor children. \"This is money to help people all over the world\", he said. He added, \"I love the music. I used to train to their music.\" He said a reunion of the Beatles \"would make a lot of people happy.\" The former Beatles were indifferent to the plan, which elicited only a tepid response from the public. No reunion happened.\n",
       "\n",
       "Entertainment career\n",
       "Acting\n",
       "Ali had a cameo role in the 1962 film version of Requiem for a Heavyweight, and during his exile from boxing, he starred in the short-lived 1969 Broadway musical, Buck White. He also appeared in the documentary film Black Rodeo (1972) riding both a horse and a bull.\n",
       "His autobiography The Greatest: My Own Story, written with Richard Durham, was published in 1975. In 1977 the book was adapted into a film called The Greatest, in which Ali played himself and Ernest Borgnine played Angelo Dundee.\n",
       "The film Freedom Road, made in 1978, features Ali in a rare acting role as Gideon Jackson, a former slave and Union (American Civil War) soldier in 1870s Virginia, who gets elected to the U.S. Senate and battles alongside former slaves and white sharecroppers to keep the land they have tended all their lives.\n",
       "\n",
       "Spoken word poetry and rap music\n",
       "Ali often used rhyme schemes and spoken word poetry, both for when he was trash talking in boxing and as political poetry for his activism outside of boxing. He played a role in the shaping of the black poetic tradition, paving the way for The Last Poets in 1968, Gil Scott-Heron in 1970, and the emergence of rap music in the 1970s. According to The Guardian, \"Some have argued that\" Ali was \"the first rapper.\"In 1963, Ali released an album of spoken word music on Columbia Records titled, I Am the Greatest, and in 1964, he recorded a cover version of the rhythm and blues song \"Stand by Me\". I Am the Greatest sold 500,000 copies, and has been identified as an early example of rap music and a precursor to hip hop. It reached number 61 on the album chart and was nominated for the Grammy Award for Best Comedy Album at the 6th Annual Grammy Awards in 1964. He later received a second Grammy nomination, for \"Best Recording for Children\", with his 1976 spoken word novelty record, The Adventures of Ali and His Gang vs. Mr. Tooth Decay.Ali was an influential figure in the world of hip hop music. As a \"rhyming trickster\", he was noted for his \"funky delivery\", \"boasts\", \"comical trash talk\", and \"endless quotables.\" According to Rolling Stone, his \"freestyle skills\" and his \"rhymes, flow, and braggadocio\" would \"one day become typical of old school MCs\" like Runâ€“D.M.C. and LL Cool J, and his \"outsized ego foreshadowed the vainglorious excesses of Kanye West, while his Afrocentric consciousness and cutting honesty pointed forward to modern bards like Rakim, Nas, Jay-Z, and Kendrick Lamar.\" \"I've wrestled with alligators, I've tussled with a whale. I done handcuffed lightning and throw thunder in jail. You know I'm bad. Just last week, I murdered a rock, Injured a stone, Hospitalized a brick. I'm so mean, I make medicine sick\" \"Float like a butterfly, sting like a bee. His hands can't hit what his eyes can't see. Now you see me, now you don't. George thinks he will, but I know he won't.\" Ali spoke like no man the world had seen before. So confident in what he said; fluent, smooth, creative, and intimidating. He was a boxer and an activist, but he also had a role in influencing what now dominated pop-culture, hip-hop. In 2006, the documentary Ali Rap was produced by ESPN. Chuck D, a rapper for the band Public Enemy is the host. Other rappers narrated the documentary as well, including Doug E Fresh, Ludacris and Rakim who all spoke on Ali's behalf in the film.\n",
       "He has been cited as an inspiration by rappers such as LL Cool J, Public Enemy's Chuck D, Jay-Z, Eminem, Sean Combs, Slick Rick, Nas and MC Lyte. Ali has been referenced in a number of hip hop songs, including Migos \"Fight Night\", The Game's \"Jesus Piece\", Nas' \"The Message\", The Sugarhill Gang's \"Rapper's Delight\", the Fugees' \"Ready or Not\", EPMD's \"You're a Customer\" and Will Smith's \"Gettin' Jiggy wit It\".\n",
       "\n",
       "Professional wrestling\n",
       "Ali was involved with professional wrestling at different times in his career.\n",
       "On June 1, 1976, as Ali was preparing for his bout with Inoki, he attended a match featuring Gorilla Monsoon. After the match was over, Ali removed his shirt and jacket and confronted professional wrestler Gorilla Monsoon in the ring after his match at a World Wide Wrestling Federation show in Philadelphia Arena. After dodging a few punches, Monsoon put Ali in an airplane spin and dumped him to the mat. Ali stumbled to the corner, where his associate Butch Lewis convinced him to walk away.On March 31, 1985, Ali was the special guest referee for the main event of the inaugural WrestleMania event.In 1995, Ali led a group of Japanese and American professional wrestlers, including his 1976 opponent Antonio Inoki and Ric Flair, on a sports diplomacy mission to North Korea. Ali was guest of honor at the record-breaking Collision in Korea, a wrestling event with the largest attendance of all time.\n",
       "\n",
       "Television appearances\n",
       "Muhammad Ali's fights were some of the world's most-watched television broadcasts, setting television viewership records. His most-watched fights drew an estimated 1â€“2 billion viewers worldwide between 1974 and 1980, and were the world's most-watched live television broadcasts at the time. Outside of fights, he made many other television appearances. The following table lists known viewership figures of his non-fight television appearances. For television viewership figures of his fights, see Boxing career of Muhammad Ali: Television viewership.\n",
       "\n",
       "Art\n",
       "Ali was also an amateur artist and made dozens of drawings and paintings in the 1970s. In 1977, Rodney Hilton Brown, who owned an art gallery in NYC, asked Ali if he was interested in painting. Ali took him up on the offer and produced several paintings for him to sell. Brown is the author of \"Muhammad Ali: The Untold Story: Painter, Poet and Prophet.\" In October 2021, 26 of his drawings and arts were placed on auction and sold for close to US$1 Million.\n",
       "\n",
       "Later life\n",
       "By the end of his boxing career Ali had absorbed an estimated 200,000 hits.In 1984, Ali was diagnosed with Parkinson's syndrome, which sometimes results from head trauma from violent physical activities such as boxing. Ali still remained active during this time, later participating as a guest referee at WrestleMania I.\n",
       "\n",
       "Philanthropy, humanitarianism and politics\n",
       "Ali was known for being a humanitarian and philanthropist. He focused on practicing his Islamic duty of charity and good deeds, donating millions to charity organizations and disadvantaged people of all religious backgrounds. It is estimated that Ali helped to feed more than 22 million people afflicted by hunger across the world. Early in his career, one of his main focuses was youth education. He spoke at several historically black colleges and universities about the importance of education, and became the largest single black donor to the United Negro College Fund in 1967 by way of a $10,000 donation ($78,000 in 2020 USD). In late 1966, he also pledged to donate a total of $100,000 to the UNCF (specifically promising to donate much of the proceeds of his title defense against Cleveland Williams), and paid $4,500 per closed circuit installation at six HBCUs so they could watch his fights.Ali began visiting Africa, starting in 1964 when he visited Nigeria and Ghana. In 1974, he visited a Palestinian refugee camp in Southern Lebanon, where Ali declared \"support for the Palestinian struggle to liberate their homeland.\" In 1978, following his loss to Spinks and before winning the rematch, Ali visited Bangladesh and received honorary citizenship there. The same year, he participated in The Longest Walk, a protest march in the United States in support of Native American rights, along with singer Stevie Wonder and actor Marlon Brando.In early 1980, Ali was recruited by President Jimmy Carter for a diplomatic mission to Africa, in an effort to persuade a number of African governments to join the US-led boycott of the Moscow Olympics in protest of the Soviet Invasion of Afghanistan. Having arrived in Tanzania, Ali told cameras \"Russia is invading a Muslim country, Asiatic country\", and that its probable intention to head to oil-rich Persia to take dwells and ports \"could lead to nuclear war. My purpose in coming here was to try to stop that.\" However, according to Ali biographer Thomas Hauser, \"at best, it was ill-conceived; at worst, a diplomatic disaster.\" The Tanzanian government was insulted that Carter had sent an athlete to discuss a serious political issue. One official asked whether the United States would \"send Chris Evert to negotiate with London.\" Consequently, Ali was only received by the youth and culture minister, rather than President Julius Nyerere. Ali was unable to explain why the African countries should join the US boycott when it had failed to support the African boycott of the 1976 Olympics (in protest of Apartheid in South Africa), although neither did the Soviet Union, and was unaware of the sentiment that the Soviet Union had backed some popular revolutions on the continent, although none of the countries on the itinerary were Soviet allies. The Nigerian government also rebuffed him and confirmed that they would be participating in the Moscow Games. Ali did, however, convince the government of Kenya to boycott the Soviet Olympics.On January 19, 1981, in Los Angeles, Ali talked a suicidal man down from jumping off a ninth-floor ledge, an event that made national news.\n",
       "In 1984, Ali announced his support for the re-election of United States President Ronald Reagan. When asked to elaborate on his endorsement of Reagan, Ali told reporters, \"He's keeping God in schools and that's enough.\" In 1985, he visited Israel to request the release of Muslim prisoners at Atlit detainee camp, which Israel declined.Around 1987, the California Bicentennial Foundation for the U.S. Constitution selected Ali to personify the vitality of the U.S. Constitution and Bill of Rights. Ali rode on a float at the following year's Tournament of Roses Parade, launching the U.S. Constitution's 200th birthday commemoration. In 1988, during the First Intifada, Ali participated in a Chicago rally in support of Palestine. The same year, he visited Sudan to raise awareness about the plight of famine victims. According to Politico, Ali supported Orrin Hatch politically. In 1989, he participated in an Indian charity event with the Muslim Educational Society in Kozhikode, Kerala, along with Bollywood actor Dilip Kumar.\n",
       "In 1990, Ali traveled to Iraq prior to the Gulf War, and met with Saddam Hussein in an attempt to negotiate the release of American hostages. Ali secured the release of the hostages, in exchange for promising Hussein that he would bring America \"an honest account\" of Iraq. Despite arranging the hostages release, he received criticism from President George H. W. Bush, and Joseph C. Wilson, the highest-ranking American diplomat in Baghdad.\n",
       "Ali cooperated with Thomas Hauser on a biography, Muhammad Ali: His Life and Times. The oral history was released in 1991.\n",
       "In 1994, Ali campaigned to the United States government to come to the aid of refugees afflicted by the Rwandan genocide, and to donate to organizations helping Rwandan refugees.In 1996, he lit the flame at the 1996 Summer Olympics in Atlanta, Georgia. It was watched by an estimated 3.5 billion viewers worldwide.On November 17, 2002, Ali went to Afghanistan as the \"U.N. Messenger of Peace.\" He was in Kabul for a three-day goodwill mission as a special guest of the UN.On September 1, 2009, Ali visited Ennis, County Clare, Ireland, the home of his great-grandfather, Abe Grady, who emigrated to the U.S. in the 1860s, eventually settling in Kentucky.On July 27, 2012, Ali was a titular bearer of the Olympic flag during the opening ceremonies of the 2012 Summer Olympics in London. He was helped to his feet by his wife Lonnie to stand before the flag due to his Parkinson's syndrome rendering him unable to carry it into the stadium. The same year, he was awarded the Philadelphia Liberty Medal in recognition of his lifelong efforts in activism, philanthropy and humanitarianism.\n",
       "\n",
       "Earnings\n",
       "By 1978, Ali's total fight purse earnings were estimated to be nearly $60 million (inflation-adjusted $364 million), including an estimated $47.45 million grossed between 1970 and 1978. By 1980, his total fight purse earnings were estimated to be up to $70 million (inflation-adjusted $337 million).\n",
       "In 1978, Ali revealed that he was \"broke\" and several news outlets reported his net worth to be an estimated $3.5 million (inflation-adjusted $16 million). The press attributed his decline in wealth to several factors, including taxes consuming at least half of his income, management taking a third of his income, his lifestyle, and spending on family, charity and religious causes.In 2006, Ali sold his name and image for $50 million, after which Forbes estimated his net worth to be $55 million in 2006. Following his death in 2016, his fortune was estimated to be between $50 million and $80 million.\n",
       "\n",
       "Declining health\n",
       "Ali's Parkinson's syndrome led to a gradual decline in his health, though he was still active into the early 2000s, promoting his own biopic, Ali, in 2001. That year he also contributed an on-camera segment to the America: A Tribute to Heroes benefit concert.\n",
       "In 1998, Ali began working with actor Michael J. Fox, who has Parkinson's disease, to raise awareness and fund research for a cure. They made a joint appearance before Congress to push the case in 2002. In 2000, Ali worked with the Michael J. Fox Foundation for Parkinson's Research to raise awareness and encourage donations for research.In February 2013, Ali's brother Rahman Ali said Muhammad could no longer speak and could be dead within days. Ali's daughter May May Ali responded to the rumors, stating that she had talked to him on the phone the morning of February 3 and he was fine. On December 20, 2014, Ali was hospitalized for a mild case of pneumonia. Ali was once again hospitalized on January 15, 2015, for a urinary tract infection after being found unresponsive at a guest house in Scottsdale, Arizona. He was released the next day.\n",
       "\n",
       "Death\n",
       "Ali was hospitalized in Scottsdale, Arizona, on June 2, 2016, with a respiratory illness. Though his condition was initially described as fair, it worsened, and he died the following day at the age of 74 from septic shock.\n",
       "\n",
       "News coverage and tributes\n",
       "Following Ali's death, he was the number-one trending topic on Twitter for over 12 hours and on Facebook for several days. BET played their documentary Muhammad Ali: Made In Miami. ESPN played four hours of non-stop commercial-free coverage of Ali. News networks, such as ABC News, BBC, CNN, and Fox News, also covered him extensively.\n",
       "He was mourned globally, and a family spokesman said the family \"certainly believes that Muhammad was a citizen of the world ... and they know that the world grieves with him.\" Politicians such as Barack Obama, Hillary Clinton, Bill Clinton, Donald Trump, David Cameron and more paid tribute to Ali. Ali also received numerous tributes from the world of sports including Michael Jordan, Tiger Woods, Floyd Mayweather, Mike Tyson, the Miami Marlins, LeBron James, Steph Curry and more. Louisville Mayor Greg Fischer stated, \"Muhammad Ali belongs to the world. But he only has one hometown.\"The day after Ali's death, the UFC paid tribute to Ali at their UFC 199 event in a lengthy video tribute package, crediting Ali for his accomplishments and inspiring multiple UFC champions.\n",
       "\n",
       "Memorial\n",
       "Ali's funeral had been pre-planned by himself and others for several years prior to his actual death. The services began in Louisville on June 9, 2016, with an Islamic Janazah prayer service at Freedom Hall on the grounds of the Kentucky Exposition Center. The Janazah prayer was attended by Turkish President Recep Tayyip ErdoÄŸan. On June 10, 2016, the funeral procession passed through the streets of Louisville ending at Cave Hill Cemetery, where his body was interred during a private ceremony. A public memorial service for Ali at downtown Louisville's KFC Yum! Center was held during the afternoon of June 10. Billy Crystal gave the eulogy. The pallbearers included Will Smith, Lennox Lewis and Mike Tyson, with honorary pallbearers including George Chuvalo, Larry Holmes and George Foreman. Ali's memorial was watched by an estimated 1 billion viewers worldwide.\n",
       "If the measure of greatness is to gladden the heart of every human being on the face of the earth, then he truly was the greatest. In every way he was the bravest, the kindest and the most excellent of men.\n",
       "\n",
       "Legacy\n",
       "Ali remains the only three-time lineal heavyweight champion. He is the only boxer to be named The Ring magazine Fighter of the Year six times, and was involved in more Ring \"Fight of the Year\" bouts than any other fighter. He was one of only three boxers to be named \"Sportsman of the Year\" by Sports Illustrated. Muhammad Ali was inducted into the International Boxing Hall of Fame in its first year and held wins over seven other Hall of Fame inductees during an era that has been called the golden age of heavyweight boxing. The Associated Press ranked him as the second best boxer and best heavyweight of the 20th century. His joint records of beating 21 boxers for the world heavyweight title and winning 14 unified title bouts stood for 35 years.\n",
       "In 1978, three years before Ali's permanent retirement, the Louisville Board of Aldermen in his hometown of Louisville, Kentucky, voted 6â€“5 to rename Walnut Street to Muhammad Ali Boulevard. This was controversial at the time, as within a week 12 of the 70 street signs were stolen. Earlier that year, a committee of the Jefferson County Public Schools (Kentucky) considered renaming Ali's alma mater, Central High School, in his honor, but the motion failed to pass. In time, Muhammad Ali Boulevardâ€”and Ali himselfâ€”came to be well accepted in his hometown.Ali was named one of the 100 most influential Americans of the 20th century by Life magazine in 1990. In 1993, the Associated Press reported that Ali was tied with Babe Ruth as the most recognized athlete, out of over 800 dead or living athletes, in America. The study found that over 97% of Americans over 12 years of age identified both Ali and Ruth. He was the recipient of the 1997 Arthur Ashe Courage Award.\n",
       "At the end of the 20th century he was ranked at or near the top of most lists of the century's greatest athletes. He was crowned Sportsman of the Century by Sports Illustrated. Named BBC's Sports Personality of the Century, he received more votes than the other five candidates combined. \n",
       "He was also named BBC Overseas Sports Personality of the Year three times. He was named Athlete of the Century by USA Today, and ranked as the third greatest North American athlete of the 20th century by ESPN SportsCentury. Ali was named \"Kentucky Athlete of the Century\" by the Kentucky Athletic Hall of Fame in ceremonies at the Galt House East.In 1999, Time magazine named Ali one of the 100 Most Important People of the 20th Century. On January 8, 2001, Muhammad Ali was presented with the Presidential Citizens Medal by President Bill Clinton. In November 2005, he received the Presidential Medal of Freedom from President George W. Bush, followed by the Otto Hahn Peace Medal in Gold of the UN Association of Germany (DGVN) in Berlin for his work with the civil rights movement and the United Nations, which he received on December 17, 2005.\n",
       "On November 19, 2005, Ali and his wife Lonnie Ali opened the $60 million non-profit Muhammad Ali Center in downtown Louisville. In addition to displaying his boxing memorabilia, the center focuses on core themes of peace, social responsibility, respect, and personal growth. On June 5, 2007, he received an honorary doctorate of humanities at Princeton University's 260th graduation ceremony.Ali Mall, located in Araneta Center, Quezon City, Philippines, is named after him. Construction of the mall, the first of its kind in the Philippines, began shortly after Ali's victory in a match with Joe Frazier in nearby Araneta Coliseum in 1975. The mall opened in 1976 with Ali attending its opening.The 1976 Muhammad Ali vs. Antonio Inoki fight played an important role in the history of mixed martial arts. In Japan, the match inspired Inoki's students Masakatsu Funaki and Minoru Suzuki to found Pancrase in 1993, which in turn inspired the foundation of Pride Fighting Championships in 1997. Pride was acquired by its rival, Ultimate Fighting Championship, in 2007.The Muhammad Ali Boxing Reform Act was introduced in 1999 and passed in 2000, to protect the rights and welfare of boxers in the United States. In May 2016, a bill was introduced to United States Congress by Markwayne Mullin, a politician and former MMA fighter, to extend the Ali Act to mixed martial arts. In June 2016, US senator Rand Paul proposed an amendment to the US draft laws named after Ali, a proposal to eliminate the Selective Service System.In 2015, Sports Illustrated renamed its Sportsman Legacy Award to the Sports Illustrated's Muhammad Ali Legacy Award. The annual award was originally created in 2008 and honors former \"sports figures who embody the ideals of sportsmanship, leadership and philanthropy as vehicles for changing the world.\" Ali first appeared on the magazine's cover in 1963 and went on to be featured on numerous covers during his storied career.The Society of Voice Arts and Sciences created the Muhammad Ali Voice of Humanity Honor in 2016, which is presented at its annual Voice Arts Awards. The award was created in collaboration with the Muhammad Ali Center and is presented to \"an individual whose voice, through humanitarianism, activism or personal sacrifice, has made a decidedly positive impact on our national or global condition as a society.\" Sculptor Marc Mellon created the bronze sculpture for the award, which depicts Ali mid-speech. Recipients of the honor include Dr. Henry Louis Gates, Ken Burns, Vance Jones, Lonnie Ali, Stacey Abrams, Wes Studi, and Manuela Testolini.On January 13, 2017, the Muhammad Ali Commemorative Coin Act was introduced into the 115th Congress (2017â€“2019), but was not enacted.\n",
       "\n",
       "In media and popular culture\n",
       "As a world champion boxer, social activist, sex symbol and pop culture icon, Ali was the subject of numerous creative works including books, films, music, video games, TV shows, and other. Muhammad Ali was often dubbed the world's \"most famous\" person in the media. Several of his fights were watched by an estimated 1â€“2 billion viewers between 1974 and 1980, and his lighting of the torch at the 1996 Atlanta Olympics was watched by an estimated 3.5 billion viewers.\n",
       "Ali appeared on the cover of Sports Illustrated on 38 different occasions, second only to Michael Jordan's 46. He also appeared on the cover of Time Magazine 5 times, the most of any athlete. In 2015, Harris Poll found that Ali was one of the three most recognizable athletes in the United States, along with Michael Jordan and Babe Ruth.Martial artist and actor Bruce Lee was influenced by Ali, whose footwork he studied and incorporated into his own style while developing Jeet Kune Do in the 1960s.On the set of Freedom Road Ali met Canadian singer-songwriter Michel, and subsequently helped create Michel's album The First Flight of the Gizzelda Dragon and an unaired television special featuring them both.Ali was the subject of the British television program This Is Your Life in 1978 when he was surprised by Eamonn Andrews. Ali was featured in Superman vs. Muhammad Ali, a 1978 DC Comics comic book pitting the champ against the superhero. In 1979, Ali guest-starred as himself in an episode of the NBC sitcom Diff'rent Strokes. The show's title itself was inspired by the quote \"Different strokes for different folks\" popularized in 1966 by Ali, who also inspired the title of the 1967 Syl Johnson song \"Different Strokes\", one of the most sampled songs in pop music history.He also wrote several bestselling books about his career, including The Greatest: My Own Story and The Soul of a Butterfly. The Muhammad Ali effect, named after Ali, is a term that came into use in psychology in the 1980s, as he stated in The Greatest: My Own Story: \"I only said I was the greatest, not the smartest.\" According to this effect, when people are asked to rate their intelligence and moral behavior in comparison to others, people will rate themselves as more moral, but not more intelligent than others.When We Were Kings, a 1996 documentary about the Rumble in the Jungle, won the Academy Award for Best Documentary Feature. The 2001 biopic Ali garnered a Best Actor Oscar nomination for Will Smith for his portrayal of Ali. Prior to making the film, Smith rejected the role until Ali requested that he accept it. Smith said the first thing Ali told him was: \"Man, you're almost pretty enough to play me.\"In 2002, Ali was honored with a star on the Hollywood Walk of Fame for his contributions to the entertainment industry. His star is the only one to be mounted on a vertical surface, out of deference to his request that the name Muhammadâ€”a name he shares with the Islamic prophetâ€”not be walked upon.His 1966 fight against George Chuvalo was the subject of Joseph Blasioli's 2003 documentary film The Last Round: Chuvalo vs. Ali.The Trials of Muhammad Ali, a documentary directed by Bill Siegel that focuses on Ali's refusal of the draft during the Vietnam War, opened in Manhattan on August 23, 2013. A 2013 made-for-TV movie titled Muhammad Ali's Greatest Fight dramatized the same aspect of Ali's life.\n",
       "Antoine Fuqua's documentary What's My Name: Muhammad Ali was released in 2019.\n",
       "Documentary filmmaker Ken Burns created the four-part documentary film Muhammad Ali, spanning over eight hours on Ali's life. Burns worked on the film from early 2016 and it was released in September 2021 on PBS. Dave Zirin, who watched an 8-hour rough cut of this documentary, called it \"utterly outstanding\" and said \"the footage they found will blow minds\".\n",
       "\n",
       "Professional boxing record\n",
       "Discography\n",
       "I Am the Greatest (1963)\n",
       "The Adventures of Ali and His Gang vs. Mr. Tooth Decay (1976)\n",
       "\n",
       "See also\n",
       "List of heavyweight boxing champions\n",
       "List of WBA world champions\n",
       "List of WBC world champions\n",
       "List of The Ring world champions\n",
       "List of undisputed boxing champions\n",
       "Converts to Islam\n",
       "Notable boxing families\n",
       "List of people from the Louisville metropolitan area\n",
       "List of North American Muslims\n",
       "African-American Muslims\n",
       "1981 MAPS Wells Fargo embezzlement scandal\n",
       "\n",
       "Notes\n",
       "References\n",
       "Further reading\n",
       "Hauser, Thomas (2004). Muhammad Ali: His Life and Times. London: Robson Books. ISBN 978-1-86105-738-9. OCLC 56645513.\n",
       "\n",
       "Online\n",
       "Muhammad Ali: American boxer, in EncyclopÃ¦dia Britannica Online, by Thomas Hauser, Adam Augustyn, Piyush Bhathya, Yamini Chauhan, John M. Cunningham, Richard Pallardy, Michael Ray, Emily Rodriguez, Surabhi Sinha, Amy Tikkanen, Grace Young and The Editors of Encyclopaedia Britannica\n",
       "\n",
       "External links\n",
       "\n",
       "Official website (archived)\n",
       "Boxing record for Muhammad Ali from BoxRec (registration required) \n",
       "Muhammad Ali at IMDb \n",
       "William Addams Reitwiesner Genealogical Services: Ancestry of Muhammad Ali\n",
       "FBI Records: The Vault â€“ Muhammad Ali at the FBI\n",
       "Cassius Clay Guilty (1967), Texas Archive of the Moving Image\n",
       "Muhammad Ali at the USOPC Hall of Fame\n",
       "Muhammad Ali at Olympics.com \n",
       "Muhammad Ali at Olympedia Photo essays\n",
       "\n",
       "\"Cassius Clay: Before He Was Ali\". Life. Archived from the original on October 21, 2009.\n",
       "Berman, Eliza; Ronk, Liz (June 4, 2016). \"Muhammad Ali's Life in Photos; From his time in the ring to his more playful side\". Life. time.com. Archived from the original on June 4, 2016."
      ]
     },
     "execution_count": 31,
     "metadata": {},
     "output_type": "execute_result"
    }
   ],
   "source": [
    "nlp = spacy.load('en_core_web_md')\n",
    "doc = nlp(text_)\n",
    "doc"
   ]
  },
  {
   "cell_type": "code",
   "execution_count": 41,
   "id": "360083da",
   "metadata": {},
   "outputs": [
    {
     "data": {
      "text/plain": [
       "Muhammad Ali (; born Cassius Marcellus Clay Jr.; January 17, 1942 â€“ June 3, 2016) was an American professional boxer and activist."
      ]
     },
     "execution_count": 41,
     "metadata": {},
     "output_type": "execute_result"
    }
   ],
   "source": [
    "sentence1 = list(doc.sents)[0]\n",
    "sentence1"
   ]
  },
  {
   "cell_type": "code",
   "execution_count": 92,
   "id": "0152de36",
   "metadata": {},
   "outputs": [
    {
     "name": "stdout",
     "output_type": "stream",
     "text": [
      "['Dirtbike', 'tricyclics', 'Ebikes', 'Aoti', 'snowmobiler', 'motorize', 'Krider', 'steeplechasing', 'spruiking', 'Cartwheels']\n"
     ]
    }
   ],
   "source": [
    "import numpy as np\n",
    "\n",
    "word_= \"bike\"\n",
    "\n",
    "\n",
    "ms = nlp.vocab.vectors.most_similar(\n",
    "                            np.asarray([nlp.vocab.vectors[nlp.vocab.strings[word_]]]),n=10)\n",
    "\n",
    "words = [nlp.vocab.strings[w] for w in ms[0][0]]\n",
    "\n",
    "distances = ms[2]\n",
    "\n",
    "print(words)\n",
    "# these words are similar to bike according to spacy model."
   ]
  },
  {
   "cell_type": "code",
   "execution_count": 26,
   "id": "843c4972",
   "metadata": {
    "collapsed": true
   },
   "outputs": [
    {
     "data": {
      "text/plain": [
       "[Muhammad Ali (; born Cassius Marcellus Clay Jr.; January 17, 1942 â€“ June 3, 2016) was an American professional boxer and activist.,\n",
       " Nicknamed \"the Greatest\", he is regarded as one of the most significant sports figures of the 20th century and is often regarded as the greatest heavyweight boxer of all time.,\n",
       " He held the Ring magazine heavyweight title from 1964 to 1970.,\n",
       " He was the undisputed champion from 1974 to 1978 and the WBA and Ring heavyweight champion from 1978 to 1979.,\n",
       " In 1999, he was named Sportsman of the Century by Sports Illustrated and the Sports Personality of the Century by the BBC.,\n",
       " Born and raised in Louisville, Kentucky, he began training as an amateur boxer at age 12.,\n",
       " At 18, he won a gold medal in the light heavyweight division at the 1960 Summer Olympics and turned professional later that year.,\n",
       " He converted to Islam after 1961.,\n",
       " He won the world heavyweight championship, defeating Sonny Liston in a major upset on February 25, 1964, at age 22.,\n",
       " During that year, he denounced his birth name as a \"slave name\" and formally changed his name to Muhammad Ali.,\n",
       " In 1966, Ali refused to be drafted into the military owing to his religious beliefs and ethical opposition to the Vietnam War and was found guilty of draft evasion and stripped of his boxing titles.,\n",
       " He stayed out of prison while appealing the decision to the Supreme Court, where his conviction was overturned in 1971.,\n",
       " He did not fight for nearly four years and lost a period of peak performance as an athlete.,\n",
       " Ali's actions as a conscientious objector to the Vietnam War made him an icon for the larger counterculture of the 1960s generation, and he was a very high-profile figure of racial pride for African Americans during the civil rights movement and throughout his career.,\n",
       " As a Muslim, Ali was initially affiliated with Elijah Muhammad's Nation of Islam (NOI).,\n",
       " He later disavowed the NOI, adhering to Sunni Islam.,\n",
       " He fought in several historic boxing matches, including his highly publicized fights with Sonny Liston, Joe Frazier (including the Fight of the Century, the biggest boxing event up until then), the Thrilla in Manila, and his fight with George Foreman in The Rumble in the Jungle.,\n",
       " Ali thrived in the spotlight at a  time when many boxers let their managers do the talking, and he became renowned for his provocative and outlandish persona.,\n",
       " He was famous for trash-talking, often free-styled with rhyme schemes and spoken word poetry, and has been recognized as a pioneer in hip hop.,\n",
       " He often predicted in which round he would knock out his opponent.,\n",
       " Outside boxing, Ali attained success as a spoken word artist, releasing two studio albums: I Am the Greatest!,\n",
       " (1963) and The Adventures of Ali and His Gang vs. Mr. Tooth Decay (1976).,\n",
       " Both albums received Grammy Award nominations.,\n",
       " He also featured as an actor and writer, releasing two autobiographies.,\n",
       " Ali retired from boxing in 1981 and focused on religion, philanthropy and activism.,\n",
       " In 1984, he made public his diagnosis of Parkinson's syndrome, which some reports attributed to boxing-related injuries, though he and his specialist physicians disputed this.,\n",
       " He remained an active public figure globally, but in his later years made fewer public appearances as his condition worsened, and he was cared for by his family.\n",
       " ,\n",
       " Early life\n",
       " Cassius Marcellus Clay Jr. ( KASH-É™ss) was born on January 17, 1942, in Louisville, Kentucky.,\n",
       " He had one brother.,\n",
       " He was named after his father, Cassius Marcellus Clay Sr., who had a sister and four brothers and who himself was named in honor of the 19th-century Republican politician and staunch abolitionist Cassius Marcellus Clay, also from the state of Kentucky.,\n",
       " Clay's father's paternal grandparents were John Clay and Sallie Anne Clay; Clay's sister Eva claimed that Sallie was a native of Madagascar.,\n",
       " He was a descendant of slaves of the antebellum South, and was predominantly of African descent, with Irish and English family heritage.,\n",
       " Ali's maternal great-grandfather, Abe Grady, emigrated from Ennis, County Clare, Ireland.,\n",
       " DNA testing performed in 2018 showed that, through his paternal grandmother, Ali was a descendant of the former slave Archer Alexander, who had been chosen from the building crew as the model of a freed man for the Emancipation Memorial, and was the subject of abolitionist William Greenleaf Eliot's book, The Story of Archer Alexander: From Slavery to Freedom.,\n",
       " Like Ali, Alexander fought for his freedom.,\n",
       " His father was a sign and billboard painter, and his mother, Odessa O'Grady Clay (1917â€“1994), was a domestic helper.,\n",
       " Although Cassius Sr. was a Methodist, he allowed Odessa to bring up both Cassius Jr. and his younger brother, Rudolph \"Rudy\" Clay (later renamed Rahaman Ali), as Baptists.,\n",
       " Cassius Jr. attended Central High School in Louisville.,\n",
       " He was dyslexic, which led to difficulties in reading and writing, at school and for much of his life.,\n",
       " Ali grew up amid racial segregation.,\n",
       " His mother recalled one occasion when he was denied a drink of water at a store: \"They wouldn't give him one because of his color.,\n",
       " That really affected him.\",\n",
       " He was also strongly affected by the 1955 murder of Emmett Till, which led to young Clay and a friend taking out their frustration by vandalizing a local rail yard.,\n",
       " His daughter Hana later wrote that Ali once told her, \"Nothing would ever shake me up (more) than the story of Emmett Till.,\n",
       " \"\n",
       " \n",
       " Amateur career\n",
       " Clay was first directed toward boxing by Louisville police officer and boxing coach Joe E. Martin, who encountered the 12-year-old fuming over a thief's having taken his bicycle.,\n",
       " He told the officer he was going to \"whup\" the thief.,\n",
       " The officer told Clay he had better learn how to box first.,\n",
       " Initially, Clay did not take up Martin's offer, but after seeing amateur boxers on a local television boxing program called Tomorrow's Champions, Clay was interested in the prospect of fighting.,\n",
       " He then began to work with trainer Fred Stoner, whom he credits with giving him the \"real training\", eventually molding \"my style, my stamina and my system.\",\n",
       " For the last four years of Clay's amateur career he was trained by boxing cutman Chuck Bodak.,\n",
       " Clay made his amateur boxing debut in 1954 against local amateur boxer Ronnie O'Keefe.,\n",
       " He won by split decision.,\n",
       " He went on to win six Kentucky Golden Gloves titles, two national Golden Gloves titles, an Amateur Athletic Union national title, and the light heavyweight gold medal in the 1960 Summer Olympics in Rome.,\n",
       " Clay's amateur record was 100 wins with five losses.,\n",
       " Ali said in his 1975 autobiography that shortly after his return from the Rome Olympics, he threw his gold medal into the Ohio River after he and a friend were refused service at a \"whites-only\" restaurant and fought with a white gang.,\n",
       " The story was later disputed, and several of Ali's friends, including Bundini Brown and photographer Howard Bingham, denied it.,\n",
       " Brown told Sports Illustrated writer Mark Kram, \"Honkies sure bought into that one!\",\n",
       " Thomas Hauser's biography of Ali stated that Ali was refused service at the diner but that he lost his medal a year after he won it.,\n",
       " Ali received a replacement medal at the Georgia Dome during the 1996 Olympics in Atlanta, where he lit the torch to start the Games.\n",
       " \n",
       " Professional career\n",
       " Early career\n",
       " Clay made his professional debut on October 29, 1960, winning a six-round decision over Tunney Hunsaker.,\n",
       " From then until the end of 1963, Clay amassed a record of 19â€“0 with 15 wins by knockout.,\n",
       " He defeated boxers including Tony Esperti, Jim Robinson, Donnie Fleeman, Alonzo Johnson, George Logan, Willi Besmanoff, LaMar Clark, Doug Jones, and Henry Cooper.,\n",
       " Clay also beat his former trainer and veteran boxer Archie Moore in a 1962 match.,\n",
       " These early fights were not without trials.,\n",
       " Clay was knocked down by both Sonny Banks and Cooper.,\n",
       " In the Cooper fight, Clay was floored by a left hook at the end of round four and was saved by the bell, going on to win in the predicted fifth round due to Cooper's severely cut eye.,\n",
       " The fight with Doug Jones on March 13, 1963, was Clay's toughest fight during this stretch.,\n",
       " The number two and three heavyweight contenders respectively, Clay and Jones fought on Jones' home turf at New York's Madison Square Garden.,\n",
       " Jones staggered Clay in the first round, and the unanimous decision for Clay was greeted by boos and a rain of debris thrown into the ring.,\n",
       " Watching on closed-circuit TV, heavyweight champ Sonny Liston quipped that if he fought Clay he (Liston) might get locked up for murder.,\n",
       " The fight was later named \"Fight of the Year\" by The Ring magazine.,\n",
       " In each of these fights, Clay vocally belittled his opponents and vaunted his abilities.,\n",
       " He called Jones \"an ugly little man\" and Cooper a \"bum\".,\n",
       " He said he was embarrassed to get in the ring with Alex Miteff and claimed that Madison Square Garden was \"too small for me.\",\n",
       " Ali's trash talk was inspired by professional wrestler \"Gorgeous George\" Wagner's, after he saw George's talking ability attract huge crowds to events.,\n",
       " Ali stated in a 1969 interview with the Associated Press' Hubert Mizel that he met with George in Las Vegas in 1961, that George told him that talking a big game would earn paying fans who either wanted to see him win or wanted to see him lose, thus Ali transformed himself into a self-described \"big-mouth and a bragger\".,\n",
       " In 1960, Clay left Moore's camp, partially due to Clay's refusal to do chores such as washing dishes and sweeping.,\n",
       " To replace Moore, Clay hired Angelo Dundee to be his trainer.,\n",
       " Clay had met Dundee in February 1957 during Clay's amateur career.,\n",
       " Around this time, Clay sought longtime idol Sugar Ray Robinson to be his manager, but was rebuffed.\n",
       " ,\n",
       " World heavyweight champion\n",
       " Fights against Liston\n",
       " By late 1963, Clay had become the top contender for Sonny Liston's title.,\n",
       " The fight was set for February 25, 1964, in Miami Beach.,\n",
       " Liston was an intimidating personality, a dominating fighter with a criminal past and ties to the mob.,\n",
       " Based on Clay's uninspired performance against Jones and Cooper in his previous two fights, and Liston's destruction of former heavyweight champion Floyd Patterson in two first-round knockouts, Clay was a 7â€“1 underdog.,\n",
       " Despite this, Clay taunted Liston during the pre-fight buildup, dubbing him \"the big ugly bear\", stating \"Liston even smells like a bear\" and claiming \"After I beat him I'm going to donate him to the zoo.\",\n",
       " Clay turned the pre-fight weigh-in into a circus, shouting at Liston that \"someone is going to die at ringside tonight.\",\n",
       " Clay's pulse rate was measured at 120, more than double his normal 54.,\n",
       " Many of those in attendance thought Clay's behavior stemmed from fear, and some commentators wondered if he would show up for the bout.,\n",
       " The outcome of the fight was a major upset.,\n",
       " At the opening bell, Liston rushed at Clay, seemingly angry and looking for a quick knockout.,\n",
       " However, Clay's superior speed and mobility enabled him to elude Liston, making the champion miss and look awkward.,\n",
       " At the end of the first round, Clay opened up his attack and hit Liston repeatedly with jabs.,\n",
       " Liston fought better in round two, but at the beginning of the third round Clay hit Liston with a combination that buckled his knees and opened a cut under his left eye.,\n",
       " This was the first time Liston had ever been cut.,\n",
       " At the end of round four, Clay was returning to his corner when he began experiencing blinding pain in his eyes and asked his trainer, Angelo Dundee, to cut off his gloves.,\n",
       " Dundee refused.,\n",
       " It has been speculated that the problem was due to ointment used to seal Liston's cuts, perhaps deliberately applied by his corner to his gloves.,\n",
       " Though unconfirmed, boxing historian Bert Sugar said that two of Liston's opponents also complained about their eyes \"burning\".,\n",
       " Despite Liston's attempts to knock out a blinded Clay, Clay was able to survive the fifth round until sweat and tears rinsed the irritation from his eyes.,\n",
       " In the sixth, Clay dominated, hitting Liston repeatedly.,\n",
       " Liston did not answer the bell for the seventh round, and Clay was declared the winner by TKO.,\n",
       " Liston stated that the reason he quit was an injured shoulder.,\n",
       " Following the win, a triumphant Clay rushed to the edge of the ring and, pointing to the ringside press, shouted: \"Eat your words!\",\n",
       " He added, \"I am the greatest!,\n",
       " I shook up the world.,\n",
       " I'm the prettiest thing that ever lived.,\n",
       " \"At ringside post fight, Clay appeared unconvinced that the fight was stopped due to a Liston shoulder injury, saying that the only injury Liston had was \"an open eye, a big cut eye!\",\n",
       " When told by Joe Louis that the injury was a \"left arm thrown out of its socket,\" Clay quipped, \"Yeah, swinging at nothing, who wouldn't?\"In winning this fight at the age of 22, Clay became the youngest boxer to take the title from a reigning heavyweight champion.,\n",
       " However, Floyd Patterson remained the youngest to win the heavyweight championship, doing so at the age 21 during an elimination bout following Rocky Marciano's retirement.,\n",
       " Mike Tyson broke both records in 1986 when he defeated Trevor Berbick to win the heavyweight title at age 20.,\n",
       " The feat also made Clay the fastest boxer to the win championship (non-vacant) in the modern era, doing so in 20 bouts.,\n",
       " Soon after the Liston fight, Clay changed his name to Cassius X, and then later to Muhammad Ali upon converting to Islam and affiliating with the Nation of Islam.,\n",
       " Ali then faced a rematch with Liston scheduled for May 1965 in Lewiston, Maine.,\n",
       " It had been scheduled for Boston the previous November, but was postponed for six months due to Ali's emergency surgery for a hernia three days before.,\n",
       " The fight was controversial.,\n",
       " Midway through the first round, Liston was knocked down by a difficult-to-see blow the press dubbed a \"phantom punch\".,\n",
       " Referee Jersey Joe Walcott did not begin the count immediately after the knockdown, as Ali refused to retreat to a neutral corner.,\n",
       " Liston rose after he had been down for about 20 seconds, and the fight momentarily continued.,\n",
       " However a few seconds later Walcott, having been informed by the timekeepers that Liston had been down for a count of 10, stopped the match and declared Ali the winner by knockout.,\n",
       " The entire fight lasted less than two minutes.,\n",
       " It has since been speculated that Liston purposely dropped to the ground.,\n",
       " Proposed motivations include threats on his life from the Nation of Islam, that he had bet against himself and that he \"took a dive\" to pay off debts.,\n",
       " Slow-motion replays show that Liston was jarred by a chopping right from Ali, although it is unclear whether the blow was a genuine knockout punch.\n",
       " ,\n",
       " Fight against Patterson\n",
       " Ali defended his title against former heavyweight champion Floyd Patterson on November 22, 1965.,\n",
       " Before the match, Ali mocked Patterson, who was widely known to call him by his former name Cassius Clay, as an \"Uncle Tom\", calling him \"The Rabbit\".,\n",
       " Although Ali clearly had the better of Patterson, who appeared injured during the fight, the match lasted 12 rounds before being called on a technical knockout.,\n",
       " Patterson later said he had strained his sacroiliac.,\n",
       " Ali was criticized in the sports media for appearing to have toyed with Patterson during the fight.,\n",
       " Patterson biographer W. K. Stratton claims that the conflict between Ali and Patterson was not genuine but was staged to increase ticket sales and the closed-circuit viewing audience, with both men complicit in the theatrics.,\n",
       " Stratton also cites an interview by Howard Cosell in which Ali explained that rather than toying with Patterson, he refrained from knocking him out after it became apparent Patterson was injured.,\n",
       " Patterson later said that he had never been hit by punches as soft as Ali's.,\n",
       " Stratton states that Ali arranged the second fight, in 1972, with the financially struggling Patterson to help the former champion earn enough money to pay a debt to the IRS.\n",
       " ,\n",
       " Main Bout\n",
       " After the Patterson fight, Ali founded his own promotion company, Main Bout.,\n",
       " The company mainly handled Ali's boxing promotions and pay-per-view closed-circuit television broadcasts.,\n",
       " The company's stockholders were mainly fellow Nation of Islam members, along with several others, including Bob Arum.,\n",
       " Ali and then-WBA heavyweight champion boxer Ernie Terrell had agreed to meet for a bout in Chicago on March 29, 1966 (the WBA, one of two boxing associations, had stripped Ali of his title following his joining the Nation of Islam).,\n",
       " But in February Ali was reclassified by the Louisville draft board as 1-A from 1-Y, and he indicated that he would refuse to serve, commenting to the press, \"I ain't got nothing against no Viet Cong; no Viet Cong never called me nigger.,\n",
       " \", although the second part is probably apocryphal.,\n",
       " Amidst the media and public outcry over Ali's stance, the Illinois Athletic Commission refused to sanction the fight, citing technicalities.,\n",
       " Instead, Ali traveled to Canada and Europe and won championship bouts against George Chuvalo, Henry Cooper, Brian London, and Karl Mildenberger.,\n",
       " Ali returned to the United States to fight Cleveland Williams at the Astrodome in Houston on November 14, 1966.,\n",
       " The bout drew a record-breaking indoor crowd of 35,460 people.,\n",
       " Williams had once been considered among the hardest punchers in the heavyweight division, but in 1964 he had been shot at point-blank range by a Texas policeman, resulting in the loss of one kidney and 3.0 metres (10 ft) of his small intestine.,\n",
       " Ali dominated Williams, winning a third-round technical knockout in what some consider the finest performance of his career.,\n",
       " Ali fought Terrell in Houston on February 6, 1967.,\n",
       " Terrell, who was unbeaten in five years and had defeated many of the boxers Ali had faced, was billed as Ali's toughest opponent since Liston; he was big, strong and had a three-inch reach advantage over Ali.,\n",
       " During the lead up to the bout, Terrell repeatedly called Ali \"Clay\", much to Ali's annoyance.,\n",
       " The two almost came to blows over the name issue in a pre-fight interview with Howard Cosell.,\n",
       " Ali seemed intent on humiliating Terrell.,\n",
       " \"I want to torture him\", he said.,\n",
       " \"A clean knockout is too good for him.\",\n",
       " The fight was close until the seventh round, when Ali bloodied Terrell and almost knocked him out.,\n",
       " In the eighth round, Ali taunted Terrell, hitting him with jabs and shouting between punches, \"What's my name, Uncle Tom ... what's my name?\",\n",
       " Ali won a unanimous 15-round decision.,\n",
       " Terrell claimed that early in the fight Ali deliberately thumbed him in the eye, forcing him to fight half-blind, and then, in a clinch, rubbed the wounded eye against the ropes.,\n",
       " Because of Ali's apparent intent to prolong the fight to inflict maximum punishment, critics described the bout as \"one of the ugliest boxing fights.\",\n",
       " Tex Maule later wrote: \"It was a wonderful demonstration of boxing skill and a barbarous display of cruelty.\",\n",
       " Ali denied the accusations of cruelty but, for Ali's critics, the fight provided more evidence of his arrogance.,\n",
       " After Ali's title defense against Zora Folley on March 22, he was stripped of his title due to his refusal to be drafted to army service.,\n",
       " His boxing license was also suspended by the state of New York.,\n",
       " He was convicted of draft evasion on June 20 and sentenced to five years in prison and a $10,000 fine.,\n",
       " He paid a bond and remained free while the verdict was being appealed.\n",
       " ,\n",
       " Draft resistance\n",
       " Ali registered for conscription in the United States military on his 18th birthday and was listed as 1-A in 1962.,\n",
       " In 1964, he was reclassified as Class 1-Y (fit for service only in times of national emergency) after he failed the U.S. Armed Forces qualifying test because his writing and spelling skills were sub-standard, due to his dyslexia.,\n",
       " (He was quoted as saying, \"I said I was the greatest, not the smartest!\"),\n",
       " By early 1966, the army lowered its standards to permit soldiers above the 15th percentile and Ali was again classified as 1-A.,\n",
       " This classification meant he was now eligible for the draft and induction into the U.S. Army at a time when the U.S. was involved in the Vietnam War, a war which put him further at odds with the white establishment.,\n",
       " When notified of this status, Ali declared that he would refuse to serve in the army and publicly considered himself a conscientious objector.,\n",
       " Ali stated: \"War is against the teachings of the Qur'an.,\n",
       " I'm not trying to dodge the draft.,\n",
       " We are not supposed to take part in no wars unless declared by Allah or The Messenger.,\n",
       " We don't take part in Christian wars or wars of any unbelievers\".,\n",
       " He also said \"We are not to be the aggressor but we will defend ourselves if attacked.\",\n",
       " He stated: \"Man, I ain't got no quarrel with them Viet Cong.\",\n",
       " Ali elaborated: \"Why should they ask me to put on a uniform and go ten thousand miles from home and drop bombs and bullets on brown people in Vietnam while so-called Negro people in Louisville are treated like dogs and denied simple human rights?\",\n",
       " Ali antagonized the white establishment in 1966 by refusing to be drafted into the U.S. military, citing his religious beliefs and opposition to American involvement in the Vietnam War.,\n",
       " On April 28, 1967, Ali appeared in Houston for his scheduled induction into the U.S. Armed Forces, but he refused three times to step forward when his name was called.,\n",
       " An officer warned him that he was committing a felony punishable by five years in prison and a fine of $10,000.,\n",
       " Once more, Ali refused to budge when his name was called, and he was arrested.,\n",
       " Later that same day, the New York State Athletic Commission suspended his boxing license and the World Boxing Association stripped him of his title.,\n",
       " Other boxing commissions followed suit.,\n",
       " Ali remained unable to obtain a license to box in any state for over three years.,\n",
       " On June 4, 1967, in a first for sports professionals, a group of high-profile African-American athletes including Jim Brown, Bill Russell, and Kareem Abdul-Jabbar, as well as one political leader, Carl Stokes, assembled at the Negro Industrial Economic Union in Cleveland for what became known as the \"Cleveland Summit\" or the \"Muhammad Ali Summit.\",\n",
       " The meeting was organized by Brown for his peers to question Ali about the seriousness of his convictions, and to decide whether to support him, which they ultimately did.,\n",
       " At the trial on June 20, 1967, the jury found Ali guilty after only 21 minutes of deliberation of the criminal offense of violating the Selective Service laws by refusing to be drafted.,\n",
       " After a Court of Appeals upheld the conviction, the case was reviewed by the U.S. Supreme Court in 1971.Ali remained free in the years between the Appellate Court decision and the Supreme Court ruling.,\n",
       " As public opinion began turning people against the war and the Civil Rights Movement continued to gather momentum, Ali became a popular speaker at colleges and universities across the country; this itinerary was rare if not unprecedented for a prizefighter.,\n",
       " At Howard University, for example, he gave his popular \"Black Is Best\" speech to 4,000 cheering students and community intellectuals, after he was invited to speak by sociology professor Nathan Hare on behalf of the Black Power Committee, a student protest group.,\n",
       " On June 28, 1971, the Supreme Court of the United States in Clay v. United States overturned Ali's conviction by a unanimous 8â€“0 decision (Justice Thurgood Marshall recused himself, as he had been the U.S. Solicitor General at the time of Ali's conviction).,\n",
       " The decision was not based on, nor did it address, the merits of Ali's claims per se.,\n",
       " Rather, the Court held that since the appeal board gave no reason for the denial of a conscientious objector exemption to Ali, that it was therefore impossible to determine which of the three basic tests for conscientious objector status (offered in the Justice Department's brief),\n",
       " the appeal board relied on, and Ali's conviction must be reversed.\n",
       " ,\n",
       " Impact of Ali's draft refusal\n",
       " Ali's example inspired many black Americans and others.,\n",
       " However, initially when he refused induction, he became arguably the most hated man in the country and received many death threats.,\n",
       " People who supported Ali during this time were also threatened, including sports journalist Jerry Izenberg, whose columns defended Ali's decision not to serve.,\n",
       " He wrote, \"Bomb threats emptied our office, making the staff stand out in the snow.,\n",
       " My car windshield was smashed with a sledgehammer.\",\n",
       " The New York Times columnist William Rhoden wrote, \"Ali's actions changed my standard of what constituted an athlete's greatness.,\n",
       " Possessing a killer jump shot or the ability to stop on a dime was no longer enough.,\n",
       " What were you doing for the liberation of your people?,\n",
       " What were you doing to help your country live up to the covenant of its founding principles?\"Recalling Ali's anti-war position, Kareem Abdul-Jabbar said: \"I remember the teachers at my high school didn't like Ali because he was so anti-establishment and he kind of thumbed his nose at authority and got away with it.,\n",
       " The fact that he was proud to be a black man and that he had so much talent ... made some people think that he was dangerous.,\n",
       " But for those very reasons I enjoyed him.,\n",
       " \"Civil rights figures came to believe that Ali had an energizing effect on the freedom movement as a whole.,\n",
       " Al Sharpton spoke of his bravery at a time when there was still widespread support for the Vietnam War:\n",
       " \n",
       " For the heavyweight champion of the world, who had achieved the highest level of athletic celebrity, to put all of that on the lineâ€”the money, the ability to get endorsementsâ€”to sacrifice all of that for a cause, gave a whole sense of legitimacy to the movement and the causes with young people that nothing else could have done.,\n",
       " Even those who were assassinated, certainly lost their lives, but they didn't voluntarily do that.,\n",
       " He knew he was going to jail and did it anyway.,\n",
       " That's another level of leadership and sacrifice.,\n",
       " Ali was honored with the annual Martin Luther King Award in 1970 by civil rights leader Ralph Abernathy, who called him \"a living example of soul power, the March on Washington in two fists.\",\n",
       " Coretta Scott King added that Ali was \"a champion of justice and peace and unity.,\n",
       " \"In speaking of the cost on Ali's career of his refusal to be drafted, his trainer Angelo Dundee said, \"One thing must be taken into account when talking about Ali:,\n",
       " He was robbed of his best years, his prime years.\",\n",
       " Ali's promoter Bob Arum did not support Ali's choice at the time, but in 2016 Arum stated: \"when I look back at his life, and I was blessed to call him a friend and spent a lot of time with him, it's hard for me to talk about his exploits in boxing because as great as they were they paled in comparison to the impact that he had on the world. ...,\n",
       " He did what he thought was right.,\n",
       " And it turned out he was right, and I was wrong.\"Ali's resistance to the draft was covered in the 2013 documentary The Trials of Muhammad Ali.\n",
       " \n",
       " NSA and FBI monitoring of Ali's communications\n",
       " In a secret operation code-named \"Minaret\", the National Security Agency (NSA) intercepted the communications of leading Americans, including Ali, Senators Frank Church and Howard Baker, Dr. Martin Luther King Jr., prominent U.S. journalists, and others who criticized the U.S. war in Vietnam.,\n",
       " A review by the NSA of the Minaret program concluded that it was \"disreputable if not outright illegal.,\n",
       " \"In 1971, Ali's Fight of the Century with Frazier was used by an activist group, the Citizens' Commission to Investigate the FBI, to pull off a burglary at an FBI office in Pennsylvania; the anticipation for the fight was unlike anything else, so they believed the security would also be focused on the fight.,\n",
       " This raid exposed the COINTELPRO operations that included illegal spying on activists involved with the civil rights and anti-war movements.,\n",
       " One of the COINTELPRO targets was Ali, and their activities included the FBI gaining access to his records as far back as elementary school; one such record mentioned him loving art as a child.\n",
       " ,\n",
       " Exile and comeback\n",
       " In March 1966, Ali refused to be inducted into the armed forces.,\n",
       " He was systematically denied a boxing license in every state and stripped of his passport.,\n",
       " As a result, he did not fight from March 1967 to October 1970â€”from ages 25 to almost 29â€”as his case worked its way through the appeals process before his conviction was overturned in 1971.\n",
       " ,\n",
       " Protesting while exiled\n",
       " During this time of inactivity, as opposition to the Vietnam War began to grow and Ali's stance gained sympathy, he spoke at colleges across the nation, criticizing the Vietnam War and advocating African-American pride and racial justice.,\n",
       " Ali based himself in Chicago.,\n",
       " According to most close to him, his Chicago years were formative.,\n",
       " At the time, Ali was widely condemned by the American media, with fears that his actions could potentially lead to mass civil disobedience.,\n",
       " Despite this, Ebony magazine noted in the late 1960s that Ali's popularity had increased during this time, especially among black people.\n",
       " ,\n",
       " The Super Fight\n",
       " While banned from sanctioned bouts, Ali settled a $1 million lawsuit against radio producer Murray Woroner by accepting $10,000 to appear in a privately staged fantasy fight against retired champion Rocky Marciano.,\n",
       " In 1969 the boxers were filmed sparring for about 75 one-minute rounds; they produced several potential outcomes.,\n",
       " A computer program purportedly determined the winner, based on data about the fighters, along with the opinions of approximately 250 boxing experts.,\n",
       " Edited versions of the bout were shown in movie theaters in 1970.,\n",
       " In the U.S. version Ali lost in a simulated 13th-round knockout, but in the European version Marciano lost due to cuts, also simulated.,\n",
       " Ali suggested that prejudice determined his defeat in the U.S. version; he was reported to have jokingly said, \"That computer was made in Alabama.,\n",
       " \"\n",
       " \n",
       " Return\n",
       " On August 11, 1970, with his case still in appeal, Ali was granted a license to box by the City of Atlanta Athletic Commission.,\n",
       " Leroy Johnson, Jesse Hill Jr. and Harry Pett had used their local political influence and set up the company House of Sports to organize the fight, underlining the influential power of Georgia's black politics in Ali' s comeback.,\n",
       " Ali's first return bout was against Jerry Quarry on October 26, resulting in a win after three rounds after Quarry was cut.,\n",
       " A month earlier, a victory in federal court forced the New York State Boxing Commission to reinstate Ali's license.,\n",
       " He fought Oscar Bonavena at Madison Square Garden in December, an uninspired performance that ended in a dramatic technical knockout of Bonavena in the 15th round.,\n",
       " The win left Ali as a top contender against heavyweight champion Joe Frazier.\n",
       " \n",
       " Fight against Joe Frazier\n",
       " Ali and Frazier's first fight, held at the Garden on March 8, 1971, was nicknamed the \"Fight of the Century\", due to the tremendous excitement surrounding a bout between two undefeated fighters, each with a legitimate claim to be heavyweight champion.,\n",
       " Veteran US boxing writer John Condon called it \"the greatest event I've ever worked on in my life.\",\n",
       " The bout was broadcast to 36 countries; promoters granted 760 press passes.,\n",
       " Adding to the atmosphere were the considerable pre-fight theatrics and name calling.,\n",
       " Before the fight Frazier called Ali, \"Cassius Clay\", this angered Ali and he portrayed Frazier as a \"dumb tool of the white establishment.\",\n",
       " \"Frazier is too ugly to be champ\", Ali said.,\n",
       " \"Frazier is too dumb to be champ.\",\n",
       " Ali also frequently called Frazier an \"Uncle Tom\".,\n",
       " Dave Wolf, who worked in Frazier's camp, recalled that, \"Ali was saying 'the only people rooting for Joe Frazier are white people in suits, Alabama sheriffs, and members of the Ku Klux Klan.,\n",
       " I'm fighting for the little man in the ghetto.',\n",
       " Joe was sitting there, smashing his fist into the palm of his hand, saying, 'What the fuck does he know about the ghetto?'\"Ali began training at a farm near Reading, Pennsylvania, in 1971 and, finding the country setting to his liking, sought to develop a real training camp in the countryside.,\n",
       " He found a five-acre site on a Pennsylvania country road in the village of Deer Lake, Pennsylvania.,\n",
       " On this site, Ali carved out what was to become his training camp, where he trained for all his fights from 1972 to the end of his career in 1981.,\n",
       " The Monday night fight lived up to its billing.,\n",
       " In a preview of their two other fights, a crouching, bobbing and weaving Frazier constantly pressured Ali, getting hit regularly by Ali jabs and combinations, but relentlessly attacking and scoring repeatedly, especially to Ali's body.,\n",
       " The fight was even in the early rounds, but Ali was taking more punishment than ever in his career.,\n",
       " On several occasions in the early rounds he played to the crowd and shook his head \"no\" after he was hit.,\n",
       " In the later roundsâ€”in what was the first appearance of the \"rope-a-dope strategy\"â€”Ali leaned against the ropes and absorbed punishment from Frazier, hoping to tire him.,\n",
       " In the 11th round, Frazier connected with a left hook that wobbled Ali, but because it appeared that Ali might be clowning as he staggered backwards across the ring, Frazier hesitated to press his advantage, fearing an Ali counter-attack.,\n",
       " In the final round, Frazier knocked Ali down with a vicious left hook, which referee Arthur Mercante said was as hard as a man can be hit.,\n",
       " Ali was back on his feet in three seconds.,\n",
       " Nevertheless, Ali lost by unanimous decision, his first professional defeat.\n",
       " ,\n",
       " Chamberlain challenge and Ellis fight\n",
       " In 1971, basketball star Wilt Chamberlain challenged Ali to a fight, and a bout was scheduled for July 26.,\n",
       " Although the seven-foot-two-inch tall Chamberlain had formidable physical advantages over Aliâ€”weighing 60 pounds more and able to reach 14 inches furtherâ€”Ali was able to influence Chamberlain into calling off the bout by taunting him with calls of \"Timber!\",\n",
       " and \"The tree will fall\" during a shared interview.,\n",
       " These statements of confidence unsettled his taller opponent, whom Los Angeles Lakers owner Jack Kent Cooke had offered a record-setting contract, conditional on Chamberlain agreeing to abandon what Cooke termed \"this boxing foolishness\", and he did exactly that.,\n",
       " To replace Ali's opponent, promoter Bob Arum quickly booked a former sparring partner of Ali's, Jimmy Ellis, who was a childhood friend from Louisville, Kentucky, to fight him.,\n",
       " Ali won the bout through a technical knockout when the referee stopped the fight in the twelfth round.\n",
       " ,\n",
       " After his loss\n",
       " Fights against Quarry, Patterson, Foster and Norton\n",
       " After the loss to Frazier, Ali fought Jerry Quarry, had a second bout with Floyd Patterson and faced Bob Foster in 1972, winning a total of six fights that year.,\n",
       " In 1973, Ken Norton broke Ali's jaw while giving him the second loss of his career.,\n",
       " After initially considering retirement, Ali won a controversial decision against Norton in their second bout.,\n",
       " This led to a rematch with Joe Frazier at Madison Square Garden on January 28, 1974; Frazier had recently lost his title to George Foreman.\n",
       " ,\n",
       " Second fight against Joe Frazier\n",
       " Ali was strong in the early rounds of the fight, and staggered Frazier in the second round.,\n",
       " Referee Tony Perez mistakenly thought he heard the bell ending the round and stepped between the two fighters as Ali was pressing his attack, giving Frazier time to recover.,\n",
       " However, Frazier came on in the middle rounds, snapping Ali's head in round seven and driving him to the ropes at the end of round eight.,\n",
       " The last four rounds saw round-to-round shifts in momentum between the two fighters.,\n",
       " Throughout most of the bout, however, Ali was able to circle away from Frazier's dangerous left hook and to tie Frazier up when he was cornered, the latter a tactic that Frazier's camp complained of bitterly.,\n",
       " Judges awarded Ali a unanimous decision.\n",
       " \n",
       " World heavyweight champion (second reign),\n",
       " The Rumble in the Jungle\n",
       " The defeat of Frazier set the stage for a title fight against heavyweight champion George Foreman in Kinshasa, Zaire, on October 30, 1974â€”a bout nicknamed The Rumble in the Jungle.,\n",
       " Foreman was considered one of the hardest punchers in heavyweight history.,\n",
       " In assessing the fight, analysts pointed out that Joe Frazier and Ken Norton, who had given Ali four tough battles and won two of them, had both been devastated by Foreman in second-round knockouts.,\n",
       " Ali was 32 years old, and had clearly lost speed and reflexes since his twenties.,\n",
       " Contrary to his later persona, Foreman was at the time a brooding and intimidating presence.,\n",
       " Almost no one associated with the sport, not even Ali's long-time supporter Howard Cosell, gave the former champion a chance of winning.,\n",
       " As usual, Ali was confident and colorful before the fight.,\n",
       " He told interviewer David Frost, \"If you think the world was surprised when Nixon resigned, wait till I whup Foreman's behind!\",\n",
       " He told the press, \"I've done something new for this fight.,\n",
       " I done wrestled with an alligator, I done tussled with a whale; handcuffed lightning, thrown thunder in jail; only last week, I murdered a rock, injured a stone, hospitalized a brick; I'm so mean I make medicine sick.\",\n",
       " Ali was wildly popular in Zaire, with crowds chanting \"Ali, bomaye\" (\"Ali, kill him\") wherever he went.,\n",
       " Ali opened the fight moving and scoring with right crosses to Foreman's head.,\n",
       " Then, beginning in the second round, and to the consternation of his corner, Ali retreated to the ropes and invited Foreman to hit him while covering up, clinching and counter-punching, all while verbally taunting Foreman.,\n",
       " The move, which would later become known as the \"Rope-a-dope\", so violated conventional boxing wisdomâ€”letting one of the hardest hitters in boxing strike at willâ€”that at ringside writer George Plimpton thought the fight had to be fixed.,\n",
       " Foreman, increasingly angered, threw punches that were deflected and did not land squarely.,\n",
       " Midway through the fight, as Foreman began tiring, Ali countered more frequently and effectively with punches and flurries, which electrified the pro-Ali crowd.,\n",
       " In the eighth round, Ali dropped an exhausted Foreman with a combination at center ring; Foreman failed to make the count.,\n",
       " Against the odds, and amidst pandemonium in the ring, Ali had regained the title by knockout.,\n",
       " Reflecting on the fight, George Foreman later said: \"I thought Ali was just one more knockout victim until, about the seventh round, I hit him hard to the jaw and he held me and whispered in my ear: 'That all you got, George?',\n",
       " I realized that this ain't what I thought it was.\"\n",
       " It was a major upset victory, after Ali came in as a 4â€“1 underdog against the previously unbeaten, heavy-hitting Foreman.,\n",
       " The fight became famous for Ali's introduction of the rope-a-dope tactic.,\n",
       " The fight was watched by a record estimated television audience of 1 billion viewers worldwide.,\n",
       " It was the world's most-watched live television broadcast at the time.\n",
       " ,\n",
       " Fights against Wepner, Lyle and Bugner\n",
       " Ali's next opponents included Chuck Wepner, Ron Lyle, and Joe Bugner.,\n",
       " Wepner, a journeyman known as \"The Bayonne Bleeder\", stunned Ali with a knockdown in the ninth round; Ali would later say he tripped on Wepner's foot.,\n",
       " It was a bout that would inspire Sylvester Stallone to create the acclaimed film, Rocky.\n",
       " ,\n",
       " Third fight against Joe Frazier\n",
       " Ali then agreed to a third match with Joe Frazier in Manila.,\n",
       " The bout, known as the \"Thrilla in Manila\", was held on October 1, 1975, in temperatures approaching 100 Â°F,\n",
       " (,\n",
       " 38,\n",
       " Â°C).,\n",
       " In the first rounds, Ali was aggressive, moving and exchanging blows with Frazier.,\n",
       " However, Ali soon appeared to tire and adopted the \"rope-a-dope\" strategy, frequently resorting to clinches.,\n",
       " During this part of the bout Ali did some effective counter-punching, but for the most part absorbed punishment from a relentlessly attacking Frazier.,\n",
       " In the 12th round, Frazier began to tire, and Ali scored several sharp blows that closed Frazier's left eye and opened a cut over his right eye.,\n",
       " With Frazier's vision now diminished, Ali dominated the 13th and 14th rounds, at times conducting what boxing historian Mike Silver called \"target practice\" on Frazier's head.,\n",
       " The fight was stopped when Frazier's trainer, Eddie Futch, refused to allow Frazier to answer the bell for the 15th and final round, despite Frazier's protests.,\n",
       " Frazier's eyes were both swollen shut.,\n",
       " Ali, in his corner, winner by TKO, slumped on his stool, clearly spent.,\n",
       " An ailing Ali said afterwards that the fight \"was the closest thing to dying that I know\", and, when later asked if he had viewed the fight on videotape, reportedly said, \"Why would I want to go back and see Hell?\",\n",
       " After the fight he cited Frazier as \"the greatest fighter of all times next to me.\"\n",
       " After the third fight with Frazier, Ali considered retirement.,\n",
       " He said, \"I'm sore all over.,\n",
       " My arms, my face, my sides all ache.,\n",
       " I'm so, so tired.,\n",
       " There is a great possibility that I will retire.,\n",
       " You might have seen the last of me.,\n",
       " I want to sit back and count my money, live in my house and my farm, work for my people and concentrate on my family.,\n",
       " \"\n",
       " \n",
       " Later career\n",
       " On February 2, 1976, Ali defeated Jean-Pierre Coopman by 5th round knockout.,\n",
       " The WBC Heavyweight title was not on the line for this fight.,\n",
       " On April 30, 1976, Ali would fight Jimmy Young and win a controversial unanimous decision.,\n",
       " Howard Cosell would remark that he had \"never seen Ali so off in his timing\" and when asked on his performance against Young in the post-fight interview, Ali stated that he was \"getting old\" and that he was \"preserving his energy\" for Ken Norton.,\n",
       " On May 24, 1976, Ali defeated Richard Dunn, winning by 5th round technical knockout.,\n",
       " The punch used to knock Dunn out was taught to Ali by Taekwondo Grandmaster Jhoon Rhee.,\n",
       " Rhee called that punch the \"Accupunch\"; he learned it from Bruce Lee.,\n",
       " The Dunn fight was the last time Ali would knock an opponent out in his boxing career. ,\n",
       " Ali fought Ken Norton for the third time in September 1976.,\n",
       " The bout, which was held at Yankee Stadium, resulted in Ali winning a controversial decision that ringside commentators had scored in favor of Norton.,\n",
       " Afterwards, he announced he was retiring from boxing to practice his faith, having converted to Sunni Islam after falling out with the Nation of Islam the previous year.,\n",
       " After returning to beat Alfredo Evangelista in May 1977, Ali struggled in his next fight against Earnie Shavers that September, getting pummeled a few times by punches to the head.,\n",
       " Ali won the fight by another unanimous decision, but the bout caused his longtime doctor Ferdie Pacheco to quit after he was rebuffed for telling Ali he should retire.,\n",
       " Pacheco was quoted as saying, \"the New York State Athletic Commission gave me a report that showed Ali's kidneys were falling apart.,\n",
       " I wrote to Angelo Dundee, Ali's trainer, his wife and Ali himself.,\n",
       " I got nothing back in response.,\n",
       " That's when I decided enough is enough.,\n",
       " \"In February 1978, Ali faced Leon Spinks at the Hilton Hotel in Las Vegas.,\n",
       " At the time, Spinks had only seven professional fights to his credit, and had recently fought a draw with journeyman Scott LeDoux.,\n",
       " Ali sparred less than two dozen rounds in preparation for the fight, and was seriously out of shape by the opening bell.,\n",
       " He lost the title by split decision.,\n",
       " A rematch occurred in September at the Superdome in New Orleans, Louisiana.,\n",
       " 70,000 people attended the bout and paid a total of $6 million admission, making it the largest live gate in boxing history at that time.,\n",
       " Ali won a unanimous decision in an uninspiring fight, with referee Lucien Joubert scoring rounds 10-4, judge Ernie Cojoe 10-4, and judge Herman Preis 11-4.,\n",
       " This made Ali the first heavyweight champion to win the belt three times.,\n",
       " Following this win, on July 27, 1979, Ali announced his retirement from boxing.,\n",
       " His retirement was short-lived, however; Ali announced his comeback to face Larry Holmes for the WBC belt in an attempt to win the heavyweight championship an unprecedented fourth time.,\n",
       " The fight was largely motivated by Ali's need for money.,\n",
       " Boxing writer Richie Giachetti said, \"Larry didn't want to fight Ali.,\n",
       " He knew Ali had nothing left; he knew it would be a horror.,\n",
       " \"\n",
       " It was around this time that Ali started struggling with vocal stutters and trembling hands.,\n",
       " The Nevada Athletic Commission (NAC) ordered that he undergo a complete physical in Las Vegas before being allowed to fight again.,\n",
       " Ali chose instead to check into the Mayo Clinic, who declared him fit to fight.,\n",
       " Their opinion was accepted by the NAC on July 31, 1980, paving the way for Ali's return to the ring.\n",
       " ,\n",
       " Fight stoppage vs. Larry Holmes\n",
       " On October 2, 1980, Ali returned to the ring to fight Holmes at Caesars Palace in Las Vegas.,\n",
       " Holmes, who fought under the nickname \"The Easton Assassin\", easily dominated Ali.,\n",
       " After the tenth round, Angelo Dundee stepped into the ring and instructed the referee to stop the fight.,\n",
       " It was the only time Ali ever lost by stoppage.,\n",
       " Immediately after the fight, Ali was given painkillers and antidepressants, in violation of World Boxing Council rules prohibiting the administration of any drug before the postfight urinalysis.,\n",
       " Giachetti called the fight \"awful...the worst sports event I ever had to cover.\",\n",
       " Actor Sylvester Stallone was ringside for the fight and said that it was like watching an autopsy on a man who is still alive.,\n",
       " The Holmes fight is said to have contributed to Ali's Parkinson's syndrome.,\n",
       " Despite pleas to definitively retire, Ali fought one last time on December 11, 1981, in Nassau, Bahamas, against Trevor Berbick, losing a ten-round decision.\n",
       " ,\n",
       " Exhibition bouts\n",
       " Ali boxed both well known boxers and celebrities from other walks of life, including Antonio Inoki, Michael Dokes, Sammy Davis Jr., Richard Pryor, Marvin Gaye, Burt Young, Lyle Alzado, Dave Semenko, and Puerto Rican comedian Jose Miguel Agrelot (with Iris Chacon acting as Agrelot's corner-woman).\n",
       " ,\n",
       " Ali vs Inoki\n",
       " On June 26, 1976, Ali participated in an exhibition bout in Tokyo against Japanese professional wrestler and martial artist Antonio Inoki.,\n",
       " Ali was only able to land two jabs while Inoki's kicks caused two blood clots and an infection that almost resulted in Ali's leg being amputated, as a result of Ali's team insisting on rules restricting Inoki's ability to wrestle.,\n",
       " The match was not scripted and ultimately declared a draw.,\n",
       " After Ali's death, The New York Times declared it his least memorable fight.,\n",
       " Most boxing commentators at the time viewed the fight negatively and hoped it would be forgotten as some considered it a \"15-round farce.\",\n",
       " Today it is considered by some to be one of Ali's most influential fights and CBS Sports said the attention the mixed-style bout received \"foretold the arrival of standardized MMA (mixed martial arts) years later.\",\n",
       " Ali and Inoki began a friendship after the fight.\n",
       " ,\n",
       " Ali vs Alzado\n",
       " In 1979, Ali fought an exhibition match against NFL player Lyle Alzado.,\n",
       " The fight went 8 rounds and was declared a draw.\n",
       " ,\n",
       " Ali vs Semenko\n",
       " Ali fought NHL player, Dave Semenko in an exhibition on June 12, 1983.,\n",
       " The match was officially a draw after going three rounds, but the Associated Press reported Ali was not seriously trying and was just toying with Semenko.\n",
       " ,\n",
       " Personal life\n",
       " Marriages and children\n",
       " Ali was married four times and had seven daughters and two sons.,\n",
       " Ali was introduced to cocktail waitress Sonji Roi by Herbert Muhammad, who was to become Ali's long-time manager, and asked her to marry him after their first date.,\n",
       " They married approximately one month later on August 14, 1964.,\n",
       " They quarreled over Sonji's refusal to join the Nation Of Islam.,\n",
       " According to Ali, \"She wouldn't do what she was supposed to do.,\n",
       " She wore lipstick; she went into bars; she dressed in clothes that were revealing and didn't look right.\",\n",
       " The marriage was childless and they divorced on January 10, 1966.,\n",
       " Just before the divorce was finalized, Ali sent Sonji a note: \"You traded heaven for hell, baby.\",\n",
       " Ali's brother Rahman said that she was Ali's only true love and the Nation of Islam made Ali divorce her and Ali never got over it.,\n",
       " On August 17, 1967, Ali married Belinda Boyd.,\n",
       " In an interview with NBC 6, Boyd recounted meeting Ali when she was 10 years old at her hometown mosque.,\n",
       " \"He said, 'Listen here little girl.,\n",
       " This is my name.,\n",
       " Imma be famous.,\n",
       " You need to keep that 'cause it's gone be worth a lot of money,'\" Boyd said, mimicking Ali.,\n",
       " \"You'll never be famous with that name.,\n",
       " And, I walked away,\" Boyd said.,\n",
       " Born into a Chicago family that had converted to the Nation Of Islam, she later changed her name to Khalilah Ali, though she was still called Belinda by old friends and family.,\n",
       " They had four children: author and rapper Maryum \"May May\" (born 1968); twins Jamillah and Rasheda (born 1970); and Muhammad Ali Jr. (born 1972).,\n",
       " Rasheda married Robert Walsh and has two sons: Biaggio Ali (born 1998), who is an amateur MMA fighter, and Nico Ali (born 2000), who is a professional boxer.,\n",
       " Ali was a resident of Cherry Hill, New Jersey in suburban Philadelphia in the early 1970s.,\n",
       " At age 32 in 1974, Ali began an extramarital relationship with 16-year-old Wanda Bolton (who subsequently changed her name to Aaisha Ali) with whom he fathered another daughter, Khaliah (born 1974).,\n",
       " While still married to Belinda, Ali married Aaisha in an Islamic ceremony that was not legally recognized.,\n",
       " According to Khaliah, Aaisha and her mother lived at Ali's Deer Lake training camp alongside Belinda and her children.,\n",
       " In January 1985, Aaisha sued Ali for unpaid palimony.,\n",
       " The case was settled when Ali agreed to set up a $200,000 trust fund for Khaliah.,\n",
       " In 2001 Khaliah was quoted as saying she believed her father viewed her as \"a mistake\".,\n",
       " He had another daughter, Miya (born 1972), from an extramarital relationship with Patricia Harvell.,\n",
       " By the summer of 1977, his second marriage ended due to Ali's repeated infidelity, and he had married actress and model Veronica PorchÃ©.,\n",
       " At the time of their marriage, they had a daughter, Hana, and Veronica was pregnant with their second child.,\n",
       " Their second daughter, Laila Ali, was born in December 1977.,\n",
       " By 1986, Ali and PorchÃ© were divorced due to Ali's continuous infidelity.,\n",
       " PorchÃ© said of Ali's infidelity, \"It was too much temptation for him, with women who threw themselves at him, It didn't mean anything.,\n",
       " He didn't have affairs â€“ he had one-night stands.,\n",
       " I knew beyond a doubt there were no feelings involved.,\n",
       " It was so obvious, It was easy to forgive him.,\n",
       " \"On,\n",
       " November 19, 1986, Ali married Yolanda \"Lonnie\" Williams.,\n",
       " Lonnie first met Ali at the age of 6 when her family moved to Louisville in 1963.,\n",
       " In 1982, she became Ali's primary caregiver and in return, he paid for her to attend graduate school at UCLA.,\n",
       " Together they adopted a son, Asaad Amin (born 1986), when Asaad was five months old.,\n",
       " In 1992, Lonnie incorporated Greatest of All Time, Inc. (G.O.A.T. Inc) to consolidate and license his intellectual properties for commercial purposes.,\n",
       " She served as the vice president and treasurer until the sale of the company in 2006.Kiiursti Mensah-Ali claims she is Ali's biological daughter with Barbara Mensah, with whom he allegedly had a 20-year relationship, citing photographs and a paternity test conducted in 1988.,\n",
       " She said he accepted responsibility and took care of her, but all contacts with him were cut off after he married his fourth wife Lonnie.,\n",
       " Kiiursti says she has a relationship with his other children.,\n",
       " After his death she again made passionate appeals to be allowed to mourn at his funeral.,\n",
       " In 2010, Osmon Williams came forward claiming to be Ali's biological son.,\n",
       " His mother Temica Williams (also known as Rebecca Holloway) launched a $3 million lawsuit against Ali in 1981 for sexual assault, claiming that she had started a sexual relationship with him when she was 12, and that her son Osmon (born 1977) was fathered by Ali.,\n",
       " She further alleged that Ali had originally supported her and her son financially, but stopped doing so after four years.,\n",
       " The case went on until 1986 and was eventually thrown out as her allegations were deemed to be barred by the statute of limitations.,\n",
       " According to Veronica, Ali admitted to the affair with Williams, but did not believe Osmon was his son which Veronica supported by saying \"Everybody in the camp was going with that girl.\",\n",
       " Ali biographer and friend Thomas Hauser has said this claim was of \"questionable veracity\".,\n",
       " Ali then lived in Scottsdale, Arizona with Lonnie.,\n",
       " In January 2007, it was reported that they had put their home in Berrien Springs, Michigan, which they had bought in 1975, up for sale and had purchased a home in eastern Jefferson County, Kentucky for $1,875,000.,\n",
       " Both homes were subsequently sold after Ali's death with Lonnie living in their remaining home in Paradise Valley, Arizona.,\n",
       " Lonnie converted to Islam from Catholicism in her late twenties.,\n",
       " In a 1974 interview, Ali said, \"If they say stand and salute the flag I do that out of respect, because I'm in the country\".,\n",
       " Ali would later say, \"If America was in trouble and real war came, I'd be on the front line if we had been attacked.,\n",
       " But I could see that (The Vietnam War) wasn't right.\",\n",
       " He also said, \"Black men would go over there and fight, but when they came home, they couldn't even be served a hamburger.\"Ali's daughter Laila was a professional boxer from 1999 until 2007, despite her father's previous opposition to women's boxing.,\n",
       " In 1978, he said \"Women are not made to be hit in the breast, and face like that.\",\n",
       " Ali still attended a number of his daughter's fights and later admitted to Laila he was wrong.,\n",
       " Ali's daughter Hana is married to Bellator middleweight fighter Kevin Casey.,\n",
       " Hana wrote about her father, \"His love for people was extraordinary.,\n",
       " I would get home from school to find homeless families sleeping in our guest room.,\n",
       " He'd see them on the street, pile them into his Rolls-Royce and bring them home.,\n",
       " He'd buy them clothes, take them to hotels and pay the bills for months in advance.\",\n",
       " She also said celebrities like Michael Jackson and Clint Eastwood would often visit Ali.,\n",
       " After Ali met a lesbian couple who were fans of his in 1997, he smiled and said to his friend Hauser, \"They look like they're happy together.\",\n",
       " Hauser wrote about the story, \"The thought that Liz and Roz (the lesbian couple he met) were happy pleased Muhammad.,\n",
       " Ali wanted people to be happy.,\n",
       " \"\n",
       " \n",
       " Religion and beliefs\n",
       " Affiliation with the Nation of Islam\n",
       " Ali said that he first heard of the Nation of Islam when he was fighting in the Golden Gloves tournament in Chicago in 1959, and attended his first Nation of Islam meeting in 1961.,\n",
       " He continued to attend meetings, although keeping his involvement hidden from the public.,\n",
       " In 1962, Clay met Malcolm X, who soon became his spiritual and political mentor.,\n",
       " By the time of the first Liston fight, Nation of Islam members, including Malcolm X, were visible in his entourage.,\n",
       " This led to a story in The Miami Herald just before the fight disclosing that Clay had joined the Nation of Islam, which nearly caused the bout to be canceled.,\n",
       " The article quoted Cassius Clay Sr. as saying that his son had joined the Black Muslims when he was 18.,\n",
       " In fact, Clay was initially refused entry to the Nation of Islam (often called the Black Muslims at the time) due to his boxing career.,\n",
       " However, after he won the championship from Liston in 1964, the Nation of Islam was more receptive and agreed to publicize his membership.,\n",
       " Shortly afterwards on March 6, Elijah Muhammad gave a radio address that Clay would be renamed Muhammad (one who is worthy of praise) Ali (most high).,\n",
       " Around that time Ali moved to the south side of Chicago and lived in a series of houses, always near the Nation of Islam's Mosque Maryam or Elijah Muhammad's residence.,\n",
       " He stayed in Chicago for about 12 years.,\n",
       " Only a few journalists, most notably Howard Cosell, accepted the new name at that time.,\n",
       " Ali stated that his earlier name was a \"slave name,\" and a \"white man's name\" and added that \"I didn't choose it and I don't want it.,\n",
       " I am Muhammad Ali, a free name\".,\n",
       " The person he was formerly named after was a white slave owner turned abolitionist.,\n",
       " Ali explained in his autobiography after studying his works, \"he may have gotten rid of his slaves, but (he) held on to white supremacy.\",\n",
       " In truth, Cassius Clay's attachment to slavery went farther than Ali knew.,\n",
       " In spite of his abolitionist fervor, Clay owned more slaves in 1865, when the 13th Amendment to the Constitution finally forbade its practice, than he had inherited from his wealthy slave-owning father Green Clay 37 years earlier.,\n",
       " With the Clay name coming from a family of enslavers, Ali concluded: \"Why should I keep my white slavemaster's name visible and my black ancestors invisible, unknown, unhonored?\"Not afraid to antagonize the white establishment, Ali stated, \"I am America.,\n",
       " I am the part you won't recognize.,\n",
       " But get used to me.,\n",
       " Black, confident, cocky; my name, not yours; my religion, not yours; my goals, my own; get used to me.\",\n",
       " Ali's friendship with Malcolm X ended as Malcolm split with the Nation of Islam a couple of weeks after Ali joined, and Ali remained with the Nation of Islam.,\n",
       " Ali later said that turning his back on Malcolm was one of the mistakes he regretted most in his life.,\n",
       " Aligning himself with the Nation of Islam, its leader Elijah Muhammad, and a narrative that labeled the white race as the perpetrator of genocide against African Americans made Ali a target of public condemnation.,\n",
       " The Nation of Islam was widely viewed by whites and some African Americans as a black separatist \"hate religion\" with a propensity toward violence; Ali had few qualms about using his influential voice to speak Nation of Islam doctrine.,\n",
       " In a press conference articulating his opposition to the Vietnam War, Ali stated, \"My enemy is the white people, not Vietcong or Chinese or Japanese.\",\n",
       " In relation to integration, he said: \"We who follow the teachings of Elijah Muhammad don't want to be forced to integrate.,\n",
       " Integration is wrong.,\n",
       " We don't want to live with the white man; that's all.\",\n",
       " Further articulating his opposition to integration, he told members of the KKK at a Klan rally in 1975 that \"black people should marry their own women...,\n",
       " blue birds are blue birds, red birds are red birds, pigeons with pigeons, eagles with eagles, God did not make no mistake\".,\n",
       " Writer Jerry Izenberg once noted that, \"the Nation became Ali's family and Elijah Muhammad became his father.,\n",
       " But there is an irony to the fact that while the Nation branded white people as devils, Ali had more white colleagues than most African American people did at that time in America, and continued to have them throughout his career.,\n",
       " \"\n",
       " \n",
       " Conversion to Sunni/Sufi Islam\n",
       " In Hauser's biography Muhammad Ali: His Life and Times, Ali says that although he is not a Christian as he thinks the idea of God having a son sounds wrong and does not make sense to him, as he believes, \"God don't beget; man begets\".,\n",
       " He still believes that even good Christians or good Jews can receive God's blessing and enter heaven as he stated, \"God created all people, no matter what their religion\".,\n",
       " He also stated, \"If you're against someone because he's a Muslim that's wrong.,\n",
       " If you're against someone because he's a Christian or a Jew, that's wrong\".,\n",
       " In a 2004 autobiography, Ali attributed his conversion to mainstream Sunni Islam to Warith Deen Muhammad, who assumed leadership of the Nation of Islam upon the death of his father Elijah Muhammad, and persuaded the Nation's followers to become adherents of Sunni Islam.,\n",
       " He said some people didn't like the change and stuck to Elijah's teachings, but he admired it and so left Elijah's teachings and became a follower of Sunni Islam.,\n",
       " Ali had gone on the Hajj pilgrimage to Mecca in 1972, which inspired him in a similar manner to Malcolm X, meeting people of different colors from all over the world giving him a different outlook and greater spiritual awareness.,\n",
       " In 1977, he said that, after he retired, he would dedicate the rest of his life to getting \"ready to meet God\" by helping people, charitable causes, uniting people and helping to make peace.,\n",
       " He went on another Hajj pilgrimage to Mecca in 1988.After the September 11 attacks in 2001, he stated that \"Islam is a religion of peace\" and \"does not promote terrorism or killing people\", and that he was \"angry that the world sees a certain group of Islam followers who caused this destruction, but they are not real Muslims.,\n",
       " They are racist fanatics who call themselves Muslims.\",\n",
       " In December 2015, he stated that \"True Muslims know that the ruthless violence of so-called Islamic jihadists goes against the very tenets of our religion\", that \"We as Muslims have to stand up to those who use Islam to advance their own personal agenda\", and that \"political leaders should use their position to bring understanding about the religion of Islam, and clarify that these misguided murderers have perverted people's views on what Islam really is.,\n",
       " \"He also developed an interest in Sufism, which he referenced in his autobiography, The Soul of a Butterfly.,\n",
       " According to Ali's daughter, Hana Yasmeen Ali, who co-authored The Soul of a Butterfly with him, Ali was attracted to Sufism after reading the books of Inayat Khan, which contain Sufi teachings.,\n",
       " Muhammad Ali received guidance from Islamic scholars such as Grand Mufti of Syria Al Marhum Al Sheikh Ahmed Kuftaro, Hisham Kabbani, Imam Zaid Shakir, Hamza Yusuf, and Timothy J. Gianotti, who was at Ali's bedside during his last days and ensured that although his funeral was interfaith, it was still in accordance with Islamic rites and rituals.\n",
       " ,\n",
       " Beatles reunion plan\n",
       " In 1976, inventor Alan Amron and businessman Joel Sacher partnered with Ali to promote The International Committee to Reunite the Beatles.,\n",
       " They asked fans worldwide to contribute a dollar each.,\n",
       " Ali said the idea was not to use the proceeds for profit, but to establish an international agency to help poor children.,\n",
       " \"This is money to help people all over the world\", he said.,\n",
       " He added, \"I love the music.,\n",
       " I used to train to their music.\",\n",
       " He said a reunion of the Beatles \"would make a lot of people happy.\",\n",
       " The former Beatles were indifferent to the plan, which elicited only a tepid response from the public.,\n",
       " No reunion happened.\n",
       " ,\n",
       " Entertainment career\n",
       " Acting\n",
       " Ali had a cameo role in the 1962 film version of Requiem for a Heavyweight, and during his exile from boxing, he starred in the short-lived 1969 Broadway musical, Buck White.,\n",
       " He also appeared in the documentary film Black Rodeo (1972) riding both a horse and a bull.,\n",
       " His autobiography The Greatest: My Own Story, written with Richard Durham, was published in 1975.,\n",
       " In 1977 the book was adapted into a film called The Greatest, in which Ali played himself and Ernest Borgnine played Angelo Dundee.,\n",
       " The film Freedom Road, made in 1978, features Ali in a rare acting role as Gideon Jackson, a former slave and Union (American Civil War) soldier in 1870s Virginia, who gets elected to the U.S. Senate and battles alongside former slaves and white sharecroppers to keep the land they have tended all their lives.\n",
       " ,\n",
       " Spoken word poetry and rap music\n",
       " Ali often used rhyme schemes and spoken word poetry, both for when he was trash talking in boxing and as political poetry for his activism outside of boxing.,\n",
       " He played a role in the shaping of the black poetic tradition, paving the way for The Last Poets in 1968, Gil Scott-Heron in 1970, and the emergence of rap music in the 1970s.,\n",
       " According to The Guardian, \"Some have argued that\" Ali was \"the first rapper.,\n",
       " \"In 1963, Ali released an album of spoken word music on Columbia Records titled, I Am the Greatest, and in 1964, he recorded a cover version of the rhythm and blues song \"Stand by Me\".,\n",
       " I Am the Greatest sold 500,000 copies, and has been identified as an early example of rap music and a precursor to hip hop.,\n",
       " It reached number 61 on the album chart and was nominated for the Grammy Award for Best Comedy Album at the 6th Annual Grammy Awards in 1964.,\n",
       " He later received a second Grammy nomination, for \"Best Recording for Children\", with his 1976 spoken word novelty record, The Adventures of Ali and His Gang vs. Mr. Tooth Decay.,\n",
       " Ali was an influential figure in the world of hip hop music.,\n",
       " As a \"rhyming trickster\", he was noted for his \"funky delivery\", \"boasts\", \"comical trash talk\", and \"endless quotables.\",\n",
       " According to Rolling Stone, his \"freestyle skills\" and his \"rhymes, flow, and braggadocio\" would \"one day become typical of old school MCs\" like Runâ€“D.M.C. and LL Cool J, and his \"outsized ego foreshadowed the vainglorious excesses of Kanye West, while his Afrocentric consciousness and cutting honesty pointed forward to modern bards like Rakim, Nas, Jay-Z, and Kendrick Lamar.\",\n",
       " \"I've wrestled with alligators, I've tussled with a whale.,\n",
       " I done handcuffed lightning and throw thunder in jail.,\n",
       " You know I'm bad.,\n",
       " Just last week, I murdered a rock, Injured a stone, Hospitalized a brick.,\n",
       " I'm so mean, I make medicine sick\" \"Float like a butterfly, sting like a bee.,\n",
       " His hands can't hit what his eyes can't see.,\n",
       " Now you see me, now you don't.,\n",
       " George thinks he will, but I know he won't.\",\n",
       " Ali spoke like no man the world had seen before.,\n",
       " So confident in what he said; fluent, smooth, creative, and intimidating.,\n",
       " He was a boxer and an activist, but he also had a role in influencing what now dominated pop-culture, hip-hop.,\n",
       " In 2006, the documentary Ali Rap was produced by ESPN.,\n",
       " Chuck D, a rapper for the band Public Enemy is the host.,\n",
       " Other rappers narrated the documentary as well, including Doug E Fresh, Ludacris and Rakim who all spoke on Ali's behalf in the film.,\n",
       " He has been cited as an inspiration by rappers such as LL Cool J, Public Enemy's Chuck D, Jay-Z, Eminem, Sean Combs, Slick Rick, Nas and MC Lyte.,\n",
       " Ali has been referenced in a number of hip hop songs, including Migos \"Fight Night\", The Game's \"Jesus Piece\", Nas' \"The Message\", The Sugarhill Gang's \"Rapper's Delight\", the Fugees' \"Ready or Not\", EPMD's \"You're a Customer\" and Will Smith's \"Gettin' Jiggy wit,\n",
       " It\".\n",
       " ,\n",
       " Professional wrestling\n",
       " Ali was involved with professional wrestling at different times in his career.,\n",
       " On June 1, 1976, as Ali was preparing for his bout with Inoki, he attended a match featuring Gorilla Monsoon.,\n",
       " After the match was over, Ali removed his shirt and jacket and confronted professional wrestler Gorilla Monsoon in the ring after his match at a World Wide Wrestling Federation show in Philadelphia Arena.,\n",
       " After dodging a few punches, Monsoon put Ali in an airplane spin and dumped him to the mat.,\n",
       " Ali stumbled to the corner, where his associate Butch Lewis convinced him to walk away.,\n",
       " On March 31, 1985, Ali was the special guest referee for the main event of the inaugural WrestleMania event.,\n",
       " In 1995, Ali led a group of Japanese and American professional wrestlers, including his 1976 opponent Antonio Inoki and Ric Flair, on a sports diplomacy mission to North Korea.,\n",
       " Ali was guest of honor at the record-breaking Collision in Korea, a wrestling event with the largest attendance of all time.\n",
       " ,\n",
       " Television appearances\n",
       " Muhammad Ali's fights were some of the world's most-watched television broadcasts, setting television viewership records.,\n",
       " His most-watched fights drew an estimated 1â€“2 billion viewers worldwide between 1974 and 1980, and were the world's most-watched live television broadcasts at the time.,\n",
       " Outside of fights, he made many other television appearances.,\n",
       " The following table lists known viewership figures of his non-fight television appearances.,\n",
       " For television viewership figures of his fights, see Boxing career of Muhammad Ali: Television viewership.\n",
       " ,\n",
       " Art\n",
       " Ali was also an amateur artist and made dozens of drawings and paintings in the 1970s.,\n",
       " In 1977, Rodney Hilton Brown, who owned an art gallery in NYC, asked Ali if he was interested in painting.,\n",
       " Ali took him up on the offer and produced several paintings for him to sell.,\n",
       " Brown is the author of \"Muhammad Ali: The Untold Story: Painter, Poet and Prophet.\",\n",
       " In October 2021, 26 of his drawings and arts were placed on auction and sold for close to US$1 Million.\n",
       " ,\n",
       " Later life\n",
       " By the end of his boxing career Ali had absorbed an estimated 200,000 hits.,\n",
       " In 1984, Ali was diagnosed with Parkinson's syndrome, which sometimes results from head trauma from violent physical activities such as boxing.,\n",
       " Ali still remained active during this time, later participating as a guest referee at WrestleMania I.\n",
       " \n",
       " Philanthropy, humanitarianism and politics\n",
       " Ali was known for being a humanitarian and philanthropist.,\n",
       " He focused on practicing his Islamic duty of charity and good deeds, donating millions to charity organizations and disadvantaged people of all religious backgrounds.,\n",
       " It is estimated that Ali helped to feed more than 22 million people afflicted by hunger across the world.,\n",
       " Early in his career, one of his main focuses was youth education.,\n",
       " He spoke at several historically black colleges and universities about the importance of education, and became the largest single black donor to the United Negro College Fund in 1967 by way of a $10,000 donation ($78,000 in 2020 USD).,\n",
       " In late 1966, he also pledged to donate a total of $100,000 to the UNCF (specifically promising to donate much of the proceeds of his title defense against Cleveland Williams), and paid $4,500 per closed circuit installation at six HBCUs so they could watch his fights.,\n",
       " Ali began visiting Africa, starting in 1964 when he visited Nigeria and Ghana.,\n",
       " In 1974, he visited a Palestinian refugee camp in Southern Lebanon, where Ali declared \"support for the Palestinian struggle to liberate their homeland.\",\n",
       " In 1978, following his loss to Spinks and before winning the rematch, Ali visited Bangladesh and received honorary citizenship there.,\n",
       " The same year, he participated in The Longest Walk, a protest march in the United States in support of Native American rights, along with singer Stevie Wonder and actor Marlon Brando.,\n",
       " In early 1980, Ali was recruited by President Jimmy Carter for a diplomatic mission to Africa, in an effort to persuade a number of African governments to join the US-led boycott of the Moscow Olympics in protest of the Soviet Invasion of Afghanistan.,\n",
       " Having arrived in Tanzania, Ali told cameras \"Russia is invading a Muslim country, Asiatic country\", and that its probable intention to head to oil-rich Persia to take dwells and ports \"could lead to nuclear war.,\n",
       " My purpose in coming here was to try to stop that.\",\n",
       " However, according to Ali biographer Thomas Hauser, \"at best, it was ill-conceived; at worst, a diplomatic disaster.\",\n",
       " The Tanzanian government was insulted that Carter had sent an athlete to discuss a serious political issue.,\n",
       " One official asked whether the United States would \"send Chris Evert to negotiate with London.\",\n",
       " Consequently, Ali was only received by the youth and culture minister, rather than President Julius Nyerere.,\n",
       " Ali was unable to explain why the African countries should join the US boycott when it had failed to support the African boycott of the 1976 Olympics (in protest of Apartheid in South Africa), although neither did the Soviet Union, and was unaware of the sentiment that the Soviet Union had backed some popular revolutions on the continent, although none of the countries on the itinerary were Soviet allies.,\n",
       " The Nigerian government also rebuffed him and confirmed that they would be participating in the Moscow Games.,\n",
       " Ali did, however, convince the government of Kenya to boycott the Soviet Olympics.,\n",
       " On January 19, 1981, in Los Angeles, Ali talked a suicidal man down from jumping off a ninth-floor ledge, an event that made national news.,\n",
       " In 1984, Ali announced his support for the re-election of United States President Ronald Reagan.,\n",
       " When asked to elaborate on his endorsement of Reagan, Ali told reporters, \"He's keeping God in schools and that's enough.\",\n",
       " In 1985, he visited Israel to request the release of Muslim prisoners at Atlit detainee camp, which Israel declined.,\n",
       " Around 1987, the California Bicentennial Foundation for the U.S. Constitution selected Ali to personify the vitality of the U.S. Constitution and Bill of Rights.,\n",
       " Ali rode on a float at the following year's Tournament of Roses Parade, launching the U.S. Constitution's 200th birthday commemoration.,\n",
       " In 1988, during the First Intifada, Ali participated in a Chicago rally in support of Palestine.,\n",
       " The same year, he visited Sudan to raise awareness about the plight of famine victims.,\n",
       " According to Politico, Ali supported Orrin Hatch politically.,\n",
       " In 1989, he participated in an Indian charity event with the Muslim Educational Society in Kozhikode, Kerala, along with Bollywood actor Dilip Kumar.,\n",
       " In 1990, Ali traveled to Iraq prior to the Gulf War, and met with Saddam Hussein in an attempt to negotiate the release of American hostages.,\n",
       " Ali secured the release of the hostages, in exchange for promising Hussein that he would bring America \"an honest account\" of Iraq.,\n",
       " Despite arranging the hostages release, he received criticism from President George H. W. Bush, and Joseph C. Wilson, the highest-ranking American diplomat in Baghdad.,\n",
       " Ali cooperated with Thomas Hauser on a biography, Muhammad Ali: His Life and Times.,\n",
       " The oral history was released in 1991.,\n",
       " In 1994, Ali campaigned to the United States government to come to the aid of refugees afflicted by the Rwandan genocide, and to donate to organizations helping Rwandan refugees.,\n",
       " In 1996, he lit the flame at the 1996 Summer Olympics in Atlanta, Georgia.,\n",
       " It was watched by an estimated 3.5 billion viewers worldwide.,\n",
       " On November 17, 2002, Ali went to Afghanistan as the \"U.N. Messenger of Peace.\",\n",
       " He was in Kabul for a three-day goodwill mission as a special guest of the UN.On September 1, 2009, Ali visited Ennis, County Clare, Ireland, the home of his great-grandfather, Abe Grady, who emigrated to the U.S. in the 1860s, eventually settling in Kentucky.,\n",
       " On July 27, 2012, Ali was a titular bearer of the Olympic flag during the opening ceremonies of the 2012 Summer Olympics in London.,\n",
       " He was helped to his feet by his wife Lonnie to stand before the flag due to his Parkinson's syndrome rendering him unable to carry it into the stadium.,\n",
       " The same year, he was awarded the Philadelphia Liberty Medal in recognition of his lifelong efforts in activism, philanthropy and humanitarianism.,\n",
       " \n",
       " ,\n",
       " Earnings\n",
       " By 1978, Ali's total fight purse earnings were estimated to be nearly $60 million (inflation-adjusted $364 million), including an estimated $47.45 million grossed between 1970 and 1978.,\n",
       " By 1980, his total fight purse earnings were estimated to be up to $70 million (inflation-adjusted $337 million).,\n",
       " In 1978, Ali revealed that he was \"broke\" and several news outlets reported his net worth to be an estimated $3.5 million (inflation-adjusted $16 million).,\n",
       " The press attributed his decline in wealth to several factors, including taxes consuming at least half of his income, management taking a third of his income, his lifestyle, and spending on family, charity and religious causes.,\n",
       " In 2006, Ali sold his name and image for $50 million, after which Forbes estimated his net worth to be $55 million in 2006.,\n",
       " Following his death in 2016, his fortune was estimated to be between $50 million and $80 million.\n",
       " ,\n",
       " Declining health\n",
       " Ali's Parkinson's syndrome led to a gradual decline in his health, though he was still active into the early 2000s, promoting his own biopic, Ali, in 2001.,\n",
       " That year he also contributed an on-camera segment to the America: A Tribute to Heroes benefit concert.,\n",
       " In 1998, Ali began working with actor Michael J. Fox, who has Parkinson's disease, to raise awareness and fund research for a cure.,\n",
       " They made a joint appearance before Congress to push the case in 2002.,\n",
       " In 2000, Ali worked with the Michael J. Fox Foundation for Parkinson's Research to raise awareness and encourage donations for research.,\n",
       " In February 2013, Ali's brother Rahman Ali said Muhammad could no longer speak and could be dead within days.,\n",
       " Ali's daughter May May Ali responded to the rumors, stating that she had talked to him on the phone the morning of February 3 and he was fine.,\n",
       " On December 20, 2014, Ali was hospitalized for a mild case of pneumonia.,\n",
       " Ali was once again hospitalized on January 15, 2015, for a urinary tract infection after being found unresponsive at a guest house in Scottsdale, Arizona.,\n",
       " He was released the next day.\n",
       " ,\n",
       " Death\n",
       " Ali was hospitalized in Scottsdale, Arizona, on June 2, 2016, with a respiratory illness.,\n",
       " Though his condition was initially described as fair, it worsened, and he died the following day at the age of 74 from septic shock.,\n",
       " \n",
       " ,\n",
       " News coverage and tributes\n",
       " Following Ali's death, he was the number-one trending topic on Twitter for over 12 hours and on Facebook for several days.,\n",
       " BET played their documentary Muhammad Ali: Made In Miami.,\n",
       " ESPN played four hours of non-stop commercial-free coverage of Ali.,\n",
       " News networks, such as ABC News, BBC, CNN, and Fox News, also covered him extensively.,\n",
       " He was mourned globally, and a family spokesman said the family \"certainly believes that Muhammad was a citizen of the world ... and they know that the world grieves with him.\",\n",
       " Politicians such as Barack Obama, Hillary Clinton, Bill Clinton, Donald Trump, David Cameron and more paid tribute to Ali.,\n",
       " Ali also received numerous tributes from the world of sports including Michael Jordan, Tiger Woods, Floyd Mayweather, Mike Tyson, the Miami Marlins, LeBron James, Steph Curry and more.,\n",
       " Louisville Mayor Greg Fischer stated, \"Muhammad Ali belongs to the world.,\n",
       " But he only has one hometown.,\n",
       " \"The,\n",
       " day after Ali's death, the UFC paid tribute to Ali at their UFC 199 event in a lengthy video tribute package, crediting Ali for his accomplishments and inspiring multiple UFC champions.,\n",
       " \n",
       " \n",
       " Memorial\n",
       " Ali's funeral had been pre-planned by himself and others for several years prior to his actual death.,\n",
       " The services began in Louisville on June 9, 2016, with an Islamic Janazah prayer service at Freedom Hall on the grounds of the Kentucky Exposition Center.,\n",
       " The Janazah prayer was attended by Turkish President Recep Tayyip ErdoÄŸan.,\n",
       " On June 10, 2016, the funeral procession passed through the streets of Louisville ending at Cave Hill Cemetery, where his body was interred during a private ceremony.,\n",
       " A public memorial service for Ali at downtown Louisville's KFC Yum!,\n",
       " Center was held during the afternoon of June 10.,\n",
       " Billy Crystal gave the eulogy.,\n",
       " The pallbearers included Will Smith, Lennox Lewis and Mike Tyson, with honorary pallbearers including George Chuvalo, Larry Holmes and George Foreman.,\n",
       " Ali's memorial was watched by an estimated 1 billion viewers worldwide.,\n",
       " If the measure of greatness is to gladden the heart of every human being on the face of the earth, then he truly was the greatest.,\n",
       " In every way he was the bravest, the kindest and the most excellent of men.\n",
       " ,\n",
       " Legacy\n",
       " Ali remains the only three-time lineal heavyweight champion.,\n",
       " He is the only boxer to be named The Ring magazine Fighter of the Year six times, and was involved in more Ring \"Fight of the Year\" bouts than any other fighter.,\n",
       " He was one of only three boxers to be named \"Sportsman of the Year\" by Sports Illustrated.,\n",
       " Muhammad Ali was inducted into the International Boxing Hall of Fame in its first year and held wins over seven other Hall of Fame inductees during an era that has been called the golden age of heavyweight boxing.,\n",
       " The Associated Press ranked him as the second best boxer and best heavyweight of the 20th century.,\n",
       " His joint records of beating 21 boxers for the world heavyweight title and winning 14 unified title bouts stood for 35 years.,\n",
       " In 1978, three years before Ali's permanent retirement, the Louisville Board of Aldermen in his hometown of Louisville, Kentucky, voted 6â€“5 to rename Walnut Street to Muhammad Ali Boulevard.,\n",
       " This was controversial at the time, as within a week 12 of the 70 street signs were stolen.,\n",
       " Earlier that year, a committee of the Jefferson County Public Schools (Kentucky) considered renaming Ali's alma mater, Central High School, in his honor, but the motion failed to pass.,\n",
       " In time, Muhammad Ali Boulevardâ€”and Ali himselfâ€”came to be well accepted in his hometown.,\n",
       " Ali was named one of the 100 most influential Americans of the 20th century by Life magazine in 1990.,\n",
       " In 1993, the Associated Press reported that Ali was tied with Babe Ruth as the most recognized athlete, out of over 800 dead or living athletes, in America.,\n",
       " The study found that over 97% of Americans over 12 years of age identified both Ali and Ruth.,\n",
       " He was the recipient of the 1997 Arthur Ashe Courage Award.,\n",
       " At the end of the 20th century he was ranked at or near the top of most lists of the century's greatest athletes.,\n",
       " He was crowned Sportsman of the Century by Sports Illustrated.,\n",
       " Named BBC's Sports Personality of the Century, he received more votes than the other five candidates combined. ,\n",
       " He was also named BBC Overseas Sports Personality of the Year three times.,\n",
       " He was named Athlete of the Century by USA Today, and ranked as the third greatest North American athlete of the 20th century by ESPN SportsCentury.,\n",
       " Ali was named \"Kentucky Athlete of the Century\" by the Kentucky Athletic Hall of Fame in ceremonies at the Galt House East.,\n",
       " In 1999, Time magazine named Ali one of the 100 Most Important People of the 20th Century.,\n",
       " On January 8, 2001, Muhammad Ali was presented with the Presidential Citizens Medal by President Bill Clinton.,\n",
       " In November 2005, he received the Presidential Medal of Freedom from President George W. Bush, followed by the Otto Hahn Peace Medal in Gold of the UN Association of Germany (DGVN) in Berlin for his work with the civil rights movement and the United Nations, which he received on December 17, 2005.,\n",
       " On November 19, 2005, Ali and his wife Lonnie Ali opened the $60 million non-profit Muhammad Ali Center in downtown Louisville.,\n",
       " In addition to displaying his boxing memorabilia, the center focuses on core themes of peace, social responsibility, respect, and personal growth.,\n",
       " On June 5, 2007, he received an honorary doctorate of humanities at Princeton University's 260th graduation ceremony.,\n",
       " Ali Mall, located in Araneta Center, Quezon City, Philippines, is named after him.,\n",
       " Construction of the mall, the first of its kind in the Philippines, began shortly after Ali's victory in a match with Joe Frazier in nearby Araneta Coliseum in 1975.,\n",
       " The mall opened in 1976 with Ali attending its opening.,\n",
       " The 1976 Muhammad Ali vs. Antonio Inoki fight played an important role in the history of mixed martial arts.,\n",
       " In Japan, the match inspired Inoki's students Masakatsu Funaki and Minoru Suzuki to found Pancrase in 1993, which in turn inspired the foundation of Pride Fighting Championships in 1997.,\n",
       " Pride was acquired by its rival, Ultimate Fighting Championship, in 2007.The Muhammad Ali Boxing Reform Act was introduced in 1999 and passed in 2000, to protect the rights and welfare of boxers in the United States.,\n",
       " In May 2016, a bill was introduced to United States Congress by Markwayne Mullin, a politician and former MMA fighter, to extend the Ali Act to mixed martial arts.,\n",
       " In June 2016, US senator Rand Paul proposed an amendment to the US draft laws named after Ali, a proposal to eliminate the Selective Service System.,\n",
       " In 2015, Sports Illustrated renamed its Sportsman Legacy Award to the Sports Illustrated's Muhammad Ali Legacy Award.,\n",
       " The annual award was originally created in 2008 and honors former \"sports figures who embody the ideals of sportsmanship, leadership and philanthropy as vehicles for changing the world.\",\n",
       " Ali first appeared on the magazine's cover in 1963 and went on to be featured on numerous covers during his storied career.,\n",
       " The Society of Voice Arts and Sciences created the Muhammad Ali Voice of Humanity Honor in 2016, which is presented at its annual Voice Arts Awards.,\n",
       " The award was created in collaboration with the Muhammad Ali Center and is presented to \"an individual whose voice, through humanitarianism, activism or personal sacrifice, has made a decidedly positive impact on our national or global condition as a society.\",\n",
       " Sculptor Marc Mellon created the bronze sculpture for the award, which depicts Ali mid-speech.,\n",
       " Recipients of the honor include Dr. Henry Louis Gates, Ken Burns, Vance Jones, Lonnie Ali, Stacey Abrams, Wes Studi, and Manuela Testolini.,\n",
       " On January 13, 2017, the Muhammad Ali Commemorative Coin Act was introduced into the 115th Congress (2017â€“2019), but was not enacted.\n",
       " ,\n",
       " In media and popular culture\n",
       " As a world champion boxer, social activist, sex symbol and pop culture icon, Ali was the subject of numerous creative works including books, films, music, video games, TV shows, and other.,\n",
       " Muhammad Ali was often dubbed the world's \"most famous\" person in the media.,\n",
       " Several of his fights were watched by an estimated 1â€“2 billion viewers between 1974 and 1980, and his lighting of the torch at the 1996 Atlanta Olympics was watched by an estimated 3.5 billion viewers.,\n",
       " Ali appeared on the cover of Sports Illustrated on 38 different occasions, second only to Michael Jordan's 46.,\n",
       " He also appeared on the cover of Time Magazine 5 times, the most of any athlete.,\n",
       " In 2015, Harris Poll found that Ali was one of the three most recognizable athletes in the United States, along with Michael Jordan and Babe Ruth.,\n",
       " Martial artist and actor Bruce Lee was influenced by Ali, whose footwork he studied and incorporated into his own style while developing Jeet Kune Do in the 1960s.,\n",
       " On the set of Freedom Road Ali met Canadian singer-songwriter Michel, and subsequently helped create Michel's album The First Flight of the Gizzelda Dragon and an unaired television special featuring them both.,\n",
       " Ali was the subject of the British television program This Is Your Life in 1978 when he was surprised by Eamonn Andrews.,\n",
       " Ali was featured in Superman vs. Muhammad Ali, a 1978 DC Comics comic book pitting the champ against the superhero.,\n",
       " In 1979, Ali guest-starred as himself in an episode of the NBC sitcom Diff'rent Strokes.,\n",
       " The show's title itself was inspired by the quote \"Different strokes for different folks\" popularized in 1966 by Ali, who also inspired the title of the 1967 Syl Johnson song \"Different Strokes\", one of the most sampled songs in pop music history.,\n",
       " He also wrote several bestselling books about his career, including The Greatest: My Own Story and The Soul of a Butterfly.,\n",
       " The Muhammad Ali effect, named after Ali, is a term that came into use in psychology in the 1980s, as he stated in The Greatest: My Own Story: \"I only said I was the greatest, not the smartest.\",\n",
       " According to this effect, when people are asked to rate their intelligence and moral behavior in comparison to others, people will rate themselves as more moral, but not more intelligent than others.,\n",
       " When We Were Kings, a 1996 documentary about the Rumble in the Jungle, won the Academy Award for Best Documentary Feature.,\n",
       " The 2001 biopic Ali garnered a Best Actor Oscar nomination for Will Smith for his portrayal of Ali.,\n",
       " Prior to making the film, Smith rejected the role until Ali requested that he accept it.,\n",
       " Smith said the first thing Ali told him was: \"Man, you're almost pretty enough to play me.,\n",
       " \"In 2002, Ali was honored with a star on the Hollywood Walk of Fame for his contributions to the entertainment industry.,\n",
       " His star is the only one to be mounted on a vertical surface, out of deference to his request that the name Muhammadâ€”a name he shares with the Islamic prophetâ€”not be walked upon.,\n",
       " His 1966 fight against George Chuvalo was the subject of Joseph Blasioli's 2003 documentary film The Last Round: Chuvalo vs. Ali.,\n",
       " The Trials of Muhammad Ali, a documentary directed by Bill Siegel that focuses on Ali's refusal of the draft during the Vietnam War, opened in Manhattan on August 23, 2013.,\n",
       " A 2013 made-for-TV movie titled Muhammad Ali's Greatest Fight dramatized the same aspect of Ali's life.,\n",
       " Antoine Fuqua's documentary What's My Name: Muhammad Ali was released in 2019.,\n",
       " Documentary filmmaker Ken Burns created the four-part documentary film Muhammad Ali, spanning over eight hours on Ali's life.,\n",
       " Burns worked on the film from early 2016 and it was released in September 2021 on PBS.,\n",
       " Dave Zirin, who watched an 8-hour rough cut of this documentary, called it \"utterly outstanding\" and said \"the footage they found will blow minds\".\n",
       " ,\n",
       " Professional boxing record\n",
       " Discography\n",
       " I Am the Greatest (1963)\n",
       " The Adventures of Ali and His Gang vs. Mr. Tooth Decay (1976)\n",
       " \n",
       " See also\n",
       " List of heavyweight boxing champions\n",
       " List of WBA world champions\n",
       " List of WBC world champions\n",
       " List of The Ring world champions\n",
       " List of undisputed boxing champions\n",
       " Converts to Islam\n",
       " Notable boxing families\n",
       " List of people from the Louisville metropolitan area\n",
       " List of North American Muslims\n",
       " African-American Muslims\n",
       " 1981 MAPS Wells Fargo embezzlement scandal\n",
       " \n",
       " Notes\n",
       " References\n",
       " Further reading\n",
       " Hauser, Thomas (2004).,\n",
       " Muhammad Ali: His Life and Times.,\n",
       " London: Robson Books.,\n",
       " ISBN 978-1-86105-738-9.,\n",
       " OCLC 56645513.\n",
       " ,\n",
       " Online\n",
       " Muhammad Ali: American boxer, in EncyclopÃ¦dia Britannica Online, by Thomas Hauser, Adam Augustyn, Piyush Bhathya, Yamini Chauhan, John M. Cunningham, Richard Pallardy, Michael Ray, Emily Rodriguez, Surabhi Sinha, Amy Tikkanen, Grace Young and The Editors of Encyclopaedia Britannica\n",
       " \n",
       " External links\n",
       " \n",
       " Official website (archived)\n",
       " Boxing record for Muhammad Ali from BoxRec (registration required) \n",
       " Muhammad Ali at IMDb \n",
       " William Addams Reitwiesner Genealogical Services: Ancestry of Muhammad Ali\n",
       " FBI Records: The Vault â€“ Muhammad Ali at the FBI\n",
       " Cassius Clay Guilty (1967), Texas Archive of the Moving Image\n",
       " Muhammad Ali at the USOPC Hall of Fame\n",
       " Muhammad Ali at Olympics.com \n",
       " Muhammad Ali at Olympedia Photo essays\n",
       " \n",
       " \"Cassius Clay: Before He Was Ali\".,\n",
       " Life.,\n",
       " Archived from the original on October 21, 2009.,\n",
       " Berman, Eliza; Ronk, Liz (June 4, 2016).,\n",
       " \"Muhammad Ali's Life in Photos; From his time in the ring to his more playful side\".,\n",
       " Life. time.com.,\n",
       " Archived from the original on June 4, 2016.]"
      ]
     },
     "execution_count": 26,
     "metadata": {},
     "output_type": "execute_result"
    }
   ],
   "source": [
    "list(doc.sents)"
   ]
  },
  {
   "cell_type": "markdown",
   "id": "f1c7147e",
   "metadata": {},
   "source": [
    "#### whats happening here is :\n",
    "#### nlp.vocab.strings[word_] :we are extracting the word id number for word 'bike' from spacy vocabulary\n",
    "#### np.asarray([nlp.vocab.vectors[nlp.vocab.strings[word_]]])  \n",
    "#### the word id is used to get the vector (a list of number for that word) and converted into array\n",
    "#### ms = nlp.vocab.vectors.most_similar(\n",
    "#### np.asarray([nlp.vocab.vectors[nlp.vocab.strings[word_]]]),n=10)\n",
    "#### now we have a vector for the word \"bike\", we extract the most similar words for the words \"bike\" from spacy vocabulary and considering only top 10 similar words\n",
    "#### words = [nlp.vocab.strings[w] for w in ms[0][0]]   \n",
    "####  we get three arrays one having the ids for most similar words , one for array of most similar word vector , and third for their similarity with word \"bike\""
   ]
  },
  {
   "cell_type": "markdown",
   "id": "66242b7a",
   "metadata": {},
   "source": [
    "#  similarity score"
   ]
  },
  {
   "cell_type": "code",
   "execution_count": 112,
   "id": "935f40f1",
   "metadata": {},
   "outputs": [],
   "source": [
    "doc1 = nlp('electric vehicles are being accepted at good rate')\n",
    "doc2 = nlp('what if apple had not fallen on newton ?')"
   ]
  },
  {
   "cell_type": "code",
   "execution_count": 113,
   "id": "76eeb3b9",
   "metadata": {},
   "outputs": [
    {
     "name": "stdout",
     "output_type": "stream",
     "text": [
      "0.4464568865359448\n"
     ]
    }
   ],
   "source": [
    "print(doc1.similarity(doc2))\n",
    "# similaity score is very low\n",
    "# note here the similarity score is not dependent on context .\n",
    "# for contextual similarity we have better models like BERT ,, roberta , gpt3etc "
   ]
  },
  {
   "cell_type": "code",
   "execution_count": 114,
   "id": "7e8d45f6",
   "metadata": {},
   "outputs": [],
   "source": [
    "doc1 = nlp('electric vehicles are being accepted at good rate')\n",
    "doc2 = nlp('people are shifting towards electric vehicles')"
   ]
  },
  {
   "cell_type": "code",
   "execution_count": 115,
   "id": "c0053096",
   "metadata": {},
   "outputs": [
    {
     "name": "stdout",
     "output_type": "stream",
     "text": [
      "0.8057730125585801\n"
     ]
    }
   ],
   "source": [
    "print(doc1.similarity(doc2))\n",
    "# similaity score is good"
   ]
  },
  {
   "cell_type": "markdown",
   "id": "30706db1",
   "metadata": {},
   "source": [
    "# spacy pipelines"
   ]
  },
  {
   "cell_type": "code",
   "execution_count": 142,
   "id": "b74afa4f",
   "metadata": {},
   "outputs": [
    {
     "data": {
      "text/plain": [
       "<spacy.lang.en.English at 0x278065dab50>"
      ]
     },
     "execution_count": 142,
     "metadata": {},
     "output_type": "execute_result"
    }
   ],
   "source": [
    "# this allows to build the model form scratch\n",
    "nlp = spacy.blank(\"en\")\n",
    "nlp"
   ]
  },
  {
   "cell_type": "code",
   "execution_count": 143,
   "id": "49ed2f0b",
   "metadata": {},
   "outputs": [
    {
     "data": {
      "text/plain": [
       "{'summary': {}, 'problems': {}, 'attrs': {}}"
      ]
     },
     "execution_count": 143,
     "metadata": {},
     "output_type": "execute_result"
    }
   ],
   "source": [
    "nlp.analyze_pipes()"
   ]
  },
  {
   "cell_type": "code",
   "execution_count": 144,
   "id": "46145d1f",
   "metadata": {},
   "outputs": [
    {
     "data": {
      "text/plain": [
       "<spacy.pipeline.sentencizer.Sentencizer at 0x278388f3300>"
      ]
     },
     "execution_count": 144,
     "metadata": {},
     "output_type": "execute_result"
    }
   ],
   "source": [
    "nlp.add_pipe(\"sentencizer\")"
   ]
  },
  {
   "cell_type": "code",
   "execution_count": 145,
   "id": "68f20e2a",
   "metadata": {},
   "outputs": [
    {
     "data": {
      "text/plain": [
       "{'summary': {'sentencizer': {'assigns': ['token.is_sent_start', 'doc.sents'],\n",
       "   'requires': [],\n",
       "   'scores': ['sents_f', 'sents_p', 'sents_r'],\n",
       "   'retokenizes': False}},\n",
       " 'problems': {'sentencizer': []},\n",
       " 'attrs': {'token.is_sent_start': {'assigns': ['sentencizer'], 'requires': []},\n",
       "  'doc.sents': {'assigns': ['sentencizer'], 'requires': []}}}"
      ]
     },
     "execution_count": 145,
     "metadata": {},
     "output_type": "execute_result"
    }
   ],
   "source": [
    "nlp.analyze_pipes()"
   ]
  },
  {
   "cell_type": "code",
   "execution_count": 112,
   "id": "f95fba16",
   "metadata": {},
   "outputs": [],
   "source": [
    "# this is a prebuilt model trained for general purpose nlp taskts\n",
    "nlp = spacy.load(\"en_core_web_sm\")"
   ]
  },
  {
   "cell_type": "code",
   "execution_count": 119,
   "id": "095247b1",
   "metadata": {},
   "outputs": [
    {
     "data": {
      "text/plain": [
       "{'summary': {}, 'problems': {}, 'attrs': {}}"
      ]
     },
     "execution_count": 119,
     "metadata": {},
     "output_type": "execute_result"
    }
   ],
   "source": [
    "nlp.analyze_pipes()"
   ]
  },
  {
   "cell_type": "code",
   "execution_count": 169,
   "id": "21b545d9",
   "metadata": {},
   "outputs": [],
   "source": [
    "nlp = spacy.load(\"en_core_web_sm\")\n",
    "text_ = \"West Chestertenfieldville was referenced in Mr.Deeds.\""
   ]
  },
  {
   "cell_type": "code",
   "execution_count": 170,
   "id": "101343bb",
   "metadata": {},
   "outputs": [
    {
     "data": {
      "text/plain": [
       "West Chestertenfieldville was referenced in Mr.Deeds."
      ]
     },
     "execution_count": 170,
     "metadata": {},
     "output_type": "execute_result"
    }
   ],
   "source": [
    "doc = nlp(text_)\n",
    "doc"
   ]
  },
  {
   "cell_type": "code",
   "execution_count": 171,
   "id": "5499e28d",
   "metadata": {},
   "outputs": [
    {
     "data": {
      "text/plain": [
       "(West Chestertenfieldville, Deeds)"
      ]
     },
     "execution_count": 171,
     "metadata": {},
     "output_type": "execute_result"
    }
   ],
   "source": [
    "doc.ents"
   ]
  },
  {
   "cell_type": "code",
   "execution_count": 172,
   "id": "78cc8650",
   "metadata": {},
   "outputs": [
    {
     "name": "stdout",
     "output_type": "stream",
     "text": [
      "West Chestertenfieldville GPE\n",
      "Deeds PERSON\n"
     ]
    }
   ],
   "source": [
    "for ent in doc.ents:\n",
    "    print(ent.text,ent.label_)"
   ]
  },
  {
   "cell_type": "code",
   "execution_count": 174,
   "id": "ff9e7ab9",
   "metadata": {},
   "outputs": [
    {
     "data": {
      "text/html": [
       "<span class=\"tex2jax_ignore\"><div class=\"entities\" style=\"line-height: 2.5; direction: ltr\">\n",
       "<mark class=\"entity\" style=\"background: #feca74; padding: 0.45em 0.6em; margin: 0 0.25em; line-height: 1; border-radius: 0.35em;\">\n",
       "    West Chestertenfieldville\n",
       "    <span style=\"font-size: 0.8em; font-weight: bold; line-height: 1; border-radius: 0.35em; vertical-align: middle; margin-left: 0.5rem\">GPE</span>\n",
       "</mark>\n",
       " was referenced in Mr.\n",
       "<mark class=\"entity\" style=\"background: #aa9cfc; padding: 0.45em 0.6em; margin: 0 0.25em; line-height: 1; border-radius: 0.35em;\">\n",
       "    Deeds\n",
       "    <span style=\"font-size: 0.8em; font-weight: bold; line-height: 1; border-radius: 0.35em; vertical-align: middle; margin-left: 0.5rem\">PERSON</span>\n",
       "</mark>\n",
       ".</div></span>"
      ],
      "text/plain": [
       "<IPython.core.display.HTML object>"
      ]
     },
     "metadata": {},
     "output_type": "display_data"
    }
   ],
   "source": [
    "spacy.displacy.render(doc,style=\"ent\")"
   ]
  },
  {
   "cell_type": "code",
   "execution_count": 152,
   "id": "f31cf07b",
   "metadata": {},
   "outputs": [],
   "source": [
    "ruler = nlp.add_pipe(\"entity_ruler\")"
   ]
  },
  {
   "cell_type": "code",
   "execution_count": 153,
   "id": "15d1abc8",
   "metadata": {
    "collapsed": true
   },
   "outputs": [
    {
     "data": {
      "text/plain": [
       "{'summary': {'tok2vec': {'assigns': ['doc.tensor'],\n",
       "   'requires': [],\n",
       "   'scores': [],\n",
       "   'retokenizes': False},\n",
       "  'tagger': {'assigns': ['token.tag'],\n",
       "   'requires': [],\n",
       "   'scores': ['tag_acc'],\n",
       "   'retokenizes': False},\n",
       "  'parser': {'assigns': ['token.dep',\n",
       "    'token.head',\n",
       "    'token.is_sent_start',\n",
       "    'doc.sents'],\n",
       "   'requires': [],\n",
       "   'scores': ['dep_uas',\n",
       "    'dep_las',\n",
       "    'dep_las_per_type',\n",
       "    'sents_p',\n",
       "    'sents_r',\n",
       "    'sents_f'],\n",
       "   'retokenizes': False},\n",
       "  'attribute_ruler': {'assigns': [],\n",
       "   'requires': [],\n",
       "   'scores': [],\n",
       "   'retokenizes': False},\n",
       "  'lemmatizer': {'assigns': ['token.lemma'],\n",
       "   'requires': [],\n",
       "   'scores': ['lemma_acc'],\n",
       "   'retokenizes': False},\n",
       "  'ner': {'assigns': ['doc.ents', 'token.ent_iob', 'token.ent_type'],\n",
       "   'requires': [],\n",
       "   'scores': ['ents_f', 'ents_p', 'ents_r', 'ents_per_type'],\n",
       "   'retokenizes': False},\n",
       "  'entity_ruler': {'assigns': ['doc.ents', 'token.ent_type', 'token.ent_iob'],\n",
       "   'requires': [],\n",
       "   'scores': ['ents_f', 'ents_p', 'ents_r', 'ents_per_type'],\n",
       "   'retokenizes': False}},\n",
       " 'problems': {'tok2vec': [],\n",
       "  'tagger': [],\n",
       "  'parser': [],\n",
       "  'attribute_ruler': [],\n",
       "  'lemmatizer': [],\n",
       "  'ner': [],\n",
       "  'entity_ruler': []},\n",
       " 'attrs': {'token.ent_type': {'assigns': ['ner', 'entity_ruler'],\n",
       "   'requires': []},\n",
       "  'doc.tensor': {'assigns': ['tok2vec'], 'requires': []},\n",
       "  'token.dep': {'assigns': ['parser'], 'requires': []},\n",
       "  'token.lemma': {'assigns': ['lemmatizer'], 'requires': []},\n",
       "  'doc.sents': {'assigns': ['parser'], 'requires': []},\n",
       "  'token.tag': {'assigns': ['tagger'], 'requires': []},\n",
       "  'doc.ents': {'assigns': ['ner', 'entity_ruler'], 'requires': []},\n",
       "  'token.ent_iob': {'assigns': ['ner', 'entity_ruler'], 'requires': []},\n",
       "  'token.head': {'assigns': ['parser'], 'requires': []},\n",
       "  'token.is_sent_start': {'assigns': ['parser'], 'requires': []}}}"
      ]
     },
     "execution_count": 153,
     "metadata": {},
     "output_type": "execute_result"
    }
   ],
   "source": [
    "nlp.analyze_pipes()"
   ]
  },
  {
   "cell_type": "code",
   "execution_count": 155,
   "id": "5e349ce3",
   "metadata": {},
   "outputs": [],
   "source": [
    "patterns = [\n",
    "        {\"label\":\"PERSON\",\"pattern\":\"West Chestertenfieldville\"}\n",
    "            ]"
   ]
  },
  {
   "cell_type": "code",
   "execution_count": 156,
   "id": "05a52c78",
   "metadata": {},
   "outputs": [],
   "source": [
    "ruler.add_patterns(patterns)"
   ]
  },
  {
   "cell_type": "code",
   "execution_count": 157,
   "id": "e378305f",
   "metadata": {},
   "outputs": [
    {
     "name": "stdout",
     "output_type": "stream",
     "text": [
      "West Chestertenfieldville GPE\n",
      "Deeds PERSON\n"
     ]
    }
   ],
   "source": [
    "doc2 = nlp(text_)\n",
    "for ent in doc2.ents:\n",
    "    print(ent.text,ent.label_)\n",
    "# we see the result has not changed , lets see how we do it.\n",
    "# we either put it before ner pipe or over write ner"
   ]
  },
  {
   "cell_type": "code",
   "execution_count": 158,
   "id": "3f321df2",
   "metadata": {},
   "outputs": [],
   "source": [
    "# place it before ner pipe\n",
    "nlp2 = spacy.load(\"en_core_web_sm\")"
   ]
  },
  {
   "cell_type": "code",
   "execution_count": 159,
   "id": "b5414b4c",
   "metadata": {},
   "outputs": [],
   "source": [
    "ruler = nlp2.add_pipe(\"entity_ruler\",before=\"ner\")"
   ]
  },
  {
   "cell_type": "code",
   "execution_count": 160,
   "id": "528fc026",
   "metadata": {},
   "outputs": [],
   "source": [
    "patterns = [\n",
    "        {\"label\":\"PERSON\",\"pattern\":\"West Chestertenfieldville\"}\n",
    "            ]\n",
    "\n",
    "ruler.add_patterns(patterns)"
   ]
  },
  {
   "cell_type": "code",
   "execution_count": 161,
   "id": "366ac5cc",
   "metadata": {},
   "outputs": [
    {
     "name": "stdout",
     "output_type": "stream",
     "text": [
      "West Chestertenfieldville PERSON\n",
      "Deeds PERSON\n"
     ]
    }
   ],
   "source": [
    "doc2 = nlp2(text_)\n",
    "for ent in doc2.ents:\n",
    "    print(ent.text,ent.label_)\n",
    "# now we see that we changed the label for a word although it is wrong but we just changing it \n",
    "# we see that we got DEEDS instead of Mr.Deeds and it ia film actually lets deal with it"
   ]
  },
  {
   "cell_type": "code",
   "execution_count": 191,
   "id": "0fcab09a",
   "metadata": {
    "collapsed": true
   },
   "outputs": [
    {
     "data": {
      "text/plain": [
       "{'summary': {'tok2vec': {'assigns': ['doc.tensor'],\n",
       "   'requires': [],\n",
       "   'scores': [],\n",
       "   'retokenizes': False},\n",
       "  'tagger': {'assigns': ['token.tag'],\n",
       "   'requires': [],\n",
       "   'scores': ['tag_acc'],\n",
       "   'retokenizes': False},\n",
       "  'parser': {'assigns': ['token.dep',\n",
       "    'token.head',\n",
       "    'token.is_sent_start',\n",
       "    'doc.sents'],\n",
       "   'requires': [],\n",
       "   'scores': ['dep_uas',\n",
       "    'dep_las',\n",
       "    'dep_las_per_type',\n",
       "    'sents_p',\n",
       "    'sents_r',\n",
       "    'sents_f'],\n",
       "   'retokenizes': False},\n",
       "  'attribute_ruler': {'assigns': [],\n",
       "   'requires': [],\n",
       "   'scores': [],\n",
       "   'retokenizes': False},\n",
       "  'lemmatizer': {'assigns': ['token.lemma'],\n",
       "   'requires': [],\n",
       "   'scores': ['lemma_acc'],\n",
       "   'retokenizes': False},\n",
       "  'entity_ruler': {'assigns': ['doc.ents', 'token.ent_type', 'token.ent_iob'],\n",
       "   'requires': [],\n",
       "   'scores': ['ents_f', 'ents_p', 'ents_r', 'ents_per_type'],\n",
       "   'retokenizes': False},\n",
       "  'ner': {'assigns': ['doc.ents', 'token.ent_iob', 'token.ent_type'],\n",
       "   'requires': [],\n",
       "   'scores': ['ents_f', 'ents_p', 'ents_r', 'ents_per_type'],\n",
       "   'retokenizes': False}},\n",
       " 'problems': {'tok2vec': [],\n",
       "  'tagger': [],\n",
       "  'parser': [],\n",
       "  'attribute_ruler': [],\n",
       "  'lemmatizer': [],\n",
       "  'entity_ruler': [],\n",
       "  'ner': []},\n",
       " 'attrs': {'token.ent_type': {'assigns': ['entity_ruler', 'ner'],\n",
       "   'requires': []},\n",
       "  'doc.ents': {'assigns': ['entity_ruler', 'ner'], 'requires': []},\n",
       "  'doc.sents': {'assigns': ['parser'], 'requires': []},\n",
       "  'token.ent_iob': {'assigns': ['entity_ruler', 'ner'], 'requires': []},\n",
       "  'token.is_sent_start': {'assigns': ['parser'], 'requires': []},\n",
       "  'token.tag': {'assigns': ['tagger'], 'requires': []},\n",
       "  'doc.tensor': {'assigns': ['tok2vec'], 'requires': []},\n",
       "  'token.dep': {'assigns': ['parser'], 'requires': []},\n",
       "  'token.lemma': {'assigns': ['lemmatizer'], 'requires': []},\n",
       "  'token.head': {'assigns': ['parser'], 'requires': []}}}"
      ]
     },
     "execution_count": 191,
     "metadata": {},
     "output_type": "execute_result"
    }
   ],
   "source": [
    "nlp2.analyze_pipes()"
   ]
  },
  {
   "cell_type": "code",
   "execution_count": 162,
   "id": "da9dc0ce",
   "metadata": {},
   "outputs": [],
   "source": [
    "nlp3 =  spacy.load(\"en_core_web_sm\")"
   ]
  },
  {
   "cell_type": "code",
   "execution_count": 163,
   "id": "611b3f58",
   "metadata": {},
   "outputs": [],
   "source": [
    "ruler = nlp3.add_pipe(\"entity_ruler\",before=\"ner\")"
   ]
  },
  {
   "cell_type": "code",
   "execution_count": 177,
   "id": "5b0a81de",
   "metadata": {},
   "outputs": [],
   "source": [
    "patterns = [\n",
    "        {\"label\":\"PERSON\",\"pattern\":\"West Chestertenfieldville\"},\n",
    "        {\"label\":\"FILM\",\"pattern\":\"Mr.Deeds\"}\n",
    "            ]\n",
    "\n",
    "ruler.add_patterns(patterns)"
   ]
  },
  {
   "cell_type": "code",
   "execution_count": 178,
   "id": "699455e0",
   "metadata": {},
   "outputs": [
    {
     "name": "stdout",
     "output_type": "stream",
     "text": [
      "West Chestertenfieldville PERSON\n",
      "Mr.Deeds FILM\n"
     ]
    }
   ],
   "source": [
    "doc = nlp3(text_)\n",
    "for ent in doc.ents:\n",
    "    print(ent.text,ent.label_)"
   ]
  },
  {
   "cell_type": "code",
   "execution_count": 179,
   "id": "2bc1ca09",
   "metadata": {},
   "outputs": [
    {
     "data": {
      "text/html": [
       "<span class=\"tex2jax_ignore\"><div class=\"entities\" style=\"line-height: 2.5; direction: ltr\">\n",
       "<mark class=\"entity\" style=\"background: #aa9cfc; padding: 0.45em 0.6em; margin: 0 0.25em; line-height: 1; border-radius: 0.35em;\">\n",
       "    West Chestertenfieldville\n",
       "    <span style=\"font-size: 0.8em; font-weight: bold; line-height: 1; border-radius: 0.35em; vertical-align: middle; margin-left: 0.5rem\">PERSON</span>\n",
       "</mark>\n",
       " was referenced in \n",
       "<mark class=\"entity\" style=\"background: #ddd; padding: 0.45em 0.6em; margin: 0 0.25em; line-height: 1; border-radius: 0.35em;\">\n",
       "    Mr.Deeds\n",
       "    <span style=\"font-size: 0.8em; font-weight: bold; line-height: 1; border-radius: 0.35em; vertical-align: middle; margin-left: 0.5rem\">FILM</span>\n",
       "</mark>\n",
       ".</div></span>"
      ],
      "text/plain": [
       "<IPython.core.display.HTML object>"
      ]
     },
     "metadata": {},
     "output_type": "display_data"
    }
   ],
   "source": [
    "spacy.displacy.render(doc,style=\"ent\")"
   ]
  },
  {
   "cell_type": "markdown",
   "id": "3651bfb0",
   "metadata": {},
   "source": [
    "# MACTHER"
   ]
  },
  {
   "cell_type": "code",
   "execution_count": 7,
   "id": "63ea8a55",
   "metadata": {},
   "outputs": [],
   "source": [
    "import spacy\n",
    "from spacy.matcher import Matcher as M"
   ]
  },
  {
   "cell_type": "code",
   "execution_count": 8,
   "id": "d8ea26fd",
   "metadata": {},
   "outputs": [],
   "source": [
    "nlp = spacy.load('en_core_web_sm')"
   ]
  },
  {
   "cell_type": "code",
   "execution_count": 44,
   "id": "8643953e",
   "metadata": {},
   "outputs": [],
   "source": [
    "matcher = M(nlp.vocab)\n",
    "pattern = [{\"LIKE_EMAIL\":True}]\n",
    "matcher.add(\"EMAIL_ADDRESS\",[pattern])"
   ]
  },
  {
   "cell_type": "code",
   "execution_count": 49,
   "id": "9473a6e1",
   "metadata": {},
   "outputs": [],
   "source": [
    "doc = nlp(\"this is my email addr mdaleem10@gmail.com\")\n",
    "\n",
    "matches = matcher(doc)"
   ]
  },
  {
   "cell_type": "code",
   "execution_count": 50,
   "id": "ba343384",
   "metadata": {},
   "outputs": [
    {
     "data": {
      "text/plain": [
       "[(16571425990740197027, 5, 6)]"
      ]
     },
     "execution_count": 50,
     "metadata": {},
     "output_type": "execute_result"
    }
   ],
   "source": [
    "matches"
   ]
  },
  {
   "cell_type": "code",
   "execution_count": 51,
   "id": "5d319a9b",
   "metadata": {},
   "outputs": [
    {
     "name": "stdout",
     "output_type": "stream",
     "text": [
      "EMAIL_ADDRESS\n"
     ]
    }
   ],
   "source": [
    "print(nlp.vocab[matches[0][0]].text)"
   ]
  },
  {
   "cell_type": "code",
   "execution_count": 52,
   "id": "832305d9",
   "metadata": {},
   "outputs": [
    {
     "data": {
      "text/plain": [
       "mdaleem10@gmail.com"
      ]
     },
     "execution_count": 52,
     "metadata": {},
     "output_type": "execute_result"
    }
   ],
   "source": [
    "doc[5:6]"
   ]
  },
  {
   "cell_type": "code",
   "execution_count": null,
   "id": "2ac00cd4",
   "metadata": {},
   "outputs": [],
   "source": []
  },
  {
   "cell_type": "code",
   "execution_count": 7,
   "id": "eeae460b",
   "metadata": {},
   "outputs": [],
   "source": [
    "import spacy\n",
    "from spacy.matcher import Matcher as M"
   ]
  },
  {
   "cell_type": "code",
   "execution_count": 8,
   "id": "29c3608b",
   "metadata": {},
   "outputs": [],
   "source": [
    "nlp = spacy.load('en_core_web_sm')"
   ]
  },
  {
   "cell_type": "code",
   "execution_count": 31,
   "id": "aafdc70c",
   "metadata": {},
   "outputs": [],
   "source": [
    "matcher = M(nlp.vocab)\n",
    "pattern = [{\"POS\":\"PRON\",\"OP\":\"+\"}]\n",
    "matcher.add(\"pronoun\",[pattern])"
   ]
  },
  {
   "cell_type": "code",
   "execution_count": 32,
   "id": "406c659f",
   "metadata": {},
   "outputs": [],
   "source": [
    "doc = nlp(\"this is my email addr mdaleem10@gmail.com\")\n",
    "\n",
    "matches = matcher(doc)"
   ]
  },
  {
   "cell_type": "code",
   "execution_count": 33,
   "id": "f46b3b26",
   "metadata": {},
   "outputs": [
    {
     "data": {
      "text/plain": [
       "[(14270305861902723024, 0, 1), (14270305861902723024, 2, 3)]"
      ]
     },
     "execution_count": 33,
     "metadata": {},
     "output_type": "execute_result"
    }
   ],
   "source": [
    "matches"
   ]
  },
  {
   "cell_type": "code",
   "execution_count": 34,
   "id": "ef8ff802",
   "metadata": {},
   "outputs": [
    {
     "name": "stdout",
     "output_type": "stream",
     "text": [
      "pronoun\n"
     ]
    }
   ],
   "source": [
    "print(nlp.vocab[matches[0][0]].text)"
   ]
  },
  {
   "cell_type": "code",
   "execution_count": null,
   "id": "79ea8a6b",
   "metadata": {},
   "outputs": [],
   "source": []
  },
  {
   "cell_type": "code",
   "execution_count": 61,
   "id": "0c31e6bb",
   "metadata": {},
   "outputs": [],
   "source": [
    "with open(\"Muhammad Ali\",\"r\") as f:\n",
    "    text_ = f.read()"
   ]
  },
  {
   "cell_type": "code",
   "execution_count": 62,
   "id": "b68339e3",
   "metadata": {
    "collapsed": true
   },
   "outputs": [
    {
     "data": {
      "text/plain": [
       "'Muhammad Ali (; born Cassius Marcellus Clay Jr.; January 17, 1942 â€“ June 3, 2016) was an American professional boxer and activist. Nicknamed \"the Greatest\", he is regarded as one of the most significant sports figures of the 20th century and is often regarded as the greatest heavyweight boxer of all time. He held the Ring magazine heavyweight title from 1964 to 1970. He was the undisputed champion from 1974 to 1978 and the WBA and Ring heavyweight champion from 1978 to 1979. In 1999, he was named Sportsman of the Century by Sports Illustrated and the Sports Personality of the Century by the BBC.\\nBorn and raised in Louisville, Kentucky, he began training as an amateur boxer at age 12. At 18, he won a gold medal in the light heavyweight division at the 1960 Summer Olympics and turned professional later that year. He converted to Islam after 1961. He won the world heavyweight championship, defeating Sonny Liston in a major upset on February 25, 1964, at age 22. During that year, he denounced his birth name as a \"slave name\" and formally changed his name to Muhammad Ali. In 1966, Ali refused to be drafted into the military owing to his religious beliefs and ethical opposition to the Vietnam War and was found guilty of draft evasion and stripped of his boxing titles. He stayed out of prison while appealing the decision to the Supreme Court, where his conviction was overturned in 1971. He did not fight for nearly four years and lost a period of peak performance as an athlete. Ali\\'s actions as a conscientious objector to the Vietnam War made him an icon for the larger counterculture of the 1960s generation, and he was a very high-profile figure of racial pride for African Americans during the civil rights movement and throughout his career. As a Muslim, Ali was initially affiliated with Elijah Muhammad\\'s Nation of Islam (NOI). He later disavowed the NOI, adhering to Sunni Islam.\\nHe fought in several historic boxing matches, including his highly publicized fights with Sonny Liston, Joe Frazier (including the Fight of the Century, the biggest boxing event up until then), the Thrilla in Manila, and his fight with George Foreman in The Rumble in the Jungle. Ali thrived in the spotlight at a  time when many boxers let their managers do the talking, and he became renowned for his provocative and outlandish persona. He was famous for trash-talking, often free-styled with rhyme schemes and spoken word poetry, and has been recognized as a pioneer in hip hop. He often predicted in which round he would knock out his opponent.\\nOutside boxing, Ali attained success as a spoken word artist, releasing two studio albums: I Am the Greatest! (1963) and The Adventures of Ali and His Gang vs. Mr. Tooth Decay (1976). Both albums received Grammy Award nominations. He also featured as an actor and writer, releasing two autobiographies. Ali retired from boxing in 1981 and focused on religion, philanthropy and activism. In 1984, he made public his diagnosis of Parkinson\\'s syndrome, which some reports attributed to boxing-related injuries, though he and his specialist physicians disputed this. He remained an active public figure globally, but in his later years made fewer public appearances as his condition worsened, and he was cared for by his family.\\n\\nEarly life\\nCassius Marcellus Clay Jr. ( KASH-É™ss) was born on January 17, 1942, in Louisville, Kentucky. He had one brother. He was named after his father, Cassius Marcellus Clay Sr., who had a sister and four brothers and who himself was named in honor of the 19th-century Republican politician and staunch abolitionist Cassius Marcellus Clay, also from the state of Kentucky. Clay\\'s father\\'s paternal grandparents were John Clay and Sallie Anne Clay; Clay\\'s sister Eva claimed that Sallie was a native of Madagascar. He was a descendant of slaves of the antebellum South, and was predominantly of African descent, with Irish and English family heritage. Ali\\'s maternal great-grandfather, Abe Grady, emigrated from E'"
      ]
     },
     "execution_count": 62,
     "metadata": {},
     "output_type": "execute_result"
    }
   ],
   "source": [
    "text_ = text_[:4000]\n",
    "text_"
   ]
  },
  {
   "cell_type": "code",
   "execution_count": 63,
   "id": "dfd82fc6",
   "metadata": {},
   "outputs": [],
   "source": [
    "nlp = spacy.load(\"en_core_web_sm\")"
   ]
  },
  {
   "cell_type": "code",
   "execution_count": 64,
   "id": "52e192c8",
   "metadata": {
    "scrolled": true
   },
   "outputs": [
    {
     "name": "stdout",
     "output_type": "stream",
     "text": [
      "108 \n",
      "\n",
      "(451313080118390996, 0, 1) Muhammad\n",
      "(451313080118390996, 1, 2) Ali\n",
      "(451313080118390996, 4, 5) Cassius\n",
      "(451313080118390996, 5, 6) Marcellus\n",
      "(451313080118390996, 6, 7) Clay\n",
      "(451313080118390996, 7, 8) Jr.\n",
      "(451313080118390996, 9, 10) January\n",
      "(451313080118390996, 15, 16) June\n",
      "(451313080118390996, 31, 32) Greatest\n",
      "(451313080118390996, 56, 57) heavyweight\n"
     ]
    }
   ],
   "source": [
    "# getting proper nouns\n",
    "matcher = M(nlp.vocab)\n",
    "pattern = [{\"POS\":\"PROPN\"}]\n",
    "matcher.add(\"PROPER_NOUN\",[pattern])\n",
    "doc = nlp(text_)\n",
    "matches= matcher(doc)\n",
    "print(len(matches),'\\n')\n",
    "for match in matches[:10]:\n",
    "    print(match,doc[match[1]:match[2]])"
   ]
  },
  {
   "cell_type": "code",
   "execution_count": 65,
   "id": "71d58391",
   "metadata": {
    "scrolled": true
   },
   "outputs": [
    {
     "name": "stdout",
     "output_type": "stream",
     "text": [
      "157\n",
      "(451313080118390996, 0, 1) Muhammad\n",
      "(451313080118390996, 0, 2) Muhammad Ali\n",
      "(451313080118390996, 1, 2) Ali\n",
      "(451313080118390996, 4, 5) Cassius\n",
      "(451313080118390996, 4, 6) Cassius Marcellus\n",
      "(451313080118390996, 5, 6) Marcellus\n",
      "(451313080118390996, 4, 7) Cassius Marcellus Clay\n",
      "(451313080118390996, 5, 7) Marcellus Clay\n",
      "(451313080118390996, 6, 7) Clay\n",
      "(451313080118390996, 4, 8) Cassius Marcellus Clay Jr.\n"
     ]
    }
   ],
   "source": [
    "# getting proper nouns\n",
    "matcher = M(nlp.vocab)\n",
    "pattern = [{\"POS\":\"PROPN\",\"OP\":\"+\"}] # we want a word which is proper noun but repreated 1 or more than one times\n",
    "matcher.add(\"PROPER_NOUN\",[pattern])\n",
    "doc = nlp(text_)\n",
    "matches= matcher(doc)\n",
    "print(len(matches))\n",
    "for match in matches[:10]:\n",
    "    print(match,doc[match[1]:match[2]])"
   ]
  },
  {
   "cell_type": "code",
   "execution_count": 66,
   "id": "84e80652",
   "metadata": {},
   "outputs": [
    {
     "name": "stdout",
     "output_type": "stream",
     "text": [
      "74\n",
      "(451313080118390996, 685, 690) Cassius Marcellus Clay Sr.\n",
      "(451313080118390996, 4, 8) Cassius Marcellus Clay Jr.\n",
      "(451313080118390996, 649, 653) Cassius Marcellus Clay Jr.\n",
      "(451313080118390996, 540, 543) Mr. Tooth Decay\n",
      "(451313080118390996, 715, 718) Cassius Marcellus Clay\n",
      "(451313080118390996, 736, 739) Sallie Anne Clay\n",
      "(451313080118390996, 0, 2) Muhammad Ali\n",
      "(451313080118390996, 106, 108) Sports Illustrated\n",
      "(451313080118390996, 110, 112) Sports Personality\n",
      "(451313080118390996, 155, 157) Summer Olympics\n"
     ]
    }
   ],
   "source": [
    "# getting proper nouns\n",
    "matcher = M(nlp.vocab)\n",
    "pattern = [{\"POS\":\"PROPN\",\"OP\":\"+\"}]\n",
    "matcher.add(\"PROPER_NOUN\",[pattern],greedy=\"LONGEST\") # longest words first\n",
    "doc = nlp(text_)\n",
    "matches= matcher(doc)\n",
    "print(len(matches))\n",
    "for match in matches[:10]:\n",
    "    print(match,doc[match[1]:match[2]])"
   ]
  },
  {
   "cell_type": "code",
   "execution_count": 67,
   "id": "1d510110",
   "metadata": {},
   "outputs": [
    {
     "name": "stdout",
     "output_type": "stream",
     "text": [
      "7\n",
      "(451313080118390996, 0, 3) Muhammad Ali (;\n",
      "(451313080118390996, 222, 224) Ali refused\n",
      "(451313080118390996, 306, 309) Vietnam War made\n",
      "(451313080118390996, 431, 433) Ali thrived\n",
      "(451313080118390996, 509, 511) Ali attained\n",
      "(451313080118390996, 567, 569) Ali retired\n",
      "(451313080118390996, 743, 745) Eva claimed\n"
     ]
    }
   ],
   "source": [
    "# getting proper nouns\n",
    "matcher = M(nlp.vocab)\n",
    "pattern = [{\"POS\":\"PROPN\",\"OP\":\"+\"},{\"POS\":\"VERB\"}] # a proper noun followed by VERB \n",
    "# https://spacy.io/usage/rule-based-matching   use available options from this url\n",
    "matcher.add(\"PROPER_NOUN\",[pattern],greedy=\"LONGEST\")\n",
    "doc = nlp(text_)\n",
    "matches= matcher(doc)\n",
    "matches.sort(key = lambda x:x[1])\n",
    "print(len(matches))\n",
    "for match in matches[:10]:\n",
    "    print(match,doc[match[1]:match[2]])"
   ]
  },
  {
   "cell_type": "code",
   "execution_count": 76,
   "id": "814fd482",
   "metadata": {},
   "outputs": [
    {
     "data": {
      "text/plain": [
       "\" hey there said MaAleem 'how you' doing Abbas and 'dont?' do zat as iam 'being'  furious\""
      ]
     },
     "execution_count": 76,
     "metadata": {},
     "output_type": "execute_result"
    }
   ],
   "source": [
    "text_ = \" hey there said MaAleem 'how you' doing Abbas and 'dont?' do zat as iam 'being'  furious\"\n",
    "text_"
   ]
  },
  {
   "cell_type": "code",
   "execution_count": 77,
   "id": "7d804bf3",
   "metadata": {},
   "outputs": [
    {
     "name": "stdout",
     "output_type": "stream",
     "text": [
      "5\n",
      "(451313080118390996, 5, 9) 'how you'\n",
      "(451313080118390996, 8, 13) ' doing Abbas and '\n",
      "(451313080118390996, 12, 17) 'dont?'\n",
      "(451313080118390996, 16, 22) ' do zat as iam '\n",
      "(451313080118390996, 21, 24) 'being'\n"
     ]
    }
   ],
   "source": [
    "# getting quotation marks\n",
    "matcher = M(nlp.vocab)\n",
    "pattern = [{\"ORTH\":\"'\"},\n",
    "          {\"IS_ALPHA\":True,\"OP\":\"+\"},\n",
    "          {\"IS_PUNCT\":True,\"OP\":\"*\"},\n",
    "          {\"ORTH\":\"'\"}\n",
    "          ] \n",
    "matcher.add(\"PROPER_NOUN\",[pattern])\n",
    "doc = nlp(text_)\n",
    "matches= matcher(doc)\n",
    "matches.sort(key = lambda x:x[1])\n",
    "print(len(matches))\n",
    "for match in matches:\n",
    "    print(match,doc[match[1]:match[2]])"
   ]
  },
  {
   "cell_type": "code",
   "execution_count": 72,
   "id": "8b0c3f29",
   "metadata": {},
   "outputs": [
    {
     "data": {
      "text/plain": [
       "[(451313080118390996, 5, 9),\n",
       " (451313080118390996, 8, 13),\n",
       " (451313080118390996, 12, 17),\n",
       " (451313080118390996, 16, 22),\n",
       " (451313080118390996, 21, 24)]"
      ]
     },
     "execution_count": 72,
     "metadata": {},
     "output_type": "execute_result"
    }
   ],
   "source": [
    "matches"
   ]
  },
  {
   "cell_type": "code",
   "execution_count": 84,
   "id": "c0a5285d",
   "metadata": {},
   "outputs": [
    {
     "name": "stdout",
     "output_type": "stream",
     "text": [
      "2\n",
      "(451313080118390996, 1, 13) 'i dont think it will work' said martin kennedy\n",
      "(451313080118390996, 16, 26) john chris asked 'what makes you think so '\n"
     ]
    }
   ],
   "source": [
    "text_ = \" 'i dont think it will work' said martin kennedy. Then the john chris asked 'what makes you think so '\"\n",
    "\n",
    "# getting quotation marks\n",
    "speak_lemmas = [\"think\",\"say\",\"ask\"]\n",
    "matcher = M(nlp.vocab)\n",
    "pattern1 = [\n",
    "          {\"ORTH\":\"'\"},\n",
    "          {\"IS_ALPHA\":True,\"OP\":\"+\"},\n",
    "          {\"IS_PUNCT\":True,\"OP\":\"*\"},\n",
    "          {\"ORTH\":\"'\"},\n",
    "          {\"POS\":\"VERB\",\"LEMMA\":{\"IN\":speak_lemmas}},\n",
    "          {\"POS\":\"PROPN\",\"OP\":\"+\"}\n",
    "          ] \n",
    "\n",
    "pattern2 = [\n",
    "          {\"POS\":\"PROPN\",\"OP\":\"+\"},\n",
    "          {\"POS\":\"VERB\",\"LEMMA\":{\"IN\":speak_lemmas}},\n",
    "          {\"ORTH\":\"'\"},\n",
    "          {\"IS_ALPHA\":True,\"OP\":\"+\"},\n",
    "          {\"IS_PUNCT\":True,\"OP\":\"*\"},\n",
    "          {\"ORTH\":\"'\"}\n",
    "          ] \n",
    "\n",
    "\n",
    "matcher.add(\"PROPER_NOUN\",[pattern1,pattern2],greedy=\"LONGEST\")\n",
    "doc = nlp(text_)\n",
    "matches= matcher(doc)\n",
    "matches.sort(key = lambda x:x[1])\n",
    "print(len(matches))\n",
    "for match in matches:\n",
    "    print(match,doc[match[1]:match[2]])"
   ]
  },
  {
   "cell_type": "markdown",
   "id": "6e6e066f",
   "metadata": {},
   "source": [
    "# custom components in spacy"
   ]
  },
  {
   "cell_type": "code",
   "execution_count": 117,
   "id": "6e13e67d",
   "metadata": {},
   "outputs": [],
   "source": [
    "import spacy\n",
    "nlp = spacy.load(\"en_core_web_sm\")\n",
    "doc = nlp(\"Britain is a place. Mary is a doctor.\")"
   ]
  },
  {
   "cell_type": "code",
   "execution_count": 96,
   "id": "4a8ea9af",
   "metadata": {},
   "outputs": [
    {
     "name": "stdout",
     "output_type": "stream",
     "text": [
      "Britain GPE\n",
      "Mary PERSON\n"
     ]
    }
   ],
   "source": [
    "for ent in doc.ents:\n",
    "    print(ent.text,ent.label_) "
   ]
  },
  {
   "cell_type": "code",
   "execution_count": 97,
   "id": "6a32d794",
   "metadata": {},
   "outputs": [],
   "source": [
    "# create a custom component that replaces GPE with LOC meaning location"
   ]
  },
  {
   "cell_type": "code",
   "execution_count": 98,
   "id": "0e2d4f06",
   "metadata": {},
   "outputs": [],
   "source": [
    "from spacy.language import Language"
   ]
  },
  {
   "cell_type": "code",
   "execution_count": 99,
   "id": "8d5e6253",
   "metadata": {},
   "outputs": [],
   "source": [
    "@Language.component(\"remove_gpe\")\n",
    "def remove_gpe(doc):\n",
    "    original_ents = list(doc.ents)\n",
    "    for ent in doc.ents:\n",
    "        if ent.label_==\"GPE\":\n",
    "            original_ents.remove(ent)\n",
    "            \n",
    "    doc.ents = original_ents\n",
    "    return (doc)"
   ]
  },
  {
   "cell_type": "code",
   "execution_count": 100,
   "id": "deb14f6b",
   "metadata": {},
   "outputs": [
    {
     "data": {
      "text/plain": [
       "<function __main__.remove_gpe(doc)>"
      ]
     },
     "execution_count": 100,
     "metadata": {},
     "output_type": "execute_result"
    }
   ],
   "source": [
    "nlp.add_pipe(\"remove_gpe\")"
   ]
  },
  {
   "cell_type": "code",
   "execution_count": 101,
   "id": "3aadacd0",
   "metadata": {
    "collapsed": true
   },
   "outputs": [
    {
     "data": {
      "text/plain": [
       "{'summary': {'tok2vec': {'assigns': ['doc.tensor'],\n",
       "   'requires': [],\n",
       "   'scores': [],\n",
       "   'retokenizes': False},\n",
       "  'tagger': {'assigns': ['token.tag'],\n",
       "   'requires': [],\n",
       "   'scores': ['tag_acc'],\n",
       "   'retokenizes': False},\n",
       "  'parser': {'assigns': ['token.dep',\n",
       "    'token.head',\n",
       "    'token.is_sent_start',\n",
       "    'doc.sents'],\n",
       "   'requires': [],\n",
       "   'scores': ['dep_uas',\n",
       "    'dep_las',\n",
       "    'dep_las_per_type',\n",
       "    'sents_p',\n",
       "    'sents_r',\n",
       "    'sents_f'],\n",
       "   'retokenizes': False},\n",
       "  'attribute_ruler': {'assigns': [],\n",
       "   'requires': [],\n",
       "   'scores': [],\n",
       "   'retokenizes': False},\n",
       "  'lemmatizer': {'assigns': ['token.lemma'],\n",
       "   'requires': [],\n",
       "   'scores': ['lemma_acc'],\n",
       "   'retokenizes': False},\n",
       "  'ner': {'assigns': ['doc.ents', 'token.ent_iob', 'token.ent_type'],\n",
       "   'requires': [],\n",
       "   'scores': ['ents_f', 'ents_p', 'ents_r', 'ents_per_type'],\n",
       "   'retokenizes': False},\n",
       "  'remove_gpe': {'assigns': [],\n",
       "   'requires': [],\n",
       "   'scores': [],\n",
       "   'retokenizes': False}},\n",
       " 'problems': {'tok2vec': [],\n",
       "  'tagger': [],\n",
       "  'parser': [],\n",
       "  'attribute_ruler': [],\n",
       "  'lemmatizer': [],\n",
       "  'ner': [],\n",
       "  'remove_gpe': []},\n",
       " 'attrs': {'token.is_sent_start': {'assigns': ['parser'], 'requires': []},\n",
       "  'doc.sents': {'assigns': ['parser'], 'requires': []},\n",
       "  'token.ent_type': {'assigns': ['ner'], 'requires': []},\n",
       "  'token.dep': {'assigns': ['parser'], 'requires': []},\n",
       "  'doc.tensor': {'assigns': ['tok2vec'], 'requires': []},\n",
       "  'token.head': {'assigns': ['parser'], 'requires': []},\n",
       "  'token.tag': {'assigns': ['tagger'], 'requires': []},\n",
       "  'doc.ents': {'assigns': ['ner'], 'requires': []},\n",
       "  'token.lemma': {'assigns': ['lemmatizer'], 'requires': []},\n",
       "  'token.ent_iob': {'assigns': ['ner'], 'requires': []}}}"
      ]
     },
     "execution_count": 101,
     "metadata": {},
     "output_type": "execute_result"
    }
   ],
   "source": [
    "nlp.analyze_pipes()"
   ]
  },
  {
   "cell_type": "code",
   "execution_count": 102,
   "id": "8ed5242f",
   "metadata": {},
   "outputs": [],
   "source": [
    "doc = nlp(\"Britain is a place. Mary is a doctor.\")"
   ]
  },
  {
   "cell_type": "code",
   "execution_count": 103,
   "id": "6341b350",
   "metadata": {},
   "outputs": [
    {
     "name": "stdout",
     "output_type": "stream",
     "text": [
      "Mary PERSON\n"
     ]
    }
   ],
   "source": [
    "for ent in doc.ents:\n",
    "    print(ent.text,ent.label_)"
   ]
  },
  {
   "cell_type": "code",
   "execution_count": 104,
   "id": "74bc99da",
   "metadata": {},
   "outputs": [
    {
     "data": {
      "text/plain": [
       "[Mary]"
      ]
     },
     "execution_count": 104,
     "metadata": {},
     "output_type": "execute_result"
    }
   ],
   "source": [
    "list(doc.ents)"
   ]
  },
  {
   "cell_type": "code",
   "execution_count": 441,
   "id": "2d1c1261",
   "metadata": {},
   "outputs": [],
   "source": [
    "# save the nlp custom model\n",
    "# nlp.to_disk(\"C:/Users/Lenovo/Downloads/Video/new_model\")\n",
    "# to load the model :- nlp = spacy.load(\"C:/Users/Lenovo/Downloads/Video/new_model\")\n",
    "# if we want to load this model into new jupter notebook then we need to create the pipeline again or copy the code from above"
   ]
  },
  {
   "cell_type": "code",
   "execution_count": null,
   "id": "f737ff32",
   "metadata": {},
   "outputs": [],
   "source": []
  },
  {
   "cell_type": "code",
   "execution_count": null,
   "id": "a46199d0",
   "metadata": {},
   "outputs": [],
   "source": []
  }
 ],
 "metadata": {
  "kernelspec": {
   "display_name": "Python 3 (ipykernel)",
   "language": "python",
   "name": "python3"
  },
  "language_info": {
   "codemirror_mode": {
    "name": "ipython",
    "version": 3
   },
   "file_extension": ".py",
   "mimetype": "text/x-python",
   "name": "python",
   "nbconvert_exporter": "python",
   "pygments_lexer": "ipython3",
   "version": "3.9.13"
  }
 },
 "nbformat": 4,
 "nbformat_minor": 5
}
