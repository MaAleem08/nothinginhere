{
 "cells": [
  {
   "cell_type": "code",
   "execution_count": null,
   "id": "82a4c3a3",
   "metadata": {},
   "outputs": [],
   "source": []
  },
  {
   "cell_type": "code",
   "execution_count": 30,
   "id": "1def5d40",
   "metadata": {},
   "outputs": [
    {
     "data": {
      "text/html": [
       "<div>\n",
       "<style scoped>\n",
       "    .dataframe tbody tr th:only-of-type {\n",
       "        vertical-align: middle;\n",
       "    }\n",
       "\n",
       "    .dataframe tbody tr th {\n",
       "        vertical-align: top;\n",
       "    }\n",
       "\n",
       "    .dataframe thead th {\n",
       "        text-align: right;\n",
       "    }\n",
       "</style>\n",
       "<table border=\"1\" class=\"dataframe\">\n",
       "  <thead>\n",
       "    <tr style=\"text-align: right;\">\n",
       "      <th></th>\n",
       "      <th>pclass</th>\n",
       "      <th>survived</th>\n",
       "      <th>name</th>\n",
       "      <th>sex</th>\n",
       "      <th>age</th>\n",
       "      <th>sibsp</th>\n",
       "      <th>parch</th>\n",
       "      <th>ticket</th>\n",
       "      <th>fare</th>\n",
       "      <th>cabin</th>\n",
       "      <th>embarked</th>\n",
       "      <th>boat</th>\n",
       "      <th>body</th>\n",
       "      <th>home.dest</th>\n",
       "    </tr>\n",
       "  </thead>\n",
       "  <tbody>\n",
       "    <tr>\n",
       "      <th>0</th>\n",
       "      <td>1</td>\n",
       "      <td>1</td>\n",
       "      <td>Allen, Miss. Elisabeth Walton</td>\n",
       "      <td>female</td>\n",
       "      <td>29.00</td>\n",
       "      <td>0</td>\n",
       "      <td>0</td>\n",
       "      <td>24160</td>\n",
       "      <td>211.3375</td>\n",
       "      <td>B5</td>\n",
       "      <td>S</td>\n",
       "      <td>2</td>\n",
       "      <td>NaN</td>\n",
       "      <td>St Louis, MO</td>\n",
       "    </tr>\n",
       "    <tr>\n",
       "      <th>1</th>\n",
       "      <td>1</td>\n",
       "      <td>1</td>\n",
       "      <td>Allison, Master. Hudson Trevor</td>\n",
       "      <td>male</td>\n",
       "      <td>0.92</td>\n",
       "      <td>1</td>\n",
       "      <td>2</td>\n",
       "      <td>113781</td>\n",
       "      <td>151.5500</td>\n",
       "      <td>C22 C26</td>\n",
       "      <td>S</td>\n",
       "      <td>11</td>\n",
       "      <td>NaN</td>\n",
       "      <td>Montreal, PQ / Chesterville, ON</td>\n",
       "    </tr>\n",
       "    <tr>\n",
       "      <th>2</th>\n",
       "      <td>1</td>\n",
       "      <td>0</td>\n",
       "      <td>Allison, Miss. Helen Loraine</td>\n",
       "      <td>female</td>\n",
       "      <td>2.00</td>\n",
       "      <td>1</td>\n",
       "      <td>2</td>\n",
       "      <td>113781</td>\n",
       "      <td>151.5500</td>\n",
       "      <td>C22 C26</td>\n",
       "      <td>S</td>\n",
       "      <td>NaN</td>\n",
       "      <td>NaN</td>\n",
       "      <td>Montreal, PQ / Chesterville, ON</td>\n",
       "    </tr>\n",
       "    <tr>\n",
       "      <th>3</th>\n",
       "      <td>1</td>\n",
       "      <td>0</td>\n",
       "      <td>Allison, Mr. Hudson Joshua Creighton</td>\n",
       "      <td>male</td>\n",
       "      <td>30.00</td>\n",
       "      <td>1</td>\n",
       "      <td>2</td>\n",
       "      <td>113781</td>\n",
       "      <td>151.5500</td>\n",
       "      <td>C22 C26</td>\n",
       "      <td>S</td>\n",
       "      <td>NaN</td>\n",
       "      <td>135.0</td>\n",
       "      <td>Montreal, PQ / Chesterville, ON</td>\n",
       "    </tr>\n",
       "    <tr>\n",
       "      <th>4</th>\n",
       "      <td>1</td>\n",
       "      <td>0</td>\n",
       "      <td>Allison, Mrs. Hudson J C (Bessie Waldo Daniels)</td>\n",
       "      <td>female</td>\n",
       "      <td>25.00</td>\n",
       "      <td>1</td>\n",
       "      <td>2</td>\n",
       "      <td>113781</td>\n",
       "      <td>151.5500</td>\n",
       "      <td>C22 C26</td>\n",
       "      <td>S</td>\n",
       "      <td>NaN</td>\n",
       "      <td>NaN</td>\n",
       "      <td>Montreal, PQ / Chesterville, ON</td>\n",
       "    </tr>\n",
       "  </tbody>\n",
       "</table>\n",
       "</div>"
      ],
      "text/plain": [
       "   pclass  survived                                             name     sex  \\\n",
       "0       1         1                    Allen, Miss. Elisabeth Walton  female   \n",
       "1       1         1                   Allison, Master. Hudson Trevor    male   \n",
       "2       1         0                     Allison, Miss. Helen Loraine  female   \n",
       "3       1         0             Allison, Mr. Hudson Joshua Creighton    male   \n",
       "4       1         0  Allison, Mrs. Hudson J C (Bessie Waldo Daniels)  female   \n",
       "\n",
       "     age  sibsp  parch  ticket      fare    cabin embarked boat   body  \\\n",
       "0  29.00      0      0   24160  211.3375       B5        S    2    NaN   \n",
       "1   0.92      1      2  113781  151.5500  C22 C26        S   11    NaN   \n",
       "2   2.00      1      2  113781  151.5500  C22 C26        S  NaN    NaN   \n",
       "3  30.00      1      2  113781  151.5500  C22 C26        S  NaN  135.0   \n",
       "4  25.00      1      2  113781  151.5500  C22 C26        S  NaN    NaN   \n",
       "\n",
       "                         home.dest  \n",
       "0                     St Louis, MO  \n",
       "1  Montreal, PQ / Chesterville, ON  \n",
       "2  Montreal, PQ / Chesterville, ON  \n",
       "3  Montreal, PQ / Chesterville, ON  \n",
       "4  Montreal, PQ / Chesterville, ON  "
      ]
     },
     "execution_count": 30,
     "metadata": {},
     "output_type": "execute_result"
    }
   ],
   "source": [
    "import numpy as np , seaborn as sns , matplotlib.pyplot as plt , pandas as pd\n",
    "\n",
    "df = pd.read_csv(\"titanic.csv\")\n",
    "df.head()"
   ]
  },
  {
   "cell_type": "code",
   "execution_count": 34,
   "id": "6d4af975",
   "metadata": {},
   "outputs": [
    {
     "name": "stdout",
     "output_type": "stream",
     "text": [
      "29.881137667304014\n",
      "14.406601748667839\n"
     ]
    }
   ],
   "source": [
    "print(np.mean(df.age))\n",
    "print(np.std(df.age))"
   ]
  },
  {
   "cell_type": "code",
   "execution_count": 37,
   "id": "ee120f6a",
   "metadata": {},
   "outputs": [
    {
     "name": "stdout",
     "output_type": "stream",
     "text": [
      "15\n",
      "43\n"
     ]
    }
   ],
   "source": [
    "print(29-14)\n",
    "print(29+14)\n",
    "# between 15 and 43 , there should be 65% of data"
   ]
  },
  {
   "cell_type": "code",
   "execution_count": 36,
   "id": "1cda339b",
   "metadata": {},
   "outputs": [
    {
     "data": {
      "text/plain": [
       "29.881137667304014"
      ]
     },
     "execution_count": 36,
     "metadata": {},
     "output_type": "execute_result"
    }
   ],
   "source": [
    "np.mean(df.age)\n",
    "# np.std(df.age)"
   ]
  },
  {
   "cell_type": "code",
   "execution_count": 45,
   "id": "cab1b6b9",
   "metadata": {
    "scrolled": true
   },
   "outputs": [
    {
     "name": "stdout",
     "output_type": "stream",
     "text": [
      "1046\n",
      "679.9\n"
     ]
    }
   ],
   "source": [
    "print(len(df.dropna(subset=\"age\")))\n",
    "print(len(df.dropna(subset=\"age\"))*0.65)"
   ]
  },
  {
   "cell_type": "code",
   "execution_count": 46,
   "id": "7b635a9b",
   "metadata": {},
   "outputs": [
    {
     "data": {
      "text/plain": [
       "736"
      ]
     },
     "execution_count": 46,
     "metadata": {},
     "output_type": "execute_result"
    }
   ],
   "source": [
    "len([i for i in df.dropna(subset=\"age\").age if i > 15 and i < 43])"
   ]
  },
  {
   "cell_type": "code",
   "execution_count": 47,
   "id": "f07034e2",
   "metadata": {},
   "outputs": [
    {
     "name": "stdout",
     "output_type": "stream",
     "text": [
      "1\n",
      "57\n"
     ]
    }
   ],
   "source": [
    "print(29-(14*2))\n",
    "print(29+(14*2))\n",
    "# between 1 and 57 , there should be 95% of data"
   ]
  },
  {
   "cell_type": "code",
   "execution_count": 48,
   "id": "279eabf8",
   "metadata": {},
   "outputs": [
    {
     "name": "stdout",
     "output_type": "stream",
     "text": [
      "1046\n",
      "993.6999999999999\n"
     ]
    }
   ],
   "source": [
    "print(len(df.dropna(subset=\"age\")))\n",
    "print(len(df.dropna(subset=\"age\"))*0.95)"
   ]
  },
  {
   "cell_type": "code",
   "execution_count": 50,
   "id": "ac28f2e2",
   "metadata": {},
   "outputs": [
    {
     "data": {
      "text/plain": [
       "970"
      ]
     },
     "execution_count": 50,
     "metadata": {},
     "output_type": "execute_result"
    }
   ],
   "source": [
    "len([i for i in df.dropna(subset=\"age\").age if i > 1 and i < 57])"
   ]
  },
  {
   "cell_type": "code",
   "execution_count": 52,
   "id": "81780f29",
   "metadata": {},
   "outputs": [
    {
     "name": "stdout",
     "output_type": "stream",
     "text": [
      "-13\n",
      "71\n"
     ]
    }
   ],
   "source": [
    "print(29-(14*3))\n",
    "print(29+(14*3))\n",
    "# between -13 and 71 , there should be 99% of data"
   ]
  },
  {
   "cell_type": "code",
   "execution_count": 53,
   "id": "51507774",
   "metadata": {},
   "outputs": [
    {
     "name": "stdout",
     "output_type": "stream",
     "text": [
      "1046\n",
      "1035.54\n"
     ]
    }
   ],
   "source": [
    "print(len(df.dropna(subset=\"age\")))\n",
    "print(len(df.dropna(subset=\"age\"))*0.99)"
   ]
  },
  {
   "cell_type": "code",
   "execution_count": 54,
   "id": "180b035c",
   "metadata": {},
   "outputs": [
    {
     "data": {
      "text/plain": [
       "1041"
      ]
     },
     "execution_count": 54,
     "metadata": {},
     "output_type": "execute_result"
    }
   ],
   "source": [
    "len([i for i in df.dropna(subset=\"age\").age if i > -13 and i < 71])"
   ]
  },
  {
   "cell_type": "code",
   "execution_count": null,
   "id": "bfe72a5e",
   "metadata": {},
   "outputs": [],
   "source": []
  },
  {
   "cell_type": "code",
   "execution_count": 30,
   "id": "f6809103",
   "metadata": {},
   "outputs": [],
   "source": []
  },
  {
   "cell_type": "code",
   "execution_count": 21,
   "id": "442813b9",
   "metadata": {
    "collapsed": true
   },
   "outputs": [
    {
     "data": {
      "text/plain": [
       "array([39.96397976, 52.58161051, 38.62752594, 50.05943945, 51.31144178,\n",
       "       54.68839983, 55.13682301, 40.90477948, 46.1864433 , 74.69231294,\n",
       "       52.96981281, 46.44856043, 47.58695524, 49.85386074, 36.59394248,\n",
       "       45.73771275, 60.69089069, 58.56320925, 58.35142807, 49.23215799,\n",
       "       37.04170602, 52.95725183, 60.76788051, 40.77604311, 55.30960691,\n",
       "       60.94774053, 50.80996183, 47.04264464, 35.99167097, 58.52813135,\n",
       "       52.19347943, 49.17571761, 58.89964759, 60.68450035, 61.75480527,\n",
       "       59.62178999, 52.12438958, 41.52420837, 51.96467175, 73.69229188,\n",
       "       54.56068928, 39.34467686, 54.06927125, 58.21564934, 21.05696345,\n",
       "       44.53742081, 68.91128905, 60.59253197, 56.83815367, 54.29330062,\n",
       "       54.46835113, 46.27160128, 48.06941201, 30.93574912, 65.60851537,\n",
       "       44.05013289, 51.5242752 , 35.01611846, 56.74336502, 39.49727563,\n",
       "       54.44410859, 48.94294706, 43.70101695, 52.09960484, 55.25808062,\n",
       "       43.61949483, 59.11329846, 44.70675729, 37.57575026, 29.07992258,\n",
       "       32.17168764, 47.64803032, 41.22146841, 53.22445573, 32.74026956,\n",
       "       50.95184979, 41.75067663, 43.20530647, 45.26011032, 54.10679968,\n",
       "       57.49485541, 71.75090209, 53.49052308, 45.42267039, 51.50485597,\n",
       "       47.79800157, 55.91126899, 49.44581215, 47.20521998, 69.68659114,\n",
       "       58.09838008, 70.90301698, 51.10486921, 62.27442849, 48.03141755,\n",
       "       69.52691272, 63.25401583, 55.56371802, 34.02753671, 47.96451875,\n",
       "       44.94291181, 55.43556316, 57.07527706, 52.8855904 , 50.59231346,\n",
       "       39.02817467, 41.00337503, 53.86167911, 47.90437647, 46.36243179,\n",
       "       70.94357062, 49.73836453, 51.44633765, 66.30595378, 56.76339632,\n",
       "       44.40570433, 47.37949588, 46.37241775, 36.05770599, 52.02581799,\n",
       "       42.91946517, 59.96551375, 58.04211486, 53.35141378, 57.93872319,\n",
       "       48.63712918, 39.06618714, 34.42462531, 46.99974235, 56.90795841,\n",
       "       42.89046594, 30.95775106, 50.6392411 , 50.91270615, 40.13497074,\n",
       "       67.15422176, 44.56316407, 60.69955338, 42.10355013, 55.28798413,\n",
       "       45.89359125, 46.93503628, 56.5874977 , 44.68327881, 62.33537504,\n",
       "       46.52747432, 48.4338055 , 50.38474683, 46.63487696, 56.56255807])"
      ]
     },
     "execution_count": 21,
     "metadata": {},
     "output_type": "execute_result"
    }
   ],
   "source": [
    "d = np.random.normal(50 , 10 , 150)\n",
    "d\n",
    "\n",
    "# Around 68% of values are within 1 standard deviation of the mean. \n",
    "# Around 95% of values are within 2 standard deviations of the mean\n",
    "# Around 99% of values are within 3 standard deviations of the mean"
   ]
  },
  {
   "cell_type": "code",
   "execution_count": 22,
   "id": "4690d961",
   "metadata": {},
   "outputs": [
    {
     "data": {
      "text/plain": [
       "102.00000000000001"
      ]
     },
     "execution_count": 22,
     "metadata": {},
     "output_type": "execute_result"
    }
   ],
   "source": [
    "150*0.68"
   ]
  },
  {
   "cell_type": "code",
   "execution_count": 25,
   "id": "83c9d571",
   "metadata": {},
   "outputs": [
    {
     "data": {
      "text/plain": [
       "109"
      ]
     },
     "execution_count": 25,
     "metadata": {},
     "output_type": "execute_result"
    }
   ],
   "source": [
    "len([i for i in d if i > 40 and i < 60])"
   ]
  },
  {
   "cell_type": "code",
   "execution_count": 26,
   "id": "915a2561",
   "metadata": {},
   "outputs": [
    {
     "data": {
      "text/plain": [
       "142.5"
      ]
     },
     "execution_count": 26,
     "metadata": {},
     "output_type": "execute_result"
    }
   ],
   "source": [
    "150*0.95"
   ]
  },
  {
   "cell_type": "code",
   "execution_count": 27,
   "id": "9370e510",
   "metadata": {},
   "outputs": [
    {
     "data": {
      "text/plain": [
       "143"
      ]
     },
     "execution_count": 27,
     "metadata": {},
     "output_type": "execute_result"
    }
   ],
   "source": [
    "len([i for i in d if i > 30 and i < 70])"
   ]
  },
  {
   "cell_type": "code",
   "execution_count": 28,
   "id": "990fb1cf",
   "metadata": {},
   "outputs": [
    {
     "data": {
      "text/plain": [
       "148.5"
      ]
     },
     "execution_count": 28,
     "metadata": {},
     "output_type": "execute_result"
    }
   ],
   "source": [
    "150*0.99"
   ]
  },
  {
   "cell_type": "code",
   "execution_count": 29,
   "id": "5004a252",
   "metadata": {},
   "outputs": [
    {
     "data": {
      "text/plain": [
       "150"
      ]
     },
     "execution_count": 29,
     "metadata": {},
     "output_type": "execute_result"
    }
   ],
   "source": [
    "len([i for i in d if i > 20 and i < 80])"
   ]
  },
  {
   "cell_type": "code",
   "execution_count": null,
   "id": "7fd2bf5e",
   "metadata": {},
   "outputs": [],
   "source": []
  },
  {
   "cell_type": "code",
   "execution_count": null,
   "id": "b31c5f79",
   "metadata": {},
   "outputs": [],
   "source": []
  },
  {
   "cell_type": "code",
   "execution_count": null,
   "id": "aec58abe",
   "metadata": {},
   "outputs": [],
   "source": []
  },
  {
   "cell_type": "code",
   "execution_count": null,
   "id": "7f73f815",
   "metadata": {},
   "outputs": [],
   "source": []
  },
  {
   "cell_type": "code",
   "execution_count": 1,
   "id": "d9d89ec7",
   "metadata": {},
   "outputs": [],
   "source": [
    "# Confidence Interval : 168 cm to 172 cm (the range you think includes the true average height).\n",
    "# Confidence Level : 95% (you’re 95% sure that the true height is between 168 cm and 172 cm).\n",
    "# Alpha (α) : 5% (there’s a 5% chance that the true average height is outside the 168 cm to 172 cm range)."
   ]
  },
  {
   "cell_type": "markdown",
   "id": "536b780f",
   "metadata": {},
   "source": [
    "two types of hypothesis testing\n",
    "parametric & non parametric\n",
    "\n",
    "parametric tests : data should be continuous and normally distribution\n",
    "non-parametric tests : data is continous not normally distribution or ordinal data"
   ]
  },
  {
   "cell_type": "markdown",
   "id": "9c99f6c6",
   "metadata": {},
   "source": [
    "# different types of hypothesis tests and when to use which type of test"
   ]
  },
  {
   "cell_type": "markdown",
   "id": "1821ede1",
   "metadata": {},
   "source": [
    "A type I error (false-positive) rejecting null hypothesis even if it is true\n",
    "\n",
    "a type II error (false-negative) accepting null hypothesis even if it is false"
   ]
  },
  {
   "cell_type": "markdown",
   "id": "3b557cae",
   "metadata": {},
   "source": [
    "in more than 2 groups , alpha value will always be 0.05"
   ]
  },
  {
   "cell_type": "markdown",
   "id": "aa63137e",
   "metadata": {},
   "source": [
    "# image showing which type of test to choose when there is only one sample"
   ]
  },
  {
   "cell_type": "code",
   "execution_count": 583,
   "id": "1efde079",
   "metadata": {},
   "outputs": [
    {
     "data": {
      "image/png": "[encoded data removed]",
      "text/plain": [
       "<PIL.PngImagePlugin.PngImageFile image mode=RGBA size=972x454>"
      ]
     },
     "execution_count": 583,
     "metadata": {},
     "output_type": "execute_result"
    }
   ],
   "source": [
    "from PIL import Image\n",
    "Image.open(r'C:/Users/Lenovo/Desktop/single or one.PNG')"
   ]
  },
  {
   "cell_type": "markdown",
   "id": "9b89bb93",
   "metadata": {},
   "source": [
    "if sample size >= 30 and population std is known : z test\n",
    "\n",
    "if sample size <= 30 and population std in unknown : t test\n",
    "\n",
    "what ever the sample size , and if we have population std or we dont know , we think we dont know and we use t test\n",
    "\n",
    "if we have std of population we think that we dont have that and we use t test"
   ]
  },
  {
   "cell_type": "markdown",
   "id": "1475c235",
   "metadata": {},
   "source": [
    "# image showing which type of test to choose when there are more than one samples"
   ]
  },
  {
   "cell_type": "code",
   "execution_count": 225,
   "id": "789d3fda",
   "metadata": {
    "scrolled": false
   },
   "outputs": [
    {
     "data": {
      "image/png": "[encoded data removed]",
      "text/plain": [
       "<PIL.PngImagePlugin.PngImageFile image mode=RGBA size=969x437>"
      ]
     },
     "execution_count": 225,
     "metadata": {},
     "output_type": "execute_result"
    }
   ],
   "source": [
    "Image.open(r'C:/Users/Lenovo/Desktop/two or more.PNG')"
   ]
  },
  {
   "cell_type": "markdown",
   "id": "e15bb575",
   "metadata": {},
   "source": [
    "# do the normality test first using shapiro test to check if the data that is to be compared is normally distributed . \n",
    "# there are different tests based on if outcome variable is normally distributed or not normally distributed or ordinal or nominal\n",
    "# if outcome data continuous and normally distributed go with parametric tests\n",
    "# if the outcome data is continuous but not normally distributed then go  with non parametric test\n",
    "# if the outcome data is ordinal or nominal then also go with non parametric test"
   ]
  },
  {
   "cell_type": "markdown",
   "id": "00a30f0a",
   "metadata": {},
   "source": [
    "# the type of data used in this file is just some randomly created but for the real data , exactly same thing wihout any change should be applied"
   ]
  },
  {
   "cell_type": "code",
   "execution_count": null,
   "id": "99ba62aa",
   "metadata": {},
   "outputs": [],
   "source": []
  },
  {
   "cell_type": "code",
   "execution_count": null,
   "id": "d7c12f72",
   "metadata": {},
   "outputs": [],
   "source": []
  },
  {
   "cell_type": "markdown",
   "id": "76ac3a24",
   "metadata": {},
   "source": [
    "# tests if there is only one sample"
   ]
  },
  {
   "cell_type": "markdown",
   "id": "2bfcdd42",
   "metadata": {},
   "source": [
    "# if that sample is continuous and normaly distributed data"
   ]
  },
  {
   "cell_type": "markdown",
   "id": "8fa59c47",
   "metadata": {},
   "source": [
    "# one sample t test"
   ]
  },
  {
   "cell_type": "markdown",
   "id": "5aeed44e",
   "metadata": {},
   "source": [
    "if the data we want to compare has only single sample.\n",
    "\n",
    "example : consider you have single column saying sales of cars or height of individuals or temperature of city for a month or year .\n",
    "\n",
    "here you only have to deal with single column data and you compare that single column data with a certain mean specified in null hypothesis\n",
    "\n",
    "if the data you have is continuous but not normally distributed then "
   ]
  },
  {
   "cell_type": "code",
   "execution_count": 27,
   "id": "b2bc5758",
   "metadata": {
    "scrolled": true
   },
   "outputs": [
    {
     "data": {
      "text/html": [
       "<div>\n",
       "<style scoped>\n",
       "    .dataframe tbody tr th:only-of-type {\n",
       "        vertical-align: middle;\n",
       "    }\n",
       "\n",
       "    .dataframe tbody tr th {\n",
       "        vertical-align: top;\n",
       "    }\n",
       "\n",
       "    .dataframe thead th {\n",
       "        text-align: right;\n",
       "    }\n",
       "</style>\n",
       "<table border=\"1\" class=\"dataframe\">\n",
       "  <thead>\n",
       "    <tr style=\"text-align: right;\">\n",
       "      <th></th>\n",
       "      <th>weights</th>\n",
       "    </tr>\n",
       "  </thead>\n",
       "  <tbody>\n",
       "    <tr>\n",
       "      <th>0</th>\n",
       "      <td>50</td>\n",
       "    </tr>\n",
       "    <tr>\n",
       "      <th>1</th>\n",
       "      <td>51</td>\n",
       "    </tr>\n",
       "    <tr>\n",
       "      <th>2</th>\n",
       "      <td>53</td>\n",
       "    </tr>\n",
       "    <tr>\n",
       "      <th>3</th>\n",
       "      <td>49</td>\n",
       "    </tr>\n",
       "    <tr>\n",
       "      <th>4</th>\n",
       "      <td>50</td>\n",
       "    </tr>\n",
       "    <tr>\n",
       "      <th>5</th>\n",
       "      <td>48</td>\n",
       "    </tr>\n",
       "    <tr>\n",
       "      <th>6</th>\n",
       "      <td>49</td>\n",
       "    </tr>\n",
       "    <tr>\n",
       "      <th>7</th>\n",
       "      <td>49</td>\n",
       "    </tr>\n",
       "    <tr>\n",
       "      <th>8</th>\n",
       "      <td>50</td>\n",
       "    </tr>\n",
       "    <tr>\n",
       "      <th>9</th>\n",
       "      <td>54</td>\n",
       "    </tr>\n",
       "  </tbody>\n",
       "</table>\n",
       "</div>"
      ],
      "text/plain": [
       "   weights\n",
       "0       50\n",
       "1       51\n",
       "2       53\n",
       "3       49\n",
       "4       50\n",
       "5       48\n",
       "6       49\n",
       "7       49\n",
       "8       50\n",
       "9       54"
      ]
     },
     "execution_count": 27,
     "metadata": {},
     "output_type": "execute_result"
    }
   ],
   "source": [
    "import pandas as pd , numpy as np\n",
    "\n",
    "asd = pd.DataFrame({'weights':[50,51,53,49,50,48,49,49,50,54]})\n",
    "asd"
   ]
  },
  {
   "cell_type": "code",
   "execution_count": 2,
   "id": "d0b7ff38",
   "metadata": {},
   "outputs": [],
   "source": [
    "# first check the normality of the data , if normal then go with this test else other test below\n",
    "from scipy.stats import shapiro\n",
    "\n",
    "shapiro(asd[\"weights\"])\n",
    "\n",
    "# p-value  >  0.05 , normally distributed , then you can do hyothesis testing"
   ]
  },
  {
   "cell_type": "code",
   "execution_count": null,
   "id": "00e5e473",
   "metadata": {},
   "outputs": [],
   "source": [
    "# one tailed\n",
    "\n",
    "# mean of distribuion is < 50\n",
    "# mean of distribuion is >= 50\n",
    "\n",
    "# h0 : mean of the distribution => 50\n",
    "# h1 : mean of the distribution is < 50     left tailed\n",
    "\n",
    "\n",
    "# mean of distribuion is <= 50\n",
    "# mean of distribuion is > 50\n",
    "\n",
    "# h0 : mean of the distribution =< 50\n",
    "# h1 : mean of the distribution is > 50     right tailed\n",
    "\n",
    "\n",
    "# two tailed\n",
    "\n",
    "# mean of distribuion is != 50\n",
    "# mean of distribuion is = 50\n",
    "\n",
    "# h0 : mean of the distribution = 50\n",
    "# h1 : mean of the distribution is != 50 that means > 50 or < 50\n"
   ]
  },
  {
   "cell_type": "code",
   "execution_count": 29,
   "id": "0ea1a411",
   "metadata": {},
   "outputs": [
    {
     "name": "stdout",
     "output_type": "stream",
     "text": [
      "0.5023310149673481 0.6274948659508927\n"
     ]
    }
   ],
   "source": [
    "from scipy.stats import ttest_1samp\n",
    "\n",
    "# on confidence level of 95%\n",
    "# alpha = 1 - 0.95 = 0.05\n",
    "\n",
    "# = < >\n",
    "# null hypothesis should always have = or <= or >=\n",
    "# alternate can have != or > or <\n",
    "\n",
    "# avg wt of distribtuion is = 50\n",
    "# avg wt of distribtuion is < 50 or > 50\n",
    "\n",
    "# h0 : mean of the distribution = 50\n",
    "# h1 : mean of the distribution is not 50 < or >\n",
    "\n",
    "# alpha = 1 - confidence level(95%) = 1 - 0.95 = 0.05\n",
    "# revised alpha = alpha/2 = 0.025\n",
    "\n",
    "\n",
    "t , pv = ttest_1samp(asd[\"weights\"],50,alternative='two-sided')   # alternative='greater'\n",
    "print(t,pv)"
   ]
  },
  {
   "cell_type": "markdown",
   "id": "687750f1",
   "metadata": {},
   "source": [
    "if p > alpha accept null \n",
    "\n",
    "if p < alpha reject null\n",
    "\n",
    "p value is greater than alpha , so accept null hypothesis that means the mean of sample is equal to 50"
   ]
  },
  {
   "cell_type": "markdown",
   "id": "3b1f2a2a",
   "metadata": {},
   "source": [
    "#  one sample wilcoxon signed ranked test\n",
    "this is for ordinal data or that continuous data which is not normally distributed"
   ]
  },
  {
   "cell_type": "markdown",
   "id": "111de793",
   "metadata": {},
   "source": [
    "done when we have a single ordinal column or single interval data (the differnece data  is given)\n",
    "\n",
    "we compare either the median or the mean with specified value\n",
    "\n",
    "for ms office last five characters of product insalled key WFG99"
   ]
  },
  {
   "cell_type": "code",
   "execution_count": 254,
   "id": "3fdd28c0",
   "metadata": {},
   "outputs": [
    {
     "data": {
      "text/plain": [
       "ShapiroResult(statistic=0.8801748156547546, pvalue=4.144098056713119e-06)"
      ]
     },
     "execution_count": 254,
     "metadata": {},
     "output_type": "execute_result"
    }
   ],
   "source": [
    "# not normally distributed data\n",
    "shapiro([1,3,2,1,3,2,1,2,1,3,4,4,4,2,1,2,3,5,6,5,6,5,6,2,1,3,3,3,3,3,3,3,4,3,3,3,4,3,3,3,3,4,3,3,3,3,2,1,3,2,3,2,3,1,2,3,3,2,2,2,1,2,1,3,3,1,2,1,3,2,1,2,3,2])"
   ]
  },
  {
   "cell_type": "code",
   "execution_count": 63,
   "id": "a3387dc4",
   "metadata": {},
   "outputs": [],
   "source": [
    "# 0.0000041444\n",
    "\n",
    "# pvalue is < 0.05 , so not normaly distributed"
   ]
  },
  {
   "cell_type": "code",
   "execution_count": 77,
   "id": "b397b850",
   "metadata": {},
   "outputs": [
    {
     "data": {
      "text/plain": [
       "WilcoxonResult(statistic=array([1240.]), pvalue=array([0.42144883]))"
      ]
     },
     "execution_count": 77,
     "metadata": {},
     "output_type": "execute_result"
    }
   ],
   "source": [
    "from scipy.stats import wilcoxon\n",
    "import pandas as pd\n",
    "import numpy as np\n",
    "d = pd.DataFrame({'asd':[1,3,2,1,3,2,1,2,1,3,4,4,4,2,1,2,3,5,6,5,6,5,6,2,1,3,3,3,3,3,3,3,4,3,3,3,4,3,3,3,3,4,3,3,3,3,2,1,3,2,3,2,3,1,2,3,3,2,2,2,1,2,1,3,3,1,2,1,3,2,1,2,3,2]})\n",
    "# 0 unsatisfied , 1 satisfied , 2 high satisfied\n",
    "\n",
    "# h0 : mean is equal to 2.7\n",
    "# h1 : mean is not equal to 2.7     < 2.7 > 2.7\n",
    "\n",
    "# alpha = 1 - confidence level(95%) = 1 - 0.95 = 0.05\n",
    "# revised alpha = alpha/2 = 0.025\n",
    "\n",
    "wilcoxon(d-2.7,alternative='two-sided')"
   ]
  },
  {
   "cell_type": "code",
   "execution_count": 78,
   "id": "ad6a6127",
   "metadata": {},
   "outputs": [
    {
     "data": {
      "text/plain": [
       "(6.0, 0.20067820312938567)"
      ]
     },
     "execution_count": 78,
     "metadata": {},
     "output_type": "execute_result"
    }
   ],
   "source": [
    "from statsmodels.stats.descriptivestats import sign_test\n",
    "sign_test(d,2.7)"
   ]
  },
  {
   "cell_type": "code",
   "execution_count": 3,
   "id": "fbdadcee",
   "metadata": {},
   "outputs": [],
   "source": [
    "# in both the test p value is more than 0.05 so accept null hypothesis . which is median is equal to 40"
   ]
  },
  {
   "cell_type": "markdown",
   "id": "1deea7f0",
   "metadata": {},
   "source": [
    "dekh re bhai ,koi ek single column data hai agar jo ordinal hai or continuous hai lekin woh noramlly distributed nai hai toh usku 1 sample wilcoxon test ya phir sign test , mostly wilcoxon test lagaado . agar continuous aur normally distributes hai toh 1 sample ttest "
   ]
  },
  {
   "cell_type": "markdown",
   "id": "db35b92b",
   "metadata": {},
   "source": [
    "# chi square goodness of fit"
   ]
  },
  {
   "cell_type": "markdown",
   "id": "57ac671f",
   "metadata": {},
   "source": [
    "it is used to determine  if the observed distribution frequencies are same as hypothesized distribution frequencies\n",
    "\n",
    "A shop owner claims that an equal number of customers come into his shop each weekday. To test this hypothesis, a researcher records the number of customers that come into the shop in a given week and finds the following:\n",
    "\n",
    "Monday: 50 customers - Tuesday: 60 customers - Wednesday: 40 customers - Thursday: 47 customers - Friday: 53 customers\n",
    "\n",
    "no of customers = 50\n",
    "\n",
    "no of customers != 50\n",
    "\n",
    "H0: (null hypothesis) no of customers = 50\n",
    "\n",
    "H1: (alternative hypothesis) no of customers != 50\n"
   ]
  },
  {
   "cell_type": "code",
   "execution_count": 80,
   "id": "4e653076",
   "metadata": {},
   "outputs": [
    {
     "data": {
      "text/plain": [
       "Power_divergenceResult(statistic=4.359999999999999, pvalue=0.3594720674366307)"
      ]
     },
     "execution_count": 80,
     "metadata": {},
     "output_type": "execute_result"
    }
   ],
   "source": [
    "# create the data\n",
    "expected = [50, 50, 50, 50, 50]    # expected is total sum divided by total values\n",
    "observed = [50, 60, 40, 47, 53]\n",
    "\n",
    "from scipy.stats import chisquare\n",
    "chisquare(f_obs = observed,f_exp = expected)"
   ]
  },
  {
   "cell_type": "markdown",
   "id": "0c2bc726",
   "metadata": {},
   "source": [
    "p value 0.3392 > alpha  0.025 , so accept null hypothesis"
   ]
  },
  {
   "cell_type": "markdown",
   "id": "a3843b1e",
   "metadata": {},
   "source": [
    "# one proportion z test \n",
    "is used to compare if the observed proportion is same as hypothsized proportion"
   ]
  },
  {
   "cell_type": "markdown",
   "id": "1f5c0ad7",
   "metadata": {},
   "source": [
    "Suppose we want to know whether or not the proportion of residents in a certain county who support a certain law is atleast 60%. To test this, we collect the following data on a random sample:\n",
    "\n",
    "no of people suporting the law => 60%\n",
    "\n",
    "no of people suporting the law < 60%\n",
    "\n",
    "\n",
    "h0:  no of people suporting the law => 60%\n",
    "\n",
    "h1 : no of people suporting the law < 60%\n",
    "\n",
    "x: residents who support law : 280\n",
    "\n",
    "n: sample size = 500"
   ]
  },
  {
   "cell_type": "code",
   "execution_count": 99,
   "id": "dac0355e",
   "metadata": {},
   "outputs": [
    {
     "data": {
      "text/plain": [
       "(-0.9061004703659381, 0.18244133819929553)"
      ]
     },
     "execution_count": 99,
     "metadata": {},
     "output_type": "execute_result"
    }
   ],
   "source": [
    "from statsmodels.stats.proportion import proportions_ztest\n",
    "proportions_ztest(count = 290, nobs = 500,value = 0.60 ,  alternative = 'smaller')\n",
    "\n",
    "# count :acutal occuurances \n",
    "# nobs : total population\n",
    "# value : hypothesized value"
   ]
  },
  {
   "cell_type": "code",
   "execution_count": 84,
   "id": "7dbff445",
   "metadata": {},
   "outputs": [
    {
     "data": {
      "text/plain": [
       "male      34\n",
       "female    12\n",
       "dtype: int64"
      ]
     },
     "execution_count": 84,
     "metadata": {},
     "output_type": "execute_result"
    }
   ],
   "source": [
    "# suppose we want to see if the proportion of occurance of male is 0.5 out of total 1\n",
    "# h0 : the porportion is equal to 0.5\n",
    "# the proportion of male is not equal to 0.5\n",
    "#we take pd.value_counts\n",
    "pd.Series([34,12],index = ['male','female'])"
   ]
  },
  {
   "cell_type": "code",
   "execution_count": 102,
   "id": "9d431c12",
   "metadata": {},
   "outputs": [
    {
     "data": {
      "text/plain": [
       "(3.6935290526466815, 0.00022116322931875268)"
      ]
     },
     "execution_count": 102,
     "metadata": {},
     "output_type": "execute_result"
    }
   ],
   "source": [
    "proportions_ztest(count = 34, nobs = 46,value = 0.5,alternative='two-sided')\n",
    "# pvalue is less than 0.05 , reject null or h0 . that means the proportion is not equal to 0.5 . \n",
    "# it is either greater or less than 0.5"
   ]
  },
  {
   "cell_type": "code",
   "execution_count": null,
   "id": "21a2bc52",
   "metadata": {},
   "outputs": [],
   "source": []
  },
  {
   "cell_type": "code",
   "execution_count": 569,
   "id": "f808753a",
   "metadata": {},
   "outputs": [
    {
     "data": {
      "text/plain": [
       "(3.6935290526466815, 0.9998894183853406)"
      ]
     },
     "execution_count": 569,
     "metadata": {},
     "output_type": "execute_result"
    }
   ],
   "source": [
    "# suppose we want to see if the proportion of occurance of male is 0.5 out of total 1\n",
    "# h0 : the porportion is greater than or equal to 0.5\n",
    "# the proportion of male is less than 0.5\n",
    "#we take pd.value_counts\n",
    "pd.Series([34,12],index = ['male','female'])\n",
    "proportions_ztest(count = 34, nobs = 46,value = 0.5,alternative='smaller')\n",
    "# pvalueis greater than alpha 0.05 .that means accept h0 ."
   ]
  },
  {
   "cell_type": "markdown",
   "id": "8988c5f4",
   "metadata": {},
   "source": [
    "# end of one sample tests"
   ]
  },
  {
   "cell_type": "markdown",
   "id": "536c414b",
   "metadata": {},
   "source": [
    "#  for difference"
   ]
  },
  {
   "cell_type": "markdown",
   "id": "7be4460e",
   "metadata": {},
   "source": [
    "# when the outcome is continuous and normal"
   ]
  },
  {
   "cell_type": "markdown",
   "id": "a66e78f5",
   "metadata": {},
   "source": [
    "#  two sample paired test continuous"
   ]
  },
  {
   "cell_type": "markdown",
   "id": "186e01c3",
   "metadata": {},
   "source": [
    "two samples . its like before and after effect .\n",
    "same test on same population sample two times before and after a change or medicine .\n"
   ]
  },
  {
   "cell_type": "code",
   "execution_count": 104,
   "id": "a93ab512",
   "metadata": {},
   "outputs": [
    {
     "data": {
      "text/plain": [
       "TtestResult(statistic=0.5694947974514994, pvalue=0.7085235100121123, df=9)"
      ]
     },
     "execution_count": 104,
     "metadata": {},
     "output_type": "execute_result"
    }
   ],
   "source": [
    "# marks before tution < marks after tution\n",
    "# marks before tution >= marks after tution\n",
    "\n",
    "# H0: marks before tution >= marks after tution\n",
    "# HA: marks before tution < marks after tution\n",
    "\n",
    "# on confidence interval of 95%\n",
    "# alpha = 1 - 0.95 = 0.05\n",
    "\n",
    "# revised alpha = alpha/2 = 0.025\n",
    "\n",
    "df = pd.DataFrame({'person' : ['A','B','C','D','E','F','G','H','I','J'],\n",
    "                      'pre' : [30, 31, 31, 36, 36, 30 ,34, 33, 28, 28],\n",
    "                     'post' : [30, 31, 32, 38, 32, 31, 32, 29, 28, 30]})\n",
    "\n",
    "\n",
    "from scipy.stats import ttest_rel\n",
    "ttest_rel(df.pre,df.post,alternative = 'less')\n"
   ]
  },
  {
   "cell_type": "markdown",
   "id": "b160e4b7",
   "metadata": {},
   "source": [
    "p value is less than 0.05 . so reject null that means there is change either greater or lesser . we can find that by using alternative parameter in ttest_ral(pre,post,alternative = 'smaller' or 'greater')"
   ]
  },
  {
   "cell_type": "markdown",
   "id": "9a064e93",
   "metadata": {},
   "source": [
    "# two sample t test for individual samples or unpaired ttest\n",
    "# also called independent t test"
   ]
  },
  {
   "cell_type": "markdown",
   "id": "e4a05847",
   "metadata": {},
   "source": [
    "the two samples are independent and different from each other , not like above.\n",
    "mean of two different sample is compared"
   ]
  },
  {
   "cell_type": "code",
   "execution_count": 108,
   "id": "63c0dac2",
   "metadata": {
    "scrolled": true
   },
   "outputs": [
    {
     "data": {
      "text/html": [
       "<div>\n",
       "<style scoped>\n",
       "    .dataframe tbody tr th:only-of-type {\n",
       "        vertical-align: middle;\n",
       "    }\n",
       "\n",
       "    .dataframe tbody tr th {\n",
       "        vertical-align: top;\n",
       "    }\n",
       "\n",
       "    .dataframe thead th {\n",
       "        text-align: right;\n",
       "    }\n",
       "</style>\n",
       "<table border=\"1\" class=\"dataframe\">\n",
       "  <thead>\n",
       "    <tr style=\"text-align: right;\">\n",
       "      <th></th>\n",
       "      <th>sex</th>\n",
       "      <th>experience</th>\n",
       "    </tr>\n",
       "  </thead>\n",
       "  <tbody>\n",
       "    <tr>\n",
       "      <th>0</th>\n",
       "      <td>male</td>\n",
       "      <td>2</td>\n",
       "    </tr>\n",
       "    <tr>\n",
       "      <th>1</th>\n",
       "      <td>male</td>\n",
       "      <td>6</td>\n",
       "    </tr>\n",
       "    <tr>\n",
       "      <th>2</th>\n",
       "      <td>male</td>\n",
       "      <td>1</td>\n",
       "    </tr>\n",
       "    <tr>\n",
       "      <th>3</th>\n",
       "      <td>male</td>\n",
       "      <td>4</td>\n",
       "    </tr>\n",
       "    <tr>\n",
       "      <th>4</th>\n",
       "      <td>male</td>\n",
       "      <td>7</td>\n",
       "    </tr>\n",
       "    <tr>\n",
       "      <th>5</th>\n",
       "      <td>male</td>\n",
       "      <td>9</td>\n",
       "    </tr>\n",
       "    <tr>\n",
       "      <th>6</th>\n",
       "      <td>male</td>\n",
       "      <td>5</td>\n",
       "    </tr>\n",
       "    <tr>\n",
       "      <th>7</th>\n",
       "      <td>male</td>\n",
       "      <td>4</td>\n",
       "    </tr>\n",
       "    <tr>\n",
       "      <th>8</th>\n",
       "      <td>male</td>\n",
       "      <td>1</td>\n",
       "    </tr>\n",
       "    <tr>\n",
       "      <th>9</th>\n",
       "      <td>male</td>\n",
       "      <td>3</td>\n",
       "    </tr>\n",
       "    <tr>\n",
       "      <th>10</th>\n",
       "      <td>female</td>\n",
       "      <td>1</td>\n",
       "    </tr>\n",
       "    <tr>\n",
       "      <th>11</th>\n",
       "      <td>female</td>\n",
       "      <td>5</td>\n",
       "    </tr>\n",
       "    <tr>\n",
       "      <th>12</th>\n",
       "      <td>male</td>\n",
       "      <td>4</td>\n",
       "    </tr>\n",
       "    <tr>\n",
       "      <th>13</th>\n",
       "      <td>female</td>\n",
       "      <td>7</td>\n",
       "    </tr>\n",
       "    <tr>\n",
       "      <th>14</th>\n",
       "      <td>female</td>\n",
       "      <td>9</td>\n",
       "    </tr>\n",
       "    <tr>\n",
       "      <th>15</th>\n",
       "      <td>male</td>\n",
       "      <td>5</td>\n",
       "    </tr>\n",
       "    <tr>\n",
       "      <th>16</th>\n",
       "      <td>female</td>\n",
       "      <td>4</td>\n",
       "    </tr>\n",
       "    <tr>\n",
       "      <th>17</th>\n",
       "      <td>male</td>\n",
       "      <td>1</td>\n",
       "    </tr>\n",
       "    <tr>\n",
       "      <th>18</th>\n",
       "      <td>female</td>\n",
       "      <td>6</td>\n",
       "    </tr>\n",
       "    <tr>\n",
       "      <th>19</th>\n",
       "      <td>male</td>\n",
       "      <td>7</td>\n",
       "    </tr>\n",
       "    <tr>\n",
       "      <th>20</th>\n",
       "      <td>male</td>\n",
       "      <td>5</td>\n",
       "    </tr>\n",
       "  </tbody>\n",
       "</table>\n",
       "</div>"
      ],
      "text/plain": [
       "       sex  experience\n",
       "0     male           2\n",
       "1     male           6\n",
       "2     male           1\n",
       "3     male           4\n",
       "4     male           7\n",
       "5     male           9\n",
       "6     male           5\n",
       "7     male           4\n",
       "8     male           1\n",
       "9     male           3\n",
       "10  female           1\n",
       "11  female           5\n",
       "12    male           4\n",
       "13  female           7\n",
       "14  female           9\n",
       "15    male           5\n",
       "16  female           4\n",
       "17    male           1\n",
       "18  female           6\n",
       "19    male           7\n",
       "20    male           5"
      ]
     },
     "execution_count": 108,
     "metadata": {},
     "output_type": "execute_result"
    }
   ],
   "source": [
    "import pandas as pd\n",
    "asd = pd.DataFrame({'sex':['male','male','male','male','male','male','male','male','male','male','female','female','male','female','female','male','female','male','female','male','male'],\n",
    "                   'experience':[2,6,1,4,7,9,5,4,1,3,1,5,4,7,9,5,4,1,6,7,5]})\n",
    "\n",
    "asd"
   ]
  },
  {
   "cell_type": "code",
   "execution_count": 5,
   "id": "e850704f",
   "metadata": {},
   "outputs": [],
   "source": [
    "# null : experience of male is >= female\n",
    "# alt : experience of male is < female"
   ]
  },
  {
   "cell_type": "code",
   "execution_count": 109,
   "id": "28c4828d",
   "metadata": {},
   "outputs": [
    {
     "name": "stdout",
     "output_type": "stream",
     "text": [
      "male aveage 4.266666666666667\n",
      "female aveage 5.333333333333333\n",
      "male std 2.404361117002265\n",
      "female std 2.7325202042558927\n"
     ]
    }
   ],
   "source": [
    "ml = asd[asd['sex']=='male']\n",
    "fm = asd[asd['sex']=='female']\n",
    "print(f'male aveage {ml.experience.mean()}')\n",
    "print(f'female aveage {fm.experience.mean()}')\n",
    "print(f'male std {ml.experience.std()}')\n",
    "print(f'female std {fm.experience.std()}')"
   ]
  },
  {
   "cell_type": "code",
   "execution_count": 120,
   "id": "327ef162",
   "metadata": {
    "scrolled": true
   },
   "outputs": [
    {
     "data": {
      "text/html": [
       "<div>\n",
       "<style scoped>\n",
       "    .dataframe tbody tr th:only-of-type {\n",
       "        vertical-align: middle;\n",
       "    }\n",
       "\n",
       "    .dataframe tbody tr th {\n",
       "        vertical-align: top;\n",
       "    }\n",
       "\n",
       "    .dataframe thead th {\n",
       "        text-align: right;\n",
       "    }\n",
       "</style>\n",
       "<table border=\"1\" class=\"dataframe\">\n",
       "  <thead>\n",
       "    <tr style=\"text-align: right;\">\n",
       "      <th></th>\n",
       "      <th>sex</th>\n",
       "      <th>experience</th>\n",
       "    </tr>\n",
       "  </thead>\n",
       "  <tbody>\n",
       "    <tr>\n",
       "      <th>0</th>\n",
       "      <td>male</td>\n",
       "      <td>2</td>\n",
       "    </tr>\n",
       "    <tr>\n",
       "      <th>1</th>\n",
       "      <td>male</td>\n",
       "      <td>6</td>\n",
       "    </tr>\n",
       "    <tr>\n",
       "      <th>2</th>\n",
       "      <td>male</td>\n",
       "      <td>1</td>\n",
       "    </tr>\n",
       "    <tr>\n",
       "      <th>3</th>\n",
       "      <td>male</td>\n",
       "      <td>4</td>\n",
       "    </tr>\n",
       "    <tr>\n",
       "      <th>4</th>\n",
       "      <td>male</td>\n",
       "      <td>7</td>\n",
       "    </tr>\n",
       "    <tr>\n",
       "      <th>5</th>\n",
       "      <td>male</td>\n",
       "      <td>9</td>\n",
       "    </tr>\n",
       "    <tr>\n",
       "      <th>6</th>\n",
       "      <td>male</td>\n",
       "      <td>5</td>\n",
       "    </tr>\n",
       "    <tr>\n",
       "      <th>7</th>\n",
       "      <td>male</td>\n",
       "      <td>4</td>\n",
       "    </tr>\n",
       "    <tr>\n",
       "      <th>8</th>\n",
       "      <td>male</td>\n",
       "      <td>1</td>\n",
       "    </tr>\n",
       "    <tr>\n",
       "      <th>9</th>\n",
       "      <td>male</td>\n",
       "      <td>3</td>\n",
       "    </tr>\n",
       "    <tr>\n",
       "      <th>12</th>\n",
       "      <td>male</td>\n",
       "      <td>4</td>\n",
       "    </tr>\n",
       "    <tr>\n",
       "      <th>15</th>\n",
       "      <td>male</td>\n",
       "      <td>5</td>\n",
       "    </tr>\n",
       "    <tr>\n",
       "      <th>17</th>\n",
       "      <td>male</td>\n",
       "      <td>1</td>\n",
       "    </tr>\n",
       "    <tr>\n",
       "      <th>19</th>\n",
       "      <td>male</td>\n",
       "      <td>7</td>\n",
       "    </tr>\n",
       "    <tr>\n",
       "      <th>20</th>\n",
       "      <td>male</td>\n",
       "      <td>5</td>\n",
       "    </tr>\n",
       "  </tbody>\n",
       "</table>\n",
       "</div>"
      ],
      "text/plain": [
       "     sex  experience\n",
       "0   male           2\n",
       "1   male           6\n",
       "2   male           1\n",
       "3   male           4\n",
       "4   male           7\n",
       "5   male           9\n",
       "6   male           5\n",
       "7   male           4\n",
       "8   male           1\n",
       "9   male           3\n",
       "12  male           4\n",
       "15  male           5\n",
       "17  male           1\n",
       "19  male           7\n",
       "20  male           5"
      ]
     },
     "execution_count": 120,
     "metadata": {},
     "output_type": "execute_result"
    }
   ],
   "source": [
    "ml"
   ]
  },
  {
   "cell_type": "code",
   "execution_count": 119,
   "id": "db2318ba",
   "metadata": {},
   "outputs": [
    {
     "name": "stdout",
     "output_type": "stream",
     "text": [
      "ShapiroResult(statistic=0.9466642141342163, pvalue=0.47352802753448486)\n",
      "ShapiroResult(statistic=0.9882699251174927, pvalue=0.984535813331604)\n"
     ]
    }
   ],
   "source": [
    "print(shapiro(ml.experience))\n",
    "print(shapiro(fm.experience))"
   ]
  },
  {
   "cell_type": "code",
   "execution_count": 122,
   "id": "b4ec5f7e",
   "metadata": {},
   "outputs": [
    {
     "data": {
      "text/plain": [
       "LeveneResult(statistic=0.033483863861658754, pvalue=0.8567475041628457)"
      ]
     },
     "execution_count": 122,
     "metadata": {},
     "output_type": "execute_result"
    }
   ],
   "source": [
    "#test for equal var\n",
    "from scipy.stats import levene\n",
    "levene(ml[\"experience\"],fm[\"experience\"])\n",
    "# put equal_var = True"
   ]
  },
  {
   "cell_type": "code",
   "execution_count": 125,
   "id": "374fc60d",
   "metadata": {},
   "outputs": [
    {
     "data": {
      "text/plain": [
       "Ttest_indResult(statistic=-0.8850869821758037, pvalue=0.19358699976098476)"
      ]
     },
     "execution_count": 125,
     "metadata": {},
     "output_type": "execute_result"
    }
   ],
   "source": [
    "# h0 : ave of male and female exp is same = \n",
    "# h1 : ave of male and female exp is not same < > !=\n",
    "from scipy.stats import ttest_ind\n",
    "ttest_ind(ml['experience'],fm['experience'],equal_var =True,alternative=\"less\")"
   ]
  },
  {
   "cell_type": "markdown",
   "id": "16cb4222",
   "metadata": {},
   "source": [
    "we see pvalue greater than alpha 0.05 . so accept null or h0 .\n"
   ]
  },
  {
   "cell_type": "markdown",
   "id": "b89fd3d8",
   "metadata": {},
   "source": [
    "# paired sample test for more than two variables   AnovaRm\n",
    "Repeated Measures Anova"
   ]
  },
  {
   "cell_type": "code",
   "execution_count": null,
   "id": "0dabc7c3",
   "metadata": {},
   "outputs": [],
   "source": [
    "# all drugs are having same effects on patients\n",
    "# all drugs are not having same effects on patients"
   ]
  },
  {
   "cell_type": "code",
   "execution_count": 105,
   "id": "e30d6739",
   "metadata": {},
   "outputs": [],
   "source": [
    "# when diffenrent tests are done on same sample for more than two times\n",
    "\n",
    "# The null hypothesis (H0): µ1 = µ2 = µ3 = µ4 (In other words, population means are equal)\n",
    "# The alternative hypothesis: (Ha): According to it, at least one population mean differs from the rest\n",
    "\n",
    "# Create the data\n",
    "df1 = pd.DataFrame({'patient': np.repeat([1, 2, 3, 4, 5], 4),'drug': np.tile([1, 2, 3, 4], 5),\n",
    "                   'response': [30, 28, 16, 34,14, 18, 10, 22, 24, 20, 18, 30,38, 34, 20, 44,26, 28, 14, 30]})\n",
    "#df1"
   ]
  },
  {
   "cell_type": "code",
   "execution_count": null,
   "id": "b22d3668",
   "metadata": {},
   "outputs": [],
   "source": [
    "# null : home tution = online = institute = shcool tution\n",
    "# alter : home tution != online != institute != school tution"
   ]
  },
  {
   "cell_type": "code",
   "execution_count": 45,
   "id": "d13c8cfd",
   "metadata": {
    "scrolled": true
   },
   "outputs": [
    {
     "data": {
      "text/html": [
       "<div>\n",
       "<style scoped>\n",
       "    .dataframe tbody tr th:only-of-type {\n",
       "        vertical-align: middle;\n",
       "    }\n",
       "\n",
       "    .dataframe tbody tr th {\n",
       "        vertical-align: top;\n",
       "    }\n",
       "\n",
       "    .dataframe thead th {\n",
       "        text-align: right;\n",
       "    }\n",
       "</style>\n",
       "<table border=\"1\" class=\"dataframe\">\n",
       "  <thead>\n",
       "    <tr style=\"text-align: right;\">\n",
       "      <th></th>\n",
       "      <th>patient</th>\n",
       "      <th>drug</th>\n",
       "      <th>response</th>\n",
       "    </tr>\n",
       "  </thead>\n",
       "  <tbody>\n",
       "    <tr>\n",
       "      <th>0</th>\n",
       "      <td>1</td>\n",
       "      <td>1</td>\n",
       "      <td>30</td>\n",
       "    </tr>\n",
       "    <tr>\n",
       "      <th>1</th>\n",
       "      <td>1</td>\n",
       "      <td>2</td>\n",
       "      <td>28</td>\n",
       "    </tr>\n",
       "    <tr>\n",
       "      <th>2</th>\n",
       "      <td>1</td>\n",
       "      <td>3</td>\n",
       "      <td>16</td>\n",
       "    </tr>\n",
       "    <tr>\n",
       "      <th>3</th>\n",
       "      <td>1</td>\n",
       "      <td>4</td>\n",
       "      <td>34</td>\n",
       "    </tr>\n",
       "    <tr>\n",
       "      <th>4</th>\n",
       "      <td>2</td>\n",
       "      <td>1</td>\n",
       "      <td>14</td>\n",
       "    </tr>\n",
       "    <tr>\n",
       "      <th>5</th>\n",
       "      <td>2</td>\n",
       "      <td>2</td>\n",
       "      <td>18</td>\n",
       "    </tr>\n",
       "    <tr>\n",
       "      <th>6</th>\n",
       "      <td>2</td>\n",
       "      <td>3</td>\n",
       "      <td>10</td>\n",
       "    </tr>\n",
       "    <tr>\n",
       "      <th>7</th>\n",
       "      <td>2</td>\n",
       "      <td>4</td>\n",
       "      <td>22</td>\n",
       "    </tr>\n",
       "    <tr>\n",
       "      <th>8</th>\n",
       "      <td>3</td>\n",
       "      <td>1</td>\n",
       "      <td>24</td>\n",
       "    </tr>\n",
       "    <tr>\n",
       "      <th>9</th>\n",
       "      <td>3</td>\n",
       "      <td>2</td>\n",
       "      <td>20</td>\n",
       "    </tr>\n",
       "    <tr>\n",
       "      <th>10</th>\n",
       "      <td>3</td>\n",
       "      <td>3</td>\n",
       "      <td>18</td>\n",
       "    </tr>\n",
       "    <tr>\n",
       "      <th>11</th>\n",
       "      <td>3</td>\n",
       "      <td>4</td>\n",
       "      <td>30</td>\n",
       "    </tr>\n",
       "    <tr>\n",
       "      <th>12</th>\n",
       "      <td>4</td>\n",
       "      <td>1</td>\n",
       "      <td>38</td>\n",
       "    </tr>\n",
       "    <tr>\n",
       "      <th>13</th>\n",
       "      <td>4</td>\n",
       "      <td>2</td>\n",
       "      <td>34</td>\n",
       "    </tr>\n",
       "    <tr>\n",
       "      <th>14</th>\n",
       "      <td>4</td>\n",
       "      <td>3</td>\n",
       "      <td>20</td>\n",
       "    </tr>\n",
       "    <tr>\n",
       "      <th>15</th>\n",
       "      <td>4</td>\n",
       "      <td>4</td>\n",
       "      <td>44</td>\n",
       "    </tr>\n",
       "    <tr>\n",
       "      <th>16</th>\n",
       "      <td>5</td>\n",
       "      <td>1</td>\n",
       "      <td>26</td>\n",
       "    </tr>\n",
       "    <tr>\n",
       "      <th>17</th>\n",
       "      <td>5</td>\n",
       "      <td>2</td>\n",
       "      <td>28</td>\n",
       "    </tr>\n",
       "    <tr>\n",
       "      <th>18</th>\n",
       "      <td>5</td>\n",
       "      <td>3</td>\n",
       "      <td>14</td>\n",
       "    </tr>\n",
       "    <tr>\n",
       "      <th>19</th>\n",
       "      <td>5</td>\n",
       "      <td>4</td>\n",
       "      <td>30</td>\n",
       "    </tr>\n",
       "  </tbody>\n",
       "</table>\n",
       "</div>"
      ],
      "text/plain": [
       "    patient  drug  response\n",
       "0         1     1        30\n",
       "1         1     2        28\n",
       "2         1     3        16\n",
       "3         1     4        34\n",
       "4         2     1        14\n",
       "5         2     2        18\n",
       "6         2     3        10\n",
       "7         2     4        22\n",
       "8         3     1        24\n",
       "9         3     2        20\n",
       "10        3     3        18\n",
       "11        3     4        30\n",
       "12        4     1        38\n",
       "13        4     2        34\n",
       "14        4     3        20\n",
       "15        4     4        44\n",
       "16        5     1        26\n",
       "17        5     2        28\n",
       "18        5     3        14\n",
       "19        5     4        30"
      ]
     },
     "execution_count": 45,
     "metadata": {},
     "output_type": "execute_result"
    }
   ],
   "source": [
    "df1"
   ]
  },
  {
   "cell_type": "code",
   "execution_count": 107,
   "id": "c28f9b0a",
   "metadata": {
    "scrolled": true
   },
   "outputs": [
    {
     "name": "stdout",
     "output_type": "stream",
     "text": [
      "              Anova\n",
      "==================================\n",
      "     F Value Num DF  Den DF Pr > F\n",
      "----------------------------------\n",
      "drug 24.7589 3.0000 12.0000 0.0000\n",
      "==================================\n",
      "\n"
     ]
    }
   ],
   "source": [
    "from statsmodels.stats.anova import AnovaRM\n",
    "print(AnovaRM(data = df1 , depvar = 'response',subject='patient',within=['drug']).fit())"
   ]
  },
  {
   "cell_type": "code",
   "execution_count": 114,
   "id": "6340b4d8",
   "metadata": {},
   "outputs": [],
   "source": [
    "# Since this p-value is less than 0.05, we reject the null hypothesis and conclude that\n",
    "# there is a statistically significant difference in mean response times between the four drugs."
   ]
  },
  {
   "cell_type": "markdown",
   "id": "c7d2cc27",
   "metadata": {},
   "source": [
    "paired sample t test me dekh re bhai sirf ek baar koi medicien dete ya phir har person se sirf ek baar expriment karte .its only before and after . but in \n",
    "AnovaRm me har person pe ek se zyaada test karte."
   ]
  },
  {
   "cell_type": "markdown",
   "id": "78a3707f",
   "metadata": {},
   "source": [
    "# one way Anova\n",
    "used to compare means of three or more indpendent groups , extension of two idependent sample t test"
   ]
  },
  {
   "cell_type": "code",
   "execution_count": 119,
   "id": "be98c8b6",
   "metadata": {},
   "outputs": [],
   "source": [
    "# H0 (null hypothesis): μ1 = μ2 = μ3 = … = u4 (It implies that the means of all the population are equal)\n",
    "# H1 (null hypothesis): It states that there will be at least one population mean that differs from the rest"
   ]
  },
  {
   "cell_type": "markdown",
   "id": "e34cf1e3",
   "metadata": {},
   "source": [
    "consider the example of 2 indpendent sample test . there we calculated experiences of male and female .\n",
    "here there is just an addition of one more category . lets say check if there is any diffenrece in mean between experienece of old male , old female and young male . theree categories are enough to just go with this test  .you can also add young female ."
   ]
  },
  {
   "cell_type": "code",
   "execution_count": 3,
   "id": "3fe9d929",
   "metadata": {},
   "outputs": [
    {
     "data": {
      "text/plain": [
       "array(['admale', 'male', 'female', 'adfemale'], dtype=object)"
      ]
     },
     "execution_count": 3,
     "metadata": {},
     "output_type": "execute_result"
    }
   ],
   "source": [
    "asd = pd.DataFrame({'sex':['admale','male','admale','female','admale','female','adfemale','adfemale',\n",
    "                           'admale','female','female','male','female','adfemale','admale','adfemale','male','adfemale','male','male'],\n",
    "                   'experience':[2,6,4,7.1,9,5,4,1.6,3,1,5.2,4,7,9,5,4.3,1,6,7,5]})\n",
    "asd.sex.unique()"
   ]
  },
  {
   "cell_type": "code",
   "execution_count": 271,
   "id": "bf91ba04",
   "metadata": {},
   "outputs": [
    {
     "data": {
      "text/plain": [
       "ShapiroResult(statistic=0.9583484530448914, pvalue=0.5114069581031799)"
      ]
     },
     "execution_count": 271,
     "metadata": {},
     "output_type": "execute_result"
    }
   ],
   "source": [
    "shapiro(asd['experience'])"
   ]
  },
  {
   "cell_type": "code",
   "execution_count": 10,
   "id": "b9ee6ecb",
   "metadata": {},
   "outputs": [
    {
     "name": "stdout",
     "output_type": "stream",
     "text": [
      "4.6\n",
      "5.0600000000000005\n",
      "4.6\n",
      "4.9799999999999995\n"
     ]
    }
   ],
   "source": [
    "adma = asd[asd['sex']=='admale']['experience']\n",
    "ma = asd[asd['sex']=='male']['experience']\n",
    "adfe = asd[asd['sex']=='adfemale']['experience']\n",
    "fe = asd[asd['sex']=='female']['experience']\n",
    "print(adma.mean())\n",
    "print(fe.mean())\n",
    "print(ma.mean())\n",
    "print(adfe.mean())"
   ]
  },
  {
   "cell_type": "code",
   "execution_count": 22,
   "id": "0b247c98",
   "metadata": {},
   "outputs": [
    {
     "data": {
      "text/plain": [
       "1     6.0\n",
       "11    4.0\n",
       "16    1.0\n",
       "18    7.0\n",
       "19    5.0\n",
       "Name: experience, dtype: float64"
      ]
     },
     "execution_count": 22,
     "metadata": {},
     "output_type": "execute_result"
    }
   ],
   "source": [
    "ma"
   ]
  },
  {
   "cell_type": "code",
   "execution_count": 16,
   "id": "4cffde04",
   "metadata": {},
   "outputs": [
    {
     "name": "stdout",
     "output_type": "stream",
     "text": [
      "ShapiroResult(statistic=0.9030900001525879, pvalue=0.42719900608062744)\n",
      "ShapiroResult(statistic=0.9427295327186584, pvalue=0.685295045375824)\n",
      "ShapiroResult(statistic=0.9708250164985657, pvalue=0.8805220723152161)\n",
      "ShapiroResult(statistic=0.8425240516662598, pvalue=0.1720205396413803)\n"
     ]
    }
   ],
   "source": [
    "print(shapiro(adma))\n",
    "print(shapiro(ma))\n",
    "print(shapiro(adfe))\n",
    "print(shapiro(fe))"
   ]
  },
  {
   "cell_type": "code",
   "execution_count": 19,
   "id": "241b037e",
   "metadata": {},
   "outputs": [
    {
     "data": {
      "text/plain": [
       "F_onewayResult(statistic=0.04566488685481818, pvalue=0.9865603288763032)"
      ]
     },
     "execution_count": 19,
     "metadata": {},
     "output_type": "execute_result"
    }
   ],
   "source": [
    "# h0 : no diff between means of all gorups  expreiecne\n",
    "# h1 : ther exists diff between means of all gorups  expreiecne or atlest one out of four group differs\n",
    "from scipy.stats import f_oneway\n",
    "f_oneway(adma,ma,adfe,fe)\n",
    "\n",
    "# alpha = 0.05"
   ]
  },
  {
   "cell_type": "markdown",
   "id": "91215547",
   "metadata": {},
   "source": [
    "pvalue greater than alpha , accepet null. there is no difference between the means of experience of all groups ."
   ]
  },
  {
   "cell_type": "markdown",
   "id": "38e6a845",
   "metadata": {},
   "source": [
    "# for difference"
   ]
  },
  {
   "cell_type": "markdown",
   "id": "adcd7909",
   "metadata": {},
   "source": [
    "#  when outcome is ordinal or continuius but not normal"
   ]
  },
  {
   "cell_type": "markdown",
   "id": "5ae9f7e5",
   "metadata": {},
   "source": [
    "# wilcoxon paired rank test for ordinal data or not normally disrtibuted data"
   ]
  },
  {
   "cell_type": "code",
   "execution_count": 24,
   "id": "6aa58b4c",
   "metadata": {
    "scrolled": true
   },
   "outputs": [
    {
     "name": "stdout",
     "output_type": "stream",
     "text": [
      "ShapiroResult(statistic=0.6909651756286621, pvalue=0.0006847514887340367)\n",
      "ShapiroResult(statistic=0.7601420283317566, pvalue=0.004742891993373632)\n"
     ]
    }
   ],
   "source": [
    "group1 = [456, 564, 54, 554, 54, 51, 1, 12, 45, 5]\n",
    "group2 = [65, 87, 456, 564, 456, 564, 564, 6, 4, 564]\n",
    "print(shapiro(group1))\n",
    "print(shapiro(group2))"
   ]
  },
  {
   "cell_type": "code",
   "execution_count": 26,
   "id": "43fef892",
   "metadata": {},
   "outputs": [
    {
     "data": {
      "text/plain": [
       "WilcoxonResult(statistic=15.0, pvalue=0.232421875)"
      ]
     },
     "execution_count": 26,
     "metadata": {},
     "output_type": "execute_result"
    }
   ],
   "source": [
    "# Ho(Accepted): Sample distributions are equal.\n",
    "# Ha(Rejected): Sample distributions are not equal.\n",
    "\n",
    "from scipy.stats import wilcoxon\n",
    "wilcoxon(group1,group2,alternative = 'two-sided')\n",
    "#accept null as p > alpha 0.025"
   ]
  },
  {
   "cell_type": "code",
   "execution_count": null,
   "id": "ccfbfff2",
   "metadata": {},
   "outputs": [],
   "source": []
  },
  {
   "cell_type": "code",
   "execution_count": 27,
   "id": "357d3e8e",
   "metadata": {},
   "outputs": [
    {
     "name": "stdout",
     "output_type": "stream",
     "text": [
      "ShapiroResult(statistic=0.6909651756286621, pvalue=0.0006847514887340367)\n",
      "ShapiroResult(statistic=0.7601420283317566, pvalue=0.004742891993373632)\n"
     ]
    }
   ],
   "source": [
    "group1 = [456, 564, 54, 554, 54, 51, 1, 12, 45, 5]  \n",
    "group2 = [65, 87, 456, 564, 456, 564, 564, 6, 4, 564]\n",
    "print(shapiro(group1))\n",
    "print(shapiro(group2))"
   ]
  },
  {
   "cell_type": "code",
   "execution_count": 28,
   "id": "4734587e",
   "metadata": {},
   "outputs": [
    {
     "data": {
      "text/plain": [
       "WilcoxonResult(statistic=15.0, pvalue=0.1162109375)"
      ]
     },
     "execution_count": 28,
     "metadata": {},
     "output_type": "execute_result"
    }
   ],
   "source": [
    "# Ho : group 1 mean >= group 2 mean.\n",
    "# Ha : group 1 mean < group 2 mean. \n",
    "\n",
    "from scipy.stats import wilcoxon\n",
    "\n",
    "wilcoxon(group1 , group2 , alternative = 'less')\n",
    "#accept null as p > alpha\n",
    "# alpha = 0.05"
   ]
  },
  {
   "cell_type": "code",
   "execution_count": null,
   "id": "202272f6",
   "metadata": {},
   "outputs": [],
   "source": []
  },
  {
   "cell_type": "markdown",
   "id": "f0a80f1f",
   "metadata": {},
   "source": [
    "# friedman\n",
    "for more than 2 paired samples but is either ordinal or not normally distributed"
   ]
  },
  {
   "cell_type": "code",
   "execution_count": 78,
   "id": "6ab66823",
   "metadata": {},
   "outputs": [
    {
     "data": {
      "text/html": [
       "<div>\n",
       "<style scoped>\n",
       "    .dataframe tbody tr th:only-of-type {\n",
       "        vertical-align: middle;\n",
       "    }\n",
       "\n",
       "    .dataframe tbody tr th {\n",
       "        vertical-align: top;\n",
       "    }\n",
       "\n",
       "    .dataframe thead th {\n",
       "        text-align: right;\n",
       "    }\n",
       "</style>\n",
       "<table border=\"1\" class=\"dataframe\">\n",
       "  <thead>\n",
       "    <tr style=\"text-align: right;\">\n",
       "      <th></th>\n",
       "      <th>RespNr</th>\n",
       "      <th>Location</th>\n",
       "      <th>OAA_ObjCourse</th>\n",
       "      <th>OAA_ObjClass</th>\n",
       "      <th>OAA_CourseExec</th>\n",
       "      <th>OAA_RelActObj</th>\n",
       "      <th>OAA_RelActExa</th>\n",
       "      <th>OAA_RelObjExa</th>\n",
       "      <th>OAA_LearProcAct</th>\n",
       "      <th>OAA_LearProcPrep</th>\n",
       "      <th>...</th>\n",
       "      <th>Mix_IntDiscus</th>\n",
       "      <th>Mix_IntPrep</th>\n",
       "      <th>Mix_IntExcel</th>\n",
       "      <th>Over_Grade</th>\n",
       "      <th>Gen_Gender</th>\n",
       "      <th>Gen_Age</th>\n",
       "      <th>Gen_SecSchool</th>\n",
       "      <th>Gen_Classes</th>\n",
       "      <th>Gen_NumberSubj</th>\n",
       "      <th>Gen_Time</th>\n",
       "    </tr>\n",
       "  </thead>\n",
       "  <tbody>\n",
       "    <tr>\n",
       "      <th>0</th>\n",
       "      <td>1.0</td>\n",
       "      <td>Rotterdam</td>\n",
       "      <td>Fully Disagree</td>\n",
       "      <td>Fully Disagree</td>\n",
       "      <td>Fully Disagree</td>\n",
       "      <td>Disagree</td>\n",
       "      <td>Fully Disagree</td>\n",
       "      <td>Fully Disagree</td>\n",
       "      <td>Fully Disagree</td>\n",
       "      <td>Fully Disagree</td>\n",
       "      <td>...</td>\n",
       "      <td>Not at all</td>\n",
       "      <td>not so much</td>\n",
       "      <td>not so much</td>\n",
       "      <td>20.0</td>\n",
       "      <td>Female</td>\n",
       "      <td>22.0</td>\n",
       "      <td>NaN</td>\n",
       "      <td>NaN</td>\n",
       "      <td>Fully agree</td>\n",
       "      <td>20 &lt; 30</td>\n",
       "    </tr>\n",
       "    <tr>\n",
       "      <th>1</th>\n",
       "      <td>2.0</td>\n",
       "      <td>Haarlem</td>\n",
       "      <td>Disagree</td>\n",
       "      <td>Disagree</td>\n",
       "      <td>NaN</td>\n",
       "      <td>Fully Disagree</td>\n",
       "      <td>Neither disagree nor agree</td>\n",
       "      <td>Agree</td>\n",
       "      <td>Disagree</td>\n",
       "      <td>Neither disagree nor agree</td>\n",
       "      <td>...</td>\n",
       "      <td>not so much</td>\n",
       "      <td>somewhat</td>\n",
       "      <td>somewhat</td>\n",
       "      <td>50.0</td>\n",
       "      <td>Male</td>\n",
       "      <td>NaN</td>\n",
       "      <td>The Netherlands</td>\n",
       "      <td>6.0</td>\n",
       "      <td>Disagree</td>\n",
       "      <td>10 &lt; 20</td>\n",
       "    </tr>\n",
       "    <tr>\n",
       "      <th>2</th>\n",
       "      <td>3.0</td>\n",
       "      <td>Diemen</td>\n",
       "      <td>Fully agree</td>\n",
       "      <td>Fully agree</td>\n",
       "      <td>Agree</td>\n",
       "      <td>Fully agree</td>\n",
       "      <td>Fully agree</td>\n",
       "      <td>Fully agree</td>\n",
       "      <td>Fully agree</td>\n",
       "      <td>Agree</td>\n",
       "      <td>...</td>\n",
       "      <td>Very much</td>\n",
       "      <td>somewhat</td>\n",
       "      <td>somewhat</td>\n",
       "      <td>80.0</td>\n",
       "      <td>Male</td>\n",
       "      <td>37.0</td>\n",
       "      <td>Africa</td>\n",
       "      <td>7.0</td>\n",
       "      <td>Agree</td>\n",
       "      <td>10 &lt; 20</td>\n",
       "    </tr>\n",
       "    <tr>\n",
       "      <th>3</th>\n",
       "      <td>4.0</td>\n",
       "      <td>Rotterdam</td>\n",
       "      <td>Fully Disagree</td>\n",
       "      <td>Neither disagree nor agree</td>\n",
       "      <td>Disagree</td>\n",
       "      <td>Neither disagree nor agree</td>\n",
       "      <td>Neither disagree nor agree</td>\n",
       "      <td>Fully Disagree</td>\n",
       "      <td>Fully Disagree</td>\n",
       "      <td>Neither disagree nor agree</td>\n",
       "      <td>...</td>\n",
       "      <td>NaN</td>\n",
       "      <td>neutral</td>\n",
       "      <td>neutral</td>\n",
       "      <td>15.0</td>\n",
       "      <td>Female</td>\n",
       "      <td>24.0</td>\n",
       "      <td>The Netherlands</td>\n",
       "      <td>6.0</td>\n",
       "      <td>Agree</td>\n",
       "      <td>10 &lt; 20</td>\n",
       "    </tr>\n",
       "    <tr>\n",
       "      <th>4</th>\n",
       "      <td>5.0</td>\n",
       "      <td>Haarlem</td>\n",
       "      <td>Disagree</td>\n",
       "      <td>Agree</td>\n",
       "      <td>Fully Disagree</td>\n",
       "      <td>Neither disagree nor agree</td>\n",
       "      <td>Fully agree</td>\n",
       "      <td>Fully agree</td>\n",
       "      <td>Neither disagree nor agree</td>\n",
       "      <td>Fully agree</td>\n",
       "      <td>...</td>\n",
       "      <td>Not at all</td>\n",
       "      <td>somewhat</td>\n",
       "      <td>Very much</td>\n",
       "      <td>40.0</td>\n",
       "      <td>Male</td>\n",
       "      <td>19.0</td>\n",
       "      <td>The Netherlands</td>\n",
       "      <td>7.0</td>\n",
       "      <td>Fully agree</td>\n",
       "      <td>10 &lt; 20</td>\n",
       "    </tr>\n",
       "  </tbody>\n",
       "</table>\n",
       "<p>5 rows × 50 columns</p>\n",
       "</div>"
      ],
      "text/plain": [
       "   RespNr   Location   OAA_ObjCourse                OAA_ObjClass  \\\n",
       "0     1.0  Rotterdam  Fully Disagree              Fully Disagree   \n",
       "1     2.0    Haarlem        Disagree                    Disagree   \n",
       "2     3.0     Diemen     Fully agree                 Fully agree   \n",
       "3     4.0  Rotterdam  Fully Disagree  Neither disagree nor agree   \n",
       "4     5.0    Haarlem        Disagree                       Agree   \n",
       "\n",
       "   OAA_CourseExec               OAA_RelActObj               OAA_RelActExa  \\\n",
       "0  Fully Disagree                    Disagree              Fully Disagree   \n",
       "1             NaN              Fully Disagree  Neither disagree nor agree   \n",
       "2           Agree                 Fully agree                 Fully agree   \n",
       "3        Disagree  Neither disagree nor agree  Neither disagree nor agree   \n",
       "4  Fully Disagree  Neither disagree nor agree                 Fully agree   \n",
       "\n",
       "    OAA_RelObjExa             OAA_LearProcAct            OAA_LearProcPrep  \\\n",
       "0  Fully Disagree              Fully Disagree              Fully Disagree   \n",
       "1           Agree                    Disagree  Neither disagree nor agree   \n",
       "2     Fully agree                 Fully agree                       Agree   \n",
       "3  Fully Disagree              Fully Disagree  Neither disagree nor agree   \n",
       "4     Fully agree  Neither disagree nor agree                 Fully agree   \n",
       "\n",
       "   ... Mix_IntDiscus  Mix_IntPrep Mix_IntExcel Over_Grade Gen_Gender Gen_Age  \\\n",
       "0  ...    Not at all  not so much  not so much       20.0     Female    22.0   \n",
       "1  ...   not so much     somewhat     somewhat       50.0       Male     NaN   \n",
       "2  ...     Very much     somewhat     somewhat       80.0       Male    37.0   \n",
       "3  ...           NaN      neutral      neutral       15.0     Female    24.0   \n",
       "4  ...    Not at all     somewhat    Very much       40.0       Male    19.0   \n",
       "\n",
       "     Gen_SecSchool Gen_Classes Gen_NumberSubj Gen_Time  \n",
       "0              NaN         NaN    Fully agree  20 < 30  \n",
       "1  The Netherlands         6.0       Disagree  10 < 20  \n",
       "2           Africa         7.0          Agree  10 < 20  \n",
       "3  The Netherlands         6.0          Agree  10 < 20  \n",
       "4  The Netherlands         7.0    Fully agree  10 < 20  \n",
       "\n",
       "[5 rows x 50 columns]"
      ]
     },
     "execution_count": 78,
     "metadata": {},
     "output_type": "execute_result"
    }
   ],
   "source": [
    "import pandas as pd\n",
    "df = pd.read_csv(sep=';',filepath_or_buffer = 'F:/simplilearn/Python/Data Science with Python _ Nikhil Garg _ Dec 6th 2021- Jan 7th 2022/StudentStatistics.csv')\n",
    "df.head()"
   ]
  },
  {
   "cell_type": "code",
   "execution_count": 79,
   "id": "5793e641",
   "metadata": {},
   "outputs": [
    {
     "data": {
      "text/plain": [
       "Index(['RespNr', 'Location', 'OAA_ObjCourse', 'OAA_ObjClass', 'OAA_CourseExec',\n",
       "       'OAA_RelActObj', 'OAA_RelActExa', 'OAA_RelObjExa', 'OAA_LearProcAct',\n",
       "       'OAA_LearProcPrep', 'OAA_LearProcDisc', 'OAA_LearProcLect',\n",
       "       'OAA_LearProcExe', 'OAA_SetupMotiv', 'OAA_UsefulnessStat', 'Mat_Burns',\n",
       "       'Mat_Baarda', 'Mat_Laerd', 'Mat_PowerPoint', 'Mat_AddMaterial',\n",
       "       'Mat_Excel', 'Mat_Announcements', 'BB_Own', 'BB_Motivating',\n",
       "       'BB_UserFr', 'BB_SuffICT', 'Teach_Motivate', 'Teach_LinkTheory',\n",
       "       'Teach_StimAsk', 'Teach_Avail', 'Teach_StimDisc', 'Teach_Partic',\n",
       "       'Teach_Comp', 'Mix_Adeq1', 'Mix_Adeq1_Open', 'Mix_NrClass', 'Mix_NrAct',\n",
       "       'Mix_Adeq2', 'Mix_Adeq2_Open', 'Mix_IntClass', 'Mix_IntDiscus',\n",
       "       'Mix_IntPrep', 'Mix_IntExcel', 'Over_Grade', 'Gen_Gender', 'Gen_Age',\n",
       "       'Gen_SecSchool', 'Gen_Classes', 'Gen_NumberSubj', 'Gen_Time'],\n",
       "      dtype='object')"
      ]
     },
     "execution_count": 79,
     "metadata": {},
     "output_type": "execute_result"
    }
   ],
   "source": [
    "df.columns"
   ]
  },
  {
   "cell_type": "code",
   "execution_count": 80,
   "id": "b63567cc",
   "metadata": {},
   "outputs": [
    {
     "data": {
      "text/plain": [
       "array([False, False, False, False, False, False, False, False, False,\n",
       "       False, False, False, False, False, False, False, False, False,\n",
       "       False, False, False, False, False, False, False, False,  True,\n",
       "        True,  True,  True,  True,  True,  True, False, False, False,\n",
       "       False, False, False, False, False, False, False, False, False,\n",
       "       False, False, False, False, False])"
      ]
     },
     "execution_count": 80,
     "metadata": {},
     "output_type": "execute_result"
    }
   ],
   "source": [
    " df.columns.str.contains(\"Teach\")"
   ]
  },
  {
   "cell_type": "code",
   "execution_count": 81,
   "id": "c560afeb",
   "metadata": {},
   "outputs": [
    {
     "data": {
      "text/plain": [
       "Index(['Teach_Motivate', 'Teach_LinkTheory', 'Teach_StimAsk', 'Teach_Avail',\n",
       "       'Teach_StimDisc', 'Teach_Partic', 'Teach_Comp'],\n",
       "      dtype='object')"
      ]
     },
     "execution_count": 81,
     "metadata": {},
     "output_type": "execute_result"
    }
   ],
   "source": [
    "t = df.columns[df.columns.str.contains(\"Teach\")]\n",
    "t"
   ]
  },
  {
   "cell_type": "code",
   "execution_count": 82,
   "id": "832d03ac",
   "metadata": {},
   "outputs": [
    {
     "data": {
      "text/html": [
       "<div>\n",
       "<style scoped>\n",
       "    .dataframe tbody tr th:only-of-type {\n",
       "        vertical-align: middle;\n",
       "    }\n",
       "\n",
       "    .dataframe tbody tr th {\n",
       "        vertical-align: top;\n",
       "    }\n",
       "\n",
       "    .dataframe thead th {\n",
       "        text-align: right;\n",
       "    }\n",
       "</style>\n",
       "<table border=\"1\" class=\"dataframe\">\n",
       "  <thead>\n",
       "    <tr style=\"text-align: right;\">\n",
       "      <th></th>\n",
       "      <th>Teach_Motivate</th>\n",
       "      <th>Teach_LinkTheory</th>\n",
       "      <th>Teach_StimAsk</th>\n",
       "      <th>Teach_Avail</th>\n",
       "      <th>Teach_StimDisc</th>\n",
       "      <th>Teach_Partic</th>\n",
       "      <th>Teach_Comp</th>\n",
       "    </tr>\n",
       "  </thead>\n",
       "  <tbody>\n",
       "    <tr>\n",
       "      <th>0</th>\n",
       "      <td>Fully Disagree</td>\n",
       "      <td>Fully Disagree</td>\n",
       "      <td>Fully Disagree</td>\n",
       "      <td>Fully Disagree</td>\n",
       "      <td>Fully Disagree</td>\n",
       "      <td>Fully Disagree</td>\n",
       "      <td>Fully Disagree</td>\n",
       "    </tr>\n",
       "    <tr>\n",
       "      <th>1</th>\n",
       "      <td>Disagree</td>\n",
       "      <td>Disagree</td>\n",
       "      <td>Neither disagree nor agree</td>\n",
       "      <td>Neither disagree nor agree</td>\n",
       "      <td>Neither disagree nor agree</td>\n",
       "      <td>Disagree</td>\n",
       "      <td>Disagree</td>\n",
       "    </tr>\n",
       "    <tr>\n",
       "      <th>2</th>\n",
       "      <td>Fully agree</td>\n",
       "      <td>Fully agree</td>\n",
       "      <td>Fully agree</td>\n",
       "      <td>Fully agree</td>\n",
       "      <td>Fully agree</td>\n",
       "      <td>Fully agree</td>\n",
       "      <td>Fully agree</td>\n",
       "    </tr>\n",
       "    <tr>\n",
       "      <th>3</th>\n",
       "      <td>Fully Disagree</td>\n",
       "      <td>Neither disagree nor agree</td>\n",
       "      <td>Fully Disagree</td>\n",
       "      <td>Neither disagree nor agree</td>\n",
       "      <td>Fully Disagree</td>\n",
       "      <td>Fully Disagree</td>\n",
       "      <td>Fully Disagree</td>\n",
       "    </tr>\n",
       "    <tr>\n",
       "      <th>4</th>\n",
       "      <td>Fully Disagree</td>\n",
       "      <td>Fully Disagree</td>\n",
       "      <td>Fully Disagree</td>\n",
       "      <td>Fully Disagree</td>\n",
       "      <td>Fully agree</td>\n",
       "      <td>Fully agree</td>\n",
       "      <td>Disagree</td>\n",
       "    </tr>\n",
       "  </tbody>\n",
       "</table>\n",
       "</div>"
      ],
      "text/plain": [
       "   Teach_Motivate            Teach_LinkTheory               Teach_StimAsk  \\\n",
       "0  Fully Disagree              Fully Disagree              Fully Disagree   \n",
       "1        Disagree                    Disagree  Neither disagree nor agree   \n",
       "2     Fully agree                 Fully agree                 Fully agree   \n",
       "3  Fully Disagree  Neither disagree nor agree              Fully Disagree   \n",
       "4  Fully Disagree              Fully Disagree              Fully Disagree   \n",
       "\n",
       "                  Teach_Avail              Teach_StimDisc    Teach_Partic  \\\n",
       "0              Fully Disagree              Fully Disagree  Fully Disagree   \n",
       "1  Neither disagree nor agree  Neither disagree nor agree        Disagree   \n",
       "2                 Fully agree                 Fully agree     Fully agree   \n",
       "3  Neither disagree nor agree              Fully Disagree  Fully Disagree   \n",
       "4              Fully Disagree                 Fully agree     Fully agree   \n",
       "\n",
       "       Teach_Comp  \n",
       "0  Fully Disagree  \n",
       "1        Disagree  \n",
       "2     Fully agree  \n",
       "3  Fully Disagree  \n",
       "4        Disagree  "
      ]
     },
     "execution_count": 82,
     "metadata": {},
     "output_type": "execute_result"
    }
   ],
   "source": [
    "df[t].head()"
   ]
  },
  {
   "cell_type": "code",
   "execution_count": 83,
   "id": "230b3b63",
   "metadata": {},
   "outputs": [
    {
     "data": {
      "text/html": [
       "<div>\n",
       "<style scoped>\n",
       "    .dataframe tbody tr th:only-of-type {\n",
       "        vertical-align: middle;\n",
       "    }\n",
       "\n",
       "    .dataframe tbody tr th {\n",
       "        vertical-align: top;\n",
       "    }\n",
       "\n",
       "    .dataframe thead th {\n",
       "        text-align: right;\n",
       "    }\n",
       "</style>\n",
       "<table border=\"1\" class=\"dataframe\">\n",
       "  <thead>\n",
       "    <tr style=\"text-align: right;\">\n",
       "      <th></th>\n",
       "      <th>Teach_Motivate</th>\n",
       "      <th>Teach_LinkTheory</th>\n",
       "      <th>Teach_StimAsk</th>\n",
       "      <th>Teach_Avail</th>\n",
       "      <th>Teach_StimDisc</th>\n",
       "      <th>Teach_Partic</th>\n",
       "      <th>Teach_Comp</th>\n",
       "    </tr>\n",
       "  </thead>\n",
       "  <tbody>\n",
       "    <tr>\n",
       "      <th>0</th>\n",
       "      <td>Fully Disagree</td>\n",
       "      <td>Fully Disagree</td>\n",
       "      <td>Fully Disagree</td>\n",
       "      <td>Fully Disagree</td>\n",
       "      <td>Fully Disagree</td>\n",
       "      <td>Fully Disagree</td>\n",
       "      <td>Fully Disagree</td>\n",
       "    </tr>\n",
       "    <tr>\n",
       "      <th>1</th>\n",
       "      <td>Disagree</td>\n",
       "      <td>Disagree</td>\n",
       "      <td>Neither disagree nor agree</td>\n",
       "      <td>Neither disagree nor agree</td>\n",
       "      <td>Neither disagree nor agree</td>\n",
       "      <td>Disagree</td>\n",
       "      <td>Disagree</td>\n",
       "    </tr>\n",
       "    <tr>\n",
       "      <th>2</th>\n",
       "      <td>Fully agree</td>\n",
       "      <td>Fully agree</td>\n",
       "      <td>Fully agree</td>\n",
       "      <td>Fully agree</td>\n",
       "      <td>Fully agree</td>\n",
       "      <td>Fully agree</td>\n",
       "      <td>Fully agree</td>\n",
       "    </tr>\n",
       "    <tr>\n",
       "      <th>3</th>\n",
       "      <td>Fully Disagree</td>\n",
       "      <td>Neither disagree nor agree</td>\n",
       "      <td>Fully Disagree</td>\n",
       "      <td>Neither disagree nor agree</td>\n",
       "      <td>Fully Disagree</td>\n",
       "      <td>Fully Disagree</td>\n",
       "      <td>Fully Disagree</td>\n",
       "    </tr>\n",
       "    <tr>\n",
       "      <th>4</th>\n",
       "      <td>Fully Disagree</td>\n",
       "      <td>Fully Disagree</td>\n",
       "      <td>Fully Disagree</td>\n",
       "      <td>Fully Disagree</td>\n",
       "      <td>Fully agree</td>\n",
       "      <td>Fully agree</td>\n",
       "      <td>Disagree</td>\n",
       "    </tr>\n",
       "  </tbody>\n",
       "</table>\n",
       "</div>"
      ],
      "text/plain": [
       "   Teach_Motivate            Teach_LinkTheory               Teach_StimAsk  \\\n",
       "0  Fully Disagree              Fully Disagree              Fully Disagree   \n",
       "1        Disagree                    Disagree  Neither disagree nor agree   \n",
       "2     Fully agree                 Fully agree                 Fully agree   \n",
       "3  Fully Disagree  Neither disagree nor agree              Fully Disagree   \n",
       "4  Fully Disagree              Fully Disagree              Fully Disagree   \n",
       "\n",
       "                  Teach_Avail              Teach_StimDisc    Teach_Partic  \\\n",
       "0              Fully Disagree              Fully Disagree  Fully Disagree   \n",
       "1  Neither disagree nor agree  Neither disagree nor agree        Disagree   \n",
       "2                 Fully agree                 Fully agree     Fully agree   \n",
       "3  Neither disagree nor agree              Fully Disagree  Fully Disagree   \n",
       "4              Fully Disagree                 Fully agree     Fully agree   \n",
       "\n",
       "       Teach_Comp  \n",
       "0  Fully Disagree  \n",
       "1        Disagree  \n",
       "2     Fully agree  \n",
       "3  Fully Disagree  \n",
       "4        Disagree  "
      ]
     },
     "execution_count": 83,
     "metadata": {},
     "output_type": "execute_result"
    }
   ],
   "source": [
    "teach = df.columns[df.columns.str.contains('Teach')]\n",
    "asd = df[teach].dropna()\n",
    "asd.head()\n",
    "# h0 : all variablse have same ranking after different teaching style  = \n",
    "# h1 : all variables do not have same ranking after different teaching  style  !="
   ]
  },
  {
   "cell_type": "code",
   "execution_count": 84,
   "id": "8d2222db",
   "metadata": {},
   "outputs": [
    {
     "data": {
      "text/html": [
       "<div>\n",
       "<style scoped>\n",
       "    .dataframe tbody tr th:only-of-type {\n",
       "        vertical-align: middle;\n",
       "    }\n",
       "\n",
       "    .dataframe tbody tr th {\n",
       "        vertical-align: top;\n",
       "    }\n",
       "\n",
       "    .dataframe thead th {\n",
       "        text-align: right;\n",
       "    }\n",
       "</style>\n",
       "<table border=\"1\" class=\"dataframe\">\n",
       "  <thead>\n",
       "    <tr style=\"text-align: right;\">\n",
       "      <th></th>\n",
       "      <th>Teach_Motivate</th>\n",
       "      <th>Teach_LinkTheory</th>\n",
       "      <th>Teach_StimAsk</th>\n",
       "      <th>Teach_Avail</th>\n",
       "      <th>Teach_StimDisc</th>\n",
       "      <th>Teach_Partic</th>\n",
       "      <th>Teach_Comp</th>\n",
       "    </tr>\n",
       "  </thead>\n",
       "  <tbody>\n",
       "    <tr>\n",
       "      <th>0</th>\n",
       "      <td>Fully Disagree</td>\n",
       "      <td>Fully Disagree</td>\n",
       "      <td>Fully Disagree</td>\n",
       "      <td>Fully Disagree</td>\n",
       "      <td>Fully Disagree</td>\n",
       "      <td>Fully Disagree</td>\n",
       "      <td>Fully Disagree</td>\n",
       "    </tr>\n",
       "    <tr>\n",
       "      <th>1</th>\n",
       "      <td>Disagree</td>\n",
       "      <td>Disagree</td>\n",
       "      <td>Neither disagree nor agree</td>\n",
       "      <td>Neither disagree nor agree</td>\n",
       "      <td>Neither disagree nor agree</td>\n",
       "      <td>Disagree</td>\n",
       "      <td>Disagree</td>\n",
       "    </tr>\n",
       "    <tr>\n",
       "      <th>2</th>\n",
       "      <td>Fully agree</td>\n",
       "      <td>Fully agree</td>\n",
       "      <td>Fully agree</td>\n",
       "      <td>Fully agree</td>\n",
       "      <td>Fully agree</td>\n",
       "      <td>Fully agree</td>\n",
       "      <td>Fully agree</td>\n",
       "    </tr>\n",
       "  </tbody>\n",
       "</table>\n",
       "</div>"
      ],
      "text/plain": [
       "   Teach_Motivate Teach_LinkTheory               Teach_StimAsk  \\\n",
       "0  Fully Disagree   Fully Disagree              Fully Disagree   \n",
       "1        Disagree         Disagree  Neither disagree nor agree   \n",
       "2     Fully agree      Fully agree                 Fully agree   \n",
       "\n",
       "                  Teach_Avail              Teach_StimDisc    Teach_Partic  \\\n",
       "0              Fully Disagree              Fully Disagree  Fully Disagree   \n",
       "1  Neither disagree nor agree  Neither disagree nor agree        Disagree   \n",
       "2                 Fully agree                 Fully agree     Fully agree   \n",
       "\n",
       "       Teach_Comp  \n",
       "0  Fully Disagree  \n",
       "1        Disagree  \n",
       "2     Fully agree  "
      ]
     },
     "execution_count": 84,
     "metadata": {},
     "output_type": "execute_result"
    }
   ],
   "source": [
    "asd.head(3)"
   ]
  },
  {
   "cell_type": "code",
   "execution_count": 85,
   "id": "13e5e08b",
   "metadata": {},
   "outputs": [],
   "source": [
    "rep = {'Fully Disagree':1 , 'Disagree':2 ,'Neither disagree nor agree':3 , 'Agree':4 , 'Fully agree':5}\n",
    "asd = asd.replace(rep).astype(\"int\")"
   ]
  },
  {
   "cell_type": "code",
   "execution_count": 86,
   "id": "69c6ac97",
   "metadata": {},
   "outputs": [
    {
     "data": {
      "text/html": [
       "<div>\n",
       "<style scoped>\n",
       "    .dataframe tbody tr th:only-of-type {\n",
       "        vertical-align: middle;\n",
       "    }\n",
       "\n",
       "    .dataframe tbody tr th {\n",
       "        vertical-align: top;\n",
       "    }\n",
       "\n",
       "    .dataframe thead th {\n",
       "        text-align: right;\n",
       "    }\n",
       "</style>\n",
       "<table border=\"1\" class=\"dataframe\">\n",
       "  <thead>\n",
       "    <tr style=\"text-align: right;\">\n",
       "      <th></th>\n",
       "      <th>Teach_Motivate</th>\n",
       "      <th>Teach_LinkTheory</th>\n",
       "      <th>Teach_StimAsk</th>\n",
       "      <th>Teach_Avail</th>\n",
       "      <th>Teach_StimDisc</th>\n",
       "      <th>Teach_Partic</th>\n",
       "      <th>Teach_Comp</th>\n",
       "    </tr>\n",
       "  </thead>\n",
       "  <tbody>\n",
       "    <tr>\n",
       "      <th>0</th>\n",
       "      <td>1</td>\n",
       "      <td>1</td>\n",
       "      <td>1</td>\n",
       "      <td>1</td>\n",
       "      <td>1</td>\n",
       "      <td>1</td>\n",
       "      <td>1</td>\n",
       "    </tr>\n",
       "    <tr>\n",
       "      <th>1</th>\n",
       "      <td>2</td>\n",
       "      <td>2</td>\n",
       "      <td>3</td>\n",
       "      <td>3</td>\n",
       "      <td>3</td>\n",
       "      <td>2</td>\n",
       "      <td>2</td>\n",
       "    </tr>\n",
       "    <tr>\n",
       "      <th>2</th>\n",
       "      <td>5</td>\n",
       "      <td>5</td>\n",
       "      <td>5</td>\n",
       "      <td>5</td>\n",
       "      <td>5</td>\n",
       "      <td>5</td>\n",
       "      <td>5</td>\n",
       "    </tr>\n",
       "    <tr>\n",
       "      <th>3</th>\n",
       "      <td>1</td>\n",
       "      <td>3</td>\n",
       "      <td>1</td>\n",
       "      <td>3</td>\n",
       "      <td>1</td>\n",
       "      <td>1</td>\n",
       "      <td>1</td>\n",
       "    </tr>\n",
       "    <tr>\n",
       "      <th>4</th>\n",
       "      <td>1</td>\n",
       "      <td>1</td>\n",
       "      <td>1</td>\n",
       "      <td>1</td>\n",
       "      <td>5</td>\n",
       "      <td>5</td>\n",
       "      <td>2</td>\n",
       "    </tr>\n",
       "  </tbody>\n",
       "</table>\n",
       "</div>"
      ],
      "text/plain": [
       "   Teach_Motivate  Teach_LinkTheory  Teach_StimAsk  Teach_Avail  \\\n",
       "0               1                 1              1            1   \n",
       "1               2                 2              3            3   \n",
       "2               5                 5              5            5   \n",
       "3               1                 3              1            3   \n",
       "4               1                 1              1            1   \n",
       "\n",
       "   Teach_StimDisc  Teach_Partic  Teach_Comp  \n",
       "0               1             1           1  \n",
       "1               3             2           2  \n",
       "2               5             5           5  \n",
       "3               1             1           1  \n",
       "4               5             5           2  "
      ]
     },
     "execution_count": 86,
     "metadata": {},
     "output_type": "execute_result"
    }
   ],
   "source": [
    "asd.head()"
   ]
  },
  {
   "cell_type": "code",
   "execution_count": 89,
   "id": "a39a4c4e",
   "metadata": {},
   "outputs": [
    {
     "data": {
      "text/plain": [
       "FriedmanchisquareResult(statistic=49.786063569682106, pvalue=5.188917372956482e-09)"
      ]
     },
     "execution_count": 89,
     "metadata": {},
     "output_type": "execute_result"
    }
   ],
   "source": [
    "from scipy.stats import friedmanchisquare\n",
    "friedmanchisquare(asd.Teach_Avail,asd.Teach_Comp,asd.Teach_LinkTheory,asd.Teach_Motivate,asd.Teach_Partic,asd.Teach_StimAsk,asd.Teach_StimDisc)"
   ]
  },
  {
   "cell_type": "markdown",
   "id": "8dde60fa",
   "metadata": {},
   "source": [
    "# wmv test for unpaired or two sample test for  ordinal or non normal diestribution"
   ]
  },
  {
   "cell_type": "code",
   "execution_count": 90,
   "id": "47a65e3e",
   "metadata": {},
   "outputs": [
    {
     "data": {
      "text/html": [
       "<div>\n",
       "<style scoped>\n",
       "    .dataframe tbody tr th:only-of-type {\n",
       "        vertical-align: middle;\n",
       "    }\n",
       "\n",
       "    .dataframe tbody tr th {\n",
       "        vertical-align: top;\n",
       "    }\n",
       "\n",
       "    .dataframe thead th {\n",
       "        text-align: right;\n",
       "    }\n",
       "</style>\n",
       "<table border=\"1\" class=\"dataframe\">\n",
       "  <thead>\n",
       "    <tr style=\"text-align: right;\">\n",
       "      <th></th>\n",
       "      <th>sex</th>\n",
       "      <th>rating</th>\n",
       "    </tr>\n",
       "  </thead>\n",
       "  <tbody>\n",
       "    <tr>\n",
       "      <th>0</th>\n",
       "      <td>male</td>\n",
       "      <td>3</td>\n",
       "    </tr>\n",
       "    <tr>\n",
       "      <th>1</th>\n",
       "      <td>female</td>\n",
       "      <td>9</td>\n",
       "    </tr>\n",
       "    <tr>\n",
       "      <th>2</th>\n",
       "      <td>female</td>\n",
       "      <td>7</td>\n",
       "    </tr>\n",
       "    <tr>\n",
       "      <th>3</th>\n",
       "      <td>male</td>\n",
       "      <td>4</td>\n",
       "    </tr>\n",
       "    <tr>\n",
       "      <th>4</th>\n",
       "      <td>male</td>\n",
       "      <td>2</td>\n",
       "    </tr>\n",
       "    <tr>\n",
       "      <th>5</th>\n",
       "      <td>female</td>\n",
       "      <td>5</td>\n",
       "    </tr>\n",
       "    <tr>\n",
       "      <th>6</th>\n",
       "      <td>female</td>\n",
       "      <td>10</td>\n",
       "    </tr>\n",
       "    <tr>\n",
       "      <th>7</th>\n",
       "      <td>male</td>\n",
       "      <td>6</td>\n",
       "    </tr>\n",
       "    <tr>\n",
       "      <th>8</th>\n",
       "      <td>male</td>\n",
       "      <td>2</td>\n",
       "    </tr>\n",
       "    <tr>\n",
       "      <th>9</th>\n",
       "      <td>female</td>\n",
       "      <td>8</td>\n",
       "    </tr>\n",
       "    <tr>\n",
       "      <th>10</th>\n",
       "      <td>female</td>\n",
       "      <td>6</td>\n",
       "    </tr>\n",
       "    <tr>\n",
       "      <th>11</th>\n",
       "      <td>male</td>\n",
       "      <td>5</td>\n",
       "    </tr>\n",
       "  </tbody>\n",
       "</table>\n",
       "</div>"
      ],
      "text/plain": [
       "       sex  rating\n",
       "0     male       3\n",
       "1   female       9\n",
       "2   female       7\n",
       "3     male       4\n",
       "4     male       2\n",
       "5   female       5\n",
       "6   female      10\n",
       "7     male       6\n",
       "8     male       2\n",
       "9   female       8\n",
       "10  female       6\n",
       "11    male       5"
      ]
     },
     "execution_count": 90,
     "metadata": {},
     "output_type": "execute_result"
    }
   ],
   "source": [
    "# batch_1 =[3, 4, 2, 6, 2, 5]\n",
    "# batch_2 =[9, 7, 5, 10, 8, 6]\n",
    "\n",
    "asd = pd.DataFrame({'sex':['male','female','female','male','male','female','female','male','male','female','female','male'],\n",
    "             'rating':[3,9,7,4,2,5,10,6,2,8,6,5]})\n",
    "asd"
   ]
  },
  {
   "cell_type": "code",
   "execution_count": 104,
   "id": "23bcd0b5",
   "metadata": {},
   "outputs": [],
   "source": [
    "ml = asd[asd['sex']=='male']['rating']\n",
    "fm = asd[asd['sex']=='female']['rating']\n",
    "#batch_2 =[9, 7, 5, 10, 8, 6]\n",
    "#fm['scores'].tolist()"
   ]
  },
  {
   "cell_type": "code",
   "execution_count": 102,
   "id": "40d9cd0a",
   "metadata": {},
   "outputs": [],
   "source": [
    "# h0 : avg ratings of male and females is same =\n",
    "# h1 : avg ratings of males and female is not same !="
   ]
  },
  {
   "cell_type": "code",
   "execution_count": 105,
   "id": "55c0b55c",
   "metadata": {},
   "outputs": [
    {
     "data": {
      "text/plain": [
       "MannwhitneyuResult(statistic=2.0, pvalue=0.012591911490379705)"
      ]
     },
     "execution_count": 105,
     "metadata": {},
     "output_type": "execute_result"
    }
   ],
   "source": [
    "from scipy.stats import mannwhitneyu\n",
    "mannwhitneyu(ml,fm ,alternative = \"two-sided\")\n",
    "# p value is less than 0.025\n",
    "# so reject null hypothesis\n",
    "# there is difference between ratings given by tow groups"
   ]
  },
  {
   "cell_type": "markdown",
   "id": "1c12cbec",
   "metadata": {},
   "source": [
    "# kruskal vallis for unpaired three more  sample test for  ordinal or non normal diestribution"
   ]
  },
  {
   "cell_type": "code",
   "execution_count": 428,
   "id": "2cd6e2e8",
   "metadata": {},
   "outputs": [],
   "source": [
    "# The null hypothesis (H0): The median is the same for all the data groups.\n",
    "# The alternative hypothesis: (Ha): The median is not equal for all the data groups."
   ]
  },
  {
   "cell_type": "code",
   "execution_count": 106,
   "id": "2413ac25",
   "metadata": {},
   "outputs": [
    {
     "data": {
      "text/html": [
       "<div>\n",
       "<style scoped>\n",
       "    .dataframe tbody tr th:only-of-type {\n",
       "        vertical-align: middle;\n",
       "    }\n",
       "\n",
       "    .dataframe tbody tr th {\n",
       "        vertical-align: top;\n",
       "    }\n",
       "\n",
       "    .dataframe thead th {\n",
       "        text-align: right;\n",
       "    }\n",
       "</style>\n",
       "<table border=\"1\" class=\"dataframe\">\n",
       "  <thead>\n",
       "    <tr style=\"text-align: right;\">\n",
       "      <th></th>\n",
       "      <th>RespNr</th>\n",
       "      <th>Location</th>\n",
       "      <th>OAA_ObjCourse</th>\n",
       "      <th>OAA_ObjClass</th>\n",
       "      <th>OAA_CourseExec</th>\n",
       "      <th>OAA_RelActObj</th>\n",
       "      <th>OAA_RelActExa</th>\n",
       "      <th>OAA_RelObjExa</th>\n",
       "      <th>OAA_LearProcAct</th>\n",
       "      <th>OAA_LearProcPrep</th>\n",
       "      <th>...</th>\n",
       "      <th>Mix_IntDiscus</th>\n",
       "      <th>Mix_IntPrep</th>\n",
       "      <th>Mix_IntExcel</th>\n",
       "      <th>Over_Grade</th>\n",
       "      <th>Gen_Gender</th>\n",
       "      <th>Gen_Age</th>\n",
       "      <th>Gen_SecSchool</th>\n",
       "      <th>Gen_Classes</th>\n",
       "      <th>Gen_NumberSubj</th>\n",
       "      <th>Gen_Time</th>\n",
       "    </tr>\n",
       "  </thead>\n",
       "  <tbody>\n",
       "    <tr>\n",
       "      <th>0</th>\n",
       "      <td>1.0</td>\n",
       "      <td>Rotterdam</td>\n",
       "      <td>Fully Disagree</td>\n",
       "      <td>Fully Disagree</td>\n",
       "      <td>Fully Disagree</td>\n",
       "      <td>Disagree</td>\n",
       "      <td>Fully Disagree</td>\n",
       "      <td>Fully Disagree</td>\n",
       "      <td>Fully Disagree</td>\n",
       "      <td>Fully Disagree</td>\n",
       "      <td>...</td>\n",
       "      <td>Not at all</td>\n",
       "      <td>not so much</td>\n",
       "      <td>not so much</td>\n",
       "      <td>20.0</td>\n",
       "      <td>Female</td>\n",
       "      <td>22.0</td>\n",
       "      <td>NaN</td>\n",
       "      <td>NaN</td>\n",
       "      <td>Fully agree</td>\n",
       "      <td>20 &lt; 30</td>\n",
       "    </tr>\n",
       "    <tr>\n",
       "      <th>1</th>\n",
       "      <td>2.0</td>\n",
       "      <td>Haarlem</td>\n",
       "      <td>Disagree</td>\n",
       "      <td>Disagree</td>\n",
       "      <td>NaN</td>\n",
       "      <td>Fully Disagree</td>\n",
       "      <td>Neither disagree nor agree</td>\n",
       "      <td>Agree</td>\n",
       "      <td>Disagree</td>\n",
       "      <td>Neither disagree nor agree</td>\n",
       "      <td>...</td>\n",
       "      <td>not so much</td>\n",
       "      <td>somewhat</td>\n",
       "      <td>somewhat</td>\n",
       "      <td>50.0</td>\n",
       "      <td>Male</td>\n",
       "      <td>NaN</td>\n",
       "      <td>The Netherlands</td>\n",
       "      <td>6.0</td>\n",
       "      <td>Disagree</td>\n",
       "      <td>10 &lt; 20</td>\n",
       "    </tr>\n",
       "  </tbody>\n",
       "</table>\n",
       "<p>2 rows × 50 columns</p>\n",
       "</div>"
      ],
      "text/plain": [
       "   RespNr   Location   OAA_ObjCourse    OAA_ObjClass  OAA_CourseExec  \\\n",
       "0     1.0  Rotterdam  Fully Disagree  Fully Disagree  Fully Disagree   \n",
       "1     2.0    Haarlem        Disagree        Disagree             NaN   \n",
       "\n",
       "    OAA_RelActObj               OAA_RelActExa   OAA_RelObjExa OAA_LearProcAct  \\\n",
       "0        Disagree              Fully Disagree  Fully Disagree  Fully Disagree   \n",
       "1  Fully Disagree  Neither disagree nor agree           Agree        Disagree   \n",
       "\n",
       "             OAA_LearProcPrep  ... Mix_IntDiscus  Mix_IntPrep Mix_IntExcel  \\\n",
       "0              Fully Disagree  ...    Not at all  not so much  not so much   \n",
       "1  Neither disagree nor agree  ...   not so much     somewhat     somewhat   \n",
       "\n",
       "  Over_Grade Gen_Gender Gen_Age    Gen_SecSchool Gen_Classes Gen_NumberSubj  \\\n",
       "0       20.0     Female    22.0              NaN         NaN    Fully agree   \n",
       "1       50.0       Male     NaN  The Netherlands         6.0       Disagree   \n",
       "\n",
       "  Gen_Time  \n",
       "0  20 < 30  \n",
       "1  10 < 20  \n",
       "\n",
       "[2 rows x 50 columns]"
      ]
     },
     "execution_count": 106,
     "metadata": {},
     "output_type": "execute_result"
    }
   ],
   "source": [
    "df = pd.read_csv(sep=';',filepath_or_buffer = 'F:/simplilearn/Python/Data Science with Python _ Nikhil Garg _ Dec 6th 2021- Jan 7th 2022/StudentStatistics.csv')\n",
    "df.head(2)"
   ]
  },
  {
   "cell_type": "code",
   "execution_count": 107,
   "id": "b0b61c83",
   "metadata": {},
   "outputs": [
    {
     "data": {
      "text/html": [
       "<div>\n",
       "<style scoped>\n",
       "    .dataframe tbody tr th:only-of-type {\n",
       "        vertical-align: middle;\n",
       "    }\n",
       "\n",
       "    .dataframe tbody tr th {\n",
       "        vertical-align: top;\n",
       "    }\n",
       "\n",
       "    .dataframe thead th {\n",
       "        text-align: right;\n",
       "    }\n",
       "</style>\n",
       "<table border=\"1\" class=\"dataframe\">\n",
       "  <thead>\n",
       "    <tr style=\"text-align: right;\">\n",
       "      <th></th>\n",
       "      <th>Location</th>\n",
       "      <th>Teach_Motivate</th>\n",
       "    </tr>\n",
       "  </thead>\n",
       "  <tbody>\n",
       "    <tr>\n",
       "      <th>0</th>\n",
       "      <td>Rotterdam</td>\n",
       "      <td>Fully Disagree</td>\n",
       "    </tr>\n",
       "    <tr>\n",
       "      <th>1</th>\n",
       "      <td>Haarlem</td>\n",
       "      <td>Disagree</td>\n",
       "    </tr>\n",
       "    <tr>\n",
       "      <th>2</th>\n",
       "      <td>Diemen</td>\n",
       "      <td>Fully agree</td>\n",
       "    </tr>\n",
       "    <tr>\n",
       "      <th>3</th>\n",
       "      <td>Rotterdam</td>\n",
       "      <td>Fully Disagree</td>\n",
       "    </tr>\n",
       "    <tr>\n",
       "      <th>4</th>\n",
       "      <td>Haarlem</td>\n",
       "      <td>Fully Disagree</td>\n",
       "    </tr>\n",
       "  </tbody>\n",
       "</table>\n",
       "</div>"
      ],
      "text/plain": [
       "    Location  Teach_Motivate\n",
       "0  Rotterdam  Fully Disagree\n",
       "1    Haarlem        Disagree\n",
       "2     Diemen     Fully agree\n",
       "3  Rotterdam  Fully Disagree\n",
       "4    Haarlem  Fully Disagree"
      ]
     },
     "execution_count": 107,
     "metadata": {},
     "output_type": "execute_result"
    }
   ],
   "source": [
    "# h0 : there is no difference between teach_motivation among different groups of location\n",
    "# h1 : there is difference between teach_motivation among different groups of location\n",
    "asd = df[['Location','Teach_Motivate']].dropna()\n",
    "asd.head()"
   ]
  },
  {
   "cell_type": "code",
   "execution_count": 108,
   "id": "539724ac",
   "metadata": {},
   "outputs": [],
   "source": [
    "rep = {'Fully Disagree':1 , 'Disagree':2 ,'Neither disagree nor agree':3 , 'Agree':4 , 'Fully agree':5}\n",
    "asd['Teach_Motivate'] = asd['Teach_Motivate'].replace(rep)"
   ]
  },
  {
   "cell_type": "code",
   "execution_count": 109,
   "id": "cd748dc0",
   "metadata": {},
   "outputs": [
    {
     "data": {
      "text/html": [
       "<div>\n",
       "<style scoped>\n",
       "    .dataframe tbody tr th:only-of-type {\n",
       "        vertical-align: middle;\n",
       "    }\n",
       "\n",
       "    .dataframe tbody tr th {\n",
       "        vertical-align: top;\n",
       "    }\n",
       "\n",
       "    .dataframe thead th {\n",
       "        text-align: right;\n",
       "    }\n",
       "</style>\n",
       "<table border=\"1\" class=\"dataframe\">\n",
       "  <thead>\n",
       "    <tr style=\"text-align: right;\">\n",
       "      <th></th>\n",
       "      <th>Location</th>\n",
       "      <th>Teach_Motivate</th>\n",
       "    </tr>\n",
       "  </thead>\n",
       "  <tbody>\n",
       "    <tr>\n",
       "      <th>0</th>\n",
       "      <td>Rotterdam</td>\n",
       "      <td>1</td>\n",
       "    </tr>\n",
       "    <tr>\n",
       "      <th>1</th>\n",
       "      <td>Haarlem</td>\n",
       "      <td>2</td>\n",
       "    </tr>\n",
       "    <tr>\n",
       "      <th>2</th>\n",
       "      <td>Diemen</td>\n",
       "      <td>5</td>\n",
       "    </tr>\n",
       "    <tr>\n",
       "      <th>3</th>\n",
       "      <td>Rotterdam</td>\n",
       "      <td>1</td>\n",
       "    </tr>\n",
       "    <tr>\n",
       "      <th>4</th>\n",
       "      <td>Haarlem</td>\n",
       "      <td>1</td>\n",
       "    </tr>\n",
       "  </tbody>\n",
       "</table>\n",
       "</div>"
      ],
      "text/plain": [
       "    Location  Teach_Motivate\n",
       "0  Rotterdam               1\n",
       "1    Haarlem               2\n",
       "2     Diemen               5\n",
       "3  Rotterdam               1\n",
       "4    Haarlem               1"
      ]
     },
     "execution_count": 109,
     "metadata": {},
     "output_type": "execute_result"
    }
   ],
   "source": [
    "asd.head()"
   ]
  },
  {
   "cell_type": "code",
   "execution_count": 110,
   "id": "d083c0f6",
   "metadata": {},
   "outputs": [
    {
     "data": {
      "text/plain": [
       "array(['Rotterdam', 'Haarlem', 'Diemen'], dtype=object)"
      ]
     },
     "execution_count": 110,
     "metadata": {},
     "output_type": "execute_result"
    }
   ],
   "source": [
    "asd.Location.unique()\n",
    "# three groups"
   ]
  },
  {
   "cell_type": "code",
   "execution_count": 116,
   "id": "c8f7e755",
   "metadata": {},
   "outputs": [],
   "source": [
    "# when more than 2 groups alpha value will always be 0.05"
   ]
  },
  {
   "cell_type": "code",
   "execution_count": 115,
   "id": "f97905ba",
   "metadata": {},
   "outputs": [
    {
     "data": {
      "text/html": [
       "<div>\n",
       "<style scoped>\n",
       "    .dataframe tbody tr th:only-of-type {\n",
       "        vertical-align: middle;\n",
       "    }\n",
       "\n",
       "    .dataframe tbody tr th {\n",
       "        vertical-align: top;\n",
       "    }\n",
       "\n",
       "    .dataframe thead th {\n",
       "        text-align: right;\n",
       "    }\n",
       "</style>\n",
       "<table border=\"1\" class=\"dataframe\">\n",
       "  <thead>\n",
       "    <tr style=\"text-align: right;\">\n",
       "      <th></th>\n",
       "      <th>Source</th>\n",
       "      <th>ddof1</th>\n",
       "      <th>H</th>\n",
       "      <th>p-unc</th>\n",
       "    </tr>\n",
       "  </thead>\n",
       "  <tbody>\n",
       "    <tr>\n",
       "      <th>Kruskal</th>\n",
       "      <td>Location</td>\n",
       "      <td>2</td>\n",
       "      <td>21.328066</td>\n",
       "      <td>0.000023</td>\n",
       "    </tr>\n",
       "  </tbody>\n",
       "</table>\n",
       "</div>"
      ],
      "text/plain": [
       "           Source  ddof1          H     p-unc\n",
       "Kruskal  Location      2  21.328066  0.000023"
      ]
     },
     "execution_count": 115,
     "metadata": {},
     "output_type": "execute_result"
    }
   ],
   "source": [
    "from pingouin import kruskal\n",
    "kruskal(data = asd,dv = 'Teach_Motivate',between = 'Location')"
   ]
  },
  {
   "cell_type": "code",
   "execution_count": 564,
   "id": "2dad8fa9",
   "metadata": {},
   "outputs": [],
   "source": [
    "# since p value is very low , we reject null hypothesis and say that there is diffenrece between population of three groups"
   ]
  },
  {
   "cell_type": "code",
   "execution_count": 495,
   "id": "b5fc8a83",
   "metadata": {},
   "outputs": [],
   "source": [
    "# now using scipy library"
   ]
  },
  {
   "cell_type": "code",
   "execution_count": 512,
   "id": "0824b1c4",
   "metadata": {},
   "outputs": [],
   "source": [
    "from scipy.stats import kruskal as kk"
   ]
  },
  {
   "cell_type": "code",
   "execution_count": 560,
   "id": "374debdc",
   "metadata": {},
   "outputs": [],
   "source": [
    "df = pd.read_csv(sep=';',filepath_or_buffer = 'F:/simplilearn/Python/Data Science with Python _ Nikhil Garg _ Dec 6th 2021- Jan 7th 2022/StudentStatistics.csv')\n",
    "rep = {'Fully Disagree':1 , 'Disagree':2 ,'Neither disagree nor agree':3 , 'Agree':4 , 'Fully agree':5}\n",
    "df['Teach_Motivate'] = asd['Teach_Motivate'].replace(rep)\n",
    "asd = df[[\"Location\",'Teach_Motivate']].dropna(subset = 'Teach_Motivate')"
   ]
  },
  {
   "cell_type": "code",
   "execution_count": 561,
   "id": "8f6fbb5e",
   "metadata": {},
   "outputs": [],
   "source": [
    "loc1 = asd[asd['Location']=='Rotterdam']['Teach_Motivate']\n",
    "loc2 = asd[asd['Location']=='Haarlem']['Teach_Motivate']\n",
    "loc3 = asd[asd['Location']=='Diemen']['Teach_Motivate']"
   ]
  },
  {
   "cell_type": "code",
   "execution_count": 562,
   "id": "bb3980d6",
   "metadata": {},
   "outputs": [
    {
     "data": {
      "text/plain": [
       "KruskalResult(statistic=21.328066442489817, pvalue=2.3370565284336716e-05)"
      ]
     },
     "execution_count": 562,
     "metadata": {},
     "output_type": "execute_result"
    }
   ],
   "source": [
    "kk(loc1,loc2,loc3)"
   ]
  },
  {
   "cell_type": "code",
   "execution_count": 565,
   "id": "6c48979a",
   "metadata": {},
   "outputs": [],
   "source": [
    "# it gave same result as above . its just wo different ways"
   ]
  },
  {
   "cell_type": "markdown",
   "id": "a1a3026e",
   "metadata": {},
   "source": [
    "# for difference"
   ]
  },
  {
   "cell_type": "markdown",
   "id": "d21b073b",
   "metadata": {},
   "source": [
    "#  when the outcome nominal data"
   ]
  },
  {
   "cell_type": "markdown",
   "id": "da315437",
   "metadata": {},
   "source": [
    "# for paired data"
   ]
  },
  {
   "cell_type": "markdown",
   "id": "0b8f49ff",
   "metadata": {},
   "source": [
    "Suppose researchers want to know if a certain marketing video can change people’s opinion of a particular law. They survey 100 people to find out if they do or do not support the law. Then, they show all 100 people the marketing video and survey them again once the video is over.\n",
    "\n",
    "The following table shows the total number of people who supported the law both before and after viewing the video:\n",
    "\n",
    "                   before video       after video\n",
    "                \n",
    "    support             30                  20\n",
    "\n",
    "    not support         10                  40"
   ]
  },
  {
   "cell_type": "code",
   "execution_count": 39,
   "id": "a23b2fac",
   "metadata": {},
   "outputs": [
    {
     "name": "stdout",
     "output_type": "stream",
     "text": [
      "pvalue      0.09873714670538905\n",
      "statistic   10.0\n"
     ]
    }
   ],
   "source": [
    "data = [[30, 20],\n",
    "         [10, 40]]\n",
    "# if there is any cell in the contingency table which has a value less than 25 then this method is used . it uses binomial distribution\n",
    "from statsmodels.stats.contingency_tables import mcnemar\n",
    "print(mcnemar(data , exact= True))"
   ]
  },
  {
   "cell_type": "code",
   "execution_count": 2,
   "id": "fadfa5d5",
   "metadata": {},
   "outputs": [
    {
     "name": "stdout",
     "output_type": "stream",
     "text": [
      "pvalue      0.09873714670538905\n",
      "statistic   10.0\n"
     ]
    }
   ],
   "source": [
    "# Alternately, if all cells used in the calculation of the test statistic in the contingency table have a value of 25 or more, \n",
    "# then the standard calculation of the test can be used.\n",
    "print(mcnemar(data , exact=True,correction = True))"
   ]
  },
  {
   "cell_type": "code",
   "execution_count": 11,
   "id": "bc74a3f4",
   "metadata": {},
   "outputs": [],
   "source": [
    "import pandas as pd\n",
    "asd = pd.DataFrame({'before':[1,1,1,1,1,1,1,1,1,1,1,1,1,1,1,1,1,1,1,1,1,1,1,1,1,1,1,1,1,1,2,2,2,2,2,2,2,2,2,2,2,2,2,2,2,2,2,2,2,2],\n",
    "                   'after':[1,1,1,1,1,1,1,1,1,1,2,2,2,2,2,2,2,2,2,2,2,2,2,2,2,2,2,2,2,2,2,2,2,2,2,2,2,2,2,2,2,2,2,2,2,2,2,2,2,2]})"
   ]
  },
  {
   "cell_type": "code",
   "execution_count": 20,
   "id": "15c8ecf5",
   "metadata": {},
   "outputs": [
    {
     "data": {
      "text/plain": [
       "1    30\n",
       "2    20\n",
       "Name: before, dtype: int64"
      ]
     },
     "execution_count": 20,
     "metadata": {},
     "output_type": "execute_result"
    }
   ],
   "source": [
    "asd.before.value_counts()"
   ]
  },
  {
   "cell_type": "code",
   "execution_count": 22,
   "id": "d4499c23",
   "metadata": {},
   "outputs": [
    {
     "data": {
      "text/plain": [
       "1    10\n",
       "2    40\n",
       "Name: after, dtype: int64"
      ]
     },
     "execution_count": 22,
     "metadata": {},
     "output_type": "execute_result"
    }
   ],
   "source": [
    "asd.after.value_counts()[::-1]"
   ]
  },
  {
   "cell_type": "code",
   "execution_count": 23,
   "id": "bb665e4f",
   "metadata": {},
   "outputs": [
    {
     "data": {
      "text/plain": [
       "[[30, 20], [10, 40]]"
      ]
     },
     "execution_count": 23,
     "metadata": {},
     "output_type": "execute_result"
    }
   ],
   "source": [
    "[asd.before.value_counts().tolist(),asd.after.value_counts().tolist()[::-1]]"
   ]
  },
  {
   "cell_type": "code",
   "execution_count": 34,
   "id": "e0410ca5",
   "metadata": {},
   "outputs": [
    {
     "data": {
      "text/plain": [
       "[[30, 20], [10, 40]]"
      ]
     },
     "execution_count": 34,
     "metadata": {},
     "output_type": "execute_result"
    }
   ],
   "source": [
    "dsd = [asd.before.value_counts().tolist(),asd.after.value_counts().tolist()[::-1]]\n",
    "dsd"
   ]
  },
  {
   "cell_type": "code",
   "execution_count": 38,
   "id": "4335ca18",
   "metadata": {},
   "outputs": [
    {
     "name": "stdout",
     "output_type": "stream",
     "text": [
      "pvalue      0.09873714670538905\n",
      "statistic   10.0\n"
     ]
    }
   ],
   "source": [
    "print(mcnemar(dsd,exact=True))"
   ]
  },
  {
   "cell_type": "code",
   "execution_count": null,
   "id": "f0e13710",
   "metadata": {},
   "outputs": [],
   "source": []
  },
  {
   "cell_type": "markdown",
   "id": "f00fa7b8",
   "metadata": {},
   "source": [
    "# cochran's Q test . for more than two samples"
   ]
  },
  {
   "cell_type": "code",
   "execution_count": 47,
   "id": "2a330614",
   "metadata": {},
   "outputs": [
    {
     "data": {
      "text/html": [
       "<div>\n",
       "<style scoped>\n",
       "    .dataframe tbody tr th:only-of-type {\n",
       "        vertical-align: middle;\n",
       "    }\n",
       "\n",
       "    .dataframe tbody tr th {\n",
       "        vertical-align: top;\n",
       "    }\n",
       "\n",
       "    .dataframe thead th {\n",
       "        text-align: right;\n",
       "    }\n",
       "</style>\n",
       "<table border=\"1\" class=\"dataframe\">\n",
       "  <thead>\n",
       "    <tr style=\"text-align: right;\">\n",
       "      <th></th>\n",
       "      <th>sex</th>\n",
       "      <th>age</th>\n",
       "      <th>educat</th>\n",
       "      <th>income</th>\n",
       "      <th>thriller</th>\n",
       "      <th>horror</th>\n",
       "      <th>comedy</th>\n",
       "      <th>adventur</th>\n",
       "      <th>docu</th>\n",
       "      <th>roman</th>\n",
       "      <th>munt</th>\n",
       "      <th>movies</th>\n",
       "      <th>tuschin</th>\n",
       "      <th>arena</th>\n",
       "    </tr>\n",
       "  </thead>\n",
       "  <tbody>\n",
       "    <tr>\n",
       "      <th>0</th>\n",
       "      <td>0.0</td>\n",
       "      <td>25.0</td>\n",
       "      <td>2.0</td>\n",
       "      <td>2000.0</td>\n",
       "      <td>6.0</td>\n",
       "      <td>3.0</td>\n",
       "      <td>6.0</td>\n",
       "      <td>6.0</td>\n",
       "      <td>9.0</td>\n",
       "      <td>6.0</td>\n",
       "      <td>0.0</td>\n",
       "      <td>0.0</td>\n",
       "      <td>0.0</td>\n",
       "      <td>0.0</td>\n",
       "    </tr>\n",
       "    <tr>\n",
       "      <th>1</th>\n",
       "      <td>0.0</td>\n",
       "      <td>33.0</td>\n",
       "      <td>2.0</td>\n",
       "      <td>2350.0</td>\n",
       "      <td>4.0</td>\n",
       "      <td>2.0</td>\n",
       "      <td>7.0</td>\n",
       "      <td>8.0</td>\n",
       "      <td>4.0</td>\n",
       "      <td>7.0</td>\n",
       "      <td>0.0</td>\n",
       "      <td>0.0</td>\n",
       "      <td>0.0</td>\n",
       "      <td>1.0</td>\n",
       "    </tr>\n",
       "    <tr>\n",
       "      <th>2</th>\n",
       "      <td>0.0</td>\n",
       "      <td>44.0</td>\n",
       "      <td>3.0</td>\n",
       "      <td>4500.0</td>\n",
       "      <td>6.0</td>\n",
       "      <td>3.0</td>\n",
       "      <td>7.0</td>\n",
       "      <td>8.0</td>\n",
       "      <td>8.0</td>\n",
       "      <td>7.0</td>\n",
       "      <td>1.0</td>\n",
       "      <td>1.0</td>\n",
       "      <td>1.0</td>\n",
       "      <td>0.0</td>\n",
       "    </tr>\n",
       "  </tbody>\n",
       "</table>\n",
       "</div>"
      ],
      "text/plain": [
       "   sex   age  educat  income  thriller  horror  comedy  adventur  docu  roman  \\\n",
       "0  0.0  25.0     2.0  2000.0       6.0     3.0     6.0       6.0   9.0    6.0   \n",
       "1  0.0  33.0     2.0  2350.0       4.0     2.0     7.0       8.0   4.0    7.0   \n",
       "2  0.0  44.0     3.0  4500.0       6.0     3.0     7.0       8.0   8.0    7.0   \n",
       "\n",
       "   munt  movies  tuschin  arena  \n",
       "0   0.0     0.0      0.0    0.0  \n",
       "1   0.0     0.0      0.0    1.0  \n",
       "2   1.0     1.0      1.0    0.0  "
      ]
     },
     "execution_count": 47,
     "metadata": {},
     "output_type": "execute_result"
    }
   ],
   "source": [
    "df = pd.read_csv('F:/simplilearn/Python/Data Science with Python _ Nikhil Garg _ Dec 6th 2021- Jan 7th 2022/FilmPreferences2123.csv')\n",
    "df.head(3)"
   ]
  },
  {
   "cell_type": "code",
   "execution_count": 49,
   "id": "57729a53",
   "metadata": {},
   "outputs": [],
   "source": [
    "df = df[['movies','munt','tuschin','arena']]"
   ]
  },
  {
   "cell_type": "code",
   "execution_count": 52,
   "id": "33842a2b",
   "metadata": {},
   "outputs": [
    {
     "name": "stdout",
     "output_type": "stream",
     "text": [
      "df          3\n",
      "pvalue      0.00022763307854354147\n",
      "statistic   19.384615384615383\n"
     ]
    }
   ],
   "source": [
    "from statsmodels.stats.contingency_tables import cochrans_q\n",
    "print(cochrans_q(df))"
   ]
  },
  {
   "cell_type": "markdown",
   "id": "a99cd9bc",
   "metadata": {},
   "source": [
    "# chi square fror independent samples"
   ]
  },
  {
   "cell_type": "code",
   "execution_count": 70,
   "id": "7ebf22c9",
   "metadata": {},
   "outputs": [],
   "source": [
    "asd = pd.DataFrame({'sex':['female','male','male','female','male','male','male','male','male','male','female','female','male','female','female','male','female','male','female','male','male'],\n",
    "                   'city':[2,3,1,4,4,2,5,4,1,3,1,5,4,3,1,5,4,1,3,2,5]})"
   ]
  },
  {
   "cell_type": "code",
   "execution_count": 71,
   "id": "2764c13b",
   "metadata": {},
   "outputs": [
    {
     "data": {
      "text/html": [
       "<div>\n",
       "<style scoped>\n",
       "    .dataframe tbody tr th:only-of-type {\n",
       "        vertical-align: middle;\n",
       "    }\n",
       "\n",
       "    .dataframe tbody tr th {\n",
       "        vertical-align: top;\n",
       "    }\n",
       "\n",
       "    .dataframe thead th {\n",
       "        text-align: right;\n",
       "    }\n",
       "</style>\n",
       "<table border=\"1\" class=\"dataframe\">\n",
       "  <thead>\n",
       "    <tr style=\"text-align: right;\">\n",
       "      <th>city</th>\n",
       "      <th>1</th>\n",
       "      <th>2</th>\n",
       "      <th>3</th>\n",
       "      <th>4</th>\n",
       "      <th>5</th>\n",
       "    </tr>\n",
       "    <tr>\n",
       "      <th>sex</th>\n",
       "      <th></th>\n",
       "      <th></th>\n",
       "      <th></th>\n",
       "      <th></th>\n",
       "      <th></th>\n",
       "    </tr>\n",
       "  </thead>\n",
       "  <tbody>\n",
       "    <tr>\n",
       "      <th>female</th>\n",
       "      <td>2</td>\n",
       "      <td>1</td>\n",
       "      <td>2</td>\n",
       "      <td>2</td>\n",
       "      <td>1</td>\n",
       "    </tr>\n",
       "    <tr>\n",
       "      <th>male</th>\n",
       "      <td>3</td>\n",
       "      <td>2</td>\n",
       "      <td>2</td>\n",
       "      <td>3</td>\n",
       "      <td>3</td>\n",
       "    </tr>\n",
       "  </tbody>\n",
       "</table>\n",
       "</div>"
      ],
      "text/plain": [
       "city    1  2  3  4  5\n",
       "sex                  \n",
       "female  2  1  2  2  1\n",
       "male    3  2  2  3  3"
      ]
     },
     "execution_count": 71,
     "metadata": {},
     "output_type": "execute_result"
    }
   ],
   "source": [
    "crs = pd.crosstab(asd['sex'],asd['city'])\n",
    "crs"
   ]
  },
  {
   "cell_type": "code",
   "execution_count": 64,
   "id": "8d73354c",
   "metadata": {},
   "outputs": [],
   "source": [
    "#h0: there is no releation between the two variables\n",
    "# h1: there is releation between variables"
   ]
  },
  {
   "cell_type": "code",
   "execution_count": 65,
   "id": "795e6019",
   "metadata": {},
   "outputs": [
    {
     "data": {
      "text/plain": [
       "(0.5754807692307692,\n",
       " 0.9657489719075344,\n",
       " 4,\n",
       " array([[1.9047619 , 1.14285714, 1.52380952, 1.9047619 , 1.52380952],\n",
       "        [3.0952381 , 1.85714286, 2.47619048, 3.0952381 , 2.47619048]]))"
      ]
     },
     "execution_count": 65,
     "metadata": {},
     "output_type": "execute_result"
    }
   ],
   "source": [
    "from scipy.stats import chi2_contingency\n",
    "chi2_contingency(crs)"
   ]
  },
  {
   "cell_type": "code",
   "execution_count": 66,
   "id": "8424d303",
   "metadata": {},
   "outputs": [
    {
     "data": {
      "text/plain": [
       "(0.5754807692307692,\n",
       " 0.9657489719075344,\n",
       " 4,\n",
       " array([[1.9047619 , 3.0952381 ],\n",
       "        [1.14285714, 1.85714286],\n",
       "        [1.52380952, 2.47619048],\n",
       "        [1.9047619 , 3.0952381 ],\n",
       "        [1.52380952, 2.47619048]]))"
      ]
     },
     "execution_count": 66,
     "metadata": {},
     "output_type": "execute_result"
    }
   ],
   "source": [
    "crs = pd.crosstab(asd['city'],asd['sex'])\n",
    "chi2_contingency(crs)"
   ]
  },
  {
   "cell_type": "code",
   "execution_count": 68,
   "id": "dd4b3c44",
   "metadata": {},
   "outputs": [],
   "source": [
    "# do it either way , saame result ,czo chi2_contingenct works for two and more than two sample independent samples"
   ]
  },
  {
   "cell_type": "markdown",
   "id": "344bb84b",
   "metadata": {},
   "source": [
    "# spearman correleation\n",
    "when the output is ordinal"
   ]
  },
  {
   "cell_type": "code",
   "execution_count": 72,
   "id": "a6415822",
   "metadata": {},
   "outputs": [
    {
     "data": {
      "text/html": [
       "<div>\n",
       "<style scoped>\n",
       "    .dataframe tbody tr th:only-of-type {\n",
       "        vertical-align: middle;\n",
       "    }\n",
       "\n",
       "    .dataframe tbody tr th {\n",
       "        vertical-align: top;\n",
       "    }\n",
       "\n",
       "    .dataframe thead th {\n",
       "        text-align: right;\n",
       "    }\n",
       "</style>\n",
       "<table border=\"1\" class=\"dataframe\">\n",
       "  <thead>\n",
       "    <tr style=\"text-align: right;\">\n",
       "      <th></th>\n",
       "      <th>model</th>\n",
       "      <th>mpg</th>\n",
       "      <th>cyl</th>\n",
       "      <th>disp</th>\n",
       "      <th>hp</th>\n",
       "      <th>drat</th>\n",
       "      <th>wt</th>\n",
       "      <th>qsec</th>\n",
       "      <th>vs</th>\n",
       "      <th>am</th>\n",
       "      <th>gear</th>\n",
       "      <th>carb</th>\n",
       "    </tr>\n",
       "  </thead>\n",
       "  <tbody>\n",
       "    <tr>\n",
       "      <th>0</th>\n",
       "      <td>Mazda RX4</td>\n",
       "      <td>21.0</td>\n",
       "      <td>6</td>\n",
       "      <td>160.0</td>\n",
       "      <td>110</td>\n",
       "      <td>3.90</td>\n",
       "      <td>2.620</td>\n",
       "      <td>16.46</td>\n",
       "      <td>0</td>\n",
       "      <td>1</td>\n",
       "      <td>4</td>\n",
       "      <td>4</td>\n",
       "    </tr>\n",
       "    <tr>\n",
       "      <th>1</th>\n",
       "      <td>Mazda RX4 Wag</td>\n",
       "      <td>21.0</td>\n",
       "      <td>6</td>\n",
       "      <td>160.0</td>\n",
       "      <td>110</td>\n",
       "      <td>3.90</td>\n",
       "      <td>2.875</td>\n",
       "      <td>17.02</td>\n",
       "      <td>0</td>\n",
       "      <td>1</td>\n",
       "      <td>4</td>\n",
       "      <td>4</td>\n",
       "    </tr>\n",
       "    <tr>\n",
       "      <th>2</th>\n",
       "      <td>Datsun 710</td>\n",
       "      <td>22.8</td>\n",
       "      <td>4</td>\n",
       "      <td>108.0</td>\n",
       "      <td>93</td>\n",
       "      <td>3.85</td>\n",
       "      <td>2.320</td>\n",
       "      <td>18.61</td>\n",
       "      <td>1</td>\n",
       "      <td>1</td>\n",
       "      <td>4</td>\n",
       "      <td>1</td>\n",
       "    </tr>\n",
       "  </tbody>\n",
       "</table>\n",
       "</div>"
      ],
      "text/plain": [
       "           model   mpg  cyl   disp   hp  drat     wt   qsec  vs  am  gear  \\\n",
       "0      Mazda RX4  21.0    6  160.0  110  3.90  2.620  16.46   0   1     4   \n",
       "1  Mazda RX4 Wag  21.0    6  160.0  110  3.90  2.875  17.02   0   1     4   \n",
       "2     Datsun 710  22.8    4  108.0   93  3.85  2.320  18.61   1   1     4   \n",
       "\n",
       "   carb  \n",
       "0     4  \n",
       "1     4  \n",
       "2     1  "
      ]
     },
     "execution_count": 72,
     "metadata": {},
     "output_type": "execute_result"
    }
   ],
   "source": [
    "df = pd.read_csv('F:/simplilearn/Python/Data Science with Python _ Nikhil Garg _ Dec 6th 2021- Jan 7th 2022/mtcars.csv')\n",
    "df.head(3)"
   ]
  },
  {
   "cell_type": "code",
   "execution_count": 73,
   "id": "81135640",
   "metadata": {},
   "outputs": [],
   "source": [
    "cyl = df['cyl']\n",
    "vs = df['vs']\n",
    "am = df['am']\n",
    "gear = df['gear']"
   ]
  },
  {
   "cell_type": "code",
   "execution_count": 75,
   "id": "202a4ab3",
   "metadata": {},
   "outputs": [
    {
     "name": "stdout",
     "output_type": "stream",
     "text": [
      "SpearmanrResult(correlation=-0.8137889508577582, pvalue=1.4840576453926875e-08)\n",
      "SpearmanrResult(correlation=0.16834512458535864, pvalue=0.3570439499396031)\n",
      "SpearmanrResult(correlation=0.8076880024649701, pvalue=2.3040628428250506e-08)\n"
     ]
    }
   ],
   "source": [
    "from scipy.stats import spearmanr\n",
    "print(spearmanr(cyl,vs))\n",
    "print(spearmanr(am,vs))\n",
    "print(spearmanr(gear,am))"
   ]
  },
  {
   "cell_type": "code",
   "execution_count": 76,
   "id": "859ddc9b",
   "metadata": {},
   "outputs": [
    {
     "data": {
      "application/javascript": [
       "\n",
       "        if (window._pyforest_update_imports_cell) { window._pyforest_update_imports_cell('import numpy as np'); }\n",
       "    "
      ],
      "text/plain": [
       "<IPython.core.display.Javascript object>"
      ]
     },
     "metadata": {},
     "output_type": "display_data"
    },
    {
     "data": {
      "text/plain": [
       "array([0, 1, 2, 3, 4, 5, 6])"
      ]
     },
     "execution_count": 76,
     "metadata": {},
     "output_type": "execute_result"
    }
   ],
   "source": [
    "np.arange(7)"
   ]
  },
  {
   "cell_type": "markdown",
   "id": "b397e42f",
   "metadata": {},
   "source": [
    "# point biserial\n",
    "when we have the find realrationship between a binary variable and continuos variable"
   ]
  },
  {
   "cell_type": "code",
   "execution_count": 77,
   "id": "d3e89e94",
   "metadata": {},
   "outputs": [
    {
     "data": {
      "application/javascript": [
       "\n",
       "        if (window._pyforest_update_imports_cell) { window._pyforest_update_imports_cell('import numpy as np'); }\n",
       "    "
      ],
      "text/plain": [
       "<IPython.core.display.Javascript object>"
      ]
     },
     "metadata": {},
     "output_type": "display_data"
    },
    {
     "data": {
      "application/javascript": [
       "\n",
       "        if (window._pyforest_update_imports_cell) { window._pyforest_update_imports_cell('import numpy as np'); }\n",
       "    "
      ],
      "text/plain": [
       "<IPython.core.display.Javascript object>"
      ]
     },
     "metadata": {},
     "output_type": "display_data"
    },
    {
     "data": {
      "text/plain": [
       "PointbiserialrResult(correlation=0.8660254037844386, pvalue=0.011724811003954649)"
      ]
     },
     "execution_count": 77,
     "metadata": {},
     "output_type": "execute_result"
    }
   ],
   "source": [
    ">>> from scipy.stats import pointbiserialr\n",
    ">>> a = np.array([0, 0, 0, 1, 1, 1, 1])\n",
    ">>> b = np.arange(7)\n",
    ">>> pointbiserialr(a, b)"
   ]
  },
  {
   "cell_type": "code",
   "execution_count": null,
   "id": "ec43d4ae",
   "metadata": {},
   "outputs": [],
   "source": []
  }
 ],
 "metadata": {
  "kernelspec": {
   "display_name": "Python 3 (ipykernel)",
   "language": "python",
   "name": "python3"
  },
  "language_info": {
   "codemirror_mode": {
    "name": "ipython",
    "version": 3
   },
   "file_extension": ".py",
   "mimetype": "text/x-python",
   "name": "python",
   "nbconvert_exporter": "python",
   "pygments_lexer": "ipython3",
   "version": "3.11.4"
  }
 },
 "nbformat": 4,
 "nbformat_minor": 5
}
